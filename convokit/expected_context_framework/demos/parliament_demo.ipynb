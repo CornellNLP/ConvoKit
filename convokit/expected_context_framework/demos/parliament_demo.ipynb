{
 "cells": [
  {
   "cell_type": "markdown",
   "metadata": {},
   "source": [
    "# Applying the Expected Context Framework to Parliamentary Question Periods\n",
    "\n",
    "This notebook demonstrates an application of the Expected Context Framework to analyze question periods in the British House of Commons. We will principally use the framework to derive a typology of questions based on their rhetorical role; later in the notebook, we'll explore some other properties that the framework derives. \n",
    "\n",
    "An earlier version of the method is implemented via the `PromptTypes` module in ConvoKit, and is demoed [here](https://github.com/CornellNLP/Cornell-Conversational-Analysis-Toolkit/blob/master/examples/prompt-types/prompt-type-demo.ipynb). That version, and more details on the dataset, are found in [this paper](http://www.cs.cornell.edu/~cristian/Asking_too_much.html). Details about the Expected Context Framework, and the extended analyses presented below, can be found in [this dissertation](https://tisjune.github.io/research/dissertation)."
   ]
  },
  {
   "cell_type": "code",
   "execution_count": 1,
   "metadata": {
    "collapsed": true
   },
   "outputs": [],
   "source": [
    "import warnings\n",
    "warnings.filterwarnings('ignore')"
   ]
  },
  {
   "cell_type": "code",
   "execution_count": 2,
   "metadata": {
    "collapsed": true
   },
   "outputs": [],
   "source": [
    "import pandas as pd\n",
    "import numpy as np\n",
    "import math\n",
    "import os"
   ]
  },
  {
   "cell_type": "code",
   "execution_count": null,
   "metadata": {
    "collapsed": true
   },
   "outputs": [],
   "source": []
  },
  {
   "cell_type": "markdown",
   "metadata": {},
   "source": [
    "## 1. Loading and preprocessing the training data"
   ]
  },
  {
   "cell_type": "code",
   "execution_count": 3,
   "metadata": {
    "collapsed": true
   },
   "outputs": [],
   "source": [
    "from convokit import Corpus\n",
    "from convokit import download"
   ]
  },
  {
   "cell_type": "code",
   "execution_count": 4,
   "metadata": {
    "collapsed": true
   },
   "outputs": [],
   "source": [
    "# OPTION 1: DOWNLOAD CORPUS \n",
    "# UNCOMMENT THESE LINES TO DOWNLOAD CORPUS\n",
    "# DATA_DIR = '<YOUR DIRECTORY>'\n",
    "# PARL_CORPUS_PATH = download('parliament-corpus', data_dir=DATA_DIR)\n",
    "\n",
    "# OPTION 2: READ PREVIOUSLY-DOWNLOADED CORPUS FROM DISK\n",
    "# UNCOMMENT THIS LINE AND REPLACE WITH THE DIRECTORY WHERE THE TENNIS-CORPUS IS LOCATED\n",
    "# PARL_CORPUS_PATH = '<YOUR DIRECTORY>'"
   ]
  },
  {
   "cell_type": "code",
   "execution_count": 5,
   "metadata": {
    "collapsed": true
   },
   "outputs": [],
   "source": [
    "parl_corpus = Corpus(PARL_CORPUS_PATH)"
   ]
  },
  {
   "cell_type": "code",
   "execution_count": 6,
   "metadata": {},
   "outputs": [
    {
     "name": "stdout",
     "output_type": "stream",
     "text": [
      "Number of Speakers: 1978\n",
      "Number of Utterances: 433787\n",
      "Number of Conversations: 216894\n"
     ]
    }
   ],
   "source": [
    "parl_corpus.print_summary_stats()"
   ]
  },
  {
   "cell_type": "markdown",
   "metadata": {},
   "source": [
    "We represent questions and answers as dependency-parse arcs, which we load separately below. In order to capture rhetorical rather than topical information, we remove nouns; furthermore, we only examine the parts of a question that contain the actual question (i.e., we only extract features from sentences in questions that end in question-marks, and ignore the surrounding text). It's worth playing around with the feature representation; for instance, future work could examine output with nouns left in."
   ]
  },
  {
   "cell_type": "code",
   "execution_count": 7,
   "metadata": {
    "collapsed": true
   },
   "outputs": [],
   "source": [
    "parl_corpus.load_info('utterance',['arcs','q_arcs'])"
   ]
  },
  {
   "cell_type": "code",
   "execution_count": null,
   "metadata": {
    "collapsed": true
   },
   "outputs": [],
   "source": []
  },
  {
   "cell_type": "markdown",
   "metadata": {},
   "source": [
    "## 2. Applying the Expected Context Framework"
   ]
  },
  {
   "cell_type": "code",
   "execution_count": 8,
   "metadata": {
    "collapsed": true
   },
   "outputs": [],
   "source": [
    "from convokit.expected_context_framework import ColNormedTfidfTransformer, ExpectedContextModelTransformer"
   ]
  },
  {
   "cell_type": "markdown",
   "metadata": {},
   "source": [
    "To apply the Expected Context Framework, we start by converting the input utterance text to an input vector representation. Here, we represent utterances in a term-document matrix that's _normalized by columns_ (empirically, we found that this ensures that the representations derived by the framework aren't skewed by the relative frequency of utterances). We use the `ColNormedTfidfTransformer` transformer to do this.\n",
    "\n",
    "We derive different tf-idf representations (with different vocabularies and other parameters) for questions and answers, since the two are fairly linguistically different (in particular, we'd like to make sure we capture question-specific constructions). We make this partitioning by passing different selectors into the `fit` function calls below. \n",
    "\n",
    "Note that we set `max_df`, governing the maximum % of utterances in which a term can appear to be considered in our vocabulary, to be quite low, in order to omit very generic terms that we found resulted in noisier output. These parameters can be toggled with as well."
   ]
  },
  {
   "cell_type": "code",
   "execution_count": 9,
   "metadata": {},
   "outputs": [
    {
     "name": "stdout",
     "output_type": "stream",
     "text": [
      "1152\n"
     ]
    }
   ],
   "source": [
    "q_tfidf_obj = ColNormedTfidfTransformer(input_field='q_arcs', output_field='q_arc_tfidf',\n",
    "                                    min_df=100, max_df=.1, binary=False)\n",
    "q_tfidf_obj.fit(parl_corpus, selector=lambda x: x.meta['is_question'] and x.meta['pair_has_features'])\n",
    "print(len(q_tfidf_obj.get_vocabulary()))"
   ]
  },
  {
   "cell_type": "code",
   "execution_count": 10,
   "metadata": {},
   "outputs": [
    {
     "name": "stdout",
     "output_type": "stream",
     "text": [
      "2706\n"
     ]
    }
   ],
   "source": [
    "a_tfidf_obj = ColNormedTfidfTransformer(input_field='arcs', output_field='arc_tfidf',\n",
    "                                    min_df=100, max_df=.1, binary=False)\n",
    "a_tfidf_obj.fit(parl_corpus, selector=lambda x: x.meta['is_answer'] and x.meta['pair_has_features'])\n",
    "print(len(a_tfidf_obj.get_vocabulary()))"
   ]
  },
  {
   "cell_type": "code",
   "execution_count": 11,
   "metadata": {
    "collapsed": true
   },
   "outputs": [],
   "source": [
    "_ = q_tfidf_obj.transform(parl_corpus, selector=lambda x: x.meta['is_question'] and x.meta['pair_has_features'])\n",
    "_ = a_tfidf_obj.transform(parl_corpus, selector=lambda x: x.meta['is_answer'] and x.meta['pair_has_features'])"
   ]
  },
  {
   "cell_type": "code",
   "execution_count": null,
   "metadata": {
    "collapsed": true
   },
   "outputs": [],
   "source": []
  },
  {
   "cell_type": "markdown",
   "metadata": {},
   "source": [
    "We then initialize an Expected Context model.\n",
    "* We specify the conversational context we will derive our question representations from is the answers they get. IDs of answers for each question are stored in the `next_id` metadata field, which we pass into the constructor as `context_field='next_id'`\n",
    "* as input, the model will use tf-idf representations from `vect_field=first_tfidf` to represent comments, and `context_vect_field=second_tfidf` to represent context comments\n",
    "* we'll derive `n_svd_dims=25`-dimensional representations, and infer `n_clusters=8` clusters or question types. These parameters can also be toggled with -- more clusters and higher dimensions might result in finer, if potentially less interpretable, distinctions being made between questions.\n",
    "* `output_prefix='fw'` means that the various attributes and vectors that the transformer will eventually write to all have the prefix `fw` in their names."
   ]
  },
  {
   "cell_type": "code",
   "execution_count": 12,
   "metadata": {
    "collapsed": true
   },
   "outputs": [],
   "source": [
    "q_ec = ExpectedContextModelTransformer(\n",
    "    context_field='next_id', output_prefix='fw', \n",
    "    vect_field='q_arc_tfidf', context_vect_field='arc_tfidf',\n",
    "      n_svd_dims=25, n_clusters=8,\n",
    "      random_state=1000, cluster_random_state=1000)"
   ]
  },
  {
   "cell_type": "markdown",
   "metadata": {},
   "source": [
    "(the following call takes some time to run)"
   ]
  },
  {
   "cell_type": "code",
   "execution_count": 13,
   "metadata": {
    "collapsed": true
   },
   "outputs": [],
   "source": [
    "q_ec.fit(parl_corpus, selector=lambda x: x.meta['is_question'] and (x.meta.get('q_arc_tfidf__n_feats',0)>0),\n",
    "        context_selector=lambda x: x.meta['is_answer'] and (x.meta.get('arc_tfidf__n_feats',0)>0))"
   ]
  },
  {
   "cell_type": "code",
   "execution_count": null,
   "metadata": {
    "collapsed": true
   },
   "outputs": [],
   "source": []
  },
  {
   "cell_type": "markdown",
   "metadata": {},
   "source": [
    "### Inferred question types\n",
    "\n",
    "Below we print representative terms, questions, and answers/answer terms for the types we've inferred (note that the output is quite long):"
   ]
  },
  {
   "cell_type": "code",
   "execution_count": 14,
   "metadata": {},
   "outputs": [
    {
     "name": "stdout",
     "output_type": "stream",
     "text": [
      "CLUSTER 0 0\n",
      "---\n",
      "terms\n",
      "              cluster_dist\n",
      "index                     \n",
      "why>*             0.433792\n",
      "explain_*         0.450258\n",
      "explain_will      0.476159\n",
      "admit_*           0.520922\n",
      "how>does          0.545040\n",
      "admit_will        0.570400\n",
      "cost_*            0.601069\n",
      "why>does          0.612624\n",
      "explain_is        0.637547\n",
      "explain_to        0.642417\n",
      "\n",
      "context terms\n",
      "             cluster_dist\n",
      "index                    \n",
      "of>*             0.667550\n",
      "is>*             0.683172\n",
      "failed_*         0.689151\n",
      "expected_*       0.690912\n",
      "is_wrong         0.701407\n",
      "is_what          0.707268\n",
      "of_*             0.722738\n",
      "instead>*        0.726977\n",
      "apologise_*      0.728533\n",
      "three>*          0.732311\n",
      "\n",
      "\n",
      "utterances\n",
      "> 1988-10-31a.656.2 0.379 I assure the Minister that the Opposition understand the great difficulty of his task of providing housing in Wales . We consider it important for him to receive advice from as wide a range of sources as possible . Will he therefore explain why two gentlemen , Mr. John Allen and Colonel Geoffrey Inkin , have between them been vice chairmen of the Land Authority , chairman of the Land Authority , chairman of the Housing for Wales , chairman of Cwmbran development corporation , chairman of Cardiff Bay development corporation , and ex - vice chairman of Cwmbran district council ? Why does the Minister not obtain advice from all over Wales , rather than adopt such an incestuous relationship with failed Tory party candidates and Tory placemen ?\n",
      "> 1985-12-18a.297.3 0.392 Will the Minister explain why the British Council , of all overseas organisations , has been singled out for punitive cuts of 20 per cent . ? Has he presented to the Treasury the British Council 's claim for an extension of activities to Indonesia and China ? Why is his Department so publicly supportive of the British Council but will not fight for it in private ?\n",
      "> 1996-05-09a.351.4 0.400 When the Minister meets the president of the NFU , will he explain to him why the Government are seeking to deny the House of Commons the opportunity to express its views on a proper motion in the agriculture debate next week ? That debate will be of great importance to the dairy sector during the BSE crisis—the biggest crisis to hit our agriculture this century . Why is the Minister ignoring the recommendation of the Select Committee on European Legislation that there should be an early debate in the House rather than in European Standing Committee A ? What is he afraid of ?\n",
      "> 1984-04-05a.1102.4 0.401 How many letters drew attention to the fact that this Budget gives most to the people who already have most and does nothing for the people who have least ? When Ministers reply to the letters do they explain this as being inevitable , accidental or a direct result of Government decision ?\n",
      "> 2006-07-03c.521.1 0.401 After five years of attempts to destroy the poppy trade , this year 's harvest will be the highest ever and the price of heroin on the streets of Britain will be the lowest ever . The last Secretary of State for Defence said that the Helmand venture would end in three years without a shot being fired . What we are now seeing in the formerly peaceful area of Helmand is bitter resentment , not among the Taliban but among the ordinary people : murderous resentment of our troops . If we are sucked into a war in Afghanistan , it could deteriorate into a British Vietnam and provoke Afghan terrorism on the streets of Britain . When will we explain to our American friends and to our Government that it is not possible to win hearts and minds by using bombs and bullets ?\n",
      "> 1980-03-03a.25.1 0.402 When the hon Gentleman publicises his aid policy , will he explain how his policy on overseas students ' fees is connected with the general principles of aid policy which he announced recently ? Is he aware that if this policy continues many poor students who would , in the past , have come to Britain will end up receiving their higher education in Moscow and behind the Iron Curtain ?\n",
      "> 2010-03-25c.364.5 0.402 I thank the Minister for that reply . He knows that 2009 was another difficult year for many British farmers . Will he explain why Government procurement of British food actually fell during that year , and in particular , why NHS procurement dropped sharply ? Why are the Government failing to back British farmers and British food at this time ?\n",
      "> 1981-10-27a.718.5 0.403 Will the Prime Minister confirm that when the Salt II talks were concluded it was announced officially that there was nuclear parity between the Soviet Union and the United States of America ? Why do the Prime Minister and President Reagan now say that they must install Cruise and Pershing II missiles in Europe to bring about parity before nuclear disarmament talks can proceed ? Will she explain that to the House ?\n",
      "> 1998-11-05a.1007.0 0.406 On Tuesday , the Chancellor described his growth forecasts as \" prudent \" and \" cautious \" . Today , the Chief Secretary has said that they are \" realistic \" . Why , then , is it almost impossible today to find a single independent forecaster who agrees with them ? Will the Minister explain why the Chancellor is almost alone in upgrading his growth forecasts for the year after next ? Will he give an assurance that the Chancellor will not be forced to return to the House in a few months to admit that , once again , he got it wrong ?\n",
      "> 2010-11-01b.598.6 0.407 It is interesting that the Home Secretary chose not to answer the question on the spending review and the impact on police numbers , but we have heard from both the Home Secretary and the Policing Minister that thousands of police jobs are to be lost . The idea that that will not impact on front - line policing is one for the fairies . Can the Minister explain why the 20 % cut announced in direct Government funding for police forces is front - loaded ? In other words , of that 20 % , why are the deepest , most far - reaching cuts in the first two years - next year 6 % , in 2012 - 13 8 % , then 4 % and 4 % ? Why is the deepest , most far - reaching cut , 8 % , in the year when the country is facing one of it greatest security challenges , the Olympics ?\n",
      "\n",
      "context-utterances\n",
      ">> 1986-01-13a.764.7 0.515 The railway is not expected to make a profit . Therefore , the hon Gentleman is wrong to assume that this is a case of public investment designed to create private profit . I am sorry to have to say that it will create a running loss .\n",
      ">> 1989-05-08a.541.2 0.535 Of course . That is one of the reasons why the review was confined to England . As the hon Gentleman said , a five - year development strategy has been evolved by the Wales tourist board , and it is expected that it will trigger off about £ 73 million of private sector money and create 2,000 jobs . Therefore , there is every reason for us to continue as we are .\n",
      ">> 1988-07-25a.4.2 0.542 We clearly can not appoint a Regulator until the necessary legislation has passed through Parliament . Until the Regulator is appointed and the regulatory regime is in place , the Government will oversee , or , to use my hon Friend 's word , \" monitor \" , the electricity supply industry 's preparation for privatisation . In particular , we shall oversee the negotiations of the initial contracts between distribution boards and the CEGB 's successors . We shall not permit practices designed to stifle competition or to prevent distributors from making contracts with new sources of supply .\n",
      ">> 1997-11-03a.10.3 0.547 In the great history of brass necks in politics , I suppose that the hon Gentleman does not shine out , but savings in this year 's defence budget will have to be made to fill the holes in capability that his hon Friends left . In addition to that , we inherited a 3 per cent . efficiency savings target from the previous Government . The hon Gentleman was a special adviser to the previous Administration , so he knows a little about random , ad hoc , arbitrary cutting of defence budgets . Perhaps he should apologise to the House rather than boast .\n",
      ">> 1991-02-04a.9.0 0.552 With respect to my hon Friend , if further loans are made to somebody they are not expected to repay the second loan until the first has been completed . Of course , there is no question of interest being charged on any of the loans—they are all interest - free .\n",
      ">> 1999-07-12a.14.3 0.559 I have to point out that the Opposition supported the principles behind the Good Friday agreement , and it is , frankly , wrong for the hon Gentleman to condense both that issue and hunting . I am sure that he , like the rest of us , wants to see peace in Northern Ireland , and I should not have expected the hon Gentleman to raise this issue along with that of Northern Ireland .\n",
      ">> 1992-02-13a.1102.5 0.563 My hon Friend is right about the revenues from North sea oil taxation . This financial year , they are expected to be just over £ 1 billion—about one half of 1 per cent . of total tax revenues .\n",
      ">> 1991-05-08a.707.0 0.574 We got rid of the unfair principle underlying the old rating system , to which the hon Gentleman wants to return , whereby the occupants of more expensive properties—even if they had modest incomes—were expected to pay limitless sums towards local government . The hon Gentleman also wants sole occupants to pay as much as multiple - occupancy households . That was a major unfairness under the rates system , and we are not prepared to return to it . The hon Gentleman has been barking up the wrong tree for some time . We devised a system that appeals to the British public as being fair , because it dispenses with the extremes of the rating system . We prefer to base a system on 1991 values , whereas the hon Gentleman wants to use 1973 values .\n",
      ">> 2007-10-18b.946.6 0.577 To drive down rates of unemployment , it is important that we give our young people and young adults the education , training and access to opportunities that they need in a modern economy . I am surprised that the hon Gentleman did not welcome the fact that we have created 2.6 million extra jobs , and that levels of employment are the highest seen in the economy for many years . I would have expected him to at least acknowledge the Government 's success in terms of employment .\n",
      ">> 1982-04-07a.938.2 0.583 I must deny the hon Gentleman 's statement . Last year 's claim was £ 644 million . At 1982 prices , that amounts to £ 704 million . This year 's grant is £ 804 million . Therefore , that is £ 100 million more than was originally claimed last year .\n",
      "\n",
      "====\n",
      "\n",
      "CLUSTER 1 1\n",
      "---\n",
      "terms\n",
      "                cluster_dist\n",
      "index                       \n",
      "ensure_will         0.407149\n",
      "ensure_*            0.412689\n",
      "agree_will          0.484440\n",
      "undertake_will      0.525983\n",
      "take_*              0.535627\n",
      "undertake_*         0.536568\n",
      "may>*               0.543304\n",
      "take_will           0.566800\n",
      "press_may           0.571226\n",
      "press_*             0.593260\n",
      "\n",
      "context terms\n",
      "               cluster_dist\n",
      "index                      \n",
      "am_aware           0.581255\n",
      "am_always          0.593945\n",
      "am_sure            0.628000\n",
      "am_of              0.655275\n",
      "am_grateful        0.659158\n",
      "am_interested      0.666939\n",
      "am_not             0.679442\n",
      "try_*              0.684235\n",
      "confess_*          0.692829\n",
      "seek_*             0.719882\n",
      "\n",
      "\n",
      "utterances\n",
      "> 1999-07-13a.157.1 0.373 Could the Minister give an assurance that he will pay particular attention in his review to applications for sites within areas of outstanding natural beauty , including the Chiltern hills ? Will he take careful account of the reports that pressure is being exerted to overturn the decision of the local planning authority on Chisleys wood in my constituency ? That pressure is coming from Government Departments and the current tenant of Chequers . Will he ensure that he takes all steps within his Department to avoid any conflict of interest in determining the outcome ?\n",
      "> 2010-01-19c.159.8 0.377 I welcome the Secretary of State 's comments on Haiti , but may I ask whether we are using all our assets ? The Type 23 frigate , HMS Iron Duke , is in the Caribbean but not being utilised . Our military stabilisation and security teams , which performed so admirably after the Indonesian earthquake , remain to be dispatched to Haiti . Will he consider those assets ?\n",
      "> 2009-07-02c.466.1 0.386 What a pleasure it is to see you in the Chair , Mr. Speaker . May I ask my right hon Friend the Secretary of State to pass on my welcome to my two colleagues who have joined him on the Front Bench ? Food and food production are far too important to be left entirely to the advocacy of Members with rural constituencies . They are of importance to everyone . I noted my right hon Friend 's response to the hon Member for Lancaster and Wyre ( Mr. Wallace ) . Will he consider approaching the Office of Fair Trading and pressing it for its view on what is competitive in the dairy market ? That would allow it to take a more pragmatic approach when mergers and changes happen in the co - operative sector .\n",
      "> 2001-06-26.502.0 0.387 I am disappointed that it is not the Secretary of State at the Dispatch Box . Labour 's NHS plan states that the Government are in favour of a new pay system for the NHS , and figures published today detail the pay received by the service 's humble and self - effacing nurses . They show that general nurses get about two thirds of what is paid for agency work , while a theatre - registered general nurse gets paid about half the rate for an agency job . Is it the Government 's plan to bring the pay of people who work for the national health service up to the levels available outside , so that they will not leave the service and work elsewhere ? If so , will he ensure that all those working for the NHS come within the pay review body structure ? Above all , will he ensure that ambulance personnel receive the sort of pay that people who save lives every day deserve ?\n",
      "> 2000-11-30a.1123.5 0.387 I welcome Lord Sainsbury 's report , but what steps will the Government take specifically to assist industrial biotechnology ? Bearing in mind the work that my right hon Friend the Secretary of State has been doing along with others in the north - west , will my hon Friend consider carefully the fantastic successes in industrial biotechnology in the north west and urge the Government to inject more support into the projects going to our academic institutions there , thus helping our industrial partners ?\n",
      "> 2014-06-12c.677.0 0.389 I am grateful to the Secretary of State for that reply . Will he ensure that , in addition to that scientific examination , he also meets with the Welsh Assembly Minister who is dealing with this matter in Wales—not too far from his own constituency—where an alternative method of vaccination is being undertaken ? Will the Secretary of State agree to evaluate that as part of the process as well ?\n",
      "> 2009-07-01b.286.6 0.390 May I press the new Minister for a better answer to the question put by my hon Friend the Member for Salisbury ( Robert Key ) ? Church groups , scout groups and sports clubs face crippling hikes in their water bills as a result of the proposed changes . Three months ago , I asked the previous Minister whether he would consider a moratorium , at least until an impact assessment was carried out . He said that he would speak to colleagues across Government , but we have heard nothing and time is running out . In welcoming the members of the new team , may I ask them what their view is ? Will they consider a moratorium or the idea of a special social tariff , or will they continue the policy of doing nothing ?\n",
      "> 1979-06-26a.262.6 0.395 Will the hon Lady agree that the changes to be made in pensions will only allow prospectively for the miscalculation , and not for the miscalculation in the current year ? Is she aware that in the current year pensioners are losing out by the amount that I quoted in my question ? Will she take the opportunity of the Bill dealing with the Christmas bonus to introduce a summer bonus as well to make good that shortfall ?\n",
      "> 2001-06-26.501.1 0.397 The strength of primary care trusts lies in the way they can respond to and meet local needs . When my right hon Friend considers delegation , will he ensure that the allocation of money to the trusts is speeded up ? Also , in the modernisation process that is taking place in the national health service , will he ensure that we do not end up with larger primary care trusts than those that have just been set up ? The trust in my constituency is doing a splendid job and I want it to continue to do so .\n",
      "> 2007-07-11b.1458.1 0.397 I warmly welcome the Prime Minister 's statement , which contrasted with the churlish Punch - and - Judy effort from the Leader of the Opposition . I suspect that parliamentarians throughout the House will welcome my right hon Friend 's comments today . Will he examine the relationship between Parliament and the Executive ? Government and Parliament are stronger in partnership than when one dominates the other . In that context , will he ensure that all Bills are introduced in draft , so that the House can discuss them properly ? Will he also ensure the fullest pre - legislative scrutiny ? If we have that , we will end up with better law and better government .\n",
      "\n",
      "context-utterances\n",
      ">> 1980-04-15a.989.4 0.522 I am aware of it . I am glad to say that I had an opportunity to talk to Earl Mountbatten upon the subject of that speech , which needs to be read in full .\n",
      ">> 1982-05-19a.350.3 0.528 Many hundreds of thousands of tenants have successfully purchased their homes over the years and I am not aware of any statistical basis for suggesting that there is a greater number of defaulters among purchasers from local authorities as opposed to the majority of owner occupiers .\n",
      ">> 1983-01-25a.772.5 0.532 I am well aware of the problems of that school . The papers on that subject arrived on my desk some time ago . As my hon Friend drew the attention of the House and the whole country to the matter at the time , I am sure that from now on everyone will bear the matter even more in mind .\n",
      ">> 1995-01-11a.141.1 0.533 I am grateful to my hon Friend for those remarks . I am aware that the Director General of Fair Trading has received several representations in the period since the merger was announced , many of which were along the lines that have been outlined by my hon Friend , drawing on the great financial tradition that exists in Yorkshire , Leeds and Halifax .\n",
      ">> 1997-06-02a.14.0 0.533 I am grateful for the hon Gentleman 's comments . I am aware of his excellent work as a member of the Select Committee and of the Committee 's invaluable reports on this topic . I am also aware of the problems caused by the complexity of the formula , which I assure him will be considered in great detail in our review of the CSA.\n",
      ">> 1986-03-25a.774.0 0.540 I am not aware of the position to which my hon Friend refers . My superficial reaction is that that does not make sense , because those restrictions do not apply at present , but they will apply some time in future .\n",
      ">> 1983-11-23a.306.8 0.546 I am aware that the contracting out of services in that borough will save the ratepayers about £ 10 million over the next few years . I am also aware that one of the strengths of contracting out is that if there is unsatisfactory performance , local authorities can find a new contractor .\n",
      ">> 1990-07-09a.17.1 0.551 We are well aware of the difficulties that Sendero Luminoso and other terrorists make for the Government in that country . I am not aware of specific difficulties in getting the aid through , but the new Government—under president - elect Fujimori—have a great deal to do , including sorting out a debt of $ 1.5 billion : those are substantial arrears .\n",
      ">> 1979-06-18a.902.4 0.551 I am aware of that important point , and I am grateful to the hon Lady for raising it . I hope that she will put forward further constructive suggestions on the arts .\n",
      ">> 1986-02-06a.421.4 0.554 I am aware that the Commissioner for Agriculture and Fisheries has made proposals for extra money to deal with the existing surpluses . I suspect that many members of the Council of Ministers will feel that it is not helpful to find a lot more money to deal with the surplus stores in Europe if they are just going to build up again within the next year or two .\n",
      "\n",
      "====\n",
      "\n",
      "CLUSTER 2 2\n",
      "---\n",
      "terms\n",
      "             cluster_dist\n",
      "index                    \n",
      "agree_is         0.313285\n",
      "agree_be         0.326589\n",
      "agree_have       0.371677\n",
      "agree_are        0.392267\n",
      "agree_with       0.417120\n",
      "agree_also       0.431296\n",
      "agree_need       0.459429\n",
      "be_agree         0.505595\n",
      "agree_given      0.518590\n",
      "is_agree         0.523877\n",
      "\n",
      "context terms\n",
      "                      cluster_dist\n",
      "index                             \n",
      "agree_absolutely          0.440895\n",
      "agree_certainly           0.446786\n",
      "agree_will                0.448477\n",
      "agree_is                  0.450768\n",
      "agree_be                  0.457787\n",
      "agree_strongly            0.465542\n",
      "agree_however             0.466209\n",
      "agree_wholeheartedly      0.466694\n",
      "agree_completely          0.467850\n",
      "agree_*                   0.471350\n",
      "\n",
      "\n",
      "utterances\n",
      "> 1992-07-02a.953.5 0.277 Does the Minister agree that in the sugar beet sector , as in others , the proposed changes in inheritance tax , which have been discussed in Standing Committee , are likely to have some contradictory effects ? I welcome the changes in inheritance tax because the industry obviously needs them , but does the Minister agree that over a range of agricultural changes introduced as a result of the common agricultural policy , it will be necessary to avoid preventing the achievement of major environmental access and recreational agreements ? The good work that the Minister has done in the past could be undone . Does the Minister agree that some steps will have to be taken to mitigate those effects ?\n",
      "> 1997-01-27a.4.0 0.279 Does my right hon Friend agree that last week 's statement about a replacement royal yacht has been widely welcomed ? Does he agree also that , ideally , Britannia should become the centrepiece of the millennium project in Portsmouth harbour , spanning Gosport and Portsmouth ? I am sure that that idea would prove very popular . As to plans for a new yacht , does my right hon Friend share my distaste for the Opposition 's tactics ? They had every opportunity to express their grudging and negative attitude during the past two years when the project was under discussion .\n",
      "> 2002-06-26.874.0 0.285 Does my right hon Friend share my view that the greatest challenge facing the international community is fighting global poverty , when 1 billion people exist on less than $ 1 a day ? Is not the war on poverty the acid test of the G8 summit ? Does The right hon Gentleman also agree that in the future the culmination of success must be enhanced debt relief and fair aid and trade ? What we need is a new Marshall plan for Africa .\n",
      "> 2003-03-10.15.6 0.287 I thank the hon Gentleman for mentioning that . Does he share the concern expressed to me by a number of my local clergy that they may be forced to employ people who are hostile to the aims of their churches ? Does he also agree that that could be a problem for all faiths , not just for the Church of England ?\n",
      "> 1989-12-13a.985.6 0.294 Does the Minister agree that there is a good possibility that the Commission will insist on the implementation of both directives at an earlier date than many of the schemes that have been put before the Commission suggest that the Government are prepared to accept ? Given that on the bathing water directive alone , the Government intend that £ 760 million worth of work will be done after 1993 , does he agree that if the Commission insists on 1993 as the date , there will be a big shock for those people who are making short - term gains from the water privatisation ?\n",
      "> 2007-07-16b.8.0 0.295 As the Secretary of State knows , the Defence Committee was in Iraq last week , and we were bowled over by the courage and enthusiasm of the men and women from the UK whom we met . Does he agree that there is a judgment to be made about the viability of our force there ? Given what is happening there at the moment , does he agree that we are now close to the irreducible minimum ?\n",
      "> 2008-05-20b.148.1 0.305 I welcome the Government 's commitment to keeping a property - based council tax at the heart of local government finance , but does the Secretary of State agree that it is important that local councils should be able to raise finance from a range of sources other than a property - based council tax ? Does she agree that it is particularly important that a higher proportion of their revenue is raised locally if they are to be accountable to the local electorate ?\n",
      "> 1991-05-16a.426.1 0.306 Bearing in mind the adverse criticism directed so often in the past against English football supporters , does my right hon Friend share my pleasure not only in Manchester United 's excellent result last night against Barcelona but in the behaviour of its supporters ? Does he agree with me that , good though the quality of the play was , it is likely to be bettered on Sunday in the third division play - off by Bury football club against Bolton Wanderers ?\n",
      "> 1999-07-21a.1178.4 0.307 Does the right hon Gentleman share my view that the United Kingdom should subscribe to the theory that the Commission should do less but do what it does better ? Does he also agree that Neil Kinnock , albeit a charming man , is not the right candidate to reform the EU given that he could not even reform the state aid regime for airlines throughout the EU as Transport Commissioner ?\n",
      "> 1987-03-30a.758.9 0.307 I welcome the steps that my right hon Friend has taken , but does he agree that the secondment figures are lamentably low and that an interchange of staff is immensely to the benefit not only of civil servants but of business men ? Will my right hon Friend and his colleagues exert their political will — that is what is required — to ensure that there is more coming and going between industry and the Civil Service ?\n",
      "\n",
      "context-utterances\n",
      ">> 1981-11-30a.17.10 0.304 Yes . It is extremely important . I agree that there is an immense spin - off for British industry from the high standard of work of British craftsmen . This can have a great effect on the products of British industry . It is important that there should be more outlets where craftsmen can sell their works . The new gallery in the West End of London is a tremendously important site and will have a considerable effect . I shall want to watch the situation closely .\n",
      ">> 2000-10-31a.596.0 0.310 I agree and , of course , an environmental assessment will have to be made alongside the other matters to be considered .\n",
      ">> 1985-12-05a.412.8 0.311 The hon Gentleman seems to suppose that I send people to prison . I do not send people to prison . The courts send people to prison , having listened to the evidence . For serious cases it is right that there should be serious sentences , which often means custodial sentences . I agree with the hon Gentleman to the extent that for the less serious cases the courts should look carefully at alternatives before awarding custodial sentences .\n",
      ">> 2008-01-17b.1071.1 0.314 With great respect to the right hon Gentleman , the least developed countries already have access to the EU market , including the UK market , under the \" Everything but Arms \" initiative . I agree that we need to see progress in the Doha development round . We expect to see revised negotiating drafts of documents , which could potentially lead to ministerial discussions to close the round towards the end of January , or perhaps at the beginning of February . All sides will need to give ground and to show additional flexibility . I hope that the key players—the G4 members and others—will help to ensure that progress is made .\n",
      ">> 2012-07-03c.758.2 0.314 I congratulate my hon Friend ’s constituent on his birthday yesterday . The argument for retaining a retirement age of 70 for judges of all kinds—I agree that this is a mere stripling for most occupations—is that , unlike me and most other people in their 70s , they can not be removed from office : they are there for life , and can be removed only for quite serious bad behaviour . If we let everybody go on until whatever age , we will get into difficulties and politicians or somebody else will have to start appraising their performance , as they can not be dismissed peremptorily . That is what has made us hold back from raising the compulsory retirement age for magistrates and judges at every level .\n",
      ">> 2008-12-11b.660.1 0.314 My hon Friend is an expert in these areas , and I agree that the integrated nature of the automotive supply chain brings real challenges for suppliers when the automotive manufacturers decide to take extended breaks . We are acutely aware of the pressures that the situation is causing a number of supply chain companies . As he is aware , the UK has about 200,000 jobs in the supply chain alone , about 500,000 in retail and about 180,000 in direct automotive production . This is a vast and important sector of the UK economy , and we need to examine what more we can do to support companies that are going through very difficult times at the moment .\n",
      ">> 1992-10-19a.203.2 0.320 I agree ; but it is extremely important , in a subject about which people hold strong , sincere and deep views , that we get the question of reforming the divorce law right rather than simply achieve speed . It is inevitable that , during the discussions , there will be a great deal of deliberation about mediation , particularly if we are to depart from the traditional adversarial role in divorce matters and from the concept of fault and blame .\n",
      ">> 2016-01-27d.263.0 0.321 I absolutely agree with my hon Friend . Of course , we hold our service personnel to the highest standards , and it is right that we do , but it is quite clear that there is now an industry trying to profit from spurious claims that are lodged against our brave servicemen and women . I am determined to do everything we can to close that bogus industry down . We should start by making it clear that we will take action against any legal firm that we find to have abused the system to pursue fabricated claims . That is absolutely not acceptable .\n",
      ">> 2007-06-06b.252.5 0.322 Of course , local decision making is important , but I hope that the hon Gentleman agrees that if we are to deal with housing issues , we have to expand the availability of housing because of the expansion in the number of households . I agree that a balance needs to be struck , but that must include proposals that allow us to make sure that our people , particularly our younger people , have houses to buy .\n",
      ">> 1996-12-04a.1033.2 0.322 I agree with the statistics that my hon Friend mentioned . He is right to emphasise the importance of promoting the multilateral free trade agenda . Free trading blocs can have their place , so long as they are not exclusive and do not confine their benefits to their members . We want the free trade agenda to be spread widely . If a bloc such as my hon Friend describes contributes to that , it can form an acceptable part of the multilateral agenda . But the globalisation of trade liberalisation is our main objective .\n",
      "\n",
      "====\n",
      "\n",
      "CLUSTER 3 3\n",
      "---\n",
      "terms\n",
      "           cluster_dist\n",
      "index                  \n",
      "do_what        0.494729\n",
      "do_can         0.536450\n",
      "do_help        0.539715\n",
      "take_what      0.550735\n",
      "work_with      0.554005\n",
      "work_will      0.555667\n",
      "doing_are      0.573649\n",
      "work_*         0.574394\n",
      "doing_*        0.596905\n",
      "do_*           0.598807\n",
      "\n",
      "context terms\n",
      "                cluster_dist\n",
      "index                       \n",
      "raises_*            0.636251\n",
      "am_pleased          0.673346\n",
      "with_*              0.695410\n",
      "makes_*             0.700331\n",
      "through>*           0.728352\n",
      "are_keen            0.743943\n",
      "are_determined      0.753761\n",
      "had_recently        0.777395\n",
      "thank_for           0.784145\n",
      "are_yet             0.784944\n",
      "\n",
      "\n",
      "utterances\n",
      "> 2012-03-01a.410.1 0.393 In Kent , a lot of our water comes from an underground chalk aquifer . What is its long - term sustainability , and what can the public and local businesses do to help ?\n",
      "> 2011-03-31d.515.6 0.396 I am very lucky to have many successful manufacturing businesses in my constituency , and I am always one to talk up our manufacturing expertise , whether it is David Brown Engineering in Lockwood , Thornton and Ross pharmaceuticals in Linthwaite , Equi - Trek horseboxes in Meltham or any one of many others . However , some of my smaller businesses are still reporting problems with bank lending . How aware is the ministerial team of this problem , and what can we do to help such businesses to achieve multimillion pound turnovers ?\n",
      "> 2013-05-15b.626.6 0.407 As well as reducing corporation tax , what else can the Government do to help small businesses in Wales ?\n",
      "> 2008-11-18b.115.2 0.408 Can the Minister do more as a matter of urgency to help local authorities and even housing associations to buy up unsaleable flats and other developments for social housing ? That would help the economy , the housing market , which needs a lot of help at the moment , and our constituents who need social housing .\n",
      "> 2011-01-10b.7.0 0.412 I thank the Minister for her response and commend the work she is doing in this field . Voluntary organisations in my borough of Bexley are very keen to assist the disabled into work and many are already doing so . What more can the Government do to help utilise the talent and skills of disabled people in the work force ?\n",
      "> 2014-04-03a.993.6 0.416 My constituent , Mr Davis , has late onset spina bifida . He needs a wide range of electrical equipment just to live his daily life , including an electric bed and wheelchair , and machines to keep his legs from swelling . Because Mr Davis has an occupational pension and is not in receipt of means - tested benefit , he can not get any of EDF ’s energy - efficient schemes or special tariffs . As a result , he pays £ 250 a month for electricity . After this week ’s Work and Pensions Committee report criticising the Government for targeting disabled people , what can the Minister do to help Mr Davis ?\n",
      "> 2007-10-09b.158.2 0.417 To follow up on the points that colleagues have made about the importance of the economy of Palestine , does my hon Friend recognise that the Balls and Cunliffe report made it clear that there is high and growing unemployment among the Palestinian people and that that is increasingly speedily making the situation worse ? What can the British Government do to help to tackle that crisis ?\n",
      "> 2005-11-01b.720.0 0.419 I know that my right hon Friend has concerns about Zimbabwe , but the big issue is what role the African nations can play . What role is our new high commissioner playing in trying to persuade South Africa to use some sanctions , which is what it will take if we are to break the evil regime of Mugabe ? What else can we do , and what role is our high commission playing ?\n",
      "> 2007-03-27d.1296.6 0.420 My constituents want to know that they have a Government who are on their side , helping people who are working hard on limited incomes to get on in life . What more can the Government do to help people earning perhaps £ 10,000 or £ 12,000 a year who are keen to start a family , but want to wait until they have got on the housing ladder and can buy or rent a home of their own ?\n",
      "> 2010-10-19a.792.3 0.423 Are my right hon and hon Friends aware of the devastating consequences , particularly for victims of domestic violence , of the decision taken by the Legal Services Commission to halve the number of legal aid providers ? In the whole of my constituency of South Northamptonshire we have only one small firm specialising in domestic violence legal aid cases , yet it has just been told that its licence will be revoked . Can Ministers do anything to help my constituents ?\n",
      "\n",
      "context-utterances\n",
      ">> 2007-06-26b.151.7 0.596 My hon Friend raises an important point . The NHS keeps detailed records on every patient who is subjected to compulsory treatment of whatever kind , but she is absolutely right to say that , as we give patients access to psychological therapies often at a much earlier stage in the development of mental health problems , it is likely—this would be of great benefit to those patients and their families—that we can avoid the need for more acute treatment , and particularly compulsory treatment , further down the line .\n",
      ">> 1988-11-29a.561.4 0.628 My hon Friend is right . We are concerned about what should be happening in NATO. Through a United Kingdom initiative , NATO has embarked on a study of both supply and demand , which we hope will enable us to assess the requirement accurately .\n",
      ">> 2008-01-24b.1614.4 0.628 My hon Friend should be assured that the interim Poynter review has already identified some of those issues . The management of HMRC are working to establish data security while the review is ongoing . We await the final findings , which will deal with those issues in more detail . I can assure my hon Friend that I shall take on board all his points , which are fair , and that we will make changes to structures and systems in order to ensure that the highest standards can be guaranteed in future .\n"
     ]
    },
    {
     "name": "stdout",
     "output_type": "stream",
     "text": [
      ">> 2000-11-23a.424.0 0.630 I thank my hon Friend for his question . He is a staunch advocate of the new deal in his constituency , which has helped employment to rise and unemployment to fall there . We are deeply concerned about the fact that in his and surrounding constituencies , about 6,000 people are facing redundancy . Through the rapid response unit and the new deal for 50-plus , we have to send the message that if people lose their job at 50 , their working life is not over .\n",
      ">> 2010-11-11b.419.5 0.641 The hon Gentleman makes some very good points . I am pleased to tell him that the Minister of State , Department of Energy and Climate Change , my hon Friend the Member for Wealden ( Charles Hendry ) , had an excellent meeting with members of the Northern Irish Government yesterday . We are determined that the whole United Kingdom should be able to share the benefits and the investment involved in the transition to a green , low - carbon economy .\n",
      ">> 2009-11-24e.385.2 0.646 My hon Friend raises with me an issue that I am happy to discuss with her at a later date .\n",
      ">> 2006-06-05b.11.1 0.650 The hon Gentleman raises an important point . We estimate that , when switchover is complete , 98.5 per cent . of the country will be able to receive digital television services . As he will know , that is roughly comparable with the number of people who can receive analogue services and we expect the 1.5 per cent . who can not broadly to map each other , although it will not be exactly the same . We will need to address the issue of those who will not be able to receive pictures in 2012 . We are conscious of that and working on it now . It is a significant number of people . It is worth bearing it in mind , though , that 1.5 per cent . of the country does not receive television pictures . We need to improve on that and undoubtedly technology will help us in that process . We are determined to work with the hon Gentleman and other hon Members who may have constituents who do not receive analogue pictures so that we can bring everything we know and the technology to bear to help every c\n",
      ">> 2002-03-21.431.0 0.651 My hon Friend makes an important point . My hon Friend the Minister of State , Cabinet Office , and I have been organising meetings and seminars around the country that are designed to encourage women from a variety of backgrounds to think about possible public appointments for which their skills in the family , in their local neighbourhoods and in voluntary organisations have made them well fitted . I am pleased to say that that programme of seminars has been such a success in attracting women to apply for public appointments that I shall do three more meetings targeted at women from the black and Asian community , women from business and women from trade unions .\n",
      ">> 1998-03-05a.1189.0 0.653 I know that the Home Office will look at the Law Commission report and take it into consideration in its work . My hon Friend can be assured that the Government are determined to combat bribery , wherever and whenever it may occur . The United Kingdom 's anti - corruption legislation is among the most comprehensive in the world and we are working within the Organisation for Economic Co - operation and Development and the European Union to ensure that our major overseas competitors enact similar legislation . On the other matter raised by my hon Friend , it is for the company concerned to decide whom it wishes to employ .\n",
      ">> 2012-01-17b.611.2 0.656 My hon Friend is quite right to raise this matter . We have highlighted to our posts around the world the key commitments in the human trafficking strategy that they can help to deliver . Those include engaging with foreign Governments to ensure that common challenges are identified , and encouraging them to work with us to address those challenges . We have asked each of our posts to identify a single point of contact on human trafficking , and we are working in consultation with colleagues across government and with non - governmental organisations to bring together all the work that is already going on , including on the specific local challenges in each country . He can therefore be assured that our posts across the world are working hard on this .\n",
      "\n",
      "====\n",
      "\n",
      "CLUSTER 4 4\n",
      "---\n",
      "terms\n",
      "              cluster_dist\n",
      "index                     \n",
      "is_not            0.340599\n",
      "think_*           0.440641\n",
      "think_does        0.480421\n",
      "does>not          0.480930\n",
      "believe_*         0.511179\n",
      "believe_does      0.528576\n",
      "think_not         0.572628\n",
      "has>not           0.582164\n",
      "would>not         0.605298\n",
      "should>*          0.608125\n",
      "\n",
      "context terms\n",
      "                  cluster_dist\n",
      "index                         \n",
      "is_for                0.520541\n",
      "is_therefore          0.525952\n",
      "is_extraordinary      0.533678\n",
      "therefore>*           0.562317\n",
      "is_surely             0.565929\n",
      "is_not                0.576556\n",
      "is_on                 0.592949\n",
      "is_in                 0.594222\n",
      "has_*                 0.610643\n",
      "suppose_*             0.621963\n",
      "\n",
      "\n",
      "utterances\n",
      "> 1984-06-11a.633.4 0.316 Is the Leader of the House aware that May day was instituted 96 years ago to celebrate the first international strike for the eight - hour day ? Does not the right hon Gentleman think it ironic that , 96 years after that first real May day , the average number of working hours in industry in Britain is still 42·6 ? Will he transmit that to the Select Committee ?\n",
      "> 1984-11-14a.665.13 0.325 Does the Minister agree that the case of the British Government—and , indeed , of the British people — would be a good deal stronger if social and economic conditions in the islands were nearer the norms of 1984 than those of 1784 ? Is it not a fact that the principal proprietor and factor in the Falkland Islands is one company , whose profits go to absentee shareholders ? Is it not also a fact that Lord Shackleton some years ago reported that the land should be made available to the Falkland Islanders ? Why are the Government not pursuing that aim more vigorously ?\n",
      "> 1993-05-05a.174.1 0.326 The hon Member for Billericay ( Mrs. Gorman ) could learn more from her area . I have a letter in front of me from a demoralised head teacher in that area , who is complaining about the Government 's interference , is weary of being blamed for everything , including the moral decline of society . He states unequivocally that the people responsible are those who have been in power for the past 14 years . Does not the Minister think that the hon Lady could learn from Scottish education , not least over testing , where changes to the national curriculum in England and Wales followed a successful campaign by parents and teachers in Scotland ? Does he agree that comprehensive education has resulted in increased standards and qualifications in Scotland and that such a system , which does not reject 80 per cent . of our young people at a tender age , is good for the aspirations and talents of young people and for Scottish society ? Does not the hon Lady have a lot to learn from Scottish socie\n",
      "> 1990-04-19a.1550.0 0.329 Will the Prime Minister confirm that in addition to financial matters , she and the Foreign Secretary will discuss the Belgian proposals for European union with other Ministers from the Common Market when they meet in Dublin over the next two weekends ? Does she agree that these issues render the prerogative an increasingly outdated idea , and accordingly , will she tell Mr. Haughey when she meets him tomorrow that she is not prepared to give any view on , still less any commitment to , that paper unless it has been debated in this House ? Does not she think that anything less than that represents an unacceptable democratic deficit in the United Kingdom ?\n",
      "> 2009-01-13c.117.3 0.329 Does the hon Gentleman not think it ironic that the present Israeli Government were elected on a programme of withdrawing settlements and negotiating a twin - state arrangement independently , and have shown evidence of that purpose by withdrawing from Gaza and removing their own settlements from the area ? Are not the present circumstances therefore primarily the responsibility of Hamas , which failed to take up the offers made by the Israeli Government , but continued its programme of rocketing civilians ?\n",
      "> 1990-04-18a.1407.8 0.333 Does not that welcome answer show that the standards and quality of British manufacturing are very high ? Is not that why we sell so well to countries such as Japan ? Is it true that the British kitemark on British products is taken as a symbol of that quality ? Would not those who are trying to export to Japan be well advised to have the kitemark on their products because people recognise it throughout the world ?\n",
      "> 2000-03-09a.1175.3 0.338 Does the Chief Secretary recall that his former hon Friend , the hon Member for Brent , East ( Mr. Livingstone ) , said : We have n't increased the top rate of tax or the standard rate of tax , but we have increased a lot of other taxes … we have done it with all these stealth taxes . I just think it would have been better to have honestly told people beforehand ? Is not the truth of the matter that the Prime Minister told the British people at the general election that he would not increase taxes ? He has increased taxes and every person in this Chamber is paying at least £ 1,500 more in tax than they were at the last general election . His candidate is 55 points behind the independent candidate for mayor because people are fed up with these lies ; they want some truth .\n",
      "> 1982-12-01a.252.6 0.339 Is my right hon Friend aware that previous Governments allowed British Rail to finance by leasing using private sector finance—for example , for its locomotive programme ? Is it not time that both British Rail and the Government adopted a far more determined approach to the harnessing of private sector resources and initiatives in developing British Rail investment ?\n",
      "> 1990-11-21a.286.3 0.340 Is not there something sickening about a Minister who ensures that his own family are properly housed but shows such callous disregard for the misery caused by homelessness and by dampness and overcrowding in housing ? Those problems are a direct result of the cuts that the Government have imposed on housing in the past 10 years . Is not it true that total expenditure by central Government for local government housing has been cut by more than 50 per cent ? Is not it also true that the Minister voted for his right hon Friend the Member for Henley ( Mr. Heseltine ) ? If so , does he agree with his right hon Friend that a much more interventionist policy should be pursued in terms of housing ?\n",
      "> 1981-05-20a.280.3 0.341 As the Council does not keep a record of the time spent discussing certain subjects , does the Lord Privy Seal agree that the time spent by the House on receiving statements from Ministers returning from Council meetings has been reduced in recent weeks , and months ? Does not he think that the previous practice should be restored ?\n",
      "\n",
      "context-utterances\n",
      ">> 2002-03-12.754.7 0.413 Surely the important point is that the policy review , as reported in the press , reiterated the United States ' commitment to a \" no first use \" policy . It also indicated that America was seeking to reduce the number of its nuclear missiles from 6,000 to 2,000 . The message that my hon Friend and other Members surely should convey is that we want North Korea to engage with , to talk to and to open up to the rest of the world . That is the view of South Korea , Japan and China , and , I believe , of the United States—and certainly of Her Majesty 's Government .\n",
      ">> 1981-06-15a.724.0 0.444 With respect to my hon Friend , that is not so . The Commission believes that it is in everyone 's interests that the final report of the consultants , which has already been delayed for a considerable period , and which will take twice as long to be presented as was expected , should be expedited .\n",
      ">> 1989-01-17a.140.7 0.448 My right hon Friend the Secretary of State said just now that 76 per cent . of the country 's YTS leavers go into jobs or further education . That percentage is exactly the same in Stevenage , although , in Stevenage a slightly higher proportion of YTS leavers go into jobs and a slightly lower proportion into further education .\n",
      ">> 1999-07-15a.548.0 0.451 I wonder where the hon Gentleman has been . Of course there is a challenge in global competitiveness , but where was he when we boosted the science , engineering and technology budget by £ 1.4 billion to underpin basic research ? We have £ 25 million for the science enterprise challenge and £ 20 million for the reach out fund , as well as funds for the SMART schemes and the foresight - link awards to foster engineering . We believe that we will address the shortfall not by doing things for industry , but by putting in schemes to underpin the innovative approach to competitiveness to ensure that our engineers make world - class products and can win their way forward .\n",
      ">> 1994-12-14a.922.1 0.462 But that is to argue that existing frontiers can be disregarded and that international law can be flouted by armed aggression . If one were to follow what the right hon Gentleman has suggested , one would begin to see the entirety of the former Soviet Union , and probably much of central and eastern Europe , dissolve into conflict . That is not something that he or I want , and it is important to go on asserting that existing frontiers must be respected unless altered with the genuine consent of all relevant parties .\n",
      ">> 2015-03-10a.147.7 0.464 It is extraordinary . I wonder if the hon Gentleman would like to admit that every Labour Government when they leave office leave unemployment higher than when they came in . That is the truth of the matter . The Government are sorting out the mess left by the Labour Government , which was the worst financial crisis in British peacetime .\n",
      ">> 1992-06-08a.3.5 0.469 The hon Gentleman would have been frank with the House had he informed it that the inspector in that case overturned the decision and made the award that the hon Gentleman wanted . That shows that our system for reviewing such cases works . The hon Gentleman would have far more cause to complain if inspectors invariably upheld original decisions rather than put them right—as in this case .\n",
      ">> 2007-02-20b.142.1 0.470 This is a very easy assumption to make , but if we are to take on what President Karzai has himself described as the single most corrosive element in Afghan society—the corruption , killing and subjugation generated by the narcotics trade—this issue has to be dealt with . It is not a simple fight involving just hearts and minds . For example , more than 3,000 men have been lost on the eastern border of Iran combating drug convoys armed with anti - aircraft missiles that are bringing heroin to Europe . This industry generates huge sums of money that is used in the most nefarious ways , so it has to be tackled in every way open to us , including through military activity .\n",
      ">> 1987-12-07a.11.0 0.470 When the right hon Gentleman was a senior member of the Labour Government , the Health Service stumbled to its knees . Does he really call it a fake figure , when nurses ' pay fell by over 21 per cent . when he was a Minister ? Is that the way to run the National Health Service ?\n",
      ">> 1996-12-18a.938.5 0.472 I am surprised at the hon Gentleman . In view of the nonsense that we have just heard from the Opposition Front Bench , surely he is not asking us to go ahead with stock transfers that do not give value for money . That was the basis on which the other bidders were ruled out , and each of them has had the chance to rebid . Does the hon Gentleman genuinely think that we should go to the National Audit Office and say that we will accept any bid , regardless of value for money ? The Paragon housing association has no greater access to information than any of the other bidders , as the hon Gentleman knows full well .\n",
      "\n",
      "====\n",
      "\n",
      "CLUSTER 5 5\n",
      "---\n",
      "terms\n",
      "             cluster_dist\n",
      "index                    \n",
      "give_*           0.456398\n",
      "see_*            0.538979\n",
      "give_can         0.543987\n",
      "assure_will      0.548994\n",
      "give_will        0.553678\n",
      "assure_*         0.580302\n",
      "have_*           0.584380\n",
      "discuss_*        0.599421\n",
      "reassure_*       0.610053\n",
      "given>*          0.624857\n",
      "\n",
      "context terms\n",
      "                  cluster_dist\n",
      "index                         \n",
      "understand_*          0.636752\n",
      "assure_*              0.679695\n",
      "when>*                0.683269\n",
      "understand_fully      0.689111\n",
      "am_concerned          0.692593\n",
      "was_about             0.697184\n",
      "understand_will       0.700170\n",
      "am_satisfied          0.704546\n",
      "assure_is             0.708241\n",
      "have_might            0.720801\n",
      "\n",
      "\n",
      "utterances\n",
      "> 1992-06-30a.704.3 0.347 Can the Minister give us a guarantee that a contingency plan will be drawn up in the event of the Germans withdrawing from the EFA ? As my hon Friend the Member for Edinburgh , East ( Dr. Strang ) said , there could be job losses in the area that we represent and it is important for the next generation of technology that we go ahead with the project . May we have a guarantee from the Minister that we shall go ahead with it ?\n",
      "> 2004-03-08.1228.3 0.350 I thank the Minister for that reply . I know that he shares my sadness about the regular reports of the behaviour of a significant number of professional footballers over the past year or so , but I want to be positive about the game . When he meets the football authorities will he use his influence to promote the idea of a John Charles fair play award at either national or European level ? The Minister , as a Sheffield United supporter , knows a bit about football . John Charles of Leeds United and Wales was never sent off or booked in his career . In many respects , he represents the age of innocence for our national game . What support can the Minister give to all those of us who want John Charles 's memory to be honoured properly ?\n",
      "> 1994-03-08a.137.3 0.371 May I assure the House that that was not a planted question ? Can the Secretary of State give the House an assurance that the Government are not providing military training to any country that is in breach of any UN resolution , in particular to Indonesia which , as the Secretary of State will I am sure know from seeing the documentary \" Death of a Nation \" , has carried out a policy of genocide against the people of East Timor ?\n",
      "> 1987-04-07a.157.6 0.385 Can the Minister give an assurance that the Government intend to maintain the appeals system in the benefits system ? Will he take account of the fact that there appears to be some pettifogging bureaucracy that is discouraging people from attending appeals tribunals on the side of the appellants ? Will he give a further assurance that he will investigate matters of this sort and see that those friends and other people who attend on behalf of appellants are encouraged , not discouraged ?\n",
      "> 2014-06-17b.957.1 0.386 In view of the rapidly changing circumstances in Iraq , and in view of the fact that the President of the United States has changed his policy a little , may we have continuing reports on the developing situation instead of relying on Question Time or a statement from the Foreign Secretary ? I have had several e - mails in the past few days from women MPs in Iraq who are very concerned about their circumstances . What assurances can we give them ?\n",
      "> 1985-03-19a.768.8 0.392 Bearing in mind the value of the new technology courses of the Open University in broadening the skills of our work force , what reassurance can my right hon Friend give that those courses will be continued , despite the drop in income ?\n",
      "> 2008-07-17b.394.0 0.394 As Sir Michael makes no fewer than 92 recommendations , is the Secretary of State satisfied that the money that he has set aside will be sufficient to implement them ? Many hinge on better joint working between the various agencies , and a good job of work remains to be done in that regard . What assurances can he give the House about Sir Michael Pitt 's ongoing reporting to Parliament about the progress of the implementation of his practical recommendations—or will we just have to wait for the recriminations after the next deluge hits us ?\n",
      "> 1988-11-29a.567.1 0.395 Will the Minister give us some assurance about collaboration on radar and tell us what is happening in relation to competition for that ? May we have some assurances that the radar contract will be given to a British company such as Ferranti , and its group , which is needed to keep us in the forefront of R and D and is essential for the future of radar in European and world terms ?\n",
      "> 1995-02-23a.469.3 0.396 Is my hon Friend assuring the House that the directive is being uniformly introduced over the whole of Europe , and that it is being uniformly introduced in this country ? Bearing in mind the concern of my hon Friend the Member for Bridlington ( Mr. Townend ) , can my hon Friend give some assurance as to the way in which Members of Parliament will be advised in the future on problems with abattoirs in their constituencies ?\n",
      "> 1985-01-21a.723.0 0.398 In view of the importance of communications , to which the Secretary of State referred , what assurances can he give to industrialists and others that the experience on the A55 between Llanfairfechan and Penmaenmawr , which was closed for large parts of last week by a landslide , will not be repeated ? Will he assure us that the Welsh Office will investigate the rumours circulating in the area that the landslides were started by drilling initiated by the Welsh Office ?\n",
      "\n",
      "context-utterances\n",
      ">> 2011-04-26d.21.1 0.482 I am , of course , aware of these issues , which have been raised by colleagues on both sides of the House . At this stage , may I simply reiterate that the consultation team should consider the points that I know my hon Friend and others are making to it ? After the consultation team has fully reflected on all the points , I hope Members will be able to see that it has fully taken them into account in whatever proposals it brings forward .\n",
      ">> 1998-07-01a.353.1 0.503 I am grateful to the hon Gentleman for the responsible attitude that he has taken in this matter and to his constituents for the restraint that they have shown . I fully understand , as do all hon Members , the concern at the prospect of having a paedophile housed in the local community , especially in a rural area such as Rutland . On the future role of Wing Grange , the essential point is that no released offenders will at any time be housed at Wing Grange or anywhere else if they present a risk to the public that can not be contained . Such arrangements will be kept under constant review . Much depends on the response of the individuals concerned , but perhaps I can give the hon Gentleman the assurance that , in any event , there is no question of groups of paedophiles being housed together at Wing Grange , nor of any one paedophile being housed there indefinitely . I can further assure him that Wing Grange will take only offenders whose risk can be properly managed there now and in\n",
      ">> 1979-07-02a.880.4 0.503 I can understand that the hon Gentleman may not necessarily like a Conservative Budget , but a large number of the representative bodies that support the interests of small businesses—the CBI Small Firms Council , the Federation of Self - Employed and the Association of Independent Businesses—have all sent in comments to the Department of Industry saying that they thought the Budget was very welcome to small businesses . That is the opinion of those who represent small businesses , although I appreciate that the hon Gentleman may feel differently .\n",
      ">> 1985-02-28a.449.1 0.524 That goes extremely wide of the question , but I understand the hon Gentleman 's point .\n",
      ">> 2013-06-11b.139.10 0.542 I share the hon Gentleman ’s concerns about the way that NHS funding is allocated to different parts of the country . The allocation in my constituency is about the same as in his constituency , and I have long worried that things like age and rurality are not factored into the final amounts in the way that they need to be . However , in this case NHS England decided that if it was to follow precisely the ACRA recommendations , it would lead to higher growth for areas with better health outcomes and lower growth , or even cuts , for areas with less good outcomes , which it thought would be inconsistent with its responsibility to reduce health inequalities . That is why it is conducting a fundamental review , which it says it hopes will inform the next set of allocations for 2013 - 14 .\n",
      ">> 1996-12-09a.14.1 0.544 The aid to South Africa and to other southern African countries is certainly not mutually exclusive . As my hon Friend knows from our conversations—I am aware of his interest in the subject—we give substantial bilateral aid to Africa . Indeed , three quarters of all bilateral aid goes to the poorest countries . Therefore , we are very well aware of the points that he has raised .\n",
      ">> 1986-01-27a.635.0 0.545 I readily understand the wish of local residents and the hon Gentleman to know the time scale involved . I am satisfied that the Coal Board is doing everything that it can to minimise the nuisance . Work is progressing as quickly as possible to clear the bing as effectively as possible . I am aware that it is important to keep residents informed , and therefore I was pleased to hear from the area director this morning that he is making arrangements for a public meeting to be held as soon as possible , when experts will be in attendance to answer detailed questions .\n",
      ">> 2013-11-12f.796.2 0.552 I can give my hon Friend an assurance that we will publish proposals for change in the new year , and they will include a replacement to Labour ’s Human Rights Act 1998 . I can also assure him that we , as a party , will publish a draft Bill later next year . Whether the coalition and this Parliament will choose to accept such a Bill , or whether it needs to wait for a majority Conservative Government , is something I suspect we will discover then .\n",
      ">> 2007-12-06b.949.1 0.553 I understand the points that the hon Gentleman has made , and I know that he has taken a keen interest in these matters , not least in his constituency . However , I am sorry to say that it would be inappropriate for me to comment at this stage , when the Competition Commission has published only its preliminary findings and when there is an opportunity for those who participated in the inquiry to comment on their initial findings . I understand that the commission will report early in the new year , and when it has done so Ministers will give an appropriate response if recommendations are made to the Government .\n",
      ">> 2007-11-29b.425.6 0.556 I was delighted to hear of the formation of Cashfields in my hon Friend 's constituency . I understand that it is relatively new and I wish it every success . Following the collapse of Farepak , more that 100 credit unions throughout the country now offer Christmas savings accounts , which is to be welcomed . I shall shortly be publishing the results of the Government 's financial inclusion action plan , which will include further measures to support the growth of credit unions .\n",
      "\n",
      "====\n",
      "\n",
      "CLUSTER 6 6\n",
      "---\n",
      "terms\n",
      "              cluster_dist\n",
      "index                     \n",
      "tell_*            0.460119\n",
      "can>*             0.506656\n",
      "tell_will         0.515027\n",
      "confirm_*         0.536725\n",
      "say_*             0.550612\n",
      "confirm_will      0.557403\n",
      "tell_can          0.570300\n",
      "say_can           0.593507\n",
      "expect_does       0.661614\n",
      "remain_*          0.664343\n",
      "\n",
      "context terms\n",
      "              cluster_dist\n",
      "index                     \n",
      "am_afraid         0.651999\n",
      "tell_will         0.678107\n",
      "tell_*            0.683149\n",
      "on>*              0.696367\n",
      "tell_can          0.702783\n",
      "tell_are          0.706053\n",
      "have_not          0.712576\n",
      "tell_however      0.723561\n",
      "have_were         0.725421\n",
      "tell_is           0.726888\n",
      "\n",
      "\n",
      "utterances\n",
      "> 2011-10-31c.598.5 0.317 Will the Secretary of State confirm the really startling figures from the first quarter of the operation of the new homes bonus , which show that new home starts went down by 18 % compared with the same period last year , and that residential planning permissions went down by 23 % compared with that same period ? If he can confirm that those figures are correct , will he tell us what plans he has to revise the mechanisms of the new homes bonus ?\n",
      "> 2003-03-05.816.0 0.322 I want to come back to the issue of foundation hospitals . Will the Prime Minister tell us whether he agrees with the Secretary of State for Health , who said in a speech last month that he was in favour of freeing such hospitals from the constraints of central Government and capital rationing—in other words , from the controls of the Chancellor of the Exchequer ? We have the benefit of having both the Chancellor of the Exchequer and the Secretary of State for Health here today , so will the Prime Minister confirm which of them he is backing in this long - running Government dispute ?\n",
      "> 2009-02-12c.1508.0 0.322 On two occasions , both the Prime Minister and the Chancellor have failed to express confidence in Glen Moreno , acting chairman of UK Financial Investments Ltd , the body entrusted with risk - managing our bank holdings . Can the Minister tell us when he will appoint a permanent chairman , and will he confirm that Mr. Moreno will not be a candidate ?\n",
      "> 2013-10-09a.147.6 0.324 It is truly extraordinary that the Minister continues to defend the bedroom tax . Will he confirm for the record whether , according to the Government ’s own figures , Wales is hit harder than anywhere else in the UK ? As he mentioned the disabled , will he tell us how many disabled households in Wales are hit by the bedroom tax ?\n",
      "> 1987-12-14a.757.1 0.331 Will the Minister confirm that the Electricity Council employs more people than the Department of Energy ; and will he tell us what they all do ?\n",
      "> 2012-02-06c.1.8 0.334 Can the Minister confirm that detailed statistics on children at ports of entry are now being kept ? Will he tell us what type of accommodation they are required to be detained in , and whether the Government have any specific plans to reduce the number of children being detained in that way ?\n",
      "> 2004-07-20.144.4 0.343 I suppose this question would be a bit easier to answer in Scotland , as the Secretary of State helpfully transferred power to the Scottish Executive in his statement last week . Can he confirm that the necessary resources will accompany the transfer of power , so that the Scottish Executive will be able to pursue their rail objectives and priorities ? Will he tell us how Scotland 's share is to be calculated , given that he is about to announce massive infrastructure building in London and the south - east on the Crossrail project ?\n",
      "> 2015-02-05a.405.0 0.343 So it is true : this is the greenest Government ever . Will my right hon Friend tell us what proportion of that electricity is generated by onshore wind ? Can he confirm that onshore wind is the most mature , least expensive , and most efficient form of renewable energy , and is actually pretty popular ?\n",
      "> 2010-12-20a.1176.0 0.344 Can the Minister confirm that the budget for the new early intervention grant , which includes funding for Sure Start , will be almost 11 % lower next year than the current funding for the various programmes , and 7.5 % lower in 2012 ? Can she tell the House by what definition of flexibility that is not a cut ?\n",
      "> 2012-12-19a.841.2 0.344 I start by joining the Prime Minister in paying tribute to our troops in Afghanistan , who continue to show such huge courage and bravery . It is particularly important at this time of year to remember them and their families , many of whom will be separated from them . Their families , too , are in all our thoughts . I also welcome the Government ’s expected announcement today on reducing the number of troops in Afghanistan during 2013 ; we await the Defence Secretary ’s statement . Can the Prime Minister tell the House how many British troops and civilian staff will be left in Afghanistan after the 2014 deadline , and can he confirm whether they will be there under Afghan - led command ?\n",
      "\n",
      "context-utterances\n",
      ">> 2003-06-10.527.1 0.507 The appearance of members of the Prime Minister 's staff before Select Committees is a matter for the Prime Minister—[Hon Members : \" And the House . \" ] Ultimately for the House , of course , but initially for the Prime Minister , who will clarify the matter . I recall that the hon Gentleman made a fine speech on 18 March , summing up the resolution that was agreed overwhelmingly by the House . On that occasion he was unequivocal in his support for the military action on the basis of the evidence then available— [ Interruption . ] It does the Opposition no good to try to change the terms on which they backed the Government . The basis on which we took the decisions still applies today , and the hon Gentleman knows that very well .\n",
      ">> 1980-07-08a.227.3 0.553 It is not a question of passing the buck . The right hon Gentleman was a Minister at the DES , and he knows what the 1944 Act permits . We appreciate the points that he has made , but he must understand that local authorities have the final decision . The previous Administration sent out a circular and we have conducted a sample survey of some 2,000 primary schools and 1,000 secondary schools to find out precisely what provision is made . As soon as the results are to hand , we shall tell the House .\n",
      ">> 1988-11-14a.732.6 0.553 I am grateful to my hon Friend . I can tell him that 110 schemes have been set up and that 102,000 individuals have taken out personal pensions . If my hon Friend would like to look at the Financial Times of 31 October , he will see a report which says that the figure from a straw poll of life companies , shows … the personal pensions market was extremely buoyant in its first three months .\n",
      ">> 1996-02-14a.996.1 0.556 I can see that the right hon Lady has nicely caught the spirit of St. Valentine 's day . I shall not be so churlish and I wish her a happy Valentine 's day . My figures on the fall in manufacturing output under the last Labour Government are correct and I will send the right hon Lady those figures so that she does not make the same mistake twice . [ Interruption . ] If she will be quiet for a minute and let me get a word in edgeways , I can tell her that investment has risen six times faster under this Government than under Labour . There is one big difference between investment now and investment in the 1970s : in those days , investment was directed by bureaucrats and politicians into low - grade , dossed - out , state - run industries , but investment nowadays is in high - grade , exportable manufactures .\n",
      ">> 2003-06-23.692.0 0.561 I was curious about the hon Gentleman 's opening proposition that it is too early to say—perhaps it is too early to say what his policy is on these matters , as he seems to change it according to circumstance . I must tell the House , in case it escaped the hon Gentleman 's notice , that I do not have ministerial responsibility for Mr. Campbell , so I am not in a position to deal with that matter . As for the hon Gentleman 's final observation , I was slightly surprised by his suggestion that he would prefer a judicial inquiry to one conducted by right hon and hon Members in the House of Commons . If that really is his position , he needs to articulate it more clearly .\n",
      ">> 1990-10-31a.971.4 0.562 My hon Friend is absolutely right . In the decade up to 1985 , the total subsidy to British Steel , in present - day money , was £ 14 billion . It is hard to know where the Opposition expect to get such money , as they have already mortgaged the future with promises to spend on almost everything else . If they return to a state - controlled , state - regulated or nationally owned steel industry , we shall again be back in that loss - making era .\n",
      ">> 1996-11-20a.965.3 0.562 The hon Gentleman is totally mistaken . No spending plans on how much will be allocated to further education have yet been decided . He stands up and says that there will be less money , but he does not have a clue how much money will be allocated next year . All I can say is that we have increased spending on further education colleges every year since incorporation in 1993 .\n",
      ">> 1990-02-22a.1054.3 0.563 I can not see for the life of me what that has to do with question No . 5 . As a matter of interest , however , I can tell the hon Gentleman that the prison department is trying to resolve the dispute .\n",
      ">> 1991-06-06a.390.9 0.566 I can tell my hon Friend the Member for Surbiton ( Mr. Tracey ) , whose question I welcome , that under a Conservative Government there is no possibility whatever of any amnesty ever being declared for anyone who breaks the law . Rather than people waving banners outside Wandsworth prison , perhaps one day we shall see outside magistrates courts ordinary decent people who pay their community charge waving banners that say , \" Those who can pay , should pay . \"\n",
      ">> 1997-12-04a.477.0 0.569 The hon Gentleman asked about an inquiry . I can tell him that the report this morning is clearly not true because no final decision has yet been made . When we are able to make a decision—it is being actively considered across Whitehall—about an inquiry into the BSE legacy that we inherited on 1 May , we will be at the House pretty quickly to announce it . I can give the House that promise . On the rest of the hon Gentleman 's question , we can not govern by hint . Yesterday ' s statement was crystal clear about the proposals that had been put , the recommendations that had been made and the Government 's action . We have to condemn , as I hope would all hon Members , illegal activities taking place at the ports .\n",
      "\n",
      "====\n",
      "\n",
      "CLUSTER 7 7\n",
      "---\n",
      "terms\n",
      "                cluster_dist\n",
      "index                       \n",
      "be_*                0.380684\n",
      "as>*                0.442467\n",
      "accept_will         0.452264\n",
      "be_not              0.468965\n",
      "recognise_does      0.508869\n",
      "accept_*            0.510929\n",
      "be_would            0.517275\n",
      "in>*                0.519376\n",
      "accept_does         0.528391\n",
      "recognise_*         0.532189\n",
      "\n",
      "context terms\n",
      "              cluster_dist\n",
      "index                     \n",
      "be_indeed         0.597686\n",
      "be_possible       0.640883\n",
      "stated_*          0.644839\n",
      "be_difficult      0.648393\n",
      "be_important      0.649744\n",
      "be_should         0.653422\n",
      "am_certain        0.655182\n",
      "be_on             0.657499\n",
      "be_at             0.659461\n",
      "be_would          0.660128\n",
      "\n",
      "\n",
      "utterances\n",
      "> 1985-12-11a.907.6 0.295 Is the Secretary of State aware that it might do him a whole lot of good to visit Gartcosh , if only because a change of company might be helpful ? Is he aware also that if he ever meets the men and women of Gartcosh he will find that they are people who say what they mean and mean what they say ? They would never be a party to the disgraceful betrayal which we witnessed in the Select Committee on Scottish Affairs this morning , which was a contribution to the pantomime season and a disgrace to Scotland ? Will he accept that the men and women of Gartcosh believe that they have a future and that Ravenscraig has a future and that Scottish Members are determined to fight for that future , in the knowledge that they have the overwhelming support of the Scottish people ?\n",
      "> 1997-01-13a.4.6 0.309 Will not this project be , in effect , the Northfleet town bypass ? The town will have , on one side , the Thames tunnel of the channel tunnel rail link and , on the other , Ebbsfleet international station . During the construction of those large projects , heavy goods vehicles will rumble through the town , as there is currently no other route for them . Does my hon Friend accept that the people of Northfleet are fed up to the back teeth with Kent county council , which has delayed the introduction of the project ? Two years after the public exhibition , the council is now involved in an inspector 's inquiry . Will my hon . Friend give an assurance that , as and when Kent county council does its work properly , he will ensure that the inquiry is carried out as fast as possible ?\n",
      "> 1994-06-14a.508.0 0.312 In the event of further education colleges in Rotherham and , indeed , nationwide settling the dispute between college lecturers and college employers on the same basis as in Manchester college of arts and technology , will it be the Government 's policy to insist on the holdback of moneys to further education , or will they accept that as a legitimate settlement ?\n",
      "> 1986-04-29a.773.8 0.315 Will the Minister accept that the Government 's proposals could inflict gratuitous extra hardship on some of the most severely disabled people in this country , and could force them into the sort of subhuman existence that Granada 's \" World in Action \" documentary so strikingly exposed last night ? Is he prepared to consider an as - of - right community care addition to meet the additional requirements of disabled people ? Would it not be self - defeating as well as inhumane not to do so ?\n",
      "> 1989-10-19a.259.3 0.315 Does the Chancellor recognise that since the last quota increase the growth in the world economy and the emergence of the international debt problem on their own justify a larger rate of increase than the Government are willing to support ? Does he accept that historically important changes are taking place in eastern Europe , the success of which will depend on the economic progress of the countries concerned ? Would it not be tragic if this unique opportunity , from which we have so much to gain in the West , were missed because we starved the IMF of the resources that it needs to play a constructive role ?\n",
      "> 1982-03-01a.10.9 0.318 From those horrendous figures , is it not undeniable , despite what Lord Stokes told us would happen at the time , that Common Market membership has proved disastrous and catastrophic to the British motor vehicle industry ? We negotiate limits on Japanese imports , which will allow in more EEC imports , but will the Minister accept any responsibility for the existence of the British motor industry ? We are investing in the motor industry and seeking to build it up , but would it not be wise to negotiate import ceilings on EEC imports in the same way as we do with Japan , regardless of what the Treaty of Rome says ?\n",
      "> 2016-02-29c.666.1 0.318 Does my right hon Friend accept that by advancing the rather quaint idea that somehow our membership of the EU enhances our national security , he is merely playing into the hands of people such as Mr Juncker and Chancellor Merkel who , if Britain votes to remain in the EU , would advance towards a European army and permanent structured co - operation , the result of which would be to undermine NATO—the very organisation that the Secretary of State says is the cornerstone of our national defence ?\n",
      "> 2000-10-30a.504.3 0.319 The Government have to deal with those who are preparing for operations . Will the Minister accept that 1,000 drivers being trained to help bust any sort of strike may well be included among those , as they are being prepared and are ready to be deployed on an operation ? As and when they are deployed on that operation , will those military drivers be under the command of the Home Office or the Ministry of Defence ?\n",
      "> 1985-07-11a.1249.0 0.321 Does my hon Friend accept that as surely as night follows day the House will in the fullness of time have the common sense to reintroduce capital punishment for terrorism in response to public demand ? When that day comes , will it not be necessary to ensure that the people concerned have a proper trial ? Is my hon Friend aware that nothing will convince me that those who have escaped from the Maze prison have not struck and killed again ?\n",
      "> 1992-07-15a.1128.6 0.326 Is the Minister aware that his answer to his hon Friend the Member for Ealing , North ( Mr. Greenway ) was almost contemptibly arrogant and irresponsible ? Does he not accept that the overwhelming proportion of local government spending is in pursuit of the statutory obligations and duties placed on local authorities , and that only a very small proportion of local government spending is left to the liberty of the individual council ? Would it not be more responsible for Ministers to persuade their hon Friends that it is unreasonable to try to suggest that all local government spending is profligate ?\n",
      "\n",
      "context-utterances\n",
      ">> 1997-11-26a.959.0 0.447 I thank the hon and learned Gentleman for his question . Different parties have different parts that they consider to be essential to some sort of final accommodation—these include devolution in terms of an assembly , cross - border co - operation and the nature of the powers of that body . Surely , the point of negotiation and discussion is to consider the basic tenets that each party brings with it , whether it be cross - border co - operation , a devolved assembly or a change in east - west relations . That is what discussion , debate and negotiation should be about . I hope that the hon and learned Gentleman finds it within himself to join those talks in the future , because his contribution would be welcome .\n",
      ">> 1998-02-17a.891.7 0.472 The hon Gentleman knows that my hon Friend the Financial Secretary announced the proposal well in advance of any Budget determination , precisely so that the professions could be consulted , and so that any representations made about the effects of the proposal could be considered . The hon Gentleman is surely aware that such representations have been made , and I am sure that my hon Friend will take them into account .\n",
      ">> 1994-12-19a.1390.2 0.476 I understand that what has persuaded the hon Gentleman 's colleagues and others who are members of the Accommodation and Works Committee to make access for disabled people—it is not available for other members of the public—via Carriage Gates is the practical difficulty of providing good access for the disabled through St. Stephen 's entrance , for the very reason that he has given . If the hon Gentleman has thought of a solution to the problem , I suggest that he directs it to the members of the Accommodation and Works Committee .\n",
      ">> 2007-10-25b.398.2 0.483 I am grateful to my hon Friend for that question , but I am sorry to have to tell him that , because of the lack of agreement on suitable controls and standards , the Environment Agency and the industry have not been able to produce a protocol . However , it is not all bad news and we hope that the industry itself will make further progress on protocols . The Environment Agency issued new guidance on 3 October , confirming the deregulation of virgin timber . That means that producers will be able to recover and sell on virgin waste wood , such as off - cuts , shavings and sawdust and , of course , the production that comes from the management of forests . Those will be free from regulatory control . Clean and treated non - virgin timber will remain classified as waste and regulated as normal through exemptions and waste legislation .\n",
      ">> 1997-06-10a.931.5 0.490 I can only repeat that , while we make it clear that the human rights dimension is an important part of the way in which we shall consider applications for export licences , the review announced by my right hon Friend the Foreign Secretary has not yet been completed , although it will be completed very rapidly . Until that time , it would be foolish for us to make any further comment .\n",
      ">> 2005-03-02a.942.5 0.490 I am not surprised at anything that the Tories do in my hon Friend 's council . When we came to power in 1997 , the Tories left a shameful legacy of child poverty . The problems of poverty and social exclusion across Wales and the huge gap between the rich and the poor were evident to everybody . It is important that we continue this Government 's commitment to investing in education and overcoming the problems of child poverty . One child in three in Wales lived in a low - income household when the Conservatives were in government ; they will never be in government again to damage and harm our people , as they did in the past .\n",
      ">> 1997-11-18a.142.1 0.493 I can only assume that that is a deliberate misrepresentation of the Government 's position . The hon Lady is surely aware of the road schemes that we have announced and I am sure that she appreciates that we are carrying out a thorough review of the trunk road programme , as we promised during the general election .\n",
      ">> 2007-11-28b.280.2 0.494 That is not , I believe , what Baroness Jay said , but the hon Gentleman 's question will be a matter for the inquiry , which will examine all issues relating to this matter . Surely the right thing to do when a problem arises is to investigate it in detail , deal with it , change the procedures if necessary and , if necessary , reform political party funding—which we are prepared to do .\n",
      ">> 2006-03-06b.600.5 0.497 I am grateful to my hon Friend . He goes back to 1807 ; shortly , we will have a question that relates to the next century—the Church certainly has a wide span . He will note that the Synod recently called on Her Majesty 's Government to give the highest priority to enabling legislation to bring an end to the causes and outcomes of slavery . Personally , I presume that the Synod will equally accept the enabling legislation for the Church to accept women bishops in line with his ten - minute Bill .\n",
      ">> 1994-01-17a.518.5 0.498 As I have said , approximately £ 12 million is available for such measures in the current year . I understand that the specific case of Coedely is a matter for the Welsh Development Agency , for the hon Gentleman 's local authority of Taff Ely borough council and for Mid - Glamorgan county council , which are giving it the most serious consideration and are ensuring that appropriate arrangements are in hand . I remind him that , under the first programme for the valleys , 2,600 acres throughout the valleys of south Wales have been cleared—a record which can compare with the best in Europe .\n",
      "\n",
      "====\n",
      "\n"
     ]
    }
   ],
   "source": [
    "q_ec.print_clusters(corpus=parl_corpus)"
   ]
  },
  {
   "cell_type": "markdown",
   "metadata": {},
   "source": [
    "demo continues below"
   ]
  },
  {
   "cell_type": "markdown",
   "metadata": {},
   "source": [
    "Per our interpretation, we assign the following names to these clusters:"
   ]
  },
  {
   "cell_type": "code",
   "execution_count": 15,
   "metadata": {
    "collapsed": true
   },
   "outputs": [],
   "source": [
    "q_ec.set_cluster_names(['demand_account', 'shared_concern', 'agreement', 'issue_update',\n",
    "                     'question_premises', 'request_assurance', 'prompt_comment', 'accept_propose'])"
   ]
  },
  {
   "cell_type": "code",
   "execution_count": 16,
   "metadata": {},
   "outputs": [
    {
     "data": {
      "text/html": [
       "<div>\n",
       "<style scoped>\n",
       "    .dataframe tbody tr th:only-of-type {\n",
       "        vertical-align: middle;\n",
       "    }\n",
       "\n",
       "    .dataframe tbody tr th {\n",
       "        vertical-align: top;\n",
       "    }\n",
       "\n",
       "    .dataframe thead th {\n",
       "        text-align: right;\n",
       "    }\n",
       "</style>\n",
       "<table border=\"1\" class=\"dataframe\">\n",
       "  <thead>\n",
       "    <tr style=\"text-align: right;\">\n",
       "      <th></th>\n",
       "      <th>utts</th>\n",
       "      <th>terms</th>\n",
       "      <th>context_utts</th>\n",
       "      <th>context_terms</th>\n",
       "    </tr>\n",
       "  </thead>\n",
       "  <tbody>\n",
       "    <tr>\n",
       "      <th>accept_propose</th>\n",
       "      <td>0.181097</td>\n",
       "      <td>0.151042</td>\n",
       "      <td>0.134168</td>\n",
       "      <td>0.136733</td>\n",
       "    </tr>\n",
       "    <tr>\n",
       "      <th>agreement</th>\n",
       "      <td>0.121480</td>\n",
       "      <td>0.098958</td>\n",
       "      <td>0.154184</td>\n",
       "      <td>0.135625</td>\n",
       "    </tr>\n",
       "    <tr>\n",
       "      <th>demand_account</th>\n",
       "      <td>0.110949</td>\n",
       "      <td>0.184028</td>\n",
       "      <td>0.160204</td>\n",
       "      <td>0.168145</td>\n",
       "    </tr>\n",
       "    <tr>\n",
       "      <th>issue_update</th>\n",
       "      <td>0.092509</td>\n",
       "      <td>0.124132</td>\n",
       "      <td>0.139761</td>\n",
       "      <td>0.183666</td>\n",
       "    </tr>\n",
       "    <tr>\n",
       "      <th>prompt_comment</th>\n",
       "      <td>0.114751</td>\n",
       "      <td>0.098958</td>\n",
       "      <td>0.093792</td>\n",
       "      <td>0.081301</td>\n",
       "    </tr>\n",
       "    <tr>\n",
       "      <th>question_premises</th>\n",
       "      <td>0.102576</td>\n",
       "      <td>0.089410</td>\n",
       "      <td>0.122206</td>\n",
       "      <td>0.114930</td>\n",
       "    </tr>\n",
       "    <tr>\n",
       "      <th>request_assurance</th>\n",
       "      <td>0.132699</td>\n",
       "      <td>0.104167</td>\n",
       "      <td>0.112767</td>\n",
       "      <td>0.097191</td>\n",
       "    </tr>\n",
       "    <tr>\n",
       "      <th>shared_concern</th>\n",
       "      <td>0.143939</td>\n",
       "      <td>0.149306</td>\n",
       "      <td>0.082917</td>\n",
       "      <td>0.082409</td>\n",
       "    </tr>\n",
       "  </tbody>\n",
       "</table>\n",
       "</div>"
      ],
      "text/plain": [
       "                       utts     terms  context_utts  context_terms\n",
       "accept_propose     0.181097  0.151042      0.134168       0.136733\n",
       "agreement          0.121480  0.098958      0.154184       0.135625\n",
       "demand_account     0.110949  0.184028      0.160204       0.168145\n",
       "issue_update       0.092509  0.124132      0.139761       0.183666\n",
       "prompt_comment     0.114751  0.098958      0.093792       0.081301\n",
       "question_premises  0.102576  0.089410      0.122206       0.114930\n",
       "request_assurance  0.132699  0.104167      0.112767       0.097191\n",
       "shared_concern     0.143939  0.149306      0.082917       0.082409"
      ]
     },
     "execution_count": 16,
     "metadata": {},
     "output_type": "execute_result"
    }
   ],
   "source": [
    "q_ec.print_cluster_stats()"
   ]
  },
  {
   "cell_type": "markdown",
   "metadata": {},
   "source": [
    "Finally, we transform the corpus with the fitted model:"
   ]
  },
  {
   "cell_type": "code",
   "execution_count": 17,
   "metadata": {
    "collapsed": true
   },
   "outputs": [],
   "source": [
    "_ = q_ec.transform(parl_corpus, selector=lambda x: x.meta['is_question'] and (x.meta.get('q_arc_tfidf__n_feats',0)>0))\n",
    "\n",
    "# this call derives representations of answers, following our method.\n",
    "_ = q_ec.transform_context_utts(parl_corpus, selector=lambda x: x.meta['is_answer'] and (x.meta.get('arc_tfidf__n_feats',0)>0)) "
   ]
  },
  {
   "cell_type": "markdown",
   "metadata": {},
   "source": [
    "Here are the attributes we derive for an example utterance, via the transform call:"
   ]
  },
  {
   "cell_type": "code",
   "execution_count": 18,
   "metadata": {},
   "outputs": [
    {
     "name": "stdout",
     "output_type": "stream",
     "text": [
      "I thank the Minister for that reply . He knows that 2009 was another difficult year for many British farmers . Will he explain why Government procurement of British food actually fell during that year , and in particular , why NHS procurement dropped sharply ? Why are the Government failing to back British farmers and British food at this time ?\n"
     ]
    }
   ],
   "source": [
    "ut_eg_id = '2010-03-25c.364.5'\n",
    "eg_ut = parl_corpus.get_utterance(ut_eg_id)\n",
    "print(eg_ut.text)"
   ]
  },
  {
   "cell_type": "markdown",
   "metadata": {},
   "source": [
    "Our example is assigned to the \"Demand for Account\" type. We suggest this makes sense, given the confrontational and interrogative nature of the question. We also store the distance between the representation of the question and its corresponding cluster centroid."
   ]
  },
  {
   "cell_type": "code",
   "execution_count": 19,
   "metadata": {},
   "outputs": [
    {
     "data": {
      "text/plain": [
       "('demand_account', 0.4022091585508637)"
      ]
     },
     "execution_count": 19,
     "metadata": {},
     "output_type": "execute_result"
    }
   ],
   "source": [
    "eg_ut.meta['fw_clustering.cluster'], eg_ut.meta['fw_clustering.cluster_dist']"
   ]
  },
  {
   "cell_type": "markdown",
   "metadata": {},
   "source": [
    "Vector representations are stored with the corpus in a matrix called `fw_repr`, and can be accessed as follows:"
   ]
  },
  {
   "cell_type": "code",
   "execution_count": 20,
   "metadata": {},
   "outputs": [
    {
     "data": {
      "text/plain": [
       "array([[-0.30727219, -0.13173684, -0.09564039,  0.26725832, -0.03839751,\n",
       "        -0.17965502, -0.26523116,  0.12426359,  0.11925108, -0.06012806,\n",
       "        -0.17136398, -0.01314043, -0.19893231, -0.10331306, -0.05066268,\n",
       "         0.27480168, -0.16588479,  0.13608597, -0.17576715,  0.5174909 ,\n",
       "        -0.06604386, -0.03586687, -0.3779309 , -0.13857462]])"
      ]
     },
     "execution_count": 20,
     "metadata": {},
     "output_type": "execute_result"
    }
   ],
   "source": [
    "parl_corpus.get_vectors('fw_repr',[ut_eg_id])\n",
    "# technical note: for an explanation of why there are only 24 dimensions, instead of 25, see the `snip_first_dim` parameter in the documentation"
   ]
  },
  {
   "cell_type": "markdown",
   "metadata": {},
   "source": [
    "We also compute a statistic called \"range\" for the utterance. One way to interpret this statistic is as a way of quantifying the strengths of our expectations: lower values mean that we expect a narrower range of possible replies (i.e., stronger expectations). See [this dissertation](https://tisjune.github.io/research/dissertation) for more explanation of this statistic, and a few caveats on applying it in this setting, with our methodological choices. We'll briefly explore the range statistic later on."
   ]
  },
  {
   "cell_type": "code",
   "execution_count": 21,
   "metadata": {},
   "outputs": [
    {
     "data": {
      "text/plain": [
       "0.8090945361491605"
      ]
     },
     "execution_count": 21,
     "metadata": {},
     "output_type": "execute_result"
    }
   ],
   "source": [
    "eg_ut.meta['fw_range']"
   ]
  },
  {
   "cell_type": "code",
   "execution_count": null,
   "metadata": {
    "collapsed": true
   },
   "outputs": [],
   "source": []
  },
  {
   "cell_type": "markdown",
   "metadata": {},
   "source": [
    "## 3. Analysis of question types\n",
    "\n",
    "We will relate the inferred question types to two key attributes of question-askers: their party affiliation (whether they are part of the governing party, or the official opposition), and their tenure (number of years since they were first elected). For more details on these attributes and on our motivations, see [this dissertation](https://tisjune.github.io/research/dissertation). \n",
    "\n",
    "For convenience, we start by loading relevant attributes into a Pandas dataframe."
   ]
  },
  {
   "cell_type": "code",
   "execution_count": 22,
   "metadata": {
    "collapsed": true
   },
   "outputs": [],
   "source": [
    "for ut in parl_corpus.iter_utterances():\n",
    "    ut.meta['speaker'] = ut.speaker.id\n",
    "utt_meta_df = parl_corpus.get_attribute_table('utterance',\n",
    "                ['fw_clustering.cluster','govt', 'govt_coarse','is_question','is_answer',\n",
    "                'is_incumbent','is_oppn','speaker','party', 'tenure','next_id'])"
   ]
  },
  {
   "cell_type": "markdown",
   "metadata": {},
   "source": [
    "The dataset is somewhat spotty in terms of when it includes party affiliation information, but tends to be worse about this during the Thatcher and Major governments. We filter out questions which we think have missing information accordingly:"
   ]
  },
  {
   "cell_type": "code",
   "execution_count": 23,
   "metadata": {
    "collapsed": true
   },
   "outputs": [],
   "source": [
    "utt_meta_sub = utt_meta_df[((utt_meta_df.is_incumbent == True) | (utt_meta_df.is_oppn == True))\n",
    "                    & (utt_meta_df.speaker != '<UNKNOWN>') & (utt_meta_df.party.notnull())\n",
    "                    & (utt_meta_df.govt_coarse != 'thatcher+major')\n",
    "                    & (utt_meta_df['fw_clustering.cluster'].notnull())].copy()"
   ]
  },
  {
   "cell_type": "markdown",
   "metadata": {},
   "source": [
    "To examine the extent to which a question type tends to be asked more by a member of the government vs official opposition, we compute log-odds ratios. The next few cells perform these computations to render a figure of log-odds ratio per question type."
   ]
  },
  {
   "cell_type": "code",
   "execution_count": 24,
   "metadata": {
    "collapsed": true
   },
   "outputs": [],
   "source": [
    "def compute_log_odds(col, bool_col, val_subset=None):\n",
    "    if val_subset is not None:\n",
    "        col_vals = val_subset\n",
    "    else:\n",
    "        col_vals = col.unique()\n",
    "    log_odds_entries = []\n",
    "    for val in col_vals:\n",
    "        val_true = sum((col == val) & bool_col)\n",
    "        val_false = sum((col == val) & ~bool_col)\n",
    "        nval_true = sum((col != val) & bool_col)\n",
    "        nval_false = sum((col != val) & ~bool_col)\n",
    "        log_odds_entries.append({'val': val, 'log_odds': np.log((val_true/val_false)/(nval_true/nval_false))})\n",
    "    return log_odds_entries"
   ]
  },
  {
   "cell_type": "code",
   "execution_count": 25,
   "metadata": {
    "collapsed": true
   },
   "outputs": [],
   "source": [
    "log_odds_party  = []\n",
    "for cname in q_ec.get_cluster_names():\n",
    "    entry =  compute_log_odds(utt_meta_sub['fw_clustering.cluster'],utt_meta_sub['is_incumbent'],\n",
    "                             val_subset=[cname])\n",
    "    log_odds_party += entry\n",
    "log_odds_party_df = pd.DataFrame(log_odds_party).set_index('val')"
   ]
  },
  {
   "cell_type": "code",
   "execution_count": 26,
   "metadata": {
    "collapsed": true
   },
   "outputs": [],
   "source": [
    "type_order = log_odds_party_df.sort_values('log_odds').index\n"
   ]
  },
  {
   "cell_type": "code",
   "execution_count": 27,
   "metadata": {
    "collapsed": true
   },
   "outputs": [],
   "source": [
    "display_names = ['Demand for account', 'Questioning premises', 'Prompt for comment',\n",
    "                            'Accept and propose', 'Req. for assurance', 'Issue update', \n",
    "                            'Shared concerns', 'Agreement']"
   ]
  },
  {
   "cell_type": "code",
   "execution_count": 28,
   "metadata": {
    "collapsed": true
   },
   "outputs": [],
   "source": [
    "from matplotlib import pyplot as plt\n",
    "%matplotlib inline"
   ]
  },
  {
   "cell_type": "code",
   "execution_count": 29,
   "metadata": {},
   "outputs": [
    {
     "data": {
      "image/png": "[encoded data removed]",
      "text/plain": [
       "<Figure size 288x432 with 1 Axes>"
      ]
     },
     "metadata": {},
     "output_type": "display_data"
    }
   ],
   "source": [
    "fig, ax = plt.subplots(figsize=(4,6))\n",
    "ax.set_xlim(-1.5, 1.5)\n",
    "ax.set_ylim(-.5,7.5)\n",
    "for i,cname in enumerate(type_order):\n",
    "    log_odds = log_odds_party_df.loc[cname].log_odds\n",
    "    ax.scatter([log_odds], [i], color='black',s=49)\n",
    "    ax.plot([-1.25,1.25],[i,i],'--', color='grey', linewidth=.5)\n",
    "ax.plot([0,0],[-2,8], color='grey', linewidth=1)\n",
    "ax.invert_yaxis()\n",
    "ax.set_yticks(np.arange(len(type_order)))\n",
    "ax.set_yticklabels(display_names, fontsize=14)\n",
    "ax.set_xticklabels([-1.5,-1,-.5,0,.5,1,1.5], fontsize=14)\n",
    "plt.rc('xtick',labelsize=12)\n",
    "plt.rc('ytick',labelsize=12)\n",
    "ax.set_xlabel('log odds ratio', fontsize=16)\n",
    "None"
   ]
  },
  {
   "cell_type": "markdown",
   "metadata": {},
   "source": [
    "Here, points further to the right indicate question types more likely to be asked by government-affiliated askers; points to the left indicate types more likely to be asked by the opposition. This passes a sanity check: more aggressive questions tend to be asked more by opposition askers, while more positive, bolstering types are asked more by government askers."
   ]
  },
  {
   "cell_type": "code",
   "execution_count": null,
   "metadata": {
    "collapsed": true
   },
   "outputs": [],
   "source": []
  },
  {
   "cell_type": "markdown",
   "metadata": {},
   "source": [
    "To examine the relationship between question type and tenure, we compute the median tenure of askers per type. Since we know that different types might be asked more by govt vs opposition members, and since opposition members tend to be more tenured, we separate this analysis by affiliation, resulting in the plot a few cells down:"
   ]
  },
  {
   "cell_type": "code",
   "execution_count": 30,
   "metadata": {
    "collapsed": true
   },
   "outputs": [],
   "source": [
    "med_tenures = pd.concat([utt_meta_sub[utt_meta_sub.is_incumbent].groupby('fw_clustering.cluster').tenure.median().rename('govt'),\n",
    "utt_meta_sub[~utt_meta_sub.is_incumbent].groupby('fw_clustering.cluster').tenure.median().rename('oppn')], axis=1)\n",
    "med_in_tenure = utt_meta_sub[utt_meta_sub.is_incumbent].tenure.median()\n",
    "med_op_tenure = utt_meta_sub[~utt_meta_sub.is_incumbent].tenure.median()"
   ]
  },
  {
   "cell_type": "code",
   "execution_count": 31,
   "metadata": {},
   "outputs": [
    {
     "data": {
      "text/html": [
       "<div>\n",
       "<style scoped>\n",
       "    .dataframe tbody tr th:only-of-type {\n",
       "        vertical-align: middle;\n",
       "    }\n",
       "\n",
       "    .dataframe tbody tr th {\n",
       "        vertical-align: top;\n",
       "    }\n",
       "\n",
       "    .dataframe thead th {\n",
       "        text-align: right;\n",
       "    }\n",
       "</style>\n",
       "<table border=\"1\" class=\"dataframe\">\n",
       "  <thead>\n",
       "    <tr style=\"text-align: right;\">\n",
       "      <th></th>\n",
       "      <th>govt</th>\n",
       "      <th>oppn</th>\n",
       "    </tr>\n",
       "    <tr>\n",
       "      <th>fw_clustering.cluster</th>\n",
       "      <th></th>\n",
       "      <th></th>\n",
       "    </tr>\n",
       "  </thead>\n",
       "  <tbody>\n",
       "    <tr>\n",
       "      <th>accept_propose</th>\n",
       "      <td>9.997260</td>\n",
       "      <td>11.734247</td>\n",
       "    </tr>\n",
       "    <tr>\n",
       "      <th>agreement</th>\n",
       "      <td>4.830137</td>\n",
       "      <td>9.512329</td>\n",
       "    </tr>\n",
       "    <tr>\n",
       "      <th>demand_account</th>\n",
       "      <td>8.756164</td>\n",
       "      <td>8.872603</td>\n",
       "    </tr>\n",
       "    <tr>\n",
       "      <th>issue_update</th>\n",
       "      <td>4.852055</td>\n",
       "      <td>8.493151</td>\n",
       "    </tr>\n",
       "    <tr>\n",
       "      <th>prompt_comment</th>\n",
       "      <td>6.110959</td>\n",
       "      <td>8.854795</td>\n",
       "    </tr>\n",
       "    <tr>\n",
       "      <th>question_premises</th>\n",
       "      <td>8.679452</td>\n",
       "      <td>9.657534</td>\n",
       "    </tr>\n",
       "    <tr>\n",
       "      <th>request_assurance</th>\n",
       "      <td>6.461644</td>\n",
       "      <td>9.564384</td>\n",
       "    </tr>\n",
       "    <tr>\n",
       "      <th>shared_concern</th>\n",
       "      <td>6.917808</td>\n",
       "      <td>10.347945</td>\n",
       "    </tr>\n",
       "  </tbody>\n",
       "</table>\n",
       "</div>"
      ],
      "text/plain": [
       "                           govt       oppn\n",
       "fw_clustering.cluster                     \n",
       "accept_propose         9.997260  11.734247\n",
       "agreement              4.830137   9.512329\n",
       "demand_account         8.756164   8.872603\n",
       "issue_update           4.852055   8.493151\n",
       "prompt_comment         6.110959   8.854795\n",
       "question_premises      8.679452   9.657534\n",
       "request_assurance      6.461644   9.564384\n",
       "shared_concern         6.917808  10.347945"
      ]
     },
     "execution_count": 31,
     "metadata": {},
     "output_type": "execute_result"
    }
   ],
   "source": [
    "med_tenures"
   ]
  },
  {
   "cell_type": "code",
   "execution_count": 32,
   "metadata": {},
   "outputs": [
    {
     "data": {
      "image/png": "[encoded data removed]",
      "text/plain": [
       "<Figure size 288x432 with 1 Axes>"
      ]
     },
     "metadata": {},
     "output_type": "display_data"
    }
   ],
   "source": [
    "fig, ax = plt.subplots(figsize=(4,6))\n",
    "ax.set_xlim(2, 13)\n",
    "ax.set_ylim(-.5,7.5)\n",
    "for i,cname in enumerate(type_order):\n",
    "    ax.scatter([med_tenures.loc[cname].govt],[i-.05], s=49, color='blue')\n",
    "    ax.scatter([med_tenures.loc[cname].oppn],[i+.05], s=49, color='red', facecolor='white',marker='s')\n",
    "    ax.plot([.5,14.5],[i,i],'--', color='grey', linewidth=.5)\n",
    "ax.plot([med_in_tenure, med_in_tenure],[-2,8], color='blue',linewidth=1)\n",
    "ax.plot([med_op_tenure, med_op_tenure],[-2,8], '--', color='red', linewidth=1)\n",
    "ax.invert_yaxis()\n",
    "ax.set_xticks([5,10])\n",
    "ax.set_xticklabels([5,10], fontsize=14)\n",
    "ax.set_yticks(np.arange(8))\n",
    "ax.set_yticklabels(display_names, fontsize=14)\n",
    "ax.set_xlabel('median tenure', fontsize=16)\n",
    "plt.rc('xtick',labelsize=12)\n",
    "plt.rc('ytick',labelsize=12)"
   ]
  },
  {
   "cell_type": "markdown",
   "metadata": {},
   "source": [
    "One interesting thing to point out is that among questions asked by government affiliated members, aggressive (e.g., **demand for account**) questions tend to be asked more by older askers (indicated by blue dots) -- that is, it seems that as parliamentarians get more tenured, they ask more aggressive questions. Note that the ministers answering these questions are almost always affiliated with the government, so this means that older askers are more aggressive, even towards members of their own party. In [this dissertation](https://tisjune.github.io/research/dissertation) we more carefully examine this observation."
   ]
  },
  {
   "cell_type": "code",
   "execution_count": null,
   "metadata": {
    "collapsed": true
   },
   "outputs": [],
   "source": []
  },
  {
   "cell_type": "markdown",
   "metadata": {},
   "source": [
    "## 4. Other applications of the Expected Context Framework"
   ]
  },
  {
   "cell_type": "markdown",
   "metadata": {},
   "source": [
    "### Answer types\n",
    "\n",
    "Note that we can also try to infer types of _answers_, instead of types of questions. To do this, we initialize a new Expected Context Model with some modifications to the arguments passed in: "
   ]
  },
  {
   "cell_type": "code",
   "execution_count": 33,
   "metadata": {
    "collapsed": true
   },
   "outputs": [],
   "source": [
    "a_ec = ExpectedContextModelTransformer(\n",
    "    context_field='reply_to', output_prefix='bk', \n",
    "    vect_field='arc_tfidf', context_vect_field='q_arc_tfidf',\n",
    "      n_svd_dims=15, n_clusters=5,\n",
    "      random_state=1000, cluster_random_state=1000)"
   ]
  },
  {
   "cell_type": "code",
   "execution_count": 34,
   "metadata": {
    "collapsed": true
   },
   "outputs": [],
   "source": [
    "a_ec.fit(parl_corpus, selector=lambda x: x.meta['is_answer'] and (x.meta.get('arc_tfidf__n_feats',0)>0),\n",
    "         context_selector=lambda x: x.meta['is_question'] and (x.meta.get('q_arc_tfidf__n_feats',0)>0))"
   ]
  },
  {
   "cell_type": "code",
   "execution_count": 35,
   "metadata": {},
   "outputs": [
    {
     "name": "stdout",
     "output_type": "stream",
     "text": [
      "CLUSTER 0 0\n",
      "---\n",
      "terms\n",
      "               cluster_dist\n",
      "index                      \n",
      "keep_*             0.268190\n",
      "clearly>*          0.278435\n",
      "reviewing_are      0.279912\n",
      "looking_*          0.296509\n",
      "happen_*           0.302775\n",
      "point_is           0.303575\n",
      "looking_are        0.329829\n",
      "consider_will      0.330174\n",
      "look_*             0.331673\n",
      "want_not           0.339141\n",
      "\n",
      "context terms\n",
      "                cluster_dist\n",
      "index                       \n",
      "instruct_*          0.478614\n",
      "report_*            0.488451\n",
      "at>*                0.497210\n",
      "intervene_*         0.501445\n",
      "given>*             0.513234\n",
      "intervene_will      0.528936\n",
      "endorse_*           0.568409\n",
      "given>that          0.593500\n",
      "agree_go            0.616590\n",
      "to_*                0.636640\n",
      "\n",
      "\n",
      "utterances\n",
      "> 1989-02-15a.307.5 0.096 Government involvement in manufacturing is the last thing that the manufacturing industry wants . In fact , there is absolutely no reason why something should not be made from scratch , providing that it is competitive and is of the required quality . One has only to look at the production of Nissan cars in a green field site to see that if the product is competitive and meets a demand , it will immediately take a piece of the market .\n",
      "> 2006-10-24b.1374.0 0.099 My hon Friend is quite right to point to the advances that have been made in terms of the extra investment that has gone into cancer treatment , and the increased number of cancer consultants and clinical nurse specialists . That has made a real difference to the outcomes for cancer patients . Of course , the cancer networks look at the referral patterns and I shall certainly make sure that the cancer network that oversees his area is aware of the points that he has made .\n",
      "> 2011-02-14b.698.2 0.101 Given my political career , I have given up giving advice to anybody , so the best thing the shadow Secretary of State can do is forge his own way and I will look to see how I can dismantle that .\n",
      "> 2002-07-22.659.2 0.103 I do not know the details of the application from my hon Friend 's constituency , but if he writes to me I shall look at it and ensure that it is dealt with fairly . A total of £ 581 million is being invested through the new opportunities fund via local education authorities , but the funding is conditional on the facilities being used by the community , too . That is important . Many people have been critical of investment in sports facilities that have not been available to the wider community . There is a change in culture and attitude among many in education—those who must ensure that those centres of excellence can be used by the whole community . If my hon Friend wants to write to me , I shall look into the questions that he has raised .\n",
      "> 2008-06-02b.490.2 0.103 Those are rather unusual circumstances . I am aware that my hon Friend has encountered them in her constituency , and I encourage her to write to me with the details of the cases , if she does not mind . I am happy to look into them a bit further . However , it has always been part of the regulations applying to the child support system that for a maintenance calculation to be made and enforced , all the parties have to be habitually resident in the UK. I think that that is not so in the case that she has encountered , and there would therefore be difficulties in pursuing the matter , but still , if she gives me more details about it , I will look further into it for her .\n",
      "> 2014-12-04a.407.2 0.106 The hon Gentleman is right to highlight the issues around the Snake pass . I know there are safety concerns there , and I have obviously used the road myself . He knows that this Government have at their very heart the idea of a northern powerhouse . We are championing the interests of the north of England , perhaps to a greater degree than any previous Government . To that end , I shall look at all the specific questions that the hon Gentleman asks on timing , on detail and on planning , and I shall be more than happy to address them directly with him .\n",
      "> 2013-09-12a.1155.0 0.107 Clearly , the hon Gentleman has strong views on that particular private Members ’ Bill but , as I stated , it is important that we consider these matters in the round . The Procedure Committee has rightly devoted a substantial amount of time to considering this matter and the House should look at its proposals—for example , on the process of balloting Members—so that it can come to a sensible decision .\n",
      "> 2009-11-04c.855.6 0.108 When there was a Labour council , Glencraft got a huge amount of support from it . I have heard that the grants are being cut by the SNP - Liberal administration in the area . We will look at what we can do , but it is clearly important in a recession to help those people who are most in need of support , and that includes the disabled members of our community .\n",
      "> 2004-05-26.1564.6 0.108 I am , of course , always prepared to meet an all - party group on the issue . I will look at it in the light of what has been said by the previous Prime Minister , but I give no guarantees that we will change the decision . A decision was taken at the time , which was endorsed by this Government as well , but I understand the very strong feelings that there are , not least among the families of the pilots . I am very happy to meet an all - party group , but that has to be done without any prior commitment or guarantee as to what the outcome would be .\n",
      "> 1995-04-24a.508.6 0.108 Those cases sound very worrying indeed . Of course I will look into them specifically , immediately following Question Time and I will provide the hon Gentleman with a written answer . That is not the kind of thing that I wish to hear . Many hundreds of thousands of people receive very good treatment from the NHS in Wales and we must make sure that that is true of everyone . Like the hon Gentleman , I am rather worried by that story .\n",
      "\n",
      "context-utterances\n",
      ">> 1998-05-19a.714.1 0.317 As my hon Friend knows , 510 jobs are being lost in my constituency following Mitsubishi 's decision to close its colour television factory at Haddington— [ Interruption . ] I wish that Conservative Members would take issues like this seriously ; it is a very serious matter for my constituents . Following my hon Friend 's visit to Haddington on 6 April—the day of the announcement—can he report on the progress made by the task force in creating new jobs for people in Haddington and in finding new enterprises for the factory that has been closed ?\n",
      ">> 2010-12-21a.1314.1 0.321 Treasury Ministers rightly assert that the vulnerable should be protected and that those with broader shoulders should bear the greatest burden . With that in mind , will Ministers report on the effectiveness of the initiative announced in September to bear down on the estimated £ 42 billion of tax that the wealthy do not pay each year ?\n",
      ">> 1998-05-07a.850.0 0.334 May I welcome my right hon Friend 's trail - blazing child care policies ? Will he confirm that his departmental research shows that 90 per cent . of employers make no provision whatever for child care assistance ? Are we sure that Departments and agencies are that good in this respect ? Will he make certain that Departments and agencies become model employers and give a lead in policies on child care ?\n",
      ">> 2010-11-02a.753.8 0.340 Does the Minister agree with me and the 1999 Shields report that children 's accident and emergency , paediatrics and maternity units should be kept together in one hospital ? Will he postpone the move of the Burnley children 's ward to Blackburn until the new GP commissioners are installed and can make an informed decision ?\n",
      ">> 2009-02-26b.356.5 0.360 DEFRA has a great little scheme that funds some pilots through which farmers and land managers manage their land in ways that hold back flood waters . I have been to see a scheme at Seighford , near Stafford , with Matt Jones from Staffordshire Wildlife Trust , who is the project manager . Some really low - tech solutions are successfully keeping back flood waters at times of pressure . Will my right hon Friend be talking to Sir Michael about the assessment of those pilots , with a view to seeing whether they could be rolled out more widely ? If he does , can he report back to MPs who have pilots in their area ?\n",
      ">> 1984-07-19a.508.5 0.360 Will the Prime Minister recognise that she is totally misrepresenting the position of the talks , the NUM , and the response of the NCB when she makes the claim that no will accept pit closures in any circumstances ? The cost of the strike is now nearly £ 2,000 million . When will she intervene to help a settlement instead of interfering to hinder a settlement ?\n",
      ">> 2007-07-03b.800.5 0.386 May I take the Foreign Secretary back to a commitment given by his predecessor but one after the French and Dutch votes two years ago ? The hon Member for Vauxhall ( Kate Hoey ) asked him : \" Will he assure me that one matter that he would certainly submit to a referendum is the creation of a Foreign Minister and a European President ? \" The then Foreign Secretary replied : \" Those points are central to the European constitutional treaty , and of course I see no prospect of their being brought into force , save through the vehicle of a constitutional treaty.\"—[ Official Report , 6 June 2005 ; Vol . 434 , c. 1001 . ] The new treaty does indeed include both a Foreign Minister and a President . According to the Government , that would make it a constitution , so why is there no referendum ?\n",
      ">> 2011-07-12c.151.5 0.388 Is the Minister as concerned as I am about the failure of Suffolk primary care trust to act to invest in proper buildings and infrastructure for the Gipping valley practice in Claydon in my constituency ? That practice has been forced to treat patients out of a portakabin for 15 years now . Will he agree to meet me , and local doctors and patient groups , to see whether we can find a solution to the problem ?\n",
      ">> 1980-02-21a.655.4 0.391 In her meeting with Mr. Vance this afternoon , will the Prime Minister report that there are some of us who have had in - depth meetings with the Indian High Commissioner and other Asians who are not apologists for the Soviet Union but who see Afghanistan in various tones of grey rather than black and white ? They believe that that issue certainly does not constitute a reason for not going to the Olympics .\n",
      ">> 1985-04-22a.610.7 0.391 Is my right hon Friend aware that the prospect for further jobs in Wales is inextricably linked with small businesses ' prospects of prosperity ? Is he further aware that those businesses want access to venture capital more than anything else ? Will he report on the development of the welcome addition to that access of the Welsh Development Agency 's institutional and venture capital unit ?\n",
      "\n",
      "====\n",
      "\n",
      "CLUSTER 1 1\n",
      "---\n",
      "terms\n",
      "          cluster_dist\n",
      "index                 \n",
      "in>*          0.101296\n",
      "there>*       0.120411\n",
      "on>*          0.139847\n",
      "for>*         0.140881\n",
      "was_*         0.141678\n",
      "said_*        0.153782\n",
      "am_sorry      0.156208\n",
      "made_*        0.157317\n",
      "is_not        0.159876\n",
      "what>*        0.160643\n",
      "\n",
      "context terms\n",
      "          cluster_dist\n",
      "index                 \n",
      "is_on         0.284732\n",
      "is_as         0.358130\n",
      "is_there      0.378568\n",
      "is_also       0.391161\n",
      "so>*          0.391639\n",
      "is_for        0.393613\n",
      "is_now        0.414324\n",
      "is_said       0.416279\n",
      "want_*        0.421141\n",
      "is_what       0.423311\n",
      "\n",
      "\n",
      "utterances\n",
      "> 1999-02-04a.1071.2 0.059 In answer to the hon Gentleman 's first question , the number of abattoirs is less than the fingers on one hand . [ Interruption . ] I said less than the fingers on one hand .\n",
      "> 1997-12-18a.471.2 0.063 I rather share my hon Friend 's view . I recall very recently sitting at dinner next to someone who said that he had been a Euro - sceptic since 1992 , to which my response was , \" Too late . \" What changed my mind was 25 years , two referendums and the experience of the British people , who clearly chose , by a democratic decision , to remain in the European Union . In my view it is now the case that all our interests are irrevocably bound up with our membership of that body , and it is absolutely essential for Britain 's future to make the best that we can of our membership and to work co - operatively with our European Union partners . The classic example of that is economic and monetary union itself . I do not know whether the right hon Gentleman is suggesting , as he seemed to imply , that the Conservative party has now decided that it does not want to participate in economic and monetary union at any point , but I can tell him that that would be disastrous for British business an\n",
      "> 1983-03-17a.342.10 0.065 If UHT milk in Europe has to comply with the same hygiene regulations as are required here , there is no way in which it will undermine our market . At present , UHT milk in France is selling in Paris at 19 to 19½p , compared with fresh milk on the doorstep here at 21p . There is no way in which that could compete with or undermine the doorstep delivery service in this country .\n",
      "> 2012-01-11b.159.7 0.067 What the Prime Minister said stands . There are no current plans for the MOD to reduce the core police role relating to the security of our national institutions , such as nuclear safety at Coulport or Faslane . National security , including the security of our defence installations , is our highest priority . The reason we have so many MOD police in Scotland in the first place is our huge defence imprint , which would be put at risk immediately if the country were to become independent .\n",
      "> 1984-08-01a.325.4 0.067 There is not a balance of payments deficit . I am sorry to bring the right hon Gentleman the good news .\n",
      "> 2003-04-10.394.2 0.068 The causes of truancy are complex and varied . Different practices are adopted in different schools and areas to tackle that . The evidence on setting is mixed . There is evidence of successful setting in certain subjects at certain stages , and other evidence that shows successful mixed - ability practice . What is important is that we enable head teachers to study the evidence that is available and to make the best decision on setting and mixed ability for the children in their schools .\n",
      "> 1982-06-10a.388.8 0.069 The right hon Gentleman wrote to my right hon Friend the Prime Minister . He has made a serious point that deserves a serious and proper answer . First , it is important to say that at no time have we demanded unconditional surrender . We have made it clear that if the Argentine forces in Port Stanley announced their wish to withdraw to the mainland they would be given time to do so with dignity and good order . That is their opportunity . Before their invasion we made it clear to the Argentines that we were prepared to discuss matters affecting the future of the islands with them . Even after their invasion we were prepared to do so if they promptly withdrew . However , their response was to insist on ultimate transfer of sovereignty to them as a pre - condition . That was not acceptable . Since our landings on the islands and the losses that we have incurred , it is unthinkable to negotiate about the future of the islands as if everything was as it had been before . As I am sure that\n",
      "> 2010-10-11c.18.5 0.069 I am grateful to the hon Lady and am delighted to take up the invitation , as I have to many other youth centres and projects around the country ; she may come to regret that invitation . I am afraid that in this financial climate we have to think smarter about how we can provide services . In common with every Department and every other part of this Department 's work , the youth sector is under that scrutiny . My battle is to involve as many providers as possible from the voluntary sector , local authority and others in ensuring that we provide youth services to those most in need of them in the most imaginative way - with less money , because of the previous Government 's disastrous financial legacy .\n",
      "> 2013-05-20b.902.1 0.069 I have said all along that we will keep this under review and talk to local authorities . The Opposition have not once apologised—they did not do so when in government , either—for the fact that , under them , house building fell to its lowest level since the 1920s and that there was more overcrowding . There are 1.5 million spare rooms and 250,000 people live in overcrowded accommodation . There were record levels under the previous Government . Why do they not say sorry for the mess they left housing in ?\n",
      "> 2005-11-01b.721.3 0.070 It is not true that those people go to those countries at will—there is a proper procedure . However , under this sanction regime , as is the case under any sanction regime throughout the world , there is provision to allow members of the Zimbabwe Government to have visas when they are attending international organisation meetings , just as the United States has to allow all sorts of world leaders against whom they deploy sanctions to attend meetings of the United Nations in New York .\n",
      "\n",
      "context-utterances\n",
      ">> 1988-04-20a.820.7 0.154 Does my hon Friend agree that it is not necessary for local authorities to wait for the timetable , and that as competitive tendering is a desirable development they should get on with it now on their own initative ?\n",
      ">> 1985-01-09a.775.5 0.165 When will the Government recognise the appalling housing plight of so many people who need rented accommodation , as well as those tenants who are living in pre - war council dwellings that need to be modernised ? The Minister referred to the Labour Government . Is it not a fact that in 1978 , the last year of that Government , well over 107,000 housing starts were made in the public sector , compared to an estimated 40,000 last year ? This year the figure is expected to be even less . Why do the Government refuse to take action to help people who need somewhere to live ?\n",
      ">> 2012-09-18a.780.2 0.189 Further to Question 6 , is there any indication that any prisoner has received an inappropriate sentence because of the failings of Applied Language Solutions , given that , as the Under - Secretary of State for Justice , the hon Member for Maidstone and The Weald ( Mrs Grant ) said , it has failed to fulfil 5 % of its bookings even after the improvements that she talked about ?\n",
      ">> 1992-12-15a.281.2 0.192 Does my hon Friend recall that there was almost universal hostility from the teaching profession to the national curriculum when it was first introduced ? Does he recognise that there is now tremendous support for it in all schools , but that there is also some anxiety about key stage 3 , in not only English but technology ? Will he at least consider a pilot scheme for a year so that teachers can get hold of the necessary paperwork for the key stage 3 exam ?\n",
      ">> 2012-04-17c.170.4 0.201 Further to Question 9 , is not the worst aspect of the demolitions the practice of punitive demolitions , which is based on the doctrine of collective punishment , and does that not directly contravene article 33 of the Geneva convention ?\n",
      ">> 2005-01-26a.286.4 0.218 I add my praise to the organisers of the tsunami appeal event on Saturday night in Cardiff . When we consider that it took just three weeks to put that event together , it is testimony to what can be achieved with vision and focus . As for the 50th aniversary celebrations in Cardiff , is the Secretary of State aware that while the Millennium Commission has offered £ 1.3 million for those celebrations , to date the Welsh Assembly Government have offered no financial support ? Is the right hon Gentleman willing to have conversations with his opposite numbers and Rhodri Morgan to see that this omission , in my view , can be rectified ?\n",
      ">> 1996-02-07a.323.5 0.218 Does my right hon and learned Friend agree that Britain 's initiative a few years ago in calling a special meeting of the Security Council to examine the reform of the UN was one of the best things that had happened for some time in the area ? Is he also aware that the planning of peacekeeping operations is remarkably amateurish and inefficient ? What new proposals is Britain putting forward on that front ? Does my right hon and learned Friend support the Canadian proposal for a small standby force to be available to the Secretary - General ?\n",
      ">> 1993-02-17a.311.0 0.225 Is my right hon Friend aware that the OECD has forecast that Britain is likely to increase its share of world trade this year ? Is not one reason for that , as Jacques Delors said , that Britain has become a paradise for overseas investment and is not that because the Government have tackled the excessive power of the trade unions and refused to sign the job - destroying social chapter ? Is not that in stark contrast with the union - dominated Labour party , which seems to believe that only the state can generate economic growth—a view which not even the Russians believe nowadays ?\n",
      ">> 1989-11-15a.340.4 0.226 With regard to the discussions that the Secretary of State has had , or will have , does not his conscience trouble him ? Is he not fully responsible for the destruction of the Scottish coal industry , in the stupid belief that nuclear energy is cheaper than coal ?\n",
      ">> 1996-04-03a.383.1 0.228 As the Government will need the support of the all the other countries if there is to be any radical change in the workings of the European Court of Justice , will the Minister list those countries that support the Government 's aims ? Furthermore , on the working hours directive , is not the Government 's case completely undermined by the report that they commissioned which showed a clear link between long working hours and threats to health and safety ?\n",
      "\n",
      "====\n",
      "\n",
      "CLUSTER 2 2\n",
      "---\n",
      "terms\n",
      "              cluster_dist\n",
      "index                     \n",
      "welcome_*         0.174939\n",
      "is_take           0.178166\n",
      "indeed>*          0.204507\n",
      "support_*         0.209341\n",
      "is_important      0.217289\n",
      "is_right          0.219323\n",
      "agree_on          0.220261\n",
      "be_should         0.225752\n",
      "hope_is           0.229722\n",
      "is_course         0.232044\n",
      "\n",
      "context terms\n",
      "               cluster_dist\n",
      "index                      \n",
      "agree_is           0.269454\n",
      "agree_are          0.292272\n",
      "however>*          0.294820\n",
      "agree_with         0.305238\n",
      "is_however         0.326743\n",
      "seek_*             0.337037\n",
      "agree_further      0.341428\n",
      "agree_however      0.349094\n",
      "agree_be           0.354631\n",
      "seek_will          0.354900\n",
      "\n",
      "\n",
      "utterances\n",
      "> 1992-02-05a.280.6 0.071 I entirely agree with my hon Friend . The House will know that 46 British inspectors have been involved in the process of inspection within Iraq . Certainly I pay tribute to them and to their colleagues from other countries . On the second part of my hon Friend 's question , yes , it is important to enhance the verification and inspection powers of IAEA. I hope that we shall succeed in doing that , especially with regard to special inspections of previously undeclared sites .\n",
      "> 1990-12-11a.802.0 0.078 The hon Gentleman is absolutely right and I welcome his support . His party is not renowned for its determination to stand up to proposals emanating from the European Commission . I hope that we can derive some confidence from his words that the Liberal Democrats will agree with our efforts , supported by the CBI and other organisations , to resist those extremely damaging proposals .\n",
      "> 2005-12-05b.599.0 0.078 I entirely agree with my hon Friend and I congratulate those who have been doing that work in his area . Where work has been done through the alcohol misuse enforcement campaign to clamp down on alcohol - related crime , the result has been a significant reduction in such crime . However , he is right to say that there should be no tolerance of organisations that repeatedly sell to under - age drinkers . I support the full use of the powers that we have given police forces and others to clamp down on the sort of morally unacceptable behaviour to which he has drawn our attention .\n",
      "> 2013-02-25b.14.6 0.080 I agree with my hon Friend that that is extremely important . I believe that we will do what he asks , and if we do not , I am sure he will bring it to our attention . Since I first went to the Ministry of Defence nearly three years ago , he has been a doughty exponent of the need for the development of commercial and residential estates on old MOD sites . I pay tribute to him for his work on behalf of his constituents .\n",
      "> 2008-02-05b.773.1 0.084 On the first point , my hon Friend is right about some sluggishness in PCTs in commissioning these services . That is why we have made it a tier 2 issue in the operating framework this year and increased funding by 11 per cent . On the second point , I pay tribute to the work that she too has done on fluoridation over the years . I entirely agree , as do the British Medical Association , the British Dental Association and every reputable scientist who has considered it , that extending fluoridation is the best way to close health inequalities .\n",
      "> 2009-12-16b.959.5 0.088 I congratulate the Daily Record on its campaign against loan - sharking . It is important that we inform everybody that Government - funded money advice centres are there to help people , that in all areas there are loan - sharking investigation teams and that people can look to their credit unions for help . For many families , there is a lot of pressure at Christmas , so they should take advice and use credit unions .\n",
      "> 1998-06-15a.15.6 0.088 My hon Friend is right . However , as we saw when I visited his constituency , the process can not be easy or immediate . There needs to be a commitment on the part of police and local authorities ; they need to win the support of the local community , and they need to listen to members of that community , who best know the type of crime that spoils their lives . A commitment to such a partnership , and to cutting crime , is essential , and I congratulate my hon Friend on the way in which he is encouraging that in his constituency .\n",
      "> 2004-03-09.1367.1 0.088 Yes , I do . There are opportunities for all kinds of imaginative ways of running the railways better . Often , local circumstances dictate how best the railway should be run in that area , and a great deal can be done to tap the creative potential that is there to provide better service for customers .\n",
      "> 2012-01-25a.286.2 0.089 Yes , I most certainly do—2012 is the year to visit Northern Ireland , with the launch of “ Your Time , Our Place ” last week , before returning in 2013 for the UK city of culture . I pay tribute to my hon Friend for his sterling work in encouraging Members to donate to his window to commemorate Her Majesty ’s diamond jubilee . I did a quick ring - round of the Northern Ireland Office , and I am glad to say that I have donated—although I have not told my wife—the Secretary of State has donated and our Minister in the Lords has donated .\n",
      "> 2012-09-12a.263.9 0.089 I pay tribute to the hundreds of skilled workers in the hon Gentleman ’s constituency who contribute so much to United Kingdom and , indeed , international defence through the work that they do at Raytheon and elsewhere , and I agree that this is not the time to be putting that at risk . On the specifics of the Type 26 , it is clear that if Scotland were an independent country , the rest of the UK would be applying European Union procurement rules , which basically keep such contracts for the domestic market . We would therefore be locking ourselves out of the potential for millions of pounds - worth of work involving hundreds of jobs in Scotland , and that is not acceptable .\n",
      "\n",
      "context-utterances\n",
      ">> 1996-04-24a.431.7 0.162 Does my hon Friend agree that , if multi - culturalism is about defending the rights of people of other faiths to worship freely and peacefully , that is something to which we should all subscribe ? However , did my hon Friend detect in the smearing attack on Christianity by the hon Member for Bath ( Mr. Foster ) the idea that multiculturalism means that the Judaeo - Christian tradition of this country is no more or less valid than any other tradition ? Is that not something that she and I should reject completely ?\n",
      ">> 1999-07-12a.17.2 0.166 I agree with what has been said about the excellent work of the specials and the depth of their interest and commitment . However , does my hon Friend agree that the fundamental problem in becoming a special is the need to take time off work , and that there is a need to mount a proper campaign—perhaps alongside the Territorial Army and school governors—to persuade employers of the value of that activity ? That would encourage people to put themselves forward for that interesting and rewarding activity .\n",
      ">> 1985-06-10a.633.9 0.174 I welcome the increase in the number of circuit judges . However , does the Attorney - General agree that there are still intolerable delays in the trials of serious cases in the Crown courts ? Is there not still a considerable need for the appointment of more circuit judges ? Does he also agree that it is the judges who carry much of the responsibility for speeding up the terrible delays which sometimes occur in the police force and in the DPP 's Department over the processing of cases quickly for trial ?\n",
      ">> 1985-11-25a.608.6 0.176 Is the Minister aware that there will be a general welcome for the increase in secondments ? However , does he agree with his hon Friend the Member for Chipping Barnet ( Mr. Chapman ) that the number is still tiny in relation to the size of the Civil Service ? What is the impediment ? Is it that there is such disparity in the terms and conditions of service that it is difficult to switch individuals backwards and forwards ?\n",
      ">> 1998-05-18a.596.4 0.179 I am certainly in favour of using the Select Committee system in the most effective way possible . However , does the right hon Lady not agree that , in her Government 's increasingly farcical handling of the arms to Sierra Leone affair , it was hardly a contribution to the effectiveness of Select Committees that , last week , during Business Questions , she should have referred to correspondence directed to the Chairman of the Foreign Affairs Select Committee that the House had not seen , but which—I need hardly add with this Government—the BBC had ?\n",
      ">> 1993-07-05a.17.1 0.186 Does my hon Friend agree that the significant increase in judicial appointments in recent years from ladies and members of ethnic minority communities is greatly to be welcomed ? However , does he agree also that it is ludicrous for the Labour party to call for some kind of positive discrimination when what the British people need are the best judges ? Is not it absolutely right for the Lord Chancellor to continue to insist that judges will be appointed only on merit and does not the positive discrimination suggested by the Labour party lead Labour into the ridicule and contempt of the British people ?\n",
      ">> 1997-02-10a.1.8 0.189 Is it not a good idea for cyclists to make use of the railway ? I understand that the Secretary of State has an honourable record on this in connection with work that he produced when he was a Back Bencher , which involved my hon Friend the Member for Newham , South ( Mr. Spearing ) . However , has not a new situation arisen with the railways ' fragmentation ? It has presented many blocks and problems , so that information to cyclists about moving throughout the system is difficult to obtain . Pre - booking is beginning to be required . There is the costs problem and there is no official monitoring of cyclists ' problems . Perhaps it is time for the Secretary of State to get on his bike and sort those things out .\n",
      ">> 1995-06-13a.589.1 0.191 Does the Minister agree that any form of discrimination , especially age , is unacceptable ? However , is there not a danger that the slogan \" Too Old , Who Says ? \" could be undermined by Lady Thatcher 's latest efforts to undermine this discredited and dying Government ?\n",
      ">> 2001-01-23a.783.4 0.193 It may not be strictly necessary to mention this , but I have a registerable interest in relation to such matters , which is recorded in the Register of Members ' Interests . The Secretary of State will , of course , have the support of all hon Members for the efforts that are being made to cause the talks to be successful , and he is right to applaud the efforts of President Clinton . However , does he agree that unless there is recognition of the right of return , as contained in United Nations Security Council resolution 194 , then the prospects for a lasting peace will be severely diminished ? Is it not time that the old people who hold in their hands the crumbling deeds of their houses and the receipts that they paid for property tax , should have a hope of returning to the homes from which they were driven or expelled all those years ago ?\n",
      ">> 2001-03-13a.812.2 0.193 I welcome the objective of treating more people in their own homes . However , is the Minister not alarmed that social services budgets throughout the country are expected to finish the financial year more than £ 200 million overspent ? Although he has announced rises in the standard spending assessment for next year , social services directors expect next year to be even tougher . What hope is there that the services the Government talk about can be provided for people in their own homes , if social services departments struggle to meet even their existing commitments out of their existing resources ?\n",
      "\n",
      "====\n",
      "\n",
      "CLUSTER 3 3\n",
      "---\n",
      "terms\n",
      "              cluster_dist\n",
      "index                     \n",
      "understand_*      0.129655\n",
      "take_*            0.144926\n",
      "believe_*         0.156162\n",
      "given>*           0.158650\n",
      "hope_*            0.171039\n",
      "am_sure           0.189488\n",
      "think_*           0.197868\n",
      "at>*              0.209783\n",
      "however>*         0.212377\n",
      "given_*           0.217715\n",
      "\n",
      "context terms\n",
      "              cluster_dist\n",
      "index                     \n",
      "is_in             0.312343\n",
      "in>*              0.358414\n",
      "is_willing        0.373197\n",
      "as>*              0.376415\n",
      "is_that           0.389273\n",
      "bearing>*         0.398627\n",
      "is_important      0.412457\n",
      "start_*           0.422291\n",
      "therefore>*       0.455701\n",
      "agree_not         0.466248\n",
      "\n",
      "\n",
      "utterances\n"
     ]
    },
    {
     "name": "stdout",
     "output_type": "stream",
     "text": [
      "> 1993-05-17a.13.7 0.071 I take careful note of what my hon Friend says , as , no doubt , will colleagues from all parties here and in the other place who serve on the Ecclesiastical Committee , which is to meet later this afternoon and which is now the only possible source of delay . My hon Friend can be assured that the Ecclesiastical Committee will present to the House for his benefit a comprehensive summary of the arguments for and against the ordination of women , I believe with an endorsement to the effect that the measure is expedient .\n",
      "> 1988-10-25a.168.1 0.074 With regard to the right hon Gentleman 's point about Piper Alpha , as he knows , that has yet to be decided . I think that there is a delegation to my hon Friend the Minister of State this afternoon to discuss the possible payment of costs on the inquiry . With regard to the IRA and the Criminal Injuries Compensation Board , I take note of his point and will pursue it .\n",
      "> 2003-03-18.746.1 0.084 I take the very simple view—I think that my hon Friend shares it—that if we want more out of the national health service , we simply have to put more in . That is what the Government are committed to ; it is what the Conservative party opposes .\n",
      "> 1981-06-17a.1005.11 0.088 The closure of schools , to which the hon Gentleman is perhaps referring , is in the first instance a matter for the local authority . We take the view that the closure of rural schools is of particular importance in the local area , that proper consultation must take place if a closure is planned , and that the distance between a primary school and another where closure is contemplated must not be so great as to impose a strain on the children or parents .\n",
      "> 1984-01-23a.617.8 0.091 Of course . My hon Friend will understand that he need not tell me , the right hon Member for Pembroke , about the importance of the milk sector . Nevertheless , there must be adjustments and restraints on prices if the Community 's problems are to be resolved . One of our principal objectives is to ensure that any changes are on a non - discriminatrory basis and that Welsh producers are fairly treated in relation to producers in Europe as a whole .\n",
      "> 1996-05-14a.758.1 0.091 I am sure my that hon Friend will welcome the fact that , especially in the London ambulance service , increased use is being made of paramedics both in ambulances and on motor cycles . I take his point that we must provide the best possible accident and emergency service for everyone . It is for clinicians to guide how that can best be offered in the circumstances . I am sure that my hon Friend welcomes the great increase in the number of accident and emergency specialist consultants .\n",
      "> 1994-07-11a.654.6 0.093 As we indicated in the White Paper last week , we believe that the BBC should provide published objectives for each of its radio services and that the character of its services should not be changed without giving audiences an opportunity to comment on the proposals . I understand what the hon Gentleman says about the potential confusion that can arise .\n",
      "> 1999-10-21a.572.4 0.093 I understand the strength of feeling that underpins the decision that Budgen has made on , I believe , apples and pears . It is selling British produce and not purchasing any more from France . There is a great deal of strong feeling in this country about the French behaviour , and some people take the view that while the French are imposing a ban on our beef we should not buy their products .\n",
      "> 1980-12-04a.412.8 0.095 I am grateful to my hon Friend . I recall that at the meetings we had the farmers asked that , whatever conclusions we came to , we would give them the opportunity of expressing support for the possibility of a producer - financed eradication scheme . We are considering the details of that at the present time . The number of outbreaks this year is very similar to the number in the year before . There is no indication of the type of flare - up of the disease that had been feared in some quarters . I should like to eradicate every disease , but there is a priority in terms of public expenditure as to what we can eradicate . If producers are willing to finance an eradication scheme , obviously I must consider the proposal .\n",
      "> 2011-11-09a.274.4 0.095 I am not aware of any such suggestions in the Electoral Commission report , but my hon Friend is correct to highlight the issues with the Scottish separatists ’ referendum that are causing such uncertainty—the franchise , the question and the timing . [ Interruption . ]\n",
      "\n",
      "context-utterances\n",
      ">> 1983-07-05a.149.3 0.177 Is the Secretary of State aware that in school after school in inner London , PTAs are now fighting to retain teacher ratios and for increased expenditure on amenities ? Their problem is the shortage of financial help from the Government to ILEA. In view of the answers that his junior Minister has already given this afternoon , is he also aware that if there is any attempt to break up ILEA —and there have been attempts in the past—the people of London will know how to tackle the Tory Government ?\n",
      ">> 1991-01-16a.841.1 0.191 In view of the perception of many members of the European Community that the United Kingdom is a bad member of that club , what efforts have the Government taken to publicise in those countries its first - class record in enacting legislation for 1992 ?\n",
      ">> 2010-10-11c.22.1 0.198 In the wake of the Munro report , is the Minister as concerned as I am about the growing number of children being taken into care ? Does he agree that the best way in which to stop more of those personal tragedies is to invest in prevention programmes for babies and their carers in the earliest years ?\n",
      ">> 1995-03-06a.2.3 0.201 Is the right hon Gentleman prepared to accept that confidence in the channel tunnel service is still fragile and that traffic from all parts of the United Kingdom is still dependent on that confidence being reinvigorated and assured ? In the light of recent disclosures , is he prepared to add to his exchanges and correspondence with me on the issues of fire safety and evacuation procedures in the tunnel ?\n",
      ">> 1987-03-03a.718.7 0.206 In view of that answer , is the Minister prepared to tell the Chancellor of the Exchequer to eat his words , introducing the last Budget , when he said that \" lower wages mean more jobs \" ? Does he agree that the real reason for the Wages Act was to cut the wages of the lowest paid workers in order to increase the profits of friends of the Tory party who contribute huge sums to Tory party funds ?\n",
      ">> 1983-02-09a.998.10 0.207 In relation to the import of UHT milk , is it not iniquitous that we should be told by an alien body what we should and should not do about imports ? Is it not a disgrace that at the behest of such a body Ministers propose to introduce legislation in this Parliament to alter the law in accordance with the ruling of the European Court of Justice ?\n",
      ">> 1987-05-05a.568.11 0.209 In view of the notable contribution made by Horseshoe barracks and related facilities to the defence requirements of the nation for many years , is my hon Friend willing to visit Shoeburyness to meet the military personnel and local councillors before a final decision is made on this important issue ?\n",
      ">> 2011-12-06b.145.4 0.210 The major banks argue that they can not be expected to strengthen their balance sheets and increase net lending at the same time . Does the Chancellor agree with the Governor of the Bank of England that that could be achieved if banks were prepared to cut their bonuses and dividends ? In particular , is it not time that shareholders stepped up to the plate and ensured that banks behaved responsibly on the matter ?\n",
      ">> 1994-03-07a.3.5 0.213 In view of the Allied Dunbar , Health Education Authority survey on children 's fitness , does my hon Friend agree with the hon Member for Liverpool , Walton ( Mr. Kilfoyle ) that children 's sport in schools is especially important ? What progress is my hon Friend making with the Department for Education in his efforts to ensure that more competitive sport is played in schools ?\n",
      ">> 2006-03-30b.1030.6 0.216 In spite of the revenue from fuel duty , which is a very large amount , is it not the case that the cost of private motoring continues to decline year on year ? Is it not also the case that , in the light of the climate change review programme published this week , sooner or later all parties in the House are going to face up to the fact that an above - inflation rise in fuel duty is the most effective means of reducing congestion , and of reducing CO 2 emissions in the transport sector ?\n",
      "\n",
      "====\n",
      "\n",
      "CLUSTER 4 4\n",
      "---\n",
      "terms\n",
      "               cluster_dist\n",
      "index                      \n",
      "know_*             0.180781\n",
      "and>*              0.185771\n",
      "want_*             0.190517\n",
      "committed_to       0.191220\n",
      "are_there          0.200138\n",
      "committed_*        0.204326\n",
      "know_will          0.209225\n",
      "give_will          0.216041\n",
      "trying_*           0.222481\n",
      "are_committed      0.222606\n",
      "\n",
      "context terms\n",
      "                cluster_dist\n",
      "index                       \n",
      "recognise_is        0.301617\n",
      "recognise_*         0.319832\n",
      "recognise_will      0.322264\n",
      "recognise_does      0.338649\n",
      "recognise_not       0.349834\n",
      "further>*           0.360798\n",
      "recognise_be        0.373725\n",
      "furthermore>*       0.378644\n",
      "recognise_are       0.389822\n",
      "is_given            0.420853\n",
      "\n",
      "\n",
      "utterances\n",
      "> 2005-06-23a.944.5 0.078 I thank my hon Friend for his kind comments , and I agree with what he says . The Women and Work Commission was set up because achieving equal pay for women remained a problem even many years after the Equal Pay Act 1970 was introduced . The gender pay gap has narrowed significantly but it remains wide , especially in respect of part - time working . This is a complex issue : occupational segregation is one element , but there are many others . I assure my hon Friend that the commission is fully involved with trade unions and the EOC , and with the representatives of many businesses and employers .\n",
      "> 2000-01-12a.270.1 0.079 That is precisely why we shall not implement them . If I might expand on the remarks of my hon Friend , there were reports in The New York Times , during the past two days— [ Interruption . ] I was going to read them out in response to further questions from the Leader of the Opposition , but I never got any . In The New York Times , for example , it was reported that the wave of flu has become widespread , overwhelming emergency rooms , filling hospital beds , and forcing postponement of operations . In many overcrowded rooms , people are simply leaving without being treated . In Ireland , hospitals in Dublin and around the country were forced again to cancel almost all routine surgery and procedures . In Sweden , all the intensive care facilities are full ; some non - urgent operations have been cancelled and closed - down wards are having to be reopened . Elsewhere—in Italy , Norway , Germany , France and Switzerland—there are huge problems as a result of the flu outbreak . Having s\n",
      "> 2001-03-05a.6.1 0.081 I have no wish to be churlish , especially as I read last week of some extremely complimentary remarks that the right hon Gentleman made about the Government 's stakeholder pensions . I am grateful to him for having recognised how valuable a contribution they will make . On the question of fraud , I understand why the right hon Gentleman seeks to clear his name , but he will know that it was not until 1995 that any serious attempt was made to measure fraud and error in the system . It is true , as I said , that in 1997 some efforts were made to deal with the problem ; however , they focused almost entirely on simply detecting fraud that had already entered the system . The National Audit Office recognised the shortcomings of that as the sole strategy , because it almost encouraged people to let in fraud by rewarding them for detecting it . We have stopped fraud entering the system in the first place . As I have told Opposition Members who have asked the question , the fraud and error r\n",
      "> 1994-05-05a.830.8 0.082 The hon Gentleman is well aware of the great concern , energy and effort that the Ministry puts into the matter . I am happy to give him the assurances that he seeks . Furthermore , the regime that we have applied includes extensive checks other than those that are statutorily required . We will continue to maintain our high animal health status , which is a very high priority for the Department . I should be happy if the hon Gentleman would be good enough to send me whatever evidence he has so that we can pursue the matter .\n",
      "> 2008-07-22c.652.1 0.084 My hon Friend raises a very important point . In fact , he must have raised it in his constituency , as the rates of MRSA and C. difficile infection in the Mid Staffordshire NHS Trust were in decline in March this year . All health staff in the area are to be congratulated . We have reduced infection rates significantly for MRSA and C. difficile . Latest data from the Health Protection Agency for January to March show that MRSA bloodstream infections are down 33 per cent . from the same quarter of last year , and by more than 49 per cent . from the 2003 - 04 monthly average . The same is true for C. difficile infections : in the most vulnerable group of those aged 65 and over , the rate is 32 per cent . lower than in the same quarter of last year . NHS staff work extremely hard to drive down the number of infections . I agree that we must not take our eye off the ball , but we must also recognise such significant improvements .\n",
      "> 1994-03-14a.601.11 0.084 The hon Gentleman will be aware that that is a matter for my right hon Friend the Secretary of State for Transport . I can assure the hon Gentleman that my right hon Friend and I will ensure that that matter is given every consideration .\n",
      "> 2006-04-27b.694.6 0.085 No , I do not . We are on a journey with extended schools . As I said , more than 6,000 schools are working with us directly to provide extended services . The baseline survey that we conducted at the outset showed that approximately 95 per cent . of secondary schools and 87 per cent . of primary schools already offered extended activities after school to some extent . There is therefore a great deal of interest and commitment . Extended activities help schools to maximise the attainment of their children and support parents in doing that . Schools that have provided extended activities for some time are convinced of the benefits . I am sure that , as we develop the programme , that will be the case for all schools . The money provided—£840 million so far—is for start - up costs . Schools need to ensure that they sustain activities and we will support them with a charging regime to ensure that they do .\n",
      "> 2004-03-18.445.6 0.086 The hon Gentleman raises several important points . I can assure him that two safeguards are in place as regards any change to trial systems . Such proposals would , first , have to come before this House for its approval following debate and discussion ; and , secondly , they would have to be compliant with our international obligations under the European convention on human rights as enshrined in the Human Rights Act 1998 . As for whether closer work between the Crown Prosecution Service and the police could contaminate the independence of the CPS , the answer is emphatically no . It is a good idea for the police to have early advice on the nature of the charge and what evidence would be admissible . That does not impede the independence of the Crown Prosecution Service , but it will ensure that the police are able effectively to progress the investigation and that the trial works properly .\n",
      "> 2008-05-12c.1045.0 0.087 I am grateful to my hon Friend , my right hon Friend the Member for Makerfield ( Mr. McCartney ) and the Secretary of State for their involvement in relation to the jobs in Wigan . Clearly , we want to make sure that we protect as many jobs as possible , and that will be a consideration when we look at the various options . I will be happy to meet my hon Friend the Member for Wigan ( Mr. Turner ) and my right hon Friend the Member for Makerfield to make sure that we go through every opportunity . There is great interest in the House about the sale of the Tote ; the issue has been with us for some time . We need to make sure that we get the best possible return . I should like to put on the record my tribute to the work force in Wigan and to the Tote 's management , who have been keeping going under difficult circumstances .\n",
      "> 1990-06-13a.279.8 0.087 I am aware of the suggestions for a parliamentary delegation . That could help . Those who are concerned , including my hon Friend , are in touch with the Foreign Office about it .\n",
      "\n",
      "context-utterances\n",
      ">> 1999-03-24a.383.0 0.217 Does the Minister recognise that , although we welcome the measures that have been taken to combat ordinary crime in Northern Ireland , the main concern of the people of Northern Ireland is still the large hoard of illegal weapons held by terrorist organisations ? Does the Minister therefore recall that the hon Member for Foyle ( Mr. Hume ) has consistently said that terrorist hoards of weapons should be given up ? Does he welcome the statement that the hon Gentleman made yesterday , to the effect that semtex should be dumped for General de Chastelain to pick up ? Does the Minister accept that my right hon Friend the Member for Upper Bann ( Mr. Trimble ) has made endless concessions in an effort to get the IRA to live up to the obligations that it took upon itself last year , and that the Unionist people have nothing left to give ? Does he agree that it is long past time for the IRA to live up to its obligations to surrender the weapons ? When the Government consider the matter of crim\n",
      ">> 1985-06-17a.8.2 0.228 When will the Government recognise that in all Welsh towns there are huge waiting lists for improvement grants because so many of our people are living in substandard accomodation ? The Green Paper 's proposals are not the answer to the problem . Why do not the Government at last decide to engage in a major housing drive instead of persistently waffling about tax cuts , which never materialise anyway ?\n",
      ">> 1989-01-19a.477.2 0.243 Is the Minister satisfied with the quality of milk supplied to the consumer by the dairy industry ? Further , what is his view about the marketing opportunities for added value products by the farmer ?\n",
      ">> 1991-02-12a.727.0 0.252 Why are the Government watering down the award when the IAC—a Government - appointed body—has reported to them that teachers ' morale is at rock bottom and that vacancy levels have deteriorated appreciably over the past four years ? When will the Government recognise that there is a serious crisis in our education system ?\n",
      ">> 1985-06-06a.431.1 0.252 Is the Home Secretary aware that serious abuses of the Immigration Act 1971 are taking place and that the procedures he has announced during the last two weeks concerning the treatment of Tamil refugees seeking asylum in this country have met with enormous opposition from Members of Parliament and from all of the immigration advisory agencies and refugee agencies ? Is he further aware that the 24-hour rule for Members of Parliament , concerning the time in which they can make representations , is completely inadequate , and that until Tuesday of this week the immigration officers at Gatwick airport were unaware that they had to inform the United Kingdom immigrants advisory service of any refugee - seekers arriving in this country ? Furthermore , is the Home Secretary aware that on Tuesday of this week a Tamil asylum seeker was removed extra - judicially from this country to Colombo , that his whereabouts are unknown and that it is incumbent upon the Home Secretary to tell the House wha\n",
      ">> 1996-02-21a.360.6 0.254 Is the Minister unaware that slashing the capital budget by 30 per cent . next year and by almost 50 per cent . over the next three years will have the most disastrous effect on universities ' ability to provide for their students ? Further , is he unaware that capital funds are used for the purchase and maintenance of equipment for teaching and research , which is totally unsuited to provision by the private finance initiative ?\n",
      ">> 2016-12-01c.1658.7 0.256 The Prime Minister recently told the CBI conference that we want to avoid a cliff edge . Further to the answer that the Secretary of State gave to my right hon Friend the Member for Wolverhampton South East ( Mr McFadden ) , and given that our EU partners have so far refused to commit to parallel negotiations on our future arrangements alongside those on article 50 , what is the plan if we can not start , let alone conclude , those negotiations within two years ? Will we be forced off that cliff and on to World Trade Organisation rules and tariffs , with all the consequences for jobs and investment that business has warned of ?\n",
      ">> 1985-02-06a.930.6 0.267 Why does the Secretary of State not recognise that hundreds of thousands of people are living in great housing hardship and misery because they can not be housed by their local authority ? Is it not a striking illustration of the Government 's callous indifference that they have each year cut the amount of money made available to local authorities ? In my borough , only because it has not had the money available , no contracts for new council housing have been entered into for the past six years . When will the Secretary of State recognise his responsibility towards people in such a desperate housing plight in my borough and the rest of the country ?\n",
      ">> 2014-11-06b.946.3 0.272 The Labour party has already set out its position on carbon capture and storage as a vital part of our future energy mix . Is the Secretary of State concerned that Europe appears to be falling behind on CCS , and does he agree that his Government need to do more to stop that happening ?\n",
      ">> 2015-01-29a.987.3 0.273 I am grateful to the Minister for that answer . I am sure that he would join me in welcoming the announcement by Northumbrian Water in my area . After consultation with customers , it has introduced a social tariff , and it is working with debt charities to support vulnerable people in my area . However , only 25,000 people nationally benefit from social tariffs , so what practical steps is the Minister taking to encourage the scope and availability of social tariffs for vulnerable people ?\n",
      "\n",
      "====\n",
      "\n"
     ]
    }
   ],
   "source": [
    "a_ec.print_clusters(corpus=parl_corpus)"
   ]
  },
  {
   "cell_type": "markdown",
   "metadata": {},
   "source": [
    "We suggest that the types inferred are slightly messier than those inferred for questions, though there are still discernable interpretations:"
   ]
  },
  {
   "cell_type": "code",
   "execution_count": 36,
   "metadata": {
    "collapsed": true
   },
   "outputs": [],
   "source": [
    "a_ec.set_cluster_names(['progress_report', 'statement', 'endorsement', 'comment', 'commitment'])"
   ]
  },
  {
   "cell_type": "code",
   "execution_count": 37,
   "metadata": {},
   "outputs": [
    {
     "data": {
      "text/html": [
       "<div>\n",
       "<style scoped>\n",
       "    .dataframe tbody tr th:only-of-type {\n",
       "        vertical-align: middle;\n",
       "    }\n",
       "\n",
       "    .dataframe tbody tr th {\n",
       "        vertical-align: top;\n",
       "    }\n",
       "\n",
       "    .dataframe thead th {\n",
       "        text-align: right;\n",
       "    }\n",
       "</style>\n",
       "<table border=\"1\" class=\"dataframe\">\n",
       "  <thead>\n",
       "    <tr style=\"text-align: right;\">\n",
       "      <th></th>\n",
       "      <th>utts</th>\n",
       "      <th>terms</th>\n",
       "      <th>context_utts</th>\n",
       "      <th>context_terms</th>\n",
       "    </tr>\n",
       "  </thead>\n",
       "  <tbody>\n",
       "    <tr>\n",
       "      <th>comment</th>\n",
       "      <td>0.175944</td>\n",
       "      <td>0.201035</td>\n",
       "      <td>0.151253</td>\n",
       "      <td>0.173611</td>\n",
       "    </tr>\n",
       "    <tr>\n",
       "      <th>commitment</th>\n",
       "      <td>0.257680</td>\n",
       "      <td>0.209904</td>\n",
       "      <td>0.099321</td>\n",
       "      <td>0.095486</td>\n",
       "    </tr>\n",
       "    <tr>\n",
       "      <th>endorsement</th>\n",
       "      <td>0.125338</td>\n",
       "      <td>0.144863</td>\n",
       "      <td>0.275901</td>\n",
       "      <td>0.218750</td>\n",
       "    </tr>\n",
       "    <tr>\n",
       "      <th>progress_report</th>\n",
       "      <td>0.041792</td>\n",
       "      <td>0.115299</td>\n",
       "      <td>0.137177</td>\n",
       "      <td>0.154514</td>\n",
       "    </tr>\n",
       "    <tr>\n",
       "      <th>statement</th>\n",
       "      <td>0.399247</td>\n",
       "      <td>0.328899</td>\n",
       "      <td>0.336348</td>\n",
       "      <td>0.357639</td>\n",
       "    </tr>\n",
       "  </tbody>\n",
       "</table>\n",
       "</div>"
      ],
      "text/plain": [
       "                     utts     terms  context_utts  context_terms\n",
       "comment          0.175944  0.201035      0.151253       0.173611\n",
       "commitment       0.257680  0.209904      0.099321       0.095486\n",
       "endorsement      0.125338  0.144863      0.275901       0.218750\n",
       "progress_report  0.041792  0.115299      0.137177       0.154514\n",
       "statement        0.399247  0.328899      0.336348       0.357639"
      ]
     },
     "execution_count": 37,
     "metadata": {},
     "output_type": "execute_result"
    }
   ],
   "source": [
    "a_ec.print_cluster_stats()"
   ]
  },
  {
   "cell_type": "markdown",
   "metadata": {},
   "source": [
    "As with question types, we'll briefly examine the relation between answer types and speaker affiliation. Here, we relate types to the affiliation of the _asker of the question_ for which the answer is provided."
   ]
  },
  {
   "cell_type": "code",
   "execution_count": 38,
   "metadata": {
    "collapsed": true
   },
   "outputs": [],
   "source": [
    "_ = a_ec.transform(parl_corpus, selector=lambda x: x.meta['is_answer'] and (x.meta.get('arc_tfidf__n_feats',0)>0))"
   ]
  },
  {
   "cell_type": "code",
   "execution_count": 39,
   "metadata": {
    "collapsed": true,
    "scrolled": true
   },
   "outputs": [],
   "source": [
    "a_utt_meta_df = parl_corpus.get_attribute_table('utterance',\n",
    "                ['bk_clustering.cluster'])\n",
    "a_utt_meta_sub = a_utt_meta_df.join(utt_meta_df[((utt_meta_df.is_incumbent == True) | (utt_meta_df.is_oppn == True))\n",
    "                    & (utt_meta_df.speaker != '<UNKNOWN>') & (utt_meta_df.party.notnull())\n",
    "                    & (utt_meta_df.govt_coarse != 'thatcher+major')].set_index('next_id'), how='inner')\n",
    "a_utt_meta_sub = a_utt_meta_sub[a_utt_meta_sub['bk_clustering.cluster'].notnull()]"
   ]
  },
  {
   "cell_type": "code",
   "execution_count": 40,
   "metadata": {},
   "outputs": [
    {
     "data": {
      "text/plain": [
       "(84823, 11)"
      ]
     },
     "execution_count": 40,
     "metadata": {},
     "output_type": "execute_result"
    }
   ],
   "source": [
    "a_utt_meta_sub.shape"
   ]
  },
  {
   "cell_type": "code",
   "execution_count": 41,
   "metadata": {
    "collapsed": true
   },
   "outputs": [],
   "source": [
    "log_odds_party_answer  = []\n",
    "for cname in a_ec.get_cluster_names():\n",
    "    entry =  compute_log_odds(a_utt_meta_sub['bk_clustering.cluster'],a_utt_meta_sub['is_incumbent'],\n",
    "                             val_subset=[cname])\n",
    "    log_odds_party_answer += entry\n",
    "log_odds_party_answer_df = pd.DataFrame(log_odds_party_answer).set_index('val')"
   ]
  },
  {
   "cell_type": "code",
   "execution_count": 42,
   "metadata": {
    "collapsed": true
   },
   "outputs": [],
   "source": [
    "a_type_order = log_odds_party_answer_df.sort_values('log_odds').index"
   ]
  },
  {
   "cell_type": "code",
   "execution_count": 43,
   "metadata": {
    "collapsed": true
   },
   "outputs": [],
   "source": [
    "a_display_names = ['Statement', 'Comment', 'Progress report', 'Commitment', 'Endorsement']"
   ]
  },
  {
   "cell_type": "code",
   "execution_count": 57,
   "metadata": {},
   "outputs": [
    {
     "data": {
      "image/png": "[encoded data removed]",
      "text/plain": [
       "<Figure size 216x288 with 1 Axes>"
      ]
     },
     "metadata": {},
     "output_type": "display_data"
    }
   ],
   "source": [
    "fig, ax = plt.subplots(figsize=(3,4))\n",
    "ax.set_xlim(-1.5, 1.5)\n",
    "ax.set_ylim(-.5,4.5)\n",
    "for i,cname in enumerate(a_type_order):\n",
    "    log_odds = log_odds_party_answer_df.loc[cname].log_odds\n",
    "    ax.scatter([log_odds], [i], color='black',s=49)    \n",
    "    ax.plot([-1.25,1.25],[i,i],'--', color='grey', linewidth=.5)\n",
    "ax.plot([0,0],[-2,5], color='grey', linewidth=1)\n",
    "ax.invert_yaxis()\n",
    "ax.set_yticks(np.arange(len(a_type_order)))\n",
    "ax.set_yticklabels(a_display_names, fontsize=14)\n",
    "ax.set_xlabel('log odds ratio', fontsize=16)\n",
    "ax.set_xticks([-1,0,1])\n",
    "ax.set_xticklabels([-1,0,1], fontsize=14)\n",
    "None"
   ]
  },
  {
   "cell_type": "code",
   "execution_count": null,
   "metadata": {
    "collapsed": true
   },
   "outputs": [],
   "source": []
  },
  {
   "cell_type": "markdown",
   "metadata": {},
   "source": [
    "### Ranges\n",
    "\n",
    "We briefly examine the range statistic we computed for each utterance. Below, we plot distributions of ranges for questions of each inferred type, as box plots:"
   ]
  },
  {
   "cell_type": "code",
   "execution_count": 45,
   "metadata": {
    "collapsed": true
   },
   "outputs": [],
   "source": [
    "utt_range_df = parl_corpus.get_attribute_table('utterance',\n",
    "                ['fw_clustering.cluster','fw_range'])\n",
    "utt_range_df = utt_range_df[utt_range_df.fw_range.notnull()].copy()"
   ]
  },
  {
   "cell_type": "code",
   "execution_count": 46,
   "metadata": {
    "collapsed": true
   },
   "outputs": [],
   "source": [
    "fw_range_distrs = utt_range_df.groupby('fw_clustering.cluster').fw_range.describe().sort_values('50%')\n",
    "med_range_full = utt_range_df.fw_range.median()"
   ]
  },
  {
   "cell_type": "code",
   "execution_count": 47,
   "metadata": {},
   "outputs": [
    {
     "data": {
      "image/png": "[encoded data removed]",
      "text/plain": [
       "<Figure size 288x432 with 1 Axes>"
      ]
     },
     "metadata": {},
     "output_type": "display_data"
    }
   ],
   "source": [
    "fig, ax = plt.subplots(figsize=(4,6))\n",
    "ax.set_xlim(.7, .9)\n",
    "ax.set_ylim(-.5,7.5)\n",
    "for i,cname in enumerate(type_order):\n",
    "    med_range = fw_range_distrs.loc[cname]['50%']\n",
    "    left = fw_range_distrs.loc[cname]['25%']\n",
    "    right = fw_range_distrs.loc[cname]['75%']\n",
    "    ax.scatter([med_range], [i], color='black',s=49)\n",
    "    ax.plot([left,right],[i,i], color='black')\n",
    "    ax.plot([-1.25,1.25],[i,i],'--', color='grey', linewidth=.5)\n",
    "ax.plot([med_range_full,med_range_full],[-2,8], '--', color='grey', linewidth=1)\n",
    "ax.invert_yaxis()\n",
    "ax.set_yticks(np.arange(len(type_order)))\n",
    "ax.set_yticklabels(display_names, fontsize=14)\n",
    "ax.set_xlabel('$\\overrightarrow{\\Sigma}$', fontsize=16)\n",
    "plt.rc('xtick',labelsize=14)\n",
    "plt.rc('ytick',labelsize=14)\n"
   ]
  },
  {
   "cell_type": "markdown",
   "metadata": {},
   "source": [
    "We note that the **agreement** question type tends to have lower forwards ranges than the rest, and suggest this reflects the relatively routine, formulaic nature of an exchange involving this question type (\"Do you agree?\" \"I agree completely.\")"
   ]
  },
  {
   "cell_type": "code",
   "execution_count": null,
   "metadata": {
    "collapsed": true
   },
   "outputs": [],
   "source": []
  },
  {
   "cell_type": "markdown",
   "metadata": {},
   "source": [
    "## 5. Pipeline usage\n",
    "\n",
    "We can also apply the framework via a pipeline that handles the following:\n",
    "* processes text (via a pipeline supplied by the user; see cell below)\n",
    "* transforms text to input representation (via `ColNormedTfidfTransformer`)\n",
    "* derives framework output (via `ExpectedContextModelTransformer`)"
   ]
  },
  {
   "cell_type": "code",
   "execution_count": 48,
   "metadata": {
    "collapsed": true
   },
   "outputs": [],
   "source": [
    "from convokit.expected_context_framework import ExpectedContextModelPipeline"
   ]
  },
  {
   "cell_type": "code",
   "execution_count": 49,
   "metadata": {
    "collapsed": true
   },
   "outputs": [],
   "source": [
    "# see `demo_text_pipelines.py` in this demo's directory for details\n",
    "# in short, this pipeline will compute the question and answer dependency-parse arcs,\n",
    "# but will skip over utterances for which these attributes already exist\n",
    "from demo_text_pipelines import parliament_arc_pipeline"
   ]
  },
  {
   "cell_type": "markdown",
   "metadata": {},
   "source": [
    "We initialize the pipeline with the following arguments:\n",
    "* `text_field` specifies which utterance metadata field to use as text input; `context_text_field` specifies the field to use as text input for context-utterances;\n",
    "* `share_tfidf_models` indicates whether we want to train one `ColNormedTfidfTransformer` model for both utterances and context-utterances. In this case, since we want different input representations for questions and answers, we set this argument to `False`.\n",
    "* `text_pipe` specifies the pipeline used to compute the contents of `text_field`\n",
    "* `tfidf_params` specifies the parameters to be passed into the underlying `ColNormedTfidfTransformer` object\n",
    "* `min_terms` specifies the minimum number of terms in the vocabulary that an utterance must contain for it to be considered in fitting and transforming the underlying `ExpectedContextModelTransformer` object (see the `selector` argument passed into `q_ec.fit` above)\n",
    "\n",
    "All other arguments are inherited from `ExpectedContextModelTransformer`."
   ]
  },
  {
   "cell_type": "code",
   "execution_count": 50,
   "metadata": {
    "collapsed": true
   },
   "outputs": [],
   "source": [
    "q_pipe = ExpectedContextModelPipeline(context_field='next_id', output_prefix='fw',\n",
    "        text_field='q_arcs', context_text_field='arcs', share_tfidf_models=False,\n",
    "        text_pipe=parliament_arc_pipeline(), \n",
    "        tfidf_params={'binary': False, 'min_df': 100, 'max_df': .1}, \n",
    "        min_terms=1,\n",
    "        n_svd_dims=25, n_clusters=8, cluster_on='utts',\n",
    "        random_state=1000, cluster_random_state=1000)"
   ]
  },
  {
   "cell_type": "code",
   "execution_count": 51,
   "metadata": {
    "collapsed": true
   },
   "outputs": [],
   "source": [
    "q_pipe.fit(parl_corpus,\n",
    "    selector=lambda x: x.meta['is_question'] and x.meta['pair_has_features'],\n",
    "    context_selector=lambda x: x.meta['is_answer'] and x.meta['pair_has_features'])"
   ]
  },
  {
   "cell_type": "markdown",
   "metadata": {},
   "source": [
    "This should produce the same output as calling the constituent steps separately."
   ]
  },
  {
   "cell_type": "code",
   "execution_count": 52,
   "metadata": {},
   "outputs": [
    {
     "name": "stdout",
     "output_type": "stream",
     "text": [
      "CLUSTER 0 0\n",
      "---\n",
      "terms\n",
      "              cluster_dist\n",
      "index                     \n",
      "why>*             0.433792\n",
      "explain_*         0.450258\n",
      "explain_will      0.476159\n",
      "admit_*           0.520922\n",
      "how>does          0.545040\n",
      "admit_will        0.570400\n",
      "cost_*            0.601069\n",
      "why>does          0.612624\n",
      "explain_is        0.637547\n",
      "explain_to        0.642417\n",
      "\n",
      "context terms\n",
      "             cluster_dist\n",
      "index                    \n",
      "of>*             0.667550\n",
      "is>*             0.683172\n",
      "failed_*         0.689151\n",
      "expected_*       0.690912\n",
      "is_wrong         0.701407\n",
      "is_what          0.707268\n",
      "of_*             0.722738\n",
      "instead>*        0.726977\n",
      "apologise_*      0.728533\n",
      "three>*          0.732311\n",
      "\n",
      "CLUSTER 1 1\n",
      "---\n",
      "terms\n",
      "                cluster_dist\n",
      "index                       \n",
      "ensure_will         0.407149\n",
      "ensure_*            0.412689\n",
      "agree_will          0.484440\n",
      "undertake_will      0.525983\n",
      "take_*              0.535627\n",
      "undertake_*         0.536568\n",
      "may>*               0.543304\n",
      "take_will           0.566800\n",
      "press_may           0.571226\n",
      "press_*             0.593260\n",
      "\n",
      "context terms\n",
      "               cluster_dist\n",
      "index                      \n",
      "am_aware           0.581255\n",
      "am_always          0.593945\n",
      "am_sure            0.628000\n",
      "am_of              0.655275\n",
      "am_grateful        0.659158\n",
      "am_interested      0.666939\n",
      "am_not             0.679442\n",
      "try_*              0.684235\n",
      "confess_*          0.692829\n",
      "seek_*             0.719882\n",
      "\n",
      "CLUSTER 2 2\n",
      "---\n",
      "terms\n",
      "             cluster_dist\n",
      "index                    \n",
      "agree_is         0.313285\n",
      "agree_be         0.326589\n",
      "agree_have       0.371677\n",
      "agree_are        0.392267\n",
      "agree_with       0.417120\n",
      "agree_also       0.431296\n",
      "agree_need       0.459429\n",
      "be_agree         0.505595\n",
      "agree_given      0.518590\n",
      "is_agree         0.523877\n",
      "\n",
      "context terms\n",
      "                      cluster_dist\n",
      "index                             \n",
      "agree_absolutely          0.440895\n",
      "agree_certainly           0.446786\n",
      "agree_will                0.448477\n",
      "agree_is                  0.450768\n",
      "agree_be                  0.457787\n",
      "agree_strongly            0.465542\n",
      "agree_however             0.466209\n",
      "agree_wholeheartedly      0.466694\n",
      "agree_completely          0.467850\n",
      "agree_*                   0.471350\n",
      "\n",
      "CLUSTER 3 3\n",
      "---\n",
      "terms\n",
      "           cluster_dist\n",
      "index                  \n",
      "do_what        0.494729\n",
      "do_can         0.536450\n",
      "do_help        0.539715\n",
      "take_what      0.550735\n",
      "work_with      0.554005\n",
      "work_will      0.555667\n",
      "doing_are      0.573649\n",
      "work_*         0.574394\n",
      "doing_*        0.596905\n",
      "do_*           0.598807\n",
      "\n",
      "context terms\n",
      "                cluster_dist\n",
      "index                       \n",
      "raises_*            0.636251\n",
      "am_pleased          0.673346\n",
      "with_*              0.695410\n",
      "makes_*             0.700331\n",
      "through>*           0.728352\n",
      "are_keen            0.743943\n",
      "are_determined      0.753761\n",
      "had_recently        0.777395\n",
      "thank_for           0.784145\n",
      "are_yet             0.784944\n",
      "\n",
      "CLUSTER 4 4\n",
      "---\n",
      "terms\n",
      "              cluster_dist\n",
      "index                     \n",
      "is_not            0.340599\n",
      "think_*           0.440641\n",
      "think_does        0.480421\n",
      "does>not          0.480930\n",
      "believe_*         0.511179\n",
      "believe_does      0.528576\n",
      "think_not         0.572628\n",
      "has>not           0.582164\n",
      "would>not         0.605298\n",
      "should>*          0.608125\n",
      "\n",
      "context terms\n",
      "                  cluster_dist\n",
      "index                         \n",
      "is_for                0.520541\n",
      "is_therefore          0.525952\n",
      "is_extraordinary      0.533678\n",
      "therefore>*           0.562317\n",
      "is_surely             0.565929\n",
      "is_not                0.576556\n",
      "is_on                 0.592949\n",
      "is_in                 0.594222\n",
      "has_*                 0.610643\n",
      "suppose_*             0.621963\n",
      "\n",
      "CLUSTER 5 5\n",
      "---\n",
      "terms\n",
      "             cluster_dist\n",
      "index                    \n",
      "give_*           0.456398\n",
      "see_*            0.538979\n",
      "give_can         0.543987\n",
      "assure_will      0.548994\n",
      "give_will        0.553678\n",
      "assure_*         0.580302\n",
      "have_*           0.584380\n",
      "discuss_*        0.599421\n",
      "reassure_*       0.610053\n",
      "given>*          0.624857\n",
      "\n",
      "context terms\n",
      "                  cluster_dist\n",
      "index                         \n",
      "understand_*          0.636752\n",
      "assure_*              0.679695\n",
      "when>*                0.683269\n",
      "understand_fully      0.689111\n",
      "am_concerned          0.692593\n",
      "was_about             0.697184\n",
      "understand_will       0.700170\n",
      "am_satisfied          0.704546\n",
      "assure_is             0.708241\n",
      "have_might            0.720801\n",
      "\n",
      "CLUSTER 6 6\n",
      "---\n",
      "terms\n",
      "              cluster_dist\n",
      "index                     \n",
      "tell_*            0.460119\n",
      "can>*             0.506656\n",
      "tell_will         0.515027\n",
      "confirm_*         0.536725\n",
      "say_*             0.550612\n",
      "confirm_will      0.557403\n",
      "tell_can          0.570300\n",
      "say_can           0.593507\n",
      "expect_does       0.661614\n",
      "remain_*          0.664343\n",
      "\n",
      "context terms\n",
      "              cluster_dist\n",
      "index                     \n",
      "am_afraid         0.651999\n",
      "tell_will         0.678107\n",
      "tell_*            0.683149\n",
      "on>*              0.696367\n",
      "tell_can          0.702783\n",
      "tell_are          0.706053\n",
      "have_not          0.712576\n",
      "tell_however      0.723561\n",
      "have_were         0.725421\n",
      "tell_is           0.726888\n",
      "\n",
      "CLUSTER 7 7\n",
      "---\n",
      "terms\n",
      "                cluster_dist\n",
      "index                       \n",
      "be_*                0.380684\n",
      "as>*                0.442467\n",
      "accept_will         0.452264\n",
      "be_not              0.468965\n",
      "recognise_does      0.508869\n",
      "accept_*            0.510929\n",
      "be_would            0.517275\n",
      "in>*                0.519376\n",
      "accept_does         0.528391\n",
      "recognise_*         0.532189\n",
      "\n",
      "context terms\n",
      "              cluster_dist\n",
      "index                     \n",
      "be_indeed         0.597686\n",
      "be_possible       0.640883\n",
      "stated_*          0.644839\n",
      "be_difficult      0.648393\n",
      "be_important      0.649744\n",
      "be_should         0.653422\n",
      "am_certain        0.655182\n",
      "be_on             0.657499\n",
      "be_at             0.659461\n",
      "be_would          0.660128\n",
      "\n"
     ]
    }
   ],
   "source": [
    "q_pipe.ec_model.print_clusters()"
   ]
  },
  {
   "cell_type": "code",
   "execution_count": null,
   "metadata": {
    "collapsed": true
   },
   "outputs": [],
   "source": []
  },
  {
   "cell_type": "code",
   "execution_count": 53,
   "metadata": {
    "collapsed": true
   },
   "outputs": [],
   "source": [
    "q_pipe.set_cluster_names(['demand_account', 'shared_concern', 'agreement', 'issue_update',\n",
    "                     'question_premises', 'request_assurance', 'prompt_comment', 'accept_propose'])"
   ]
  },
  {
   "cell_type": "markdown",
   "metadata": {},
   "source": [
    "The pipeline enables us to transform ad-hoc string input."
   ]
  },
  {
   "cell_type": "code",
   "execution_count": 54,
   "metadata": {
    "collapsed": true
   },
   "outputs": [],
   "source": [
    "new_ut = q_pipe.transform_utterance(\n",
    "    'Can the Minister please explain why the reopening was delayed?')"
   ]
  },
  {
   "cell_type": "code",
   "execution_count": 55,
   "metadata": {},
   "outputs": [
    {
     "name": "stdout",
     "output_type": "stream",
     "text": [
      "question type: demand_account\n"
     ]
    }
   ],
   "source": [
    "print('question type:', new_ut.meta['fw_clustering.cluster'])"
   ]
  },
  {
   "cell_type": "markdown",
   "metadata": {},
   "source": [
    "Here, instead of storing vector representations with a corpus, the pipeline writes these representations to a field in the utterance metadata itself (since the utterance is not attached to a corpus):"
   ]
  },
  {
   "cell_type": "code",
   "execution_count": 56,
   "metadata": {},
   "outputs": [
    {
     "data": {
      "text/plain": [
       "[-0.22965707394434226,\n",
       " 0.10581579121622418,\n",
       " 0.07254644720724363,\n",
       " 0.20469517320080868,\n",
       " 0.10699971871015322,\n",
       " -0.13490207014444577,\n",
       " -0.26702240703760644,\n",
       " 0.13488915445375071,\n",
       " 0.15966352756358362,\n",
       " 0.0107342180615978,\n",
       " -0.20582957448248315,\n",
       " -0.0300809488106593,\n",
       " -0.1253219697701489,\n",
       " -0.1767950015556454,\n",
       " -0.24238622998068718,\n",
       " 0.3250296440985557,\n",
       " -0.3060914209840068,\n",
       " 0.1708864159910593,\n",
       " -0.07358702431952024,\n",
       " 0.4387561934517013,\n",
       " 0.06139064383539123,\n",
       " 0.006236864476251507,\n",
       " -0.39667464447326306,\n",
       " -0.08685370687788838]"
      ]
     },
     "execution_count": 56,
     "metadata": {},
     "output_type": "execute_result"
    }
   ],
   "source": [
    "# note that different versions of SpaCy may produce different outputs, since the\n",
    "# dependency parses may change from version to version\n",
    "new_ut.meta['fw_repr']"
   ]
  },
  {
   "cell_type": "code",
   "execution_count": null,
   "metadata": {
    "collapsed": true
   },
   "outputs": [],
   "source": []
  }
 ],
 "metadata": {
  "kernelspec": {
   "display_name": "Python 3",
   "language": "python",
   "name": "python3"
  },
  "language_info": {
   "codemirror_mode": {
    "name": "ipython",
    "version": 3
   },
   "file_extension": ".py",
   "mimetype": "text/x-python",
   "name": "python",
   "nbconvert_exporter": "python",
   "pygments_lexer": "ipython3",
   "version": "3.6.3"
  }
 },
 "nbformat": 4,
 "nbformat_minor": 2
}
