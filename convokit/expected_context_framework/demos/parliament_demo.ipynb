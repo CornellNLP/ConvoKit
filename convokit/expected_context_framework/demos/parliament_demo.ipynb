{
 "cells": [
  {
   "cell_type": "markdown",
   "metadata": {},
   "source": [
    "# Applying the Expected Context Framework to Parliamentary Question Periods\n",
    "\n",
    "This notebook demonstrates an application of the Expected Context Framework to analyze question periods in the British House of Commons. We will principally use the framework to derive a typology of questions based on their rhetorical role; later in the notebook, we'll explore some other properties that the framework derives. \n",
    "\n",
    "An earlier version of the method is implemented via the `PromptTypes` module in ConvoKit, and is demoed [here](https://github.com/CornellNLP/ConvoKit/blob/master/examples/prompt-types/prompt-type-demo.ipynb). That version, and more details on the dataset, are found in [this paper](http://www.cs.cornell.edu/~cristian/Asking_too_much.html). Details about the Expected Context Framework, and the extended analyses presented below, can be found in [this dissertation](https://tisjune.github.io/research/dissertation)."
   ]
  },
  {
   "cell_type": "code",
   "execution_count": 1,
   "metadata": {},
   "outputs": [],
   "source": [
    "import warnings\n",
    "warnings.filterwarnings('ignore')"
   ]
  },
  {
   "cell_type": "code",
   "execution_count": 2,
   "metadata": {},
   "outputs": [],
   "source": [
    "import pandas as pd\n",
    "import numpy as np\n",
    "import math\n",
    "import os"
   ]
  },
  {
   "cell_type": "markdown",
   "metadata": {},
   "source": [
    "## 1. Loading and preprocessing the training data"
   ]
  },
  {
   "cell_type": "code",
   "execution_count": 3,
   "metadata": {},
   "outputs": [],
   "source": [
    "from convokit import Corpus\n",
    "from convokit import download"
   ]
  },
  {
   "cell_type": "code",
   "execution_count": 4,
   "metadata": {},
   "outputs": [],
   "source": [
    "# OPTION 1: DOWNLOAD CORPUS \n",
    "# UNCOMMENT THESE LINES TO DOWNLOAD CORPUS\n",
    "# DATA_DIR = '<YOUR DIRECTORY>'\n",
    "# PARL_CORPUS_PATH = download('parliament-corpus', data_dir=DATA_DIR)\n",
    "\n",
    "# OPTION 2: READ PREVIOUSLY-DOWNLOADED CORPUS FROM DISK\n",
    "# UNCOMMENT THIS LINE AND REPLACE WITH THE DIRECTORY WHERE THE TENNIS-CORPUS IS LOCATED\n",
    "PARL_CORPUS_PATH = '<YOUR DIRECTORY>'"
   ]
  },
  {
   "cell_type": "code",
   "execution_count": 5,
   "metadata": {},
   "outputs": [],
   "source": [
    "parl_corpus = Corpus(PARL_CORPUS_PATH)"
   ]
  },
  {
   "cell_type": "code",
   "execution_count": 6,
   "metadata": {},
   "outputs": [
    {
     "name": "stdout",
     "output_type": "stream",
     "text": [
      "Number of Speakers: 1978\n",
      "Number of Utterances: 433787\n",
      "Number of Conversations: 216894\n"
     ]
    }
   ],
   "source": [
    "parl_corpus.print_summary_stats()"
   ]
  },
  {
   "cell_type": "markdown",
   "metadata": {},
   "source": [
    "We represent questions and answers as dependency-parse arcs, which we load separately below. In order to capture rhetorical rather than topical information, we remove nouns; furthermore, we only examine the parts of a question that contain the actual question (i.e., we only extract features from sentences in questions that end in question-marks, and ignore the surrounding text). It's worth playing around with the feature representation; for instance, future work could examine output with nouns left in."
   ]
  },
  {
   "cell_type": "code",
   "execution_count": 7,
   "metadata": {},
   "outputs": [],
   "source": [
    "parl_corpus.load_info('utterance',['arcs','q_arcs'])"
   ]
  },
  {
   "cell_type": "markdown",
   "metadata": {},
   "source": [
    "## 2. Applying the Expected Context Framework"
   ]
  },
  {
   "cell_type": "code",
   "execution_count": 8,
   "metadata": {},
   "outputs": [],
   "source": [
    "from convokit.expected_context_framework import ColNormedTfidfTransformer, ExpectedContextModelTransformer"
   ]
  },
  {
   "cell_type": "markdown",
   "metadata": {},
   "source": [
    "To apply the Expected Context Framework, we start by converting the input utterance text to an input vector representation. Here, we represent utterances in a term-document matrix that's _normalized by columns_ (empirically, we found that this ensures that the representations derived by the framework aren't skewed by the relative frequency of utterances). We use the `ColNormedTfidfTransformer` transformer to do this.\n",
    "\n",
    "We derive different tf-idf representations (with different vocabularies and other parameters) for questions and answers, since the two are fairly linguistically different (in particular, we'd like to make sure we capture question-specific constructions). We make this partitioning by passing different selectors into the `fit` function calls below. \n",
    "\n",
    "Note that we set `max_df`, governing the maximum % of utterances in which a term can appear to be considered in our vocabulary, to be quite low, in order to omit very generic terms that we found resulted in noisier output. These parameters can be toggled with as well."
   ]
  },
  {
   "cell_type": "code",
   "execution_count": 9,
   "metadata": {},
   "outputs": [
    {
     "name": "stdout",
     "output_type": "stream",
     "text": [
      "1152\n"
     ]
    }
   ],
   "source": [
    "q_tfidf_obj = ColNormedTfidfTransformer(input_field='q_arcs', output_field='q_arc_tfidf',\n",
    "                                    min_df=100, max_df=.1, binary=False)\n",
    "q_tfidf_obj.fit(parl_corpus, selector=lambda x: x.meta['is_question'] and x.meta['pair_has_features'])\n",
    "print(len(q_tfidf_obj.get_vocabulary()))"
   ]
  },
  {
   "cell_type": "code",
   "execution_count": 10,
   "metadata": {},
   "outputs": [
    {
     "name": "stdout",
     "output_type": "stream",
     "text": [
      "2706\n"
     ]
    }
   ],
   "source": [
    "a_tfidf_obj = ColNormedTfidfTransformer(input_field='arcs', output_field='arc_tfidf',\n",
    "                                    min_df=100, max_df=.1, binary=False)\n",
    "a_tfidf_obj.fit(parl_corpus, selector=lambda x: x.meta['is_answer'] and x.meta['pair_has_features'])\n",
    "print(len(a_tfidf_obj.get_vocabulary()))"
   ]
  },
  {
   "cell_type": "code",
   "execution_count": 11,
   "metadata": {},
   "outputs": [],
   "source": [
    "_ = q_tfidf_obj.transform(parl_corpus, selector=lambda x: x.meta['is_question'] and x.meta['pair_has_features'])\n",
    "_ = a_tfidf_obj.transform(parl_corpus, selector=lambda x: x.meta['is_answer'] and x.meta['pair_has_features'])"
   ]
  },
  {
   "cell_type": "markdown",
   "metadata": {},
   "source": [
    "We then initialize an Expected Context model.\n",
    "* We specify the conversational context we will derive our question representations from is the answers they get. IDs of answers for each question are stored in the `next_id` metadata field, which we pass into the constructor as `context_field='next_id'`\n",
    "* as input, the model will use tf-idf representations from `vect_field=first_tfidf` to represent comments, and `context_vect_field=second_tfidf` to represent context comments\n",
    "* we'll derive `n_svd_dims=25`-dimensional representations, and infer `n_clusters=8` clusters or question types. These parameters can also be toggled with -- more clusters and higher dimensions might result in finer, if potentially less interpretable, distinctions being made between questions.\n",
    "* `output_prefix='fw'` means that the various attributes and vectors that the transformer will eventually write to all have the prefix `fw` in their names."
   ]
  },
  {
   "cell_type": "code",
   "execution_count": 12,
   "metadata": {},
   "outputs": [],
   "source": [
    "q_ec = ExpectedContextModelTransformer(\n",
    "    context_field='next_id', output_prefix='fw', \n",
    "    vect_field='q_arc_tfidf', context_vect_field='arc_tfidf',\n",
    "      n_svd_dims=25, n_clusters=8,\n",
    "      random_state=1000, cluster_random_state=1000)"
   ]
  },
  {
   "cell_type": "markdown",
   "metadata": {},
   "source": [
    "(the following call takes some time to run)"
   ]
  },
  {
   "cell_type": "code",
   "execution_count": 13,
   "metadata": {},
   "outputs": [],
   "source": [
    "q_ec.fit(parl_corpus, selector=lambda x: x.meta['is_question'] and (x.meta.get('q_arc_tfidf__n_feats',0)>0),\n",
    "        context_selector=lambda x: x.meta['is_answer'] and (x.meta.get('arc_tfidf__n_feats',0)>0))"
   ]
  },
  {
   "cell_type": "markdown",
   "metadata": {},
   "source": [
    "### Inferred question types\n",
    "\n",
    "Below we print representative terms, questions, and answers/answer terms for the types we've inferred (note that the output is quite long):"
   ]
  },
  {
   "cell_type": "code",
   "execution_count": 14,
   "metadata": {},
   "outputs": [
    {
     "name": "stdout",
     "output_type": "stream",
     "text": [
      "CLUSTER 0 0\n",
      "---\n",
      "terms\n",
      "                  cluster_dist\n",
      "index                         \n",
      "share_*               0.561461\n",
      "welcome_*             0.565564\n",
      "share_does            0.604726\n",
      "congratulate_*        0.616394\n",
      "use_*                 0.617847\n",
      "am_*                  0.627405\n",
      "impress_on            0.635085\n",
      "encourage_*           0.646977\n",
      "congratulate_may      0.664214\n",
      "join_*                0.678611\n",
      "\n",
      "context terms\n",
      "              cluster_dist\n",
      "index                     \n",
      "is_important      0.557533\n",
      "hope_*            0.567806\n",
      "have_can          0.570490\n",
      "encourage_*       0.571406\n",
      "is_ensure         0.596783\n",
      "and>*             0.613320\n",
      "is_have           0.614779\n",
      "hope_do           0.620393\n",
      "is_get            0.628049\n",
      "is_do             0.628658\n",
      "\n",
      "\n",
      "utterances\n",
      "> 2006-01-12b.407.2 0.425 The Minister knows how fervently the Opposition support his work to encourage links between the universities and industry . In that spirit of cross - party consensus on higher education , will he join me in supporting all those engaged in the study and teaching of disciplines that greatly stimulate and develop the mind , but which do not have an immediate vocational application ? May I also ask him finally to dissociate himself and his party from the remarks of the former Secretary of State , who deprecated the study of taxpayer - funded history ? [ Interruption . ] Medieval history or any other type of history . Does he agree that those remarks were not only sad and surprising from a man who was notionally in charge of higher education , but economically illiterate ?\n",
      "> 1991-07-22a.747.5 0.434 Will the Minister join me in congratulating the Neath - based West Glamorgan Theatre Company on its pioneering work in Welsh language productions , but will he recognise that it needs more funding , especially in view of the reductions in the centrally held funds of educational authorities ? Will the Minister also encourage extra funding for the excellent Pontardawe music festival , which will be attended by 20,000 people on the weekend of 16 to 18 August but receives a derisory Arts Council grant of just £ 1,275 , which would not even buy four seats in a box at Covent Garden ? Does the Minister agree that our rich arts culture can not survive on voluntary enthusiasm and dedication alone ?\n",
      "> 1995-07-06a.512.0 0.438 May I congratulate my right hon Friend on his win ? May I assure him that , like him , I wish to see a Conservative election victory ? Would he agree with me that some of the ideas and policies that I set out in the past two weeks could make an important contribution to that victory ?\n",
      "> 1999-02-09a.113.2 0.441 May I genuinely congratulate the Deputy Prime Minister on the way in which he has carried forward the work of my right hon Friend the Member for Suffolk , Coastal ( Mr. Gummer ) in this important area ? Does he share my disappointment that certain organisations characterised the Buenos Aires conference as an agenda for inaction ? In the context of the question asked by the hon Member for Nottingham , South ( Mr. Simpson ) , how can certain developed countries be prevented from escaping their obligations through some clever footwork ? It is clearly important that the developed world provides a proper and sincere lead for the developing world to ensure that we can get to grips with environmental problems .\n",
      "> 1992-07-13a.796.0 0.442 Does the Secretary of State agree that the role of the voluntary sector , and particularly of unpaid sports coaches and school teachers in their spare time , in improving participation in sport is important ? Does he share the concern that many voluntary sports clubs feel about the level of funding , and especially the burden of the business rate ? Will he join me in the delegation going to see the Treastury about corporation tax and will he give his full support to exemption from corporation tax for the British Olympic Association so as to ensure that the money raised by voluntary effort for the Olympics can be spent on that and not given back to the Government ?\n",
      "> 2002-07-17.285.3 0.444 The Prime Minister will be aware that my constituency has seen a rising number of gunshot incidents , some of which have led to the murder of mainly young men . He is right to say that we need more police on the streets . However , will he join me in applauding the actions of Mothers Against Violence ? Women whose children have been shot and killed have taken the very brave step of publicly standing up to condemn the violence in their communities ; they are trying to change the culture where young men are prepared to use firearms . When my right hon Friend is next in the city of Manchester , will he agree to meet that group of women to give them his support and that of the Government ?\n",
      "> 1994-04-19a.734.3 0.446 Will my right hon Friend join me in regretting today 's announcement by London International of the plant closure in my constituency and urge the company to think again ? If its decision remains unchanged , will my right hon Friend make every effort and take every measure to ensure that all those who are unfortunate enough to lose their jobs as a result will be found new jobs ?\n",
      "> 2015-11-19a.806.5 0.447 May I congratulate my right hon Friend on her speech yesterday and warmly welcome her determination to reach zero subsidy ? Does she agree with me that if we eliminated all subsidy for large - scale solar PV—photovoltaics—and concentrated it on domestic and small - scale solar PV , we could actually achieve our renewables target , protect jobs and reach zero subsidy and grid parity within the LCF earlier than 2020 ?\n",
      "> 1999-02-02a.712.3 0.447 I thank my hon Friend for that reply . In inviting bids for that work , will he welcome and encourage new and innovative practices that complement other measures for developing a national health service for the 21st century ? I have in mind the bid from the Exeter , Plymouth and Open universities , which , in addition to having a strong community focus , will seek to develop training through telematics and information technologies which will be the stuff of communication for doctors in the next century .\n",
      "> 2002-07-24.974.0 0.449 Following the publication of Dame Janet 's interim report on Harold Shipman last Friday , will the Prime Minister join me and other hon Members in expressing sympathy and support to the victims ' relatives ? Does he also agree that the failure of the General Medical Council to strike off Harold Shipman following 77 counts of drug misuse and prescription fraud in my constituency led to many more deaths in Hythe ? May I ask the Prime Minister to take a personal interest in the final report when it is published in the autumn and to expedite the recommendations as urgently as possible ?\n",
      "\n",
      "context-utterances\n",
      ">> 2014-03-25c.141.2 0.437 I do support that . It is very important that small businesses should have access to good internet connections . It is right to point out that even in our big cities and urban areas where connections are available , they are not comprehensive enough : about 5 % of premises in urban areas can not be connected to a high - speed connection . That is a very important feature to be corrected and I hope the local growth deal will do so .\n",
      ">> 1984-12-03a.17.7 0.461 UNDRO is a monitoring , advisory and co - ordinating body with a small organisation , which is not designed to run a major famine relief operation . It is important to have effective co - ordination in places such as Ethiopia , and for that reason we support the action of the United Nations Secretary - General in appointing a special co - ordinator in the form of Mr. Jansson to operate from Addis .\n",
      ">> 1984-04-05a.1111.2 0.463 We welcome the recent initiatives by President Reagan to table further proposals . That initiative was foreshadowed in a speech by Mr. Shultz at the Stockholm conference recently . As my hon Friend knows , we had previously tabled an initiative on chemical warfare , including the right to challenge inspection . We warmly support President Reagan 's present initiative . At a time when chemical weapons have been used , it is extremely important that we should secure a comprehensive ban on their manufacture , stockpiling and use .\n",
      ">> 2015-09-17b.1187.0 0.468 Our energy security relies upon an energy mix . We therefore support shale and feel that the right way to approach it is to have a planning process that councils adhere to . We stand ready to help councils when they need it , and I hope that we will have the opportunity to do so .\n",
      ">> 1995-01-23a.7.0 0.475 The council has a difficult job in ensuring that it proposes qualifying conditions to Ministers that ensure that benefit is paid to miners and ex - miners whose disability can most confidently be attributed to coal dust , rather than to other causes such as smoking . The council has now initiated a review of the qualifying conditions and evidence can be given to that review until 14 April . I strongly encourage the hon Gentleman to ensure that he passes his evidence—including evidence about his constituents , about whom he has written to me—to the council so that it can take it fully into account before giving advice to Ministers .\n",
      ">> 1999-06-09a.646.4 0.477 I know that my hon Friend has expressed that point of view and his concerns on several occasions . I assure him that the full range of safety , environmental and economic issues associated with reprocessing were considered in exhaustive detail during the process of consultation before THORP was commissioned . But if we were to question the continued operation of THORP , that would not be right . THORP is an operation with orders valued at some £ 12 billion , it provides 6,000 skilled jobs and it indirectly supports many more . We have to deal with the issue of radioactive waste , but I do not support the case of those who would like us to abandon THORP.\n",
      ">> 2015-09-14b.749.1 0.478 Yes , my hon Friend makes a very good point . The need for starter homes and affordable homes for people to purchase is as important in rural areas as it is in urban areas , and I am delighted that we will be able to take that project forward and see 200,000 starter homes delivered for first - time buyers across the country .\n",
      ">> 2016-12-07b.213.0 0.482 It is clear that boardrooms should do more to reflect the reality of modern Britain . The Government certainly support the principle of increasing the diversity of boards , which is why we are supporting the business - led ethnic diversity initiative chaired by Sir John Parker . We strongly encourage businesses to act on Sir John ’s recommendations .\n",
      ">> 2013-12-05a.1072.6 0.482 I do support that initiative and I hope it will be possible to visit my hon Friend ’s constituency , because I know how much she does to support the Malvern cluster , which will soon be rivalling the Cambridge cluster and tech city .\n",
      ">> 1981-07-30a.1148.6 0.483 No more does it support the case for a further round of fiscal reflation . As my hon and learned Friend the Minister of State pointed out , the size of the PSBR is one of the main determinants of the level of interest rates . It is important to have that influence working in the right direction .\n",
      "\n",
      "====\n",
      "\n",
      "CLUSTER 1 1\n",
      "---\n",
      "terms\n",
      "              cluster_dist\n",
      "index                     \n",
      "give_*            0.427345\n",
      "give_can          0.526360\n",
      "give_will         0.528818\n",
      "see_*             0.541311\n",
      "assure_will       0.549835\n",
      "assure_*          0.584025\n",
      "discuss_*         0.591057\n",
      "have_*            0.592760\n",
      "reassure_*        0.620947\n",
      "discuss_will      0.627564\n",
      "\n",
      "context terms\n",
      "                  cluster_dist\n",
      "index                         \n",
      "understand_*          0.642189\n",
      "when>*                0.687080\n",
      "am_concerned          0.688567\n",
      "understand_fully      0.689203\n",
      "assure_*              0.690546\n",
      "was_about             0.694483\n",
      "understand_will       0.707195\n",
      "am_satisfied          0.707623\n",
      "assure_is             0.720145\n",
      "assure_can            0.744900\n",
      "\n",
      "\n",
      "utterances\n",
      "> 1992-06-30a.704.3 0.338 Can the Minister give us a guarantee that a contingency plan will be drawn up in the event of the Germans withdrawing from the EFA ? As my hon Friend the Member for Edinburgh , East ( Dr. Strang ) said , there could be job losses in the area that we represent and it is important for the next generation of technology that we go ahead with the project . May we have a guarantee from the Minister that we shall go ahead with it ?\n",
      "> 2004-03-08.1228.3 0.358 I thank the Minister for that reply . I know that he shares my sadness about the regular reports of the behaviour of a significant number of professional footballers over the past year or so , but I want to be positive about the game . When he meets the football authorities will he use his influence to promote the idea of a John Charles fair play award at either national or European level ? The Minister , as a Sheffield United supporter , knows a bit about football . John Charles of Leeds United and Wales was never sent off or booked in his career . In many respects , he represents the age of innocence for our national game . What support can the Minister give to all those of us who want John Charles 's memory to be honoured properly ?\n",
      "> 1994-03-08a.137.3 0.364 May I assure the House that that was not a planted question ? Can the Secretary of State give the House an assurance that the Government are not providing military training to any country that is in breach of any UN resolution , in particular to Indonesia which , as the Secretary of State will I am sure know from seeing the documentary \" Death of a Nation \" , has carried out a policy of genocide against the people of East Timor ?\n",
      "> 1987-04-07a.157.6 0.366 Can the Minister give an assurance that the Government intend to maintain the appeals system in the benefits system ? Will he take account of the fact that there appears to be some pettifogging bureaucracy that is discouraging people from attending appeals tribunals on the side of the appellants ? Will he give a further assurance that he will investigate matters of this sort and see that those friends and other people who attend on behalf of appellants are encouraged , not discouraged ?\n",
      "> 2014-06-17b.957.1 0.370 In view of the rapidly changing circumstances in Iraq , and in view of the fact that the President of the United States has changed his policy a little , may we have continuing reports on the developing situation instead of relying on Question Time or a statement from the Foreign Secretary ? I have had several e - mails in the past few days from women MPs in Iraq who are very concerned about their circumstances . What assurances can we give them ?\n",
      "> 2007-04-19b.427.1 0.375 It is obviously crucial that DEFRA and the Government should set an example , and it is rather worrying that the figures from the Sustainable Development Commission suggest that DEFRA 's own emissions have increased three times as rapidly as the overall national average . However , the quantification of the Government 's impact is crucial , too . As I challenged the Secretary of State in the Budget debate , can the Minister give an estimate of the impact on carbon emissions of the country as a whole of the new measures announced in the Budget ?\n",
      "> 1985-01-21a.723.0 0.377 In view of the importance of communications , to which the Secretary of State referred , what assurances can he give to industrialists and others that the experience on the A55 between Llanfairfechan and Penmaenmawr , which was closed for large parts of last week by a landslide , will not be repeated ? Will he assure us that the Welsh Office will investigate the rumours circulating in the area that the landslides were started by drilling initiated by the Welsh Office ?\n",
      "> 2003-03-26.274.6 0.379 Many of my constituents who are in the armed services are in Afghanistan , and far too many of my constituents are drug addicts because of heroin . Can we see the job through in Afghanistan ? Will the Minister give a commitment to quantify the success in providing alternative employment in Afghanistan over the next year ?\n",
      "> 2010-12-09b.515.4 0.380 Will my right hon Friend give the House a rough idea of the cost of food imported into the country that we are able to , and have the capacity , to grow ?\n",
      "> 2014-04-09d.265.5 0.381 In the spirit of a new positive case for the Union previewed this week by Lord Robertson , can the Prime Minister perhaps give us his view as to which of the four horsemen of the apocalypse will be the first to descend on an independent Scotland ?\n",
      "\n",
      "context-utterances\n",
      ">> 2011-04-26d.21.1 0.503 I am , of course , aware of these issues , which have been raised by colleagues on both sides of the House . At this stage , may I simply reiterate that the consultation team should consider the points that I know my hon Friend and others are making to it ? After the consultation team has fully reflected on all the points , I hope Members will be able to see that it has fully taken them into account in whatever proposals it brings forward .\n",
      ">> 1998-07-01a.353.1 0.510 I am grateful to the hon Gentleman for the responsible attitude that he has taken in this matter and to his constituents for the restraint that they have shown . I fully understand , as do all hon Members , the concern at the prospect of having a paedophile housed in the local community , especially in a rural area such as Rutland . On the future role of Wing Grange , the essential point is that no released offenders will at any time be housed at Wing Grange or anywhere else if they present a risk to the public that can not be contained . Such arrangements will be kept under constant review . Much depends on the response of the individuals concerned , but perhaps I can give the hon Gentleman the assurance that , in any event , there is no question of groups of paedophiles being housed together at Wing Grange , nor of any one paedophile being housed there indefinitely . I can further assure him that Wing Grange will take only offenders whose risk can be properly managed there now and in\n",
      ">> 1979-07-02a.880.4 0.515 I can understand that the hon Gentleman may not necessarily like a Conservative Budget , but a large number of the representative bodies that support the interests of small businesses—the CBI Small Firms Council , the Federation of Self - Employed and the Association of Independent Businesses—have all sent in comments to the Department of Industry saying that they thought the Budget was very welcome to small businesses . That is the opinion of those who represent small businesses , although I appreciate that the hon Gentleman may feel differently .\n",
      ">> 1985-02-28a.449.1 0.537 That goes extremely wide of the question , but I understand the hon Gentleman 's point .\n",
      ">> 2013-06-11b.139.10 0.537 I share the hon Gentleman ’s concerns about the way that NHS funding is allocated to different parts of the country . The allocation in my constituency is about the same as in his constituency , and I have long worried that things like age and rurality are not factored into the final amounts in the way that they need to be . However , in this case NHS England decided that if it was to follow precisely the ACRA recommendations , it would lead to higher growth for areas with better health outcomes and lower growth , or even cuts , for areas with less good outcomes , which it thought would be inconsistent with its responsibility to reduce health inequalities . That is why it is conducting a fundamental review , which it says it hopes will inform the next set of allocations for 2013 - 14 .\n",
      ">> 1996-12-09a.14.1 0.543 The aid to South Africa and to other southern African countries is certainly not mutually exclusive . As my hon Friend knows from our conversations—I am aware of his interest in the subject—we give substantial bilateral aid to Africa . Indeed , three quarters of all bilateral aid goes to the poorest countries . Therefore , we are very well aware of the points that he has raised .\n",
      ">> 1986-01-27a.635.0 0.544 I readily understand the wish of local residents and the hon Gentleman to know the time scale involved . I am satisfied that the Coal Board is doing everything that it can to minimise the nuisance . Work is progressing as quickly as possible to clear the bing as effectively as possible . I am aware that it is important to keep residents informed , and therefore I was pleased to hear from the area director this morning that he is making arrangements for a public meeting to be held as soon as possible , when experts will be in attendance to answer detailed questions .\n",
      ">> 2007-11-29b.425.6 0.551 I was delighted to hear of the formation of Cashfields in my hon Friend 's constituency . I understand that it is relatively new and I wish it every success . Following the collapse of Farepak , more that 100 credit unions throughout the country now offer Christmas savings accounts , which is to be welcomed . I shall shortly be publishing the results of the Government 's financial inclusion action plan , which will include further measures to support the growth of credit unions .\n",
      ">> 2013-11-12f.796.2 0.551 I can give my hon Friend an assurance that we will publish proposals for change in the new year , and they will include a replacement to Labour ’s Human Rights Act 1998 . I can also assure him that we , as a party , will publish a draft Bill later next year . Whether the coalition and this Parliament will choose to accept such a Bill , or whether it needs to wait for a majority Conservative Government , is something I suspect we will discover then .\n",
      ">> 1980-11-27a.566.2 0.553 I am always prepared to look for further ways of cutting public spending . I understand that there is a Bill before the House . Technically , the British Leyland expenditure still comes under the National Enterprise Board , and we have not yet decided on the future of its corporate plan .\n",
      "\n",
      "====\n",
      "\n",
      "CLUSTER 2 2\n",
      "---\n",
      "terms\n",
      "              cluster_dist\n",
      "index                     \n",
      "tell_*            0.497229\n",
      "tell_will         0.545768\n",
      "confirm_will      0.564324\n",
      "confirm_*         0.573774\n",
      "can>*             0.581039\n",
      "how>*             0.588424\n",
      "tell_can          0.597118\n",
      "explain_*         0.600130\n",
      "say_*             0.619994\n",
      "explain_will      0.632284\n",
      "\n",
      "context terms\n",
      "             cluster_dist\n",
      "index                    \n",
      "is>*             0.653612\n",
      "tell_will        0.680050\n",
      "is_what          0.687452\n",
      "am_afraid        0.691371\n",
      "tell_should      0.719463\n",
      "tell_*           0.722463\n",
      "represent_*      0.723182\n",
      "on>*             0.723196\n",
      "tell_are         0.733122\n",
      "expect_*         0.738662\n",
      "\n",
      "\n",
      "utterances\n",
      "> 2014-07-07c.21.3 0.366 Can the Minister confirm whether the Glasgow Passport Office offers a full passport service ? If the answer is yes , will he explain why my constituents have been directed to offices as far afield as Belfast , Durham and Peterborough to pick up their passports ? If the answer is no , will he tell me why does it not offer such a service ?\n",
      "> 2000-03-22a.976.7 0.366 Can the Prime Minister confirm that , despite the Budget yesterday , his Government are set to miss and to break his manifesto promise to raise the proportion of the national income spent on education in this Parliament ? Will he explain why he is allowing his Chancellor to spend almost three times as much on a cut in the basic rate of income tax next year as he has given to schools ? Will he tell the House and the people of this country what has happened to his election priority of education as opposed to Tory tax cuts ?\n",
      "> 2013-10-09a.147.6 0.373 It is truly extraordinary that the Minister continues to defend the bedroom tax . Will he confirm for the record whether , according to the Government ’s own figures , Wales is hit harder than anywhere else in the UK ? As he mentioned the disabled , will he tell us how many disabled households in Wales are hit by the bedroom tax ?\n",
      "> 2003-03-05.816.0 0.379 I want to come back to the issue of foundation hospitals . Will the Prime Minister tell us whether he agrees with the Secretary of State for Health , who said in a speech last month that he was in favour of freeing such hospitals from the constraints of central Government and capital rationing—in other words , from the controls of the Chancellor of the Exchequer ? We have the benefit of having both the Chancellor of the Exchequer and the Secretary of State for Health here today , so will the Prime Minister confirm which of them he is backing in this long - running Government dispute ?\n",
      "> 2011-10-31c.598.5 0.380 Will the Secretary of State confirm the really startling figures from the first quarter of the operation of the new homes bonus , which show that new home starts went down by 18 % compared with the same period last year , and that residential planning permissions went down by 23 % compared with that same period ? If he can confirm that those figures are correct , will he tell us what plans he has to revise the mechanisms of the new homes bonus ?\n",
      "> 1987-12-14a.757.1 0.390 Will the Minister confirm that the Electricity Council employs more people than the Department of Energy ; and will he tell us what they all do ?\n",
      "> 2009-05-20b.1489.5 0.395 The Minister 's predecessor launched the £ 70 million community builders fund in July 2008 with great fanfare . It is there to help our social entrepreneurs and people who want to show leadership in keeping our communities strong . They need support at this time more than ever . Will the Minister confirm that , almost a year later , not one penny has been invested from the fund ? Will he explain why not and tell us when the fund will deliver something more than a press release ?\n",
      "> 1992-02-03a.17.8 0.400 If the Minister can not tell us how many women have been appointed , will he tell us a statistic that I am sure that he will know ? How many of the extra women on the list are card - carrying members of the Conservative party ?\n",
      "> 1998-02-17a.880.0 0.403 How does the Minister understand the process of consultation on the Scottish Parliament ? Will he confirm that the minutes of the consultative group meeting for 19 January confirmed that the decision on the interim location of the Parliament would come before that body ? The Minister accepted that proposal just last week . Why , then , are his civil servants briefing that that decision has already been made in favour of the general assembly building ? Can the Minister say whether that is correct ? If so , what is the point of having consultative meetings if the Scottish Office is proceeding by diktat ?\n",
      "> 1992-10-26a.761.3 0.403 I do not know who should be more offended , Madam Speaker . I welcome the Minister to the Government Dispatch Box on the occasion of my latest and most enduring comeback . Will he confirm that thousands of jobs in construction and manufacturing industry outside London are waiting on a decision on the Jubilee line extension ? It is appalling that the indecision and lack of an announcement from the Government should be leading to so much uncertainty . If the Minister can not make an announcement today , will he tell the House whether he is personally in favour of the Jubilee line extension ?\n",
      "\n",
      "context-utterances\n",
      ">> 1990-10-31a.971.4 0.524 My hon Friend is absolutely right . In the decade up to 1985 , the total subsidy to British Steel , in present - day money , was £ 14 billion . It is hard to know where the Opposition expect to get such money , as they have already mortgaged the future with promises to spend on almost everything else . If they return to a state - controlled , state - regulated or nationally owned steel industry , we shall again be back in that loss - making era .\n",
      ">> 2003-06-10.527.1 0.537 The appearance of members of the Prime Minister 's staff before Select Committees is a matter for the Prime Minister—[Hon Members : \" And the House . \" ] Ultimately for the House , of course , but initially for the Prime Minister , who will clarify the matter . I recall that the hon Gentleman made a fine speech on 18 March , summing up the resolution that was agreed overwhelmingly by the House . On that occasion he was unequivocal in his support for the military action on the basis of the evidence then available— [ Interruption . ] It does the Opposition no good to try to change the terms on which they backed the Government . The basis on which we took the decisions still applies today , and the hon Gentleman knows that very well .\n",
      ">> 1994-05-03a.589.7 0.543 My hon Friend is entirely right . Not only do we have both inflation and interest rates at historically low levels , but we have exports running at record levels and growth this year running at twice the rate in any other significant European country . This is expected to continue next year . It is a result of the policies that the Conservative Government have followed .\n",
      ">> 1997-11-03a.10.3 0.581 In the great history of brass necks in politics , I suppose that the hon Gentleman does not shine out , but savings in this year 's defence budget will have to be made to fill the holes in capability that his hon Friends left . In addition to that , we inherited a 3 per cent . efficiency savings target from the previous Government . The hon Gentleman was a special adviser to the previous Administration , so he knows a little about random , ad hoc , arbitrary cutting of defence budgets . Perhaps he should apologise to the House rather than boast .\n",
      ">> 1996-02-14a.996.1 0.581 I can see that the right hon Lady has nicely caught the spirit of St. Valentine 's day . I shall not be so churlish and I wish her a happy Valentine 's day . My figures on the fall in manufacturing output under the last Labour Government are correct and I will send the right hon Lady those figures so that she does not make the same mistake twice . [ Interruption . ] If she will be quiet for a minute and let me get a word in edgeways , I can tell her that investment has risen six times faster under this Government than under Labour . There is one big difference between investment now and investment in the 1970s : in those days , investment was directed by bureaucrats and politicians into low - grade , dossed - out , state - run industries , but investment nowadays is in high - grade , exportable manufactures .\n",
      ">> 1988-11-14a.732.6 0.582 I am grateful to my hon Friend . I can tell him that 110 schemes have been set up and that 102,000 individuals have taken out personal pensions . If my hon Friend would like to look at the Financial Times of 31 October , he will see a report which says that the figure from a straw poll of life companies , shows … the personal pensions market was extremely buoyant in its first three months .\n",
      ">> 2010-01-11c.392.1 0.588 Our bilateral relationship with the United States is , as the hon Gentleman said , the most important security and defence relationship that we have and will stay that way for the foreseeable future . However , no serious people in the US expect us to do anything other than build good working relationships with our European neighbours and the European Union . They see that as a positive thing , so there is no competition in that regard , as some people appear to think there is or should be .\n",
      ">> 1991-06-06a.390.9 0.589 I can tell my hon Friend the Member for Surbiton ( Mr. Tracey ) , whose question I welcome , that under a Conservative Government there is no possibility whatever of any amnesty ever being declared for anyone who breaks the law . Rather than people waving banners outside Wandsworth prison , perhaps one day we shall see outside magistrates courts ordinary decent people who pay their community charge waving banners that say , \" Those who can pay , should pay . \"\n",
      ">> 1987-07-21a.199.0 0.594 The hon Gentleman asks me to deliberate between my right hon Friend the Secretary of State for the Environment and my right hon and learned Friend the Chancellor of the Duchy of Lancaster . Section 35 of the Race Relations Act 1976 , to which my right hon and learned Friend referred , deals with the restriction applied to members of a particular racial group , of access to education , training and welfare on the ground that that restriction fulfills a special need for improvement in those respects . That in no way contradicts what my right hon Friend the Secretary of State for the Environment said . On the hon Gentleman 's second point , he knows that the south London business initiative and the north Peckham task force and other agencies of my Department are doing their best to help in his constituency .\n",
      ">> 1996-06-20a.988.5 0.599 I am aware of that , and I am sympathetic to the investment made by abattoirs across the country , many of which are seeking higher standards and the EU mark to enable them to export . That export market has now , unfairly , been denied to them . My hon Friend will have heard the answer given by my right hon and learned Friend the Minister when he explained how those abattoirs have been selected for the 30-month cull scheme . I must tell my hon Friend that one of the encouraging things is that the British consumer is still eating beef . We can see in the supermarkets that there is still support in the United Kingdom for the consumption of beef . Therefore , there is an opportunity for all slaughterhouses to slaughter for consumption . Despite the importance of the cull scheme , we must not lose sight of the fact that abattoirs are still slaughtering for consumption , and that is the most important aspect .\n",
      "\n",
      "====\n",
      "\n",
      "CLUSTER 3 3\n",
      "---\n",
      "terms\n",
      "               cluster_dist\n",
      "index                      \n",
      "agree_is           0.181025\n",
      "agree_be           0.189122\n",
      "agree_are          0.260053\n",
      "agree_with         0.268076\n",
      "agree_also         0.310908\n",
      "agree_have         0.316698\n",
      "agree_further      0.362442\n",
      "is_agree           0.404585\n",
      "agree_need         0.454182\n",
      "be_agree           0.468914\n",
      "\n",
      "context terms\n",
      "                  cluster_dist\n",
      "index                         \n",
      "agree_certainly       0.314437\n",
      "agree_is              0.324106\n",
      "agree_however         0.328711\n",
      "agree_be              0.333174\n",
      "agree_*               0.340822\n",
      "agree_will            0.342947\n",
      "agree_also            0.346806\n",
      "agree_with            0.347905\n",
      "agree_have            0.349221\n",
      "agree_absolutely      0.350800\n",
      "\n",
      "\n",
      "utterances\n",
      "> 1981-02-03a.140.1 0.144 Does the Minister agree that a large proportion of the increases in supplementary benefits is due to the rise in the number of unemployed ? Is it not the case that the real value of the flat - rate benefits has been cut and that the projections include the abolition of the earnings related supplement ? Does she agree that it is a disgrace that people are being subjected to the indignity of means - tested benefits , which will be more expensive for the Government ? Does she agree that it would be better to restore the flat rate benefits and stop the abolition of the earnings - related supplement ?\n",
      "> 2000-05-02a.10.7 0.153 With that answer the Minister confirms that postcoding exists when it comes to this form of treatment . Does she agree that that is unfair on a couple in my constituency—hence my question—who are being deprived of the service , whereas if they lived in another part of the country , it would be available to them ? Surely the Government should insist on fairness throughout the country . We must end postcoding .\n",
      "> 1995-11-21a.449.0 0.157 Does my hon Friend agree that it is important to protect small businesses from local authorities such as Labour - controlled Lancashire county council , which is interested only in spending money and not in the level of services that it provides ? Does he agree that it is important for us to look at extra ways of helping to protect small rural businesses from the unified business rate ? Does he agree that the announcement in the rural White Paper will be extremely important for those small rural businesses ?\n",
      "> 1994-05-04a.720.1 0.158 Does my hon Friend agree that , having pressed those countries to shake off the shackles of communism , it would be negligent if we were then to deny them the benefits of free trade ? Does he agree with me that free trade and democracy are not only the guarantees of peace but the best means by which those countries can qualify for membership of the Community in the future ?\n",
      "> 1992-02-25a.800.3 0.158 Does the Minister agree that life - long education is a right , not a privilege , and that it should not be any less of a right just because a person happens to be disabled ? Is the Minister aware that many disabled people are concerned that their rights will be reduced if further education colleges are taken out of local authority control ? Does the Minister agree with the almost unanimous view of the disability lobby that the best way to protect the rights of disabled people would be to introduce anti - discrimination legislation now ?\n",
      "> 2004-11-29a.340.2 0.158 My right hon Friend will be aware that emotions are running high in Scotland over the role of Scottish regiments in Iraq , so does he agree that it is highly irresponsible for political parties , such as the Scottish National party , to describe , as it does , the British flag as the butcher 's apron , thereby implying that our soldiers are butchers ? Does he agree that an apology should be forthcoming from the leadership of the Scottish National party ?\n",
      "> 2007-02-22c.404.6 0.158 I thank the Minister for that reply . Does she agree with her colleague the Minister for Children and Families that all parents should have the right to request flexible working ? Indeed , given that there are so many reasons other than caring responsibilities for people wanting to manage their work - life balance differently , does she agree that there would be benefits for all of society if the right were extended to everyone ?\n",
      "> 2016-03-23a.1560.5 0.167 Does the Minister agree that it would be bad news for Scotland if it became the highest taxed part of the United Kingdom ? Does he agree with Ruth Davidson MSP that Scottish taxpayers should not have to pay any more in tax than fellow Britons in England , Wales and Northern Ireland ?\n",
      "> 1980-03-13a.1545.3 0.168 Does my hon Friend agree that the pharmaceutical and chemical industries are two of the most honest , straightforward and genuine industries ? Hon Members may laugh but they are serious industries . Does my hon Friend agree that it will be a sad day for the House and the country when reactions are based on rumours ? Does he agree that it is wiser for the House to listen to the considered opinion of those who investigate such matters in depth ?\n",
      "> 1986-05-13a.550.10 0.169 Does my right hon Friend agree that , as defence costs rise , there will inevitably in due course be a need to review commitments ? If commitments are to be reviewed , does he agree that that which is least consistent with fair burden - sharing among the NATO allies is the maintenance of 55,000 troops and a tactical air force in Germany ?\n",
      "\n",
      "context-utterances\n",
      ">> 1985-01-17a.499.3 0.191 I agree with everything that my hon Friend has said . Indeed , the NFU 's \" Send a million tonnes of wheat to Africa \" campaign is to be warmly welcomed . With regard to my hon Friend 's first point , it is certainly true that surpluses can erode quite rapidly in very bad years . Nevertheless , we face a substantial surplus this year . The important point about food aid or any cereal exports is that it is cheaper to export direct from the open market than through intervention . That is a very important point in connection with our policy on intervention .\n",
      ">> 2002-07-23.843.3 0.202 I understand and agree with my hon Friend 's desire for a much stronger external policy for the European Union . It is important , however , that , in the absence of that , we all make every effort to try to crack this problem . The Danish presidency is seized of the need to engage on this matter , and the European Commission is in weekly discussion on Kaliningrad on behalf of the whole of Europe .\n",
      ">> 1990-07-10a.162.8 0.203 I entirely agree with my hon Friend . What is more , our new policy for grant - maintained status is proving popular . The number of grant - maintained schools in operation this coming September will be double that of last September . It is clear that parents are opting for grant - maintained schools as applications for places are up by 40 per cent . , so it is also clear that parents , governors , head teachers and teachers like grant - maintained schools . Only the Opposition reject that extended opportunity for parental choice . I suspect that , as with so many of their other policies , they will think again in due course .\n",
      ">> 1991-01-29a.776.6 0.205 I agree with my hon Friend . It is important to take advantage of the situation , even though it is rather grave on the tourism front because of the impact of the Gulf war . The promotional efforts to which he referred are important and there is a real challenge to encourage home tourists to make more use of facilities here . The timing of the promotion is of the essence , but it is for the industry , in conjunction with the British tourist authorities , to decide how to do it .\n",
      ">> 2002-04-10.18.0 0.212 My hon Friend 's point is right . Saddam Hussein is in defiance of the resolutions with which he should comply . However , he has the opportunity to comply with them now . He is not in doubt about what is necessary . The United Nations resolutions are clear ; there are nine and he is in breach of every one . The international community 's position is also clear . Whatever people think about the action that will follow , he must comply with the resolutions . To that extent , I entirely agree with my hon Friend .\n",
      ">> 1996-11-28a.447.2 0.214 I agree entirely . Even when the other continental countries achieve better rates of economic growth , their experience tends to be that that growth does not create jobs as it does in this country . That is because they are over - regulated , they have inflexible labour markets and the costs of employment are far too high . It is therefore extremely important that we should repudiate the social chapter . That sentiment is shared by large numbers of German , French , Dutch and other industrialists . It is quite extraordinary that the British Labour party continues to advocate a turn towards that approach to employment , when the business community in the rest of the continent is hoping to get away from it .\n",
      ">> 1986-10-22a.1164.4 0.214 I agree that it would be desirable to make a statement . However , it is open to the EIS to determine its timetable in the light of the information that it feels it needs to know before deciding on the recommendation to make to its members .\n",
      ">> 1985-12-05a.412.8 0.216 The hon Gentleman seems to suppose that I send people to prison . I do not send people to prison . The courts send people to prison , having listened to the evidence . For serious cases it is right that there should be serious sentences , which often means custodial sentences . I agree with the hon Gentleman to the extent that for the less serious cases the courts should look carefully at alternatives before awarding custodial sentences .\n",
      ">> 1989-05-10a.857.1 0.217 I agree with both my hon Friend 's points . In particular , on his latter point , it is surely right that we in the United Kingdom and the EC should try to establish trading and other relations with the countries that are making progress and respond to that progress as it develops .\n",
      ">> 1987-11-10a.148.5 0.222 I agree with the hon Gentleman 's second point . As for his first question , the objective of all the negotiations and of the agreement that we very much hope is about to be signed is to reduce the number of nuclear warheads in Europe . I am convinced that the agreement will achieve that aim . When that has happened we shall have to make sure that our remaining armaments are credible and that they hold together as a coherent weapons system .\n",
      "\n",
      "====\n",
      "\n",
      "CLUSTER 4 4\n",
      "---\n",
      "terms\n",
      "           cluster_dist\n",
      "index                  \n",
      "do_what        0.510104\n",
      "do_help        0.542297\n",
      "do_can         0.549668\n",
      "take_what      0.558956\n",
      "work_with      0.559757\n",
      "work_will      0.560180\n",
      "doing_are      0.581044\n",
      "work_*         0.582551\n",
      "doing_*        0.603983\n",
      "have_what      0.604028\n",
      "\n",
      "context terms\n",
      "                cluster_dist\n",
      "index                       \n",
      "raises_*            0.642016\n",
      "am_pleased          0.686334\n",
      "with_*              0.708684\n",
      "makes_*             0.722158\n",
      "through>*           0.729139\n",
      "are_determined      0.756542\n",
      "are_keen            0.757121\n",
      "continuing_are      0.780108\n",
      "are_yet             0.783221\n",
      "had_recently        0.786321\n",
      "\n",
      "\n",
      "utterances\n",
      "> 2012-03-01a.410.1 0.407 In Kent , a lot of our water comes from an underground chalk aquifer . What is its long - term sustainability , and what can the public and local businesses do to help ?\n",
      "> 2011-03-31d.515.6 0.409 I am very lucky to have many successful manufacturing businesses in my constituency , and I am always one to talk up our manufacturing expertise , whether it is David Brown Engineering in Lockwood , Thornton and Ross pharmaceuticals in Linthwaite , Equi - Trek horseboxes in Meltham or any one of many others . However , some of my smaller businesses are still reporting problems with bank lending . How aware is the ministerial team of this problem , and what can we do to help such businesses to achieve multimillion pound turnovers ?\n",
      "> 2008-11-18b.115.2 0.420 Can the Minister do more as a matter of urgency to help local authorities and even housing associations to buy up unsaleable flats and other developments for social housing ? That would help the economy , the housing market , which needs a lot of help at the moment , and our constituents who need social housing .\n",
      "> 2013-05-15b.626.6 0.425 As well as reducing corporation tax , what else can the Government do to help small businesses in Wales ?\n",
      "> 2011-01-10b.7.0 0.428 I thank the Minister for her response and commend the work she is doing in this field . Voluntary organisations in my borough of Bexley are very keen to assist the disabled into work and many are already doing so . What more can the Government do to help utilise the talent and skills of disabled people in the work force ?\n",
      "> 2005-11-01b.720.0 0.433 I know that my right hon Friend has concerns about Zimbabwe , but the big issue is what role the African nations can play . What role is our new high commissioner playing in trying to persuade South Africa to use some sanctions , which is what it will take if we are to break the evil regime of Mugabe ? What else can we do , and what role is our high commission playing ?\n",
      "> 2010-10-19a.792.3 0.433 Are my right hon and hon Friends aware of the devastating consequences , particularly for victims of domestic violence , of the decision taken by the Legal Services Commission to halve the number of legal aid providers ? In the whole of my constituency of South Northamptonshire we have only one small firm specialising in domestic violence legal aid cases , yet it has just been told that its licence will be revoked . Can Ministers do anything to help my constituents ?\n",
      "> 2014-04-03a.993.6 0.434 My constituent , Mr Davis , has late onset spina bifida . He needs a wide range of electrical equipment just to live his daily life , including an electric bed and wheelchair , and machines to keep his legs from swelling . Because Mr Davis has an occupational pension and is not in receipt of means - tested benefit , he can not get any of EDF ’s energy - efficient schemes or special tariffs . As a result , he pays £ 250 a month for electricity . After this week ’s Work and Pensions Committee report criticising the Government for targeting disabled people , what can the Minister do to help Mr Davis ?\n",
      "> 2007-10-09b.158.2 0.434 To follow up on the points that colleagues have made about the importance of the economy of Palestine , does my hon Friend recognise that the Balls and Cunliffe report made it clear that there is high and growing unemployment among the Palestinian people and that that is increasingly speedily making the situation worse ? What can the British Government do to help to tackle that crisis ?\n",
      "> 2007-03-27d.1296.6 0.438 My constituents want to know that they have a Government who are on their side , helping people who are working hard on limited incomes to get on in life . What more can the Government do to help people earning perhaps £ 10,000 or £ 12,000 a year who are keen to start a family , but want to wait until they have got on the housing ladder and can buy or rent a home of their own ?\n",
      "\n",
      "context-utterances\n",
      ">> 2007-06-26b.151.7 0.609 My hon Friend raises an important point . The NHS keeps detailed records on every patient who is subjected to compulsory treatment of whatever kind , but she is absolutely right to say that , as we give patients access to psychological therapies often at a much earlier stage in the development of mental health problems , it is likely—this would be of great benefit to those patients and their families—that we can avoid the need for more acute treatment , and particularly compulsory treatment , further down the line .\n",
      ">> 1988-11-29a.561.4 0.632 My hon Friend is right . We are concerned about what should be happening in NATO. Through a United Kingdom initiative , NATO has embarked on a study of both supply and demand , which we hope will enable us to assess the requirement accurately .\n",
      ">> 2008-01-24b.1614.4 0.632 My hon Friend should be assured that the interim Poynter review has already identified some of those issues . The management of HMRC are working to establish data security while the review is ongoing . We await the final findings , which will deal with those issues in more detail . I can assure my hon Friend that I shall take on board all his points , which are fair , and that we will make changes to structures and systems in order to ensure that the highest standards can be guaranteed in future .\n",
      ">> 2000-11-23a.424.0 0.645 I thank my hon Friend for his question . He is a staunch advocate of the new deal in his constituency , which has helped employment to rise and unemployment to fall there . We are deeply concerned about the fact that in his and surrounding constituencies , about 6,000 people are facing redundancy . Through the rapid response unit and the new deal for 50-plus , we have to send the message that if people lose their job at 50 , their working life is not over .\n",
      ">> 2006-06-05b.11.1 0.650 The hon Gentleman raises an important point . We estimate that , when switchover is complete , 98.5 per cent . of the country will be able to receive digital television services . As he will know , that is roughly comparable with the number of people who can receive analogue services and we expect the 1.5 per cent . who can not broadly to map each other , although it will not be exactly the same . We will need to address the issue of those who will not be able to receive pictures in 2012 . We are conscious of that and working on it now . It is a significant number of people . It is worth bearing it in mind , though , that 1.5 per cent . of the country does not receive television pictures . We need to improve on that and undoubtedly technology will help us in that process . We are determined to work with the hon Gentleman and other hon Members who may have constituents who do not receive analogue pictures so that we can bring everything we know and the technology to bear to help every c\n",
      ">> 1998-03-05a.1189.0 0.651 I know that the Home Office will look at the Law Commission report and take it into consideration in its work . My hon Friend can be assured that the Government are determined to combat bribery , wherever and whenever it may occur . The United Kingdom 's anti - corruption legislation is among the most comprehensive in the world and we are working within the Organisation for Economic Co - operation and Development and the European Union to ensure that our major overseas competitors enact similar legislation . On the other matter raised by my hon Friend , it is for the company concerned to decide whom it wishes to employ .\n",
      ">> 2009-11-24e.385.2 0.652 My hon Friend raises with me an issue that I am happy to discuss with her at a later date .\n",
      ">> 2010-11-11b.419.5 0.653 The hon Gentleman makes some very good points . I am pleased to tell him that the Minister of State , Department of Energy and Climate Change , my hon Friend the Member for Wealden ( Charles Hendry ) , had an excellent meeting with members of the Northern Irish Government yesterday . We are determined that the whole United Kingdom should be able to share the benefits and the investment involved in the transition to a green , low - carbon economy .\n",
      ">> 2012-01-17b.611.2 0.656 My hon Friend is quite right to raise this matter . We have highlighted to our posts around the world the key commitments in the human trafficking strategy that they can help to deliver . Those include engaging with foreign Governments to ensure that common challenges are identified , and encouraging them to work with us to address those challenges . We have asked each of our posts to identify a single point of contact on human trafficking , and we are working in consultation with colleagues across government and with non - governmental organisations to bring together all the work that is already going on , including on the specific local challenges in each country . He can therefore be assured that our posts across the world are working hard on this .\n",
      ">> 2003-06-09.395.0 0.657 One of the things I sensibly did , anticipating the question , was to check whether the Dundee call centre , which serves the hon Lady 's constituents , had had any problems with its telephony . I was assured that it had not . Indeed , the system was working very well and at least 94 per cent . of calls got through first time , which is a good record for any call centre , whether in the public or private sector . On personal access , I know that there are surgeries every Thursday at the A.K. Bell library in Perth , on the first Tuesday of the month at the Kinloch Rannoch medical practice , and on the last Wednesday of every month in Crieff library , as well as at Kinross - shire day centre in Kinross on the last Tuesday of every month . If the hon Lady or indeed other hon Members have suggestions as to how the surgery arrangements for constituents offered by the Pension Service can be improved , I and the Pension Service will be very pleased to consider them .\n",
      "\n",
      "====\n",
      "\n",
      "CLUSTER 5 5\n",
      "---\n",
      "terms\n",
      "              cluster_dist\n",
      "index                     \n",
      "is_not            0.446276\n",
      "why>does          0.515228\n",
      "think_does        0.534604\n",
      "think_*           0.538671\n",
      "believe_*         0.560391\n",
      "does>not          0.570308\n",
      "explain_is        0.576377\n",
      "stop_*            0.582624\n",
      "believe_does      0.591538\n",
      "is_true           0.604974\n",
      "\n",
      "context terms\n",
      "                  cluster_dist\n",
      "index                         \n",
      "therefore>*           0.536575\n",
      "is_therefore          0.551210\n",
      "wonder_*              0.562381\n",
      "surely>*              0.591958\n",
      "is_on                 0.636717\n",
      "is_at                 0.641183\n",
      "is_suggest            0.642476\n",
      "of>*                  0.643083\n",
      "is_extraordinary      0.644015\n",
      "is_in                 0.668729\n",
      "\n",
      "\n",
      "utterances\n",
      "> 1996-10-15a.580.2 0.362 Will the Minister confirm that just 605 houses were started by local authorities in England last year ? As an example , in the north - west there are 14,000 homeless families , but not one house was started by local authorities in the north - west—not one house in Blackpool , Bolton , Bury , Oldham , Rochdale or Manchester . Does he not think that that is a disgrace ? Does he not realise that many local authorities have capital receipts ? That money should be invested in finding somewhere decent for homeless people .\n",
      "> 1982-12-01a.259.4 0.367 Is not the low level of transport in rural areas , and generally , due to a lack of investment in transport by the Government , and is not the biggest restrictive practice in transport precisely that lack of proper investment by the Government ? When this matter is examined on a world scale , is not the United Kingdom among the lowest on the international list ? Is not the real reason for that the lack of proper rural transport ?\n",
      "> 1985-06-26a.916.0 0.373 Why does the Minister persist in putting all the blame on Nicarague ? Would not our relations with Nicaragua and peace in Central America be significantly improved if the Government said categorically that they did not support the American policy of giving money to the Contras , and that they do not support President Reagan 's avowed aim of getting rid of the Sandinista Government by peaceful or other means ? Is that not the right policy for us ?\n",
      "> 1980-06-04a.1422.0 0.374 Does not the process of charging for planning applications mean that , under the weird system which is proposed in the order , that the Minister has put before the House , it will take longer to determine the fee to be charged ? Is it not true that in certain circumstances the fee is miscalculated ? Is not the only decent and proper course open to the Minister for him to withdraw the order , stop the smokescreen about reviewing the position in six months ' time , admit that his officials have agreed that the order is defective and stop—if the report in The Guardian yesterday is right—blackmailing local authorities into making charges ?\n",
      "> 1981-04-28a.641.1 0.376 Why is the Minister permitting the MSC 's employment division to lose 1,700 jobs and £ 80 million in the years ahead ? Does not that presage a decline in services for the unemployed who should have an increase in services ?\n",
      "> 1990-01-11a.1081.2 0.377 Does the Minister agree that there is little value in reducing the salmonella content of British eggs if we allow salmonella to be imported wholesale ? Will he confirm the point made by my hon Friend the Member for South Shields ( Dr. Clark ) that salmonella has been found in imported Dutch eggs but that , by the time that tests reveal the presence of salmonella , the eggs have been distributed and are adorning the breakfast plates of Britain ? Why does the Minister not use the available EEC regulations on contaminated food and stop the distribution of imported eggs until they arc tested and cleared ?\n",
      "> 1984-04-02a.646.6 0.378 Has not organisation at GCHQ been grossly undermined in the last few days with the introduction today of the polygraph ? Why does not the hon Gentleman withdraw that evil device and restore the rights of people at GCHQ to live by the loyalty that they have traditionally shown to the nation ?\n",
      "> 1999-05-17a.622.1 0.381 Is it not the case that increasing demands for all library services , particularly IT , are being met with diminishing budgets because of pressure from other service areas ? Is it not also the case that book funds throughout the country are being raided to maintain libraries and keep them open ? Is there not a case for the right hon Gentleman to look to match the statutory duty with a specific standard spending assessment element for libraries which is directly related to the level of service provided ?\n",
      "> 1988-02-04a.1149.3 0.387 Is not the equivalent of the set - aside scheme paying workers to watch lathes , brush them down and oil them ? When one puts aside all the jargon , is not the effect of the scheme that we are paying farmers £ 150 per acre to watch grass grow ?\n",
      "> 1984-11-20a.142.8 0.388 Does the hon Gentleman realise that 1984 will see twice as many working days lost through industrial action as happened in the last year of the Labour Government , in 1978 ? In the years subsequent to 1978 we have had three pieces of industrial relations legislation from this Government . Does the hon Gentleman think that the number of lost working days is a sign that that legislation has failed or a sign of its success ? Are not this Government concerned with causing chaos in industrial relations ?\n",
      "\n",
      "context-utterances\n",
      ">> 2008-11-06b.337.0 0.460 The simple reason why we are likely to have to apply for derogation under the new directive that gives member states the ability to apply for additional time is the existing problem that we have with PM10 and nitrogen dioxide , which , by definition , is nothing to do with any decision that may yet be taken about the expansion of Heathrow . That is a problem we have now . Therefore , the answer that I gave in May was completely accurate .\n",
      ">> 1994-03-10a.385.0 0.479 I am sorry to disagree with my hon Friend . Of course , there are systems of parole whereby some people may be released before they have served their full sentence , but it is wrong for my hon Friend to suggest that in all cases of murder the offender will serve about 12 years . The advantage of the mandatory life sentence for murder , with discretionary release at the end , is that it can cover a great many gradations of murder . Some people will serve shorter sentences , but I repeat that some people who are sentenced for murder may never be released .\n",
      ">> 1998-03-03a.847.4 0.487 Surely the hon Gentleman is aware that the Government are implementing the manifesto commitment to conduct a fundamental review of our roads programme ; to decide what role roads play in an integrated transport policy ; and to determine what criteria should be taken into account in choosing which roads to give priority to . In the business plan for its proposed PFI scheme , Dorset county council envisages signing the contract in 1999–2000 .\n",
      ">> 1987-07-22a.354.6 0.490 The figure of 80 per cent . was the outside limit of a range from 80 to 95 per cent . The hon Gentleman is therefore mistaken in his assumption . The vast majority of people are law abiding , the Act is now the law of the land , and we can expect that most people will pay it .\n",
      ">> 1989-07-06a.457.4 0.493 On the first point that the hon Gentleman has made , I have to tell him that he is mistaken . Of the other countries that he mentiooned , only one has mortgage interest payments in its index , and a great many of them—in fact , about a half of them—have nothing at all for owner - occupier housing costs , nothing at all . Therefore , the only way to have a truly comparable figure is to take owner - occupier housing out , which is what I did , and that is a very different comparison between the 6 per cent . and the 4¼ per cent . As for the second question that the hon Gentleman put to me , the answer is : lower than it is today .\n",
      ">> 1996-07-01a.547.2 0.494 My hon Friend is on to a good point . The liaison between my office and the Crown Office in Edinburgh would clearly be confused if there were a tax - raising Scottish Parliament . I wonder whether the hon Member for Linlithgow ( Mr. Dalyell ) , who tabled the question , will continue to persevere with probing his colleagues about the West Lothian question , to which we have had no satisfactory response .\n",
      ">> 1999-07-15a.548.0 0.498 I wonder where the hon Gentleman has been . Of course there is a challenge in global competitiveness , but where was he when we boosted the science , engineering and technology budget by £ 1.4 billion to underpin basic research ? We have £ 25 million for the science enterprise challenge and £ 20 million for the reach out fund , as well as funds for the SMART schemes and the foresight - link awards to foster engineering . We believe that we will address the shortfall not by doing things for industry , but by putting in schemes to underpin the innovative approach to competitiveness to ensure that our engineers make world - class products and can win their way forward .\n",
      ">> 1994-03-28a.632.6 0.498 I wonder where the hon Gentleman has been for the past five minutes while I have been telling the House about the reduction in prices in most of the privatised utilities . He clearly has no idea what he is talking about .\n",
      ">> 1983-03-31a.451.8 0.501 Oh , yes . That is not new . I wonder whether the Manchester city council , which is the flagship of the so - called nuclear - free zone council movement , might consider proposing to protect its people—after all it is two - thirds of Manchester 's police committee—against crime by proposing a burglar - free zone .\n",
      ">> 1983-07-19a.174.4 0.504 As the right hon Gentleman has been a member of a Cabinet , he is fully aware that one never reveals agendas , let alone the contents of papers , in advance . He is fully aware of that practice and I am surprised that he should wish to break it , other than for his own personal reasons .\n",
      "\n",
      "====\n",
      "\n",
      "CLUSTER 6 6\n",
      "---\n",
      "terms\n",
      "                cluster_dist\n",
      "index                       \n",
      "be_*                0.380167\n",
      "as>*                0.446805\n",
      "accept_will         0.458083\n",
      "be_not              0.463601\n",
      "be_would            0.508921\n",
      "recognise_does      0.509598\n",
      "accept_*            0.516023\n",
      "in>*                0.517295\n",
      "recognise_*         0.532365\n",
      "accept_does         0.533569\n",
      "\n",
      "context terms\n",
      "              cluster_dist\n",
      "index                     \n",
      "is_surely         0.573458\n",
      "be_indeed         0.604535\n",
      "is_not            0.627032\n",
      "stated_*          0.638818\n",
      "has_*             0.640160\n",
      "be_possible       0.643052\n",
      "be_difficult      0.650494\n",
      "be_important      0.650706\n",
      "am_certain        0.651591\n",
      "however>*         0.652481\n",
      "\n",
      "\n",
      "utterances\n",
      "> 1985-12-11a.907.6 0.298 Is the Secretary of State aware that it might do him a whole lot of good to visit Gartcosh , if only because a change of company might be helpful ? Is he aware also that if he ever meets the men and women of Gartcosh he will find that they are people who say what they mean and mean what they say ? They would never be a party to the disgraceful betrayal which we witnessed in the Select Committee on Scottish Affairs this morning , which was a contribution to the pantomime season and a disgrace to Scotland ? Will he accept that the men and women of Gartcosh believe that they have a future and that Ravenscraig has a future and that Scottish Members are determined to fight for that future , in the knowledge that they have the overwhelming support of the Scottish people ?\n",
      "> 1989-10-19a.259.3 0.312 Does the Chancellor recognise that since the last quota increase the growth in the world economy and the emergence of the international debt problem on their own justify a larger rate of increase than the Government are willing to support ? Does he accept that historically important changes are taking place in eastern Europe , the success of which will depend on the economic progress of the countries concerned ? Would it not be tragic if this unique opportunity , from which we have so much to gain in the West , were missed because we starved the IMF of the resources that it needs to play a constructive role ?\n",
      "> 1986-04-29a.773.8 0.313 Will the Minister accept that the Government 's proposals could inflict gratuitous extra hardship on some of the most severely disabled people in this country , and could force them into the sort of subhuman existence that Granada 's \" World in Action \" documentary so strikingly exposed last night ? Is he prepared to consider an as - of - right community care addition to meet the additional requirements of disabled people ? Would it not be self - defeating as well as inhumane not to do so ?\n",
      "> 1997-01-13a.4.6 0.313 Will not this project be , in effect , the Northfleet town bypass ? The town will have , on one side , the Thames tunnel of the channel tunnel rail link and , on the other , Ebbsfleet international station . During the construction of those large projects , heavy goods vehicles will rumble through the town , as there is currently no other route for them . Does my hon Friend accept that the people of Northfleet are fed up to the back teeth with Kent county council , which has delayed the introduction of the project ? Two years after the public exhibition , the council is now involved in an inspector 's inquiry . Will my hon . Friend give an assurance that , as and when Kent county council does its work properly , he will ensure that the inquiry is carried out as fast as possible ?\n",
      "> 1982-03-01a.10.9 0.317 From those horrendous figures , is it not undeniable , despite what Lord Stokes told us would happen at the time , that Common Market membership has proved disastrous and catastrophic to the British motor vehicle industry ? We negotiate limits on Japanese imports , which will allow in more EEC imports , but will the Minister accept any responsibility for the existence of the British motor industry ? We are investing in the motor industry and seeking to build it up , but would it not be wise to negotiate import ceilings on EEC imports in the same way as we do with Japan , regardless of what the Treaty of Rome says ?\n",
      "> 2016-02-29c.666.1 0.320 Does my right hon Friend accept that by advancing the rather quaint idea that somehow our membership of the EU enhances our national security , he is merely playing into the hands of people such as Mr Juncker and Chancellor Merkel who , if Britain votes to remain in the EU , would advance towards a European army and permanent structured co - operation , the result of which would be to undermine NATO—the very organisation that the Secretary of State says is the cornerstone of our national defence ?\n",
      "> 1994-06-14a.508.0 0.320 In the event of further education colleges in Rotherham and , indeed , nationwide settling the dispute between college lecturers and college employers on the same basis as in Manchester college of arts and technology , will it be the Government 's policy to insist on the holdback of moneys to further education , or will they accept that as a legitimate settlement ?\n",
      "> 1985-07-11a.1249.0 0.323 Does my hon Friend accept that as surely as night follows day the House will in the fullness of time have the common sense to reintroduce capital punishment for terrorism in response to public demand ? When that day comes , will it not be necessary to ensure that the people concerned have a proper trial ? Is my hon Friend aware that nothing will convince me that those who have escaped from the Maze prison have not struck and killed again ?\n",
      "> 1988-03-14a.856.2 0.325 Does the Minister accept that it is very difficult to target aid at poverty in Third - world countries when we still have not resolved the problem of international debt ? Bearing in mind what he said about the World Bank , does he accept that many African countries see the World Bank and its demands as part of their problems rather than as a solution to them ? Would it not be better for the bank to come up with a strategy of debt relief instead of dealing with default in the interests of its own credit rating ?\n",
      "> 1983-12-14a.980.4 0.326 Does the Secretary of State accept that a little while ago hon Members on both sides supported my request that there should be a restraint on exporting instruments designed to confer electric shocks on people in penal institutions ? Would it not therefore be consistent for the Secretary of State to take action similar to that taken by others of his colleagues in the Government ?\n",
      "\n",
      "context-utterances\n",
      ">> 1997-11-26a.959.0 0.446 I thank the hon and learned Gentleman for his question . Different parties have different parts that they consider to be essential to some sort of final accommodation—these include devolution in terms of an assembly , cross - border co - operation and the nature of the powers of that body . Surely , the point of negotiation and discussion is to consider the basic tenets that each party brings with it , whether it be cross - border co - operation , a devolved assembly or a change in east - west relations . That is what discussion , debate and negotiation should be about . I hope that the hon and learned Gentleman finds it within himself to join those talks in the future , because his contribution would be welcome .\n",
      ">> 1998-02-17a.891.7 0.472 The hon Gentleman knows that my hon Friend the Financial Secretary announced the proposal well in advance of any Budget determination , precisely so that the professions could be consulted , and so that any representations made about the effects of the proposal could be considered . The hon Gentleman is surely aware that such representations have been made , and I am sure that my hon Friend will take them into account .\n",
      ">> 1994-12-19a.1390.2 0.474 I understand that what has persuaded the hon Gentleman 's colleagues and others who are members of the Accommodation and Works Committee to make access for disabled people—it is not available for other members of the public—via Carriage Gates is the practical difficulty of providing good access for the disabled through St. Stephen 's entrance , for the very reason that he has given . If the hon Gentleman has thought of a solution to the problem , I suggest that he directs it to the members of the Accommodation and Works Committee .\n",
      ">> 2007-10-25b.398.2 0.483 I am grateful to my hon Friend for that question , but I am sorry to have to tell him that , because of the lack of agreement on suitable controls and standards , the Environment Agency and the industry have not been able to produce a protocol . However , it is not all bad news and we hope that the industry itself will make further progress on protocols . The Environment Agency issued new guidance on 3 October , confirming the deregulation of virgin timber . That means that producers will be able to recover and sell on virgin waste wood , such as off - cuts , shavings and sawdust and , of course , the production that comes from the management of forests . Those will be free from regulatory control . Clean and treated non - virgin timber will remain classified as waste and regulated as normal through exemptions and waste legislation .\n",
      ">> 1997-11-18a.142.1 0.486 I can only assume that that is a deliberate misrepresentation of the Government 's position . The hon Lady is surely aware of the road schemes that we have announced and I am sure that she appreciates that we are carrying out a thorough review of the trunk road programme , as we promised during the general election .\n",
      ">> 2006-03-06b.600.5 0.489 I am grateful to my hon Friend . He goes back to 1807 ; shortly , we will have a question that relates to the next century—the Church certainly has a wide span . He will note that the Synod recently called on Her Majesty 's Government to give the highest priority to enabling legislation to bring an end to the causes and outcomes of slavery . Personally , I presume that the Synod will equally accept the enabling legislation for the Church to accept women bishops in line with his ten - minute Bill .\n",
      ">> 1997-06-10a.931.5 0.489 I can only repeat that , while we make it clear that the human rights dimension is an important part of the way in which we shall consider applications for export licences , the review announced by my right hon Friend the Foreign Secretary has not yet been completed , although it will be completed very rapidly . Until that time , it would be foolish for us to make any further comment .\n",
      ">> 2005-03-02a.942.5 0.491 I am not surprised at anything that the Tories do in my hon Friend 's council . When we came to power in 1997 , the Tories left a shameful legacy of child poverty . The problems of poverty and social exclusion across Wales and the huge gap between the rich and the poor were evident to everybody . It is important that we continue this Government 's commitment to investing in education and overcoming the problems of child poverty . One child in three in Wales lived in a low - income household when the Conservatives were in government ; they will never be in government again to damage and harm our people , as they did in the past .\n",
      ">> 2007-11-28b.280.2 0.493 That is not , I believe , what Baroness Jay said , but the hon Gentleman 's question will be a matter for the inquiry , which will examine all issues relating to this matter . Surely the right thing to do when a problem arises is to investigate it in detail , deal with it , change the procedures if necessary and , if necessary , reform political party funding—which we are prepared to do .\n",
      ">> 1994-01-17a.518.5 0.493 As I have said , approximately £ 12 million is available for such measures in the current year . I understand that the specific case of Coedely is a matter for the Welsh Development Agency , for the hon Gentleman 's local authority of Taff Ely borough council and for Mid - Glamorgan county council , which are giving it the most serious consideration and are ensuring that appropriate arrangements are in hand . I remind him that , under the first programme for the valleys , 2,600 acres throughout the valleys of south Wales have been cleared—a record which can compare with the best in Europe .\n",
      "\n",
      "====\n",
      "\n",
      "CLUSTER 7 7\n",
      "---\n",
      "terms\n",
      "                cluster_dist\n",
      "index                       \n",
      "ensure_will         0.421913\n",
      "ensure_*            0.424475\n",
      "agree_will          0.487595\n",
      "undertake_will      0.509146\n",
      "undertake_*         0.520769\n",
      "take_*              0.555380\n",
      "press_may           0.569691\n",
      "may>*               0.572695\n",
      "consider_will       0.574867\n",
      "consider_*          0.577258\n",
      "\n",
      "context terms\n",
      "               cluster_dist\n",
      "index                      \n",
      "am_aware           0.557982\n",
      "am_always          0.600846\n",
      "am_sure            0.642930\n",
      "am_of              0.653652\n",
      "am_not             0.668030\n",
      "am_interested      0.672428\n",
      "am_grateful        0.679423\n",
      "try_*              0.685277\n",
      "confess_*          0.698852\n",
      "seek_*             0.721268\n",
      "\n",
      "\n",
      "utterances\n",
      "> 2010-01-19c.159.8 0.367 I welcome the Secretary of State 's comments on Haiti , but may I ask whether we are using all our assets ? The Type 23 frigate , HMS Iron Duke , is in the Caribbean but not being utilised . Our military stabilisation and security teams , which performed so admirably after the Indonesian earthquake , remain to be dispatched to Haiti . Will he consider those assets ?\n",
      "> 2009-07-02c.466.1 0.372 What a pleasure it is to see you in the Chair , Mr. Speaker . May I ask my right hon Friend the Secretary of State to pass on my welcome to my two colleagues who have joined him on the Front Bench ? Food and food production are far too important to be left entirely to the advocacy of Members with rural constituencies . They are of importance to everyone . I noted my right hon Friend 's response to the hon Member for Lancaster and Wyre ( Mr. Wallace ) . Will he consider approaching the Office of Fair Trading and pressing it for its view on what is competitive in the dairy market ? That would allow it to take a more pragmatic approach when mergers and changes happen in the co - operative sector .\n",
      "> 1999-07-13a.157.1 0.387 Could the Minister give an assurance that he will pay particular attention in his review to applications for sites within areas of outstanding natural beauty , including the Chiltern hills ? Will he take careful account of the reports that pressure is being exerted to overturn the decision of the local planning authority on Chisleys wood in my constituency ? That pressure is coming from Government Departments and the current tenant of Chequers . Will he ensure that he takes all steps within his Department to avoid any conflict of interest in determining the outcome ?\n",
      "> 2007-07-11b.1458.1 0.389 I warmly welcome the Prime Minister 's statement , which contrasted with the churlish Punch - and - Judy effort from the Leader of the Opposition . I suspect that parliamentarians throughout the House will welcome my right hon Friend 's comments today . Will he examine the relationship between Parliament and the Executive ? Government and Parliament are stronger in partnership than when one dominates the other . In that context , will he ensure that all Bills are introduced in draft , so that the House can discuss them properly ? Will he also ensure the fullest pre - legislative scrutiny ? If we have that , we will end up with better law and better government .\n",
      "> 2000-11-29a.953.6 0.391 Will my right hon Friend consider the case of Ernie Obern , an 85-year - old ex - miner in my constituency ? He has 90 per cent . dust in his lungs , he is on oxygen permanently , and he is bedridden . He is very ill at this moment . He has just received a letter from his solicitor telling him that it will be not months but years before he receives his full compensation . May I ask my right hon Friend to ensure that the elderly , the sick and widows are a top priority ? May I also ask him personally to take the question of compensation by the scruff of the neck , and deliver justice to the miners ?\n",
      "> 2000-11-30a.1123.5 0.393 I welcome Lord Sainsbury 's report , but what steps will the Government take specifically to assist industrial biotechnology ? Bearing in mind the work that my right hon Friend the Secretary of State has been doing along with others in the north - west , will my hon Friend consider carefully the fantastic successes in industrial biotechnology in the north west and urge the Government to inject more support into the projects going to our academic institutions there , thus helping our industrial partners ?\n",
      "> 1999-03-09a.165.5 0.396 As I understand the regulations , part of the point is to stop drivers keeping the engine running when they are not going anywhere , such as those just keeping themselves warm . Will the Minister consider taking action to ensure that drivers in Westminster , where we all walk around all the time , do not sit in their cars creating emissions and polluting the atmosphere ? As a start , will she ensure that all Government Departments instruct Government drivers to switch off their engines in such circumstances , which they currently fail to do within the Palace of Westminster and in the streets of Westminster ?\n",
      "> 2014-06-12c.677.0 0.399 I am grateful to the Secretary of State for that reply . Will he ensure that , in addition to that scientific examination , he also meets with the Welsh Assembly Minister who is dealing with this matter in Wales—not too far from his own constituency—where an alternative method of vaccination is being undertaken ? Will the Secretary of State agree to evaluate that as part of the process as well ?\n",
      "> 2001-06-26.502.0 0.401 I am disappointed that it is not the Secretary of State at the Dispatch Box . Labour 's NHS plan states that the Government are in favour of a new pay system for the NHS , and figures published today detail the pay received by the service 's humble and self - effacing nurses . They show that general nurses get about two thirds of what is paid for agency work , while a theatre - registered general nurse gets paid about half the rate for an agency job . Is it the Government 's plan to bring the pay of people who work for the national health service up to the levels available outside , so that they will not leave the service and work elsewhere ? If so , will he ensure that all those working for the NHS come within the pay review body structure ? Above all , will he ensure that ambulance personnel receive the sort of pay that people who save lives every day deserve ?\n",
      "> 2013-09-12a.1153.10 0.402 I welcome any improvements in recycling , as I am sure does everybody else . Will the hon Gentleman consider the use of plastic by the building as a whole ? We have removed much of it from the catering department , but not all of it . However , Members ’ offices are still supplied with plastic envelopes that are not recyclable or biodegradable . I could be wrong about that , but I believe it to be the case . Will he ensure that we use only paper and cardboard , which are completely recyclable ?\n",
      "\n",
      "context-utterances\n",
      ">> 1983-01-25a.772.5 0.520 I am well aware of the problems of that school . The papers on that subject arrived on my desk some time ago . As my hon Friend drew the attention of the House and the whole country to the matter at the time , I am sure that from now on everyone will bear the matter even more in mind .\n",
      ">> 1995-01-11a.141.1 0.523 I am grateful to my hon Friend for those remarks . I am aware that the Director General of Fair Trading has received several representations in the period since the merger was announced , many of which were along the lines that have been outlined by my hon Friend , drawing on the great financial tradition that exists in Yorkshire , Leeds and Halifax .\n",
      ">> 1980-04-15a.989.4 0.524 I am aware of it . I am glad to say that I had an opportunity to talk to Earl Mountbatten upon the subject of that speech , which needs to be read in full .\n",
      ">> 1990-07-09a.17.1 0.535 We are well aware of the difficulties that Sendero Luminoso and other terrorists make for the Government in that country . I am not aware of specific difficulties in getting the aid through , but the new Government—under president - elect Fujimori—have a great deal to do , including sorting out a debt of $ 1.5 billion : those are substantial arrears .\n",
      ">> 1997-06-02a.14.0 0.536 I am grateful for the hon Gentleman 's comments . I am aware of his excellent work as a member of the Select Committee and of the Committee 's invaluable reports on this topic . I am also aware of the problems caused by the complexity of the formula , which I assure him will be considered in great detail in our review of the CSA.\n",
      ">> 1986-03-25a.774.0 0.543 I am not aware of the position to which my hon Friend refers . My superficial reaction is that that does not make sense , because those restrictions do not apply at present , but they will apply some time in future .\n",
      ">> 1982-05-19a.350.3 0.544 Many hundreds of thousands of tenants have successfully purchased their homes over the years and I am not aware of any statistical basis for suggesting that there is a greater number of defaulters among purchasers from local authorities as opposed to the majority of owner occupiers .\n",
      ">> 1983-11-23a.306.8 0.546 I am aware that the contracting out of services in that borough will save the ratepayers about £ 10 million over the next few years . I am also aware that one of the strengths of contracting out is that if there is unsatisfactory performance , local authorities can find a new contractor .\n",
      ">> 1979-07-16a.999.4 0.549 That is another of the questions that I intend to discuss tomorrow with the chairman of the Manpower Services Commission . I share the concern of the right hon Gentleman about the problems that will arise at Shotton , and I am aware of the need to provide adequate training facilities .\n",
      ">> 1992-03-11a.834.3 0.553 The hon Gentleman makes a valid point about the regime which the hon Member for Edinburgh , Leith ( Mr. Brown ) appears to admire . I am not aware that any such list has been provided .\n",
      "\n",
      "====\n",
      "\n"
     ]
    }
   ],
   "source": [
    "q_ec.print_clusters(corpus=parl_corpus)"
   ]
  },
  {
   "cell_type": "markdown",
   "metadata": {},
   "source": [
    "demo continues below"
   ]
  },
  {
   "cell_type": "markdown",
   "metadata": {},
   "source": [
    "Per our interpretation, we assign the following names to these clusters:"
   ]
  },
  {
   "cell_type": "code",
   "execution_count": 15,
   "metadata": {},
   "outputs": [],
   "source": [
    "q_ec.set_cluster_names(['shared_concern', 'request_assurance', 'prompt_comment', 'agreement', \n",
    "                         'issue_update', 'question_premises', 'accept_propose', 'demand_account'])"
   ]
  },
  {
   "cell_type": "code",
   "execution_count": 16,
   "metadata": {},
   "outputs": [
    {
     "data": {
      "text/html": [
       "<div>\n",
       "<style scoped>\n",
       "    .dataframe tbody tr th:only-of-type {\n",
       "        vertical-align: middle;\n",
       "    }\n",
       "\n",
       "    .dataframe tbody tr th {\n",
       "        vertical-align: top;\n",
       "    }\n",
       "\n",
       "    .dataframe thead th {\n",
       "        text-align: right;\n",
       "    }\n",
       "</style>\n",
       "<table border=\"1\" class=\"dataframe\">\n",
       "  <thead>\n",
       "    <tr style=\"text-align: right;\">\n",
       "      <th></th>\n",
       "      <th>utts</th>\n",
       "      <th>terms</th>\n",
       "      <th>context_utts</th>\n",
       "      <th>context_terms</th>\n",
       "    </tr>\n",
       "  </thead>\n",
       "  <tbody>\n",
       "    <tr>\n",
       "      <th>accept_propose</th>\n",
       "      <td>0.184516</td>\n",
       "      <td>0.150174</td>\n",
       "      <td>0.147930</td>\n",
       "      <td>0.139690</td>\n",
       "    </tr>\n",
       "    <tr>\n",
       "      <th>agreement</th>\n",
       "      <td>0.080253</td>\n",
       "      <td>0.047743</td>\n",
       "      <td>0.078630</td>\n",
       "      <td>0.052106</td>\n",
       "    </tr>\n",
       "    <tr>\n",
       "      <th>demand_account</th>\n",
       "      <td>0.131033</td>\n",
       "      <td>0.137153</td>\n",
       "      <td>0.071226</td>\n",
       "      <td>0.071693</td>\n",
       "    </tr>\n",
       "    <tr>\n",
       "      <th>issue_update</th>\n",
       "      <td>0.092242</td>\n",
       "      <td>0.128472</td>\n",
       "      <td>0.123574</td>\n",
       "      <td>0.167036</td>\n",
       "    </tr>\n",
       "    <tr>\n",
       "      <th>prompt_comment</th>\n",
       "      <td>0.162576</td>\n",
       "      <td>0.168403</td>\n",
       "      <td>0.131228</td>\n",
       "      <td>0.129342</td>\n",
       "    </tr>\n",
       "    <tr>\n",
       "      <th>question_premises</th>\n",
       "      <td>0.143333</td>\n",
       "      <td>0.165799</td>\n",
       "      <td>0.133372</td>\n",
       "      <td>0.144863</td>\n",
       "    </tr>\n",
       "    <tr>\n",
       "      <th>request_assurance</th>\n",
       "      <td>0.127051</td>\n",
       "      <td>0.098090</td>\n",
       "      <td>0.122071</td>\n",
       "      <td>0.104952</td>\n",
       "    </tr>\n",
       "    <tr>\n",
       "      <th>shared_concern</th>\n",
       "      <td>0.078997</td>\n",
       "      <td>0.104167</td>\n",
       "      <td>0.191969</td>\n",
       "      <td>0.190318</td>\n",
       "    </tr>\n",
       "  </tbody>\n",
       "</table>\n",
       "</div>"
      ],
      "text/plain": [
       "                       utts     terms  context_utts  context_terms\n",
       "accept_propose     0.184516  0.150174      0.147930       0.139690\n",
       "agreement          0.080253  0.047743      0.078630       0.052106\n",
       "demand_account     0.131033  0.137153      0.071226       0.071693\n",
       "issue_update       0.092242  0.128472      0.123574       0.167036\n",
       "prompt_comment     0.162576  0.168403      0.131228       0.129342\n",
       "question_premises  0.143333  0.165799      0.133372       0.144863\n",
       "request_assurance  0.127051  0.098090      0.122071       0.104952\n",
       "shared_concern     0.078997  0.104167      0.191969       0.190318"
      ]
     },
     "execution_count": 16,
     "metadata": {},
     "output_type": "execute_result"
    }
   ],
   "source": [
    "q_ec.print_cluster_stats()"
   ]
  },
  {
   "cell_type": "markdown",
   "metadata": {},
   "source": [
    "Finally, we transform the corpus with the fitted model:"
   ]
  },
  {
   "cell_type": "code",
   "execution_count": 17,
   "metadata": {},
   "outputs": [],
   "source": [
    "_ = q_ec.transform(parl_corpus, selector=lambda x: x.meta['is_question'] and (x.meta.get('q_arc_tfidf__n_feats',0)>0))\n",
    "\n",
    "# this call derives representations of answers, following our method.\n",
    "_ = q_ec.transform_context_utts(parl_corpus, selector=lambda x: x.meta['is_answer'] and (x.meta.get('arc_tfidf__n_feats',0)>0)) "
   ]
  },
  {
   "cell_type": "markdown",
   "metadata": {},
   "source": [
    "Here are the attributes we derive for an example utterance, via the transform call:"
   ]
  },
  {
   "cell_type": "code",
   "execution_count": 18,
   "metadata": {},
   "outputs": [
    {
     "name": "stdout",
     "output_type": "stream",
     "text": [
      "I thank the Minister for that reply . He knows that 2009 was another difficult year for many British farmers . Will he explain why Government procurement of British food actually fell during that year , and in particular , why NHS procurement dropped sharply ? Why are the Government failing to back British farmers and British food at this time ?\n"
     ]
    }
   ],
   "source": [
    "ut_eg_id = '2010-03-25c.364.5'\n",
    "eg_ut = parl_corpus.get_utterance(ut_eg_id)\n",
    "print(eg_ut.text)"
   ]
  },
  {
   "cell_type": "markdown",
   "metadata": {},
   "source": [
    "Our example is assigned to the \"Demand for Account\" type. We suggest this makes sense, given the confrontational and interrogative nature of the question. We also store the distance between the representation of the question and its corresponding cluster centroid."
   ]
  },
  {
   "cell_type": "code",
   "execution_count": 19,
   "metadata": {},
   "outputs": [
    {
     "data": {
      "text/plain": [
       "('prompt_comment', 0.6094370409124481)"
      ]
     },
     "execution_count": 19,
     "metadata": {},
     "output_type": "execute_result"
    }
   ],
   "source": [
    "eg_ut.meta['fw_clustering.cluster'], eg_ut.meta['fw_clustering.cluster_dist']"
   ]
  },
  {
   "cell_type": "markdown",
   "metadata": {},
   "source": [
    "Vector representations are stored with the corpus in a matrix called `fw_repr`, and can be accessed as follows:"
   ]
  },
  {
   "cell_type": "code",
   "execution_count": 20,
   "metadata": {},
   "outputs": [
    {
     "data": {
      "text/plain": [
       "array([[-0.30727219, -0.13173684, -0.09564039,  0.26725832, -0.03839751,\n",
       "        -0.17965502, -0.26523116,  0.12426359,  0.11925108, -0.06012806,\n",
       "        -0.17136398, -0.01314043, -0.19893231, -0.10331306, -0.05066268,\n",
       "         0.27480168, -0.16588479,  0.13608597, -0.17576715,  0.5174909 ,\n",
       "        -0.06604386, -0.03586687, -0.3779309 , -0.13857462]])"
      ]
     },
     "execution_count": 20,
     "metadata": {},
     "output_type": "execute_result"
    }
   ],
   "source": [
    "parl_corpus.get_vectors('fw_repr',[ut_eg_id])\n",
    "# technical note: for an explanation of why there are only 24 dimensions, instead of 25, see the `snip_first_dim` parameter in the documentation"
   ]
  },
  {
   "cell_type": "markdown",
   "metadata": {},
   "source": [
    "We also compute a statistic called \"range\" for the utterance. One way to interpret this statistic is as a way of quantifying the strengths of our expectations: lower values mean that we expect a narrower range of possible replies (i.e., stronger expectations). See [this dissertation](https://tisjune.github.io/research/dissertation) for more explanation of this statistic, and a few caveats on applying it in this setting, with our methodological choices. We'll briefly explore the range statistic later on."
   ]
  },
  {
   "cell_type": "code",
   "execution_count": 21,
   "metadata": {},
   "outputs": [
    {
     "data": {
      "text/plain": [
       "0.8090945361491606"
      ]
     },
     "execution_count": 21,
     "metadata": {},
     "output_type": "execute_result"
    }
   ],
   "source": [
    "eg_ut.meta['fw_range']"
   ]
  },
  {
   "cell_type": "markdown",
   "metadata": {},
   "source": [
    "## 3. Analysis of question types\n",
    "\n",
    "We will relate the inferred question types to two key attributes of question-askers: their party affiliation (whether they are part of the governing party, or the official opposition), and their tenure (number of years since they were first elected). For more details on these attributes and on our motivations, see [this dissertation](https://tisjune.github.io/research/dissertation). \n",
    "\n",
    "For convenience, we start by loading relevant attributes into a Pandas dataframe."
   ]
  },
  {
   "cell_type": "code",
   "execution_count": 23,
   "metadata": {},
   "outputs": [],
   "source": [
    "for ut in parl_corpus.iter_utterances():\n",
    "    ut.meta['speaker'] = ut.speaker.id\n",
    "utt_meta_df = parl_corpus.get_attribute_table('utterance',\n",
    "                ['fw_clustering.cluster','govt', 'govt_coarse','is_question','is_answer',\n",
    "                'is_incumbent','is_oppn','speaker','party', 'tenure','next_id'])"
   ]
  },
  {
   "cell_type": "markdown",
   "metadata": {},
   "source": [
    "The dataset is somewhat spotty in terms of when it includes party affiliation information, but tends to be worse about this during the Thatcher and Major governments. We filter out questions which we think have missing information accordingly:"
   ]
  },
  {
   "cell_type": "code",
   "execution_count": 24,
   "metadata": {},
   "outputs": [],
   "source": [
    "utt_meta_sub = utt_meta_df[((utt_meta_df.is_incumbent == True) | (utt_meta_df.is_oppn == True))\n",
    "                    & (utt_meta_df.speaker != '<UNKNOWN>') & (utt_meta_df.party.notnull())\n",
    "                    & (utt_meta_df.govt_coarse != 'thatcher+major')\n",
    "                    & (utt_meta_df['fw_clustering.cluster'].notnull())].copy()"
   ]
  },
  {
   "cell_type": "markdown",
   "metadata": {},
   "source": [
    "To examine the extent to which a question type tends to be asked more by a member of the government vs official opposition, we compute log-odds ratios. The next few cells perform these computations to render a figure of log-odds ratio per question type."
   ]
  },
  {
   "cell_type": "code",
   "execution_count": 25,
   "metadata": {},
   "outputs": [],
   "source": [
    "def compute_log_odds(col, bool_col, val_subset=None):\n",
    "    if val_subset is not None:\n",
    "        col_vals = val_subset\n",
    "    else:\n",
    "        col_vals = col.unique()\n",
    "    log_odds_entries = []\n",
    "    for val in col_vals:\n",
    "        val_true = sum((col == val) & bool_col)\n",
    "        val_false = sum((col == val) & ~bool_col)\n",
    "        nval_true = sum((col != val) & bool_col)\n",
    "        nval_false = sum((col != val) & ~bool_col)\n",
    "        log_odds_entries.append({'val': val, 'log_odds': np.log((val_true/val_false)/(nval_true/nval_false))})\n",
    "    return log_odds_entries"
   ]
  },
  {
   "cell_type": "code",
   "execution_count": 26,
   "metadata": {},
   "outputs": [],
   "source": [
    "log_odds_party  = []\n",
    "for cname in q_ec.get_cluster_names():\n",
    "    entry =  compute_log_odds(utt_meta_sub['fw_clustering.cluster'],utt_meta_sub['is_incumbent'],\n",
    "                             val_subset=[cname])\n",
    "    log_odds_party += entry\n",
    "log_odds_party_df = pd.DataFrame(log_odds_party).set_index('val')"
   ]
  },
  {
   "cell_type": "code",
   "execution_count": 27,
   "metadata": {},
   "outputs": [],
   "source": [
    "type_order = log_odds_party_df.sort_values('log_odds').index\n"
   ]
  },
  {
   "cell_type": "code",
   "execution_count": 28,
   "metadata": {},
   "outputs": [],
   "source": [
    "display_names = ['Demand for account', 'Questioning premises', 'Prompt for comment',\n",
    "                            'Accept and propose', 'Req. for assurance', 'Issue update', \n",
    "                            'Shared concerns', 'Agreement']"
   ]
  },
  {
   "cell_type": "code",
   "execution_count": 29,
   "metadata": {},
   "outputs": [],
   "source": [
    "from matplotlib import pyplot as plt\n",
    "%matplotlib inline"
   ]
  },
  {
   "cell_type": "code",
   "execution_count": 30,
   "metadata": {},
   "outputs": [
    {
     "data": {
      "image/png": "[encoded data removed]",
      "text/plain": [
       "<Figure size 288x432 with 1 Axes>"
      ]
     },
     "metadata": {
      "needs_background": "light"
     },
     "output_type": "display_data"
    }
   ],
   "source": [
    "fig, ax = plt.subplots(figsize=(4,6))\n",
    "ax.set_xlim(-1.5, 1.5)\n",
    "ax.set_ylim(-.5,7.5)\n",
    "for i,cname in enumerate(type_order):\n",
    "    log_odds = log_odds_party_df.loc[cname].log_odds\n",
    "    ax.scatter([log_odds], [i], color='black',s=49)\n",
    "    ax.plot([-1.25,1.25],[i,i],'--', color='grey', linewidth=.5)\n",
    "ax.plot([0,0],[-2,8], color='grey', linewidth=1)\n",
    "ax.invert_yaxis()\n",
    "ax.set_yticks(np.arange(len(type_order)))\n",
    "ax.set_yticklabels(display_names, fontsize=14)\n",
    "ax.set_xticklabels([-1.5,-1,-.5,0,.5,1,1.5], fontsize=14)\n",
    "plt.rc('xtick',labelsize=12)\n",
    "plt.rc('ytick',labelsize=12)\n",
    "ax.set_xlabel('log odds ratio', fontsize=16)\n",
    "None"
   ]
  },
  {
   "cell_type": "markdown",
   "metadata": {},
   "source": [
    "Here, points further to the right indicate question types more likely to be asked by government-affiliated askers; points to the left indicate types more likely to be asked by the opposition. This passes a sanity check: more aggressive questions tend to be asked more by opposition askers, while more positive, bolstering types are asked more by government askers."
   ]
  },
  {
   "cell_type": "code",
   "execution_count": null,
   "metadata": {},
   "outputs": [],
   "source": []
  },
  {
   "cell_type": "markdown",
   "metadata": {},
   "source": [
    "To examine the relationship between question type and tenure, we compute the median tenure of askers per type. Since we know that different types might be asked more by govt vs opposition members, and since opposition members tend to be more tenured, we separate this analysis by affiliation, resulting in the plot a few cells down:"
   ]
  },
  {
   "cell_type": "code",
   "execution_count": 31,
   "metadata": {},
   "outputs": [],
   "source": [
    "med_tenures = pd.concat([utt_meta_sub[utt_meta_sub.is_incumbent].groupby('fw_clustering.cluster').tenure.median().rename('govt'),\n",
    "utt_meta_sub[~utt_meta_sub.is_incumbent].groupby('fw_clustering.cluster').tenure.median().rename('oppn')], axis=1)\n",
    "med_in_tenure = utt_meta_sub[utt_meta_sub.is_incumbent].tenure.median()\n",
    "med_op_tenure = utt_meta_sub[~utt_meta_sub.is_incumbent].tenure.median()"
   ]
  },
  {
   "cell_type": "code",
   "execution_count": 32,
   "metadata": {},
   "outputs": [
    {
     "data": {
      "text/html": [
       "<div>\n",
       "<style scoped>\n",
       "    .dataframe tbody tr th:only-of-type {\n",
       "        vertical-align: middle;\n",
       "    }\n",
       "\n",
       "    .dataframe tbody tr th {\n",
       "        vertical-align: top;\n",
       "    }\n",
       "\n",
       "    .dataframe thead th {\n",
       "        text-align: right;\n",
       "    }\n",
       "</style>\n",
       "<table border=\"1\" class=\"dataframe\">\n",
       "  <thead>\n",
       "    <tr style=\"text-align: right;\">\n",
       "      <th></th>\n",
       "      <th>govt</th>\n",
       "      <th>oppn</th>\n",
       "    </tr>\n",
       "    <tr>\n",
       "      <th>fw_clustering.cluster</th>\n",
       "      <th></th>\n",
       "      <th></th>\n",
       "    </tr>\n",
       "  </thead>\n",
       "  <tbody>\n",
       "    <tr>\n",
       "      <th>accept_propose</th>\n",
       "      <td>9.946575</td>\n",
       "      <td>11.545205</td>\n",
       "    </tr>\n",
       "    <tr>\n",
       "      <th>agreement</th>\n",
       "      <td>4.890411</td>\n",
       "      <td>9.221918</td>\n",
       "    </tr>\n",
       "    <tr>\n",
       "      <th>demand_account</th>\n",
       "      <td>6.845205</td>\n",
       "      <td>10.221918</td>\n",
       "    </tr>\n",
       "    <tr>\n",
       "      <th>issue_update</th>\n",
       "      <td>4.882192</td>\n",
       "      <td>8.417808</td>\n",
       "    </tr>\n",
       "    <tr>\n",
       "      <th>prompt_comment</th>\n",
       "      <td>6.449315</td>\n",
       "      <td>8.680822</td>\n",
       "    </tr>\n",
       "    <tr>\n",
       "      <th>question_premises</th>\n",
       "      <td>9.030137</td>\n",
       "      <td>9.697260</td>\n",
       "    </tr>\n",
       "    <tr>\n",
       "      <th>request_assurance</th>\n",
       "      <td>6.460274</td>\n",
       "      <td>9.600000</td>\n",
       "    </tr>\n",
       "    <tr>\n",
       "      <th>shared_concern</th>\n",
       "      <td>5.613699</td>\n",
       "      <td>10.010959</td>\n",
       "    </tr>\n",
       "  </tbody>\n",
       "</table>\n",
       "</div>"
      ],
      "text/plain": [
       "                           govt       oppn\n",
       "fw_clustering.cluster                     \n",
       "accept_propose         9.946575  11.545205\n",
       "agreement              4.890411   9.221918\n",
       "demand_account         6.845205  10.221918\n",
       "issue_update           4.882192   8.417808\n",
       "prompt_comment         6.449315   8.680822\n",
       "question_premises      9.030137   9.697260\n",
       "request_assurance      6.460274   9.600000\n",
       "shared_concern         5.613699  10.010959"
      ]
     },
     "execution_count": 32,
     "metadata": {},
     "output_type": "execute_result"
    }
   ],
   "source": [
    "med_tenures"
   ]
  },
  {
   "cell_type": "code",
   "execution_count": 33,
   "metadata": {},
   "outputs": [
    {
     "data": {
      "image/png": "[encoded data removed]",
      "text/plain": [
       "<Figure size 288x432 with 1 Axes>"
      ]
     },
     "metadata": {
      "needs_background": "light"
     },
     "output_type": "display_data"
    }
   ],
   "source": [
    "fig, ax = plt.subplots(figsize=(4,6))\n",
    "ax.set_xlim(2, 13)\n",
    "ax.set_ylim(-.5,7.5)\n",
    "for i,cname in enumerate(type_order):\n",
    "    ax.scatter([med_tenures.loc[cname].govt],[i-.05], s=49, color='blue')\n",
    "    ax.scatter([med_tenures.loc[cname].oppn],[i+.05], s=49, color='red', facecolor='white',marker='s')\n",
    "    ax.plot([.5,14.5],[i,i],'--', color='grey', linewidth=.5)\n",
    "ax.plot([med_in_tenure, med_in_tenure],[-2,8], color='blue',linewidth=1)\n",
    "ax.plot([med_op_tenure, med_op_tenure],[-2,8], '--', color='red', linewidth=1)\n",
    "ax.invert_yaxis()\n",
    "ax.set_xticks([5,10])\n",
    "ax.set_xticklabels([5,10], fontsize=14)\n",
    "ax.set_yticks(np.arange(8))\n",
    "ax.set_yticklabels(display_names, fontsize=14)\n",
    "ax.set_xlabel('median tenure', fontsize=16)\n",
    "plt.rc('xtick',labelsize=12)\n",
    "plt.rc('ytick',labelsize=12)"
   ]
  },
  {
   "cell_type": "markdown",
   "metadata": {},
   "source": [
    "One interesting thing to point out is that among questions asked by government affiliated members, aggressive (e.g., **demand for account**) questions tend to be asked more by older askers (indicated by blue dots) -- that is, it seems that as parliamentarians get more tenured, they ask more aggressive questions. Note that the ministers answering these questions are almost always affiliated with the government, so this means that older askers are more aggressive, even towards members of their own party. In [this dissertation](https://tisjune.github.io/research/dissertation) we more carefully examine this observation."
   ]
  },
  {
   "cell_type": "code",
   "execution_count": null,
   "metadata": {},
   "outputs": [],
   "source": []
  },
  {
   "cell_type": "markdown",
   "metadata": {},
   "source": [
    "## 4. Other applications of the Expected Context Framework"
   ]
  },
  {
   "cell_type": "markdown",
   "metadata": {},
   "source": [
    "### Answer types\n",
    "\n",
    "Note that we can also try to infer types of _answers_, instead of types of questions. To do this, we initialize a new Expected Context Model with some modifications to the arguments passed in: "
   ]
  },
  {
   "cell_type": "code",
   "execution_count": 34,
   "metadata": {},
   "outputs": [],
   "source": [
    "a_ec = ExpectedContextModelTransformer(\n",
    "    context_field='reply_to', output_prefix='bk', \n",
    "    vect_field='arc_tfidf', context_vect_field='q_arc_tfidf',\n",
    "      n_svd_dims=15, n_clusters=5,\n",
    "      random_state=1000, cluster_random_state=1000)"
   ]
  },
  {
   "cell_type": "code",
   "execution_count": 35,
   "metadata": {},
   "outputs": [],
   "source": [
    "a_ec.fit(parl_corpus, selector=lambda x: x.meta['is_answer'] and (x.meta.get('arc_tfidf__n_feats',0)>0),\n",
    "         context_selector=lambda x: x.meta['is_question'] and (x.meta.get('q_arc_tfidf__n_feats',0)>0))"
   ]
  },
  {
   "cell_type": "code",
   "execution_count": 36,
   "metadata": {},
   "outputs": [
    {
     "name": "stdout",
     "output_type": "stream",
     "text": [
      "CLUSTER 0 0\n",
      "---\n",
      "terms\n",
      "              cluster_dist\n",
      "index                     \n",
      "welcome_*         0.173558\n",
      "is_take           0.179574\n",
      "indeed>*          0.206015\n",
      "support_*         0.208702\n",
      "is_important      0.218273\n",
      "is_right          0.218688\n",
      "agree_on          0.219922\n",
      "be_should         0.227413\n",
      "hope_is           0.230160\n",
      "is_course         0.232897\n",
      "\n",
      "context terms\n",
      "               cluster_dist\n",
      "index                      \n",
      "agree_is           0.267424\n",
      "agree_are          0.291674\n",
      "however>*          0.294775\n",
      "agree_with         0.306583\n",
      "is_however         0.326577\n",
      "seek_*             0.337093\n",
      "agree_further      0.340146\n",
      "agree_however      0.348032\n",
      "agree_be           0.353457\n",
      "seek_will          0.354214\n",
      "\n",
      "\n",
      "utterances\n",
      "> 1992-02-05a.280.6 0.072 I entirely agree with my hon Friend . The House will know that 46 British inspectors have been involved in the process of inspection within Iraq . Certainly I pay tribute to them and to their colleagues from other countries . On the second part of my hon Friend 's question , yes , it is important to enhance the verification and inspection powers of IAEA. I hope that we shall succeed in doing that , especially with regard to special inspections of previously undeclared sites .\n",
      "> 1990-12-11a.802.0 0.077 The hon Gentleman is absolutely right and I welcome his support . His party is not renowned for its determination to stand up to proposals emanating from the European Commission . I hope that we can derive some confidence from his words that the Liberal Democrats will agree with our efforts , supported by the CBI and other organisations , to resist those extremely damaging proposals .\n",
      "> 2005-12-05b.599.0 0.080 I entirely agree with my hon Friend and I congratulate those who have been doing that work in his area . Where work has been done through the alcohol misuse enforcement campaign to clamp down on alcohol - related crime , the result has been a significant reduction in such crime . However , he is right to say that there should be no tolerance of organisations that repeatedly sell to under - age drinkers . I support the full use of the powers that we have given police forces and others to clamp down on the sort of morally unacceptable behaviour to which he has drawn our attention .\n",
      "> 2013-02-25b.14.6 0.081 I agree with my hon Friend that that is extremely important . I believe that we will do what he asks , and if we do not , I am sure he will bring it to our attention . Since I first went to the Ministry of Defence nearly three years ago , he has been a doughty exponent of the need for the development of commercial and residential estates on old MOD sites . I pay tribute to him for his work on behalf of his constituents .\n",
      "> 2008-02-05b.773.1 0.086 On the first point , my hon Friend is right about some sluggishness in PCTs in commissioning these services . That is why we have made it a tier 2 issue in the operating framework this year and increased funding by 11 per cent . On the second point , I pay tribute to the work that she too has done on fluoridation over the years . I entirely agree , as do the British Medical Association , the British Dental Association and every reputable scientist who has considered it , that extending fluoridation is the best way to close health inequalities .\n",
      "> 2012-01-25a.286.2 0.088 Yes , I most certainly do—2012 is the year to visit Northern Ireland , with the launch of “ Your Time , Our Place ” last week , before returning in 2013 for the UK city of culture . I pay tribute to my hon Friend for his sterling work in encouraging Members to donate to his window to commemorate Her Majesty ’s diamond jubilee . I did a quick ring - round of the Northern Ireland Office , and I am glad to say that I have donated—although I have not told my wife—the Secretary of State has donated and our Minister in the Lords has donated .\n",
      "> 1998-06-15a.15.6 0.088 My hon Friend is right . However , as we saw when I visited his constituency , the process can not be easy or immediate . There needs to be a commitment on the part of police and local authorities ; they need to win the support of the local community , and they need to listen to members of that community , who best know the type of crime that spoils their lives . A commitment to such a partnership , and to cutting crime , is essential , and I congratulate my hon Friend on the way in which he is encouraging that in his constituency .\n",
      "> 2009-12-16b.959.5 0.088 I congratulate the Daily Record on its campaign against loan - sharking . It is important that we inform everybody that Government - funded money advice centres are there to help people , that in all areas there are loan - sharking investigation teams and that people can look to their credit unions for help . For many families , there is a lot of pressure at Christmas , so they should take advice and use credit unions .\n",
      "> 2007-01-10b.267.1 0.089 I warmly welcome the hon Gentleman 's remarks about David Ervine—and he is right to raise organised criminal activity , which underpins the remaining paramilitary activity in Northern Ireland and occupies my mind very much . We have the Organised Crime Task Force in Northern Ireland , which is doing a good job of bearing down on the problem . I am sure that the whole House will unite in the quest to ensure that organised criminal activity in Northern Ireland is eradicated .\n",
      "> 2004-03-09.1367.1 0.089 Yes , I do . There are opportunities for all kinds of imaginative ways of running the railways better . Often , local circumstances dictate how best the railway should be run in that area , and a great deal can be done to tap the creative potential that is there to provide better service for customers .\n",
      "\n",
      "context-utterances\n",
      ">> 1996-04-24a.431.7 0.162 Does my hon Friend agree that , if multi - culturalism is about defending the rights of people of other faiths to worship freely and peacefully , that is something to which we should all subscribe ? However , did my hon Friend detect in the smearing attack on Christianity by the hon Member for Bath ( Mr. Foster ) the idea that multiculturalism means that the Judaeo - Christian tradition of this country is no more or less valid than any other tradition ? Is that not something that she and I should reject completely ?\n",
      ">> 1999-07-12a.17.2 0.166 I agree with what has been said about the excellent work of the specials and the depth of their interest and commitment . However , does my hon Friend agree that the fundamental problem in becoming a special is the need to take time off work , and that there is a need to mount a proper campaign—perhaps alongside the Territorial Army and school governors—to persuade employers of the value of that activity ? That would encourage people to put themselves forward for that interesting and rewarding activity .\n",
      ">> 1985-06-10a.633.9 0.174 I welcome the increase in the number of circuit judges . However , does the Attorney - General agree that there are still intolerable delays in the trials of serious cases in the Crown courts ? Is there not still a considerable need for the appointment of more circuit judges ? Does he also agree that it is the judges who carry much of the responsibility for speeding up the terrible delays which sometimes occur in the police force and in the DPP 's Department over the processing of cases quickly for trial ?\n",
      ">> 1985-11-25a.608.6 0.176 Is the Minister aware that there will be a general welcome for the increase in secondments ? However , does he agree with his hon Friend the Member for Chipping Barnet ( Mr. Chapman ) that the number is still tiny in relation to the size of the Civil Service ? What is the impediment ? Is it that there is such disparity in the terms and conditions of service that it is difficult to switch individuals backwards and forwards ?\n",
      ">> 1998-05-18a.596.4 0.179 I am certainly in favour of using the Select Committee system in the most effective way possible . However , does the right hon Lady not agree that , in her Government 's increasingly farcical handling of the arms to Sierra Leone affair , it was hardly a contribution to the effectiveness of Select Committees that , last week , during Business Questions , she should have referred to correspondence directed to the Chairman of the Foreign Affairs Select Committee that the House had not seen , but which—I need hardly add with this Government—the BBC had ?\n",
      ">> 1993-07-05a.17.1 0.185 Does my hon Friend agree that the significant increase in judicial appointments in recent years from ladies and members of ethnic minority communities is greatly to be welcomed ? However , does he agree also that it is ludicrous for the Labour party to call for some kind of positive discrimination when what the British people need are the best judges ? Is not it absolutely right for the Lord Chancellor to continue to insist that judges will be appointed only on merit and does not the positive discrimination suggested by the Labour party lead Labour into the ridicule and contempt of the British people ?\n",
      ">> 1997-02-10a.1.8 0.190 Is it not a good idea for cyclists to make use of the railway ? I understand that the Secretary of State has an honourable record on this in connection with work that he produced when he was a Back Bencher , which involved my hon Friend the Member for Newham , South ( Mr. Spearing ) . However , has not a new situation arisen with the railways ' fragmentation ? It has presented many blocks and problems , so that information to cyclists about moving throughout the system is difficult to obtain . Pre - booking is beginning to be required . There is the costs problem and there is no official monitoring of cyclists ' problems . Perhaps it is time for the Secretary of State to get on his bike and sort those things out .\n",
      ">> 1995-06-13a.589.1 0.192 Does the Minister agree that any form of discrimination , especially age , is unacceptable ? However , is there not a danger that the slogan \" Too Old , Who Says ? \" could be undermined by Lady Thatcher 's latest efforts to undermine this discredited and dying Government ?\n",
      ">> 2001-01-23a.783.4 0.194 It may not be strictly necessary to mention this , but I have a registerable interest in relation to such matters , which is recorded in the Register of Members ' Interests . The Secretary of State will , of course , have the support of all hon Members for the efforts that are being made to cause the talks to be successful , and he is right to applaud the efforts of President Clinton . However , does he agree that unless there is recognition of the right of return , as contained in United Nations Security Council resolution 194 , then the prospects for a lasting peace will be severely diminished ? Is it not time that the old people who hold in their hands the crumbling deeds of their houses and the receipts that they paid for property tax , should have a hope of returning to the homes from which they were driven or expelled all those years ago ?\n",
      ">> 2001-03-13a.812.2 0.194 I welcome the objective of treating more people in their own homes . However , is the Minister not alarmed that social services budgets throughout the country are expected to finish the financial year more than £ 200 million overspent ? Although he has announced rises in the standard spending assessment for next year , social services directors expect next year to be even tougher . What hope is there that the services the Government talk about can be provided for people in their own homes , if social services departments struggle to meet even their existing commitments out of their existing resources ?\n",
      "\n",
      "====\n",
      "\n",
      "CLUSTER 1 1\n",
      "---\n",
      "terms\n",
      "              cluster_dist\n",
      "index                     \n",
      "understand_*      0.130761\n",
      "take_*            0.148076\n",
      "believe_*         0.153739\n",
      "given>*           0.159122\n",
      "hope_*            0.169307\n",
      "am_sure           0.190583\n",
      "think_*           0.196396\n",
      "at>*              0.207818\n",
      "however>*         0.211507\n",
      "given_*           0.215625\n",
      "\n",
      "context terms\n",
      "              cluster_dist\n",
      "index                     \n",
      "is_in             0.311157\n",
      "in>*              0.361146\n",
      "is_willing        0.372766\n",
      "as>*              0.374970\n",
      "is_that           0.388252\n",
      "bearing>*         0.400073\n",
      "is_important      0.411733\n",
      "start_*           0.422922\n",
      "therefore>*       0.457628\n",
      "agree_not         0.466130\n",
      "\n",
      "\n",
      "utterances\n",
      "> 1993-05-17a.13.7 0.072 I take careful note of what my hon Friend says , as , no doubt , will colleagues from all parties here and in the other place who serve on the Ecclesiastical Committee , which is to meet later this afternoon and which is now the only possible source of delay . My hon Friend can be assured that the Ecclesiastical Committee will present to the House for his benefit a comprehensive summary of the arguments for and against the ordination of women , I believe with an endorsement to the effect that the measure is expedient .\n",
      "> 1988-10-25a.168.1 0.073 With regard to the right hon Gentleman 's point about Piper Alpha , as he knows , that has yet to be decided . I think that there is a delegation to my hon Friend the Minister of State this afternoon to discuss the possible payment of costs on the inquiry . With regard to the IRA and the Criminal Injuries Compensation Board , I take note of his point and will pursue it .\n",
      "> 2003-03-18.746.1 0.085 I take the very simple view—I think that my hon Friend shares it—that if we want more out of the national health service , we simply have to put more in . That is what the Government are committed to ; it is what the Conservative party opposes .\n",
      "> 1981-06-17a.1005.11 0.087 The closure of schools , to which the hon Gentleman is perhaps referring , is in the first instance a matter for the local authority . We take the view that the closure of rural schools is of particular importance in the local area , that proper consultation must take place if a closure is planned , and that the distance between a primary school and another where closure is contemplated must not be so great as to impose a strain on the children or parents .\n",
      "> 1994-07-11a.654.6 0.091 As we indicated in the White Paper last week , we believe that the BBC should provide published objectives for each of its radio services and that the character of its services should not be changed without giving audiences an opportunity to comment on the proposals . I understand what the hon Gentleman says about the potential confusion that can arise .\n",
      "> 1999-10-21a.572.4 0.091 I understand the strength of feeling that underpins the decision that Budgen has made on , I believe , apples and pears . It is selling British produce and not purchasing any more from France . There is a great deal of strong feeling in this country about the French behaviour , and some people take the view that while the French are imposing a ban on our beef we should not buy their products .\n",
      "> 1996-05-14a.758.1 0.091 I am sure my that hon Friend will welcome the fact that , especially in the London ambulance service , increased use is being made of paramedics both in ambulances and on motor cycles . I take his point that we must provide the best possible accident and emergency service for everyone . It is for clinicians to guide how that can best be offered in the circumstances . I am sure that my hon Friend welcomes the great increase in the number of accident and emergency specialist consultants .\n",
      "> 1984-01-23a.617.8 0.091 Of course . My hon Friend will understand that he need not tell me , the right hon Member for Pembroke , about the importance of the milk sector . Nevertheless , there must be adjustments and restraints on prices if the Community 's problems are to be resolved . One of our principal objectives is to ensure that any changes are on a non - discriminatrory basis and that Welsh producers are fairly treated in relation to producers in Europe as a whole .\n",
      "> 1980-12-04a.412.8 0.094 I am grateful to my hon Friend . I recall that at the meetings we had the farmers asked that , whatever conclusions we came to , we would give them the opportunity of expressing support for the possibility of a producer - financed eradication scheme . We are considering the details of that at the present time . The number of outbreaks this year is very similar to the number in the year before . There is no indication of the type of flare - up of the disease that had been feared in some quarters . I should like to eradicate every disease , but there is a priority in terms of public expenditure as to what we can eradicate . If producers are willing to finance an eradication scheme , obviously I must consider the proposal .\n",
      "> 1981-01-13a.842.0 0.095 We shall undoubtedly take note of all views that come to us . One factor that is involved is the tendency of education opinion to move back , I think rightly , to the idea of a balanced curriculum instead of single subject examinations . It is important that whatever examination we introduce has national currency as a passport that is understood throughout the country .\n",
      "\n",
      "context-utterances\n",
      ">> 1983-07-05a.149.3 0.178 Is the Secretary of State aware that in school after school in inner London , PTAs are now fighting to retain teacher ratios and for increased expenditure on amenities ? Their problem is the shortage of financial help from the Government to ILEA. In view of the answers that his junior Minister has already given this afternoon , is he also aware that if there is any attempt to break up ILEA —and there have been attempts in the past—the people of London will know how to tackle the Tory Government ?\n",
      ">> 1991-01-16a.841.1 0.192 In view of the perception of many members of the European Community that the United Kingdom is a bad member of that club , what efforts have the Government taken to publicise in those countries its first - class record in enacting legislation for 1992 ?\n",
      ">> 2010-10-11c.22.1 0.199 In the wake of the Munro report , is the Minister as concerned as I am about the growing number of children being taken into care ? Does he agree that the best way in which to stop more of those personal tragedies is to invest in prevention programmes for babies and their carers in the earliest years ?\n",
      ">> 1995-03-06a.2.3 0.200 Is the right hon Gentleman prepared to accept that confidence in the channel tunnel service is still fragile and that traffic from all parts of the United Kingdom is still dependent on that confidence being reinvigorated and assured ? In the light of recent disclosures , is he prepared to add to his exchanges and correspondence with me on the issues of fire safety and evacuation procedures in the tunnel ?\n",
      ">> 1987-03-03a.718.7 0.205 In view of that answer , is the Minister prepared to tell the Chancellor of the Exchequer to eat his words , introducing the last Budget , when he said that \" lower wages mean more jobs \" ? Does he agree that the real reason for the Wages Act was to cut the wages of the lowest paid workers in order to increase the profits of friends of the Tory party who contribute huge sums to Tory party funds ?\n",
      ">> 1983-02-09a.998.10 0.207 In relation to the import of UHT milk , is it not iniquitous that we should be told by an alien body what we should and should not do about imports ? Is it not a disgrace that at the behest of such a body Ministers propose to introduce legislation in this Parliament to alter the law in accordance with the ruling of the European Court of Justice ?\n",
      ">> 2011-12-06b.145.4 0.210 The major banks argue that they can not be expected to strengthen their balance sheets and increase net lending at the same time . Does the Chancellor agree with the Governor of the Bank of England that that could be achieved if banks were prepared to cut their bonuses and dividends ? In particular , is it not time that shareholders stepped up to the plate and ensured that banks behaved responsibly on the matter ?\n",
      ">> 1987-05-05a.568.11 0.210 In view of the notable contribution made by Horseshoe barracks and related facilities to the defence requirements of the nation for many years , is my hon Friend willing to visit Shoeburyness to meet the military personnel and local councillors before a final decision is made on this important issue ?\n",
      ">> 1994-03-07a.3.5 0.213 In view of the Allied Dunbar , Health Education Authority survey on children 's fitness , does my hon Friend agree with the hon Member for Liverpool , Walton ( Mr. Kilfoyle ) that children 's sport in schools is especially important ? What progress is my hon Friend making with the Department for Education in his efforts to ensure that more competitive sport is played in schools ?\n",
      ">> 2006-03-30b.1030.6 0.215 In spite of the revenue from fuel duty , which is a very large amount , is it not the case that the cost of private motoring continues to decline year on year ? Is it not also the case that , in the light of the climate change review programme published this week , sooner or later all parties in the House are going to face up to the fact that an above - inflation rise in fuel duty is the most effective means of reducing congestion , and of reducing CO 2 emissions in the transport sector ?\n",
      "\n",
      "====\n",
      "\n",
      "CLUSTER 2 2\n",
      "---\n",
      "terms\n",
      "               cluster_dist\n",
      "index                      \n",
      "know_*             0.180409\n",
      "and>*              0.185346\n",
      "want_*             0.190352\n",
      "committed_to       0.191354\n",
      "are_there          0.200296\n",
      "committed_*        0.204579\n",
      "know_will          0.209547\n",
      "give_will          0.216046\n",
      "are_committed      0.222467\n",
      "trying_*           0.222782\n",
      "\n",
      "context terms\n",
      "                cluster_dist\n",
      "index                       \n",
      "recognise_is        0.301521\n",
      "recognise_*         0.319689\n",
      "recognise_will      0.322014\n",
      "recognise_does      0.338546\n",
      "recognise_not       0.349756\n",
      "further>*           0.360290\n",
      "recognise_be        0.373500\n",
      "furthermore>*       0.378391\n",
      "recognise_are       0.389699\n",
      "is_given            0.420716\n",
      "\n",
      "\n",
      "utterances\n",
      "> 2005-06-23a.944.5 0.078 I thank my hon Friend for his kind comments , and I agree with what he says . The Women and Work Commission was set up because achieving equal pay for women remained a problem even many years after the Equal Pay Act 1970 was introduced . The gender pay gap has narrowed significantly but it remains wide , especially in respect of part - time working . This is a complex issue : occupational segregation is one element , but there are many others . I assure my hon Friend that the commission is fully involved with trade unions and the EOC , and with the representatives of many businesses and employers .\n",
      "> 2000-01-12a.270.1 0.079 That is precisely why we shall not implement them . If I might expand on the remarks of my hon Friend , there were reports in The New York Times , during the past two days— [ Interruption . ] I was going to read them out in response to further questions from the Leader of the Opposition , but I never got any . In The New York Times , for example , it was reported that the wave of flu has become widespread , overwhelming emergency rooms , filling hospital beds , and forcing postponement of operations . In many overcrowded rooms , people are simply leaving without being treated . In Ireland , hospitals in Dublin and around the country were forced again to cancel almost all routine surgery and procedures . In Sweden , all the intensive care facilities are full ; some non - urgent operations have been cancelled and closed - down wards are having to be reopened . Elsewhere—in Italy , Norway , Germany , France and Switzerland—there are huge problems as a result of the flu outbreak . Having s\n",
      "> 2001-03-05a.6.1 0.081 I have no wish to be churlish , especially as I read last week of some extremely complimentary remarks that the right hon Gentleman made about the Government 's stakeholder pensions . I am grateful to him for having recognised how valuable a contribution they will make . On the question of fraud , I understand why the right hon Gentleman seeks to clear his name , but he will know that it was not until 1995 that any serious attempt was made to measure fraud and error in the system . It is true , as I said , that in 1997 some efforts were made to deal with the problem ; however , they focused almost entirely on simply detecting fraud that had already entered the system . The National Audit Office recognised the shortcomings of that as the sole strategy , because it almost encouraged people to let in fraud by rewarding them for detecting it . We have stopped fraud entering the system in the first place . As I have told Opposition Members who have asked the question , the fraud and error r\n",
      "> 1994-05-05a.830.8 0.081 The hon Gentleman is well aware of the great concern , energy and effort that the Ministry puts into the matter . I am happy to give him the assurances that he seeks . Furthermore , the regime that we have applied includes extensive checks other than those that are statutorily required . We will continue to maintain our high animal health status , which is a very high priority for the Department . I should be happy if the hon Gentleman would be good enough to send me whatever evidence he has so that we can pursue the matter .\n",
      "> 2008-07-22c.652.1 0.083 My hon Friend raises a very important point . In fact , he must have raised it in his constituency , as the rates of MRSA and C. difficile infection in the Mid Staffordshire NHS Trust were in decline in March this year . All health staff in the area are to be congratulated . We have reduced infection rates significantly for MRSA and C. difficile . Latest data from the Health Protection Agency for January to March show that MRSA bloodstream infections are down 33 per cent . from the same quarter of last year , and by more than 49 per cent . from the 2003 - 04 monthly average . The same is true for C. difficile infections : in the most vulnerable group of those aged 65 and over , the rate is 32 per cent . lower than in the same quarter of last year . NHS staff work extremely hard to drive down the number of infections . I agree that we must not take our eye off the ball , but we must also recognise such significant improvements .\n",
      "> 1994-03-14a.601.11 0.085 The hon Gentleman will be aware that that is a matter for my right hon Friend the Secretary of State for Transport . I can assure the hon Gentleman that my right hon Friend and I will ensure that that matter is given every consideration .\n",
      "> 2006-04-27b.694.6 0.085 No , I do not . We are on a journey with extended schools . As I said , more than 6,000 schools are working with us directly to provide extended services . The baseline survey that we conducted at the outset showed that approximately 95 per cent . of secondary schools and 87 per cent . of primary schools already offered extended activities after school to some extent . There is therefore a great deal of interest and commitment . Extended activities help schools to maximise the attainment of their children and support parents in doing that . Schools that have provided extended activities for some time are convinced of the benefits . I am sure that , as we develop the programme , that will be the case for all schools . The money provided—£840 million so far—is for start - up costs . Schools need to ensure that they sustain activities and we will support them with a charging regime to ensure that they do .\n",
      "> 2004-03-18.445.6 0.087 The hon Gentleman raises several important points . I can assure him that two safeguards are in place as regards any change to trial systems . Such proposals would , first , have to come before this House for its approval following debate and discussion ; and , secondly , they would have to be compliant with our international obligations under the European convention on human rights as enshrined in the Human Rights Act 1998 . As for whether closer work between the Crown Prosecution Service and the police could contaminate the independence of the CPS , the answer is emphatically no . It is a good idea for the police to have early advice on the nature of the charge and what evidence would be admissible . That does not impede the independence of the Crown Prosecution Service , but it will ensure that the police are able effectively to progress the investigation and that the trial works properly .\n",
      "> 2008-05-12c.1045.0 0.087 I am grateful to my hon Friend , my right hon Friend the Member for Makerfield ( Mr. McCartney ) and the Secretary of State for their involvement in relation to the jobs in Wigan . Clearly , we want to make sure that we protect as many jobs as possible , and that will be a consideration when we look at the various options . I will be happy to meet my hon Friend the Member for Wigan ( Mr. Turner ) and my right hon Friend the Member for Makerfield to make sure that we go through every opportunity . There is great interest in the House about the sale of the Tote ; the issue has been with us for some time . We need to make sure that we get the best possible return . I should like to put on the record my tribute to the work force in Wigan and to the Tote 's management , who have been keeping going under difficult circumstances .\n",
      "> 1990-06-13a.279.8 0.087 I am aware of the suggestions for a parliamentary delegation . That could help . Those who are concerned , including my hon Friend , are in touch with the Foreign Office about it .\n",
      "\n",
      "context-utterances\n",
      ">> 1999-03-24a.383.0 0.217 Does the Minister recognise that , although we welcome the measures that have been taken to combat ordinary crime in Northern Ireland , the main concern of the people of Northern Ireland is still the large hoard of illegal weapons held by terrorist organisations ? Does the Minister therefore recall that the hon Member for Foyle ( Mr. Hume ) has consistently said that terrorist hoards of weapons should be given up ? Does he welcome the statement that the hon Gentleman made yesterday , to the effect that semtex should be dumped for General de Chastelain to pick up ? Does the Minister accept that my right hon Friend the Member for Upper Bann ( Mr. Trimble ) has made endless concessions in an effort to get the IRA to live up to the obligations that it took upon itself last year , and that the Unionist people have nothing left to give ? Does he agree that it is long past time for the IRA to live up to its obligations to surrender the weapons ? When the Government consider the matter of crim\n",
      ">> 1985-06-17a.8.2 0.228 When will the Government recognise that in all Welsh towns there are huge waiting lists for improvement grants because so many of our people are living in substandard accomodation ? The Green Paper 's proposals are not the answer to the problem . Why do not the Government at last decide to engage in a major housing drive instead of persistently waffling about tax cuts , which never materialise anyway ?\n",
      ">> 1989-01-19a.477.2 0.243 Is the Minister satisfied with the quality of milk supplied to the consumer by the dairy industry ? Further , what is his view about the marketing opportunities for added value products by the farmer ?\n",
      ">> 1991-02-12a.727.0 0.252 Why are the Government watering down the award when the IAC—a Government - appointed body—has reported to them that teachers ' morale is at rock bottom and that vacancy levels have deteriorated appreciably over the past four years ? When will the Government recognise that there is a serious crisis in our education system ?\n",
      ">> 1985-06-06a.431.1 0.252 Is the Home Secretary aware that serious abuses of the Immigration Act 1971 are taking place and that the procedures he has announced during the last two weeks concerning the treatment of Tamil refugees seeking asylum in this country have met with enormous opposition from Members of Parliament and from all of the immigration advisory agencies and refugee agencies ? Is he further aware that the 24-hour rule for Members of Parliament , concerning the time in which they can make representations , is completely inadequate , and that until Tuesday of this week the immigration officers at Gatwick airport were unaware that they had to inform the United Kingdom immigrants advisory service of any refugee - seekers arriving in this country ? Furthermore , is the Home Secretary aware that on Tuesday of this week a Tamil asylum seeker was removed extra - judicially from this country to Colombo , that his whereabouts are unknown and that it is incumbent upon the Home Secretary to tell the House wha\n",
      ">> 1996-02-21a.360.6 0.253 Is the Minister unaware that slashing the capital budget by 30 per cent . next year and by almost 50 per cent . over the next three years will have the most disastrous effect on universities ' ability to provide for their students ? Further , is he unaware that capital funds are used for the purchase and maintenance of equipment for teaching and research , which is totally unsuited to provision by the private finance initiative ?\n",
      ">> 2016-12-01c.1658.7 0.256 The Prime Minister recently told the CBI conference that we want to avoid a cliff edge . Further to the answer that the Secretary of State gave to my right hon Friend the Member for Wolverhampton South East ( Mr McFadden ) , and given that our EU partners have so far refused to commit to parallel negotiations on our future arrangements alongside those on article 50 , what is the plan if we can not start , let alone conclude , those negotiations within two years ? Will we be forced off that cliff and on to World Trade Organisation rules and tariffs , with all the consequences for jobs and investment that business has warned of ?\n",
      ">> 1985-02-06a.930.6 0.267 Why does the Secretary of State not recognise that hundreds of thousands of people are living in great housing hardship and misery because they can not be housed by their local authority ? Is it not a striking illustration of the Government 's callous indifference that they have each year cut the amount of money made available to local authorities ? In my borough , only because it has not had the money available , no contracts for new council housing have been entered into for the past six years . When will the Secretary of State recognise his responsibility towards people in such a desperate housing plight in my borough and the rest of the country ?\n",
      ">> 2014-11-06b.946.3 0.272 The Labour party has already set out its position on carbon capture and storage as a vital part of our future energy mix . Is the Secretary of State concerned that Europe appears to be falling behind on CCS , and does he agree that his Government need to do more to stop that happening ?\n",
      ">> 2015-01-29a.987.3 0.272 I am grateful to the Minister for that answer . I am sure that he would join me in welcoming the announcement by Northumbrian Water in my area . After consultation with customers , it has introduced a social tariff , and it is working with debt charities to support vulnerable people in my area . However , only 25,000 people nationally benefit from social tariffs , so what practical steps is the Minister taking to encourage the scope and availability of social tariffs for vulnerable people ?\n",
      "\n",
      "====\n",
      "\n",
      "CLUSTER 3 3\n",
      "---\n",
      "terms\n",
      "               cluster_dist\n",
      "index                      \n",
      "keep_*             0.266941\n",
      "clearly>*          0.277723\n",
      "reviewing_are      0.280402\n",
      "looking_*          0.298435\n",
      "happen_*           0.302697\n",
      "point_is           0.303206\n",
      "consider_will      0.329686\n",
      "looking_are        0.331699\n",
      "look_*             0.333398\n",
      "want_not           0.337675\n",
      "\n",
      "context terms\n",
      "                cluster_dist\n",
      "index                       \n",
      "instruct_*          0.478968\n",
      "report_*            0.488678\n",
      "at>*                0.495860\n",
      "intervene_*         0.501563\n",
      "given>*             0.513179\n",
      "intervene_will      0.528650\n",
      "endorse_*           0.567649\n",
      "given>that          0.593545\n",
      "agree_go            0.615395\n",
      "to_*                0.637088\n",
      "\n",
      "\n",
      "utterances\n",
      "> 1989-02-15a.307.5 0.097 Government involvement in manufacturing is the last thing that the manufacturing industry wants . In fact , there is absolutely no reason why something should not be made from scratch , providing that it is competitive and is of the required quality . One has only to look at the production of Nissan cars in a green field site to see that if the product is competitive and meets a demand , it will immediately take a piece of the market .\n",
      "> 2006-10-24b.1374.0 0.099 My hon Friend is quite right to point to the advances that have been made in terms of the extra investment that has gone into cancer treatment , and the increased number of cancer consultants and clinical nurse specialists . That has made a real difference to the outcomes for cancer patients . Of course , the cancer networks look at the referral patterns and I shall certainly make sure that the cancer network that oversees his area is aware of the points that he has made .\n",
      "> 2011-02-14b.698.2 0.102 Given my political career , I have given up giving advice to anybody , so the best thing the shadow Secretary of State can do is forge his own way and I will look to see how I can dismantle that .\n",
      "> 2002-07-22.659.2 0.103 I do not know the details of the application from my hon Friend 's constituency , but if he writes to me I shall look at it and ensure that it is dealt with fairly . A total of £ 581 million is being invested through the new opportunities fund via local education authorities , but the funding is conditional on the facilities being used by the community , too . That is important . Many people have been critical of investment in sports facilities that have not been available to the wider community . There is a change in culture and attitude among many in education—those who must ensure that those centres of excellence can be used by the whole community . If my hon Friend wants to write to me , I shall look into the questions that he has raised .\n",
      "> 2008-06-02b.490.2 0.104 Those are rather unusual circumstances . I am aware that my hon Friend has encountered them in her constituency , and I encourage her to write to me with the details of the cases , if she does not mind . I am happy to look into them a bit further . However , it has always been part of the regulations applying to the child support system that for a maintenance calculation to be made and enforced , all the parties have to be habitually resident in the UK. I think that that is not so in the case that she has encountered , and there would therefore be difficulties in pursuing the matter , but still , if she gives me more details about it , I will look further into it for her .\n",
      "> 2014-12-04a.407.2 0.106 The hon Gentleman is right to highlight the issues around the Snake pass . I know there are safety concerns there , and I have obviously used the road myself . He knows that this Government have at their very heart the idea of a northern powerhouse . We are championing the interests of the north of England , perhaps to a greater degree than any previous Government . To that end , I shall look at all the specific questions that the hon Gentleman asks on timing , on detail and on planning , and I shall be more than happy to address them directly with him .\n",
      "> 2013-09-12a.1155.0 0.108 Clearly , the hon Gentleman has strong views on that particular private Members ’ Bill but , as I stated , it is important that we consider these matters in the round . The Procedure Committee has rightly devoted a substantial amount of time to considering this matter and the House should look at its proposals—for example , on the process of balloting Members—so that it can come to a sensible decision .\n",
      "> 2004-05-26.1564.6 0.108 I am , of course , always prepared to meet an all - party group on the issue . I will look at it in the light of what has been said by the previous Prime Minister , but I give no guarantees that we will change the decision . A decision was taken at the time , which was endorsed by this Government as well , but I understand the very strong feelings that there are , not least among the families of the pilots . I am very happy to meet an all - party group , but that has to be done without any prior commitment or guarantee as to what the outcome would be .\n",
      "> 2009-11-04c.855.6 0.110 When there was a Labour council , Glencraft got a huge amount of support from it . I have heard that the grants are being cut by the SNP - Liberal administration in the area . We will look at what we can do , but it is clearly important in a recession to help those people who are most in need of support , and that includes the disabled members of our community .\n",
      "> 1995-04-24a.508.6 0.110 Those cases sound very worrying indeed . Of course I will look into them specifically , immediately following Question Time and I will provide the hon Gentleman with a written answer . That is not the kind of thing that I wish to hear . Many hundreds of thousands of people receive very good treatment from the NHS in Wales and we must make sure that that is true of everyone . Like the hon Gentleman , I am rather worried by that story .\n",
      "\n",
      "context-utterances\n",
      ">> 1998-05-19a.714.1 0.316 As my hon Friend knows , 510 jobs are being lost in my constituency following Mitsubishi 's decision to close its colour television factory at Haddington— [ Interruption . ] I wish that Conservative Members would take issues like this seriously ; it is a very serious matter for my constituents . Following my hon Friend 's visit to Haddington on 6 April—the day of the announcement—can he report on the progress made by the task force in creating new jobs for people in Haddington and in finding new enterprises for the factory that has been closed ?\n",
      ">> 2010-12-21a.1314.1 0.320 Treasury Ministers rightly assert that the vulnerable should be protected and that those with broader shoulders should bear the greatest burden . With that in mind , will Ministers report on the effectiveness of the initiative announced in September to bear down on the estimated £ 42 billion of tax that the wealthy do not pay each year ?\n",
      ">> 1998-05-07a.850.0 0.333 May I welcome my right hon Friend 's trail - blazing child care policies ? Will he confirm that his departmental research shows that 90 per cent . of employers make no provision whatever for child care assistance ? Are we sure that Departments and agencies are that good in this respect ? Will he make certain that Departments and agencies become model employers and give a lead in policies on child care ?\n",
      ">> 2010-11-02a.753.8 0.339 Does the Minister agree with me and the 1999 Shields report that children 's accident and emergency , paediatrics and maternity units should be kept together in one hospital ? Will he postpone the move of the Burnley children 's ward to Blackburn until the new GP commissioners are installed and can make an informed decision ?\n",
      ">> 2009-02-26b.356.5 0.359 DEFRA has a great little scheme that funds some pilots through which farmers and land managers manage their land in ways that hold back flood waters . I have been to see a scheme at Seighford , near Stafford , with Matt Jones from Staffordshire Wildlife Trust , who is the project manager . Some really low - tech solutions are successfully keeping back flood waters at times of pressure . Will my right hon Friend be talking to Sir Michael about the assessment of those pilots , with a view to seeing whether they could be rolled out more widely ? If he does , can he report back to MPs who have pilots in their area ?\n",
      ">> 1984-07-19a.508.5 0.360 Will the Prime Minister recognise that she is totally misrepresenting the position of the talks , the NUM , and the response of the NCB when she makes the claim that no will accept pit closures in any circumstances ? The cost of the strike is now nearly £ 2,000 million . When will she intervene to help a settlement instead of interfering to hinder a settlement ?\n",
      ">> 2007-07-03b.800.5 0.385 May I take the Foreign Secretary back to a commitment given by his predecessor but one after the French and Dutch votes two years ago ? The hon Member for Vauxhall ( Kate Hoey ) asked him : \" Will he assure me that one matter that he would certainly submit to a referendum is the creation of a Foreign Minister and a European President ? \" The then Foreign Secretary replied : \" Those points are central to the European constitutional treaty , and of course I see no prospect of their being brought into force , save through the vehicle of a constitutional treaty.\"—[ Official Report , 6 June 2005 ; Vol . 434 , c. 1001 . ] The new treaty does indeed include both a Foreign Minister and a President . According to the Government , that would make it a constitution , so why is there no referendum ?\n",
      ">> 2011-07-12c.151.5 0.388 Is the Minister as concerned as I am about the failure of Suffolk primary care trust to act to invest in proper buildings and infrastructure for the Gipping valley practice in Claydon in my constituency ? That practice has been forced to treat patients out of a portakabin for 15 years now . Will he agree to meet me , and local doctors and patient groups , to see whether we can find a solution to the problem ?\n",
      ">> 1980-02-21a.655.4 0.389 In her meeting with Mr. Vance this afternoon , will the Prime Minister report that there are some of us who have had in - depth meetings with the Indian High Commissioner and other Asians who are not apologists for the Soviet Union but who see Afghanistan in various tones of grey rather than black and white ? They believe that that issue certainly does not constitute a reason for not going to the Olympics .\n",
      ">> 1993-01-28a.1137.5 0.390 May I assure my right hon Friend that the people of West Dorset are delighted to see the establishment of the South Wessex downs environmentally sensitive area ? They will greatly appreciate that in future . My right hon Friend knows that part of the world well . The area finishes at Maiden Newton , but it would be extremely nice if it could extend to my home town of Beaminster . May I make future representations to him about that ?\n",
      "\n",
      "====\n",
      "\n",
      "CLUSTER 4 4\n",
      "---\n",
      "terms\n",
      "          cluster_dist\n",
      "index                 \n",
      "in>*          0.101368\n",
      "there>*       0.121001\n",
      "on>*          0.140528\n",
      "for>*         0.140912\n",
      "was_*         0.141448\n",
      "said_*        0.153850\n",
      "am_sorry      0.155638\n",
      "made_*        0.157480\n",
      "is_not        0.160121\n",
      "what>*        0.160193\n",
      "\n",
      "context terms\n",
      "          cluster_dist\n",
      "index                 \n",
      "is_on         0.284335\n",
      "is_as         0.357750\n",
      "is_there      0.378701\n",
      "so>*          0.390909\n",
      "is_also       0.391591\n",
      "is_for        0.393961\n",
      "is_now        0.414244\n",
      "is_said       0.415668\n",
      "want_*        0.421120\n",
      "is_what       0.423084\n",
      "\n",
      "\n",
      "utterances\n",
      "> 1999-02-04a.1071.2 0.060 In answer to the hon Gentleman 's first question , the number of abattoirs is less than the fingers on one hand . [ Interruption . ] I said less than the fingers on one hand .\n",
      "> 1997-12-18a.471.2 0.063 I rather share my hon Friend 's view . I recall very recently sitting at dinner next to someone who said that he had been a Euro - sceptic since 1992 , to which my response was , \" Too late . \" What changed my mind was 25 years , two referendums and the experience of the British people , who clearly chose , by a democratic decision , to remain in the European Union . In my view it is now the case that all our interests are irrevocably bound up with our membership of that body , and it is absolutely essential for Britain 's future to make the best that we can of our membership and to work co - operatively with our European Union partners . The classic example of that is economic and monetary union itself . I do not know whether the right hon Gentleman is suggesting , as he seemed to imply , that the Conservative party has now decided that it does not want to participate in economic and monetary union at any point , but I can tell him that that would be disastrous for British business an\n",
      "> 1983-03-17a.342.10 0.065 If UHT milk in Europe has to comply with the same hygiene regulations as are required here , there is no way in which it will undermine our market . At present , UHT milk in France is selling in Paris at 19 to 19½p , compared with fresh milk on the doorstep here at 21p . There is no way in which that could compete with or undermine the doorstep delivery service in this country .\n",
      "> 2012-01-11b.159.7 0.067 What the Prime Minister said stands . There are no current plans for the MOD to reduce the core police role relating to the security of our national institutions , such as nuclear safety at Coulport or Faslane . National security , including the security of our defence installations , is our highest priority . The reason we have so many MOD police in Scotland in the first place is our huge defence imprint , which would be put at risk immediately if the country were to become independent .\n",
      "> 1984-08-01a.325.4 0.067 There is not a balance of payments deficit . I am sorry to bring the right hon Gentleman the good news .\n",
      "> 2003-04-10.394.2 0.068 The causes of truancy are complex and varied . Different practices are adopted in different schools and areas to tackle that . The evidence on setting is mixed . There is evidence of successful setting in certain subjects at certain stages , and other evidence that shows successful mixed - ability practice . What is important is that we enable head teachers to study the evidence that is available and to make the best decision on setting and mixed ability for the children in their schools .\n",
      "> 1982-06-10a.388.8 0.069 The right hon Gentleman wrote to my right hon Friend the Prime Minister . He has made a serious point that deserves a serious and proper answer . First , it is important to say that at no time have we demanded unconditional surrender . We have made it clear that if the Argentine forces in Port Stanley announced their wish to withdraw to the mainland they would be given time to do so with dignity and good order . That is their opportunity . Before their invasion we made it clear to the Argentines that we were prepared to discuss matters affecting the future of the islands with them . Even after their invasion we were prepared to do so if they promptly withdrew . However , their response was to insist on ultimate transfer of sovereignty to them as a pre - condition . That was not acceptable . Since our landings on the islands and the losses that we have incurred , it is unthinkable to negotiate about the future of the islands as if everything was as it had been before . As I am sure that\n",
      "> 2010-10-11c.18.5 0.069 I am grateful to the hon Lady and am delighted to take up the invitation , as I have to many other youth centres and projects around the country ; she may come to regret that invitation . I am afraid that in this financial climate we have to think smarter about how we can provide services . In common with every Department and every other part of this Department 's work , the youth sector is under that scrutiny . My battle is to involve as many providers as possible from the voluntary sector , local authority and others in ensuring that we provide youth services to those most in need of them in the most imaginative way - with less money , because of the previous Government 's disastrous financial legacy .\n",
      "> 2013-05-20b.902.1 0.070 I have said all along that we will keep this under review and talk to local authorities . The Opposition have not once apologised—they did not do so when in government , either—for the fact that , under them , house building fell to its lowest level since the 1920s and that there was more overcrowding . There are 1.5 million spare rooms and 250,000 people live in overcrowded accommodation . There were record levels under the previous Government . Why do they not say sorry for the mess they left housing in ?\n",
      "> 1993-01-28a.1135.5 0.070 The system is not broken , but it has its problems , the main one being that in the main growth area of the market we have been increasingly supplied by imports . We now import 530,000 tonnes of processed products per year , and many of the chips in the great British fish and chips meal are imported . As for seed potatoes , there is no question of a great contraction of British potato acreage in different circumstances . People are not falling over themselves to get out of growing potatoes , but we want more people to grow them . We have more varieties than many continental countries . There is a market overseas for Scottish seed potatoes because we can boast greater variety and expertise than many other countries , and we want to exploit those advantages .\n",
      "\n",
      "context-utterances\n",
      ">> 1988-04-20a.820.7 0.155 Does my hon Friend agree that it is not necessary for local authorities to wait for the timetable , and that as competitive tendering is a desirable development they should get on with it now on their own initative ?\n",
      ">> 1985-01-09a.775.5 0.166 When will the Government recognise the appalling housing plight of so many people who need rented accommodation , as well as those tenants who are living in pre - war council dwellings that need to be modernised ? The Minister referred to the Labour Government . Is it not a fact that in 1978 , the last year of that Government , well over 107,000 housing starts were made in the public sector , compared to an estimated 40,000 last year ? This year the figure is expected to be even less . Why do the Government refuse to take action to help people who need somewhere to live ?\n",
      ">> 2012-09-18a.780.2 0.189 Further to Question 6 , is there any indication that any prisoner has received an inappropriate sentence because of the failings of Applied Language Solutions , given that , as the Under - Secretary of State for Justice , the hon Member for Maidstone and The Weald ( Mrs Grant ) said , it has failed to fulfil 5 % of its bookings even after the improvements that she talked about ?\n",
      ">> 1992-12-15a.281.2 0.191 Does my hon Friend recall that there was almost universal hostility from the teaching profession to the national curriculum when it was first introduced ? Does he recognise that there is now tremendous support for it in all schools , but that there is also some anxiety about key stage 3 , in not only English but technology ? Will he at least consider a pilot scheme for a year so that teachers can get hold of the necessary paperwork for the key stage 3 exam ?\n",
      ">> 2012-04-17c.170.4 0.202 Further to Question 9 , is not the worst aspect of the demolitions the practice of punitive demolitions , which is based on the doctrine of collective punishment , and does that not directly contravene article 33 of the Geneva convention ?\n",
      ">> 2005-01-26a.286.4 0.218 I add my praise to the organisers of the tsunami appeal event on Saturday night in Cardiff . When we consider that it took just three weeks to put that event together , it is testimony to what can be achieved with vision and focus . As for the 50th aniversary celebrations in Cardiff , is the Secretary of State aware that while the Millennium Commission has offered £ 1.3 million for those celebrations , to date the Welsh Assembly Government have offered no financial support ? Is the right hon Gentleman willing to have conversations with his opposite numbers and Rhodri Morgan to see that this omission , in my view , can be rectified ?\n",
      ">> 1996-02-07a.323.5 0.218 Does my right hon and learned Friend agree that Britain 's initiative a few years ago in calling a special meeting of the Security Council to examine the reform of the UN was one of the best things that had happened for some time in the area ? Is he also aware that the planning of peacekeeping operations is remarkably amateurish and inefficient ? What new proposals is Britain putting forward on that front ? Does my right hon and learned Friend support the Canadian proposal for a small standby force to be available to the Secretary - General ?\n",
      ">> 1993-02-17a.311.0 0.225 Is my right hon Friend aware that the OECD has forecast that Britain is likely to increase its share of world trade this year ? Is not one reason for that , as Jacques Delors said , that Britain has become a paradise for overseas investment and is not that because the Government have tackled the excessive power of the trade unions and refused to sign the job - destroying social chapter ? Is not that in stark contrast with the union - dominated Labour party , which seems to believe that only the state can generate economic growth—a view which not even the Russians believe nowadays ?\n",
      ">> 1989-11-15a.340.4 0.227 With regard to the discussions that the Secretary of State has had , or will have , does not his conscience trouble him ? Is he not fully responsible for the destruction of the Scottish coal industry , in the stupid belief that nuclear energy is cheaper than coal ?\n",
      ">> 1996-04-03a.383.1 0.228 As the Government will need the support of the all the other countries if there is to be any radical change in the workings of the European Court of Justice , will the Minister list those countries that support the Government 's aims ? Furthermore , on the working hours directive , is not the Government 's case completely undermined by the report that they commissioned which showed a clear link between long working hours and threats to health and safety ?\n",
      "\n",
      "====\n",
      "\n"
     ]
    }
   ],
   "source": [
    "a_ec.print_clusters(corpus=parl_corpus)"
   ]
  },
  {
   "cell_type": "markdown",
   "metadata": {},
   "source": [
    "We suggest that the types inferred are slightly messier than those inferred for questions, though there are still discernable interpretations:"
   ]
  },
  {
   "cell_type": "code",
   "execution_count": 37,
   "metadata": {},
   "outputs": [],
   "source": [
    "a_ec.set_cluster_names(['progress_report', 'statement', 'endorsement', 'comment', 'commitment'])"
   ]
  },
  {
   "cell_type": "code",
   "execution_count": 38,
   "metadata": {},
   "outputs": [
    {
     "data": {
      "text/html": [
       "<div>\n",
       "<style scoped>\n",
       "    .dataframe tbody tr th:only-of-type {\n",
       "        vertical-align: middle;\n",
       "    }\n",
       "\n",
       "    .dataframe tbody tr th {\n",
       "        vertical-align: top;\n",
       "    }\n",
       "\n",
       "    .dataframe thead th {\n",
       "        text-align: right;\n",
       "    }\n",
       "</style>\n",
       "<table border=\"1\" class=\"dataframe\">\n",
       "  <thead>\n",
       "    <tr style=\"text-align: right;\">\n",
       "      <th></th>\n",
       "      <th>utts</th>\n",
       "      <th>terms</th>\n",
       "      <th>context_utts</th>\n",
       "      <th>context_terms</th>\n",
       "    </tr>\n",
       "  </thead>\n",
       "  <tbody>\n",
       "    <tr>\n",
       "      <th>comment</th>\n",
       "      <td>0.042213</td>\n",
       "      <td>0.115299</td>\n",
       "      <td>0.137920</td>\n",
       "      <td>0.155382</td>\n",
       "    </tr>\n",
       "    <tr>\n",
       "      <th>commitment</th>\n",
       "      <td>0.395989</td>\n",
       "      <td>0.328899</td>\n",
       "      <td>0.336692</td>\n",
       "      <td>0.357639</td>\n",
       "    </tr>\n",
       "    <tr>\n",
       "      <th>endorsement</th>\n",
       "      <td>0.258554</td>\n",
       "      <td>0.209165</td>\n",
       "      <td>0.100145</td>\n",
       "      <td>0.098090</td>\n",
       "    </tr>\n",
       "    <tr>\n",
       "      <th>progress_report</th>\n",
       "      <td>0.123028</td>\n",
       "      <td>0.145233</td>\n",
       "      <td>0.278981</td>\n",
       "      <td>0.222222</td>\n",
       "    </tr>\n",
       "    <tr>\n",
       "      <th>statement</th>\n",
       "      <td>0.180216</td>\n",
       "      <td>0.201404</td>\n",
       "      <td>0.146261</td>\n",
       "      <td>0.166667</td>\n",
       "    </tr>\n",
       "  </tbody>\n",
       "</table>\n",
       "</div>"
      ],
      "text/plain": [
       "                     utts     terms  context_utts  context_terms\n",
       "comment          0.042213  0.115299      0.137920       0.155382\n",
       "commitment       0.395989  0.328899      0.336692       0.357639\n",
       "endorsement      0.258554  0.209165      0.100145       0.098090\n",
       "progress_report  0.123028  0.145233      0.278981       0.222222\n",
       "statement        0.180216  0.201404      0.146261       0.166667"
      ]
     },
     "execution_count": 38,
     "metadata": {},
     "output_type": "execute_result"
    }
   ],
   "source": [
    "a_ec.print_cluster_stats()"
   ]
  },
  {
   "cell_type": "markdown",
   "metadata": {},
   "source": [
    "As with question types, we'll briefly examine the relation between answer types and speaker affiliation. Here, we relate types to the affiliation of the _asker of the question_ for which the answer is provided."
   ]
  },
  {
   "cell_type": "code",
   "execution_count": 39,
   "metadata": {},
   "outputs": [],
   "source": [
    "_ = a_ec.transform(parl_corpus, selector=lambda x: x.meta['is_answer'] and (x.meta.get('arc_tfidf__n_feats',0)>0))"
   ]
  },
  {
   "cell_type": "code",
   "execution_count": 40,
   "metadata": {
    "scrolled": true
   },
   "outputs": [],
   "source": [
    "a_utt_meta_df = parl_corpus.get_attribute_table('utterance',\n",
    "                ['bk_clustering.cluster'])\n",
    "a_utt_meta_sub = a_utt_meta_df.join(utt_meta_df[((utt_meta_df.is_incumbent == True) | (utt_meta_df.is_oppn == True))\n",
    "                    & (utt_meta_df.speaker != '<UNKNOWN>') & (utt_meta_df.party.notnull())\n",
    "                    & (utt_meta_df.govt_coarse != 'thatcher+major')].set_index('next_id'), how='inner')\n",
    "a_utt_meta_sub = a_utt_meta_sub[a_utt_meta_sub['bk_clustering.cluster'].notnull()]"
   ]
  },
  {
   "cell_type": "code",
   "execution_count": 41,
   "metadata": {},
   "outputs": [
    {
     "data": {
      "text/plain": [
       "(84823, 11)"
      ]
     },
     "execution_count": 41,
     "metadata": {},
     "output_type": "execute_result"
    }
   ],
   "source": [
    "a_utt_meta_sub.shape"
   ]
  },
  {
   "cell_type": "code",
   "execution_count": 42,
   "metadata": {},
   "outputs": [],
   "source": [
    "log_odds_party_answer  = []\n",
    "for cname in a_ec.get_cluster_names():\n",
    "    entry =  compute_log_odds(a_utt_meta_sub['bk_clustering.cluster'],a_utt_meta_sub['is_incumbent'],\n",
    "                             val_subset=[cname])\n",
    "    log_odds_party_answer += entry\n",
    "log_odds_party_answer_df = pd.DataFrame(log_odds_party_answer).set_index('val')"
   ]
  },
  {
   "cell_type": "code",
   "execution_count": 43,
   "metadata": {},
   "outputs": [],
   "source": [
    "a_type_order = log_odds_party_answer_df.sort_values('log_odds').index"
   ]
  },
  {
   "cell_type": "code",
   "execution_count": 44,
   "metadata": {},
   "outputs": [],
   "source": [
    "a_display_names = ['Statement', 'Comment', 'Progress report', 'Commitment', 'Endorsement']"
   ]
  },
  {
   "cell_type": "code",
   "execution_count": 45,
   "metadata": {},
   "outputs": [
    {
     "data": {
      "image/png": "[encoded data removed]",
      "text/plain": [
       "<Figure size 216x288 with 1 Axes>"
      ]
     },
     "metadata": {
      "needs_background": "light"
     },
     "output_type": "display_data"
    }
   ],
   "source": [
    "fig, ax = plt.subplots(figsize=(3,4))\n",
    "ax.set_xlim(-1.5, 1.5)\n",
    "ax.set_ylim(-.5,4.5)\n",
    "for i,cname in enumerate(a_type_order):\n",
    "    log_odds = log_odds_party_answer_df.loc[cname].log_odds\n",
    "    ax.scatter([log_odds], [i], color='black',s=49)    \n",
    "    ax.plot([-1.25,1.25],[i,i],'--', color='grey', linewidth=.5)\n",
    "ax.plot([0,0],[-2,5], color='grey', linewidth=1)\n",
    "ax.invert_yaxis()\n",
    "ax.set_yticks(np.arange(len(a_type_order)))\n",
    "ax.set_yticklabels(a_display_names, fontsize=14)\n",
    "ax.set_xlabel('log odds ratio', fontsize=16)\n",
    "ax.set_xticks([-1,0,1])\n",
    "ax.set_xticklabels([-1,0,1], fontsize=14)\n",
    "None"
   ]
  },
  {
   "cell_type": "code",
   "execution_count": null,
   "metadata": {},
   "outputs": [],
   "source": []
  },
  {
   "cell_type": "markdown",
   "metadata": {},
   "source": [
    "### Ranges\n",
    "\n",
    "We briefly examine the range statistic we computed for each utterance. Below, we plot distributions of ranges for questions of each inferred type, as box plots:"
   ]
  },
  {
   "cell_type": "code",
   "execution_count": 46,
   "metadata": {},
   "outputs": [],
   "source": [
    "utt_range_df = parl_corpus.get_attribute_table('utterance',\n",
    "                ['fw_clustering.cluster','fw_range'])\n",
    "utt_range_df = utt_range_df[utt_range_df.fw_range.notnull()].copy()"
   ]
  },
  {
   "cell_type": "code",
   "execution_count": 47,
   "metadata": {},
   "outputs": [],
   "source": [
    "fw_range_distrs = utt_range_df.groupby('fw_clustering.cluster').fw_range.describe().sort_values('50%')\n",
    "med_range_full = utt_range_df.fw_range.median()"
   ]
  },
  {
   "cell_type": "code",
   "execution_count": 48,
   "metadata": {},
   "outputs": [
    {
     "data": {
      "image/png": "[encoded data removed]",
      "text/plain": [
       "<Figure size 288x432 with 1 Axes>"
      ]
     },
     "metadata": {
      "needs_background": "light"
     },
     "output_type": "display_data"
    }
   ],
   "source": [
    "fig, ax = plt.subplots(figsize=(4,6))\n",
    "ax.set_xlim(.7, .9)\n",
    "ax.set_ylim(-.5,7.5)\n",
    "for i,cname in enumerate(type_order):\n",
    "    med_range = fw_range_distrs.loc[cname]['50%']\n",
    "    left = fw_range_distrs.loc[cname]['25%']\n",
    "    right = fw_range_distrs.loc[cname]['75%']\n",
    "    ax.scatter([med_range], [i], color='black',s=49)\n",
    "    ax.plot([left,right],[i,i], color='black')\n",
    "    ax.plot([-1.25,1.25],[i,i],'--', color='grey', linewidth=.5)\n",
    "ax.plot([med_range_full,med_range_full],[-2,8], '--', color='grey', linewidth=1)\n",
    "ax.invert_yaxis()\n",
    "ax.set_yticks(np.arange(len(type_order)))\n",
    "ax.set_yticklabels(display_names, fontsize=14)\n",
    "ax.set_xlabel('$\\overrightarrow{\\Sigma}$', fontsize=16)\n",
    "plt.rc('xtick',labelsize=14)\n",
    "plt.rc('ytick',labelsize=14)\n"
   ]
  },
  {
   "cell_type": "markdown",
   "metadata": {},
   "source": [
    "We note that the **agreement** question type tends to have lower forwards ranges than the rest, and suggest this reflects the relatively routine, formulaic nature of an exchange involving this question type (\"Do you agree?\" \"I agree completely.\")"
   ]
  },
  {
   "cell_type": "code",
   "execution_count": null,
   "metadata": {},
   "outputs": [],
   "source": []
  },
  {
   "cell_type": "markdown",
   "metadata": {},
   "source": [
    "## 5. Pipeline usage\n",
    "\n",
    "We can also apply the framework via a pipeline that handles the following:\n",
    "* processes text (via a pipeline supplied by the user; see cell below)\n",
    "* transforms text to input representation (via `ColNormedTfidfTransformer`)\n",
    "* derives framework output (via `ExpectedContextModelTransformer`)"
   ]
  },
  {
   "cell_type": "code",
   "execution_count": 49,
   "metadata": {},
   "outputs": [],
   "source": [
    "from convokit.expected_context_framework import ExpectedContextModelPipeline"
   ]
  },
  {
   "cell_type": "code",
   "execution_count": 50,
   "metadata": {},
   "outputs": [],
   "source": [
    "# see `demo_text_pipelines.py` in this demo's directory for details\n",
    "# in short, this pipeline will compute the question and answer dependency-parse arcs,\n",
    "# but will skip over utterances for which these attributes already exist\n",
    "from demo_text_pipelines import parliament_arc_pipeline"
   ]
  },
  {
   "cell_type": "markdown",
   "metadata": {},
   "source": [
    "We initialize the pipeline with the following arguments:\n",
    "* `text_field` specifies which utterance metadata field to use as text input; `context_text_field` specifies the field to use as text input for context-utterances;\n",
    "* `share_tfidf_models` indicates whether we want to train one `ColNormedTfidfTransformer` model for both utterances and context-utterances. In this case, since we want different input representations for questions and answers, we set this argument to `False`.\n",
    "* `text_pipe` specifies the pipeline used to compute the contents of `text_field`\n",
    "* `tfidf_params` specifies the parameters to be passed into the underlying `ColNormedTfidfTransformer` object\n",
    "* `min_terms` specifies the minimum number of terms in the vocabulary that an utterance must contain for it to be considered in fitting and transforming the underlying `ExpectedContextModelTransformer` object (see the `selector` argument passed into `q_ec.fit` above)\n",
    "\n",
    "All other arguments are inherited from `ExpectedContextModelTransformer`."
   ]
  },
  {
   "cell_type": "code",
   "execution_count": 51,
   "metadata": {},
   "outputs": [],
   "source": [
    "q_pipe = ExpectedContextModelPipeline(context_field='next_id', output_prefix='fw',\n",
    "        text_field='q_arcs', context_text_field='arcs', share_tfidf_models=False,\n",
    "        text_pipe=parliament_arc_pipeline(), \n",
    "        tfidf_params={'binary': False, 'min_df': 100, 'max_df': .1}, \n",
    "        min_terms=1,\n",
    "        n_svd_dims=25, n_clusters=8, cluster_on='utts',\n",
    "        random_state=1000, cluster_random_state=1000)"
   ]
  },
  {
   "cell_type": "code",
   "execution_count": 52,
   "metadata": {},
   "outputs": [],
   "source": [
    "q_pipe.fit(parl_corpus,\n",
    "    selector=lambda x: x.meta['is_question'] and x.meta['pair_has_features'],\n",
    "    context_selector=lambda x: x.meta['is_answer'] and x.meta['pair_has_features'])"
   ]
  },
  {
   "cell_type": "markdown",
   "metadata": {},
   "source": [
    "This should produce the same output as calling the constituent steps separately."
   ]
  },
  {
   "cell_type": "code",
   "execution_count": 53,
   "metadata": {},
   "outputs": [
    {
     "name": "stdout",
     "output_type": "stream",
     "text": [
      "CLUSTER 0 0\n",
      "---\n",
      "terms\n",
      "                  cluster_dist\n",
      "index                         \n",
      "share_*               0.561461\n",
      "welcome_*             0.565564\n",
      "share_does            0.604726\n",
      "congratulate_*        0.616394\n",
      "use_*                 0.617847\n",
      "am_*                  0.627405\n",
      "impress_on            0.635085\n",
      "encourage_*           0.646977\n",
      "congratulate_may      0.664214\n",
      "join_*                0.678611\n",
      "\n",
      "context terms\n",
      "              cluster_dist\n",
      "index                     \n",
      "is_important      0.557533\n",
      "hope_*            0.567806\n",
      "have_can          0.570490\n",
      "encourage_*       0.571406\n",
      "is_ensure         0.596783\n",
      "and>*             0.613320\n",
      "is_have           0.614779\n",
      "hope_do           0.620393\n",
      "is_get            0.628049\n",
      "is_do             0.628658\n",
      "\n",
      "CLUSTER 1 1\n",
      "---\n",
      "terms\n",
      "              cluster_dist\n",
      "index                     \n",
      "give_*            0.427345\n",
      "give_can          0.526360\n",
      "give_will         0.528818\n",
      "see_*             0.541311\n",
      "assure_will       0.549835\n",
      "assure_*          0.584025\n",
      "discuss_*         0.591057\n",
      "have_*            0.592760\n",
      "reassure_*        0.620947\n",
      "discuss_will      0.627564\n",
      "\n",
      "context terms\n",
      "                  cluster_dist\n",
      "index                         \n",
      "understand_*          0.642189\n",
      "when>*                0.687080\n",
      "am_concerned          0.688567\n",
      "understand_fully      0.689203\n",
      "assure_*              0.690546\n",
      "was_about             0.694483\n",
      "understand_will       0.707195\n",
      "am_satisfied          0.707623\n",
      "assure_is             0.720145\n",
      "assure_can            0.744900\n",
      "\n",
      "CLUSTER 2 2\n",
      "---\n",
      "terms\n",
      "              cluster_dist\n",
      "index                     \n",
      "tell_*            0.497229\n",
      "tell_will         0.545768\n",
      "confirm_will      0.564324\n",
      "confirm_*         0.573774\n",
      "can>*             0.581039\n",
      "how>*             0.588424\n",
      "tell_can          0.597118\n",
      "explain_*         0.600130\n",
      "say_*             0.619994\n",
      "explain_will      0.632284\n",
      "\n",
      "context terms\n",
      "             cluster_dist\n",
      "index                    \n",
      "is>*             0.653612\n",
      "tell_will        0.680050\n",
      "is_what          0.687452\n",
      "am_afraid        0.691371\n",
      "tell_should      0.719463\n",
      "tell_*           0.722463\n",
      "represent_*      0.723182\n",
      "on>*             0.723196\n",
      "tell_are         0.733122\n",
      "expect_*         0.738662\n",
      "\n",
      "CLUSTER 3 3\n",
      "---\n",
      "terms\n",
      "               cluster_dist\n",
      "index                      \n",
      "agree_is           0.181025\n",
      "agree_be           0.189122\n",
      "agree_are          0.260053\n",
      "agree_with         0.268076\n",
      "agree_also         0.310908\n",
      "agree_have         0.316698\n",
      "agree_further      0.362442\n",
      "is_agree           0.404585\n",
      "agree_need         0.454182\n",
      "be_agree           0.468914\n",
      "\n",
      "context terms\n",
      "                  cluster_dist\n",
      "index                         \n",
      "agree_certainly       0.314437\n",
      "agree_is              0.324106\n",
      "agree_however         0.328711\n",
      "agree_be              0.333174\n",
      "agree_*               0.340822\n",
      "agree_will            0.342947\n",
      "agree_also            0.346806\n",
      "agree_with            0.347905\n",
      "agree_have            0.349221\n",
      "agree_absolutely      0.350800\n",
      "\n",
      "CLUSTER 4 4\n",
      "---\n",
      "terms\n",
      "           cluster_dist\n",
      "index                  \n",
      "do_what        0.510104\n",
      "do_help        0.542297\n",
      "do_can         0.549668\n",
      "take_what      0.558956\n",
      "work_with      0.559757\n",
      "work_will      0.560180\n",
      "doing_are      0.581044\n",
      "work_*         0.582551\n",
      "doing_*        0.603983\n",
      "have_what      0.604028\n",
      "\n",
      "context terms\n",
      "                cluster_dist\n",
      "index                       \n",
      "raises_*            0.642016\n",
      "am_pleased          0.686334\n",
      "with_*              0.708684\n",
      "makes_*             0.722158\n",
      "through>*           0.729139\n",
      "are_determined      0.756542\n",
      "are_keen            0.757121\n",
      "continuing_are      0.780108\n",
      "are_yet             0.783221\n",
      "had_recently        0.786321\n",
      "\n",
      "CLUSTER 5 5\n",
      "---\n",
      "terms\n",
      "              cluster_dist\n",
      "index                     \n",
      "is_not            0.446276\n",
      "why>does          0.515228\n",
      "think_does        0.534604\n",
      "think_*           0.538671\n",
      "believe_*         0.560391\n",
      "does>not          0.570308\n",
      "explain_is        0.576377\n",
      "stop_*            0.582624\n",
      "believe_does      0.591538\n",
      "is_true           0.604974\n",
      "\n",
      "context terms\n",
      "                  cluster_dist\n",
      "index                         \n",
      "therefore>*           0.536575\n",
      "is_therefore          0.551210\n",
      "wonder_*              0.562381\n",
      "surely>*              0.591958\n",
      "is_on                 0.636717\n",
      "is_at                 0.641183\n",
      "is_suggest            0.642476\n",
      "of>*                  0.643083\n",
      "is_extraordinary      0.644015\n",
      "is_in                 0.668729\n",
      "\n",
      "CLUSTER 6 6\n",
      "---\n",
      "terms\n",
      "                cluster_dist\n",
      "index                       \n",
      "be_*                0.380167\n",
      "as>*                0.446805\n",
      "accept_will         0.458083\n",
      "be_not              0.463601\n",
      "be_would            0.508921\n",
      "recognise_does      0.509598\n",
      "accept_*            0.516023\n",
      "in>*                0.517295\n",
      "recognise_*         0.532365\n",
      "accept_does         0.533569\n",
      "\n",
      "context terms\n",
      "              cluster_dist\n",
      "index                     \n",
      "is_surely         0.573458\n",
      "be_indeed         0.604535\n",
      "is_not            0.627032\n",
      "stated_*          0.638818\n",
      "has_*             0.640160\n",
      "be_possible       0.643052\n",
      "be_difficult      0.650494\n",
      "be_important      0.650706\n",
      "am_certain        0.651591\n",
      "however>*         0.652481\n",
      "\n",
      "CLUSTER 7 7\n",
      "---\n",
      "terms\n",
      "                cluster_dist\n",
      "index                       \n",
      "ensure_will         0.421913\n",
      "ensure_*            0.424475\n",
      "agree_will          0.487595\n",
      "undertake_will      0.509146\n",
      "undertake_*         0.520769\n",
      "take_*              0.555380\n",
      "press_may           0.569691\n",
      "may>*               0.572695\n",
      "consider_will       0.574867\n",
      "consider_*          0.577258\n",
      "\n",
      "context terms\n",
      "               cluster_dist\n",
      "index                      \n",
      "am_aware           0.557982\n",
      "am_always          0.600846\n",
      "am_sure            0.642930\n",
      "am_of              0.653652\n",
      "am_not             0.668030\n",
      "am_interested      0.672428\n",
      "am_grateful        0.679423\n",
      "try_*              0.685277\n",
      "confess_*          0.698852\n",
      "seek_*             0.721268\n",
      "\n"
     ]
    }
   ],
   "source": [
    "q_pipe.ec_model.print_clusters()"
   ]
  },
  {
   "cell_type": "code",
   "execution_count": null,
   "metadata": {},
   "outputs": [],
   "source": []
  },
  {
   "cell_type": "code",
   "execution_count": 54,
   "metadata": {},
   "outputs": [],
   "source": [
    "q_pipe.set_cluster_names(['shared_concern', 'request_assurance', 'prompt_comment', 'agreement', \n",
    "                         'issue_update', 'question_premises', 'accept_propose', 'demand_account'])"
   ]
  },
  {
   "cell_type": "markdown",
   "metadata": {},
   "source": [
    "The pipeline enables us to transform ad-hoc string input."
   ]
  },
  {
   "cell_type": "code",
   "execution_count": 55,
   "metadata": {},
   "outputs": [],
   "source": [
    "new_ut = q_pipe.transform_utterance(\n",
    "    'Can the Minister please explain why the reopening was delayed?')"
   ]
  },
  {
   "cell_type": "code",
   "execution_count": 56,
   "metadata": {},
   "outputs": [
    {
     "name": "stdout",
     "output_type": "stream",
     "text": [
      "question type: prompt_comment\n"
     ]
    }
   ],
   "source": [
    "print('question type:', new_ut.meta['fw_clustering.cluster'])"
   ]
  },
  {
   "cell_type": "markdown",
   "metadata": {},
   "source": [
    "Here, instead of storing vector representations with a corpus, the pipeline writes these representations to a field in the utterance metadata itself (since the utterance is not attached to a corpus):"
   ]
  },
  {
   "cell_type": "code",
   "execution_count": 57,
   "metadata": {},
   "outputs": [
    {
     "data": {
      "text/plain": [
       "[-0.2296570739443364,\n",
       " 0.10581579121624114,\n",
       " 0.07254644720723367,\n",
       " 0.20469517320080635,\n",
       " 0.10699971871019655,\n",
       " -0.13490207014441047,\n",
       " -0.26702240703759755,\n",
       " 0.13488915445375704,\n",
       " 0.15966352756360683,\n",
       " 0.010734218061526093,\n",
       " -0.20582957448247755,\n",
       " -0.030080948810664185,\n",
       " -0.12532196977015536,\n",
       " -0.1767950015555799,\n",
       " -0.24238622998072742,\n",
       " 0.3250296440986241,\n",
       " -0.30609142098397113,\n",
       " 0.17088641599100582,\n",
       " -0.07358702431958357,\n",
       " 0.4387561934516926,\n",
       " 0.061390643835384485,\n",
       " 0.006236864476233286,\n",
       " -0.39667464447326534,\n",
       " -0.08685370687786637]"
      ]
     },
     "execution_count": 57,
     "metadata": {},
     "output_type": "execute_result"
    }
   ],
   "source": [
    "# note that different versions of SpaCy may produce different outputs, since the\n",
    "# dependency parses may change from version to version\n",
    "new_ut.meta['fw_repr']"
   ]
  }
 ],
 "metadata": {
  "kernelspec": {
   "display_name": "Python 3 (ipykernel)",
   "language": "python",
   "name": "python3"
  },
  "language_info": {
   "codemirror_mode": {
    "name": "ipython",
    "version": 3
   },
   "file_extension": ".py",
   "mimetype": "text/x-python",
   "name": "python",
   "nbconvert_exporter": "python",
   "pygments_lexer": "ipython3",
   "version": "3.8.3"
  }
 },
 "nbformat": 4,
 "nbformat_minor": 2
}
