{
 "cells": [
  {
   "cell_type": "markdown",
   "metadata": {},
   "source": [
    "# Example for using SCD Transformer and Compute with ConDynS\n",
    "\n",
    "We demonstrate here how to use SCD Transformer for writing SCDs with your custom prompts. Then, we show how to compute ConDynS."
   ]
  },
  {
   "cell_type": "code",
   "execution_count": 1,
   "metadata": {},
   "outputs": [
    {
     "name": "stderr",
     "output_type": "stream",
     "text": [
      "/reef/kz88/convokit/ConvoKit/.conda/lib/python3.11/site-packages/tqdm/auto.py:21: TqdmWarning: IProgress not found. Please update jupyter and ipywidgets. See https://ipywidgets.readthedocs.io/en/stable/user_install.html\n",
      "  from .autonotebook import tqdm as notebook_tqdm\n",
      "2025-09-19 04:53:21.200289: I tensorflow/core/util/port.cc:153] oneDNN custom operations are on. You may see slightly different numerical results due to floating-point round-off errors from different computation orders. To turn them off, set the environment variable `TF_ENABLE_ONEDNN_OPTS=0`.\n",
      "2025-09-19 04:53:21.281305: I tensorflow/core/platform/cpu_feature_guard.cc:210] This TensorFlow binary is optimized to use available CPU instructions in performance-critical operations.\n",
      "To enable the following instructions: AVX2 AVX512F AVX512_VNNI FMA, in other operations, rebuild TensorFlow with the appropriate compiler flags.\n",
      "2025-09-19 04:53:22.808259: I tensorflow/core/util/port.cc:153] oneDNN custom operations are on. You may see slightly different numerical results due to floating-point round-off errors from different computation orders. To turn them off, set the environment variable `TF_ENABLE_ONEDNN_OPTS=0`.\n"
     ]
    }
   ],
   "source": [
    "import os\n",
    "from convokit import Corpus, download\n",
    "from convokit.convo_similarity import SCD\n",
    "from convokit.convo_similarity.condyns import ConDynS\n",
    "from convokit.genai import GenAIConfigManager"
   ]
  },
  {
   "cell_type": "code",
   "execution_count": 2,
   "metadata": {},
   "outputs": [
    {
     "name": "stdout",
     "output_type": "stream",
     "text": [
      "Dataset already exists at /reef/kz88/convokit/download_corpus/friends-corpus\n"
     ]
    }
   ],
   "source": [
    "corpus = Corpus(filename=download(\"friends-corpus\"))"
   ]
  },
  {
   "cell_type": "markdown",
   "metadata": {},
   "source": [
    "## Write SCD and SoP with SCDWriter"
   ]
  },
  {
   "cell_type": "code",
   "execution_count": null,
   "metadata": {},
   "outputs": [],
   "source": [
    "### Config your GenAI API keys\n",
    "config = GenAIConfigManager()\n",
    "\n",
    "# Set up Google Cloud configuration for Gemini (Vertex AI)\n",
    "config.set_google_cloud_config(\"YOUR PROJECT\", \"YOUR LOCATION\")"
   ]
  },
  {
   "cell_type": "code",
   "execution_count": 4,
   "metadata": {},
   "outputs": [],
   "source": [
    "### Define your own formatter function for your data\n",
    "def format_friends_transcript_from_convokit(convo):\n",
    "    utt_lst = convo.get_utterance_ids()\n",
    "    speaker_ids = {}\n",
    "    transcript = \"\"\n",
    "    for utt_id in utt_lst:\n",
    "        utt = corpus.get_utterance(utt_id)\n",
    "        if \"TRANSCRIPT_NOTE\" not in utt.speaker.id:\n",
    "            if utt.speaker.id not in speaker_ids:\n",
    "                speaker_ids[utt.speaker.id] = 1 + len(speaker_ids)\n",
    "            transcript += \"Speaker\"+str(speaker_ids[utt.speaker.id]) + \" : \" + utt.text+ \"\\n\\n\"\n",
    "    return transcript"
   ]
  },
  {
   "cell_type": "code",
   "execution_count": 5,
   "metadata": {},
   "outputs": [],
   "source": [
    "### Prepare your own prompt for writing the SCD with your data\n",
    "friends_summary_prompt = \"\"\"\n",
    "Write a short summary capturing the trajectory of a casual conversation. \n",
    "Do not include specific topics, events, or arguments from the conversation. The style you should avoid is illustrated in \n",
    "Example Sentence 1: “Speaker1 said they had a difficult day at work, and mentioned that their boss was unfair. Speaker2 listened and agreed that bosses can be tough, then suggested they go out for dinner to forget about it..” Instead, you should include indicators of sentiments (e.g., warmth, empathy, humor, nostalgia, vulnerability, support), individual intentions (e.g., building rapport, offering reassurance, seeking validation, self-disclosure, active listening, gentle disagreement, creating distance), and conversational strategies (if any) such as “collaborative storytelling,” “inside jokes,” “mirroring emotions,” and “affectionate teasing.” \n",
    "The following sentences demonstrate the style you should follow: \n",
    "Example Sentence 2: “Both speakers have similar feelings and appeared mutually supportive. Speaker1 initiates with a moment of self-disclosure, and Speaker2 responds with empathy and validation. Both speakers build on this exchange, strengthening their rapport.” \n",
    "Example Sentence 3: “The two speakers connected with back-and-forth affectionate teasing. Throughout the conversation, they kept building on each other's humor with playful remarks, creating a lighthearted and comfortable discussion.” Overall, the trajectory summary should capture the key moments where the emotional connection of the conversation notably changes. Here is an example of a complete trajectory summary: The conversation begins with two speakers exchanging neutral, surface-level comments. Speaker1 then shifts the tone by sharing a personal anecdote, prompting Speaker2 to respond with warmth and empathy. Speaker1 elaborates on their story and their need, but Speaker2 does not extend their support but retracts it. \n",
    "Now, provide the trajectory summary for the following conversation. \n",
    "Conversation Transcript: {transcript}. \n",
    "Now, summarize this conversation. Remember, do not include specific topics, claims, or arguments from the conversation. Instead, try to capture the speakers' sentiments, intentions, and conversational/persuasive strategies. Limit the trajectory summary to 80 words. \n",
    "Trajectory Summary:\"\"\""
   ]
  },
  {
   "cell_type": "markdown",
   "metadata": {},
   "source": [
    "Initialize your SCD transformer"
   ]
  },
  {
   "cell_type": "code",
   "execution_count": 6,
   "metadata": {},
   "outputs": [],
   "source": [
    "MODEL_PROVIDER = \"gemini\""
   ]
  },
  {
   "cell_type": "code",
   "execution_count": 7,
   "metadata": {},
   "outputs": [],
   "source": [
    "scd_transformer = SCD(\n",
    "        model_provider=MODEL_PROVIDER,\n",
    "        config=config,\n",
    "        model=\"gemini-2.0-flash-001\",\n",
    "        custom_scd_prompt=friends_summary_prompt,\n",
    "        custom_prompt_dir=\"friends_prompts\",\n",
    "        generate_scd=True,\n",
    "        generate_sop=True,\n",
    "        scd_metadata_name=\"machine_scd\",\n",
    "        sop_metadata_name=\"machine_sop\",\n",
    "        conversation_formatter=format_friends_transcript_from_convokit\n",
    "    )"
   ]
  },
  {
   "cell_type": "code",
   "execution_count": 8,
   "metadata": {},
   "outputs": [],
   "source": [
    "conversation_ids = list(corpus.get_conversation_ids())[:2]\n",
    "selector = lambda conv: conv.id in conversation_ids"
   ]
  },
  {
   "cell_type": "code",
   "execution_count": 9,
   "metadata": {},
   "outputs": [],
   "source": [
    "corpus = scd_transformer.transform(corpus, selector=selector)"
   ]
  },
  {
   "cell_type": "code",
   "execution_count": 10,
   "metadata": {},
   "outputs": [
    {
     "name": "stdout",
     "output_type": "stream",
     "text": [
      "SCD:  The conversation begins with playful teasing and lighthearted banter, establishing a comfortable, familiar dynamic. The mood shifts as one speaker expresses vulnerability, prompting initial empathy and offers of comfort from others. However, the speaker's distress escalates, leading to shared commiseration mixed with humor as a coping mechanism. A new speaker arrives, introducing a fresh wave of emotional turmoil and a need for support, which the group readily provides, solidifying their bond through shared experiences and understanding.\n",
      "\n",
      "SoP:  {'0': 'The conversation begins with playful teasing and lighthearted banter.', '1': 'A comfortable, familiar dynamic is established.', '2': 'One speaker expresses vulnerability.', '3': 'Initial empathy and offers of comfort are provided by others.', '4': 'The speakers distress escalates.', '5': 'Shared commiseration mixed with humor emerges as a coping mechanism.', '6': 'A new speaker arrives.', '7': 'The new speaker introduces a fresh wave of emotional turmoil and a need for support.', '8': 'The group readily provides support.', '9': 'Their bond is solidified through shared experiences and understanding.'}\n"
     ]
    }
   ],
   "source": [
    "convo = corpus.get_conversation(conversation_ids[0])\n",
    "print(\"SCD: \", convo.meta[\"machine_scd\"])\n",
    "print(\"SoP: \", convo.meta[\"machine_sop\"])"
   ]
  },
  {
   "cell_type": "markdown",
   "metadata": {},
   "source": [
    "## Compute ConDynS Score\n"
   ]
  },
  {
   "cell_type": "code",
   "execution_count": 11,
   "metadata": {},
   "outputs": [],
   "source": [
    "condyns = ConDynS(model_provider=MODEL_PROVIDER, config=config)"
   ]
  },
  {
   "cell_type": "code",
   "execution_count": 12,
   "metadata": {},
   "outputs": [
    {
     "name": "stdout",
     "output_type": "stream",
     "text": [
      "ConDynS Result:  [{'0': {'analysis': 'The conversation starts with playful guessing, fitting the description of lighthearted banter.', 'score': 0.7}, '1': {'analysis': 'The familiar dynamic is evident in the quick back-and-forth and shared jokes.', 'score': 0.8}, '2': {'analysis': 'Speaker4 expresses vulnerability about not wanting to be a shoe, a clear expression of vulnerability.', 'score': 1.0}, '3': {'analysis': 'Speaker1 offers comfort by telling Speaker4 to breathe, showing initial empathy.', 'score': 0.9}, '4': {'analysis': 'Speaker4s distress escalates as she talks about not needing the money but then retracts it.', 'score': 0.8}, '5': {'analysis': 'Speaker5 attempts to lighten the mood with a silly song, showing shared commiseration with humor.', 'score': 0.7}, '6': {'analysis': 'Speaker7, Paul, arrives, marking the arrival of a new speaker.', 'score': 1.0}, '7': {'analysis': 'Pauls arrival introduces a new dynamic, especially with Joeys inappropriate comment, creating emotional turmoil.', 'score': 0.8}, '8': {'analysis': 'The group is supportive, inviting Rachel to join them and offering help.', 'score': 0.7}, '9': {'analysis': 'The shared experience of supporting Rachel and the group dynamics solidify their bond.', 'score': 0.7}}, {'0': {'analysis': 'The initial banter about the guy Speaker1 works with fits this description.', 'score': 0.7}, '1': {'analysis': 'Speaker6 expresses distress about Carol moving out.', 'score': 1}, '2': {'analysis': 'Speaker3 offers a cookie, and Speaker1 offers coffee, attempting to reassure Speaker6.', 'score': 1}, '3': {'analysis': 'Speaker6 emotional state escalates with I dont to hell with her.', 'score': 1}, '4': {'analysis': 'Speaker2 tries to calm Ross with advice, though unconventional.', 'score': 0.7}, '5': {'analysis': 'Speaker6 says Ill be fine, indicating a slight recovery.', 'score': 0.6}, '6': {'analysis': 'Speaker2 offers advice, and Speaker3 makes a playful comment about wanting a million dollars.', 'score': 0.8}, '7': {'analysis': 'Rachel arrives, creating excitement and a new dynamic.', 'score': 1}, '8': {'analysis': 'Speaker8 offers Rachel coffee, showing support.', 'score': 0.9}}]\n",
      "\n",
      "\n",
      "ConDynS Score:  [np.float64(0.8099999999999999), np.float64(0.8555555555555556)]\n"
     ]
    }
   ],
   "source": [
    "convo_id1 = conversation_ids[0]\n",
    "convo_id2 = conversation_ids[1]\n",
    "convo1 = corpus.get_conversation(convo_id1)\n",
    "convo2 = corpus.get_conversation(convo_id2)\n",
    "\n",
    "transcript1 = format_friends_transcript_from_convokit(convo1)\n",
    "transcript2 = format_friends_transcript_from_convokit(convo2)\n",
    "sop1 = convo1.meta[\"machine_sop\"]\n",
    "sop2 = convo2.meta[\"machine_sop\"]\n",
    "\n",
    "result = condyns.compute_bidirectional_similarity(transcript1, transcript2, sop1, sop2)\n",
    "score = condyns.compute_score_from_results(result)\n",
    "print(\"ConDynS Result: \", result)\n",
    "print(\"\\n\\nConDynS Score: \", score)"
   ]
  },
  {
   "cell_type": "code",
   "execution_count": null,
   "metadata": {},
   "outputs": [],
   "source": []
  },
  {
   "cell_type": "code",
   "execution_count": null,
   "metadata": {},
   "outputs": [],
   "source": []
  },
  {
   "cell_type": "code",
   "execution_count": null,
   "metadata": {},
   "outputs": [],
   "source": []
  },
  {
   "cell_type": "code",
   "execution_count": null,
   "metadata": {},
   "outputs": [],
   "source": []
  }
 ],
 "metadata": {
  "kernelspec": {
   "display_name": "Python 3",
   "language": "python",
   "name": "python3"
  },
  "language_info": {
   "codemirror_mode": {
    "name": "ipython",
    "version": 3
   },
   "file_extension": ".py",
   "mimetype": "text/x-python",
   "name": "python",
   "nbconvert_exporter": "python",
   "pygments_lexer": "ipython3",
   "version": "3.11.13"
  }
 },
 "nbformat": 4,
 "nbformat_minor": 4
}
