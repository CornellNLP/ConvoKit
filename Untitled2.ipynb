{
 "cells": [
  {
   "cell_type": "code",
   "execution_count": 1,
   "id": "db966244-407b-494d-89f3-69491183aa25",
   "metadata": {},
   "outputs": [
    {
     "name": "stdout",
     "output_type": "stream",
     "text": [
      "Requirement already satisfied: convokit in c:\\users\\yashc\\appdata\\local\\programs\\python\\python311\\lib\\site-packages (3.0.0)\n",
      "Requirement already satisfied: matplotlib>=3.0.0 in c:\\users\\yashc\\appdata\\local\\programs\\python\\python311\\lib\\site-packages (from convokit) (3.8.4)\n",
      "Requirement already satisfied: pandas>=0.23.4 in c:\\users\\yashc\\appdata\\local\\programs\\python\\python311\\lib\\site-packages (from convokit) (2.2.2)\n",
      "Requirement already satisfied: msgpack-numpy>=0.4.3.2 in c:\\users\\yashc\\appdata\\local\\programs\\python\\python311\\lib\\site-packages (from convokit) (0.4.8)\n",
      "Requirement already satisfied: spacy>=2.3.5 in c:\\users\\yashc\\appdata\\local\\programs\\python\\python311\\lib\\site-packages (from convokit) (3.7.4)\n",
      "Requirement already satisfied: scipy>=1.1.0 in c:\\users\\yashc\\appdata\\local\\programs\\python\\python311\\lib\\site-packages (from convokit) (1.13.0)\n",
      "Requirement already satisfied: scikit-learn>=0.20.0 in c:\\users\\yashc\\appdata\\local\\programs\\python\\python311\\lib\\site-packages (from convokit) (1.4.2)\n",
      "Requirement already satisfied: nltk>=3.4 in c:\\users\\yashc\\appdata\\local\\programs\\python\\python311\\lib\\site-packages (from convokit) (3.8.1)\n",
      "Requirement already satisfied: dill>=0.2.9 in c:\\users\\yashc\\appdata\\local\\programs\\python\\python311\\lib\\site-packages (from convokit) (0.3.8)\n",
      "Requirement already satisfied: joblib>=0.13.2 in c:\\users\\yashc\\appdata\\local\\programs\\python\\python311\\lib\\site-packages (from convokit) (1.4.0)\n",
      "Requirement already satisfied: clean-text>=0.6.0 in c:\\users\\yashc\\appdata\\local\\programs\\python\\python311\\lib\\site-packages (from convokit) (0.6.0)\n",
      "Requirement already satisfied: unidecode>=1.1.1 in c:\\users\\yashc\\appdata\\local\\programs\\python\\python311\\lib\\site-packages (from convokit) (1.3.8)\n",
      "Requirement already satisfied: tqdm>=4.64.0 in c:\\users\\yashc\\appdata\\local\\programs\\python\\python311\\lib\\site-packages (from convokit) (4.66.2)\n",
      "Requirement already satisfied: pymongo>=4.0 in c:\\users\\yashc\\appdata\\local\\programs\\python\\python311\\lib\\site-packages (from convokit) (4.6.3)\n",
      "Requirement already satisfied: pyyaml>=5.4.1 in c:\\users\\yashc\\appdata\\local\\programs\\python\\python311\\lib\\site-packages (from convokit) (6.0.1)\n",
      "Requirement already satisfied: dnspython>=1.16.0 in c:\\users\\yashc\\appdata\\local\\programs\\python\\python311\\lib\\site-packages (from convokit) (2.6.1)\n",
      "Requirement already satisfied: emoji<2.0.0,>=1.0.0 in c:\\users\\yashc\\appdata\\local\\programs\\python\\python311\\lib\\site-packages (from clean-text>=0.6.0->convokit) (1.7.0)\n",
      "Requirement already satisfied: ftfy<7.0,>=6.0 in c:\\users\\yashc\\appdata\\local\\programs\\python\\python311\\lib\\site-packages (from clean-text>=0.6.0->convokit) (6.2.0)\n",
      "Requirement already satisfied: contourpy>=1.0.1 in c:\\users\\yashc\\appdata\\local\\programs\\python\\python311\\lib\\site-packages (from matplotlib>=3.0.0->convokit) (1.2.1)\n",
      "Requirement already satisfied: cycler>=0.10 in c:\\users\\yashc\\appdata\\local\\programs\\python\\python311\\lib\\site-packages (from matplotlib>=3.0.0->convokit) (0.12.1)\n",
      "Requirement already satisfied: fonttools>=4.22.0 in c:\\users\\yashc\\appdata\\local\\programs\\python\\python311\\lib\\site-packages (from matplotlib>=3.0.0->convokit) (4.51.0)\n",
      "Requirement already satisfied: kiwisolver>=1.3.1 in c:\\users\\yashc\\appdata\\local\\programs\\python\\python311\\lib\\site-packages (from matplotlib>=3.0.0->convokit) (1.4.5)\n",
      "Requirement already satisfied: numpy>=1.21 in c:\\users\\yashc\\appdata\\local\\programs\\python\\python311\\lib\\site-packages (from matplotlib>=3.0.0->convokit) (1.26.4)\n",
      "Requirement already satisfied: packaging>=20.0 in c:\\users\\yashc\\appdata\\local\\programs\\python\\python311\\lib\\site-packages (from matplotlib>=3.0.0->convokit) (24.0)\n",
      "Requirement already satisfied: pillow>=8 in c:\\users\\yashc\\appdata\\local\\programs\\python\\python311\\lib\\site-packages (from matplotlib>=3.0.0->convokit) (10.3.0)\n",
      "Requirement already satisfied: pyparsing>=2.3.1 in c:\\users\\yashc\\appdata\\local\\programs\\python\\python311\\lib\\site-packages (from matplotlib>=3.0.0->convokit) (3.1.2)\n",
      "Requirement already satisfied: python-dateutil>=2.7 in c:\\users\\yashc\\appdata\\local\\programs\\python\\python311\\lib\\site-packages (from matplotlib>=3.0.0->convokit) (2.9.0.post0)\n",
      "Requirement already satisfied: msgpack>=0.5.2 in c:\\users\\yashc\\appdata\\local\\programs\\python\\python311\\lib\\site-packages (from msgpack-numpy>=0.4.3.2->convokit) (1.0.8)\n",
      "Requirement already satisfied: click in c:\\users\\yashc\\appdata\\local\\programs\\python\\python311\\lib\\site-packages (from nltk>=3.4->convokit) (8.1.7)\n",
      "Requirement already satisfied: regex>=2021.8.3 in c:\\users\\yashc\\appdata\\local\\programs\\python\\python311\\lib\\site-packages (from nltk>=3.4->convokit) (2024.4.16)\n",
      "Requirement already satisfied: pytz>=2020.1 in c:\\users\\yashc\\appdata\\local\\programs\\python\\python311\\lib\\site-packages (from pandas>=0.23.4->convokit) (2024.1)\n",
      "Requirement already satisfied: tzdata>=2022.7 in c:\\users\\yashc\\appdata\\local\\programs\\python\\python311\\lib\\site-packages (from pandas>=0.23.4->convokit) (2024.1)\n",
      "Requirement already satisfied: threadpoolctl>=2.0.0 in c:\\users\\yashc\\appdata\\local\\programs\\python\\python311\\lib\\site-packages (from scikit-learn>=0.20.0->convokit) (3.4.0)\n",
      "Requirement already satisfied: spacy-legacy<3.1.0,>=3.0.11 in c:\\users\\yashc\\appdata\\local\\programs\\python\\python311\\lib\\site-packages (from spacy>=2.3.5->convokit) (3.0.12)\n",
      "Requirement already satisfied: spacy-loggers<2.0.0,>=1.0.0 in c:\\users\\yashc\\appdata\\local\\programs\\python\\python311\\lib\\site-packages (from spacy>=2.3.5->convokit) (1.0.5)\n",
      "Requirement already satisfied: murmurhash<1.1.0,>=0.28.0 in c:\\users\\yashc\\appdata\\local\\programs\\python\\python311\\lib\\site-packages (from spacy>=2.3.5->convokit) (1.0.10)\n",
      "Requirement already satisfied: cymem<2.1.0,>=2.0.2 in c:\\users\\yashc\\appdata\\local\\programs\\python\\python311\\lib\\site-packages (from spacy>=2.3.5->convokit) (2.0.8)\n",
      "Requirement already satisfied: preshed<3.1.0,>=3.0.2 in c:\\users\\yashc\\appdata\\local\\programs\\python\\python311\\lib\\site-packages (from spacy>=2.3.5->convokit) (3.0.9)\n",
      "Requirement already satisfied: thinc<8.3.0,>=8.2.2 in c:\\users\\yashc\\appdata\\local\\programs\\python\\python311\\lib\\site-packages (from spacy>=2.3.5->convokit) (8.2.3)\n",
      "Requirement already satisfied: wasabi<1.2.0,>=0.9.1 in c:\\users\\yashc\\appdata\\local\\programs\\python\\python311\\lib\\site-packages (from spacy>=2.3.5->convokit) (1.1.2)\n",
      "Requirement already satisfied: srsly<3.0.0,>=2.4.3 in c:\\users\\yashc\\appdata\\local\\programs\\python\\python311\\lib\\site-packages (from spacy>=2.3.5->convokit) (2.4.8)\n",
      "Requirement already satisfied: catalogue<2.1.0,>=2.0.6 in c:\\users\\yashc\\appdata\\local\\programs\\python\\python311\\lib\\site-packages (from spacy>=2.3.5->convokit) (2.0.10)\n",
      "Requirement already satisfied: weasel<0.4.0,>=0.1.0 in c:\\users\\yashc\\appdata\\local\\programs\\python\\python311\\lib\\site-packages (from spacy>=2.3.5->convokit) (0.3.4)\n",
      "Requirement already satisfied: typer<0.10.0,>=0.3.0 in c:\\users\\yashc\\appdata\\local\\programs\\python\\python311\\lib\\site-packages (from spacy>=2.3.5->convokit) (0.9.4)\n",
      "Requirement already satisfied: smart-open<7.0.0,>=5.2.1 in c:\\users\\yashc\\appdata\\local\\programs\\python\\python311\\lib\\site-packages (from spacy>=2.3.5->convokit) (6.4.0)\n",
      "Requirement already satisfied: requests<3.0.0,>=2.13.0 in c:\\users\\yashc\\appdata\\local\\programs\\python\\python311\\lib\\site-packages (from spacy>=2.3.5->convokit) (2.31.0)\n",
      "Requirement already satisfied: pydantic!=1.8,!=1.8.1,<3.0.0,>=1.7.4 in c:\\users\\yashc\\appdata\\local\\programs\\python\\python311\\lib\\site-packages (from spacy>=2.3.5->convokit) (2.7.1)\n",
      "Requirement already satisfied: jinja2 in c:\\users\\yashc\\appdata\\local\\programs\\python\\python311\\lib\\site-packages (from spacy>=2.3.5->convokit) (3.1.3)\n",
      "Requirement already satisfied: setuptools in c:\\users\\yashc\\appdata\\local\\programs\\python\\python311\\lib\\site-packages (from spacy>=2.3.5->convokit) (75.1.0)\n",
      "Requirement already satisfied: langcodes<4.0.0,>=3.2.0 in c:\\users\\yashc\\appdata\\local\\programs\\python\\python311\\lib\\site-packages (from spacy>=2.3.5->convokit) (3.3.0)\n",
      "Requirement already satisfied: colorama in c:\\users\\yashc\\appdata\\local\\programs\\python\\python311\\lib\\site-packages (from tqdm>=4.64.0->convokit) (0.4.6)\n",
      "Requirement already satisfied: wcwidth<0.3.0,>=0.2.12 in c:\\users\\yashc\\appdata\\local\\programs\\python\\python311\\lib\\site-packages (from ftfy<7.0,>=6.0->clean-text>=0.6.0->convokit) (0.2.13)\n",
      "Requirement already satisfied: annotated-types>=0.4.0 in c:\\users\\yashc\\appdata\\local\\programs\\python\\python311\\lib\\site-packages (from pydantic!=1.8,!=1.8.1,<3.0.0,>=1.7.4->spacy>=2.3.5->convokit) (0.6.0)\n",
      "Requirement already satisfied: pydantic-core==2.18.2 in c:\\users\\yashc\\appdata\\local\\programs\\python\\python311\\lib\\site-packages (from pydantic!=1.8,!=1.8.1,<3.0.0,>=1.7.4->spacy>=2.3.5->convokit) (2.18.2)\n",
      "Requirement already satisfied: typing-extensions>=4.6.1 in c:\\users\\yashc\\appdata\\local\\programs\\python\\python311\\lib\\site-packages (from pydantic!=1.8,!=1.8.1,<3.0.0,>=1.7.4->spacy>=2.3.5->convokit) (4.11.0)\n",
      "Requirement already satisfied: six>=1.5 in c:\\users\\yashc\\appdata\\local\\programs\\python\\python311\\lib\\site-packages (from python-dateutil>=2.7->matplotlib>=3.0.0->convokit) (1.16.0)\n",
      "Requirement already satisfied: charset-normalizer<4,>=2 in c:\\users\\yashc\\appdata\\local\\programs\\python\\python311\\lib\\site-packages (from requests<3.0.0,>=2.13.0->spacy>=2.3.5->convokit) (3.3.2)\n",
      "Requirement already satisfied: idna<4,>=2.5 in c:\\users\\yashc\\appdata\\local\\programs\\python\\python311\\lib\\site-packages (from requests<3.0.0,>=2.13.0->spacy>=2.3.5->convokit) (3.7)\n",
      "Requirement already satisfied: urllib3<3,>=1.21.1 in c:\\users\\yashc\\appdata\\local\\programs\\python\\python311\\lib\\site-packages (from requests<3.0.0,>=2.13.0->spacy>=2.3.5->convokit) (2.2.1)\n",
      "Requirement already satisfied: certifi>=2017.4.17 in c:\\users\\yashc\\appdata\\local\\programs\\python\\python311\\lib\\site-packages (from requests<3.0.0,>=2.13.0->spacy>=2.3.5->convokit) (2024.2.2)\n",
      "Requirement already satisfied: blis<0.8.0,>=0.7.8 in c:\\users\\yashc\\appdata\\local\\programs\\python\\python311\\lib\\site-packages (from thinc<8.3.0,>=8.2.2->spacy>=2.3.5->convokit) (0.7.11)\n",
      "Requirement already satisfied: confection<1.0.0,>=0.0.1 in c:\\users\\yashc\\appdata\\local\\programs\\python\\python311\\lib\\site-packages (from thinc<8.3.0,>=8.2.2->spacy>=2.3.5->convokit) (0.1.4)\n",
      "Requirement already satisfied: cloudpathlib<0.17.0,>=0.7.0 in c:\\users\\yashc\\appdata\\local\\programs\\python\\python311\\lib\\site-packages (from weasel<0.4.0,>=0.1.0->spacy>=2.3.5->convokit) (0.16.0)\n",
      "Requirement already satisfied: MarkupSafe>=2.0 in c:\\users\\yashc\\appdata\\local\\programs\\python\\python311\\lib\\site-packages (from jinja2->spacy>=2.3.5->convokit) (2.1.5)\n"
     ]
    }
   ],
   "source": [
    "!pip install convokit\n",
    "from convokit import Corpus, Speaker, Utterance\n",
    "import json\n",
    "from tqdm import tqdm\n",
    "from convokit import Corpus"
   ]
  },
  {
   "cell_type": "code",
   "execution_count": 3,
   "id": "a35c0823-8020-46a6-a73d-63c964cdabf8",
   "metadata": {},
   "outputs": [
    {
     "name": "stdout",
     "output_type": "stream",
     "text": [
      "Downloading npr-2p-corpus to C:\\Users\\yashc\\.convokit\\downloads\\npr-2p-corpus\n"
     ]
    },
    {
     "ename": "KeyError",
     "evalue": "'npr-2p-corpus'",
     "output_type": "error",
     "traceback": [
      "\u001b[1;31m--------------------------------------------------------------------------\u001b[0m",
      "\u001b[1;31mKeyError\u001b[0m                                 Traceback (most recent call last)",
      "Cell \u001b[1;32mIn[3], line 3\u001b[0m\n\u001b[0;32m      1\u001b[0m \u001b[38;5;28;01mfrom\u001b[39;00m \u001b[38;5;21;01mconvokit\u001b[39;00m \u001b[38;5;28;01mimport\u001b[39;00m Corpus, download\n\u001b[1;32m----> 3\u001b[0m corpus \u001b[38;5;241m=\u001b[39m Corpus(\u001b[43mdownload\u001b[49m\u001b[43m(\u001b[49m\u001b[38;5;124;43m'\u001b[39;49m\u001b[38;5;124;43mnpr-2p-corpus\u001b[39;49m\u001b[38;5;124;43m'\u001b[39;49m\u001b[43m)\u001b[49m)\n\u001b[0;32m      5\u001b[0m \u001b[38;5;66;03m# Check the corpus\u001b[39;00m\n\u001b[0;32m      6\u001b[0m \u001b[38;5;28mprint\u001b[39m(corpus\u001b[38;5;241m.\u001b[39mprint_summary_stats())\n",
      "File \u001b[1;32mC:\\projects\\ConvoKit\\convokit\\util.py:178\u001b[0m, in \u001b[0;36mdownload\u001b[1;34m(name, verbose, data_dir, use_newest_version, use_local)\u001b[0m\n\u001b[0;32m    176\u001b[0m                 _download_helper(motif_file_path, url, verbose, full_name, downloadeds_path)\n\u001b[0;32m    177\u001b[0m     \u001b[38;5;28;01melse\u001b[39;00m:\n\u001b[1;32m--> 178\u001b[0m         url \u001b[38;5;241m=\u001b[39m \u001b[43mDatasetURLs\u001b[49m\u001b[43m[\u001b[49m\u001b[43mname\u001b[49m\u001b[43m]\u001b[49m\n\u001b[0;32m    179\u001b[0m         _download_helper(dataset_path, url, verbose, name, downloadeds_path)\n\u001b[0;32m    180\u001b[0m \u001b[38;5;28;01melse\u001b[39;00m:\n",
      "\u001b[1;31mKeyError\u001b[0m: 'npr-2p-corpus'"
     ]
    }
   ],
   "source": [
    "from convokit import Corpus, download\n",
    "\n",
    "corpus = Corpus(download('npr-2p-corpus'))\n",
    "\n",
    "# Check the corpus\n",
    "print(corpus.print_summary_stats())"
   ]
  },
  {
   "cell_type": "code",
   "execution_count": null,
   "id": "9fa44251-a81e-4e82-affa-ea86d45d4823",
   "metadata": {},
   "outputs": [],
   "source": []
  },
  {
   "cell_type": "code",
   "execution_count": null,
   "id": "a1cb4ad6-fab6-4a57-b706-25486c3b1252",
   "metadata": {},
   "outputs": [],
   "source": []
  }
 ],
 "metadata": {
  "kernelspec": {
   "display_name": "Python 3 (ipykernel)",
   "language": "python",
   "name": "python3"
  },
  "language_info": {
   "codemirror_mode": {
    "name": "ipython",
    "version": 3
   },
   "file_extension": ".py",
   "mimetype": "text/x-python",
   "name": "python",
   "nbconvert_exporter": "python",
   "pygments_lexer": "ipython3",
   "version": "3.11.5"
  }
 },
 "nbformat": 4,
 "nbformat_minor": 5
}
