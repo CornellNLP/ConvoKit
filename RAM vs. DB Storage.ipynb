{
 "cells": [
  {
   "cell_type": "code",
   "execution_count": 1,
   "metadata": {},
   "outputs": [],
   "source": [
    "%load_ext autoreload\n",
    "%autoreload 2"
   ]
  },
  {
   "cell_type": "code",
   "execution_count": 2,
   "metadata": {},
   "outputs": [
    {
     "name": "stderr",
     "output_type": "stream",
     "text": [
      "Since the GPL-licensed package `unidecode` is not installed, using Python's `unicodedata` package which yields worse results.\n"
     ]
    },
    {
     "name": "stdout",
     "output_type": "stream",
     "text": [
      "Which system install of python is running? : /reef/jes543_test_convokit_dbstorage/convokit_db_test/bin/python\n",
      "Which version of convokit is imported? : /reef/jes543_test_convokit_dbstorage/Cornell-Conversational-Analysis-Toolkit/convokit/__init__.py\n"
     ]
    }
   ],
   "source": [
    "import convokit\n",
    "from convokit import Corpus, Conversation, Speaker, Utterance, StorageManager\n",
    "import sys\n",
    "\n",
    "print('Which system install of python is running? :', sys.executable)\n",
    "print('Which version of convokit is imported? :', convokit.__file__)\n"
   ]
  },
  {
   "cell_type": "code",
   "execution_count": 4,
   "metadata": {},
   "outputs": [
    {
     "name": "stdout",
     "output_type": "stream",
     "text": [
      "Corpus test_corpus_v0 not found in the DB; building new corpus\n",
      "Speaker(id: Bob): This is the 0th utterance.\n",
      "Speaker(id: Jim): This is the 1th utterance.\n",
      "Speaker(id: Rachel): This is the 2th utterance.\n",
      "Speaker(id: Bob): This is the 3th utterance.\n",
      "Speaker(id: Jim): This is the 4th utterance.\n",
      "Speaker(id: Rachel): This is the 5th utterance.\n",
      "Speaker(id: Bob): This is the 6th utterance.\n",
      "Speaker(id: Jim): This is the 7th utterance.\n",
      "Speaker(id: Rachel): This is the 8th utterance.\n",
      "Speaker(id: Bob): This is the 9th utterance.\n",
      "Speaker(id: Jim): This is the 10th utterance.\n",
      "Speaker(id: Rachel): Changing the text of utterance 11 in corpus1.\n",
      "Speaker(id: Bob): This is the 12th utterance.\n",
      "Speaker(id: Jim): This is the 13th utterance.\n",
      "Speaker(id: Rachel): This is the 14th utterance.\n",
      "Speaker(id: Bob): This is the 15th utterance.\n",
      "Speaker(id: Jim): This is the 16th utterance.\n",
      "Speaker(id: Rachel): This is the 17th utterance.\n",
      "Speaker(id: Bob): This is the 18th utterance.\n",
      "Speaker(id: Jim): This is the 19th utterance.\n",
      "Speaker(id: Rachel): This is the 20th utterance.\n",
      "Speaker(id: Bob): This is the 21th utterance.\n",
      "Speaker(id: Jim): This is the 22th utterance.\n",
      "Speaker(id: Rachel): This is the 23th utterance.\n",
      "Speaker(id: Bob): This is the 24th utterance.\n",
      "Speaker(id: Jim): This is the 25th utterance.\n",
      "Speaker(id: Rachel): This is the 26th utterance.\n",
      "Speaker(id: Bob): This is the 27th utterance.\n",
      "Speaker(id: Jim): This is the 28th utterance.\n",
      "Speaker(id: Rachel): This is the 29th utterance.\n",
      "Speaker(id: Bob): This is the 30th utterance.\n",
      "Speaker(id: Jim): This is the 31th utterance.\n",
      "Speaker(id: Rachel): This is the 32th utterance.\n",
      "Speaker(id: Bob): This is the 33th utterance.\n",
      "Speaker(id: Jim): This is the 34th utterance.\n",
      "Speaker(id: Rachel): This is the 35th utterance.\n",
      "Speaker(id: Bob): This is the 36th utterance.\n",
      "Speaker(id: Jim): This is the 37th utterance.\n",
      "Speaker(id: Rachel): This is the 38th utterance.\n",
      "Speaker(id: Bob): This is the 39th utterance.\n",
      "Speaker(id: Jim): This is the 40th utterance.\n",
      "Speaker(id: Rachel): This is the 41th utterance.\n",
      "Speaker(id: Bob): This is the 42th utterance.\n",
      "Speaker(id: Jim): This is the 43th utterance.\n",
      "Speaker(id: Rachel): This is the 44th utterance.\n",
      "Speaker(id: Bob): This is the 45th utterance.\n",
      "Speaker(id: Jim): This is the 46th utterance.\n",
      "Speaker(id: Rachel): This is the 47th utterance.\n",
      "Speaker(id: Bob): This is the 48th utterance.\n",
      "Speaker(id: Jim): This is the 49th utterance.\n",
      "Speaker(id: Rachel): This is the 50th utterance.\n",
      "Speaker(id: Bob): This is the 51th utterance.\n",
      "Speaker(id: Jim): This is the 52th utterance.\n",
      "Speaker(id: Rachel): This is the 53th utterance.\n",
      "Speaker(id: Bob): This is the 54th utterance.\n",
      "Speaker(id: Jim): This is the 55th utterance.\n",
      "Speaker(id: Rachel): This is the 56th utterance.\n",
      "Speaker(id: Bob): This is the 57th utterance.\n",
      "Speaker(id: Jim): This is the 58th utterance.\n",
      "Speaker(id: Rachel): This is the 59th utterance.\n",
      "Speaker(id: Bob): This is the 60th utterance.\n",
      "Speaker(id: Jim): This is the 61th utterance.\n",
      "Speaker(id: Rachel): This is the 62th utterance.\n",
      "Speaker(id: Bob): This is the 63th utterance.\n",
      "Speaker(id: Jim): This is the 64th utterance.\n",
      "Speaker(id: Rachel): This is the 65th utterance.\n",
      "Speaker(id: Bob): This is the 66th utterance.\n",
      "Speaker(id: Jim): This is the 67th utterance.\n",
      "Speaker(id: Rachel): This is the 68th utterance.\n",
      "Speaker(id: Bob): This is the 69th utterance.\n",
      "Speaker(id: Jim): This is the 70th utterance.\n",
      "Speaker(id: Rachel): This is the 71th utterance.\n",
      "Speaker(id: Bob): This is the 72th utterance.\n",
      "Speaker(id: Jim): This is the 73th utterance.\n",
      "Speaker(id: Rachel): This is the 74th utterance.\n",
      "Speaker(id: Bob): This is the 75th utterance.\n",
      "Speaker(id: Jim): This is the 76th utterance.\n",
      "Speaker(id: Rachel): This is the 77th utterance.\n",
      "Speaker(id: Bob): This is the 78th utterance.\n",
      "Speaker(id: Jim): This is the 79th utterance.\n",
      "Speaker(id: Rachel): This is the 80th utterance.\n",
      "Speaker(id: Bob): This is the 81th utterance.\n",
      "Speaker(id: Jim): This is the 82th utterance.\n",
      "Speaker(id: Rachel): This is the 83th utterance.\n",
      "Speaker(id: Bob): This is the 84th utterance.\n",
      "Speaker(id: Jim): This is the 85th utterance.\n",
      "Speaker(id: Rachel): This is the 86th utterance.\n",
      "Speaker(id: Bob): This is the 87th utterance.\n",
      "Speaker(id: Jim): This is the 88th utterance.\n",
      "Speaker(id: Rachel): This is the 89th utterance.\n",
      "Speaker(id: Bob): This is the 90th utterance.\n",
      "Speaker(id: Jim): This is the 91th utterance.\n",
      "Speaker(id: Rachel): This is the 92th utterance.\n",
      "Speaker(id: Bob): This is the 93th utterance.\n",
      "Speaker(id: Jim): This is the 94th utterance.\n",
      "Speaker(id: Rachel): This is the 95th utterance.\n",
      "Speaker(id: Bob): This is the 96th utterance.\n",
      "Speaker(id: Jim): This is the 97th utterance.\n",
      "Speaker(id: Rachel): This is the 98th utterance.\n",
      "Speaker(id: Bob): This is the 99th utterance.\n"
     ]
    }
   ],
   "source": [
    "existing_corpus_db = Corpus(corpus_id='test_corpus', storage_type='db', in_place=True)\n",
    "\n",
    "assert existing_corpus_db.get_utterance('11').text == 'Changing the text of utterance 11 in corpus1.'\n",
    "assert existing_corpus_db.get_utterance('12').meta == {'favorite': True}\n",
    "\n",
    "for utt in existing_corpus_db.iter_utterances():\n",
    "    print(f'{utt.speaker}: {utt.text}')"
   ]
  },
  {
   "cell_type": "markdown",
   "metadata": {},
   "source": [
    "## Traditional Convokit Corpora\n",
    "Traditionally, Convokit Corpora exist in RAM"
   ]
  },
  {
   "cell_type": "code",
   "execution_count": 4,
   "metadata": {},
   "outputs": [
    {
     "name": "stdout",
     "output_type": "stream",
     "text": [
      "True\n"
     ]
    },
    {
     "name": "stderr",
     "output_type": "stream",
     "text": [
      "100%|██████████████████████████████████████████████████████████████████████████████████████████████████████████████████████████████████████████| 100/100 [00:00<00:00, 241051.95it/s]\n"
     ]
    },
    {
     "name": "stdout",
     "output_type": "stream",
     "text": [
      "dump to  /home/jes543/.convokit/saved-corpora/test_corpus\n",
      "True\n",
      "Loading corpus test_corpus from disk at /home/jes543/.convokit/saved-corpora/test_corpus\n"
     ]
    },
    {
     "name": "stderr",
     "output_type": "stream",
     "text": [
      "100%|██████████████████████████████████████████████████████████████████████████████████████████████████████████████████████████████████████████| 100/100 [00:00<00:00, 415689.20it/s]\n"
     ]
    }
   ],
   "source": [
    "speakers = {0: Speaker(id='Bob'),1: Speaker(id='Jim'),2: Speaker(id='Rachel')}\n",
    "corpus1_mem = Corpus(utterances=[Utterance(id=str(i), \n",
    "                                text=f'This is the {i}th utterance.', \n",
    "                                reply_to=i-1 if i > 0 else None, \n",
    "                                speaker=speakers[i % 3]) for i in range(100)],\n",
    "                    storage_type='mem')\n",
    "\n",
    "# Once a program exits, the data stored in RAM Corpus is no longer around unless \n",
    "# we explicitly dump its contents to disk for long term storage\n",
    "corpus1_mem.dump('test_corpus')\n",
    "\n",
    "# We can later access the same data in convokit by loading this data from disk into\n",
    "# RAM with a new Corpus object. \n",
    "corpus2_mem = Corpus(corpus_id='test_corpus',\n",
    "                    storage_type='mem')\n",
    "\n",
    "# These two corpora contain the same data\n",
    "assert corpus1_mem.get_utterance('10').text == corpus2_mem.get_utterance('10').text\n",
    "\n",
    "# Modifications to one corpus are not reflected in the other corpus - they are distinct copies\n",
    "corpus1_mem.get_utterance('11').text = 'Changing the text of utterance 11 in corpus1.'\n",
    "assert corpus2_mem.get_utterance('11').text == 'This is the 11th utterance.'\n",
    "\n",
    "corpus2_mem.get_utterance('12').meta['favorite'] = True\n",
    "assert corpus1_mem.get_utterance('10').meta == {}"
   ]
  },
  {
   "cell_type": "markdown",
   "metadata": {},
   "source": [
    "## Introducing DB Corpora\n",
    "Now, convokit additionally offers Database based storage for Corpora"
   ]
  },
  {
   "cell_type": "code",
   "execution_count": 5,
   "metadata": {},
   "outputs": [
    {
     "name": "stdout",
     "output_type": "stream",
     "text": [
      "\u001b[91mWARNING: \u001b[0mDropping db convokit (storage.db)\n"
     ]
    }
   ],
   "source": [
    "# Clearing the database for repeatability \n",
    "StorageManager('db', corpus_id='test_corpus').purge_all_collections()"
   ]
  },
  {
   "cell_type": "code",
   "execution_count": 6,
   "metadata": {},
   "outputs": [
    {
     "name": "stdout",
     "output_type": "stream",
     "text": [
      "Corpus test_corpus_v0 not found in the DB; building new corpus\n"
     ]
    },
    {
     "name": "stderr",
     "output_type": "stream",
     "text": [
      "100%|█████████████████████████████████████████████████████████████████████████████████████████████████████████████████████████████████████████████| 100/100 [00:00<00:00, 624.63it/s]\n"
     ]
    }
   ],
   "source": [
    "corpus1_db = Corpus(utterances=[Utterance(id=str(i), \n",
    "                                text=f'This is the {i}th utterance.', \n",
    "                                reply_to=i-1 if i > 0 else None, \n",
    "                                speaker=speakers[i % 3]) for i in range(100)],\n",
    "                    storage_type='db', \n",
    "                    corpus_id='test_corpus')"
   ]
  },
  {
   "cell_type": "markdown",
   "metadata": {},
   "source": [
    "Once a program exits, the data stored in the DB Corpus still contained in the DB, without any concept of or need for a dump.\n",
    "\n",
    "We can later access the same data in convokit with a corpus object by id. By default, this creats a copy of the accessed corpus, offering the same behavior convokit users expect of having two distinct corpora to work with."
   ]
  },
  {
   "cell_type": "code",
   "execution_count": 7,
   "metadata": {},
   "outputs": [
    {
     "name": "stdout",
     "output_type": "stream",
     "text": [
      "Copying corpus test_corpus v0to corpus test_corpus_v0.1\n"
     ]
    }
   ],
   "source": [
    "corpus2_db = Corpus(corpus_id='test_corpus', storage_type='db')\n",
    "\n",
    "# corpus2_db and corpus2_db contain the same data\n",
    "assert corpus1_db.get_utterance('10').text == corpus2_mem.get_utterance('10').text\n",
    "\n",
    "# However, modifications to one corpus are not reflected in the other corpus - they are distinct copies\n",
    "corpus1_db.get_utterance('11').text = 'Changing the text of utterance 11 in corpus1.'\n",
    "assert corpus2_db.get_utterance('11').text == 'This is the 11th utterance.'\n",
    "\n",
    "corpus1_db.get_utterance('12').meta['favorite'] = True\n",
    "assert corpus2_db.get_utterance('12').meta == {}"
   ]
  },
  {
   "cell_type": "markdown",
   "metadata": {},
   "source": [
    "On the other hand, we can specify `in_place=True` when constructing a DB corpus to connect directly to an existing dataset in the database with read/write access"
   ]
  },
  {
   "cell_type": "code",
   "execution_count": 8,
   "metadata": {},
   "outputs": [
    {
     "name": "stdout",
     "output_type": "stream",
     "text": [
      "Corpus test_corpus_v0 not found in the DB; building new corpus\n"
     ]
    }
   ],
   "source": [
    "corpus3_db = Corpus(corpus_id='test_corpus', storage_type='db', in_place=True)\n",
    "\n",
    "assert corpus3_db.get_utterance('11').text == 'Changing the text of utterance 11 in corpus1.'\n",
    "assert corpus3_db.get_utterance('12').meta == {'favorite': True}\n",
    "\n",
    "# Similarly, modifications to corpus3_db will be reflected in corpus1_db, but not in corpus2_db\n",
    "corpus3_db.get_speaker('Bob').meta['height'] = '6\\'2\"'\n",
    "assert corpus1_db.get_speaker('Bob').meta == {'height': '6\\'2\"'}\n",
    "assert corpus2_db.get_speaker('Bob').meta == {}"
   ]
  },
  {
   "cell_type": "markdown",
   "metadata": {},
   "source": [
    "## Naming Conventions for DB Corpora"
   ]
  },
  {
   "cell_type": "markdown",
   "metadata": {},
   "source": [
    "As demonstraited above, DB corpora should be initilized with a `corpus_id` to set the long term storage name for a corpus. \n",
    "\n",
    "If a corpus is initilized with `in_place=False` (the default value) and with a `corpus_id` that is already taken in the database, then ConvoKit will automatically pick a similar but unique `corpus_id` for the new corpus to track a copy of the original data refered to by that `corpus_id`. \n",
    "\n",
    "For example when initilizing `corpus2_db` aboive with `corpus_id='test_corpus'` and `in_place=False`, `corpus2_db` will be assigned a new unique `corpus_id` since `corpus1_db` had already took the id `'test_corpus'`. Moreover, `corpus2_db` will be initilized to hold the contents of the data identified by the id `'test_corpus'` (ie what's in corpus1_db), but the unique effective id ensures any modifications to `corpus2_db` are not reflected back in `corpus1_db`.\n",
    "\n",
    "After initilizing a corpus with `in_place=False`, `corpus.id == corpus.storage.corpus_id` will contain the unique 'effective id' that convokit possibly modified and actually identifies the data in the database, and `corpus.storage.raw_corpus_id` will contain the original unmodified id inputted by the user, identifying the data this corpus was initilized from.\n",
    "\n",
    "Eg:"
   ]
  },
  {
   "cell_type": "code",
   "execution_count": 21,
   "metadata": {},
   "outputs": [
    {
     "name": "stdout",
     "output_type": "stream",
     "text": [
      "variable name\t\tcorpus.storage.corpus_id\tcorpus.storage.version\tcorpus.storage.full_name\n",
      "-----------------------------------------------------------------------------------------------\n",
      "corpus1_db\t\t test_corpus \t\t\t 0 \t\t\t test_corpus_v0\n",
      "corpus2_db\t\t test_corpus \t\t\t 0.1 \t\t\t test_corpus_v0.1\n"
     ]
    }
   ],
   "source": [
    "print('variable name\\t\\tcorpus.storage.corpus_id\\tcorpus.storage.version\\tcorpus.storage.full_name')\n",
    "print('-----------------------------------------------------------------------------------------------')\n",
    "print('corpus1_db\\t\\t', corpus1_db.storage.corpus_id, \n",
    "      '\\t\\t\\t',corpus1_db.storage.version, '\\t\\t\\t',corpus1_db.storage.full_name)\n",
    "print('corpus2_db\\t\\t', corpus2_db.storage.corpus_id, \n",
    "      '\\t\\t\\t',corpus2_db.storage.version, '\\t\\t\\t',corpus2_db.storage.full_name)\n",
    "\n"
   ]
  },
  {
   "cell_type": "markdown",
   "metadata": {},
   "source": [
    "On the other hand, initilizing a corpus with `in_place=True` will directly connect the new corpus to the database using the identifier provided if the identifier refers to an existing dataset, or create a new empty corpus with that name if no such dataset exists. In this case, `corpus.id == corpus.storage.raw_corpus_id`. "
   ]
  },
  {
   "cell_type": "code",
   "execution_count": 22,
   "metadata": {},
   "outputs": [
    {
     "name": "stdout",
     "output_type": "stream",
     "text": [
      "variable name\t\tcorpus.storage.corpus_id\tcorpus.storage.version\tcorpus.storage.full_name\n",
      "-----------------------------------------------------------------------------------------------\n",
      "corpus3_db\t\t test_corpus \t\t\t 0 \t\t\t test_corpus_v0\n"
     ]
    }
   ],
   "source": [
    "print('variable name\\t\\tcorpus.storage.corpus_id\\tcorpus.storage.version\\tcorpus.storage.full_name')\n",
    "print('-----------------------------------------------------------------------------------------------')\n",
    "print('corpus3_db\\t\\t', corpus3_db.storage.corpus_id, \n",
    "      '\\t\\t\\t',corpus3_db.storage.version, '\\t\\t\\t',corpus3_db.storage.full_name)"
   ]
  },
  {
   "cell_type": "markdown",
   "metadata": {},
   "source": [
    "Because a DB based Corpus needs an identifier to connect to the database, a corpus_id will automatically be picked if no corpus_id is specified in the initilization."
   ]
  },
  {
   "cell_type": "code",
   "execution_count": 23,
   "metadata": {},
   "outputs": [
    {
     "name": "stdout",
     "output_type": "stream",
     "text": [
      "No filename or corpus name specified for DB storage; using name 469355\n",
      "Corpus 469355_v0 not found in the DB; building new corpus\n",
      "variable name\t\tcorpus.storage.corpus_id\tcorpus.storage.version\tcorpus.storage.full_name\n",
      "-----------------------------------------------------------------------------------------------\n",
      "unnamed_db_corpus\t\t 469355 \t\t\t 0 \t\t\t 469355_v0\n"
     ]
    }
   ],
   "source": [
    "unnamed_db_corpus = Corpus(storage_type='db')\n",
    "print('variable name\\t\\tcorpus.storage.corpus_id\\tcorpus.storage.version\\tcorpus.storage.full_name')\n",
    "print('-----------------------------------------------------------------------------------------------')\n",
    "print('unnamed_db_corpus\\t\\t', unnamed_db_corpus.storage.corpus_id, \n",
    "      '\\t\\t\\t',unnamed_db_corpus.storage.version, '\\t\\t\\t',unnamed_db_corpus.storage.full_name)"
   ]
  },
  {
   "cell_type": "markdown",
   "metadata": {},
   "source": [
    "## Converting Between Storage Formats\n",
    "We can use the corpus.copy_as function to convert between Mem and DB storage modes."
   ]
  },
  {
   "cell_type": "code",
   "execution_count": 24,
   "metadata": {},
   "outputs": [
    {
     "name": "stdout",
     "output_type": "stream",
     "text": [
      "True\n"
     ]
    },
    {
     "name": "stderr",
     "output_type": "stream",
     "text": [
      "100%|██████████████████████████████████████████████████████████████████████████████████████████████████████████████████████████████████████████| 100/100 [00:00<00:00, 122104.92it/s]"
     ]
    },
    {
     "name": "stdout",
     "output_type": "stream",
     "text": [
      "copy as  dbcorpus_from_memcorpus\n"
     ]
    },
    {
     "name": "stderr",
     "output_type": "stream",
     "text": [
      "\n"
     ]
    },
    {
     "name": "stdout",
     "output_type": "stream",
     "text": [
      "mem\n",
      "db\n",
      "No filename or corpus name specified for DB storage; using name 822848\n",
      "Corpus 822848_v0 not found in the DB; building new corpus\n"
     ]
    },
    {
     "name": "stderr",
     "output_type": "stream",
     "text": [
      "100%|█████████████████████████████████████████████████████████████████████████████████████████████████████████████████████████████████████████████| 100/100 [00:00<00:00, 597.69it/s]\n"
     ]
    },
    {
     "name": "stdout",
     "output_type": "stream",
     "text": [
      "copy as  dbcorpus_from_memcorpus\n",
      "mem\n",
      "db\n"
     ]
    }
   ],
   "source": [
    "# Mem -> DB\n",
    "mem_corpus = Corpus(utterances=[Utterance(id=str(i), \n",
    "                                text=f'Memory Utterance #{i}', \n",
    "                                reply_to=i-1 if i > 0 else None, \n",
    "                                speaker=speakers[i % 3]) for i in range(100)],\n",
    "                    storage_type='mem')\n",
    "db_corpus_from_mem = mem_corpus.copy_as('db', corpus_id='dbcorpus_from_memcorpus')\n",
    "print(mem_corpus.storage.storage_type)\n",
    "print(db_corpus_from_mem.storage.storage_type)\n",
    "assert mem_corpus.get_utterance('30') == db_corpus_from_mem.get_utterance('30')\n",
    "\n",
    "# DB -> mem\n",
    "db_corpus = Corpus(utterances=[Utterance(id=str(i), \n",
    "                                text=f'DB Utterance #{i}', \n",
    "                                reply_to=i-1 if i > 0 else None, \n",
    "                                speaker=speakers[i % 3]) for i in range(100)],\n",
    "                    storage_type='db')\n",
    "mem_corpus_from_db = db_corpus.copy_as('mem', corpus_id='dbcorpus_from_memcorpus')\n",
    "print(mem_corpus_from_db.storage.storage_type)\n",
    "print(db_corpus.storage.storage_type)\n",
    "assert mem_corpus_from_db.get_utterance('30') == db_corpus.get_utterance('30')"
   ]
  },
  {
   "cell_type": "markdown",
   "metadata": {},
   "source": [
    "## Default Values\n",
    "I have introduced a configuration file that should live at `~/.convokit/config.yml` to control convokit's behavior. This is the default contents of the file:\n",
    "```\n",
    "# Default Storage Parameters\n",
    "db_host : localhost:27017 \n",
    "data_dir: ~/.convokit/saved-corpora\n",
    "default_storage_mode: mem\n",
    "```\n",
    "\n",
    "These defaults can all be overridden in code when initilizing `Corpus` objects or calling functions such as `dump` (for data_dir).\n",
    "\n",
    "When initilizing a corpus by `corpus_id`, if the corpus is using mem storage it will try to load this `corpus_id` from the `data_dir` (the given value or the default if none is specified). Likewise, when initilizing a corpus by `corpus_id`, if the corpus is using DB storage it will try to load this `corpus_id` from the database at `db_host` (the given value or the default if none is specified). Finally, a `dump` operation will try to dump a corpus into a folder identified by the `corpus_id` within the `data_dir`.\n",
    "\n",
    "A memory corpus can still be loaded from disk using the `filename` paramater for backwards compatability. To load a corpus from JSON lists on disk into database storage, you should first load the dataset from disk as a mem corpus, then convert it to a DB corpus.\n"
   ]
  },
  {
   "cell_type": "markdown",
   "metadata": {},
   "source": [
    "## Implementation details: Abstract Storage\n",
    "To implement abstract storage, I introduced the convokit.storage submodule. This submodule introduces the `StorageManager`, `DBCollectionMapping`, `DBDocumentMapping`,  `MemCollectionMapping`, and `MemDocumentMapping` classes; I also moved `ConvoKitIndex` to be within the storage submodule. \n",
    "\n",
    "In my implementation, every instance of a `Corpus`, `CorpusComponent`, or `ConvoKitMeta` class has an instance variable\n",
    "`self.storage : StorageManager`. This funcions as a centralized storage location—-`CorpusComponent` and `ConvoKitMeta` objects within a Corpus are provided with the same StorageManager as their owner corpus internally, which is used to implement operations between corpus components such as `utterance.get_speaker`, `conversation.iter_utterances`, `speaker.iter_conversations`... All refrences between corpus components are stored by object ids, with the real data being held by the `StorageManager`--for example, a `Conversation` object now itself only stores a list of `utterance_ids` and uses the `StorageManager` to get actual utterances.\n",
    "\n",
    "A `StorageManager` contains the instance variables `_utterances`, `_conversations`, `_speakers`, `_metas`.\n",
    "Each of these is a `MutableMapping` from object ids to objects of that type.\n",
    "If this instance of StorageManager is implementing db storage then each of these instance variables will be a `DBCollectionMapping`; If this instance of StorageManager is implementing in-memory storage then each of these instance variables will be a `MemCollectionMapping`. "
   ]
  },
  {
   "cell_type": "code",
   "execution_count": 25,
   "metadata": {},
   "outputs": [
    {
     "name": "stdout",
     "output_type": "stream",
     "text": [
      "Corpus initilized for mem storage\n",
      "storage_type: mem\n",
      "Collections Type: <class 'convokit.storage.memMappings.MemCollectionMapping'>\n",
      "\n",
      "Corpus initilized for db storage\n",
      "storage_type: db\n",
      "Collections Type: <class 'convokit.storage.dbMappings.DBCollectionMapping'>\n",
      "\n",
      "Corpus initilized for mem storage as a copy from a db corpus\n",
      "storage_type: mem\n",
      "Collections Type: <class 'convokit.storage.memMappings.MemCollectionMapping'>\n",
      "\n",
      "Corpus initilized for db storage as a copy from a mem corpus\n",
      "storage_type: db\n",
      "Collections Type: <class 'convokit.storage.dbMappings.DBCollectionMapping'>\n"
     ]
    }
   ],
   "source": [
    "print('Corpus initilized for mem storage')\n",
    "print('storage_type:',mem_corpus.storage.storage_type)\n",
    "print('Collections Type:',type(mem_corpus.storage._utterances))\n",
    "\n",
    "print('\\nCorpus initilized for db storage')\n",
    "print('storage_type:',db_corpus.storage.storage_type)\n",
    "print('Collections Type:',type(db_corpus.storage._utterances))\n",
    "\n",
    "print('\\nCorpus initilized for mem storage as a copy from a db corpus')\n",
    "print('storage_type:',mem_corpus_from_db.storage.storage_type)\n",
    "print('Collections Type:',type(mem_corpus_from_db.storage._utterances))\n",
    "\n",
    "print('\\nCorpus initilized for db storage as a copy from a mem corpus')\n",
    "print('storage_type:',db_corpus_from_mem.storage.storage_type)\n",
    "print('Collections Type:',type(db_corpus_from_mem.storage._utterances))\n"
   ]
  },
  {
   "cell_type": "markdown",
   "metadata": {},
   "source": [
    "A `MemCollectionMapping` is essentially a wrapper around a python dict, directly implementing the mapping from object ids to objects in program memory. \n",
    "\n",
    "On the other hand, a `DBCollectionMapping` appears to have the same functionallity, but does a lot more under the hood. When inserting an object into a `DBCollectionMapping`, a database document representing the object is pushed into the database. When reading from a `DBCollectionMapping` by object id, the stored data is retrieved from the database and the object is automatically reconstructed using the retrieved database document. To use this automatic reconstruction, the `DBCollectionMapping` must be initilized with a type declaration, and that type must provide a class method `from_dbdoc` that constructs objects of that type from database documents. \n"
   ]
  },
  {
   "cell_type": "markdown",
   "metadata": {},
   "source": [
    "In addition to the aforementioned abstraction for collections of objects, I also introduce an abstraction for storing data within objects: now, any object that could be stored in a collection (any `CorpusComponent` or `ConvoKitMeta`) has an instance variable `fields` that is a `MutableMapping` from field names to the data held at that field. Essentially, for these objects things that used to be stored in instance variables now live inside `fields` with the same name. I use python properties to hide this abstraction from users; for example consider this exerpt from corpusComponent.py:\n",
    "```\n",
    "    @property\n",
    "    def utterance_ids(self):\n",
    "        return self.fields['utterance_ids']\n",
    "\n",
    "    @utterance_ids.setter\n",
    "    def utterance_ids(self, new_utterance_ids):\n",
    "        self.fields['utterance_ids'] = new_utterance_ids\n",
    "\n",
    "```\n",
    "If an object is being stored in memory then its fields will be a `MemDocumentMapping`; if an object is being stored in a database then its fields will be a `DBDocumentMapping`. Eg:"
   ]
  },
  {
   "cell_type": "code",
   "execution_count": 26,
   "metadata": {},
   "outputs": [
    {
     "name": "stdout",
     "output_type": "stream",
     "text": [
      "Utterance from a Mem Corpus\n",
      "Fields Type: <class 'convokit.storage.memMappings.MemDocumentMapping'>\n",
      "Utterance from a DB Corpus\n",
      "Fields Type: <class 'convokit.storage.dbMappings.DBDocumentMapping'>\n"
     ]
    }
   ],
   "source": [
    "print('Utterance from a Mem Corpus')\n",
    "mem_utt = mem_corpus.get_utterance('0')\n",
    "print('Fields Type:',type(mem_utt.fields))\n",
    "\n",
    "print('Utterance from a DB Corpus')\n",
    "db_utt = db_corpus.get_utterance('0')\n",
    "print('Fields Type:',type(db_utt.fields))"
   ]
  },
  {
   "cell_type": "markdown",
   "metadata": {},
   "source": [
    "Similarly to for collections, A `MemDocumentMapping` is essentially a wrapper around a python dict, directly implementing the mapping from field names to data in program memory. \n",
    "\n",
    "On the other hand, a `DBDocumentMapping` appears to have the same functionallity, but does a lot more under the hood. When inserting or modifying an field in a `DBDocumentMapping`, the underlying database document is automatically updated; moreover, when reading from a `DBDocumentMapping` by field name, the freshest version of the stored data is retrieved from the database. \n"
   ]
  }
 ],
 "metadata": {
  "interpreter": {
   "hash": "b47f8edead967dbf4aa672040b0bda60ca3c95639fe0c4a8dff798987f5c531b"
  },
  "kernelspec": {
   "display_name": "Python 3 (ipykernel)",
   "language": "python",
   "name": "python3"
  },
  "language_info": {
   "codemirror_mode": {
    "name": "ipython",
    "version": 3
   },
   "file_extension": ".py",
   "mimetype": "text/x-python",
   "name": "python",
   "nbconvert_exporter": "python",
   "pygments_lexer": "ipython3",
   "version": "3.9.7"
  }
 },
 "nbformat": 4,
 "nbformat_minor": 2
}
