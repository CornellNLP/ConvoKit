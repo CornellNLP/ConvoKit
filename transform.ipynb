{
 "cells": [
  {
   "cell_type": "markdown",
   "metadata": {
    "colab_type": "text",
    "id": "p_YNRDvb3etb"
   },
   "source": [
    "# Creating Our Dataset and Applying Our Transformer\n",
    "\n",
    "In this notebook, we:\n",
    "- download friends-corpus\n",
    "- apply our Transformer, Genderromantic, to it\n",
    "- analyze the resulting measures"
   ]
  },
  {
   "cell_type": "code",
   "execution_count": 2,
   "metadata": {
    "colab": {
     "base_uri": "https://localhost:8080/",
     "height": 1000
    },
    "colab_type": "code",
    "id": "Wp3WIlBN4D7l",
    "outputId": "d175f9db-6bab-416b-d2d1-b98b1af1fd51"
   },
   "outputs": [
    {
     "name": "stdout",
     "output_type": "stream",
     "text": [
      "Collecting astroid==2.2.5 (from -r requirements.txt (line 1))\n",
      "  Using cached https://files.pythonhosted.org/packages/d5/ad/7221a62a2dbce5c3b8c57fd18e1052c7331adc19b3f27f1561aa6e620db2/astroid-2.2.5-py3-none-any.whl\n",
      "Collecting certifi==2019.6.16 (from -r requirements.txt (line 2))\n",
      "  Using cached https://files.pythonhosted.org/packages/69/1b/b853c7a9d4f6a6d00749e94eb6f3a041e342a885b87340b79c1ef73e3a78/certifi-2019.6.16-py2.py3-none-any.whl\n",
      "Requirement already satisfied: chardet==3.0.4 in /home/kcs3au/is10/lib/python3.7/site-packages (from -r requirements.txt (line 3)) (3.0.4)\n",
      "Collecting convokit==2.0.11 (from -r requirements.txt (line 4))\n",
      "  Using cached https://files.pythonhosted.org/packages/81/f3/d04f33525a2dbf316c31bfab383d1ee84280714b474718e272882e8b2d6a/convokit-2.0.11.tar.gz\n",
      "Requirement already satisfied: cycler==0.10.0 in /home/kcs3au/is10/lib/python3.7/site-packages (from -r requirements.txt (line 5)) (0.10.0)\n",
      "Requirement already satisfied: cymem==1.31.2 in /home/kcs3au/is10/lib/python3.7/site-packages (from -r requirements.txt (line 6)) (1.31.2)\n",
      "Requirement already satisfied: cytoolz==0.9.0.1 in /home/kcs3au/is10/lib/python3.7/site-packages (from -r requirements.txt (line 7)) (0.9.0.1)\n",
      "Requirement already satisfied: dill==0.2.9 in /home/kcs3au/is10/lib/python3.7/site-packages (from -r requirements.txt (line 8)) (0.2.9)\n",
      "Requirement already satisfied: en-core-web-sm==2.0.0 in /home/kcs3au/is10/lib/python3.7/site-packages (from -r requirements.txt (line 9)) (2.0.0)\n",
      "Requirement already satisfied: idna==2.8 in /home/kcs3au/is10/lib/python3.7/site-packages (from -r requirements.txt (line 10)) (2.8)\n",
      "Collecting isort==4.3.21 (from -r requirements.txt (line 11))\n",
      "  Using cached https://files.pythonhosted.org/packages/e5/b0/c121fd1fa3419ea9bfd55c7f9c4fedfec5143208d8c7ad3ce3db6c623c21/isort-4.3.21-py2.py3-none-any.whl\n",
      "Requirement already satisfied: joblib==0.13.2 in /home/kcs3au/is10/lib/python3.7/site-packages (from -r requirements.txt (line 12)) (0.13.2)\n",
      "Requirement already satisfied: kiwisolver==1.1.0 in /home/kcs3au/is10/lib/python3.7/site-packages (from -r requirements.txt (line 13)) (1.1.0)\n",
      "Collecting lazy-object-proxy==1.4.2 (from -r requirements.txt (line 14))\n",
      "  Using cached https://files.pythonhosted.org/packages/11/a0/98687a75455408ce1b222b46ef66062b5af422c3f7451f080663ba68b5df/lazy_object_proxy-1.4.2-cp37-cp37m-manylinux1_x86_64.whl\n",
      "Requirement already satisfied: matplotlib==3.1.1 in /home/kcs3au/is10/lib/python3.7/site-packages (from -r requirements.txt (line 15)) (3.1.1)\n",
      "Collecting mccabe==0.6.1 (from -r requirements.txt (line 16))\n",
      "  Using cached https://files.pythonhosted.org/packages/87/89/479dc97e18549e21354893e4ee4ef36db1d237534982482c3681ee6e7b57/mccabe-0.6.1-py2.py3-none-any.whl\n",
      "Collecting msgpack==0.6.1 (from -r requirements.txt (line 17))\n",
      "  Using cached https://files.pythonhosted.org/packages/a8/7b/630049fc4af9e68a625738612edc264ce7cb586c5001a2d4d2209a4f61c1/msgpack-0.6.1-cp37-cp37m-manylinux1_x86_64.whl\n",
      "Requirement already satisfied: msgpack-numpy==0.4.3.2 in /home/kcs3au/is10/lib/python3.7/site-packages (from -r requirements.txt (line 18)) (0.4.3.2)\n",
      "Requirement already satisfied: murmurhash==0.28.0 in /home/kcs3au/is10/lib/python3.7/site-packages (from -r requirements.txt (line 19)) (0.28.0)\n",
      "Requirement already satisfied: nltk==3.4.5 in /home/kcs3au/is10/lib/python3.7/site-packages (from -r requirements.txt (line 20)) (3.4.5)\n",
      "Requirement already satisfied: numpy==1.17.2 in /home/kcs3au/is10/lib/python3.7/site-packages (from -r requirements.txt (line 21)) (1.17.2)\n",
      "Requirement already satisfied: pandas==0.25.1 in /home/kcs3au/is10/lib/python3.7/site-packages (from -r requirements.txt (line 22)) (0.25.1)\n",
      "Requirement already satisfied: plac==0.9.6 in /home/kcs3au/is10/lib/python3.7/site-packages (from -r requirements.txt (line 23)) (0.9.6)\n",
      "Requirement already satisfied: preshed==1.0.1 in /home/kcs3au/is10/lib/python3.7/site-packages (from -r requirements.txt (line 24)) (1.0.1)\n",
      "Collecting pylint==2.3.1 (from -r requirements.txt (line 25))\n",
      "  Using cached https://files.pythonhosted.org/packages/60/c2/b3f73f4ac008bef6e75bca4992f3963b3f85942e0277237721ef1c151f0d/pylint-2.3.1-py3-none-any.whl\n",
      "Requirement already satisfied: pyparsing==2.4.2 in /home/kcs3au/is10/lib/python3.7/site-packages (from -r requirements.txt (line 26)) (2.4.2)\n",
      "Requirement already satisfied: python-dateutil==2.8.0 in /home/kcs3au/is10/lib/python3.7/site-packages (from -r requirements.txt (line 27)) (2.8.0)\n",
      "Requirement already satisfied: pytz==2019.2 in /home/kcs3au/is10/lib/python3.7/site-packages (from -r requirements.txt (line 28)) (2019.2)\n",
      "Requirement already satisfied: regex==2017.4.5 in /home/kcs3au/is10/lib/python3.7/site-packages (from -r requirements.txt (line 29)) (2017.4.5)\n",
      "Requirement already satisfied: requests==2.22.0 in /home/kcs3au/is10/lib/python3.7/site-packages (from -r requirements.txt (line 30)) (2.22.0)\n",
      "Requirement already satisfied: scikit-learn==0.21.3 in /home/kcs3au/is10/lib/python3.7/site-packages (from -r requirements.txt (line 31)) (0.21.3)\n",
      "Requirement already satisfied: scipy==1.3.1 in /home/kcs3au/is10/lib/python3.7/site-packages (from -r requirements.txt (line 32)) (1.3.1)\n",
      "Requirement already satisfied: six==1.12.0 in /home/kcs3au/is10/lib/python3.7/site-packages (from -r requirements.txt (line 33)) (1.12.0)\n",
      "Requirement already satisfied: spacy==2.0.12 in /home/kcs3au/is10/lib/python3.7/site-packages (from -r requirements.txt (line 34)) (2.0.12)\n",
      "Requirement already satisfied: thinc==6.10.3 in /home/kcs3au/is10/lib/python3.7/site-packages (from -r requirements.txt (line 35)) (6.10.3)\n",
      "Requirement already satisfied: toolz==0.10.0 in /home/kcs3au/is10/lib/python3.7/site-packages (from -r requirements.txt (line 36)) (0.10.0)\n",
      "Collecting tqdm==4.35.0 (from -r requirements.txt (line 37))\n",
      "  Using cached https://files.pythonhosted.org/packages/dc/88/d3213e2f3492daf09d8b41631ad6899f56db17ce83ea9c8a579902bafe5e/tqdm-4.35.0-py2.py3-none-any.whl\n",
      "Collecting typed-ast==1.4.0 (from -r requirements.txt (line 38))\n",
      "  Using cached https://files.pythonhosted.org/packages/fb/56/dd4e168a0009da85c78c6cfe91f5b2df2c7bbed60f3ba778c4a71289e6fb/typed_ast-1.4.0-cp37-cp37m-manylinux1_x86_64.whl\n",
      "Requirement already satisfied: ujson==1.35 in /home/kcs3au/is10/lib/python3.7/site-packages (from -r requirements.txt (line 39)) (1.35)\n",
      "Collecting urllib3==1.25.3 (from -r requirements.txt (line 40))\n",
      "  Using cached https://files.pythonhosted.org/packages/e6/60/247f23a7121ae632d62811ba7f273d0e58972d75e58a94d329d51550a47d/urllib3-1.25.3-py2.py3-none-any.whl\n",
      "Requirement already satisfied: wrapt==1.10.11 in /home/kcs3au/is10/lib/python3.7/site-packages (from -r requirements.txt (line 41)) (1.10.11)\n",
      "Requirement already satisfied: setuptools in /home/kcs3au/is10/lib/python3.7/site-packages (from kiwisolver==1.1.0->-r requirements.txt (line 13)) (40.8.0)\n",
      "Installing collected packages: lazy-object-proxy, typed-ast, astroid, certifi, convokit, isort, mccabe, msgpack, pylint, tqdm, urllib3\n",
      "  Found existing installation: certifi 2019.9.11\n",
      "    Uninstalling certifi-2019.9.11:\n",
      "      Successfully uninstalled certifi-2019.9.11\n",
      "  Found existing installation: convokit 2.1.11\n",
      "    Uninstalling convokit-2.1.11:\n",
      "      Successfully uninstalled convokit-2.1.11\n",
      "  Running setup.py install for convokit ... \u001b[?25ldone\n",
      "\u001b[?25h  Found existing installation: msgpack 0.6.2\n",
      "    Uninstalling msgpack-0.6.2:\n",
      "      Successfully uninstalled msgpack-0.6.2\n",
      "  Found existing installation: tqdm 4.36.1\n",
      "    Uninstalling tqdm-4.36.1:\n",
      "      Successfully uninstalled tqdm-4.36.1\n",
      "  Found existing installation: urllib3 1.25.6\n",
      "    Uninstalling urllib3-1.25.6:\n",
      "      Successfully uninstalled urllib3-1.25.6\n",
      "Successfully installed astroid-2.2.5 certifi-2019.6.16 convokit-2.0.11 isort-4.3.21 lazy-object-proxy-1.4.2 mccabe-0.6.1 msgpack-0.6.1 pylint-2.3.1 tqdm-4.35.0 typed-ast-1.4.0 urllib3-1.25.3\n",
      "\u001b[33mYou are using pip version 19.0.3, however version 19.2.3 is available.\n",
      "You should consider upgrading via the 'pip install --upgrade pip' command.\u001b[0m\n"
     ]
    }
   ],
   "source": [
    "!python3 -m pip install -r requirements.txt"
   ]
  },
  {
   "cell_type": "code",
   "execution_count": 4,
   "metadata": {},
   "outputs": [
    {
     "data": {
      "text/plain": [
       "<module 'convokit' from '/home/kcs3au/is10/Cornell-Conversational-Analysis-Toolkit/Cornell-Conversational-Analysis-Toolkit/convokit/__init__.py'>"
      ]
     },
     "execution_count": 4,
     "metadata": {},
     "output_type": "execute_result"
    }
   ],
   "source": [
    "import convokit\n",
    "convokit"
   ]
  },
  {
   "cell_type": "code",
   "execution_count": 5,
   "metadata": {},
   "outputs": [],
   "source": [
    "from convokit import Corpus"
   ]
  },
  {
   "cell_type": "markdown",
   "metadata": {},
   "source": [
    "# Download locally stored corpus"
   ]
  },
  {
   "cell_type": "code",
   "execution_count": 6,
   "metadata": {},
   "outputs": [],
   "source": [
    "corpus = Corpus(filename='./datasets/friends-corpus/corpus')"
   ]
  },
  {
   "cell_type": "markdown",
   "metadata": {},
   "source": [
    "# Use locally defined Transformer"
   ]
  },
  {
   "cell_type": "code",
   "execution_count": 7,
   "metadata": {
    "scrolled": true
   },
   "outputs": [
    {
     "data": {
      "text/plain": [
       "convokit.genderromantic.genderromantic.Genderromantic"
      ]
     },
     "execution_count": 7,
     "metadata": {},
     "output_type": "execute_result"
    }
   ],
   "source": [
    "from convokit import Genderromantic\n",
    "Genderromantic"
   ]
  },
  {
   "cell_type": "code",
   "execution_count": 8,
   "metadata": {},
   "outputs": [],
   "source": [
    "grr = Genderromantic()"
   ]
  },
  {
   "cell_type": "code",
   "execution_count": 9,
   "metadata": {
    "scrolled": true
   },
   "outputs": [],
   "source": [
    "transformed_corpus = grr.fit_transform(corpus)"
   ]
  },
  {
   "cell_type": "markdown",
   "metadata": {},
   "source": [
    "# Running Statistics on Utterance-Level"
   ]
  },
  {
   "cell_type": "code",
   "execution_count": 31,
   "metadata": {},
   "outputs": [
    {
     "name": "stdout",
     "output_type": "stream",
     "text": [
      "male_speaking:  20745\n",
      "male_speaking_about_female:  3131\n",
      "male_speaking_about_female_romantic:  421\n",
      "pct male utterances about females 15.092793444203423\n",
      "pct male utterances about females that are romantic 13.44618332801022\n",
      "male_speaking_not_about_female:  58207\n",
      "\n",
      "\n",
      "female_speaking:  28264\n",
      "female_speaking_about_male:  3651\n",
      "female_speaking_about_male_romantic:  466\n",
      "pct female utterances about males 12.917492216246815\n",
      "pct female utterances about males that are romantic 12.763626403725006\n",
      "female_speaking_not_about_male:  57687\n",
      "\n",
      "\n",
      "romantic:  5279\n",
      "not_romantic:  56059\n"
     ]
    }
   ],
   "source": [
    "male_speaking = 0\n",
    "male_speaking_about_female = 0\n",
    "male_speaking_about_female_romantic = 0\n",
    "\n",
    "male_speaking_not_about_female = 0\n",
    "\n",
    "female_speaking = 0\n",
    "female_speaking_about_male = 0\n",
    "female_speaking_about_male_romantic = 0\n",
    "\n",
    "female_speaking_not_about_male = 0\n",
    "\n",
    "romantic = 0\n",
    "not_romantic = 0\n",
    "\n",
    "\n",
    "utterance_ids = transformed_corpus.get_utterance_ids()\n",
    "assert len(utterance_ids) == 61338\n",
    "\n",
    "for uid in utterance_ids:\n",
    "    utt=transformed_corpus.get_utterance(uid)\n",
    "    \n",
    "    # First get whether it's a male or female speaker\n",
    "    speaker_gender = utt.user.meta['gender']\n",
    "    if speaker_gender == \"male\":\n",
    "        male_speaking += 1\n",
    "    if speaker_gender == \"female\":\n",
    "        female_speaking += 1\n",
    "        \n",
    "    # Then get whether the utterance is a male speaking about a female:\n",
    "    mf2=utt.meta[\"male_about_female\"]\n",
    "    if mf2:\n",
    "        male_speaking_about_female += 1\n",
    "        # And whether it was romantic\n",
    "        if utt.meta[\"contains_romantic\"]:\n",
    "            male_speaking_about_female_romantic += 1\n",
    "    else:\n",
    "        male_speaking_not_about_female += 1\n",
    "        \n",
    "    # Then get whether the utterance is a female speaking about a male:\n",
    "    fm2=utt.meta[\"female_about_male\"]\n",
    "    if fm2:\n",
    "        female_speaking_about_male += 1\n",
    "        # And whether it was romantic\n",
    "        if utt.meta[\"contains_romantic\"]:\n",
    "            female_speaking_about_male_romantic += 1\n",
    "    else:\n",
    "        female_speaking_not_about_male += 1\n",
    "        \n",
    "    # Then register whether the utt is romantic, period.\n",
    "    rom=utt.meta[\"contains_romantic\"]\n",
    "    if rom:\n",
    "        romantic += 1\n",
    "    else:\n",
    "        not_romantic += 1\n",
    "\n",
    "#Creating Percentages - help with graphs later\n",
    "perc_male_about_female=(float(male_speaking_about_female) / float(male_speaking))*100\n",
    "perc_male_about_female_rom=(float(male_speaking_about_female_romantic) / float(male_speaking_about_female))*100\n",
    "perc_female_about_male=(float(female_speaking_about_male) / float(female_speaking))*100\n",
    "perc_female_about_male_rom=(float(female_speaking_about_male_romantic) / float(female_speaking_about_male))*100\n",
    "    \n",
    "print('male_speaking: ', male_speaking)\n",
    "print('male_speaking_about_female: ', male_speaking_about_female)\n",
    "print('male_speaking_about_female_romantic: ', male_speaking_about_female_romantic)\n",
    "print('pct male utterances about females', perc_male_about_female)\n",
    "print('pct male utterances about females that are romantic', perc_male_about_female_rom)\n",
    "print('male_speaking_not_about_female: ', male_speaking_not_about_female)\n",
    "print('\\n')\n",
    "print('female_speaking: ', female_speaking)\n",
    "print('female_speaking_about_male: ', female_speaking_about_male)\n",
    "print('female_speaking_about_male_romantic: ', female_speaking_about_male_romantic)\n",
    "print('pct female utterances about males', perc_female_about_male)\n",
    "print('pct female utterances about males that are romantic', perc_female_about_male_rom)\n",
    "print('female_speaking_not_about_male: ', female_speaking_not_about_male)\n",
    "print('\\n')\n",
    "print('romantic: ', romantic)\n",
    "print('not_romantic: ', not_romantic)\n",
    "\n",
    "\n"
   ]
  },
  {
   "cell_type": "markdown",
   "metadata": {},
   "source": [
    "# Creating Utterance Bar Graphs"
   ]
  },
  {
   "cell_type": "code",
   "execution_count": 32,
   "metadata": {},
   "outputs": [],
   "source": [
    "import matplotlib.pyplot as plt\n",
    "import numpy as np\n",
    "import pandas as pd"
   ]
  },
  {
   "cell_type": "code",
   "execution_count": 33,
   "metadata": {},
   "outputs": [
    {
     "data": {
      "image/png": "[encoded data removed]",
      "text/plain": [
       "<Figure size 432x288 with 1 Axes>"
      ]
     },
     "metadata": {
      "needs_background": "light"
     },
     "output_type": "display_data"
    }
   ],
   "source": [
    "#Simple Statistics\n",
    "label = [5279, 56059]\n",
    "height=[romantic, not_romantic]\n",
    "bars=('Romantic', 'Not Romantic')\n",
    "y_pos = np.arange(len(bars))\n",
    "plt.bar(y_pos, height)\n",
    "plt.xticks(y_pos, bars)\n",
    "plt.title('Descriptives about Conversations')\n",
    "for i, v in enumerate(label):\n",
    "    plt.text(x=i, y =v+.25, s=(v))\n",
    "plt.show()"
   ]
  },
  {
   "cell_type": "code",
   "execution_count": 34,
   "metadata": {
    "scrolled": true
   },
   "outputs": [
    {
     "data": {
      "image/png": "[encoded data removed]",
      "text/plain": [
       "<Figure size 432x288 with 1 Axes>"
      ]
     },
     "metadata": {
      "needs_background": "light"
     },
     "output_type": "display_data"
    }
   ],
   "source": [
    "#Comparing Male about Female and Female about Male Conversations (N)\n",
    "bars1=[male_speaking, male_speaking_about_female, male_speaking_about_female_romantic ]\n",
    "bars2=[female_speaking, female_speaking_about_male, female_speaking_about_male_romantic ]\n",
    "barWidth=.25 \n",
    "\n",
    "# Set position of bar on X axis\n",
    "r1 = np.arange(len(bars1))\n",
    "r2 = [x + barWidth for x in r1]\n",
    "\n",
    "# Make the plot\n",
    "plt.bar(r1, bars1, color='g', width=barWidth, edgecolor='white', label='Males')\n",
    "plt.bar(r2, bars2, color='c', width=barWidth, edgecolor='white', label='Females')\n",
    " \n",
    "# Add xticks on the middle of the group bars\n",
    "plt.xlabel('group', fontweight='bold')\n",
    "plt.xticks([r + barWidth for r in range(len(bars1))], ['Overall', 'Opposite Sex', 'Opposite Sex & Romantic'])\n",
    " \n",
    "# Create legend & Show graphic\n",
    "plt.title('Number of utterances overall, about opposite sex, \\n and about opposite sex that are romantic')\n",
    "plt.ylabel('Number of Utterances')\n",
    "plt.xlabel('')\n",
    "plt.legend()\n",
    "plt.show()"
   ]
  },
  {
   "cell_type": "code",
   "execution_count": 35,
   "metadata": {},
   "outputs": [
    {
     "data": {
      "image/png": "[encoded data removed]",
      "text/plain": [
       "<Figure size 432x288 with 1 Axes>"
      ]
     },
     "metadata": {
      "needs_background": "light"
     },
     "output_type": "display_data"
    }
   ],
   "source": [
    "#Comparing Male about Female and Female about Male Conversations (%)\n",
    "bars1=[perc_male_about_female, perc_male_about_female_rom]\n",
    "bars2=[perc_female_about_male, perc_female_about_male_rom]\n",
    "barWidth=.25 \n",
    "\n",
    "# Set position of bar on X axis\n",
    "r1 = np.arange(len(bars1))\n",
    "r2 = [x + barWidth for x in r1]\n",
    " \n",
    "# Make the plot\n",
    "plt.bar(r1, bars1, color='g', width=barWidth, edgecolor='white', label='Males')\n",
    "plt.bar(r2, bars2, color='c', width=barWidth, edgecolor='white', label='Females')\n",
    " \n",
    "# Add xticks on the middle of the group bars\n",
    "plt.xlabel('group', fontweight='bold')\n",
    "plt.xticks([r + barWidth for r in range(len(bars1))], ['About Opposite Sex', 'About Opposite Sex & Romantic'])\n",
    " \n",
    "# Create legend & Show graphic\n",
    "plt.title('Percent of Female (or Male) Utterances about the Opposite Sex \\n and of those what Percentage are Romantic')\n",
    "plt.ylabel('Percent')\n",
    "plt.xlabel('')\n",
    "plt.legend()\n",
    "plt.show()"
   ]
  },
  {
   "cell_type": "markdown",
   "metadata": {},
   "source": [
    "# Running Statistics on Conversation-Level"
   ]
  },
  {
   "cell_type": "code",
   "execution_count": 37,
   "metadata": {},
   "outputs": [],
   "source": [
    "convo={}\n",
    "ff=[]\n",
    "mm=[]\n",
    "mf=[]\n",
    "fm=[]\n",
    "mfr=[]\n",
    "fmr=[]\n",
    "mmr=[]\n",
    "ffr=[]\n",
    "rom=[]\n",
    "total_m=0\n",
    "total_f=0\n",
    "total_utt=0\n",
    "id2=[]\n",
    "utt_count=0\n",
    "utterance_ids = transformed_corpus.get_utterance_ids()\n",
    "current_scene=utterance_ids[0][:11]\n",
    "current_scene2=1\n",
    "for uid in utterance_ids:\n",
    "    utt=transformed_corpus.get_utterance(uid)\n",
    "    if uid[:11]==current_scene:\n",
    "        total_utt=total_utt+1\n",
    "    #male/female speakers\n",
    "        m2=utt.user.meta[\"gender\"]\n",
    "        if m2 == \"male\":\n",
    "            total_m=total_m+1\n",
    "        f2=utt.user.meta[\"gender\"]\n",
    "        if f2 == \"female\":\n",
    "            total_f=total_f+1\n",
    "    #romantic\n",
    "        rom2=utt.meta[\"contains_romantic\"]\n",
    "        if rom2==True:    \n",
    "            rom.append(rom2)\n",
    "    #female and male about opposite\n",
    "        mf2=utt.meta[\"male_about_female\"]\n",
    "        if mf2==True:\n",
    "            mf.append(mf2)\n",
    "        fm2=utt.meta[\"female_about_male\"]\n",
    "        if fm2==True:\n",
    "            fm.append(fm2)\n",
    "    #female and male about opposite & romantic\n",
    "        if mf2==True & rom2==True:\n",
    "            mfr.append(mf2)\n",
    "        if fm2==True & rom2==True:\n",
    "            fmr.append(fm2)        \n",
    "    #female and male only\n",
    "        mm2=utt.meta[\"male_about_male\"]\n",
    "        if mm2==True:\n",
    "            mm.append(mm2)\n",
    "        ff2=utt.meta[\"female_about_female\"]\n",
    "        if ff2==True:\n",
    "            ff.append(ff2)\n",
    "    #female and male only about romantic\n",
    "        if mm2==True & rom2==True:\n",
    "            mmr.append(mm2)\n",
    "        if ff2==True & rom2==True:\n",
    "            ffr.append(ff2)                         \n",
    "    else: \n",
    "        current_scene=uid[:11]\n",
    "        current_scene2=current_scene2+1\n",
    "        ff=[]\n",
    "        mm=[]\n",
    "        mf=[]\n",
    "        fm=[]\n",
    "        rom=[]\n",
    "        mfr=[]\n",
    "        fmr=[]\n",
    "        mmr=[]\n",
    "        ffr=[]\n",
    "        total_utt=0\n",
    "        total_m=0\n",
    "        total_f=0\n",
    "          \n",
    "    convo[current_scene2] = {'total utterances': total_utt, 'total male': total_m, 'total female': total_f, 'male only': mm, 'female only': ff, 'male only romantic': mmr, 'female only romantic': ffr,  'male-female': mf, 'female-male': fm, 'romantic': rom, 'male-female romantic': mfr, 'female-male romantic': fmr,}"
   ]
  },
  {
   "cell_type": "code",
   "execution_count": 38,
   "metadata": {},
   "outputs": [
    {
     "name": "stdout",
     "output_type": "stream",
     "text": [
      "{'total utterances': 17, 'total male': 2, 'total female': 9, 'male only': [], 'female only': [True, True, True], 'male only romantic': [], 'female only romantic': [], 'male-female': [True, True], 'female-male': [True], 'romantic': [True], 'male-female romantic': [], 'female-male romantic': []}\n"
     ]
    }
   ],
   "source": [
    "#convo.keys()\n",
    "print(convo[15])"
   ]
  },
  {
   "cell_type": "code",
   "execution_count": 39,
   "metadata": {},
   "outputs": [],
   "source": [
    "r= [(current_scene2, convo[current_scene2]['total utterances'], convo[current_scene2]['total male'], convo[current_scene2]['total female'], len(convo[current_scene2]['male only']), len(convo[current_scene2]['female only']), len(convo[current_scene2]['romantic']), len(convo[current_scene2]['male only romantic']), len(convo[current_scene2]['female only romantic']), len(convo[current_scene2]['male-female']), len(convo[current_scene2]['female-male']), len(convo[current_scene2]['male-female romantic']), len(convo[current_scene2]['female-male romantic'])) for current_scene2 in convo.keys()]"
   ]
  },
  {
   "cell_type": "code",
   "execution_count": 40,
   "metadata": {
    "scrolled": true
   },
   "outputs": [
    {
     "name": "stdout",
     "output_type": "stream",
     "text": [
      "      scene  total_utterances  total male  total female  male only  \\\n",
      "0         1                52          19            21          6   \n",
      "1         2                55          19            28         10   \n",
      "2         3                 0           0             0          0   \n",
      "3         4                16           9             0          5   \n",
      "4         5                 8           4             4          0   \n",
      "...     ...               ...         ...           ...        ...   \n",
      "3094   3095                19           9             1          0   \n",
      "3095   3096                34          14            14          0   \n",
      "3096   3097                11           4             5          0   \n",
      "3097   3098                20           9             8          0   \n",
      "3098   3099                20           5            11          0   \n",
      "\n",
      "      female only  romantic  male only romantic  female only romantic  \\\n",
      "0               4         6                   0                     0   \n",
      "1               5         6                   1                     1   \n",
      "2               0         0                   0                     0   \n",
      "3               0         0                   0                     0   \n",
      "4               0         0                   0                     0   \n",
      "...           ...       ...                 ...                   ...   \n",
      "3094            0         1                   0                     0   \n",
      "3095            0         3                   0                     0   \n",
      "3096            0         2                   0                     0   \n",
      "3097            0         3                   0                     0   \n",
      "3098            0         2                   0                     0   \n",
      "\n",
      "      male-female  female-male  male-female romantic  female-male romantic  \n",
      "0               6            9                     0                     1  \n",
      "1               7            9                     0                     3  \n",
      "2               0            0                     0                     0  \n",
      "3               1            0                     0                     0  \n",
      "4               2            2                     0                     0  \n",
      "...           ...          ...                   ...                   ...  \n",
      "3094            0            0                     0                     0  \n",
      "3095            0            0                     0                     0  \n",
      "3096            0            0                     0                     0  \n",
      "3097            0            0                     0                     0  \n",
      "3098            0            0                     0                     0  \n",
      "\n",
      "[3099 rows x 13 columns]\n"
     ]
    }
   ],
   "source": [
    "import pandas as pd\n",
    "r=pd.DataFrame.from_dict(r)\n",
    "r.columns=['scene', 'total_utterances', 'total male', 'total female', 'male only', 'female only', 'romantic', 'male only romantic', 'female only romantic', 'male-female', 'female-male', 'male-female romantic', 'female-male romantic']\n",
    "print(r)"
   ]
  },
  {
   "cell_type": "code",
   "execution_count": 41,
   "metadata": {},
   "outputs": [
    {
     "name": "stdout",
     "output_type": "stream",
     "text": [
      "43\n"
     ]
    }
   ],
   "source": [
    "#Number of romantic words\n",
    "print(len([\"adorable\",\"amazing\",\"angel\",\"babe\",\"beau\",\"beautiful\",\"beloved\",\"darling\",\"dearest\",\"enchanting\",\"lover\",\"gorgeous\",\"handsome\",\"heavenly\",\"honey\",\"life-changing\",\"paramour\",\"sweetheart\",\"sweetie\",\"swoon\",\"wonderful\",\"adore\",\"admire\",\"care\",\"cherish\",\"choose\",\"daydream\",\"delight\",\"dream\",\"need\",\"prize\",\"treasure\",\"value\",\"want\",\"worship\",\"yearn\",\"date \",\"love\",\"kiss\",\"sex\",\"romance\",\"romantic\",\"hug\"]))\n"
   ]
  },
  {
   "cell_type": "code",
   "execution_count": 42,
   "metadata": {},
   "outputs": [
    {
     "name": "stdout",
     "output_type": "stream",
     "text": [
      "624\n",
      "35\n",
      "59\n",
      "428\n",
      "23\n",
      "76\n"
     ]
    }
   ],
   "source": [
    "#Female only conversations\n",
    "f_only = len(r[(r['total male']==0) & (r['total female']>=1)])\n",
    "print(f_only)\n",
    "f_mr = len(r[(r['total male']==0) & (r['total female']>=1)  & (r['female-male romantic']>=1)])\n",
    "print(f_mr)\n",
    "f_fr = len(r[(r['total male']==0) & (r['total female']>=1)  & (r['female only romantic']>=1)])\n",
    "print(f_fr)\n",
    "\n",
    "#Male only conversations\n",
    "m_only = len(r[(r['total male']>=1) & (r['total female']==0)])\n",
    "print(m_only)\n",
    "m_fr = len(r[(r['total male']>=1) & (r['total female']==0)  & (r['male-female romantic']>=1)])\n",
    "print(m_fr)\n",
    "m_mr = len(r[(r['total male']>=1) & (r['total female']==0)  & (r['male only romantic']>=1)])\n",
    "print(m_mr)\n"
   ]
  },
  {
   "cell_type": "code",
   "execution_count": 44,
   "metadata": {},
   "outputs": [
    {
     "data": {
      "image/png": "[encoded data removed]",
      "text/plain": [
       "<Figure size 432x288 with 1 Axes>"
      ]
     },
     "metadata": {
      "needs_background": "light"
     },
     "output_type": "display_data"
    }
   ],
   "source": [
    "#Comparing Conversations\n",
    "bars1=[m_only, m_fr, m_mr]\n",
    "bars2=[f_only, f_mr, f_fr ]\n",
    "barWidth=.25 \n",
    "\n",
    "# Set position of bar on X axis\n",
    "r1 = np.arange(len(bars1))\n",
    "r2 = [x + barWidth for x in r1]\n",
    " \n",
    "# Make the plot\n",
    "plt.bar(r1, bars1, color='g', width=barWidth, edgecolor='white', label='Males')\n",
    "plt.bar(r2, bars2, color='c', width=barWidth, edgecolor='white', label='Females')\n",
    "\n",
    "# Add xticks on the middle of the group bars\n",
    "plt.xlabel('group', fontweight='bold')\n",
    "plt.xticks([r + barWidth for r in range(len(bars1))], ['Overall', 'Opposite Sex & Romantic', 'Same Sex & Romantic'])\n",
    " \n",
    "# Create legend & Show graphic\n",
    "plt.title('Number of Female (Male) Only Conversations Overall, \\n about the Opposite Sex & Romantic, and about the Same Sex & Romantic')\n",
    "plt.ylabel('Number')\n",
    "plt.xlabel('')\n",
    "plt.legend()\n",
    "plt.show()"
   ]
  },
  {
   "cell_type": "code",
   "execution_count": 45,
   "metadata": {},
   "outputs": [
    {
     "data": {
      "image/png": "[encoded data removed]",
      "text/plain": [
       "<Figure size 432x288 with 1 Axes>"
      ]
     },
     "metadata": {
      "needs_background": "light"
     },
     "output_type": "display_data"
    }
   ],
   "source": [
    "#Comparing Conversations\n",
    "bars1=[2.5, 0.7]\n",
    "bars2=[1.9, 1.1]\n",
    "barWidth=.25 \n",
    "\n",
    "# Set position of bar on X axis\n",
    "r1 = np.arange(len(bars1))\n",
    "r2 = [x + barWidth for x in r1]\n",
    " \n",
    "# Make the plot\n",
    "plt.bar(r1, bars1, color='g', width=barWidth, edgecolor='white', label='Males')\n",
    "plt.bar(r2, bars2, color='c', width=barWidth, edgecolor='white', label='Females')\n",
    "\n",
    "# Add xticks on the middle of the group bars\n",
    "plt.xlabel('group', fontweight='bold')\n",
    "plt.xticks([r + barWidth for r in range(len(bars1))], ['Same Sex', 'Opposite Sex'])\n",
    " \n",
    "# Create legend & Show graphic\n",
    "plt.title('Percent of Scenes with only Female (or Male) Speakers with \\n Same Sex Romantic and Opposite Sex Romantic Utterances')\n",
    "plt.ylabel('Percent')\n",
    "plt.xlabel('')\n",
    "plt.legend()\n",
    "plt.show()"
   ]
  },
  {
   "cell_type": "markdown",
   "metadata": {},
   "source": [
    "# Politeness - Extra Analysis"
   ]
  },
  {
   "cell_type": "code",
   "execution_count": 46,
   "metadata": {},
   "outputs": [
    {
     "data": {
      "image/png": "[encoded data removed]",
      "text/plain": [
       "<Figure size 432x288 with 1 Axes>"
      ]
     },
     "metadata": {
      "needs_background": "light"
     },
     "output_type": "display_data"
    }
   ],
   "source": [
    "#Politeness \n",
    "labels=['Apologizing', 'Factuality', 'Please', 'Please_start', \"Subjunctive\", 'Deference', 'Indirect Greeting']\n",
    "female_data=[19, 15, 35, 28, 18, -33, -26]\n",
    "male_data=[-24, -18, -54, -40, -22, 25, 20]\n",
    "\n",
    "x = np.arange(len(labels))  # the label locations\n",
    "width=0.35\n",
    "\n",
    "fig, ax = plt.subplots()\n",
    "rects1 = ax.bar(x - width/2, male_data, width, label='Males')\n",
    "rects2 = ax.bar(x + width/2, female_data, width, label='Females')\n",
    "\n",
    "# Add some text for labels, title and custom x-axis tick labels, etc.\n",
    "ax.set_ylabel('Percent')\n",
    "ax.set_title('Politeness Strategies by Gender')\n",
    "ax.set_xticks(x)\n",
    "ax.set_xticklabels(labels,  rotation=45)\n",
    "ax.legend()\n",
    "\n",
    "def autolabel(rects):\n",
    "    \"\"\"Attach a text label above each bar in *rects*, displaying its height.\"\"\"\n",
    "    for rect in rects:\n",
    "        height = rect.get_height()\n",
    "        ax.annotate('{}'.format(height),\n",
    "                    xy=(rect.get_x() + rect.get_width() / 2, height),\n",
    "                    xytext=(0, -1),  # 3 points vertical offset\n",
    "                    textcoords=\"offset points\",\n",
    "                    ha='center', va='bottom')\n",
    "\n",
    "autolabel(rects1)\n",
    "autolabel(rects2)\n",
    "\n",
    "fig.tight_layout()\n",
    "\n",
    "plt.show()"
   ]
  },
  {
   "cell_type": "code",
   "execution_count": null,
   "metadata": {},
   "outputs": [],
   "source": []
  }
 ],
 "metadata": {
  "colab": {
   "collapsed_sections": [],
   "name": "convert-et397.ipynb",
   "provenance": [],
   "version": "0.3.2"
  },
  "kernelspec": {
   "display_name": "Python 3",
   "language": "python",
   "name": "python3"
  },
  "language_info": {
   "codemirror_mode": {
    "name": "ipython",
    "version": 3
   },
   "file_extension": ".py",
   "mimetype": "text/x-python",
   "name": "python",
   "nbconvert_exporter": "python",
   "pygments_lexer": "ipython3",
   "version": "3.6.8"
  }
 },
 "nbformat": 4,
 "nbformat_minor": 1
}
