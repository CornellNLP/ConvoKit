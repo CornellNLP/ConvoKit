{
 "cells": [
  {
   "cell_type": "code",
   "execution_count": null,
   "metadata": {},
   "outputs": [],
   "source": [
    "import os\n",
    "import pkg_resources\n",
    "import numpy as np\n",
    "import json\n",
    "\n",
    "from convokit import Corpus, QuestionTypology, download, MotifsExtractor, QuestionTypologyUtils\n",
    "\n",
    "import itertools\n",
    "import os\n",
    "import matplotlib.pyplot as plt\n",
    "import numpy as np\n",
    "import pandas as pd\n",
    "import spacy\n",
    "\n",
    "from ast import literal_eval as make_tuple\n",
    "from collections import defaultdict\n",
    "from scipy import sparse\n",
    "from sklearn.externals import joblib\n",
    "from sklearn.cluster import KMeans\n",
    "from sklearn.metrics.pairwise import pairwise_distances\n",
    "from sklearn.preprocessing import Normalizer\n",
    "from spacy.en import English\n",
    "from spacy.symbols import *\n",
    "from spacy.tokens.doc import Doc\n"
   ]
  },
  {
   "cell_type": "code",
   "execution_count": null,
   "metadata": {
    "collapsed": true
   },
   "outputs": [],
   "source": [
    "#Initialize QuestionTypology class pretrained on Parliament Dataset\n",
    "\n",
    "num_clusters = 8\n",
    "\n",
    "data_dir = download('parliament-corpus')\n",
    "motifs_dir = download('parliament-motifs')\n",
    "\n",
    "corpus = Corpus(filename=os.path.join(data_dir, 'parliament-corpus'))\n",
    "\n",
    "questionTypology = QuestionTypology(corpus, data_dir, dataset_name='parliament', motifs_dir=motifs_dir, num_dims=25,\n",
    "  num_clusters=num_clusters, verbose=False, random_seed=164)"
   ]
  },
  {
   "cell_type": "code",
   "execution_count": 3,
   "metadata": {
    "collapsed": true
   },
   "outputs": [],
   "source": [
    "# def display_question_type_log_odds_graph():\n",
    "# '''\n",
    "#     Recreates figure 1a from the paper. labels are the labels\n",
    "#     that should be printed alongside each pair of data points.\n",
    "#     order_of_display is the order in which these labels correspond to the\n",
    "#     clusters, and the order they should be displayed\n",
    "# '''\n",
    "pair_delim = '-q-a-'\n",
    "\n",
    "order_of_display = [4,7,0,5,2,6,3,1]\n",
    "clusters = [i for i in order_of_display[::-1]]\n",
    "\n",
    "num_questions_govt = [0 for i in order_of_display]\n",
    "num_questions_opp = [0 for i in order_of_display]\n",
    "num_questions_untyped = 0\n",
    "\n",
    "j = 0\n",
    "num_omissions_for_lack_of_user_info = 0\n",
    "num_omissions_for_shadow_ministers = 0\n",
    "num_omissions_for_govt_ministers = 0\n",
    "num_included_questions = 0\n",
    "text_iter = questionTypology.corpus.iterate_by('questions', MotifsExtractor.does_utterance_have_only_one_question)\n",
    "for (_, (_,_,pair_idx)) in enumerate(text_iter):\n",
    "    j += 1\n",
    "    if questionTypology.verbose and j%questionTypology.verbose == 0:\n",
    "        print(j)\n",
    "    utterance = questionTypology.corpus.utterances[pair_idx[:pair_idx.find(pair_delim)]]\n",
    "    num_questions_in_utterance = utterance.text.count('?')\n",
    "    user_info = utterance.other['user-info']\n",
    "    if \"is_minister\" not in user_info:\n",
    "        num_omissions_for_lack_of_user_info += 1\n",
    "        continue\n",
    "    if (user_info[\"is_oppn\"] and user_info[\"is_minister\"]):\n",
    "        num_omissions_for_shadow_ministers += 1\n",
    "        continue\n",
    "    if (not user_info[\"is_oppn\"] and user_info[\"is_minister\"]):\n",
    "        num_omissions_for_govt_ministers += 1\n",
    "        continue\n",
    "    num_included_questions += 1\n",
    "    for i in order_of_display:\n",
    "        if pair_idx in questionTypology.types_to_data[i][\"questions\"]:\n",
    "            if user_info[\"is_oppn\"]:\n",
    "                num_questions_opp[i] += 1\n",
    "            elif not user_info[\"is_oppn\"]:\n",
    "                num_questions_govt[i] += 1\n",
    "            else:\n",
    "                num_questions_untyped += 1"
   ]
  },
  {
   "cell_type": "code",
   "execution_count": 4,
   "metadata": {},
   "outputs": [
    {
     "name": "stdout",
     "output_type": "stream",
     "text": [
      "216894.0  total utterance pairs\n",
      "103735  total utterances with just one question\n",
      "40879  included\n",
      "0  omissions for lack of user info\n",
      "16629  omissions for shadow ministers\n",
      "46227  omissions for govt ministers\n",
      "govt question distribution:  [2521, 2828, 2123, 5691, 4030, 5125, 3439, 2362] total:  28119\n",
      "opp question distribution:  [2019, 1092, 1489, 1421, 1992, 1890, 1254, 758] total:  11915\n",
      "untyped questions:  845\n"
     ]
    }
   ],
   "source": [
    "print (len(questionTypology.corpus.utterances.values())/2, ' total utterance pairs')\n",
    "print(j, ' total utterances with just one question')\n",
    "print(num_included_questions, ' included')\n",
    "print(num_omissions_for_lack_of_user_info, ' omissions for lack of user info')\n",
    "print(num_omissions_for_shadow_ministers, ' omissions for shadow ministers')\n",
    "print(num_omissions_for_govt_ministers, ' omissions for govt ministers')\n",
    "print('govt question distribution: ', num_questions_govt, 'total: ', sum(num_questions_govt))\n",
    "print('opp question distribution: ', num_questions_opp, 'total: ', sum(num_questions_opp))\n",
    "print('untyped questions: ', num_included_questions - sum(num_questions_opp) - sum(num_questions_govt))"
   ]
  },
  {
   "cell_type": "code",
   "execution_count": 5,
   "metadata": {
    "collapsed": true
   },
   "outputs": [],
   "source": [
    "total_questions_of_each_type = [num_questions_govt[i] + num_questions_opp[i] for i in range(questionTypology.num_clusters)]\n",
    "govt_log_odds = []\n",
    "opp_log_odds = []\n",
    "for i in range(questionTypology.num_clusters):\n",
    "    p = num_questions_govt[i]/total_questions_of_each_type[i]\n",
    "    govt_log_odds_value = np.log(p/(1-p)) \n",
    "    govt_log_odds.append(govt_log_odds_value)\n",
    "    opp_log_odds.append(-govt_log_odds_value)\n",
    "# govt_log_odds = [np.log(num_questions_govt[i]/len(questionTypology.types_to_data[i][\"questions\"])) -\n",
    "#     np.log((len(questionTypology.types_to_data[i][\"questions\"]) - num_questions_govt[i])/len(questionTypology.types_to_data[i][\"questions\"]))\n",
    "#     for i in range(questionTypology.num_clusters)]\n",
    "# opp_log_odds = [np.log(num_questions_opp[i]/len(questionTypology.types_to_data[i][\"questions\"])) -\n",
    "#     np.log((len(questionTypology.types_to_data[i][\"questions\"]) - num_questions_opp[i])/len(questionTypology.types_to_data[i][\"questions\"]))\n",
    "#     for i in range(questionTypology.num_clusters)]"
   ]
  },
  {
   "cell_type": "code",
   "execution_count": 6,
   "metadata": {},
   "outputs": [
    {
     "data": {
      "image/png": "[encoded data removed]",
      "text/plain": [
       "<matplotlib.figure.Figure at 0x17a868240>"
      ]
     },
     "metadata": {},
     "output_type": "display_data"
    }
   ],
   "source": [
    "govt_data_style = 'bo'\n",
    "opp_data_style = 'rs'\n",
    "\n",
    "line_x = np.linspace(-5, 5, questionTypology.num_clusters) #for lines\n",
    "\n",
    "labels = ['Type 0 (issue update)', #Here Type 4\n",
    "        'Type 1 (shared concerns)', #Here Type 7\n",
    "        'Type 2 (narrow factual)', #Here Type 0\n",
    "        'Type 3 (prompt for comment)', #Here Type 5\n",
    "        'Type 4 (agreement)', #Here Type 2\n",
    "        'Type 5 (questionTypology-promotion)', #Here Type 6\n",
    "        'Type 6 (concede/accept)', #Here Type 3\n",
    "        'Type 7 (condemnatory)'] #Here Type 1\n",
    "\n",
    "\n",
    "#plot lines - probably a better way of doing this\n",
    "for i in clusters:\n",
    "    y_i = np.full(questionTypology.num_clusters,i)\n",
    "    plt.plot(line_x, y_i, linestyle='dashed', linewidth=1, color='lightgrey')\n",
    "\n",
    "#plot govt\n",
    "govt_plot, = plt.plot(govt_log_odds, clusters, govt_data_style, label='government affiliated')\n",
    "\n",
    "#plot opposition\n",
    "opp_plot, = plt.plot(opp_log_odds, clusters, opp_data_style, label='opposition affiliated')\n",
    "\n",
    "#legend\n",
    "# plt.legend(handles=[govt_plot, opp_plot], loc='lower right')\n",
    "\n",
    "#add labels\n",
    "plt.yticks(clusters, labels, rotation='horizontal')\n",
    "\n",
    "#add central line\n",
    "plt.axvline(x=0, color='black')\n",
    "\n",
    "# Pad margins so that markers don't get clipped by the axes\n",
    "plt.margins(0.2)\n",
    "# Tweak spacing to prevent clipping of tick-labels\n",
    "plt.subplots_adjust(bottom=0.15)\n",
    "\n",
    "plt.show() #This can be changed to show or write to file"
   ]
  },
  {
   "cell_type": "code",
   "execution_count": null,
   "metadata": {},
   "outputs": [],
   "source": [
    "questionTypology.display_totals()\n",
    "print('10 examples for types 1-8:')\n",
    "for i in range(num_clusters):\n",
    "    questionTypology.display_motifs_for_type(i, num_egs=10)\n",
    "    questionTypology.display_answer_fragments_for_type(i, num_egs=10)\n",
    "    questionTypology.display_question_answer_pairs_for_type(i, num_egs=10)"
   ]
  },
  {
   "cell_type": "code",
   "execution_count": null,
   "metadata": {
    "collapsed": true
   },
   "outputs": [],
   "source": []
  }
 ],
 "metadata": {
  "kernelspec": {
   "display_name": "py3-question-typology",
   "language": "python",
   "name": "py3-question-typology"
  },
  "language_info": {
   "codemirror_mode": {
    "name": "ipython",
    "version": 3
   },
   "file_extension": ".py",
   "mimetype": "text/x-python",
   "name": "python",
   "nbconvert_exporter": "python",
   "pygments_lexer": "ipython3",
   "version": "3.6.2"
  }
 },
 "nbformat": 4,
 "nbformat_minor": 2
}
