{
 "cells": [
  {
   "cell_type": "markdown",
   "metadata": {
    "collapsed": true
   },
   "source": [
    "This example extracts question types from the UK Parliament Question Answer Sessions \n",
    "reproducing the asking too much paper (http://www.cs.cornell.edu/~cristian/Asking_too_much.html).\n",
    "(due to the non-deterministic nature of clustering, the order of the clusters and some cluster assignments will vary).<br> This version uses precomputed motifs for speed."
   ]
  },
  {
   "cell_type": "code",
   "execution_count": null,
   "metadata": {
    "collapsed": true
   },
   "outputs": [],
   "source": [
    "import os\n",
    "import pkg_resources\n",
    "import numpy as np\n",
    "\n",
    "from convokit import Corpus, QuestionTypology, download"
   ]
  },
  {
   "cell_type": "markdown",
   "metadata": {},
   "source": [
    "Initializing QuestionTypology Class"
   ]
  },
  {
   "cell_type": "code",
   "execution_count": null,
   "metadata": {},
   "outputs": [],
   "source": [
    "num_clusters = 8\n",
    "\n",
    "# Get precomputed motifs. data_dir contains the downloaded data. \n",
    "# motifs_dir is the specific path within data_dir that contains the precomputed motifs\n",
    "data_dir = os.path.join(pkg_resources.resource_filename(\"convokit\", \"\"), 'downloads', 'parliament')\n",
    "motifs_dir = os.path.join(data_dir, 'parliament-motifs')\n",
    "\n",
    "#Load the corpus\n",
    "corpus = Corpus(filename=os.path.join(data_dir, 'parliament-corpus'))\n",
    "\n",
    "#Extract clusters of the motifs and assign questions to these clusters\n",
    "questionTypology = QuestionTypology(corpus, data_dir, motifs_dir=motifs_dir, num_dims=25, \n",
    "  num_clusters=num_clusters, verbose=False, random_seed=164)"
   ]
  },
  {
   "cell_type": "markdown",
   "metadata": {},
   "source": [
    "`questionTypology.types_to_data` contains the necessary data that is computed in the step above. Its keys are the indices of the clusters (here 0-7). The values are dictionaries with the following keys:<br>\n",
    "    <br>`\"motifs\"`: the motifs, as a list of tuples of the motif terms\n",
    "    <br>`\"motif_dists\"`: the corresponding distances of each motif from the centroid of the cluster this motif is in\n",
    "    <br>`\"fragments\"`: the answer fragments, as a list of tuples of answer terms\n",
    "    <br>`\"fragment_dists\"`: the corresponding distances of each fragment from the centroid of the cluster this \n",
    "fragment is in\n",
    "    <br>`\"questions\"`: the IDs of the questions in this cluster. You can get the corresponding question text by using the\n",
    "get_question_text_from_pair_idx(pair_idx) method.\n",
    "    <br>`\"question_dists\"`: the corresponding distances of each question from the centroid of the cluster \n",
    "this question is in"
   ]
  },
  {
   "cell_type": "markdown",
   "metadata": {},
   "source": [
    "Display Outputs"
   ]
  },
  {
   "cell_type": "code",
   "execution_count": null,
   "metadata": {},
   "outputs": [],
   "source": [
    "questionTypology.display_totals()\n",
    "print('10 examples for type 1-8:')\n",
    "for i in range(num_clusters):\n",
    "    questionTypology.display_motifs_for_type(i, num_egs=10)\n",
    "    questionTypology.display_answer_fragments_for_type(i, num_egs=10)\n",
    "    questionTypology.display_questions_for_type(i, num_egs=10)"
   ]
  }
 ],
 "metadata": {
  "kernelspec": {
   "display_name": "Python 3",
   "language": "python",
   "name": "python3"
  },
  "language_info": {
   "codemirror_mode": {
    "name": "ipython",
    "version": 3
   },
   "file_extension": ".py",
   "mimetype": "text/x-python",
   "name": "python",
   "nbconvert_exporter": "python",
   "pygments_lexer": "ipython3",
   "version": "3.6.1"
  }
 },
 "nbformat": 4,
 "nbformat_minor": 2
}
