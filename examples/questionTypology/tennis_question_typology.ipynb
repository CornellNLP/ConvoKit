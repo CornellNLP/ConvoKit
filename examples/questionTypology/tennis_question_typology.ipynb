{
 "cells": [
  {
   "cell_type": "code",
   "execution_count": 6,
   "metadata": {
    "collapsed": true
   },
   "outputs": [],
   "source": [
    "import os\n",
    "import pkg_resources\n",
    "\n",
    "from convokit import Corpus, QuestionTypology, download"
   ]
  },
  {
   "cell_type": "markdown",
   "metadata": {},
   "source": [
    "Initializing QuestionTypology Class"
   ]
  },
  {
   "cell_type": "code",
   "execution_count": null,
   "metadata": {},
   "outputs": [],
   "source": [
    "num_clusters = 8\n",
    "\n",
    "data_dir = os.path.join(pkg_resources.resource_filename(\"convokit\", \"\"), 'downloads', 'tennis')\n",
    "\n",
    "corpus = Corpus(filename=os.path.join(data_dir, 'tennis-corpus'))\n",
    "\n",
    "corpus.filter_utterances_by(other_kv_pairs={'result':1})\n",
    "\n",
    "questionTypology = QuestionTypology(corpus, data_dir, dataset_name=\"tennis\", num_dims=25, \n",
    "                                    num_clusters=num_clusters, verbose=False)"
   ]
  },
  {
   "cell_type": "code",
   "execution_count": null,
   "metadata": {
    "collapsed": true
   },
   "outputs": [],
   "source": [
    "Display Outputs"
   ]
  },
  {
   "cell_type": "code",
   "execution_count": null,
   "metadata": {
    "collapsed": true
   },
   "outputs": [],
   "source": [
    "questionTypology.display_totals()\n",
    "print('10 examples for type 1-8:')\n",
    "for i in range(num_clusters):\n",
    "    questionTypology.display_motifs_for_type(i, num_egs=10)\n",
    "    questionTypology.display_answer_fragments_for_type(i, num_egs=10)\n",
    "    questionTypology.display_questions_for_type(i, num_egs=10)\n"
   ]
  },
  {
   "cell_type": "code",
   "execution_count": null,
   "metadata": {
    "collapsed": true
   },
   "outputs": [],
   "source": []
  }
 ],
 "metadata": {
  "kernelspec": {
   "display_name": "Python 3",
   "language": "python",
   "name": "python3"
  },
  "language_info": {
   "codemirror_mode": {
    "name": "ipython",
    "version": 3
   },
   "file_extension": ".py",
   "mimetype": "text/x-python",
   "name": "python",
   "nbconvert_exporter": "python",
   "pygments_lexer": "ipython3",
   "version": "3.6.1"
  }
 },
 "nbformat": 4,
 "nbformat_minor": 2
}
