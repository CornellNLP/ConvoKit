{
 "cells": [
  {
   "cell_type": "code",
   "execution_count": 1,
   "metadata": {},
   "outputs": [
    {
     "name": "stderr",
     "output_type": "stream",
     "text": [
      "/Users/ishaanjhaveri/Envs/py3-question-typology/lib/python3.6/site-packages/sklearn/utils/fixes.py:64: DeprecationWarning: inspect.getargspec() is deprecated, use inspect.signature() or inspect.getfullargspec()\n",
      "  if 'order' in inspect.getargspec(np.copy)[0]:\n"
     ]
    }
   ],
   "source": [
    "import os\n",
    "import pkg_resources\n",
    "import numpy as np\n",
    "import json\n",
    "\n",
    "from convokit import Corpus, QuestionTypology, download, MotifsExtractor, QuestionTypologyUtils\n",
    "\n",
    "import itertools\n",
    "import os\n",
    "import matplotlib.pyplot as plt\n",
    "import numpy as np\n",
    "import pandas as pd\n",
    "import spacy\n",
    "\n",
    "from ast import literal_eval as make_tuple\n",
    "from collections import defaultdict\n",
    "from scipy import sparse\n",
    "from sklearn.externals import joblib\n",
    "from sklearn.cluster import KMeans\n",
    "from sklearn.metrics.pairwise import pairwise_distances\n",
    "from sklearn.preprocessing import Normalizer\n",
    "from spacy.en import English\n",
    "from spacy.symbols import *\n",
    "from spacy.tokens.doc import Doc\n"
   ]
  },
  {
   "cell_type": "code",
   "execution_count": 2,
   "metadata": {
    "collapsed": true
   },
   "outputs": [],
   "source": [
    "#Initialize QuestionTypology class pretrained on Parliament Dataset\n",
    "\n",
    "num_clusters = 8\n",
    "\n",
    "data_dir = download('parliament-corpus')\n",
    "motifs_dir = download('parliament-motifs')\n",
    "\n",
    "corpus = Corpus(filename=os.path.join(data_dir, 'parliament-corpus'))\n",
    "\n",
    "questionTypology = QuestionTypology(corpus, data_dir, dataset_name='parliament', motifs_dir=motifs_dir, num_dims=25,\n",
    "  num_clusters=num_clusters, verbose=False, random_seed=164)\n",
    "\n"
   ]
  },
  {
   "cell_type": "code",
   "execution_count": 3,
   "metadata": {},
   "outputs": [
    {
     "name": "stdout",
     "output_type": "stream",
     "text": [
      "Question:  Does my right hon Friend agree that excellent regional universities—for example , the University of Northumbria at Newcastle and Sunderland—are anxious that they will be at a disadvantage if an élite group of universities , mainly in the south - east of England , are allowed to raise their fees to figures upwards of £ 10,000 a year , as today 's newspapers reported the Minister for Lifelong Learning and Higher Education as saying ?\n",
      "Cluster:  [3]\n"
     ]
    }
   ],
   "source": [
    "#Determine type of input question\n",
    "\n",
    "example_question = \"Does my right hon Friend agree that excellent regional universities—for example , the University of Northumbria at Newcastle and Sunderland—are anxious that they will be at a disadvantage if an élite group of universities , mainly in the south - east of England , are allowed to raise their fees to figures upwards of £ 10,000 a year , as today 's newspapers reported the Minister for Lifelong Learning and Higher Education as saying ?\"\n",
    "# example_question = \"What is the minister going to do about?\"\n",
    "question_matrix, mtx, label = questionTypology.classify_question(example_question)\n",
    "print('Question: ', example_question)\n",
    "print('Cluster: ', label)\n"
   ]
  }
 ],
 "metadata": {
  "kernelspec": {
   "display_name": "py3-question-typology",
   "language": "python",
   "name": "py3-question-typology"
  },
  "language_info": {
   "codemirror_mode": {
    "name": "ipython",
    "version": 3
   },
   "file_extension": ".py",
   "mimetype": "text/x-python",
   "name": "python",
   "nbconvert_exporter": "python",
   "pygments_lexer": "ipython3",
   "version": "3.6.2"
  }
 },
 "nbformat": 4,
 "nbformat_minor": 2
}
