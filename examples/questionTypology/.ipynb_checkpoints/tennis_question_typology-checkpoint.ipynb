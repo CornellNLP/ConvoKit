{
 "cells": [
  {
   "cell_type": "markdown",
   "metadata": {
    "collapsed": true
   },
   "source": [
    "The paper that developed these methods can be found here: (http://www.cs.cornell.edu/~cristian/Asking_too_much.html).\n",
    "The plots answer these questions:\n",
    "\n",
    "This example extracts question types from the Tennis Interviews dataset (released with the Tie-breaker paper http://www.cs.cornell.edu/~liye/tennis.html).\n",
    "\n",
    "This version uses precomputed motifs for speed."
   ]
  },
  {
   "cell_type": "code",
   "execution_count": null,
   "metadata": {
    "collapsed": true
   },
   "outputs": [],
   "source": [
    "import os\n",
    "import pkg_resources\n",
    "\n",
    "from convokit import Corpus, QuestionTypology, download"
   ]
  },
  {
   "cell_type": "markdown",
   "metadata": {},
   "source": [
    "Initializing QuestionTypology Class"
   ]
  },
  {
   "cell_type": "code",
   "execution_count": null,
   "metadata": {},
   "outputs": [],
   "source": [
    "num_clusters = 8\n",
    "# Get precomputed motifs. data_dir contains the downloaded data. \n",
    "\n",
    "data_dir = os.path.join(pkg_resources.resource_filename(\"convokit\", \"\"), 'downloads', 'tennis')\n",
    "\n",
    "#Load the corpus and filter out all non-winning tennis players. So the only question-answer pairs in this model\n",
    "#are from reporters to winners\n",
    "corpus = Corpus(filename=os.path.join(data_dir, 'tennis-corpus'))\n",
    "corpus.filter_utterances_by(other_kv_pairs={'result':1})\n",
    "\n",
    "#Extract clusters of the motifs and assign questions to these clusters\n",
    "questionTypology = QuestionTypology(corpus, data_dir, dataset_name=\"tennis\", num_dims=25, \n",
    "                                    num_clusters=num_clusters, verbose=False, random_seed=125)"
   ]
  },
  {
   "cell_type": "markdown",
   "metadata": {},
   "source": [
    "`questionTypology.types_to_data` contains the necessary data that is computed in the step above. Its keys are the indices of the clusters (here 0-7). The values are dictionaries with the following keys:<br>\n",
    "    <br>`\"motifs\"`: the motifs, as a list of tuples of the motif terms\n",
    "    <br>`\"motif_dists\"`: the corresponding distances of each motif from the centroid of the cluster this motif is in\n",
    "    <br>`\"fragments\"`: the answer fragments, as a list of tuples of answer terms\n",
    "    <br>`\"fragment_dists\"`: the corresponding distances of each fragment from the centroid of the cluster this \n",
    "fragment is in\n",
    "    <br>`\"questions\"`: the IDs of the questions in this cluster. You can get the corresponding question text by using the\n",
    "get_question_text_from_pair_idx(pair_idx) method.\n",
    "    <br>`\"question_dists\"`: the corresponding distances of each question from the centroid of the cluster \n",
    "this question is in"
   ]
  },
  {
   "cell_type": "code",
   "execution_count": null,
   "metadata": {
    "collapsed": true
   },
   "outputs": [],
   "source": [
    "Display Outputs"
   ]
  },
  {
   "cell_type": "code",
   "execution_count": null,
   "metadata": {
    "collapsed": true
   },
   "outputs": [],
   "source": [
    "questionTypology.display_totals()\n",
    "print('10 examples for type 1-8:')\n",
    "for i in range(num_clusters):\n",
    "    questionTypology.display_motifs_for_type(i, num_egs=10)\n",
    "    questionTypology.display_answer_fragments_for_type(i, num_egs=10)\n",
    "    questionTypology.display_questions_for_type(i, num_egs=10)\n"
   ]
  },
  {
   "cell_type": "code",
   "execution_count": null,
   "metadata": {
    "collapsed": true
   },
   "outputs": [],
   "source": []
  }
 ],
 "metadata": {
  "kernelspec": {
   "display_name": "Python 3",
   "language": "python",
   "name": "python3"
  },
  "language_info": {
   "codemirror_mode": {
    "name": "ipython",
    "version": 3
   },
   "file_extension": ".py",
   "mimetype": "text/x-python",
   "name": "python",
   "nbconvert_exporter": "python",
   "pygments_lexer": "ipython3",
   "version": "3.6.1"
  }
 },
 "nbformat": 4,
 "nbformat_minor": 2
}
