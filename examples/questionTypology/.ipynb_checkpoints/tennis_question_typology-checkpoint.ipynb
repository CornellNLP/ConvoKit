{
 "cells": [
  {
   "cell_type": "code",
   "execution_count": 1,
   "metadata": {
    "collapsed": true
   },
   "outputs": [],
   "source": [
    "import os\n",
    "import pkg_resources\n",
    "\n",
    "from convokit import Corpus, QuestionTypology, download"
   ]
  },
  {
   "cell_type": "code",
   "execution_count": null,
   "metadata": {
    "collapsed": true
   },
   "outputs": [],
   "source": [
    "# =================== DEBUG VERSION WITH 1/10 OF DATA =======================\n",
    "num_clusters = 8\n",
    "DEBUG_DIR = '/Users/ishaanjhaveri/Google_Drive/git/Cornell-Conversational-Analysis-Toolkit/datasets/tennis-corpus/downloads/tennis'\n",
    "data_dir = DEBUG_DIR\n",
    "\n",
    "#Initialize QuestionTypology class\n",
    "\n",
    "corpus = Corpus(filename=os.path.join(data_dir, 'full.json'))\n",
    "corpus.filter_utterances_by(other_kv_pairs={'result':1})\n",
    "questionTypology = QuestionTypology(corpus, data_dir, dataset_name=\"tennis\", num_dims=5, \n",
    "                                    num_clusters=num_clusters, verbose=False)\n"
   ]
  }
 ],
 "metadata": {
  "kernelspec": {
   "display_name": "Python 3",
   "language": "python",
   "name": "python3"
  },
  "language_info": {
   "codemirror_mode": {
    "name": "ipython",
    "version": 3
   },
   "file_extension": ".py",
   "mimetype": "text/x-python",
   "name": "python",
   "nbconvert_exporter": "python",
   "pygments_lexer": "ipython3",
   "version": "3.6.1"
  }
 },
 "nbformat": 4,
 "nbformat_minor": 2
}
