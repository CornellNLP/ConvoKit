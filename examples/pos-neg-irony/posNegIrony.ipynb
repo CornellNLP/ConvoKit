{
 "cells": [
  {
   "cell_type": "code",
   "execution_count": 2,
   "metadata": {},
   "outputs": [
    {
     "ename": "ImportError",
     "evalue": "cannot import name 'PosNegIronyTransformer' from 'convokit' (/Users/danielbotros/cs4300-env/lib/python3.7/site-packages/convokit/__init__.py)",
     "output_type": "error",
     "traceback": [
      "\u001b[0;31m---------------------------------------------------------------------------\u001b[0m",
      "\u001b[0;31mImportError\u001b[0m                               Traceback (most recent call last)",
      "\u001b[0;32m<ipython-input-2-ee3a3e73c3b4>\u001b[0m in \u001b[0;36m<module>\u001b[0;34m()\u001b[0m\n\u001b[1;32m      1\u001b[0m \u001b[0;31m# Imports\u001b[0m\u001b[0;34m\u001b[0m\u001b[0;34m\u001b[0m\u001b[0;34m\u001b[0m\u001b[0m\n\u001b[0;32m----> 2\u001b[0;31m \u001b[0;32mfrom\u001b[0m \u001b[0mconvokit\u001b[0m \u001b[0;32mimport\u001b[0m \u001b[0mCorpus\u001b[0m\u001b[0;34m,\u001b[0m \u001b[0mdownload\u001b[0m\u001b[0;34m,\u001b[0m \u001b[0mPosNegIronyTransformer\u001b[0m\u001b[0;34m\u001b[0m\u001b[0;34m\u001b[0m\u001b[0m\n\u001b[0m\u001b[1;32m      3\u001b[0m \u001b[0;32mimport\u001b[0m \u001b[0mmath\u001b[0m\u001b[0;34m\u001b[0m\u001b[0;34m\u001b[0m\u001b[0m\n\u001b[1;32m      4\u001b[0m \u001b[0;32mimport\u001b[0m \u001b[0mmatplotlib\u001b[0m\u001b[0;34m.\u001b[0m\u001b[0mpyplot\u001b[0m \u001b[0;32mas\u001b[0m \u001b[0mplt\u001b[0m\u001b[0;34m\u001b[0m\u001b[0;34m\u001b[0m\u001b[0m\n",
      "\u001b[0;31mImportError\u001b[0m: cannot import name 'PosNegIronyTransformer' from 'convokit' (/Users/danielbotros/cs4300-env/lib/python3.7/site-packages/convokit/__init__.py)"
     ]
    }
   ],
   "source": [
    "# Imports\n",
    "from convokit import Corpus, download, PosNegIronyTransformer\n",
    "import math\n",
    "import matplotlib.pyplot as plt"
   ]
  },
  {
   "cell_type": "markdown",
   "metadata": {},
   "source": [
    "# Comparing Positive Irony In r/Ohio and r/Cleveland, PosNegIronyTransformer Example\n"
   ]
  },
  {
   "cell_type": "code",
   "execution_count": null,
   "metadata": {},
   "outputs": [],
   "source": [
    "# Download Corpus', print summary statistics\n",
    "cleveland = Corpus(filename=download(\"subreddit-Cleveland\"))\n",
    "ohio = Corpus(filename=download(\"subreddit-Ohio\"))\n",
    "\n",
    "cleveland.print_summary_stats()\n",
    "ohio.print_summary_stats()"
   ]
  },
  {
   "cell_type": "markdown",
   "metadata": {},
   "source": [
    "# See the number of ironic comments in each subreddit"
   ]
  },
  {
   "cell_type": "code",
   "execution_count": null,
   "metadata": {},
   "outputs": [],
   "source": [
    "\n",
    "ohio_cnt = []\n",
    "cleveland_cnt = []\n",
    "\n",
    "for utt in ohio.iter_utterances():\n",
    "  if \" /s \" or \"\\n/s\" in utt.text:\n",
    "    ohio_cnt.append(1)\n",
    "\n",
    "for utt in cleveland.iter_utterances():\n",
    "  if \" /s \" or \"\\n/s\" in utt.text:\n",
    "    cleveland_cnt.append(1)\n",
    "\n",
    "cleveland_cnt = sum(cleveland_cnt)\n",
    "ohio_cnt = sum(ohio_cnt)\n",
    "\n",
    "print(cleveland_cnt)\n",
    "\n",
    "labels = ['r/Ohio', 'r/Cleveland']\n",
    "\n",
    "plt.bar(labels, [80, 87])\n",
    "plt.xlabel('Subreddit')\n",
    "plt.ylabel('Irony Counts')\n",
    "plt.title('Number of Ironic Comments in each Subreddit')\n",
    "plt.show()"
   ]
  },
  {
   "cell_type": "markdown",
   "metadata": {},
   "source": [
    "# Fit and transform both Corpus'"
   ]
  },
  {
   "cell_type": "code",
   "execution_count": null,
   "metadata": {},
   "outputs": [],
   "source": [
    "transformer = PosNegIronyTransformer(obj_type='utterance')\n",
    "transformer.fit(cleveland)\n",
    "transformer.transform(cleveland)\n",
    "transformer.fit(ohio)\n",
    "transformer.transform(ohio)"
   ]
  },
  {
   "cell_type": "markdown",
   "metadata": {},
   "source": [
    "# Gather statistics about the average thread upvote score of positive ironic comments between r/Ohio and r/Cleveland"
   ]
  },
  {
   "cell_type": "code",
   "execution_count": null,
   "metadata": {},
   "outputs": [],
   "source": [
    "avg_ohio_score = 0\n",
    "pos_irony_ohio_score = 0\n",
    "\n",
    "avg_cleveland_score = 0\n",
    "pos_irony_cleveland_score = 0\n",
    "\n",
    "cleveland_size = 136087\n",
    "ohio_size = 372075\n",
    "\n",
    "\n",
    "\n",
    "\n",
    "avg_cleveland_length = 0\n",
    "for convo in cleveland.iter_conversations():\n",
    "  for utt in convo.iter_utterances():\n",
    "    avg_cleveland_length += 1\n",
    "    avg_cleveland_score += utt.meta[\"score\"]\n",
    "\n",
    "avg_cleveland_score = (avg_cleveland_score / avg_cleveland_length) / math.log(cleveland_size)\n",
    "\n",
    "pos_irony_cleveland_length = 0\n",
    "for convo in cleveland.iter_conversations():\n",
    "  for utt in convo.iter_utterances():\n",
    "    if \" /s \" in utt.text or \"\\n/s\" in utt.text:\n",
    "      if utt.meta[\"agree_score\"] > 0: # Positive irony\n",
    "        convo = utt.get_conversation()\n",
    "        replies = list(convo.get_subtree(utt.id).bfs_traversal())\n",
    "        for reply in replies:\n",
    "          if reply.utt.id != utt.id:\n",
    "            pos_irony_cleveland_length += 1\n",
    "            pos_irony_cleveland_score += utt.meta[\"score\"]\n",
    "\n",
    "pos_irony_cleveland_score = (pos_irony_cleveland_score/pos_irony_cleveland_length)/ math.log(cleveland_size) ## Normalize for community size\n",
    "pos_irony_cleveland_score_adj = pos_irony_cleveland_score - avg_cleveland_score\n",
    "print(\"Number of comments for all ironic threads\" + str(pos_irony_cleveland_length))\n",
    "\n",
    "\n",
    "\n",
    "avg_ohio_length = 0\n",
    "for convo in ohio.iter_conversations():\n",
    "  for utt in convo.iter_utterances():\n",
    "    avg_ohio_length += 1\n",
    "    avg_ohio_score += utt.meta[\"score\"]\n",
    "\n",
    "avg_ohio_score = (avg_ohio_score / avg_ohio_length) / math.log(ohio_size)\n",
    "\n",
    "pos_irony_ohio_length = 0\n",
    "for convo in ohio.iter_conversations():\n",
    "  for utt in convo.iter_utterances():\n",
    "    if \" /s \" in utt.text or \"\\n/s\" in utt.text:\n",
    "      if utt.meta[\"agree_score\"] > 0: # Positive irony\n",
    "        convo = utt.get_conversation()\n",
    "        replies = list(convo.get_subtree(utt.id).bfs_traversal())\n",
    "        for reply in replies:\n",
    "          if reply.utt.id != utt.id:\n",
    "            pos_irony_ohio_length += 1\n",
    "            pos_irony_ohio_score += utt.meta[\"score\"]\n",
    "\n",
    "pos_irony_ohio_score = (pos_irony_ohio_score/pos_irony_ohio_length)/ math.log(ohio_size) ## Normalize for community size\n",
    "pos_irony_ohio_score_adj = pos_irony_ohio_score - avg_ohio_score\n",
    "print(\"Number of comments for all ironic threads\" + str(pos_irony_ohio_length))"
   ]
  },
  {
   "cell_type": "code",
   "execution_count": null,
   "metadata": {},
   "outputs": [],
   "source": [
    "print(pos_irony_cleveland_score)\n",
    "print(pos_irony_cleveland_score_adj)\n",
    "print()\n",
    "print(pos_irony_ohio_score)\n",
    "print(pos_irony_ohio_score_adj)"
   ]
  },
  {
   "cell_type": "markdown",
   "metadata": {},
   "source": [
    "# Compare the average score of positive ironic comments in each subreddit"
   ]
  },
  {
   "cell_type": "code",
   "execution_count": null,
   "metadata": {},
   "outputs": [],
   "source": [
    "\n",
    "community = ['r/Ohio', 'r/Cleveland']\n",
    "values = [pos_irony_ohio_score,pos_irony_cleveland_score]\n",
    "colors = ['blue', 'orange']\n",
    "# Create a bar plot\n",
    "plt.bar(community, values, color=colors)\n",
    "\n",
    "# Add labels and title\n",
    "plt.xlabel('Community')\n",
    "plt.ylabel('Average comment score of positive ironic comments')\n",
    "\n",
    "threshold1 = avg_ohio_score\n",
    "threshold2 = avg_cleveland_score\n",
    "plt.axhline(y=threshold1, color='blue', linestyle='--')\n",
    "plt.axhline(y=threshold2, color='orange', linestyle='--')\n",
    "\n",
    "# Show the plot\n",
    "plt.show()"
   ]
  },
  {
   "cell_type": "markdown",
   "metadata": {},
   "source": [
    "# Compare the average score of positive ironic comments in each subreddit, adjusted for the community mean"
   ]
  },
  {
   "cell_type": "code",
   "execution_count": null,
   "metadata": {},
   "outputs": [],
   "source": [
    "\n",
    "community = ['r/Ohio', 'r/Cleveland']\n",
    "values = [pos_irony_ohio_score_adj,pos_irony_cleveland_score_adj]\n",
    "colors = ['blue', 'orange']\n",
    "# Create a bar plot\n",
    "plt.bar(community, values, color=colors)\n",
    "\n",
    "# Add labels and title\n",
    "plt.xlabel('Community')\n",
    "plt.ylabel('Difference from community mean of positive irony')\n",
    "\n",
    "# Show the plot\n",
    "plt.show()"
   ]
  },
  {
   "cell_type": "markdown",
   "metadata": {},
   "source": [
    "# Examine distribution of positive, negative, and neutral / unlabelled irony in both subreddits"
   ]
  },
  {
   "cell_type": "code",
   "execution_count": null,
   "metadata": {},
   "outputs": [],
   "source": [
    "pos = 0\n",
    "neg = 0\n",
    "neu = 0\n",
    "\n",
    "for utt in cleveland.iter_utterances():\n",
    "  if \" /s \" in utt.text or \"\\n/s\" in utt.text:\n",
    "    if utt.meta[\"agree_score\"] < 0:\n",
    "      neg += 1\n",
    "    elif utt.meta[\"agree_score\"] > 0:\n",
    "      pos += 1\n",
    "    else:\n",
    "      neu += 1\n",
    "\n",
    "for utt in ohio.iter_utterances():\n",
    "  if \" /s \" in utt.text or \"\\n/s\" in utt.text:\n",
    "    if utt.meta[\"agree_score\"] < 0:\n",
    "      neg += 1\n",
    "    elif utt.meta[\"agree_score\"] > 0:\n",
    "      pos += 1\n",
    "    else:\n",
    "      neu += 1\n",
    "\n",
    "labels = ['Neg', 'Neu', 'Pos']\n",
    "plt.bar(labels, [neg, neu, pos])\n",
    "plt.xlabel('Irony type')\n",
    "plt.ylabel('Count')\n",
    "plt.show()"
   ]
  }
 ],
 "metadata": {
  "kernelspec": {
   "display_name": "cs4300-env",
   "language": "python",
   "name": "python3"
  },
  "language_info": {
   "codemirror_mode": {
    "name": "ipython",
    "version": 3
   },
   "file_extension": ".py",
   "mimetype": "text/x-python",
   "name": "python",
   "nbconvert_exporter": "python",
   "pygments_lexer": "ipython3",
   "version": "3.7.6"
  }
 },
 "nbformat": 4,
 "nbformat_minor": 2
}
