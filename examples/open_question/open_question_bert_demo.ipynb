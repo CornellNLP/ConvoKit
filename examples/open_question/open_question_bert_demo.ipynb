{
 "cells": [
  {
   "cell_type": "code",
   "execution_count": null,
   "metadata": {},
   "outputs": [],
   "source": [
    "# Importing neccesary packages\n",
    "import convokit\n",
    "from convokit import Corpus, OpennessScoreSimilarity\n",
    "from tqdm import tqdm\n",
    "import matplotlib.pyplot as plt\n",
    "import random\n",
    "from convokit import Corpus\n"
   ]
  },
  {
   "cell_type": "code",
   "execution_count": null,
   "metadata": {},
   "outputs": [],
   "source": [
    "#Load the CANDOR CORPUS\n",
    "data_dir = \"Directory\"\n",
    "corpus = Corpus(filename=data_dir)"
   ]
  },
  {
   "cell_type": "code",
   "execution_count": null,
   "metadata": {},
   "outputs": [],
   "source": [
    "#Sample 100 random conversations to compute\n",
    "random.seed(4350)\n",
    "random_convo = random.sample(corpus.get_conversation_ids(), 100)\n",
    "convo_ids = corpus.get_conversation_ids()\n",
    "for idx in tqdm(convo_ids):\n",
    "  convo = corpus.get_conversation(idx)\n",
    "  utts = convo.get_chronological_utterance_list()\n",
    "  for utt in utts:\n",
    "    utt.meta['sample'] = False\n",
    "\n",
    "for idx in tqdm(random_convo):\n",
    "  convo = corpus.get_conversation(idx)\n",
    "  utts = convo.get_chronological_utterance_list()\n",
    "  for utt in utts:\n",
    "    if utt.meta['questions'] > 0:\n",
    "      utt.meta['sample'] = True"
   ]
  },
  {
   "cell_type": "code",
   "execution_count": null,
   "metadata": {},
   "outputs": [],
   "source": [
    "#Run the transformer\n",
    "open_scorer = OpennessScoreSimilarity(input_filter = lambda utt: utt.meta['sample'])\n",
    "open_scorer.fit(corpus)\n",
    "corpus = open_scorer.transform(corpus)"
   ]
  },
  {
   "cell_type": "code",
   "execution_count": null,
   "metadata": {},
   "outputs": [],
   "source": [
    "#Print the most and least open questions\n",
    "scores = []\n",
    "questions = []\n",
    "for idx in random_convo:\n",
    "  convo = corpus.get_conversation(idx)\n",
    "  utts = convo.get_chronological_utterance_list()\n",
    "  for utt in utts:\n",
    "    if utt.meta['sample']:\n",
    "      scores.append(utt.meta['openness_score'])\n",
    "      questions.append(utt.text)\n",
    "\n",
    "print(\"######## The Most Open Questions ########\")\n",
    "arg_sort = np.argsort(scores)\n",
    "for i in range(5):\n",
    "  print(questions[arg_sort[i]])\n",
    "print(\"######## The Most Closed Questions ########\")\n",
    "for i in range(5):\n",
    "  print(questions[arg_sort[-i]])"
   ]
  }
 ],
 "metadata": {
  "kernelspec": {
   "display_name": "cs4300",
   "language": "python",
   "name": "python3"
  },
  "language_info": {
   "codemirror_mode": {
    "name": "ipython",
    "version": 3
   },
   "file_extension": ".py",
   "mimetype": "text/x-python",
   "name": "python",
   "nbconvert_exporter": "python",
   "pygments_lexer": "ipython3",
   "version": "3.7.6"
  }
 },
 "nbformat": 4,
 "nbformat_minor": 2
}
