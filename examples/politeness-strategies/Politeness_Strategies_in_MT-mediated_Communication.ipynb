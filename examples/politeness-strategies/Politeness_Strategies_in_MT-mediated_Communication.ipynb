{
 "cells": [
  {
   "cell_type": "markdown",
   "metadata": {},
   "source": [
    "# Politeness strategies in MT-mediated communication\n",
    "\n",
    "In this notebook, we demo how to extract politeness strategies using ConvoKit's `PolitenessStrategies` module both in English and in Chinese. We will make use of this functionality to assess the degree to which politeness strategies are preserved in machine-translated texts.\n",
    "\n",
    "The politeness strategies considered are adapted from operationalizations in the following papers:\n",
    "\n",
    "- English: [A computational approach to politeness with application to social factors](https://www.cs.cornell.edu/~cristian/Politeness.html), [The politeness Package: Detecting Politeness in Natural Language](https://journal.r-project.org/archive/2018/RJ-2018-079/RJ-2018-079.pdf)\n",
    "\n",
    "- Chinese: [Studying Politeness across Cultures using English Twitter and Mandarin Weibo](https://dl.acm.org/doi/abs/10.1145/3415190)\n",
    "\n"
   ]
  },
  {
   "cell_type": "code",
   "execution_count": 4,
   "metadata": {},
   "outputs": [],
   "source": [
    "import os\n",
    "from collections import defaultdict, Counter\n",
    "from tqdm import tqdm\n",
    "import pandas as pd\n",
    "import numpy as np\n",
    "import spacy\n",
    "\n",
    "from convokit import Corpus, Speaker, Utterance, download\n",
    "from convokit import TextParser, PolitenessStrategies\n",
    "\n",
    "import seaborn as sns\n",
    "from matplotlib import pyplot as plt\n",
    "%matplotlib inline\n",
    "\n",
    "# TODO: decide on whether to keep this\n",
    "# from convokit import TextTranslator"
   ]
  },
  {
   "cell_type": "markdown",
   "metadata": {},
   "source": [
    "## 1. Preparing diagnostic test sets \n",
    "\n",
    "We sample utterances from Wikipedia Talkpages discussions in both English and Chinese. In particular, we use the medium-sized `wiki-corpus` shipped by ConvoKit as the source for sampling English utterances (as shown below), and we sampled a subset of utterances from [WikiConv](https://www.cs.cornell.edu/~cristian/index_files/wikiconv-conversation-corpus.pdf) (Chinese) as shared in [figshare](https://figshare.com/articles/dataset/WikiConv_-_Chinese/7376012). \n",
    "\n",
    "The sampled corpora are saved in ConvoKit format as `wiki-en-sampled` and `wiki-zh-sampled`, which can be directly downloaded. We will use these corpora in Part 2 of this notebook to explore how we can assess the permeability of politeness signals in machine-translated communication."
   ]
  },
  {
   "cell_type": "markdown",
   "metadata": {},
   "source": [
    "### English data: `wiki-corpus`\n",
    "\n",
    "The medium-sized Wikipedia dataset is provided by ConvoKit as `wiki-corpus` ([documentation](https://convokit.cornell.edu/documentation/wiki.html)). Note that ConvoKit also offers a more complete collection of Wikipedia Talkpage discussions: [the Cornell Wikiconv Dataset](https://convokit.cornell.edu/documentation/wikiconv.html). We choose to use `wiki-corpus` as it is already sufficiently large for our purpose. \n",
    "\n",
    "To load the corpus, see options in the cell below. "
   ]
  },
  {
   "cell_type": "code",
   "execution_count": 1,
   "metadata": {},
   "outputs": [],
   "source": [
    "# OPTION 1: DOWNLOAD CORPUS \n",
    "# UNCOMMENT THESE LINES TO DOWNLOAD CORPUS\n",
    "# DATA_DIR = '<YOUR DIRECTORY>'\n",
    "# WIKI_ROOT_DIR = download('wiki-corpus', data_dir=DATA_DIR)\n",
    "\n",
    "# OPTION 2: READ PREVIOUSLY-DOWNLOADED CORPUS FROM DISK\n",
    "# UNCOMMENT THIS LINE AND REPLACE WITH THE DIRECTORY WHERE THE WIKI-CORPUS IS LOCATED\n",
    "# WIKI_ROOT_DIR = '<YOUR DIRECTORY>'\n",
    "\n",
    "corpus = Corpus(filename=WIKI_ROOT_DIR)\n",
    "\n",
    "# load parses\n",
    "corpus.load_info('utterance',['parsed'])"
   ]
  },
  {
   "cell_type": "code",
   "execution_count": 5,
   "metadata": {},
   "outputs": [
    {
     "name": "stdout",
     "output_type": "stream",
     "text": [
      "Number of Speakers: 38462\n",
      "Number of Utterances: 391294\n",
      "Number of Conversations: 125292\n"
     ]
    }
   ],
   "source": [
    "# Overall stats of the dataset \n",
    "corpus.print_summary_stats()"
   ]
  },
  {
   "cell_type": "markdown",
   "metadata": {},
   "source": [
    "### Extracting strategies\n",
    "\n",
    "In the case when the corpus is not dependency parsed, it will need to go through an additional step of parsing, which can be achieved via `TextParser`. See [this demo](https://github.com/CornellNLP/Cornell-Conversational-Analysis-Toolkit/blob/master/examples/politeness-strategies/politeness_demo.ipynb) for an example. As the `wiki-corpus` ships with pre-computed dependency parses (which we already loaded as you may notice), we can go straight to politeness strategy extraction. \n",
    "\n",
    "Here, we will focus on a set of local strategies, and hence specify that we will want to extract with strategy collection \"_politeness_local_\". For other available options, refer to the [documentation](https://convokit.cornell.edu/documentation/politenessStrategies.html) for details."
   ]
  },
  {
   "cell_type": "code",
   "execution_count": 5,
   "metadata": {},
   "outputs": [],
   "source": [
    "ps_local = PolitenessStrategies(strategy_collection=\"politeness_local\", verbose=100000)\n",
    "\n",
    "# By default, strategy extraction results are saved under \"politeness_strategies\". \n",
    "corpus = ps_local.transform(corpus, markers=True)"
   ]
  },
  {
   "cell_type": "markdown",
   "metadata": {},
   "source": [
    "### Strategy prevalance \n",
    "\n",
    "We can first take a glimpse over utterance-level strategy prevalence, i.e., proportion of utterances using each politeness strategy. This can be easily done using `summarize()`. "
   ]
  },
  {
   "cell_type": "code",
   "execution_count": 6,
   "metadata": {},
   "outputs": [],
   "source": [
    "df_prevalence = ps_local.summarize(corpus)"
   ]
  },
  {
   "cell_type": "markdown",
   "metadata": {},
   "source": [
    "### Sampling \n",
    "\n",
    "To assess permeability of these strategies, we sample 1000 instances for each strategy. The results will be saved to a smaller `wiki-en-sampled` corpus, which may be directly downloaded via ConvoKit. "
   ]
  },
  {
   "cell_type": "code",
   "execution_count": 19,
   "metadata": {},
   "outputs": [],
   "source": [
    "# utterance-level strategy uses\n",
    "df_feat = pd.DataFrame.from_dict({utt.id: utt.meta['politeness_strategies'] for utt in corpus.iter_utterances()}, \\\n",
    "                                 orient='index')"
   ]
  },
  {
   "cell_type": "code",
   "execution_count": 51,
   "metadata": {},
   "outputs": [],
   "source": [
    "# sampling from least common to most\n",
    "sorted_strategies = df_prevalence.sort_values().index\n",
    "sampled_ids, samples = set(), []\n",
    "\n",
    "for k in sorted_strategies:\n",
    "    df_sample = df_feat[(~df_feat.index.isin(sampled_ids)) & (df_feat[k]==1)].sample(1000, random_state=42)\n",
    "    df_sample['strategy'] = k\n",
    "    samples.append(df_sample[['strategy']])\n",
    "    sampled_ids.update(df_sample.index)\n",
    "    \n",
    "df_en_sample = pd.concat(samples)"
   ]
  },
  {
   "cell_type": "code",
   "execution_count": 114,
   "metadata": {},
   "outputs": [],
   "source": [
    "# saving as a convokit corpus\n",
    "for i, info in df_en_sample.itertuples():\n",
    "    utt = corpus.get_utterance(i)\n",
    "    utt.add_meta('selected', True)\n",
    "    utt.add_meta('strategy', info)\n",
    "\n",
    "# filter only selected utterances\n",
    "wiki_en_sampled = corpus.filter_utterances_by(lambda utt:'selected' in utt.meta and utt.meta['selected'])"
   ]
  },
  {
   "cell_type": "markdown",
   "metadata": {},
   "source": [
    "### Translating \n",
    "\n",
    "To determine the degree to which politeness markers are perserved in translation, we will make comparisons between original and translated texts. To set it up, we two rounds of translations, forming a English -> Chinese -> English loop, i.e., we first translate the English texts into Chinese, and then translate the Chinese translations back into English. \n",
    "\n",
    "We use [EasyNMT](https://github.com/UKPLab/EasyNMT) to perform translations between English and Chinese, using model [Opus-MT](https://github.com/Helsinki-NLP/Opus-MT) from [Helsinki-NLP](https://blogs.helsinki.fi/language-technology/). "
   ]
  },
  {
   "cell_type": "code",
   "execution_count": 68,
   "metadata": {},
   "outputs": [],
   "source": [
    "from easynmt import EasyNMT"
   ]
  },
  {
   "cell_type": "code",
   "execution_count": 69,
   "metadata": {},
   "outputs": [],
   "source": [
    "# texts to be translated\n",
    "df_utts = wiki_en_sampled.get_utterances_dataframe(exclude_meta=True)\n",
    "\n",
    "# translation model\n",
    "model = EasyNMT('opus-mt', cache_folder=\"/belafonte_sauna/liye_translations/easynmt/\")"
   ]
  },
  {
   "cell_type": "code",
   "execution_count": 77,
   "metadata": {},
   "outputs": [
    {
     "name": "stderr",
     "output_type": "stream",
     "text": [
      "100%|██████████| 18000/18000.0 [2:21:25<00:00,  2.12it/s]\n"
     ]
    }
   ],
   "source": [
    "df_utts['en-zh'] = model.translate(list(df_utts['text']), \\\n",
    "                                   target_lang='zh', \\\n",
    "                                   source_lang='en', \\\n",
    "                                   show_progress_bar=True,\n",
    "                                   batch_size=8, \\\n",
    "                                   perform_sentence_splitting=False)"
   ]
  },
  {
   "cell_type": "code",
   "execution_count": 78,
   "metadata": {},
   "outputs": [
    {
     "name": "stderr",
     "output_type": "stream",
     "text": [
      "100%|██████████| 18000/18000.0 [1:08:56<00:00,  4.35it/s]\n"
     ]
    }
   ],
   "source": [
    "df_utts['en-back'] = model.translate(list(df_utts['en-zh']), \\\n",
    "                                   target_lang='en', \\\n",
    "                                   source_lang='zh', \\\n",
    "                                   show_progress_bar=True,\n",
    "                                   batch_size=8, \\\n",
    "                                   perform_sentence_splitting=False)"
   ]
  },
  {
   "cell_type": "markdown",
   "metadata": {},
   "source": [
    "We add these translated texts as meta data to our sampled corpus, and parse them to prepare for later strategy extraction."
   ]
  },
  {
   "cell_type": "code",
   "execution_count": 160,
   "metadata": {},
   "outputs": [],
   "source": [
    "from convokit.text_processing.textParser import TextParser"
   ]
  },
  {
   "cell_type": "code",
   "execution_count": 116,
   "metadata": {},
   "outputs": [],
   "source": [
    "for row in df_utts[['text', 'en-zh', 'en-back']].itertuples():\n",
    "    idx, trans, backtrans = row[0], row[2], row[3]\n",
    "    utt = wiki_en_sampled.get_utterance(idx)\n",
    "    utt.add_meta('en-zh', trans)\n",
    "    utt.add_meta('en-back', backtrans)"
   ]
  },
  {
   "cell_type": "code",
   "execution_count": 118,
   "metadata": {},
   "outputs": [],
   "source": [
    "# parser to parse back-translated English texts \n",
    "en_parser = TextParser(output_field='en_parsed', input_field='en-back', \\\n",
    "                       verbosity=5000)\n",
    "\n",
    "# parer to parse translated texts in Chinese\n",
    "spacy_zh = spacy.load('zh_core_web_sm', disable=['ner'])\n",
    "zh_parser = TextParser(output_field='zh_parsed', input_field='en-zh', \\\n",
    "                       spacy_nlp=spacy_zh, verbosity=5000)"
   ]
  },
  {
   "cell_type": "code",
   "execution_count": 119,
   "metadata": {},
   "outputs": [
    {
     "name": "stdout",
     "output_type": "stream",
     "text": [
      "5000/18000 utterances processed\n",
      "10000/18000 utterances processed\n",
      "15000/18000 utterances processed\n",
      "18000/18000 utterances processed\n",
      "5000/18000 utterances processed\n",
      "10000/18000 utterances processed\n",
      "15000/18000 utterances processed\n",
      "18000/18000 utterances processed\n"
     ]
    }
   ],
   "source": [
    "wiki_en_sampled = en_parser.transform(wiki_en_sampled)\n",
    "wiki_en_sampled = zh_parser.transform(wiki_en_sampled)"
   ]
  },
  {
   "cell_type": "code",
   "execution_count": 122,
   "metadata": {},
   "outputs": [],
   "source": [
    "# We can now save the parsed corpus using dump()\n",
    "# (One may want to specify where the copy should be saved to via base_path)\n",
    "\n",
    "wiki_en_sampled.dump('wiki-en-sampled')"
   ]
  },
  {
   "cell_type": "markdown",
   "metadata": {},
   "source": [
    "### Chinese data: [WikiConv](https://www.cs.cornell.edu/~cristian/index_files/wikiconv-conversation-corpus.pdf)"
   ]
  },
  {
   "cell_type": "markdown",
   "metadata": {},
   "source": [
    "For the Chinese data, we start utterances from [WikiConv](https://figshare.com/articles/dataset/WikiConv_-_Chinese/7376012) and similarly sampled 1000 instances for each strategy considered by the strategy collection \"_politeness-cscw-zh_\". The corpus is saved as `wiki-zh-sampled`, with all textual data (i.e., both the original utterance texts and the the corresponding translations) tokenized and parsed.  "
   ]
  },
  {
   "cell_type": "code",
   "execution_count": 3,
   "metadata": {},
   "outputs": [],
   "source": [
    "# TODO: prepare for download\n",
    "# wiki_zh_sampled = Corpus(download('wiki-zh-sampled'))"
   ]
  },
  {
   "cell_type": "code",
   "execution_count": 161,
   "metadata": {},
   "outputs": [
    {
     "data": {
      "text/plain": [
       "{'utterances-index': {'strategy': [\"<class 'str'>\"], 'zh-en': [\"<class 'str'>\"], 'zh-back': [\"<class 'str'>\"], 'en_parsed': [\"<class 'list'>\"], 'zh_parsed': [\"<class 'list'>\"]}, 'speakers-index': {}, 'conversations-index': {}, 'overall-index': {}, 'version': 2, 'vectors': []}"
      ]
     },
     "execution_count": 161,
     "metadata": {},
     "output_type": "execute_result"
    }
   ],
   "source": [
    "# Inspect the meta data avaible\n",
    "# 'zh-en' and 'zh-back' contains the translations and back translations for utterance texts respectively, and \n",
    "# `en_parsed` and `zh_parsed` contains the parses, which we will use for strategy extractions\n",
    "wiki_zh_sampled.meta_index"
   ]
  },
  {
   "cell_type": "code",
   "execution_count": null,
   "metadata": {},
   "outputs": [],
   "source": []
  },
  {
   "cell_type": "markdown",
   "metadata": {},
   "source": [
    "## 2. Computing permeability for politeness strategies "
   ]
  },
  {
   "cell_type": "markdown",
   "metadata": {},
   "source": [
    "With the two sampled datasets tokenized and parsed, we are now ready to the degree to which strategies are perserved vs. lost in different translation directions. \n",
    "\n",
    "We make two types of comparisons:\n",
    "\n",
    "* First, we consider a direct comparison between the original vs. translated texts. In particular, we check strategies used in utterances in English texts and Chinese texts with respective politeness strategy operationalizations to make comparisons. \n",
    "\n",
    "* Second, we consider comparing the original vs. the backtranslated texts using the same strategy operationalization and compare strategies detected.  "
   ]
  },
  {
   "cell_type": "markdown",
   "metadata": {},
   "source": [
    "### Extracting strategies \n",
    "\n",
    "As a first step, we extract strategies for all translations and back-translations. For texts in English, we will again use the strategy collection _politeness_local_ whereas for Chinese texts, we will be using the collection \"_politeness-cscw-zh_\". "
   ]
  },
  {
   "cell_type": "code",
   "execution_count": 4,
   "metadata": {},
   "outputs": [],
   "source": [
    "# politeness strategy extractor for Chinese texts\n",
    "ps_translated_zh = PolitenessStrategies(parse_attribute_name='zh_parsed', \\\n",
    "                                        strategy_attribute_name=\"translated_strategies\", \\\n",
    "                                        strategy_collection=\"politeness_cscw_zh\", \n",
    "                                        verbose=5000)\n",
    "\n",
    "# politeness strategy extractor for English texts\n",
    "ps_backtranslated_en = PolitenessStrategies(parse_attribute_name='en_parsed', \\\n",
    "                                            strategy_attribute_name=\"backtranslated_strategies\", \\\n",
    "                                            strategy_collection=\"politeness_local\",\n",
    "                                            verbose=5000)"
   ]
  },
  {
   "cell_type": "code",
   "execution_count": 59,
   "metadata": {},
   "outputs": [
    {
     "name": "stdout",
     "output_type": "stream",
     "text": [
      "10000/18000 utterances processed\n",
      "10000/18000 utterances processed\n"
     ]
    }
   ],
   "source": [
    "wiki_en_sampled = ps_translated_zh.transform(wiki_en_sampled)\n",
    "wiki_en_sampled = ps_backtranslated_en.transform(wiki_en_sampled)"
   ]
  },
  {
   "cell_type": "code",
   "execution_count": null,
   "metadata": {},
   "outputs": [],
   "source": []
  },
  {
   "cell_type": "code",
   "execution_count": null,
   "metadata": {},
   "outputs": [],
   "source": []
  },
  {
   "cell_type": "markdown",
   "metadata": {},
   "source": [
    "### Making comparisons"
   ]
  },
  {
   "cell_type": "markdown",
   "metadata": {},
   "source": [
    "We consider permeability of a politeness strategy _s_ as the percentage utterances in a given collection containing such markers for which the translated version also contains (potentially different) markers from the same set.\n",
    " \n",
    "As mentioned earlier, we estimate permeability both with translations and backtranslations. Note that each approach has its own limitations, and thus both of them are at best _proxies_ for strategy permeability and should be not read as the groundtruth values."
   ]
  },
  {
   "cell_type": "code",
   "execution_count": 25,
   "metadata": {},
   "outputs": [],
   "source": [
    "# Mapping between strategy names in different collections \n",
    "# Note that the collections are not exactly equivalent\n",
    "# (i.e., some strategies are only present in one collection but not the other)\n",
    "\n",
    "en2zh = {'Actually': 'factuality',\n",
    "         'Adverb.Just': None,\n",
    "         'Affirmation': 'praise',\n",
    "         'Apology': 'apologetic',\n",
    "         'By.The.Way': 'indirect_btw',\n",
    "         'Conj.Start': 'start_so',\n",
    "         'Filler': None,\n",
    "         'For.Me': None,\n",
    "         'For.You': None,\n",
    "         'Gratitude': 'gratitude',\n",
    "         'Greeting':'greeting',\n",
    "         'Hedges':'hedge',\n",
    "         'Indicative':'can_you',\n",
    "         'Please': 'please',\n",
    "         'Please.Start': 'start_please',\n",
    "         'Reassurance': None,\n",
    "         'Subjunctive': 'could_you',\n",
    "         'Swearing': 'taboo'\n",
    "       }\n",
    "\n",
    "zh2en = {v:k for k,v in en2zh.items() if v}"
   ]
  },
  {
   "cell_type": "code",
   "execution_count": 115,
   "metadata": {},
   "outputs": [],
   "source": [
    "# check utterance-level results for back-translated texts\n",
    "# TODO: for corpus in [wiki_en_sampled, wiki_zh_sampled]:\n",
    "for corpus in [wiki_en_sampled]:\n",
    "    for utt in corpus.iter_utterances():\n",
    "        strategy = utt.retrieve_meta('strategy')\n",
    "        extracted = utt.retrieve_meta('backtranslated_strategies')\n",
    "        # TODO: this may not be needed later\n",
    "        if extracted:\n",
    "            utt.add_meta('backtranslation_result', extracted[strategy])\n",
    "        else:\n",
    "            utt.add_meta('backtranslation_result', 0)"
   ]
  },
  {
   "cell_type": "code",
   "execution_count": null,
   "metadata": {},
   "outputs": [],
   "source": []
  },
  {
   "cell_type": "code",
   "execution_count": 127,
   "metadata": {},
   "outputs": [],
   "source": [
    "# comparing translated chinese texts with english original \n",
    "for utt in wiki_en_sampled.iter_utterances():\n",
    "    \n",
    "    strategy = en2zh[utt.retrieve_meta('strategy')]\n",
    "    extracted = utt.retrieve_meta('translated_strategies')\n",
    "    \n",
    "    if strategy:\n",
    "        if extracted and extracted[strategy]:\n",
    "            utt.add_meta('translation_result', 1)\n",
    "        else:\n",
    "            utt.add_meta('translation_result', 0)\n",
    "    else:\n",
    "        utt.add_meta('translation_result', -1)"
   ]
  },
  {
   "cell_type": "code",
   "execution_count": 30,
   "metadata": {},
   "outputs": [],
   "source": [
    "# comparing translated english texts with chinese original\n",
    "for utt in wiki_zh_sampled.iter_utterances():\n",
    "    en_eq = zh2en[utt.retrieve_meta('strategy')]\n",
    "    if en_eq and en_eq in utt.retrieve_meta('translated_strategies'):\n",
    "        utt.add_meta('translation_result', 1)\n",
    "    else:\n",
    "        utt.add_meta('translation_result', 0)"
   ]
  },
  {
   "cell_type": "markdown",
   "metadata": {},
   "source": []
  },
  {
   "cell_type": "markdown",
   "metadata": {},
   "source": [
    "We can then export these utterance-level results out into a pandas DataFrame for easy aggregation and plotting."
   ]
  },
  {
   "cell_type": "code",
   "execution_count": 137,
   "metadata": {},
   "outputs": [],
   "source": [
    "# Construct attribute data with relevant metadata \n",
    "# 'strategy' indicates the test set the utterance is in\n",
    "# '*_result' indicate whether the \"tested strategy\" is still present \n",
    "res_df_en = wiki_en_sampled.get_attribute_table(obj_type='utterance', \\\n",
    "                                                attrs=['strategy', \\\n",
    "                                                       'translation_result', \\\n",
    "                                                       'backtranslation_result'])\n",
    "res_df_en.columns = ['strategy', 'en->zh', 'en->zh-en']"
   ]
  },
  {
   "cell_type": "code",
   "execution_count": 138,
   "metadata": {},
   "outputs": [
    {
     "data": {
      "text/html": [
       "<div>\n",
       "<style scoped>\n",
       "    .dataframe tbody tr th:only-of-type {\n",
       "        vertical-align: middle;\n",
       "    }\n",
       "\n",
       "    .dataframe tbody tr th {\n",
       "        vertical-align: top;\n",
       "    }\n",
       "\n",
       "    .dataframe thead th {\n",
       "        text-align: right;\n",
       "    }\n",
       "</style>\n",
       "<table border=\"1\" class=\"dataframe\">\n",
       "  <thead>\n",
       "    <tr style=\"text-align: right;\">\n",
       "      <th></th>\n",
       "      <th>en-&gt;zh</th>\n",
       "      <th>en-&gt;zh-en</th>\n",
       "    </tr>\n",
       "    <tr>\n",
       "      <th>strategy</th>\n",
       "      <th></th>\n",
       "      <th></th>\n",
       "    </tr>\n",
       "  </thead>\n",
       "  <tbody>\n",
       "    <tr>\n",
       "      <th>Actually</th>\n",
       "      <td>0.055</td>\n",
       "      <td>0.531</td>\n",
       "    </tr>\n",
       "    <tr>\n",
       "      <th>Adverb.Just</th>\n",
       "      <td>-1.000</td>\n",
       "      <td>0.512</td>\n",
       "    </tr>\n",
       "    <tr>\n",
       "      <th>Affirmation</th>\n",
       "      <td>0.024</td>\n",
       "      <td>0.560</td>\n",
       "    </tr>\n",
       "    <tr>\n",
       "      <th>Apology</th>\n",
       "      <td>0.790</td>\n",
       "      <td>0.775</td>\n",
       "    </tr>\n",
       "    <tr>\n",
       "      <th>By.The.Way</th>\n",
       "      <td>0.003</td>\n",
       "      <td>0.711</td>\n",
       "    </tr>\n",
       "    <tr>\n",
       "      <th>Conj.Start</th>\n",
       "      <td>0.006</td>\n",
       "      <td>0.399</td>\n",
       "    </tr>\n",
       "    <tr>\n",
       "      <th>Filler</th>\n",
       "      <td>-1.000</td>\n",
       "      <td>0.189</td>\n",
       "    </tr>\n",
       "    <tr>\n",
       "      <th>For.Me</th>\n",
       "      <td>-1.000</td>\n",
       "      <td>0.344</td>\n",
       "    </tr>\n",
       "    <tr>\n",
       "      <th>For.You</th>\n",
       "      <td>-1.000</td>\n",
       "      <td>0.327</td>\n",
       "    </tr>\n",
       "    <tr>\n",
       "      <th>Gratitude</th>\n",
       "      <td>0.844</td>\n",
       "      <td>0.765</td>\n",
       "    </tr>\n",
       "    <tr>\n",
       "      <th>Greeting</th>\n",
       "      <td>0.463</td>\n",
       "      <td>0.670</td>\n",
       "    </tr>\n",
       "    <tr>\n",
       "      <th>Hedges</th>\n",
       "      <td>0.838</td>\n",
       "      <td>0.485</td>\n",
       "    </tr>\n",
       "    <tr>\n",
       "      <th>Indicative</th>\n",
       "      <td>0.043</td>\n",
       "      <td>0.508</td>\n",
       "    </tr>\n",
       "    <tr>\n",
       "      <th>Please</th>\n",
       "      <td>0.855</td>\n",
       "      <td>0.347</td>\n",
       "    </tr>\n",
       "    <tr>\n",
       "      <th>Please.Start</th>\n",
       "      <td>0.771</td>\n",
       "      <td>0.529</td>\n",
       "    </tr>\n",
       "    <tr>\n",
       "      <th>Reassurance</th>\n",
       "      <td>-1.000</td>\n",
       "      <td>0.465</td>\n",
       "    </tr>\n",
       "    <tr>\n",
       "      <th>Subjunctive</th>\n",
       "      <td>0.000</td>\n",
       "      <td>0.208</td>\n",
       "    </tr>\n",
       "    <tr>\n",
       "      <th>Swearing</th>\n",
       "      <td>0.180</td>\n",
       "      <td>0.267</td>\n",
       "    </tr>\n",
       "  </tbody>\n",
       "</table>\n",
       "</div>"
      ],
      "text/plain": [
       "              en->zh  en->zh-en\n",
       "strategy                       \n",
       "Actually       0.055      0.531\n",
       "Adverb.Just   -1.000      0.512\n",
       "Affirmation    0.024      0.560\n",
       "Apology        0.790      0.775\n",
       "By.The.Way     0.003      0.711\n",
       "Conj.Start     0.006      0.399\n",
       "Filler        -1.000      0.189\n",
       "For.Me        -1.000      0.344\n",
       "For.You       -1.000      0.327\n",
       "Gratitude      0.844      0.765\n",
       "Greeting       0.463      0.670\n",
       "Hedges         0.838      0.485\n",
       "Indicative     0.043      0.508\n",
       "Please         0.855      0.347\n",
       "Please.Start   0.771      0.529\n",
       "Reassurance   -1.000      0.465\n",
       "Subjunctive    0.000      0.208\n",
       "Swearing       0.180      0.267"
      ]
     },
     "execution_count": 138,
     "metadata": {},
     "output_type": "execute_result"
    }
   ],
   "source": [
    "# strategy-level permeability, -1 means the strategy is not applicable \n",
    "permeability_df_en = res_df_en.groupby('strategy').sum() / 1000\n",
    "permeability_df_en"
   ]
  },
  {
   "cell_type": "code",
   "execution_count": 139,
   "metadata": {},
   "outputs": [
    {
     "data": {
      "image/png": "[encoded data removed]",
      "text/plain": [
       "<Figure size 360x720 with 2 Axes>"
      ]
     },
     "metadata": {},
     "output_type": "display_data"
    }
   ],
   "source": [
    "plt.figure(figsize=(5, 10))\n",
    "sns.set(font_scale=1.2)\n",
    "\n",
    "# cells that are not applicable are masked in white\n",
    "with sns.axes_style(\"white\"):\n",
    "    sns.heatmap(permeability_df_en, annot=True, cmap=\"Greens\", fmt=\".1%\", mask=permeability_df_en==-1)"
   ]
  },
  {
   "cell_type": "code",
   "execution_count": null,
   "metadata": {},
   "outputs": [],
   "source": []
  },
  {
   "cell_type": "code",
   "execution_count": null,
   "metadata": {},
   "outputs": [],
   "source": []
  }
 ],
 "metadata": {
  "kernelspec": {
   "display_name": "Python 3",
   "language": "python",
   "name": "python3"
  },
  "language_info": {
   "codemirror_mode": {
    "name": "ipython",
    "version": 3
   },
   "file_extension": ".py",
   "mimetype": "text/x-python",
   "name": "python",
   "nbconvert_exporter": "python",
   "pygments_lexer": "ipython3",
   "version": "3.8.5"
  }
 },
 "nbformat": 4,
 "nbformat_minor": 4
}
