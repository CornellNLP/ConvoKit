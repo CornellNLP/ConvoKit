{
 "cells": [
  {
   "cell_type": "markdown",
   "id": "a76caad0-a440-43cf-bfcd-af0ad6d68042",
   "metadata": {},
   "source": [
    "# ConvoKit Forecaster framework: CRAFT demo\n",
    "\n",
    "The `Forecaster` class provides a generic interface to *conversational forecasting models*, a class of models designed to computationally capture the trajectory of conversations in order to predict future events. Though individual conversational forecasting models can get quite complex, the `Forecaster` API abstracts away the implementation details into a standard fit-transform interface. To demonstrate the power of this framework, this notebook walks through an example of fine-tuning the CRAFT conversational forecasting model (Chang and Danescu-Niculescu-Mizil, 2019) on the CGA-CMV corpus. You will see how the `Forecaster` API allows us to load the data, select training, validation, and testing samples, train the CRAFT model, and perform evaluation - replicating the original paper's full pipeline (minus pre-training, which is considered outside the scope of ConvoKit) all in only a few lines of code!\n",
    "\n",
    "Let's start by importing the necessary ConvoKit classes and functions, and loading the CGA-CMV corpus."
   ]
  },
  {
   "cell_type": "code",
   "execution_count": 1,
   "id": "326d6337-43c1-48c4-90de-d907b5fa32b6",
   "metadata": {},
   "outputs": [],
   "source": [
    "from convokit import download, Corpus, Forecaster, CRAFTModel\n",
    "from functools import partial"
   ]
  },
  {
   "cell_type": "code",
   "execution_count": 2,
   "id": "3c530c49-80d9-455d-a062-cb31a7514d85",
   "metadata": {},
   "outputs": [
    {
     "name": "stdout",
     "output_type": "stream",
     "text": [
      "Downloading conversations-gone-awry-cmv-corpus to /Users/seanzhangkx/.convokit/downloads/conversations-gone-awry-cmv-corpus\n",
      "Downloading conversations-gone-awry-cmv-corpus from http://zissou.infosci.cornell.edu/convokit/datasets/conversations-gone-awry-cmv-corpus/conversations-gone-awry-cmv-corpus.zip (51.5MB)... Done\n"
     ]
    }
   ],
   "source": [
    "corpus = Corpus(filename=download(\"conversations-gone-awry-cmv-corpus\"))"
   ]
  },
  {
   "cell_type": "markdown",
   "id": "a4d27b1a-3d1f-4039-b10f-21b6dd230c10",
   "metadata": {},
   "source": [
    "## Define selectors for the Forecaster\n",
    "\n",
    "Core to the flexibility of the `Forecaster` framework is the concept of *selectors*. \n",
    "\n",
    "To capture the temporal dimension of the conversational forecasting task, `Forecaster` iterates through conversations in chronological utterance order, at each step presenting to the backend forecasting model a \"context tuple\" containing both the comment itself and the full \"context\" preceding that comment. As a general framework, `Forecaster` on its own does not try to make any further assumptions about what \"context\" should contain or look like; it simply presents context as a chronologically ordered list of all utterances up to and including the current one. \n",
    "\n",
    "But in practice, we often want to be pickier about what we mean by \"context\". At a basic level, we might want to select only specific contexts during training versus during evaluation. The simplest version of this is the desire to split the conversations by training and testing splits, but more specifically, we might also want to select only certain contexts within a conversation. This is necessary for CRAFT training, which works by taking only the chronologically last context (i.e., all utterances up to and not including the toxic comment, or up to the end of the conversation) as a labeled training instance. This is where selectors come in! A selector is a user-provided function that takes in a context and returns a boolean representing whether or not that context should be used. You can provide separate selectors for `fit` and `transform`, and `fit` also takes in a second selector that you can use to define validation data.\n",
    "\n",
    "Here we show how to implement the necessary selectors for CRAFT."
   ]
  },
  {
   "cell_type": "code",
   "execution_count": 3,
   "id": "6bfdb2b9-757a-4a44-89dc-a6e3b6249ac8",
   "metadata": {},
   "outputs": [],
   "source": [
    "def generic_fit_selector(context_tuple, split):\n",
    "    \"\"\"\n",
    "    We use this generic function for both training and validation data.\n",
    "    In both cases, its job is to select only those contexts for which the\n",
    "    FUTURE context is empty. This is in accordance with how CRAFT was\n",
    "    originally trained on CGA-CMV, taking the last context from each\n",
    "    conversation (\"last\" defined as being up to and including the chronologically\n",
    "    last utterance as recorded in the corpus)\n",
    "    \"\"\"\n",
    "    matches_split = (context_tuple.current_utterance.get_conversation().meta[\"split\"] == split)\n",
    "    is_end = (len(context_tuple.future_context) == 0)\n",
    "    return (matches_split and is_end)\n",
    "\n",
    "def transform_selector(context_tuple):\n",
    "    \"\"\"\n",
    "    For transform we only need to check that the conversation is in the test split\n",
    "    \"\"\"\n",
    "    return (context_tuple.current_utterance.get_conversation().meta[\"split\"] == \"test\")"
   ]
  },
  {
   "cell_type": "markdown",
   "id": "9614aff5-843e-4b3b-b03f-6f57f8e76b8a",
   "metadata": {},
   "source": [
    "## Initialize the Forecaster and CRAFTModel backend\n",
    "\n",
    "Now the rest of the process is pretty straightforward! We simply need to:\n",
    "1. Initialize a backend `ForecasterModel` for the `Forecaster` to use, in this case we choose ConvoKit's implementation of CRAFT.\n",
    "2. Initialize a `Forecaster` instance to wrap that `ForecasterModel` in a generic fit-transform API"
   ]
  },
  {
   "cell_type": "code",
   "execution_count": 4,
   "id": "9ee62d7f",
   "metadata": {},
   "outputs": [],
   "source": [
    "# We define the constant DEVICE to specify whether we want to run in GPU mode or CPU mode. As CRAFT is a neural model, GPU mode\n",
    "# (activated with the value \"cuda\") is preferred. But if your machine lacks a GPU, you can change the value to \"cpu\" to enable\n",
    "# CPU mode (noting that it will be slower)\n",
    "DEVICE = \"cpu\""
   ]
  },
  {
   "cell_type": "code",
   "execution_count": 5,
   "id": "653febf7-ef59-4e8b-8ce2-39b4a33c3747",
   "metadata": {},
   "outputs": [
    {
     "name": "stdout",
     "output_type": "stream",
     "text": [
      "Downloading craft-cmv-pretrained to /Users/seanzhangkx/.convokit/saved-models/craft-cmv-pretrained\n",
      "Downloading craft-cmv-pretrained/craft_pretrained.tar from https://zissou.infosci.cornell.edu/convokit/models/craft_cmv/craft_pretrained.tar (974.6MB)... Done\n",
      "Downloading craft-cmv-pretrained/index2word.json from https://zissou.infosci.cornell.edu/convokit/models/craft_cmv/index2word.json (1.0MB)... Done\n",
      "Downloading craft-cmv-pretrained/word2index.json from https://zissou.infosci.cornell.edu/convokit/models/craft_cmv/word2index.json (928.0KB)... Done\n"
     ]
    }
   ],
   "source": [
    "craft = CRAFTModel(\"craft-cmv-pretrained\", torch_device=DEVICE)"
   ]
  },
  {
   "cell_type": "code",
   "execution_count": 6,
   "id": "c971ec31-964b-4df0-a7bb-d064ae62c5a3",
   "metadata": {},
   "outputs": [],
   "source": [
    "craft_forecaster = Forecaster(craft, \"has_removed_comment\")"
   ]
  },
  {
   "cell_type": "markdown",
   "id": "b840f526-dafd-4022-b5a1-90adecbd1591",
   "metadata": {},
   "source": [
    "## Fine-tune the model using Forecaster.fit\n",
    "\n",
    "And now, just like any other ConvoKit Transformer, model training is done simply by calling `fit` (note how we pass in the selectors we previously defined!)..."
   ]
  },
  {
   "cell_type": "code",
   "execution_count": 7,
   "id": "8590e7b3-f633-4844-baea-18bee961eebd",
   "metadata": {
    "scrolled": true
   },
   "outputs": [
    {
     "name": "stdout",
     "output_type": "stream",
     "text": [
      "Processed 4106 context tuples for model training\n",
      "Processed 1368 context tuples for model validation\n",
      "Loading saved parameters...\n",
      "Building encoders, decoder, and classifier...\n",
      "Models built and ready to go!\n",
      "Building optimizers...\n",
      "Starting Training!\n",
      "Will train for 1920 iterations\n",
      "Initializing ...\n",
      "Training...\n",
      "Iteration: 10; Percent complete: 0.5%; Average loss: 0.6942\n",
      "Iteration: 20; Percent complete: 1.0%; Average loss: 0.6936\n"
     ]
    },
    {
     "ename": "KeyboardInterrupt",
     "evalue": "",
     "output_type": "error",
     "traceback": [
      "\u001b[0;31m---------------------------------------------------------------------------\u001b[0m",
      "\u001b[0;31mKeyboardInterrupt\u001b[0m                         Traceback (most recent call last)",
      "Cell \u001b[0;32mIn[7], line 1\u001b[0m\n\u001b[0;32m----> 1\u001b[0m \u001b[43mcraft_forecaster\u001b[49m\u001b[38;5;241;43m.\u001b[39;49m\u001b[43mfit\u001b[49m\u001b[43m(\u001b[49m\u001b[43mcorpus\u001b[49m\u001b[43m,\u001b[49m\u001b[43m \u001b[49m\n\u001b[1;32m      2\u001b[0m \u001b[43m                     \u001b[49m\u001b[43mpartial\u001b[49m\u001b[43m(\u001b[49m\u001b[43mgeneric_fit_selector\u001b[49m\u001b[43m,\u001b[49m\u001b[43m \u001b[49m\u001b[43msplit\u001b[49m\u001b[38;5;241;43m=\u001b[39;49m\u001b[38;5;124;43m\"\u001b[39;49m\u001b[38;5;124;43mtrain\u001b[39;49m\u001b[38;5;124;43m\"\u001b[39;49m\u001b[43m)\u001b[49m\u001b[43m,\u001b[49m\u001b[43m \u001b[49m\n\u001b[1;32m      3\u001b[0m \u001b[43m                     \u001b[49m\u001b[43mval_context_selector\u001b[49m\u001b[38;5;241;43m=\u001b[39;49m\u001b[43mpartial\u001b[49m\u001b[43m(\u001b[49m\u001b[43mgeneric_fit_selector\u001b[49m\u001b[43m,\u001b[49m\u001b[43m \u001b[49m\u001b[43msplit\u001b[49m\u001b[38;5;241;43m=\u001b[39;49m\u001b[38;5;124;43m\"\u001b[39;49m\u001b[38;5;124;43mval\u001b[39;49m\u001b[38;5;124;43m\"\u001b[39;49m\u001b[43m)\u001b[49m\u001b[43m)\u001b[49m\n",
      "File \u001b[0;32m~/opt/anaconda3/envs/test/lib/python3.9/site-packages/convokit/forecaster/forecaster.py:119\u001b[0m, in \u001b[0;36mForecaster.fit\u001b[0;34m(self, corpus, context_selector, val_context_selector)\u001b[0m\n\u001b[1;32m    115\u001b[0m \u001b[38;5;28;01mif\u001b[39;00m val_context_selector \u001b[38;5;129;01mis\u001b[39;00m \u001b[38;5;129;01mnot\u001b[39;00m \u001b[38;5;28;01mNone\u001b[39;00m:\n\u001b[1;32m    116\u001b[0m     val_contexts \u001b[38;5;241m=\u001b[39m \u001b[38;5;28mself\u001b[39m\u001b[38;5;241m.\u001b[39m_create_context_iterator(\n\u001b[1;32m    117\u001b[0m         corpus, val_context_selector, include_future_context\u001b[38;5;241m=\u001b[39m\u001b[38;5;28;01mTrue\u001b[39;00m\n\u001b[1;32m    118\u001b[0m     )\n\u001b[0;32m--> 119\u001b[0m \u001b[38;5;28;43mself\u001b[39;49m\u001b[38;5;241;43m.\u001b[39;49m\u001b[43mforecaster_model\u001b[49m\u001b[38;5;241;43m.\u001b[39;49m\u001b[43mfit\u001b[49m\u001b[43m(\u001b[49m\u001b[43mcontexts\u001b[49m\u001b[43m,\u001b[49m\u001b[43m \u001b[49m\u001b[43mval_contexts\u001b[49m\u001b[43m)\u001b[49m\n\u001b[1;32m    121\u001b[0m \u001b[38;5;28;01mreturn\u001b[39;00m \u001b[38;5;28mself\u001b[39m\n",
      "File \u001b[0;32m~/opt/anaconda3/envs/test/lib/python3.9/site-packages/convokit/forecaster/CRAFTModel.py:232\u001b[0m, in \u001b[0;36mCRAFTModel.fit\u001b[0;34m(self, contexts, val_contexts)\u001b[0m\n\u001b[1;32m    230\u001b[0m \u001b[38;5;28mprint\u001b[39m(\u001b[38;5;124m\"\u001b[39m\u001b[38;5;124mStarting Training!\u001b[39m\u001b[38;5;124m\"\u001b[39m)\n\u001b[1;32m    231\u001b[0m \u001b[38;5;28mprint\u001b[39m(\u001b[38;5;124m\"\u001b[39m\u001b[38;5;124mWill train for \u001b[39m\u001b[38;5;132;01m{}\u001b[39;00m\u001b[38;5;124m iterations\u001b[39m\u001b[38;5;124m\"\u001b[39m\u001b[38;5;241m.\u001b[39mformat(n_iteration))\n\u001b[0;32m--> 232\u001b[0m best_model \u001b[38;5;241m=\u001b[39m \u001b[43mtrainIters\u001b[49m\u001b[43m(\u001b[49m\n\u001b[1;32m    233\u001b[0m \u001b[43m    \u001b[49m\u001b[38;5;28;43mself\u001b[39;49m\u001b[38;5;241;43m.\u001b[39;49m\u001b[43m_voc\u001b[49m\u001b[43m,\u001b[49m\n\u001b[1;32m    234\u001b[0m \u001b[43m    \u001b[49m\u001b[43mtrain_pairs\u001b[49m\u001b[43m,\u001b[49m\n\u001b[1;32m    235\u001b[0m \u001b[43m    \u001b[49m\u001b[43mval_pairs\u001b[49m\u001b[43m,\u001b[49m\n\u001b[1;32m    236\u001b[0m \u001b[43m    \u001b[49m\u001b[43mencoder\u001b[49m\u001b[43m,\u001b[49m\n\u001b[1;32m    237\u001b[0m \u001b[43m    \u001b[49m\u001b[43mcontext_encoder\u001b[49m\u001b[43m,\u001b[49m\n\u001b[1;32m    238\u001b[0m \u001b[43m    \u001b[49m\u001b[43mattack_clf\u001b[49m\u001b[43m,\u001b[49m\n\u001b[1;32m    239\u001b[0m \u001b[43m    \u001b[49m\u001b[43mencoder_optimizer\u001b[49m\u001b[43m,\u001b[49m\n\u001b[1;32m    240\u001b[0m \u001b[43m    \u001b[49m\u001b[43mcontext_encoder_optimizer\u001b[49m\u001b[43m,\u001b[49m\n\u001b[1;32m    241\u001b[0m \u001b[43m    \u001b[49m\u001b[43mattack_clf_optimizer\u001b[49m\u001b[43m,\u001b[49m\n\u001b[1;32m    242\u001b[0m \u001b[43m    \u001b[49m\u001b[43membedding\u001b[49m\u001b[43m,\u001b[49m\n\u001b[1;32m    243\u001b[0m \u001b[43m    \u001b[49m\u001b[43mn_iteration\u001b[49m\u001b[43m,\u001b[49m\n\u001b[1;32m    244\u001b[0m \u001b[43m    \u001b[49m\u001b[38;5;28;43mself\u001b[39;49m\u001b[38;5;241;43m.\u001b[39;49m\u001b[43m_config\u001b[49m\u001b[43m[\u001b[49m\u001b[38;5;124;43m\"\u001b[39;49m\u001b[38;5;124;43mbatch_size\u001b[39;49m\u001b[38;5;124;43m\"\u001b[39;49m\u001b[43m]\u001b[49m\u001b[43m,\u001b[49m\n\u001b[1;32m    245\u001b[0m \u001b[43m    \u001b[49m\u001b[38;5;28;43mself\u001b[39;49m\u001b[38;5;241;43m.\u001b[39;49m\u001b[43m_config\u001b[49m\u001b[43m[\u001b[49m\u001b[38;5;124;43m\"\u001b[39;49m\u001b[38;5;124;43mprint_every\u001b[39;49m\u001b[38;5;124;43m\"\u001b[39;49m\u001b[43m]\u001b[49m\u001b[43m,\u001b[49m\n\u001b[1;32m    246\u001b[0m \u001b[43m    \u001b[49m\u001b[43mn_iter_per_epoch\u001b[49m\u001b[43m,\u001b[49m\n\u001b[1;32m    247\u001b[0m \u001b[43m    \u001b[49m\u001b[38;5;28;43mself\u001b[39;49m\u001b[38;5;241;43m.\u001b[39;49m\u001b[43m_config\u001b[49m\u001b[43m[\u001b[49m\u001b[38;5;124;43m\"\u001b[39;49m\u001b[38;5;124;43mclip\u001b[39;49m\u001b[38;5;124;43m\"\u001b[39;49m\u001b[43m]\u001b[49m\u001b[43m,\u001b[49m\n\u001b[1;32m    248\u001b[0m \u001b[43m    \u001b[49m\u001b[38;5;28;43mself\u001b[39;49m\u001b[38;5;241;43m.\u001b[39;49m\u001b[43m_device\u001b[49m\u001b[43m,\u001b[49m\n\u001b[1;32m    249\u001b[0m \u001b[43m    \u001b[49m\u001b[43mMAX_LENGTH\u001b[49m\u001b[43m,\u001b[49m\n\u001b[1;32m    250\u001b[0m \u001b[43m    \u001b[49m\u001b[43mbatchIterator\u001b[49m\u001b[43m,\u001b[49m\n\u001b[1;32m    251\u001b[0m \u001b[43m\u001b[49m\u001b[43m)\u001b[49m\n\u001b[1;32m    253\u001b[0m \u001b[38;5;66;03m# save the resulting checkpoints so we can load them later during transform\u001b[39;00m\n\u001b[1;32m    254\u001b[0m \u001b[38;5;28mself\u001b[39m\u001b[38;5;241m.\u001b[39m_model \u001b[38;5;241m=\u001b[39m best_model\n",
      "File \u001b[0;32m~/opt/anaconda3/envs/test/lib/python3.9/site-packages/convokit/forecaster/CRAFT/runners.py:291\u001b[0m, in \u001b[0;36mtrainIters\u001b[0;34m(voc, pairs, val_pairs, encoder, context_encoder, attack_clf, encoder_optimizer, context_encoder_optimizer, attack_clf_optimizer, embedding, n_iteration, batch_size, print_every, validate_every, clip, device, max_length, batch_iterator_func)\u001b[0m\n\u001b[1;32m    288\u001b[0m dialog_lengths_list \u001b[38;5;241m=\u001b[39m [\u001b[38;5;28mlen\u001b[39m(x) \u001b[38;5;28;01mfor\u001b[39;00m x \u001b[38;5;129;01min\u001b[39;00m training_dialogs]\n\u001b[1;32m    290\u001b[0m \u001b[38;5;66;03m# Run a training iteration with batch\u001b[39;00m\n\u001b[0;32m--> 291\u001b[0m loss \u001b[38;5;241m=\u001b[39m \u001b[43mtrain\u001b[49m\u001b[43m(\u001b[49m\n\u001b[1;32m    292\u001b[0m \u001b[43m    \u001b[49m\u001b[43minput_variable\u001b[49m\u001b[43m,\u001b[49m\n\u001b[1;32m    293\u001b[0m \u001b[43m    \u001b[49m\u001b[43mdialog_lengths\u001b[49m\u001b[43m,\u001b[49m\n\u001b[1;32m    294\u001b[0m \u001b[43m    \u001b[49m\u001b[43mdialog_lengths_list\u001b[49m\u001b[43m,\u001b[49m\n\u001b[1;32m    295\u001b[0m \u001b[43m    \u001b[49m\u001b[43mutt_lengths\u001b[49m\u001b[43m,\u001b[49m\n\u001b[1;32m    296\u001b[0m \u001b[43m    \u001b[49m\u001b[43mbatch_indices\u001b[49m\u001b[43m,\u001b[49m\n\u001b[1;32m    297\u001b[0m \u001b[43m    \u001b[49m\u001b[43mdialog_indices\u001b[49m\u001b[43m,\u001b[49m\n\u001b[1;32m    298\u001b[0m \u001b[43m    \u001b[49m\u001b[43mlabels\u001b[49m\u001b[43m,\u001b[49m\u001b[43m  \u001b[49m\u001b[38;5;66;43;03m# input/output arguments\u001b[39;49;00m\n\u001b[1;32m    299\u001b[0m \u001b[43m    \u001b[49m\u001b[43mencoder\u001b[49m\u001b[43m,\u001b[49m\n\u001b[1;32m    300\u001b[0m \u001b[43m    \u001b[49m\u001b[43mcontext_encoder\u001b[49m\u001b[43m,\u001b[49m\n\u001b[1;32m    301\u001b[0m \u001b[43m    \u001b[49m\u001b[43mattack_clf\u001b[49m\u001b[43m,\u001b[49m\u001b[43m  \u001b[49m\u001b[38;5;66;43;03m# network arguments\u001b[39;49;00m\n\u001b[1;32m    302\u001b[0m \u001b[43m    \u001b[49m\u001b[43mencoder_optimizer\u001b[49m\u001b[43m,\u001b[49m\n\u001b[1;32m    303\u001b[0m \u001b[43m    \u001b[49m\u001b[43mcontext_encoder_optimizer\u001b[49m\u001b[43m,\u001b[49m\n\u001b[1;32m    304\u001b[0m \u001b[43m    \u001b[49m\u001b[43mattack_clf_optimizer\u001b[49m\u001b[43m,\u001b[49m\u001b[43m  \u001b[49m\u001b[38;5;66;43;03m# optimization arguments\u001b[39;49;00m\n\u001b[1;32m    305\u001b[0m \u001b[43m    \u001b[49m\u001b[43mtrue_batch_size\u001b[49m\u001b[43m,\u001b[49m\n\u001b[1;32m    306\u001b[0m \u001b[43m    \u001b[49m\u001b[43mclip\u001b[49m\u001b[43m,\u001b[49m\n\u001b[1;32m    307\u001b[0m \u001b[43m    \u001b[49m\u001b[43mdevice\u001b[49m\u001b[43m,\u001b[49m\n\u001b[1;32m    308\u001b[0m \u001b[43m\u001b[49m\u001b[43m)\u001b[49m  \u001b[38;5;66;03m# misc arguments\u001b[39;00m\n\u001b[1;32m    309\u001b[0m print_loss \u001b[38;5;241m+\u001b[39m\u001b[38;5;241m=\u001b[39m loss\n\u001b[1;32m    311\u001b[0m \u001b[38;5;66;03m# Print progress\u001b[39;00m\n",
      "File \u001b[0;32m~/opt/anaconda3/envs/test/lib/python3.9/site-packages/convokit/forecaster/CRAFT/runners.py:111\u001b[0m, in \u001b[0;36mtrain\u001b[0;34m(input_variable, dialog_lengths, dialog_lengths_list, utt_lengths, batch_indices, dialog_indices, labels, encoder, context_encoder, attack_clf, encoder_optimizer, context_encoder_optimizer, attack_clf_optimizer, batch_size, clip, device)\u001b[0m\n\u001b[1;32m    108\u001b[0m labels \u001b[38;5;241m=\u001b[39m labels\u001b[38;5;241m.\u001b[39mto(device)\n\u001b[1;32m    110\u001b[0m \u001b[38;5;66;03m# Forward pass through utterance encoder\u001b[39;00m\n\u001b[0;32m--> 111\u001b[0m _, utt_encoder_hidden \u001b[38;5;241m=\u001b[39m \u001b[43mencoder\u001b[49m\u001b[43m(\u001b[49m\u001b[43minput_variable\u001b[49m\u001b[43m,\u001b[49m\u001b[43m \u001b[49m\u001b[43mutt_lengths\u001b[49m\u001b[43m)\u001b[49m\n\u001b[1;32m    113\u001b[0m \u001b[38;5;66;03m# Convert utterance encoder final states to batched dialogs for use by context encoder\u001b[39;00m\n\u001b[1;32m    114\u001b[0m context_encoder_input \u001b[38;5;241m=\u001b[39m makeContextEncoderInput(\n\u001b[1;32m    115\u001b[0m     utt_encoder_hidden, dialog_lengths_list, batch_size, batch_indices, dialog_indices\n\u001b[1;32m    116\u001b[0m )\n",
      "File \u001b[0;32m~/opt/anaconda3/envs/test/lib/python3.9/site-packages/torch/nn/modules/module.py:1501\u001b[0m, in \u001b[0;36mModule._call_impl\u001b[0;34m(self, *args, **kwargs)\u001b[0m\n\u001b[1;32m   1496\u001b[0m \u001b[38;5;66;03m# If we don't have any hooks, we want to skip the rest of the logic in\u001b[39;00m\n\u001b[1;32m   1497\u001b[0m \u001b[38;5;66;03m# this function, and just call forward.\u001b[39;00m\n\u001b[1;32m   1498\u001b[0m \u001b[38;5;28;01mif\u001b[39;00m \u001b[38;5;129;01mnot\u001b[39;00m (\u001b[38;5;28mself\u001b[39m\u001b[38;5;241m.\u001b[39m_backward_hooks \u001b[38;5;129;01mor\u001b[39;00m \u001b[38;5;28mself\u001b[39m\u001b[38;5;241m.\u001b[39m_backward_pre_hooks \u001b[38;5;129;01mor\u001b[39;00m \u001b[38;5;28mself\u001b[39m\u001b[38;5;241m.\u001b[39m_forward_hooks \u001b[38;5;129;01mor\u001b[39;00m \u001b[38;5;28mself\u001b[39m\u001b[38;5;241m.\u001b[39m_forward_pre_hooks\n\u001b[1;32m   1499\u001b[0m         \u001b[38;5;129;01mor\u001b[39;00m _global_backward_pre_hooks \u001b[38;5;129;01mor\u001b[39;00m _global_backward_hooks\n\u001b[1;32m   1500\u001b[0m         \u001b[38;5;129;01mor\u001b[39;00m _global_forward_hooks \u001b[38;5;129;01mor\u001b[39;00m _global_forward_pre_hooks):\n\u001b[0;32m-> 1501\u001b[0m     \u001b[38;5;28;01mreturn\u001b[39;00m \u001b[43mforward_call\u001b[49m\u001b[43m(\u001b[49m\u001b[38;5;241;43m*\u001b[39;49m\u001b[43margs\u001b[49m\u001b[43m,\u001b[49m\u001b[43m \u001b[49m\u001b[38;5;241;43m*\u001b[39;49m\u001b[38;5;241;43m*\u001b[39;49m\u001b[43mkwargs\u001b[49m\u001b[43m)\u001b[49m\n\u001b[1;32m   1502\u001b[0m \u001b[38;5;66;03m# Do not call functions when jit is used\u001b[39;00m\n\u001b[1;32m   1503\u001b[0m full_backward_hooks, non_full_backward_hooks \u001b[38;5;241m=\u001b[39m [], []\n",
      "File \u001b[0;32m~/opt/anaconda3/envs/test/lib/python3.9/site-packages/convokit/forecaster/CRAFT/model.py:35\u001b[0m, in \u001b[0;36mEncoderRNN.forward\u001b[0;34m(self, input_seq, input_lengths, hidden)\u001b[0m\n\u001b[1;32m     33\u001b[0m packed \u001b[38;5;241m=\u001b[39m torch\u001b[38;5;241m.\u001b[39mnn\u001b[38;5;241m.\u001b[39mutils\u001b[38;5;241m.\u001b[39mrnn\u001b[38;5;241m.\u001b[39mpack_padded_sequence(embedded, input_lengths\u001b[38;5;241m.\u001b[39mcpu())\n\u001b[1;32m     34\u001b[0m \u001b[38;5;66;03m# Forward pass through GRU\u001b[39;00m\n\u001b[0;32m---> 35\u001b[0m outputs, hidden \u001b[38;5;241m=\u001b[39m \u001b[38;5;28;43mself\u001b[39;49m\u001b[38;5;241;43m.\u001b[39;49m\u001b[43mgru\u001b[49m\u001b[43m(\u001b[49m\u001b[43mpacked\u001b[49m\u001b[43m,\u001b[49m\u001b[43m \u001b[49m\u001b[43mhidden\u001b[49m\u001b[43m)\u001b[49m\n\u001b[1;32m     36\u001b[0m \u001b[38;5;66;03m# Unpack padding\u001b[39;00m\n\u001b[1;32m     37\u001b[0m outputs, _ \u001b[38;5;241m=\u001b[39m torch\u001b[38;5;241m.\u001b[39mnn\u001b[38;5;241m.\u001b[39mutils\u001b[38;5;241m.\u001b[39mrnn\u001b[38;5;241m.\u001b[39mpad_packed_sequence(outputs)\n",
      "File \u001b[0;32m~/opt/anaconda3/envs/test/lib/python3.9/site-packages/torch/nn/modules/module.py:1501\u001b[0m, in \u001b[0;36mModule._call_impl\u001b[0;34m(self, *args, **kwargs)\u001b[0m\n\u001b[1;32m   1496\u001b[0m \u001b[38;5;66;03m# If we don't have any hooks, we want to skip the rest of the logic in\u001b[39;00m\n\u001b[1;32m   1497\u001b[0m \u001b[38;5;66;03m# this function, and just call forward.\u001b[39;00m\n\u001b[1;32m   1498\u001b[0m \u001b[38;5;28;01mif\u001b[39;00m \u001b[38;5;129;01mnot\u001b[39;00m (\u001b[38;5;28mself\u001b[39m\u001b[38;5;241m.\u001b[39m_backward_hooks \u001b[38;5;129;01mor\u001b[39;00m \u001b[38;5;28mself\u001b[39m\u001b[38;5;241m.\u001b[39m_backward_pre_hooks \u001b[38;5;129;01mor\u001b[39;00m \u001b[38;5;28mself\u001b[39m\u001b[38;5;241m.\u001b[39m_forward_hooks \u001b[38;5;129;01mor\u001b[39;00m \u001b[38;5;28mself\u001b[39m\u001b[38;5;241m.\u001b[39m_forward_pre_hooks\n\u001b[1;32m   1499\u001b[0m         \u001b[38;5;129;01mor\u001b[39;00m _global_backward_pre_hooks \u001b[38;5;129;01mor\u001b[39;00m _global_backward_hooks\n\u001b[1;32m   1500\u001b[0m         \u001b[38;5;129;01mor\u001b[39;00m _global_forward_hooks \u001b[38;5;129;01mor\u001b[39;00m _global_forward_pre_hooks):\n\u001b[0;32m-> 1501\u001b[0m     \u001b[38;5;28;01mreturn\u001b[39;00m \u001b[43mforward_call\u001b[49m\u001b[43m(\u001b[49m\u001b[38;5;241;43m*\u001b[39;49m\u001b[43margs\u001b[49m\u001b[43m,\u001b[49m\u001b[43m \u001b[49m\u001b[38;5;241;43m*\u001b[39;49m\u001b[38;5;241;43m*\u001b[39;49m\u001b[43mkwargs\u001b[49m\u001b[43m)\u001b[49m\n\u001b[1;32m   1502\u001b[0m \u001b[38;5;66;03m# Do not call functions when jit is used\u001b[39;00m\n\u001b[1;32m   1503\u001b[0m full_backward_hooks, non_full_backward_hooks \u001b[38;5;241m=\u001b[39m [], []\n",
      "File \u001b[0;32m~/opt/anaconda3/envs/test/lib/python3.9/site-packages/torch/nn/modules/rnn.py:1001\u001b[0m, in \u001b[0;36mGRU.forward\u001b[0;34m(self, input, hx)\u001b[0m\n\u001b[1;32m    998\u001b[0m     result \u001b[38;5;241m=\u001b[39m _VF\u001b[38;5;241m.\u001b[39mgru(\u001b[38;5;28minput\u001b[39m, hx, \u001b[38;5;28mself\u001b[39m\u001b[38;5;241m.\u001b[39m_flat_weights, \u001b[38;5;28mself\u001b[39m\u001b[38;5;241m.\u001b[39mbias, \u001b[38;5;28mself\u001b[39m\u001b[38;5;241m.\u001b[39mnum_layers,\n\u001b[1;32m    999\u001b[0m                      \u001b[38;5;28mself\u001b[39m\u001b[38;5;241m.\u001b[39mdropout, \u001b[38;5;28mself\u001b[39m\u001b[38;5;241m.\u001b[39mtraining, \u001b[38;5;28mself\u001b[39m\u001b[38;5;241m.\u001b[39mbidirectional, \u001b[38;5;28mself\u001b[39m\u001b[38;5;241m.\u001b[39mbatch_first)\n\u001b[1;32m   1000\u001b[0m \u001b[38;5;28;01melse\u001b[39;00m:\n\u001b[0;32m-> 1001\u001b[0m     result \u001b[38;5;241m=\u001b[39m \u001b[43m_VF\u001b[49m\u001b[38;5;241;43m.\u001b[39;49m\u001b[43mgru\u001b[49m\u001b[43m(\u001b[49m\u001b[38;5;28;43minput\u001b[39;49m\u001b[43m,\u001b[49m\u001b[43m \u001b[49m\u001b[43mbatch_sizes\u001b[49m\u001b[43m,\u001b[49m\u001b[43m \u001b[49m\u001b[43mhx\u001b[49m\u001b[43m,\u001b[49m\u001b[43m \u001b[49m\u001b[38;5;28;43mself\u001b[39;49m\u001b[38;5;241;43m.\u001b[39;49m\u001b[43m_flat_weights\u001b[49m\u001b[43m,\u001b[49m\u001b[43m \u001b[49m\u001b[38;5;28;43mself\u001b[39;49m\u001b[38;5;241;43m.\u001b[39;49m\u001b[43mbias\u001b[49m\u001b[43m,\u001b[49m\n\u001b[1;32m   1002\u001b[0m \u001b[43m                     \u001b[49m\u001b[38;5;28;43mself\u001b[39;49m\u001b[38;5;241;43m.\u001b[39;49m\u001b[43mnum_layers\u001b[49m\u001b[43m,\u001b[49m\u001b[43m \u001b[49m\u001b[38;5;28;43mself\u001b[39;49m\u001b[38;5;241;43m.\u001b[39;49m\u001b[43mdropout\u001b[49m\u001b[43m,\u001b[49m\u001b[43m \u001b[49m\u001b[38;5;28;43mself\u001b[39;49m\u001b[38;5;241;43m.\u001b[39;49m\u001b[43mtraining\u001b[49m\u001b[43m,\u001b[49m\u001b[43m \u001b[49m\u001b[38;5;28;43mself\u001b[39;49m\u001b[38;5;241;43m.\u001b[39;49m\u001b[43mbidirectional\u001b[49m\u001b[43m)\u001b[49m\n\u001b[1;32m   1003\u001b[0m output \u001b[38;5;241m=\u001b[39m result[\u001b[38;5;241m0\u001b[39m]\n\u001b[1;32m   1004\u001b[0m hidden \u001b[38;5;241m=\u001b[39m result[\u001b[38;5;241m1\u001b[39m]\n",
      "\u001b[0;31mKeyboardInterrupt\u001b[0m: "
     ]
    }
   ],
   "source": [
    "craft_forecaster.fit(corpus, \n",
    "                     partial(generic_fit_selector, split=\"train\"), \n",
    "                     val_context_selector=partial(generic_fit_selector, split=\"val\"))"
   ]
  },
  {
   "cell_type": "markdown",
   "id": "3238e632-4e1b-4ba1-938a-b9aeef07f0cf",
   "metadata": {},
   "source": [
    "## Run the fitted model on the test set and perform evaluation\n",
    "\n",
    "...and inference is done simply by calling `transform`! (again, note the selector)"
   ]
  },
  {
   "cell_type": "code",
   "execution_count": null,
   "id": "4d3e4892-f6ef-4b6f-a9e4-d318f8cb96b9",
   "metadata": {
    "scrolled": true
   },
   "outputs": [
    {
     "name": "stdout",
     "output_type": "stream",
     "text": [
      "Processed 8466 context tuples for model evaluation\n",
      "Loading saved parameters...\n",
      "Building encoders, decoder, and classifier...\n",
      "Models built and ready to go!\n",
      "Iteration: 1; Percent complete: 0.8%\n",
      "Iteration: 2; Percent complete: 1.5%\n",
      "Iteration: 3; Percent complete: 2.3%\n",
      "Iteration: 4; Percent complete: 3.0%\n",
      "Iteration: 5; Percent complete: 3.8%\n",
      "Iteration: 6; Percent complete: 4.5%\n",
      "Iteration: 7; Percent complete: 5.3%\n",
      "Iteration: 8; Percent complete: 6.0%\n",
      "Iteration: 9; Percent complete: 6.8%\n",
      "Iteration: 10; Percent complete: 7.5%\n",
      "Iteration: 11; Percent complete: 8.3%\n",
      "Iteration: 12; Percent complete: 9.0%\n",
      "Iteration: 13; Percent complete: 9.8%\n",
      "Iteration: 14; Percent complete: 10.5%\n",
      "Iteration: 15; Percent complete: 11.3%\n",
      "Iteration: 16; Percent complete: 12.0%\n",
      "Iteration: 17; Percent complete: 12.8%\n",
      "Iteration: 18; Percent complete: 13.5%\n",
      "Iteration: 19; Percent complete: 14.3%\n",
      "Iteration: 20; Percent complete: 15.0%\n",
      "Iteration: 21; Percent complete: 15.8%\n",
      "Iteration: 22; Percent complete: 16.5%\n",
      "Iteration: 23; Percent complete: 17.3%\n",
      "Iteration: 24; Percent complete: 18.0%\n",
      "Iteration: 25; Percent complete: 18.8%\n",
      "Iteration: 26; Percent complete: 19.5%\n",
      "Iteration: 27; Percent complete: 20.3%\n",
      "Iteration: 28; Percent complete: 21.1%\n",
      "Iteration: 29; Percent complete: 21.8%\n",
      "Iteration: 30; Percent complete: 22.6%\n",
      "Iteration: 31; Percent complete: 23.3%\n",
      "Iteration: 32; Percent complete: 24.1%\n",
      "Iteration: 33; Percent complete: 24.8%\n",
      "Iteration: 34; Percent complete: 25.6%\n",
      "Iteration: 35; Percent complete: 26.3%\n",
      "Iteration: 36; Percent complete: 27.1%\n",
      "Iteration: 37; Percent complete: 27.8%\n",
      "Iteration: 38; Percent complete: 28.6%\n",
      "Iteration: 39; Percent complete: 29.3%\n",
      "Iteration: 40; Percent complete: 30.1%\n",
      "Iteration: 41; Percent complete: 30.8%\n",
      "Iteration: 42; Percent complete: 31.6%\n",
      "Iteration: 43; Percent complete: 32.3%\n",
      "Iteration: 44; Percent complete: 33.1%\n",
      "Iteration: 45; Percent complete: 33.8%\n",
      "Iteration: 46; Percent complete: 34.6%\n",
      "Iteration: 47; Percent complete: 35.3%\n",
      "Iteration: 48; Percent complete: 36.1%\n",
      "Iteration: 49; Percent complete: 36.8%\n",
      "Iteration: 50; Percent complete: 37.6%\n",
      "Iteration: 51; Percent complete: 38.3%\n",
      "Iteration: 52; Percent complete: 39.1%\n",
      "Iteration: 53; Percent complete: 39.8%\n",
      "Iteration: 54; Percent complete: 40.6%\n",
      "Iteration: 55; Percent complete: 41.4%\n",
      "Iteration: 56; Percent complete: 42.1%\n",
      "Iteration: 57; Percent complete: 42.9%\n",
      "Iteration: 58; Percent complete: 43.6%\n",
      "Iteration: 59; Percent complete: 44.4%\n",
      "Iteration: 60; Percent complete: 45.1%\n",
      "Iteration: 61; Percent complete: 45.9%\n",
      "Iteration: 62; Percent complete: 46.6%\n",
      "Iteration: 63; Percent complete: 47.4%\n",
      "Iteration: 64; Percent complete: 48.1%\n",
      "Iteration: 65; Percent complete: 48.9%\n",
      "Iteration: 66; Percent complete: 49.6%\n",
      "Iteration: 67; Percent complete: 50.4%\n",
      "Iteration: 68; Percent complete: 51.1%\n",
      "Iteration: 69; Percent complete: 51.9%\n",
      "Iteration: 70; Percent complete: 52.6%\n",
      "Iteration: 71; Percent complete: 53.4%\n",
      "Iteration: 72; Percent complete: 54.1%\n",
      "Iteration: 73; Percent complete: 54.9%\n",
      "Iteration: 74; Percent complete: 55.6%\n",
      "Iteration: 75; Percent complete: 56.4%\n",
      "Iteration: 76; Percent complete: 57.1%\n",
      "Iteration: 77; Percent complete: 57.9%\n",
      "Iteration: 78; Percent complete: 58.6%\n",
      "Iteration: 79; Percent complete: 59.4%\n",
      "Iteration: 80; Percent complete: 60.2%\n",
      "Iteration: 81; Percent complete: 60.9%\n",
      "Iteration: 82; Percent complete: 61.7%\n",
      "Iteration: 83; Percent complete: 62.4%\n",
      "Iteration: 84; Percent complete: 63.2%\n",
      "Iteration: 85; Percent complete: 63.9%\n",
      "Iteration: 86; Percent complete: 64.7%\n",
      "Iteration: 87; Percent complete: 65.4%\n",
      "Iteration: 88; Percent complete: 66.2%\n",
      "Iteration: 89; Percent complete: 66.9%\n",
      "Iteration: 90; Percent complete: 67.7%\n",
      "Iteration: 91; Percent complete: 68.4%\n",
      "Iteration: 92; Percent complete: 69.2%\n",
      "Iteration: 93; Percent complete: 69.9%\n",
      "Iteration: 94; Percent complete: 70.7%\n",
      "Iteration: 95; Percent complete: 71.4%\n",
      "Iteration: 96; Percent complete: 72.2%\n",
      "Iteration: 97; Percent complete: 72.9%\n",
      "Iteration: 98; Percent complete: 73.7%\n",
      "Iteration: 99; Percent complete: 74.4%\n",
      "Iteration: 100; Percent complete: 75.2%\n",
      "Iteration: 101; Percent complete: 75.9%\n",
      "Iteration: 102; Percent complete: 76.7%\n",
      "Iteration: 103; Percent complete: 77.4%\n",
      "Iteration: 104; Percent complete: 78.2%\n",
      "Iteration: 105; Percent complete: 78.9%\n",
      "Iteration: 106; Percent complete: 79.7%\n",
      "Iteration: 107; Percent complete: 80.5%\n",
      "Iteration: 108; Percent complete: 81.2%\n",
      "Iteration: 109; Percent complete: 82.0%\n",
      "Iteration: 110; Percent complete: 82.7%\n",
      "Iteration: 111; Percent complete: 83.5%\n",
      "Iteration: 112; Percent complete: 84.2%\n",
      "Iteration: 113; Percent complete: 85.0%\n",
      "Iteration: 114; Percent complete: 85.7%\n",
      "Iteration: 115; Percent complete: 86.5%\n",
      "Iteration: 116; Percent complete: 87.2%\n",
      "Iteration: 117; Percent complete: 88.0%\n",
      "Iteration: 118; Percent complete: 88.7%\n",
      "Iteration: 119; Percent complete: 89.5%\n",
      "Iteration: 120; Percent complete: 90.2%\n",
      "Iteration: 121; Percent complete: 91.0%\n",
      "Iteration: 122; Percent complete: 91.7%\n",
      "Iteration: 123; Percent complete: 92.5%\n",
      "Iteration: 124; Percent complete: 93.2%\n",
      "Iteration: 125; Percent complete: 94.0%\n",
      "Iteration: 126; Percent complete: 94.7%\n",
      "Iteration: 127; Percent complete: 95.5%\n",
      "Iteration: 128; Percent complete: 96.2%\n",
      "Iteration: 129; Percent complete: 97.0%\n",
      "Iteration: 130; Percent complete: 97.7%\n",
      "Iteration: 131; Percent complete: 98.5%\n",
      "Iteration: 132; Percent complete: 99.2%\n",
      "Iteration: 133; Percent complete: 100.0%\n"
     ]
    }
   ],
   "source": [
    "corpus = craft_forecaster.transform(corpus, transform_selector)"
   ]
  },
  {
   "cell_type": "markdown",
   "id": "9f517cfb-3a1d-4279-bf09-96695938d30c",
   "metadata": {},
   "source": [
    "Finally, to get a human-readable interpretation of model performance, we can use `summarize` to generate a table of standard performance metrics. It also returns a table of conversation-level predictions in case you want to do more complex analysis!"
   ]
  },
  {
   "cell_type": "code",
   "execution_count": null,
   "id": "c7fa3d49-39c1-4dd4-9f8e-ca31f421ac5a",
   "metadata": {},
   "outputs": [
    {
     "name": "stdout",
     "output_type": "stream",
     "text": [
      "Accuracy     0.616959\n",
      "Precision    0.594563\n",
      "Recall       0.735380\n",
      "FPR          0.501462\n",
      "F1           0.657516\n",
      "dtype: float64\n"
     ]
    },
    {
     "data": {
      "image/png": "[encoded data removed]",
      "text/plain": [
       "<Figure size 640x480 with 1 Axes>"
      ]
     },
     "metadata": {},
     "output_type": "display_data"
    },
    {
     "name": "stdout",
     "output_type": "stream",
     "text": [
      "Horizon statistics (# of comments between first positive forecast and conversation end):\n",
      "Mean = 4.6242544731610336, Median = 4.0\n"
     ]
    },
    {
     "data": {
      "text/plain": [
       "(                 label     score  forecast\n",
       " conversation_id                           \n",
       " cus26gy              1  0.868554       1.0\n",
       " cus37h0              1  0.735048       1.0\n",
       " cus142u              0  0.697288       1.0\n",
       " cus19ml              0  0.418263       0.0\n",
       " cusxft0              1  0.483696       0.0\n",
       " ...                ...       ...       ...\n",
       " e8qli0i              0  0.445314       0.0\n",
       " e8qm4aj              0  0.363978       0.0\n",
       " e8ql8ii              0  0.790745       1.0\n",
       " e8qzjei              1  0.968748       1.0\n",
       " e8r00ko              0  0.778818       1.0\n",
       " \n",
       " [1368 rows x 3 columns],\n",
       " {'Accuracy': 0.6169590643274854,\n",
       "  'Precision': 0.5945626477541371,\n",
       "  'Recall': 0.7353801169590644,\n",
       "  'FPR': 0.5014619883040936,\n",
       "  'F1': 0.657516339869281})"
      ]
     },
     "execution_count": 8,
     "metadata": {},
     "output_type": "execute_result"
    }
   ],
   "source": [
    "craft_forecaster.summarize(corpus, lambda c: c.meta['split'] == \"test\")"
   ]
  }
 ],
 "metadata": {
  "kernelspec": {
   "display_name": "Python 3 (ipykernel)",
   "language": "python",
   "name": "python3"
  },
  "language_info": {
   "codemirror_mode": {
    "name": "ipython",
    "version": 3
   },
   "file_extension": ".py",
   "mimetype": "text/x-python",
   "name": "python",
   "nbconvert_exporter": "python",
   "pygments_lexer": "ipython3",
   "version": "3.9.0"
  }
 },
 "nbformat": 4,
 "nbformat_minor": 5
}
