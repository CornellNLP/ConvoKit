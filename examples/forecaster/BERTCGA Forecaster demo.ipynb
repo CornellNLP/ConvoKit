{
 "cells": [
  {
   "cell_type": "markdown",
   "id": "a76caad0-a440-43cf-bfcd-af0ad6d68042",
   "metadata": {},
   "source": [
    "# ConvoKit Forecaster framework: BERTCGA demo\n",
    "\n",
    "The `Forecaster` class provides a generic interface to *conversational forecasting models*, a class of models designed to computationally capture the trajectory of conversations in order to predict future events. Though individual conversational forecasting models can get quite complex, the `Forecaster` API abstracts away the implementation details into a standard fit-transform interface. To demonstrate the power of this framework, this notebook walks through an example of fine-tuning the `BERTCGA` (including all BERT-styled models: `BERT`, `RoBERTa`, `SpanBERT`, `DeBERTa`, ...) conversational forecasting model on the CGA-CMV corpus. You will see how the `Forecaster` API allows us to load the data, select training, validation, and testing samples, train the BERTCGA model, and perform evaluation - replicating the original paper's full pipeline (minus pre-training, which is considered outside the scope of ConvoKit) all in only a few lines of code!\n",
    "\n",
    "Let's start by importing the necessary ConvoKit classes and functions, and loading the CGA-CMV corpus."
   ]
  },
  {
   "cell_type": "code",
   "execution_count": 2,
   "id": "326d6337-43c1-48c4-90de-d907b5fa32b6",
   "metadata": {},
   "outputs": [],
   "source": [
    "from convokit import download, Corpus, Forecaster, BERTCGAModel\n",
    "from functools import partial\n",
    "import json, os"
   ]
  },
  {
   "cell_type": "code",
   "execution_count": 3,
   "id": "3c530c49-80d9-455d-a062-cb31a7514d85",
   "metadata": {},
   "outputs": [
    {
     "name": "stdout",
     "output_type": "stream",
     "text": [
      "Dataset already exists at /home/sqt2/CALMpaper/ConvoKit/examples/forecaster/YOUR_DATA_DIRECTORY/conversations-gone-awry-cmv-corpus\n"
     ]
    }
   ],
   "source": [
    "corpus = Corpus(filename=download(\"conversations-gone-awry-cmv-corpus\", data_dir=\"YOUR_DATA_DIRECTORY\"))"
   ]
  },
  {
   "cell_type": "markdown",
   "id": "a4d27b1a-3d1f-4039-b10f-21b6dd230c10",
   "metadata": {},
   "source": [
    "## Define selectors for the Forecaster\n",
    "\n",
    "Core to the flexibility of the `Forecaster` framework is the concept of *selectors*. \n",
    "\n",
    "To capture the temporal dimension of the conversational forecasting task, `Forecaster` iterates through conversations in chronological utterance order, at each step presenting to the backend forecasting model a \"context tuple\" containing both the comment itself and the full \"context\" preceding that comment. As a general framework, `Forecaster` on its own does not try to make any further assumptions about what \"context\" should contain or look like; it simply presents context as a chronologically ordered list of all utterances up to and including the current one. \n",
    "\n",
    "But in practice, we often want to be pickier about what we mean by \"context\". At a basic level, we might want to select only specific contexts during training versus during evaluation. The simplest version of this is the desire to split the conversations by training and testing splits, but more specifically, we might also want to select only certain contexts within a conversation. This is necessary for BERTCGA training, which works by taking only the chronologically last context (i.e., all utterances up to and not including the toxic comment, or up to the end of the conversation) as a labeled training instance. This is where selectors come in! A selector is a user-provided function that takes in a context and returns a boolean representing whether or not that context should be used. You can provide separate selectors for `fit` and `transform`, and `fit` also takes in a second selector that you can use to define validation data.\n",
    "\n",
    "Here we show how to implement the necessary selectors for BERTCGA."
   ]
  },
  {
   "cell_type": "code",
   "execution_count": 4,
   "id": "6bfdb2b9-757a-4a44-89dc-a6e3b6249ac8",
   "metadata": {},
   "outputs": [],
   "source": [
    "def generic_fit_selector(context_tuple, split):\n",
    "    \"\"\"\n",
    "    We use this generic function for both training and validation data.\n",
    "    In both cases, its job is to select only those contexts for which the\n",
    "    FUTURE context is empty. This is in accordance with how CRAFT Model was\n",
    "    originally trained on CGA-CMV, taking the last context from each\n",
    "    conversation (\"last\" defined as being up to and including the chronologically\n",
    "    last utterance as recorded in the corpus)\n",
    "    \"\"\"\n",
    "    matches_split = (context_tuple.current_utterance.get_conversation().meta[\"split\"] == split)\n",
    "    is_end = (len(context_tuple.future_context) == 0)\n",
    "    return (matches_split and is_end)\n",
    "\n",
    "def transform_selector(context_tuple):\n",
    "    \"\"\"\n",
    "    For transform we only need to check that the conversation is in the test split\n",
    "    \"\"\"\n",
    "    return (context_tuple.current_utterance.get_conversation().meta[\"split\"] == \"test\")"
   ]
  },
  {
   "cell_type": "markdown",
   "id": "9614aff5-843e-4b3b-b03f-6f57f8e76b8a",
   "metadata": {},
   "source": [
    "## Initialize the Forecaster and BERTCGAModel backend\n",
    "\n",
    "Now the rest of the process is pretty straightforward! We simply need to:\n",
    "1. Initialize a backend `ForecasterModel` for the `Forecaster` to use, in this case we choose ConvoKit's implementation of BERTCGA.\n",
    "2. Initialize a `Forecaster` instance to wrap that `ForecasterModel` in a generic fit-transform API"
   ]
  },
  {
   "cell_type": "code",
   "execution_count": 5,
   "id": "9ee62d7f",
   "metadata": {},
   "outputs": [],
   "source": [
    "# CPU mode (noting that it will be slower)\n",
    "DEVICE = \"cuda\""
   ]
  },
  {
   "cell_type": "code",
   "execution_count": 6,
   "id": "653febf7-ef59-4e8b-8ce2-39b4a33c3747",
   "metadata": {},
   "outputs": [
    {
     "name": "stderr",
     "output_type": "stream",
     "text": [
      "Some weights of BertForSequenceClassification were not initialized from the model checkpoint at bert-base-cased and are newly initialized: ['classifier.bias', 'classifier.weight']\n",
      "You should probably TRAIN this model on a down-stream task to be able to use it for predictions and inference.\n"
     ]
    }
   ],
   "source": [
    "model_name_or_path = 'bert-base-cased'\n",
    "# roberta-large can also be used with this class\n",
    "config_dict = {\n",
    "    \"output_dir\": \"YOUR_SAVING_DIRECTORY\", \n",
    "    \"per_device_batch_size\": 4, \n",
    "    \"num_train_epochs\": 4, \n",
    "    \"learning_rate\": 6.7e-6,\n",
    "    \"random_seed\": 1,\n",
    "    \"device\": DEVICE\n",
    "}\n",
    "bert_model = BERTCGAModel(model_name_or_path, config=config_dict)\n"
   ]
  },
  {
   "cell_type": "code",
   "execution_count": 7,
   "id": "c971ec31-964b-4df0-a7bb-d064ae62c5a3",
   "metadata": {},
   "outputs": [],
   "source": [
    "bert_forecaster = Forecaster(bert_model, \"has_removed_comment\")"
   ]
  },
  {
   "cell_type": "markdown",
   "id": "b840f526-dafd-4022-b5a1-90adecbd1591",
   "metadata": {},
   "source": [
    "## Fine-tune the model using Forecaster.fit\n",
    "\n",
    "And now, just like any other ConvoKit Transformer, model training is done simply by calling `fit` (note how we pass in the selectors we previously defined!)..."
   ]
  },
  {
   "cell_type": "code",
   "execution_count": 8,
   "id": "8590e7b3-f633-4844-baea-18bee961eebd",
   "metadata": {
    "scrolled": true
   },
   "outputs": [
    {
     "name": "stderr",
     "output_type": "stream",
     "text": [
      "Detected kernel version 5.4.0, which is below the recommended minimum of 5.5.0; this can cause the process to hang. It is recommended to upgrade the kernel to the minimum version or higher.\n"
     ]
    },
    {
     "data": {
      "text/html": [
       "\n",
       "    <div>\n",
       "      \n",
       "      <progress value='4108' max='4108' style='width:300px; height:20px; vertical-align: middle;'></progress>\n",
       "      [4108/4108 07:19, Epoch 4/4]\n",
       "    </div>\n",
       "    <table border=\"1\" class=\"dataframe\">\n",
       "  <thead>\n",
       " <tr style=\"text-align: left;\">\n",
       "      <th>Step</th>\n",
       "      <th>Training Loss</th>\n",
       "    </tr>\n",
       "  </thead>\n",
       "  <tbody>\n",
       "    <tr>\n",
       "      <td>1027</td>\n",
       "      <td>0.669800</td>\n",
       "    </tr>\n",
       "    <tr>\n",
       "      <td>2054</td>\n",
       "      <td>0.615500</td>\n",
       "    </tr>\n",
       "    <tr>\n",
       "      <td>3081</td>\n",
       "      <td>0.560400</td>\n",
       "    </tr>\n",
       "    <tr>\n",
       "      <td>4108</td>\n",
       "      <td>0.512400</td>\n",
       "    </tr>\n",
       "  </tbody>\n",
       "</table><p>"
      ],
      "text/plain": [
       "<IPython.core.display.HTML object>"
      ]
     },
     "metadata": {},
     "output_type": "display_data"
    },
    {
     "name": "stderr",
     "output_type": "stream",
     "text": [
      "100%|██████████| 1368/1368 [00:12<00:00, 110.08it/s]\n"
     ]
    },
    {
     "name": "stdout",
     "output_type": "stream",
     "text": [
      "Accuracy: checkpoint-1027 0.6461988304093568\n"
     ]
    },
    {
     "name": "stderr",
     "output_type": "stream",
     "text": [
      "100%|██████████| 1368/1368 [00:12<00:00, 110.04it/s]\n"
     ]
    },
    {
     "name": "stdout",
     "output_type": "stream",
     "text": [
      "Accuracy: checkpoint-2054 0.6659356725146199\n"
     ]
    },
    {
     "name": "stderr",
     "output_type": "stream",
     "text": [
      "100%|██████████| 1368/1368 [00:12<00:00, 109.91it/s]\n"
     ]
    },
    {
     "name": "stdout",
     "output_type": "stream",
     "text": [
      "Accuracy: checkpoint-3081 0.6732456140350878\n"
     ]
    },
    {
     "name": "stderr",
     "output_type": "stream",
     "text": [
      "100%|██████████| 1368/1368 [00:12<00:00, 107.93it/s]\n"
     ]
    },
    {
     "name": "stdout",
     "output_type": "stream",
     "text": [
      "Accuracy: checkpoint-4108 0.6769005847953217\n"
     ]
    },
    {
     "name": "stderr",
     "output_type": "stream",
     "text": [
      "100%|██████████| 1368/1368 [00:12<00:00, 108.49it/s]\n"
     ]
    },
    {
     "name": "stdout",
     "output_type": "stream",
     "text": [
      "Deleting: YOUR_SAVING_DIRECTORY/checkpoint-1027\n",
      "Deleting: YOUR_SAVING_DIRECTORY/checkpoint-2054\n",
      "Deleting: YOUR_SAVING_DIRECTORY/checkpoint-3081\n"
     ]
    },
    {
     "data": {
      "text/plain": [
       "<convokit.forecaster.forecaster.Forecaster at 0x7f6942a07040>"
      ]
     },
     "execution_count": 8,
     "metadata": {},
     "output_type": "execute_result"
    }
   ],
   "source": [
    "bert_forecaster.fit(corpus, \n",
    "                     partial(generic_fit_selector, split=\"train\"), \n",
    "                     val_context_selector=partial(generic_fit_selector, split=\"val\"))"
   ]
  },
  {
   "cell_type": "markdown",
   "id": "3238e632-4e1b-4ba1-938a-b9aeef07f0cf",
   "metadata": {},
   "source": [
    "## Run the fitted model on the test set and perform evaluation\n",
    "\n",
    "...and inference is done simply by calling `transform`! (again, note the selector)"
   ]
  },
  {
   "cell_type": "markdown",
   "id": "2d5e34ca",
   "metadata": {},
   "source": [
    "### Normal Model"
   ]
  },
  {
   "cell_type": "code",
   "execution_count": 9,
   "id": "b1a978a8",
   "metadata": {},
   "outputs": [],
   "source": [
    "config_dict = {\n",
    "    \"output_dir\": \"YOUR_SAVING_DIRECTORY\", \n",
    "    \"per_device_batch_size\": 4, \n",
    "    \"num_train_epochs\": 4, \n",
    "    \"learning_rate\": 6.7e-6,\n",
    "    \"random_seed\": 1,\n",
    "    \"context_mode\": \"normal\", # set to normal by default\n",
    "    \"device\": DEVICE\n",
    "}\n",
    "config_file = os.path.join(\"YOUR_SAVING_DIRECTORY\", \"dev_config.json\")\n",
    "with open(config_file, 'r') as file:\n",
    "    model_config = json.load(file)\n",
    "normal_bert = BERTCGAModel(os.path.join(\"YOUR_SAVING_DIRECTORY\", model_config['best_checkpoint']), config=config_dict)\n",
    "normal_bert.best_threshold = model_config['best_threshold']\n",
    "normal_bert_forecaster = Forecaster(normal_bert, \"has_removed_comment\")"
   ]
  },
  {
   "cell_type": "code",
   "execution_count": 10,
   "id": "4d3e4892-f6ef-4b6f-a9e4-d318f8cb96b9",
   "metadata": {
    "scrolled": true
   },
   "outputs": [
    {
     "name": "stderr",
     "output_type": "stream",
     "text": [
      "100%|██████████| 8466/8466 [01:17<00:00, 108.85it/s]\n"
     ]
    }
   ],
   "source": [
    "corpus = normal_bert_forecaster.transform(corpus, transform_selector)"
   ]
  },
  {
   "cell_type": "markdown",
   "id": "9f517cfb-3a1d-4279-bf09-96695938d30c",
   "metadata": {},
   "source": [
    "Finally, to get a human-readable interpretation of model performance, we can use `summarize` to generate a table of standard performance metrics. It also returns a table of conversation-level predictions in case you want to do more complex analysis!"
   ]
  },
  {
   "cell_type": "code",
   "execution_count": 11,
   "id": "c7fa3d49-39c1-4dd4-9f8e-ca31f421ac5a",
   "metadata": {},
   "outputs": [
    {
     "data": {
      "image/png": "[encoded data removed]",
      "text/plain": [
       "<Figure size 640x480 with 1 Axes>"
      ]
     },
     "metadata": {},
     "output_type": "display_data"
    },
    {
     "name": "stdout",
     "output_type": "stream",
     "text": [
      "Horizon statistics (# of comments between first positive forecast and conversation end):\n",
      "Mean = 3.8336380255941496, Median = 3.0\n",
      "Accuracy                                                         0.614035\n",
      "Precision                                                        0.583156\n",
      "Recall                                                           0.799708\n",
      "FPR                                                              0.571637\n",
      "F1                                                               0.674476\n",
      "Mean H                                                           3.833638\n",
      "Correct Adjustment                                               0.120614\n",
      "Incorrect Adjustment                                             0.075292\n",
      "Recovery                                                         0.045322\n",
      "Leaderboard String      | MODEL_NAME     | 61.4   | 58.3  | 80.0 | 67....\n",
      "dtype: object\n"
     ]
    },
    {
     "data": {
      "text/plain": [
       "(                 label     score  forecast  last_utterance_forecast\n",
       " conversation_id                                                    \n",
       " cus26gy              1  0.880532       1.0                      1.0\n",
       " cus37h0              1  0.953645       1.0                      1.0\n",
       " cus142u              0  0.932500       1.0                      1.0\n",
       " cus19ml              0  0.921860       1.0                      0.0\n",
       " cusxft0              1  0.166532       0.0                      0.0\n",
       " ...                ...       ...       ...                      ...\n",
       " e8qli0i              0  0.185570       0.0                      0.0\n",
       " e8qm4aj              0  0.093030       0.0                      0.0\n",
       " e8ql8ii              0  0.852890       1.0                      1.0\n",
       " e8qzjei              1  0.952173       1.0                      1.0\n",
       " e8r00ko              0  0.884986       1.0                      0.0\n",
       " \n",
       " [1368 rows x 4 columns],\n",
       " {'Accuracy': 0.6140350877192983,\n",
       "  'Precision': 0.5831556503198294,\n",
       "  'Recall': 0.7997076023391813,\n",
       "  'FPR': 0.5716374269005848,\n",
       "  'F1': 0.6744759556103577,\n",
       "  'Mean H': 3.8336380255941496,\n",
       "  'Correct Adjustment': 0.1206140350877193,\n",
       "  'Incorrect Adjustment': 0.07529239766081872,\n",
       "  'Recovery': 0.04532163742690058,\n",
       "  'Leaderboard String': '| MODEL_NAME     | 61.4   | 58.3  | 80.0 | 67.4  | 57.2   | 3.83 | 4.5 (12.1 - 7.5)  |'})"
      ]
     },
     "execution_count": 11,
     "metadata": {},
     "output_type": "execute_result"
    }
   ],
   "source": [
    "normal_bert_forecaster.summarize(corpus, lambda c: c.meta['split'] == \"test\")"
   ]
  },
  {
   "cell_type": "markdown",
   "id": "1abddbd9",
   "metadata": {},
   "source": [
    "### No-Context Model"
   ]
  },
  {
   "cell_type": "markdown",
   "id": "e7c72044",
   "metadata": {},
   "source": [
    "Capturing conversational context and dynamics is a critical aspect of conversational forecast models. To evaluate whether a model possesses this capability, we introduce the No-Context Setting, where models are deprived of access to conversational history. Specifically, instead of providing the full context, we feed only the most recent utterance at each timestamp, removing any contextual information about prior interactions."
   ]
  },
  {
   "cell_type": "code",
   "execution_count": 12,
   "id": "cb7a6c82",
   "metadata": {},
   "outputs": [],
   "source": [
    "config_dict = {\n",
    "    \"output_dir\": \"YOUR_SAVING_DIRECTORY/no-context\", \n",
    "    \"per_device_batch_size\": 4, \n",
    "    \"num_train_epochs\": 4, \n",
    "    \"learning_rate\": 6.7e-6,\n",
    "    \"random_seed\": 1,\n",
    "    \"context_mode\": \"no-context\", # set to normal by default\n",
    "    \"device\": DEVICE\n",
    "}\n",
    "config_file = os.path.join(\"YOUR_SAVING_DIRECTORY\", \"dev_config.json\")\n",
    "with open(config_file, 'r') as file:\n",
    "    model_config = json.load(file)\n",
    "nocontext_bert = BERTCGAModel(os.path.join(\"YOUR_SAVING_DIRECTORY\", model_config['best_checkpoint']), config=config_dict)\n",
    "nocontext_bert.best_threshold = model_config['best_threshold']\n",
    "nocontext_bert_forecaster = Forecaster(nocontext_bert, \"has_removed_comment\")"
   ]
  },
  {
   "cell_type": "code",
   "execution_count": 13,
   "id": "2bd36200",
   "metadata": {},
   "outputs": [
    {
     "name": "stderr",
     "output_type": "stream",
     "text": [
      "100%|██████████| 8466/8466 [01:18<00:00, 107.36it/s]\n"
     ]
    }
   ],
   "source": [
    "corpus = nocontext_bert_forecaster.transform(corpus, transform_selector)"
   ]
  },
  {
   "cell_type": "code",
   "execution_count": 14,
   "id": "b5a938e7",
   "metadata": {},
   "outputs": [
    {
     "data": {
      "image/png": "[encoded data removed]",
      "text/plain": [
       "<Figure size 640x480 with 1 Axes>"
      ]
     },
     "metadata": {},
     "output_type": "display_data"
    },
    {
     "name": "stdout",
     "output_type": "stream",
     "text": [
      "Horizon statistics (# of comments between first positive forecast and conversation end):\n",
      "Mean = 4.0287539936102235, Median = 3.0\n",
      "Accuracy                                                         0.600146\n",
      "Precision                                                        0.561435\n",
      "Recall                                                           0.915205\n",
      "FPR                                                              0.714912\n",
      "F1                                                               0.695942\n",
      "Mean H                                                           4.028754\n",
      "Correct Adjustment                                               0.207602\n",
      "Incorrect Adjustment                                             0.164474\n",
      "Recovery                                                         0.043129\n",
      "Leaderboard String      | MODEL_NAME     | 60.0   | 56.1  | 91.5 | 69....\n",
      "dtype: object\n"
     ]
    },
    {
     "data": {
      "text/plain": [
       "(                 label     score  forecast  last_utterance_forecast\n",
       " conversation_id                                                    \n",
       " cus26gy              1  0.948133       1.0                      0.0\n",
       " cus37h0              1  0.940318       1.0                      1.0\n",
       " cus142u              0  0.894471       1.0                      0.0\n",
       " cus19ml              0  0.921860       1.0                      0.0\n",
       " cusxft0              1  0.220547       0.0                      0.0\n",
       " ...                ...       ...       ...                      ...\n",
       " e8qli0i              0  0.185570       0.0                      0.0\n",
       " e8qm4aj              0  0.471338       1.0                      1.0\n",
       " e8ql8ii              0  0.864208       1.0                      0.0\n",
       " e8qzjei              1  0.951614       1.0                      1.0\n",
       " e8r00ko              0  0.920416       1.0                      0.0\n",
       " \n",
       " [1368 rows x 4 columns],\n",
       " {'Accuracy': 0.6001461988304093,\n",
       "  'Precision': 0.5614349775784754,\n",
       "  'Recall': 0.9152046783625731,\n",
       "  'FPR': 0.7149122807017544,\n",
       "  'F1': 0.6959421901056142,\n",
       "  'Mean H': 4.0287539936102235,\n",
       "  'Correct Adjustment': 0.20760233918128654,\n",
       "  'Incorrect Adjustment': 0.16447368421052633,\n",
       "  'Recovery': 0.04312865497076021,\n",
       "  'Leaderboard String': '| MODEL_NAME     | 60.0   | 56.1  | 91.5 | 69.6  | 71.5   | 4.03 | 4.3 (20.8 - 16.4)  |'})"
      ]
     },
     "execution_count": 14,
     "metadata": {},
     "output_type": "execute_result"
    }
   ],
   "source": [
    "nocontext_bert_forecaster.summarize(corpus, lambda c: c.meta['split'] == \"test\")"
   ]
  }
 ],
 "metadata": {
  "kernelspec": {
   "display_name": "Python 3 (ipykernel)",
   "language": "python",
   "name": "python3"
  },
  "language_info": {
   "codemirror_mode": {
    "name": "ipython",
    "version": 3
   },
   "file_extension": ".py",
   "mimetype": "text/x-python",
   "name": "python",
   "nbconvert_exporter": "python",
   "pygments_lexer": "ipython3",
   "version": "3.9.18"
  }
 },
 "nbformat": 4,
 "nbformat_minor": 5
}
