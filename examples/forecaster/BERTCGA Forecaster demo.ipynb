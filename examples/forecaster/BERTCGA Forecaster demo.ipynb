{
 "cells": [
  {
   "cell_type": "markdown",
   "id": "a76caad0-a440-43cf-bfcd-af0ad6d68042",
   "metadata": {},
   "source": [
    "# ConvoKit Forecaster framework: BERTCGA demo\n",
    "\n",
    "The `Forecaster` class provides a generic interface to *conversational forecasting models*, a class of models designed to computationally capture the trajectory of conversations in order to predict future events. Though individual conversational forecasting models can get quite complex, the `Forecaster` API abstracts away the implementation details into a standard fit-transform interface. To demonstrate the power of this framework, this notebook walks through an example of fine-tuning the `BERTCGA` (including all BERT-styled models: `BERT`, `RoBERTa`, `SpanBERT`, `DeBERTa`, ...) conversational forecasting model on the CGA-CMV corpus. You will see how the `Forecaster` API allows us to load the data, select training, validation, and testing samples, train the BERTCGA model, and perform evaluation - replicating the original paper's full pipeline (minus pre-training, which is considered outside the scope of ConvoKit) all in only a few lines of code!\n",
    "\n",
    "Let's start by importing the necessary ConvoKit classes and functions, and loading the CGA-CMV corpus."
   ]
  },
  {
   "cell_type": "code",
   "execution_count": 2,
   "id": "326d6337-43c1-48c4-90de-d907b5fa32b6",
   "metadata": {},
   "outputs": [],
   "source": [
    "from convokit import download, Corpus, Forecaster, BERTCGAModel\n",
    "from functools import partial"
   ]
  },
  {
   "cell_type": "code",
   "execution_count": 3,
   "id": "3c530c49-80d9-455d-a062-cb31a7514d85",
   "metadata": {},
   "outputs": [
    {
     "name": "stdout",
     "output_type": "stream",
     "text": [
      "Dataset already exists at /home/sqt2/.convokit/saved-corpora/conversations-gone-awry-cmv-corpus\n"
     ]
    }
   ],
   "source": [
    "corpus = Corpus(filename=download(\"conversations-gone-awry-cmv-corpus\", data_dir=\"YOUR_DATA_DIRECTORY\"))"
   ]
  },
  {
   "cell_type": "markdown",
   "id": "a4d27b1a-3d1f-4039-b10f-21b6dd230c10",
   "metadata": {},
   "source": [
    "## Define selectors for the Forecaster\n",
    "\n",
    "Core to the flexibility of the `Forecaster` framework is the concept of *selectors*. \n",
    "\n",
    "To capture the temporal dimension of the conversational forecasting task, `Forecaster` iterates through conversations in chronological utterance order, at each step presenting to the backend forecasting model a \"context tuple\" containing both the comment itself and the full \"context\" preceding that comment. As a general framework, `Forecaster` on its own does not try to make any further assumptions about what \"context\" should contain or look like; it simply presents context as a chronologically ordered list of all utterances up to and including the current one. \n",
    "\n",
    "But in practice, we often want to be pickier about what we mean by \"context\". At a basic level, we might want to select only specific contexts during training versus during evaluation. The simplest version of this is the desire to split the conversations by training and testing splits, but more specifically, we might also want to select only certain contexts within a conversation. This is necessary for BERTCGA training, which works by taking only the chronologically last context (i.e., all utterances up to and not including the toxic comment, or up to the end of the conversation) as a labeled training instance. This is where selectors come in! A selector is a user-provided function that takes in a context and returns a boolean representing whether or not that context should be used. You can provide separate selectors for `fit` and `transform`, and `fit` also takes in a second selector that you can use to define validation data.\n",
    "\n",
    "Here we show how to implement the necessary selectors for BERTCGA."
   ]
  },
  {
   "cell_type": "code",
   "execution_count": 4,
   "id": "6bfdb2b9-757a-4a44-89dc-a6e3b6249ac8",
   "metadata": {},
   "outputs": [],
   "source": [
    "def generic_fit_selector(context_tuple, split):\n",
    "    \"\"\"\n",
    "    We use this generic function for both training and validation data.\n",
    "    In both cases, its job is to select only those contexts for which the\n",
    "    FUTURE context is empty. This is in accordance with how CRAFT Model was\n",
    "    originally trained on CGA-CMV, taking the last context from each\n",
    "    conversation (\"last\" defined as being up to and including the chronologically\n",
    "    last utterance as recorded in the corpus)\n",
    "    \"\"\"\n",
    "    matches_split = (context_tuple.current_utterance.get_conversation().meta[\"split\"] == split)\n",
    "    is_end = (len(context_tuple.future_context) == 0)\n",
    "    return (matches_split and is_end)\n",
    "\n",
    "def transform_selector(context_tuple):\n",
    "    \"\"\"\n",
    "    For transform we only need to check that the conversation is in the test split\n",
    "    \"\"\"\n",
    "    return (context_tuple.current_utterance.get_conversation().meta[\"split\"] == \"test\")"
   ]
  },
  {
   "cell_type": "markdown",
   "id": "9614aff5-843e-4b3b-b03f-6f57f8e76b8a",
   "metadata": {},
   "source": [
    "## Initialize the Forecaster and BERTCGAModel backend\n",
    "\n",
    "Now the rest of the process is pretty straightforward! We simply need to:\n",
    "1. Initialize a backend `ForecasterModel` for the `Forecaster` to use, in this case we choose ConvoKit's implementation of BERTCGA.\n",
    "2. Initialize a `Forecaster` instance to wrap that `ForecasterModel` in a generic fit-transform API"
   ]
  },
  {
   "cell_type": "code",
   "execution_count": 5,
   "id": "9ee62d7f",
   "metadata": {},
   "outputs": [],
   "source": [
    "# CPU mode (noting that it will be slower)\n",
    "DEVICE = \"cuda\""
   ]
  },
  {
   "cell_type": "code",
   "execution_count": 6,
   "id": "653febf7-ef59-4e8b-8ce2-39b4a33c3747",
   "metadata": {},
   "outputs": [
    {
     "name": "stderr",
     "output_type": "stream",
     "text": [
      "Some weights of RobertaForSequenceClassification were not initialized from the model checkpoint at roberta-base and are newly initialized: ['classifier.dense.bias', 'classifier.dense.weight', 'classifier.out_proj.bias', 'classifier.out_proj.weight']\n",
      "You should probably TRAIN this model on a down-stream task to be able to use it for predictions and inference.\n"
     ]
    }
   ],
   "source": [
    "model_name_or_path = 'roberta-base'\n",
    "config_dict = {\n",
    "    \"output_dir\": \"YOUR_SAVING_DIRECTORY\", \n",
    "    \"per_device_batch_size\": 16, \n",
    "    \"num_train_epochs\": 1, \n",
    "    \"learning_rate\": 6.7e-6,\n",
    "    \"random_seed\": 1,\n",
    "    \"device\": DEVICE\n",
    "}\n",
    "bert_model = BERTCGAModel(model_name_or_path, config=config_dict)\n"
   ]
  },
  {
   "cell_type": "code",
   "execution_count": 7,
   "id": "c971ec31-964b-4df0-a7bb-d064ae62c5a3",
   "metadata": {},
   "outputs": [],
   "source": [
    "bert_forecaster = Forecaster(bert_model, \"has_removed_comment\")"
   ]
  },
  {
   "cell_type": "markdown",
   "id": "b840f526-dafd-4022-b5a1-90adecbd1591",
   "metadata": {},
   "source": [
    "## Fine-tune the model using Forecaster.fit\n",
    "\n",
    "And now, just like any other ConvoKit Transformer, model training is done simply by calling `fit` (note how we pass in the selectors we previously defined!)..."
   ]
  },
  {
   "cell_type": "code",
   "execution_count": 8,
   "id": "8590e7b3-f633-4844-baea-18bee961eebd",
   "metadata": {
    "scrolled": true
   },
   "outputs": [
    {
     "name": "stderr",
     "output_type": "stream",
     "text": [
      "Detected kernel version 5.4.0, which is below the recommended minimum of 5.5.0; this can cause the process to hang. It is recommended to upgrade the kernel to the minimum version or higher.\n"
     ]
    },
    {
     "data": {
      "text/html": [
       "\n",
       "    <div>\n",
       "      \n",
       "      <progress value='257' max='257' style='width:300px; height:20px; vertical-align: middle;'></progress>\n",
       "      [257/257 01:30, Epoch 1/1]\n",
       "    </div>\n",
       "    <table border=\"1\" class=\"dataframe\">\n",
       "  <thead>\n",
       " <tr style=\"text-align: left;\">\n",
       "      <th>Step</th>\n",
       "      <th>Training Loss</th>\n",
       "    </tr>\n",
       "  </thead>\n",
       "  <tbody>\n",
       "    <tr>\n",
       "      <td>257</td>\n",
       "      <td>0.671800</td>\n",
       "    </tr>\n",
       "  </tbody>\n",
       "</table><p>"
      ],
      "text/plain": [
       "<IPython.core.display.HTML object>"
      ]
     },
     "metadata": {},
     "output_type": "display_data"
    },
    {
     "name": "stderr",
     "output_type": "stream",
     "text": [
      "100%|██████████| 1368/1368 [00:12<00:00, 107.52it/s]\n"
     ]
    },
    {
     "name": "stdout",
     "output_type": "stream",
     "text": [
      "Accuracy: checkpoint-257 0.6549707602339181\n"
     ]
    },
    {
     "name": "stderr",
     "output_type": "stream",
     "text": [
      "100%|██████████| 1368/1368 [00:12<00:00, 107.58it/s]\n"
     ]
    },
    {
     "data": {
      "text/plain": [
       "<convokit.forecaster.forecaster.Forecaster at 0x7fb2de026430>"
      ]
     },
     "execution_count": 8,
     "metadata": {},
     "output_type": "execute_result"
    }
   ],
   "source": [
    "bert_forecaster.fit(corpus, \n",
    "                     partial(generic_fit_selector, split=\"train\"), \n",
    "                     val_context_selector=partial(generic_fit_selector, split=\"val\"))"
   ]
  },
  {
   "cell_type": "markdown",
   "id": "3238e632-4e1b-4ba1-938a-b9aeef07f0cf",
   "metadata": {},
   "source": [
    "## Run the fitted model on the test set and perform evaluation\n",
    "\n",
    "...and inference is done simply by calling `transform`! (again, note the selector)"
   ]
  },
  {
   "cell_type": "markdown",
   "id": "2d5e34ca",
   "metadata": {},
   "source": [
    "### Normal Model"
   ]
  },
  {
   "cell_type": "code",
   "execution_count": 9,
   "id": "4d3e4892-f6ef-4b6f-a9e4-d318f8cb96b9",
   "metadata": {
    "scrolled": true
   },
   "outputs": [
    {
     "name": "stderr",
     "output_type": "stream",
     "text": [
      "100%|██████████| 8466/8466 [01:18<00:00, 107.53it/s]\n"
     ]
    }
   ],
   "source": [
    "corpus = bert_forecaster.transform(corpus, transform_selector)"
   ]
  },
  {
   "cell_type": "markdown",
   "id": "9f517cfb-3a1d-4279-bf09-96695938d30c",
   "metadata": {},
   "source": [
    "Finally, to get a human-readable interpretation of model performance, we can use `summarize` to generate a table of standard performance metrics. It also returns a table of conversation-level predictions in case you want to do more complex analysis!"
   ]
  },
  {
   "cell_type": "code",
   "execution_count": 10,
   "id": "c7fa3d49-39c1-4dd4-9f8e-ca31f421ac5a",
   "metadata": {},
   "outputs": [
    {
     "data": {
      "image/png": "[encoded data removed]",
      "text/plain": [
       "<Figure size 640x480 with 1 Axes>"
      ]
     },
     "metadata": {},
     "output_type": "display_data"
    },
    {
     "name": "stdout",
     "output_type": "stream",
     "text": [
      "Horizon statistics (# of comments between first positive forecast and conversation end):\n",
      "Mean = 4.693069306930693, Median = 4.0\n",
      "Accuracy                0.568713\n",
      "Precision               0.542039\n",
      "Recall                  0.885965\n",
      "FPR                     0.748538\n",
      "F1                      0.672586\n",
      "Mean H                  4.693069\n",
      "Correct Adjustment      0.217836\n",
      "Incorrect Adjustment    0.123538\n",
      "Recovery                0.094298\n",
      "dtype: float64\n"
     ]
    },
    {
     "data": {
      "text/plain": [
       "(                 label     score  forecast  last_utterance_forecast\n",
       " conversation_id                                                    \n",
       " cus26gy              1  0.614906       1.0                      1.0\n",
       " cus37h0              1  0.426514       0.0                      0.0\n",
       " cus142u              0  0.435626       1.0                      0.0\n",
       " cus19ml              0  0.429551       0.0                      0.0\n",
       " cusxft0              1  0.419090       0.0                      0.0\n",
       " ...                ...       ...       ...                      ...\n",
       " e8qli0i              0  0.455379       1.0                      0.0\n",
       " e8qm4aj              0  0.446111       1.0                      0.0\n",
       " e8ql8ii              0  0.470934       1.0                      1.0\n",
       " e8qzjei              1  0.792656       1.0                      1.0\n",
       " e8r00ko              0  0.529319       1.0                      1.0\n",
       " \n",
       " [1368 rows x 4 columns],\n",
       " {'Accuracy': 0.5687134502923976,\n",
       "  'Precision': 0.5420393559928444,\n",
       "  'Recall': 0.8859649122807017,\n",
       "  'FPR': 0.7485380116959064,\n",
       "  'F1': 0.6725860155382909,\n",
       "  'Mean H': 4.693069306930693,\n",
       "  'Correct Adjustment': 0.21783625730994152,\n",
       "  'Incorrect Adjustment': 0.12353801169590643,\n",
       "  'Recovery': 0.09429824561403509})"
      ]
     },
     "execution_count": 10,
     "metadata": {},
     "output_type": "execute_result"
    }
   ],
   "source": [
    "bert_forecaster.summarize(corpus, lambda c: c.meta['split'] == \"test\")"
   ]
  },
  {
   "cell_type": "markdown",
   "id": "1abddbd9",
   "metadata": {},
   "source": [
    "### No-Context Model"
   ]
  }
 ],
 "metadata": {
  "kernelspec": {
   "display_name": "Python 3 (ipykernel)",
   "language": "python",
   "name": "python3"
  },
  "language_info": {
   "codemirror_mode": {
    "name": "ipython",
    "version": 3
   },
   "file_extension": ".py",
   "mimetype": "text/x-python",
   "name": "python",
   "nbconvert_exporter": "python",
   "pygments_lexer": "ipython3",
   "version": "3.9.18"
  }
 },
 "nbformat": 4,
 "nbformat_minor": 5
}
