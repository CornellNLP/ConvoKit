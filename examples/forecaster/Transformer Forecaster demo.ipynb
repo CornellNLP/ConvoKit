{
 "cells": [
  {
   "cell_type": "markdown",
   "id": "a76caad0-a440-43cf-bfcd-af0ad6d68042",
   "metadata": {},
   "source": [
    "# ConvoKit Forecaster framework: TransformerEncoderModel demo\n",
    "\n",
    "The `Forecaster` class provides a generic interface to *conversational forecasting models*, a class of models designed to computationally capture the trajectory of conversations in order to predict future events. Though individual conversational forecasting models can get quite complex, the `Forecaster` API abstracts away the implementation details into a standard fit-transform interface. To demonstrate the power of this framework, this notebook walks through an example of fine-tuning the `TransformerEncoderModel` (including all BERT-styled models: `BERT`, `RoBERTa`, `SpanBERT`, `DeBERTa`, ...) conversational forecasting model on the CGA-CMV corpus. You will see how the `Forecaster` API allows us to load the data, select training, validation, and testing samples, train the `TransformerEncoder` Model, and perform evaluation - replicating the original paper's full pipeline (minus pre-training, which is considered outside the scope of ConvoKit) all in only a few lines of code!\n",
    "\n",
    "Let's start by importing the necessary ConvoKit classes and functions, and loading the CGA-CMV corpus."
   ]
  },
  {
   "cell_type": "code",
   "execution_count": 2,
   "id": "326d6337-43c1-48c4-90de-d907b5fa32b6",
   "metadata": {},
   "outputs": [
    {
     "name": "stderr",
     "output_type": "stream",
     "text": [
      "/reef/conda-envs/sqt-env/lib/python3.10/site-packages/tqdm/auto.py:21: TqdmWarning: IProgress not found. Please update jupyter and ipywidgets. See https://ipywidgets.readthedocs.io/en/stable/user_install.html\n",
      "  from .autonotebook import tqdm as notebook_tqdm\n",
      "/home/sqt2/ConvoKit/convokit/forecaster/TransformerDecoderModel.py:1: UserWarning: WARNING: Unsloth should be imported before transformers, peft to ensure all optimizations are applied. Your code may run slower or encounter memory issues without these optimizations.\n",
      "\n",
      "Please restructure your imports with 'import unsloth' at the top of your file.\n",
      "  from unsloth import FastLanguageModel, is_bfloat16_supported\n"
     ]
    },
    {
     "name": "stdout",
     "output_type": "stream",
     "text": [
      "🦥 Unsloth: Will patch your computer to enable 2x faster free finetuning.\n",
      "🦥 Unsloth Zoo will now patch everything to make training faster!\n"
     ]
    }
   ],
   "source": [
    "from convokit import (download,\n",
    "                      Corpus,\n",
    "                      Forecaster,\n",
    "                      TransformerEncoderModel,\n",
    "                      ForecasterTrainingArgument,\n",
    ")\n",
    "from functools import partial\n",
    "import json, os"
   ]
  },
  {
   "cell_type": "code",
   "execution_count": 3,
   "id": "3c530c49-80d9-455d-a062-cb31a7514d85",
   "metadata": {},
   "outputs": [
    {
     "name": "stdout",
     "output_type": "stream",
     "text": [
      "Dataset already exists at /home/sqt2/ConvoKit/examples/forecaster/YOUR_DATA_DIRECTORY/conversations-gone-awry-cmv-corpus\n"
     ]
    }
   ],
   "source": [
    "corpus = Corpus(filename=download(\"conversations-gone-awry-cmv-corpus\", data_dir=\"YOUR_DATA_DIRECTORY\"))"
   ]
  },
  {
   "cell_type": "markdown",
   "id": "a4d27b1a-3d1f-4039-b10f-21b6dd230c10",
   "metadata": {},
   "source": [
    "## Define selectors for the Forecaster\n",
    "\n",
    "Core to the flexibility of the `Forecaster` framework is the concept of *selectors*. \n",
    "\n",
    "To capture the temporal dimension of the conversational forecasting task, `Forecaster` iterates through conversations in chronological utterance order, at each step presenting to the backend forecasting model a \"context tuple\" containing both the comment itself and the full \"context\" preceding that comment. As a general framework, `Forecaster` on its own does not try to make any further assumptions about what \"context\" should contain or look like; it simply presents context as a chronologically ordered list of all utterances up to and including the current one. \n",
    "\n",
    "But in practice, we often want to be pickier about what we mean by \"context\". At a basic level, we might want to select only specific contexts during training versus during evaluation. The simplest version of this is the desire to split the conversations by training and testing splits, but more specifically, we might also want to select only certain contexts within a conversation. This is necessary for TransformerEncoderModel training, which works by taking only the chronologically last context (i.e., all utterances up to and not including the toxic comment, or up to the end of the conversation) as a labeled training instance. This is where selectors come in! A selector is a user-provided function that takes in a context and returns a boolean representing whether or not that context should be used. You can provide separate selectors for `fit` and `transform`, and `fit` also takes in a second selector that you can use to define validation data.\n",
    "\n",
    "Here we show how to implement the necessary selectors for TransformerEncoderModel."
   ]
  },
  {
   "cell_type": "code",
   "execution_count": 4,
   "id": "6bfdb2b9-757a-4a44-89dc-a6e3b6249ac8",
   "metadata": {},
   "outputs": [],
   "source": [
    "def generic_fit_selector(context_tuple):\n",
    "    \"\"\"\n",
    "    We use this generic function for both training and validation data.\n",
    "    In both cases, its job is to select only those contexts for which the\n",
    "    FUTURE context is empty. This is in accordance with how CRAFT Model was\n",
    "    originally trained on CGA-CMV, taking the last context from each\n",
    "    conversation (\"last\" defined as being up to and including the chronologically\n",
    "    last utterance as recorded in the corpus)\n",
    "    \"\"\"\n",
    "    matches_split = (context_tuple.current_utterance.get_conversation().meta[\"split\"] == \"train\")\n",
    "    is_end = (len(context_tuple.future_context) == 0)\n",
    "    return (matches_split and is_end)\n",
    "def eval_selector(context_tuple):\n",
    "\n",
    "    return (context_tuple.current_utterance.get_conversation().meta[\"split\"] == \"val\")\n",
    "def transform_selector(context_tuple):\n",
    "    \"\"\"\n",
    "    For transform we only need to check that the conversation is in the test split\n",
    "    \"\"\"\n",
    "    return (context_tuple.current_utterance.get_conversation().meta[\"split\"] == \"test\")"
   ]
  },
  {
   "cell_type": "markdown",
   "id": "9614aff5-843e-4b3b-b03f-6f57f8e76b8a",
   "metadata": {},
   "source": [
    "## Initialize the Forecaster and TransformerEncoderModel backend\n",
    "\n",
    "Now the rest of the process is pretty straightforward! We simply need to:\n",
    "1. Initialize a backend `ForecasterModel` for the `Forecaster` to use, in this case we choose ConvoKit's implementation of TransformerEncoderModel.\n",
    "2. Initialize a `Forecaster` instance to wrap that `ForecasterModel` in a generic fit-transform API"
   ]
  },
  {
   "cell_type": "code",
   "execution_count": 5,
   "id": "9ee62d7f",
   "metadata": {},
   "outputs": [],
   "source": [
    "# CPU mode (noting that it will be slower)\n",
    "DEVICE = \"cuda\""
   ]
  },
  {
   "cell_type": "code",
   "execution_count": 6,
   "id": "653febf7-ef59-4e8b-8ce2-39b4a33c3747",
   "metadata": {},
   "outputs": [
    {
     "name": "stderr",
     "output_type": "stream",
     "text": [
      "Some weights of RobertaForSequenceClassification were not initialized from the model checkpoint at roberta-base and are newly initialized: ['classifier.dense.bias', 'classifier.dense.weight', 'classifier.out_proj.bias', 'classifier.out_proj.weight']\n",
      "You should probably TRAIN this model on a down-stream task to be able to use it for predictions and inference.\n"
     ]
    }
   ],
   "source": [
    "model_name_or_path = 'roberta-base'\n",
    "\"\"\"\n",
    "List of models that we use this class to benchmark:\n",
    "bert-base-cased\n",
    "bert-large-cased\n",
    "roberta-base\n",
    "roberta-large\n",
    "SpanBERT/spanbert-base-cased\n",
    "SpanBERT/spanbert-large-cased\n",
    "microsoft/deberta-v3-base\n",
    "microsoft/deberta-v3-large\n",
    "\"\"\"\n",
    "\n",
    "config_dict = ForecasterTrainingArgument(\n",
    "                    output_dir=\"YOUR_SAVING_DIRECTORY\",\n",
    "                    per_device_batch_size=4,\n",
    "                    gradient_accumulation_steps=1,\n",
    "                    num_train_epochs=4,\n",
    "                    learning_rate=6.7e-6,\n",
    "                    random_seed=1,\n",
    "                    context_mode=\"normal\",\n",
    "                    device=\"cuda\",\n",
    "    )\n",
    "encoder_model = TransformerEncoderModel(model_name_or_path, config=config_dict)\n"
   ]
  },
  {
   "cell_type": "code",
   "execution_count": 7,
   "id": "c971ec31-964b-4df0-a7bb-d064ae62c5a3",
   "metadata": {},
   "outputs": [],
   "source": [
    "encoder_forecaster = Forecaster(encoder_model, \"has_removed_comment\")"
   ]
  },
  {
   "cell_type": "markdown",
   "id": "b840f526-dafd-4022-b5a1-90adecbd1591",
   "metadata": {},
   "source": [
    "## Fine-tune the model using Forecaster.fit\n",
    "\n",
    "And now, just like any other ConvoKit Transformer, model training is done simply by calling `fit` (note how we pass in the selectors we previously defined!)..."
   ]
  },
  {
   "cell_type": "code",
   "execution_count": 8,
   "id": "8590e7b3-f633-4844-baea-18bee961eebd",
   "metadata": {
    "scrolled": true
   },
   "outputs": [
    {
     "name": "stderr",
     "output_type": "stream",
     "text": [
      "Detected kernel version 5.4.0, which is below the recommended minimum of 5.5.0; this can cause the process to hang. It is recommended to upgrade the kernel to the minimum version or higher.\n"
     ]
    },
    {
     "data": {
      "text/html": [
       "\n",
       "    <div>\n",
       "      \n",
       "      <progress value='4108' max='4108' style='width:300px; height:20px; vertical-align: middle;'></progress>\n",
       "      [4108/4108 07:29, Epoch 4/4]\n",
       "    </div>\n",
       "    <table border=\"1\" class=\"dataframe\">\n",
       "  <thead>\n",
       " <tr style=\"text-align: left;\">\n",
       "      <th>Step</th>\n",
       "      <th>Training Loss</th>\n",
       "    </tr>\n",
       "  </thead>\n",
       "  <tbody>\n",
       "    <tr>\n",
       "      <td>1027</td>\n",
       "      <td>0.660000</td>\n",
       "    </tr>\n",
       "    <tr>\n",
       "      <td>2054</td>\n",
       "      <td>0.598500</td>\n",
       "    </tr>\n",
       "    <tr>\n",
       "      <td>3081</td>\n",
       "      <td>0.566800</td>\n",
       "    </tr>\n",
       "    <tr>\n",
       "      <td>4108</td>\n",
       "      <td>0.574900</td>\n",
       "    </tr>\n",
       "  </tbody>\n",
       "</table><p>"
      ],
      "text/plain": [
       "<IPython.core.display.HTML object>"
      ]
     },
     "metadata": {},
     "output_type": "display_data"
    },
    {
     "name": "stderr",
     "output_type": "stream",
     "text": [
      "100%|██████████| 8613/8613 [01:20<00:00, 107.08it/s]\n"
     ]
    },
    {
     "name": "stdout",
     "output_type": "stream",
     "text": [
      "Accuracy: checkpoint-1027 0.6637426900584795\n"
     ]
    },
    {
     "name": "stderr",
     "output_type": "stream",
     "text": [
      "100%|██████████| 8613/8613 [01:20<00:00, 107.50it/s]\n"
     ]
    },
    {
     "name": "stdout",
     "output_type": "stream",
     "text": [
      "Accuracy: checkpoint-2054 0.6710526315789473\n"
     ]
    },
    {
     "name": "stderr",
     "output_type": "stream",
     "text": [
      "100%|██████████| 8613/8613 [01:20<00:00, 106.71it/s]\n"
     ]
    },
    {
     "name": "stdout",
     "output_type": "stream",
     "text": [
      "Accuracy: checkpoint-3081 0.6739766081871345\n"
     ]
    },
    {
     "name": "stderr",
     "output_type": "stream",
     "text": [
      "100%|██████████| 8613/8613 [01:20<00:00, 107.48it/s]\n"
     ]
    },
    {
     "name": "stdout",
     "output_type": "stream",
     "text": [
      "Accuracy: checkpoint-4108 0.6812865497076024\n"
     ]
    },
    {
     "name": "stderr",
     "output_type": "stream",
     "text": [
      "100%|██████████| 8613/8613 [01:19<00:00, 107.89it/s]\n"
     ]
    },
    {
     "name": "stdout",
     "output_type": "stream",
     "text": [
      "Deleting: YOUR_SAVING_DIRECTORY/checkpoint-1027\n",
      "Deleting: YOUR_SAVING_DIRECTORY/checkpoint-2054\n",
      "Deleting: YOUR_SAVING_DIRECTORY/checkpoint-3081\n"
     ]
    },
    {
     "data": {
      "text/plain": [
       "<convokit.forecaster.forecaster.Forecaster at 0x7f570feec280>"
      ]
     },
     "execution_count": 8,
     "metadata": {},
     "output_type": "execute_result"
    }
   ],
   "source": [
    "encoder_forecaster.fit(corpus,\n",
    "                     partial(generic_fit_selector),\n",
    "                     val_context_selector=partial(eval_selector))"
   ]
  },
  {
   "cell_type": "markdown",
   "id": "3238e632-4e1b-4ba1-938a-b9aeef07f0cf",
   "metadata": {},
   "source": [
    "## Run the fitted model on the test set and perform evaluation\n",
    "\n",
    "...and inference is done simply by calling `transform`! (again, note the selector)"
   ]
  },
  {
   "cell_type": "markdown",
   "id": "2d5e34ca",
   "metadata": {},
   "source": [
    "### Normal Model"
   ]
  },
  {
   "cell_type": "code",
   "execution_count": 9,
   "id": "b1a978a8",
   "metadata": {},
   "outputs": [],
   "source": [
    "config_dict = ForecasterTrainingArgument(       # We can remove parameters for training/fine-tuning now.\n",
    "                output_dir=\"YOUR_SAVING_DIRECTORY\",\n",
    "                context_mode=\"normal\",\n",
    "                device=\"cuda\",\n",
    ")\n",
    "config_file = os.path.join(\"YOUR_SAVING_DIRECTORY\", \"dev_config.json\")\n",
    "with open(config_file, 'r') as file:\n",
    "    model_config = json.load(file)\n",
    "normal_model = TransformerEncoderModel(os.path.join(\"YOUR_SAVING_DIRECTORY\", model_config['best_checkpoint']), config=config_dict)\n",
    "normal_model.best_threshold = model_config['best_threshold']\n",
    "normal_bert_forecaster = Forecaster(normal_model, \"has_removed_comment\")"
   ]
  },
  {
   "cell_type": "code",
   "execution_count": 10,
   "id": "4d3e4892-f6ef-4b6f-a9e4-d318f8cb96b9",
   "metadata": {
    "scrolled": true
   },
   "outputs": [
    {
     "name": "stderr",
     "output_type": "stream",
     "text": [
      "100%|██████████| 8466/8466 [01:18<00:00, 107.65it/s]\n"
     ]
    }
   ],
   "source": [
    "corpus = normal_bert_forecaster.transform(corpus, transform_selector)"
   ]
  },
  {
   "cell_type": "markdown",
   "id": "9f517cfb-3a1d-4279-bf09-96695938d30c",
   "metadata": {},
   "source": [
    "Finally, to get a human-readable interpretation of model performance, we can use `summarize` to generate a table of standard performance metrics. It also returns a table of conversation-level predictions in case you want to do more complex analysis!"
   ]
  },
  {
   "cell_type": "code",
   "execution_count": 11,
   "id": "c7fa3d49-39c1-4dd4-9f8e-ca31f421ac5a",
   "metadata": {},
   "outputs": [
    {
     "data": {
      "image/png": "[encoded data removed]",
      "text/plain": [
       "<Figure size 640x480 with 1 Axes>"
      ]
     },
     "metadata": {},
     "output_type": "display_data"
    },
    {
     "name": "stdout",
     "output_type": "stream",
     "text": [
      "Horizon statistics (# of comments between first positive forecast and conversation end):\n",
      "Mean = 3.330677290836653, Median = 3.0\n",
      "Accuracy                                                          0.66886\n",
      "Precision                                                        0.649418\n",
      "Recall                                                           0.733918\n",
      "FPR                                                              0.396199\n",
      "F1                                                               0.689087\n",
      "Mean H                                                           3.330677\n",
      "Correct Adjustment                                               0.075292\n",
      "Incorrect Adjustment                                              0.05117\n",
      "Recovery                                                         0.024123\n",
      "Leaderboard String      | MODEL_NAME     | 66.9   | 64.9  | 73.4 | 68....\n",
      "dtype: object\n"
     ]
    },
    {
     "data": {
      "text/plain": [
       "(                 label     score  forecast  last_utterance_forecast\n",
       " conversation_id                                                    \n",
       " cus26gy              1  0.981455       1.0                      1.0\n",
       " cus37h0              1  0.979289       1.0                      1.0\n",
       " cus142u              0  0.951290       1.0                      0.0\n",
       " cus19ml              0  0.966012       1.0                      0.0\n",
       " cusxft0              1  0.031078       0.0                      0.0\n",
       " ...                ...       ...       ...                      ...\n",
       " e8qli0i              0  0.046534       0.0                      0.0\n",
       " e8qm4aj              0  0.044379       0.0                      0.0\n",
       " e8ql8ii              0  0.937213       1.0                      1.0\n",
       " e8qzjei              1  0.980753       1.0                      1.0\n",
       " e8r00ko              0  0.899094       1.0                      0.0\n",
       " \n",
       " [1368 rows x 4 columns],\n",
       " {'Accuracy': np.float64(0.668859649122807),\n",
       "  'Precision': np.float64(0.6494178525226391),\n",
       "  'Recall': np.float64(0.7339181286549707),\n",
       "  'FPR': np.float64(0.3961988304093567),\n",
       "  'F1': np.float64(0.6890871654083734),\n",
       "  'Mean H': np.float64(3.330677290836653),\n",
       "  'Correct Adjustment': np.float64(0.07529239766081872),\n",
       "  'Incorrect Adjustment': np.float64(0.05116959064327485),\n",
       "  'Recovery': np.float64(0.024122807017543865),\n",
       "  'Leaderboard String': '| MODEL_NAME     | 66.9   | 64.9  | 73.4 | 68.9  | 39.6   | 3.33 | 2.4 (7.5 - 5.1)  |'})"
      ]
     },
     "execution_count": 11,
     "metadata": {},
     "output_type": "execute_result"
    }
   ],
   "source": [
    "normal_bert_forecaster.summarize(corpus, lambda c: c.meta['split'] == \"test\")"
   ]
  },
  {
   "cell_type": "markdown",
   "id": "1abddbd9",
   "metadata": {},
   "source": [
    "### No-Context Model"
   ]
  },
  {
   "cell_type": "markdown",
   "id": "e7c72044",
   "metadata": {},
   "source": [
    "Capturing conversational context and dynamics is a critical aspect of conversational forecast models. To evaluate whether a model possesses this capability, we introduce the No-Context Setting, where models are deprived of access to conversational history. Specifically, instead of providing the full context, we feed only the most recent utterance at each timestamp, removing any contextual information about prior interactions."
   ]
  },
  {
   "cell_type": "code",
   "execution_count": 12,
   "id": "cb7a6c82",
   "metadata": {},
   "outputs": [],
   "source": [
    "config_dict = ForecasterTrainingArgument(\n",
    "                output_dir=\"YOUR_SAVING_DIRECTORY/no-context\",\n",
    "                context_mode=\"no-context\",\n",
    "                device=\"cuda\",\n",
    ")\n",
    "config_file = os.path.join(\"YOUR_SAVING_DIRECTORY\", \"dev_config.json\")\n",
    "with open(config_file, 'r') as file:\n",
    "    model_config = json.load(file)\n",
    "nocontext_model = TransformerEncoderModel(os.path.join(\"YOUR_SAVING_DIRECTORY\", model_config['best_checkpoint']), config=config_dict)\n",
    "nocontext_model.best_threshold = model_config['best_threshold']\n",
    "nocontext_bert_forecaster = Forecaster(nocontext_model, \"has_removed_comment\")"
   ]
  },
  {
   "cell_type": "code",
   "execution_count": 13,
   "id": "2bd36200",
   "metadata": {},
   "outputs": [
    {
     "name": "stderr",
     "output_type": "stream",
     "text": [
      "100%|██████████| 8466/8466 [01:18<00:00, 108.09it/s]\n"
     ]
    }
   ],
   "source": [
    "corpus = nocontext_bert_forecaster.transform(corpus, transform_selector)"
   ]
  },
  {
   "cell_type": "code",
   "execution_count": 14,
   "id": "b5a938e7",
   "metadata": {},
   "outputs": [
    {
     "data": {
      "image/png": "[encoded data removed]",
      "text/plain": [
       "<Figure size 640x480 with 1 Axes>"
      ]
     },
     "metadata": {},
     "output_type": "display_data"
    },
    {
     "name": "stdout",
     "output_type": "stream",
     "text": [
      "Horizon statistics (# of comments between first positive forecast and conversation end):\n",
      "Mean = 3.3398821218074657, Median = 3.0\n",
      "Accuracy                                                         0.662281\n",
      "Precision                                                        0.639447\n",
      "Recall                                                           0.744152\n",
      "FPR                                                              0.419591\n",
      "F1                                                               0.687838\n",
      "Mean H                                                           3.339882\n",
      "Correct Adjustment                                                0.13231\n",
      "Incorrect Adjustment                                             0.164474\n",
      "Recovery                                                        -0.032164\n",
      "Leaderboard String      | MODEL_NAME     | 66.2   | 63.9  | 74.4 | 68....\n",
      "dtype: object\n"
     ]
    },
    {
     "data": {
      "text/plain": [
       "(                 label     score  forecast  last_utterance_forecast\n",
       " conversation_id                                                    \n",
       " cus26gy              1  0.970378       1.0                      0.0\n",
       " cus37h0              1  0.978524       1.0                      0.0\n",
       " cus142u              0  0.832511       1.0                      0.0\n",
       " cus19ml              0  0.966012       1.0                      0.0\n",
       " cusxft0              1  0.212632       0.0                      0.0\n",
       " ...                ...       ...       ...                      ...\n",
       " e8qli0i              0  0.046534       0.0                      0.0\n",
       " e8qm4aj              0  0.044379       0.0                      0.0\n",
       " e8ql8ii              0  0.603942       0.0                      0.0\n",
       " e8qzjei              1  0.980753       1.0                      1.0\n",
       " e8r00ko              0  0.899094       1.0                      0.0\n",
       " \n",
       " [1368 rows x 4 columns],\n",
       " {'Accuracy': np.float64(0.6622807017543859),\n",
       "  'Precision': np.float64(0.6394472361809045),\n",
       "  'Recall': np.float64(0.7441520467836257),\n",
       "  'FPR': np.float64(0.4195906432748538),\n",
       "  'F1': np.float64(0.6878378378378378),\n",
       "  'Mean H': np.float64(3.3398821218074657),\n",
       "  'Correct Adjustment': np.float64(0.13230994152046785),\n",
       "  'Incorrect Adjustment': np.float64(0.16447368421052633),\n",
       "  'Recovery': np.float64(-0.03216374269005848),\n",
       "  'Leaderboard String': '| MODEL_NAME     | 66.2   | 63.9  | 74.4 | 68.8  | 42.0   | 3.34 | -3.2 (13.2 - 16.4)  |'})"
      ]
     },
     "execution_count": 14,
     "metadata": {},
     "output_type": "execute_result"
    }
   ],
   "source": [
    "nocontext_bert_forecaster.summarize(corpus, lambda c: c.meta['split'] == \"test\")"
   ]
  }
 ],
 "metadata": {
  "kernelspec": {
   "display_name": "Python 3 (ipykernel)",
   "language": "python",
   "name": "python3"
  },
  "language_info": {
   "codemirror_mode": {
    "name": "ipython",
    "version": 3
   },
   "file_extension": ".py",
   "mimetype": "text/x-python",
   "name": "python",
   "nbconvert_exporter": "python",
   "pygments_lexer": "ipython3",
   "version": "3.10.16"
  }
 },
 "nbformat": 4,
 "nbformat_minor": 5
}
