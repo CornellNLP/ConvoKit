{
  "cells": [
    {
      "cell_type": "markdown",
      "metadata": {
        "id": "4oXVgykx0Tqn"
      },
      "source": [
        "This tutorial introduces **ConvoKit**: a conversational analysis toolkit that offers:\n",
        "1. A *unified representation* for conversational data\n",
        "2. A *language* for describing *manipulations* of such data\n",
        "\n",
        "In this notebook, we cover the key ideas behind ConvoKit, as well as some of its most commonly used methods and functions. Read our [documentation](https://convokit.cornell.edu/documentation/) for an exhaustive coverage of ConvoKit's classes and functions."
      ]
    },
    {
      "cell_type": "code",
      "execution_count": null,
      "metadata": {
        "colab": {
          "base_uri": "https://localhost:8080/"
        },
        "collapsed": true,
        "id": "9Bk-sOqM0Tqq",
        "outputId": "59456bec-a5d8-4aca-eb08-85abe44ec084"
      },
      "outputs": [],
      "source": [
        "try:\n",
        "    import convokit\n",
        "except ModuleNotFoundError:\n",
        "    !pip install convokit"
      ]
    },
    {
      "cell_type": "code",
      "execution_count": 2,
      "metadata": {
        "id": "EMTbm1UR0Tqs"
      },
      "outputs": [],
      "source": [
        "# for pretty printing of cells within the Colab version of this notebook\n",
        "from IPython.display import HTML, display\n",
        "\n",
        "def set_css(*args, **kwargs):\n",
        "    display(HTML('''\n",
        "    <style>\n",
        "        pre {\n",
        "            white-space: pre-wrap;\n",
        "        }\n",
        "    </style>\n",
        "    '''))\n",
        "\n",
        "get_ipython().events.register('pre_run_cell', set_css)"
      ]
    },
    {
      "cell_type": "code",
      "execution_count": null,
      "metadata": {
        "colab": {
          "base_uri": "https://localhost:8080/",
          "height": 128
        },
        "collapsed": true,
        "id": "Fu-5oHco0Tqt",
        "outputId": "98b3bcbb-d8d6-4a90-8f14-12ba0a74411d"
      },
      "outputs": [],
      "source": [
        "import convokit\n",
        "from convokit import Corpus, download"
      ]
    },
    {
      "cell_type": "markdown",
      "metadata": {
        "id": "OoVKiuZX0Tqu"
      },
      "source": [
        "### Loading a Corpus"
      ]
    },
    {
      "cell_type": "markdown",
      "metadata": {
        "id": "BNcmhNA30Tqu"
      },
      "source": [
        "A Corpus represents a conversational dataset. We typically begin our analysis by loading a Corpus. A list of existing datasets already in ConvoKit format can be found [here](https://convokit.cornell.edu/documentation/datasets.html).\n",
        "\n",
        "A growing list of many other conversational datasets covering a variety of conversational settings are available in ConvoKit, such as face-to-face (e.g. the [*Intelligence Squared Debates corpus*](https://convokit.cornell.edu/documentation/iq2.html)), institutional (e.g. the [*Supreme Court Oral Arguments corpus*](https://convokit.cornell.edu/documentation/supreme.html)), fictional (e.g. the [*Cornell Movie Dialog Corpus*](https://convokit.cornell.edu/documentation/movie.html)), or online  (e.g. all talkpage conversations on [*Wikipedia Talk Pages*](https://convokit.cornell.edu/documentation/wiki.html) and a full dump of [*Reddit*](https://convokit.cornell.edu/documentation/subreddit.html)).\n",
        "\n",
        "For this tutorial, we will primarily be using the *r/Cornell* subreddit corpus to demo various ConvoKit functionality, and occasionally the [*Switchboard Dialog Act Corpus*](https://convokit.cornell.edu/documentation/switchboard.html) (a collection of anonymized five-minute telephone conversations) as a contrasting dataset."
      ]
    },
    {
      "cell_type": "code",
      "execution_count": 4,
      "metadata": {
        "colab": {
          "base_uri": "https://localhost:8080/",
          "height": 165
        },
        "id": "Mhtcdc4Y0Tqv",
        "outputId": "052f1055-e240-4c52-93e5-995a7a947984"
      },
      "outputs": [
        {
          "data": {
            "text/html": [
              "\n",
              "    <style>\n",
              "        pre {\n",
              "            white-space: pre-wrap;\n",
              "        }\n",
              "    </style>\n",
              "    "
            ],
            "text/plain": [
              "<IPython.core.display.HTML object>"
            ]
          },
          "metadata": {},
          "output_type": "display_data"
        },
        {
          "name": "stdout",
          "output_type": "stream",
          "text": [
            "No configuration file found at /root/.convokit/config.yml; writing with contents: \n",
            "# Default Backend Parameters\n",
            "db_host: localhost:27017\n",
            "data_directory: ~/.convokit/saved-corpora\n",
            "model_directory: ~/.convokit/saved-models\n",
            "default_backend: mem\n",
            "Downloading subreddit-Cornell to /root/.convokit/saved-corpora/subreddit-Cornell\n",
            "Downloading subreddit-Cornell from http://zissou.infosci.cornell.edu/convokit/datasets/subreddit-corpus/corpus-zipped/CookingScrewups~-~CrappyDesign/Cornell.corpus.zip (11.2MB)... Done\n"
          ]
        }
      ],
      "source": [
        "corpus = Corpus(download('subreddit-Cornell'))"
      ]
    },
    {
      "cell_type": "code",
      "execution_count": 5,
      "metadata": {
        "colab": {
          "base_uri": "https://localhost:8080/",
          "height": 54
        },
        "id": "4X45YCiY0Tqw",
        "outputId": "fc387e86-17c8-4792-866f-ce422edaf3d4"
      },
      "outputs": [
        {
          "data": {
            "text/html": [
              "\n",
              "    <style>\n",
              "        pre {\n",
              "            white-space: pre-wrap;\n",
              "        }\n",
              "    </style>\n",
              "    "
            ],
            "text/plain": [
              "<IPython.core.display.HTML object>"
            ]
          },
          "metadata": {},
          "output_type": "display_data"
        },
        {
          "name": "stdout",
          "output_type": "stream",
          "text": [
            "Downloading switchboard-corpus to /root/.convokit/saved-corpora/switchboard-corpus\n",
            "Downloading switchboard-corpus from http://zissou.infosci.cornell.edu/convokit/datasets/switchboard-corpus/switchboard-corpus.zip (5.8MB)... Done\n"
          ]
        }
      ],
      "source": [
        "switchboard_corpus = Corpus(download('switchboard-corpus'))"
      ]
    },
    {
      "cell_type": "markdown",
      "metadata": {
        "id": "-DMEPFpr0Tqx"
      },
      "source": [
        "### Corpus components: Conversations, Utterances, Speakers"
      ]
    },
    {
      "cell_type": "markdown",
      "metadata": {
        "id": "rRcTM3sU0Tqy"
      },
      "source": [
        "Every Corpus has three main components: [Conversations](https://convokit.cornell.edu/documentation/conversation.html), [Utterances](https://convokit.cornell.edu/documentation/utterance.html), and [Speakers](https://convokit.cornell.edu/documentation/speaker.html). Just as in real life, in ConvoKit, Conversations are some sequence of Utterances, where each Utterance is made by some Speaker."
      ]
    },
    {
      "cell_type": "code",
      "execution_count": 6,
      "metadata": {
        "colab": {
          "base_uri": "https://localhost:8080/",
          "height": 72
        },
        "id": "YNCHr8No0Tqy",
        "outputId": "e594e439-e369-4afb-9c85-2c16cc239208"
      },
      "outputs": [
        {
          "data": {
            "text/html": [
              "\n",
              "    <style>\n",
              "        pre {\n",
              "            white-space: pre-wrap;\n",
              "        }\n",
              "    </style>\n",
              "    "
            ],
            "text/plain": [
              "<IPython.core.display.HTML object>"
            ]
          },
          "metadata": {},
          "output_type": "display_data"
        },
        {
          "name": "stdout",
          "output_type": "stream",
          "text": [
            "Number of Speakers: 7568\n",
            "Number of Utterances: 74467\n",
            "Number of Conversations: 10744\n"
          ]
        }
      ],
      "source": [
        "corpus.print_summary_stats()"
      ]
    },
    {
      "cell_type": "markdown",
      "metadata": {
        "id": "PpAQ6Auu0Tqz"
      },
      "source": [
        "Each component has a consistent data format, consisting of a set of *primary data fields* and *metadata attributes*."
      ]
    },
    {
      "cell_type": "markdown",
      "metadata": {
        "id": "Okd0J23S0Tqz"
      },
      "source": [
        "**Primary data fields** are for information that is central to every Conversation, Utterance, and Speaker object. This includes IDs for the objects, and for Utterances specifically, there are other fields such as: text, timestamp, reply_to (the ID of the Utterance being responded to)."
      ]
    },
    {
      "cell_type": "code",
      "execution_count": 7,
      "metadata": {
        "colab": {
          "base_uri": "https://localhost:8080/",
          "height": 17
        },
        "id": "vujL7zET0Tq0",
        "outputId": "725c73b3-a7ed-4f00-b221-debbcbd8ec20"
      },
      "outputs": [
        {
          "data": {
            "text/html": [
              "\n",
              "    <style>\n",
              "        pre {\n",
              "            white-space: pre-wrap;\n",
              "        }\n",
              "    </style>\n",
              "    "
            ],
            "text/plain": [
              "<IPython.core.display.HTML object>"
            ]
          },
          "metadata": {},
          "output_type": "display_data"
        }
      ],
      "source": [
        "# Let's see this in a random utterance from the r/Cornell Corpus\n",
        "utt = corpus.random_utterance()"
      ]
    },
    {
      "cell_type": "code",
      "execution_count": 8,
      "metadata": {
        "colab": {
          "base_uri": "https://localhost:8080/",
          "height": 72
        },
        "id": "tKO7Qwcb0Tq0",
        "outputId": "7ea73449-12b7-4c37-e5dc-71ee43334bef"
      },
      "outputs": [
        {
          "data": {
            "text/html": [
              "\n",
              "    <style>\n",
              "        pre {\n",
              "            white-space: pre-wrap;\n",
              "        }\n",
              "    </style>\n",
              "    "
            ],
            "text/plain": [
              "<IPython.core.display.HTML object>"
            ]
          },
          "metadata": {},
          "output_type": "display_data"
        },
        {
          "name": "stdout",
          "output_type": "stream",
          "text": [
            "Utterance(id: '4r96nk', conversation_id: 4r96nk, reply-to: None, speaker: Speaker(id: 'MrJanz32', vectors: [], meta: ConvoKitMeta({})), timestamp: 1467665078, text: \"I have already been enrolled in CHEM 2090 on student centre. There is only one lecture time, so I don't have a choice there. However, I've also been automatically enrolled in the lab. Does anyone know if I can change this lab to a different day when the enrolment period begins?\", vectors: [], meta: ConvoKitMeta({'score': 4, 'top_level_comment': None, 'retrieved_on': 1472926406, 'gilded': 0, 'gildings': None, 'subreddit': 'Cornell', 'stickied': False, 'permalink': '/r/Cornell/comments/4r96nk/preenrolled_in_chem_lab_can_i_change_the_lab_to/', 'author_flair_text': ''}))\n"
          ]
        }
      ],
      "source": [
        "print(utt)"
      ]
    },
    {
      "cell_type": "code",
      "execution_count": 9,
      "metadata": {
        "colab": {
          "base_uri": "https://localhost:8080/",
          "height": 238
        },
        "id": "Mle79QKo0Tq0",
        "outputId": "868adeb5-eaf1-4d3f-9a03-9e4acb999634"
      },
      "outputs": [
        {
          "data": {
            "text/html": [
              "\n",
              "    <style>\n",
              "        pre {\n",
              "            white-space: pre-wrap;\n",
              "        }\n",
              "    </style>\n",
              "    "
            ],
            "text/plain": [
              "<IPython.core.display.HTML object>"
            ]
          },
          "metadata": {},
          "output_type": "display_data"
        },
        {
          "name": "stdout",
          "output_type": "stream",
          "text": [
            "ID: 4r96nk \n",
            "\n",
            "Reply_to: None \n",
            "\n",
            "Timestamp: 1467665078 \n",
            "\n",
            "Text: I have already been enrolled in CHEM 2090 on student centre. There is only one lecture time, so I don't have a choice there. However, I've also been automatically enrolled in the lab. Does anyone know if I can change this lab to a different day when the enrolment period begins? \n",
            "\n",
            "Conversation ID: 4r96nk \n",
            "\n",
            "Speaker ID: MrJanz32\n"
          ]
        }
      ],
      "source": [
        "# primary data fields\n",
        "print(\"ID:\", utt.id, \"\\n\")\n",
        "print(\"Reply_to:\", utt.reply_to, \"\\n\")\n",
        "print(\"Timestamp:\", utt.timestamp, \"\\n\")\n",
        "print(\"Text:\", utt.text, \"\\n\")\n",
        "print(\"Conversation ID:\", utt.conversation_id, \"\\n\")\n",
        "print(\"Speaker ID:\", utt.speaker.id)"
      ]
    },
    {
      "cell_type": "markdown",
      "metadata": {
        "id": "HRPHnhqV0Tq1"
      },
      "source": [
        "**Metadata attributes** are for additional features/labels/annotations for these component objects that might not generalize across corpora. Every component object (i.e. Speaker, Conversation, Utterance) has its own metadata. These can be accessed through the ``.meta`` field of these objects."
      ]
    },
    {
      "cell_type": "code",
      "execution_count": 10,
      "metadata": {
        "colab": {
          "base_uri": "https://localhost:8080/",
          "height": 54
        },
        "id": "b4owDqvu0Tq1",
        "outputId": "3ddca520-590a-43bc-adb0-2ec45ef3e54e"
      },
      "outputs": [
        {
          "data": {
            "text/html": [
              "\n",
              "    <style>\n",
              "        pre {\n",
              "            white-space: pre-wrap;\n",
              "        }\n",
              "    </style>\n",
              "    "
            ],
            "text/plain": [
              "<IPython.core.display.HTML object>"
            ]
          },
          "metadata": {},
          "output_type": "display_data"
        },
        {
          "data": {
            "text/plain": [
              "ConvoKitMeta({'score': 4, 'top_level_comment': None, 'retrieved_on': 1472926406, 'gilded': 0, 'gildings': None, 'subreddit': 'Cornell', 'stickied': False, 'permalink': '/r/Cornell/comments/4r96nk/preenrolled_in_chem_lab_can_i_change_the_lab_to/', 'author_flair_text': ''})"
            ]
          },
          "execution_count": 10,
          "metadata": {},
          "output_type": "execute_result"
        }
      ],
      "source": [
        "utt.meta"
      ]
    },
    {
      "cell_type": "markdown",
      "metadata": {
        "id": "AN5uyyCS0Tq2"
      },
      "source": [
        "For example, we see that Reddit Utterances have Reddit-specific metadata, such as comment score (from upvotes / downvotes) and subreddit this Utterance belongs to."
      ]
    },
    {
      "cell_type": "markdown",
      "metadata": {
        "id": "gaUoXcix0Tq2"
      },
      "source": [
        "Conversations and Utterances have a similar format:"
      ]
    },
    {
      "cell_type": "code",
      "execution_count": 11,
      "metadata": {
        "colab": {
          "base_uri": "https://localhost:8080/",
          "height": 91
        },
        "id": "WvsGI1uy0Tq2",
        "outputId": "a27d8991-b869-4d08-ec66-78b7ceb65671"
      },
      "outputs": [
        {
          "data": {
            "text/html": [
              "\n",
              "    <style>\n",
              "        pre {\n",
              "            white-space: pre-wrap;\n",
              "        }\n",
              "    </style>\n",
              "    "
            ],
            "text/plain": [
              "<IPython.core.display.HTML object>"
            ]
          },
          "metadata": {},
          "output_type": "display_data"
        },
        {
          "name": "stdout",
          "output_type": "stream",
          "text": [
            "Conversation('id': '1rnz81', 'utterances': ['1rnz81', 'cdp7shg', 'cdp8gzh', 'cdp8p70', 'cdp9dsg', 'cdpcy9t', 'cdpdxe0', 'cdpoizq', 'cdpp1ir', 'cdsd0t2', 'cdzviqt', 'ce01p9d'], 'meta': ConvoKitMeta({'title': 'How good is Sprint on the Ithaca campus?', 'num_comments': 9, 'domain': 'self.Cornell', 'timestamp': 1385669830, 'subreddit': 'Cornell', 'gilded': 0, 'gildings': None, 'stickied': False, 'author_flair_text': 'Engineering 2017'}))\n",
            "\n"
          ]
        },
        {
          "data": {
            "text/plain": [
              "ConvoKitMeta({'title': 'How good is Sprint on the Ithaca campus?', 'num_comments': 9, 'domain': 'self.Cornell', 'timestamp': 1385669830, 'subreddit': 'Cornell', 'gilded': 0, 'gildings': None, 'stickied': False, 'author_flair_text': 'Engineering 2017'})"
            ]
          },
          "execution_count": 11,
          "metadata": {},
          "output_type": "execute_result"
        }
      ],
      "source": [
        "convo = corpus.random_conversation()\n",
        "print(convo)\n",
        "print()\n",
        "convo.meta"
      ]
    },
    {
      "cell_type": "code",
      "execution_count": 12,
      "metadata": {
        "colab": {
          "base_uri": "https://localhost:8080/",
          "height": 72
        },
        "id": "BfcjxzOi0Tq2",
        "outputId": "b8766c3a-9804-401e-a4df-ae23415609fc"
      },
      "outputs": [
        {
          "data": {
            "text/html": [
              "\n",
              "    <style>\n",
              "        pre {\n",
              "            white-space: pre-wrap;\n",
              "        }\n",
              "    </style>\n",
              "    "
            ],
            "text/plain": [
              "<IPython.core.display.HTML object>"
            ]
          },
          "metadata": {},
          "output_type": "display_data"
        },
        {
          "name": "stdout",
          "output_type": "stream",
          "text": [
            "Speaker(id: '1229', vectors: [], meta: ConvoKitMeta({'sex': 'FEMALE', 'education': 3, 'birth_year': 1950, 'dialect_area': 'NORTHERN'}))\n",
            "\n"
          ]
        },
        {
          "data": {
            "text/plain": [
              "ConvoKitMeta({'sex': 'FEMALE', 'education': 3, 'birth_year': 1950, 'dialect_area': 'NORTHERN'})"
            ]
          },
          "execution_count": 12,
          "metadata": {},
          "output_type": "execute_result"
        }
      ],
      "source": [
        "# We use Switchboard's speakers as they have more interesting metadata\n",
        "speaker = switchboard_corpus.random_speaker()\n",
        "print(speaker)\n",
        "print()\n",
        "speaker.meta"
      ]
    },
    {
      "cell_type": "markdown",
      "metadata": {
        "id": "Xz2-TH660Tq3"
      },
      "source": [
        "### KEY IDEA: Metadata"
      ]
    },
    {
      "cell_type": "markdown",
      "metadata": {
        "id": "m56K4fMD0Tq3"
      },
      "source": [
        "Every component object has primary data fields -- fields that are fixed and invariable across all corpora.\n",
        "\n",
        "**Metadata** is where you *customize* the Corpus to your use case.\n",
        "\n",
        "When working with your own metadata, you may want to add elements specific to your own dataset. The metadata of each object is a dict-like structure that can be customized according to your needs. As such, you may do things like:\n",
        "\n",
        "- Store the dependency parse of an Utterance\n",
        "- Label a component according to your own categories\n",
        "- List the dialog acts present in a Conversation\n",
        "\n",
        "The **key idea** is that you should think of metadata as a flexible structure for adding any type of additional information that you may need to work with these objects."
      ]
    },
    {
      "cell_type": "code",
      "execution_count": 13,
      "metadata": {
        "colab": {
          "base_uri": "https://localhost:8080/",
          "height": 72
        },
        "id": "DZADmIfM0Tq3",
        "outputId": "18bbef15-5a15-47e2-aaa5-bf26433a74e0"
      },
      "outputs": [
        {
          "data": {
            "text/html": [
              "\n",
              "    <style>\n",
              "        pre {\n",
              "            white-space: pre-wrap;\n",
              "        }\n",
              "    </style>\n",
              "    "
            ],
            "text/plain": [
              "<IPython.core.display.HTML object>"
            ]
          },
          "metadata": {},
          "output_type": "display_data"
        },
        {
          "name": "stdout",
          "output_type": "stream",
          "text": [
            "Downloading diplomacy-corpus to /root/.convokit/saved-corpora/diplomacy-corpus\n",
            "Downloading diplomacy-corpus from http://zissou.infosci.cornell.edu/convokit/datasets/diplomacy-corpus/diplomacy-corpus.zip (1.2MB)... Done\n"
          ]
        },
        {
          "data": {
            "text/plain": [
              "ConvoKitMeta({'speaker_intention': 'Truth', 'receiver_perception': 'Lie', 'receiver': 'italy-Game7', 'absolute_message_index': 724, 'relative_message_index': 32, 'year': '1903', 'game_score': '7', 'game_score_delta': '3', 'deception_quadrant': 'Cassandra'})"
            ]
          },
          "execution_count": 13,
          "metadata": {},
          "output_type": "execute_result"
        }
      ],
      "source": [
        "# Here's an example of a corpus with more sophisticated labels such as speaker intentions and perceptions\n",
        "deception_corpus = Corpus(download('diplomacy-corpus'))\n",
        "deception_corpus.random_utterance().meta"
      ]
    },
    {
      "cell_type": "code",
      "execution_count": 14,
      "metadata": {
        "colab": {
          "base_uri": "https://localhost:8080/",
          "height": 35
        },
        "id": "ijb_sK3M0Tq3",
        "outputId": "2d612255-2c80-4e92-c2a3-e8d57dbbdd6b"
      },
      "outputs": [
        {
          "data": {
            "text/html": [
              "\n",
              "    <style>\n",
              "        pre {\n",
              "            white-space: pre-wrap;\n",
              "        }\n",
              "    </style>\n",
              "    "
            ],
            "text/plain": [
              "<IPython.core.display.HTML object>"
            ]
          },
          "metadata": {},
          "output_type": "display_data"
        },
        {
          "data": {
            "text/plain": [
              "ConvoKitMeta({'tag': [[\"That's interesting,  /\", 'ba'], ['I went to a smaller school,', 'sd']]})"
            ]
          },
          "execution_count": 14,
          "metadata": {},
          "output_type": "execute_result"
        }
      ],
      "source": [
        "# Another example is Switchboard, which has utterances with a list of [text segment, tag] pairs,\n",
        "# where tag refers to the DAMSL speech act tag.\n",
        "switchboard_corpus.random_utterance().meta"
      ]
    },
    {
      "cell_type": "code",
      "execution_count": 15,
      "metadata": {
        "colab": {
          "base_uri": "https://localhost:8080/",
          "height": 54
        },
        "id": "mpBK3LI90Tq4",
        "outputId": "aafd2139-3450-4146-fe25-3f265a1d5427"
      },
      "outputs": [
        {
          "data": {
            "text/html": [
              "\n",
              "    <style>\n",
              "        pre {\n",
              "            white-space: pre-wrap;\n",
              "        }\n",
              "    </style>\n",
              "    "
            ],
            "text/plain": [
              "<IPython.core.display.HTML object>"
            ]
          },
          "metadata": {},
          "output_type": "display_data"
        },
        {
          "data": {
            "text/plain": [
              "ConvoKitMeta({'score': 4, 'top_level_comment': None, 'retrieved_on': 1472926406, 'gilded': 0, 'gildings': None, 'subreddit': 'Cornell', 'stickied': False, 'permalink': '/r/Cornell/comments/4r96nk/preenrolled_in_chem_lab_can_i_change_the_lab_to/', 'author_flair_text': '', 'dialog_acts': ['question', 'request']})"
            ]
          },
          "execution_count": 15,
          "metadata": {},
          "output_type": "execute_result"
        }
      ],
      "source": [
        "# How to add metadata\n",
        "utt.meta['dialog_acts'] = ['question', 'request']\n",
        "utt.meta"
      ]
    },
    {
      "cell_type": "code",
      "execution_count": 16,
      "metadata": {
        "colab": {
          "base_uri": "https://localhost:8080/",
          "height": 54
        },
        "id": "aFuJBlHK0Tq4",
        "outputId": "b390d670-420a-4a02-9194-2b795977dd6b"
      },
      "outputs": [
        {
          "data": {
            "text/html": [
              "\n",
              "    <style>\n",
              "        pre {\n",
              "            white-space: pre-wrap;\n",
              "        }\n",
              "    </style>\n",
              "    "
            ],
            "text/plain": [
              "<IPython.core.display.HTML object>"
            ]
          },
          "metadata": {},
          "output_type": "display_data"
        },
        {
          "data": {
            "text/plain": [
              "ConvoKitMeta({'title': 'How good is Sprint on the Ithaca campus?', 'num_comments': 9, 'domain': 'self.Cornell', 'timestamp': 1385669830, 'subreddit': 'Cornell', 'gilded': 0, 'gildings': None, 'stickied': False, 'author_flair_text': 'Engineering 2017', 'toxicity_score': 5})"
            ]
          },
          "execution_count": 16,
          "metadata": {},
          "output_type": "execute_result"
        }
      ],
      "source": [
        "# This is an equivalent way of adding metadata\n",
        "convo.add_meta('toxicity_score', 5)\n",
        "convo.meta"
      ]
    },
    {
      "cell_type": "markdown",
      "metadata": {
        "id": "GU4YD6YK0Tq4"
      },
      "source": [
        "What if you would like to add metadata for all your Corpus components in a systematic way? You could iterate through the Corpus components and add the metadata accordingly, or you could apply a Transformer to the corpus. We will explain how to do iteration and the concept of a Transformer later on in this notebook."
      ]
    },
    {
      "cell_type": "markdown",
      "metadata": {
        "id": "lCAPKlCp0Tq4"
      },
      "source": [
        "#### Vectors in ConvoKit"
      ]
    },
    {
      "cell_type": "markdown",
      "metadata": {
        "id": "OdzgbvAk0Tq4"
      },
      "source": [
        "Vector data is also easy to use in ConvoKit and we provide first-class support for integrating vector data with Corpus components. Read our [introduction to vectors in ConvoKit](https://github.com/CornellNLP/ConvoKit/blob/master/examples/vectors/vector_demo.ipynb) for more details."
      ]
    },
    {
      "cell_type": "markdown",
      "metadata": {
        "id": "GdMtFZ7s0Tq5"
      },
      "source": [
        "### What else can we do with the Corpus object?"
      ]
    },
    {
      "cell_type": "markdown",
      "metadata": {
        "id": "_vfhVqJQ0Tq5"
      },
      "source": [
        "#### Fetching components by ID"
      ]
    },
    {
      "cell_type": "code",
      "execution_count": 17,
      "metadata": {
        "colab": {
          "base_uri": "https://localhost:8080/",
          "height": 35
        },
        "id": "v2MdzmM10Tq5",
        "outputId": "9cc40299-1413-401f-8dc4-a03b3a5d9164",
        "scrolled": true
      },
      "outputs": [
        {
          "data": {
            "text/html": [
              "\n",
              "    <style>\n",
              "        pre {\n",
              "            white-space: pre-wrap;\n",
              "        }\n",
              "    </style>\n",
              "    "
            ],
            "text/plain": [
              "<IPython.core.display.HTML object>"
            ]
          },
          "metadata": {},
          "output_type": "display_data"
        },
        {
          "data": {
            "text/plain": [
              "Speaker({'obj_type': 'speaker', 'vectors': [], 'owner': <convokit.model.corpus.Corpus object at 0x7af3ce936150>, 'id': 'ulysses2014', 'meta': ConvoKitMeta({})})"
            ]
          },
          "execution_count": 17,
          "metadata": {},
          "output_type": "execute_result"
        }
      ],
      "source": [
        "# We can fetch individual objects by ID\n",
        "corpus.get_speaker('ulysses2014')\n",
        "# corpus.get_conversation('7bir0w')\n",
        "# corpus.get_utterance('dsyd46r')"
      ]
    },
    {
      "cell_type": "code",
      "execution_count": 18,
      "metadata": {
        "colab": {
          "base_uri": "https://localhost:8080/",
          "height": 35
        },
        "id": "jDigR6G70Tq5",
        "outputId": "529f0445-b5fe-400b-b739-594b2813309e"
      },
      "outputs": [
        {
          "data": {
            "text/html": [
              "\n",
              "    <style>\n",
              "        pre {\n",
              "            white-space: pre-wrap;\n",
              "        }\n",
              "    </style>\n",
              "    "
            ],
            "text/plain": [
              "<IPython.core.display.HTML object>"
            ]
          },
          "metadata": {},
          "output_type": "display_data"
        },
        {
          "data": {
            "text/plain": [
              "True"
            ]
          },
          "execution_count": 18,
          "metadata": {},
          "output_type": "execute_result"
        }
      ],
      "source": [
        "# We can check if the Corpus contains an object with a specified ID\n",
        "corpus.has_speaker('ulysses2014')\n",
        "# corpus.has_conversation('7bir0w')\n",
        "# corpus.has_utterance('dsyd46r')"
      ]
    },
    {
      "cell_type": "code",
      "execution_count": 19,
      "metadata": {
        "colab": {
          "base_uri": "https://localhost:8080/",
          "height": 54
        },
        "id": "rVa0r_T60Tq6",
        "outputId": "f8e65055-9ef0-4956-d154-abccbaa4c40a"
      },
      "outputs": [
        {
          "data": {
            "text/html": [
              "\n",
              "    <style>\n",
              "        pre {\n",
              "            white-space: pre-wrap;\n",
              "        }\n",
              "    </style>\n",
              "    "
            ],
            "text/plain": [
              "<IPython.core.display.HTML object>"
            ]
          },
          "metadata": {},
          "output_type": "display_data"
        },
        {
          "data": {
            "text/plain": [
              "ConvoKitMeta({'filename': './swda/sw09utt/sw_0975_3009.utt.csv', 'talk_day': '1991-6-4', 'topic_description': 'CHILD CARE', 'length': 7, 'prompt': 'FIND OUT WHAT CRITERIA THE OTHER CALLER WOULD USE IN SELECTING CHILD CARE SERVICES FOR A PRESCHOOLER.  IS IT EASY OR DIFFICULT TO FIND SUCH CARE?', 'from_caller': '1120', 'to_caller': '1204'})"
            ]
          },
          "execution_count": 19,
          "metadata": {},
          "output_type": "execute_result"
        }
      ],
      "source": [
        "switchboard_corpus.random_conversation().meta"
      ]
    },
    {
      "cell_type": "code",
      "execution_count": 20,
      "metadata": {
        "colab": {
          "base_uri": "https://localhost:8080/",
          "height": 35
        },
        "id": "QeyMdB1W0Tq6",
        "outputId": "16b2930d-7ecf-4814-efb3-0a12d72b3bf7"
      },
      "outputs": [
        {
          "data": {
            "text/html": [
              "\n",
              "    <style>\n",
              "        pre {\n",
              "            white-space: pre-wrap;\n",
              "        }\n",
              "    </style>\n",
              "    "
            ],
            "text/plain": [
              "<IPython.core.display.HTML object>"
            ]
          },
          "metadata": {},
          "output_type": "display_data"
        },
        {
          "data": {
            "text/plain": [
              "ConvoKitMeta({'sex': 'FEMALE', 'education': 2, 'birth_year': 1949, 'dialect_area': 'SOUTH MIDLAND'})"
            ]
          },
          "execution_count": 20,
          "metadata": {},
          "output_type": "execute_result"
        }
      ],
      "source": [
        "switchboard_corpus.random_speaker().meta"
      ]
    },
    {
      "cell_type": "code",
      "execution_count": 21,
      "metadata": {
        "colab": {
          "base_uri": "https://localhost:8080/",
          "height": 35
        },
        "id": "B9v-2Eyc0Tq6",
        "outputId": "cc543b5c-ed17-40b2-aa33-785e48c4ca16"
      },
      "outputs": [
        {
          "data": {
            "text/html": [
              "\n",
              "    <style>\n",
              "        pre {\n",
              "            white-space: pre-wrap;\n",
              "        }\n",
              "    </style>\n",
              "    "
            ],
            "text/plain": [
              "<IPython.core.display.HTML object>"
            ]
          },
          "metadata": {},
          "output_type": "display_data"
        },
        {
          "data": {
            "text/plain": [
              "ConvoKitMeta({'tag': [[\"-- [ you haven't, +  you haven't ]  pulled any weeds lately? /\", '+']]})"
            ]
          },
          "execution_count": 21,
          "metadata": {},
          "output_type": "execute_result"
        }
      ],
      "source": [
        "switchboard_corpus.random_utterance().meta"
      ]
    },
    {
      "cell_type": "code",
      "execution_count": 22,
      "metadata": {
        "colab": {
          "base_uri": "https://localhost:8080/",
          "height": 72
        },
        "id": "YLnUNPEb0Tq6",
        "outputId": "847270f0-6cc9-4413-feb9-9c0295a428f6"
      },
      "outputs": [
        {
          "data": {
            "text/html": [
              "\n",
              "    <style>\n",
              "        pre {\n",
              "            white-space: pre-wrap;\n",
              "        }\n",
              "    </style>\n",
              "    "
            ],
            "text/plain": [
              "<IPython.core.display.HTML object>"
            ]
          },
          "metadata": {},
          "output_type": "display_data"
        },
        {
          "name": "stdout",
          "output_type": "stream",
          "text": [
            "Number of Speakers: 440\n",
            "Number of Utterances: 122646\n",
            "Number of Conversations: 1155\n"
          ]
        }
      ],
      "source": [
        "switchboard_corpus.print_summary_stats()"
      ]
    },
    {
      "cell_type": "markdown",
      "metadata": {
        "id": "pag5Bwt00Tq_"
      },
      "source": [
        "#### Iterating through Corpus components"
      ]
    },
    {
      "cell_type": "markdown",
      "metadata": {
        "id": "XIkfYlc-0Tq_"
      },
      "source": [
        "We can iterate through any of these components, though we exit the for-loop early here to avoid excessive output:"
      ]
    },
    {
      "cell_type": "code",
      "execution_count": 23,
      "metadata": {
        "colab": {
          "base_uri": "https://localhost:8080/",
          "height": 72
        },
        "id": "83Anv-AW0Tq_",
        "outputId": "95755ac9-5903-461f-a5e2-9555116405e2"
      },
      "outputs": [
        {
          "data": {
            "text/html": [
              "\n",
              "    <style>\n",
              "        pre {\n",
              "            white-space: pre-wrap;\n",
              "        }\n",
              "    </style>\n",
              "    "
            ],
            "text/plain": [
              "<IPython.core.display.HTML object>"
            ]
          },
          "metadata": {},
          "output_type": "display_data"
        },
        {
          "name": "stdout",
          "output_type": "stream",
          "text": [
            "I was just reading about the Princeton Mic-Check and it's getting [national press](http://www.bloomberg.com/news/2011-12-29/princeton-brews-trouble-for-us-1-percenters-commentary-by-michael-lewis.html).\n",
            "\n",
            "I want to get a sense of what people felt like around campus. Anything interesting happen? Anything interesting coming up?\n"
          ]
        }
      ],
      "source": [
        "for utt in corpus.iter_utterances():\n",
        "    print(utt.text)\n",
        "    break"
      ]
    },
    {
      "cell_type": "code",
      "execution_count": 24,
      "metadata": {
        "colab": {
          "base_uri": "https://localhost:8080/",
          "height": 35
        },
        "id": "kFP8jHC50Tq_",
        "outputId": "ca843e9d-cd27-4d71-89b6-4df3b59db4db"
      },
      "outputs": [
        {
          "data": {
            "text/html": [
              "\n",
              "    <style>\n",
              "        pre {\n",
              "            white-space: pre-wrap;\n",
              "        }\n",
              "    </style>\n",
              "    "
            ],
            "text/plain": [
              "<IPython.core.display.HTML object>"
            ]
          },
          "metadata": {},
          "output_type": "display_data"
        },
        {
          "name": "stdout",
          "output_type": "stream",
          "text": [
            "1\n"
          ]
        }
      ],
      "source": [
        "for convo in corpus.iter_conversations():\n",
        "    print(convo.meta['num_comments'])\n",
        "    break"
      ]
    },
    {
      "cell_type": "code",
      "execution_count": 25,
      "metadata": {
        "colab": {
          "base_uri": "https://localhost:8080/",
          "height": 35
        },
        "id": "sCGeZhgr0Tq_",
        "outputId": "59923cfd-3235-4d56-bafd-06a59ac4442c"
      },
      "outputs": [
        {
          "data": {
            "text/html": [
              "\n",
              "    <style>\n",
              "        pre {\n",
              "            white-space: pre-wrap;\n",
              "        }\n",
              "    </style>\n",
              "    "
            ],
            "text/plain": [
              "<IPython.core.display.HTML object>"
            ]
          },
          "metadata": {},
          "output_type": "display_data"
        },
        {
          "name": "stdout",
          "output_type": "stream",
          "text": [
            "reddmau5\n"
          ]
        }
      ],
      "source": [
        "for speaker in corpus.iter_speakers():\n",
        "    print(speaker.id)\n",
        "    break"
      ]
    },
    {
      "cell_type": "markdown",
      "metadata": {
        "id": "3WZljkn20TrA"
      },
      "source": [
        "#### Generating component DataFrames"
      ]
    },
    {
      "cell_type": "code",
      "execution_count": 26,
      "metadata": {
        "colab": {
          "base_uri": "https://localhost:8080/",
          "height": 237
        },
        "id": "RUMQkNd_0TrA",
        "outputId": "08598b3d-195e-4628-f7be-5545c91de3c7"
      },
      "outputs": [
        {
          "data": {
            "text/html": [
              "\n",
              "    <style>\n",
              "        pre {\n",
              "            white-space: pre-wrap;\n",
              "        }\n",
              "    </style>\n",
              "    "
            ],
            "text/plain": [
              "<IPython.core.display.HTML object>"
            ]
          },
          "metadata": {},
          "output_type": "display_data"
        },
        {
          "data": {
            "application/vnd.google.colaboratory.intrinsic+json": {
              "summary": "{\n  \"name\": \"# corpus\",\n  \"rows\": 5,\n  \"fields\": [\n    {\n      \"column\": \"id\",\n      \"properties\": {\n        \"dtype\": \"string\",\n        \"num_unique_values\": 5,\n        \"samples\": [\n          \"1632\",\n          \"1564\",\n          \"1597\"\n        ],\n        \"semantic_type\": \"\",\n        \"description\": \"\"\n      }\n    },\n    {\n      \"column\": \"vectors\",\n      \"properties\": {\n        \"dtype\": \"object\",\n        \"semantic_type\": \"\",\n        \"description\": \"\"\n      }\n    },\n    {\n      \"column\": \"meta.sex\",\n      \"properties\": {\n        \"dtype\": \"category\",\n        \"num_unique_values\": 2,\n        \"samples\": [\n          \"MALE\",\n          \"FEMALE\"\n        ],\n        \"semantic_type\": \"\",\n        \"description\": \"\"\n      }\n    },\n    {\n      \"column\": \"meta.education\",\n      \"properties\": {\n        \"dtype\": \"date\",\n        \"min\": 1,\n        \"max\": 3,\n        \"num_unique_values\": 3,\n        \"samples\": [\n          1,\n          2\n        ],\n        \"semantic_type\": \"\",\n        \"description\": \"\"\n      }\n    },\n    {\n      \"column\": \"meta.birth_year\",\n      \"properties\": {\n        \"dtype\": \"date\",\n        \"min\": 1952,\n        \"max\": 1971,\n        \"num_unique_values\": 4,\n        \"samples\": [\n          1962,\n          1952\n        ],\n        \"semantic_type\": \"\",\n        \"description\": \"\"\n      }\n    },\n    {\n      \"column\": \"meta.dialect_area\",\n      \"properties\": {\n        \"dtype\": \"string\",\n        \"num_unique_values\": 3,\n        \"samples\": [\n          \"SOUTH MIDLAND\",\n          \"WESTERN\"\n        ],\n        \"semantic_type\": \"\",\n        \"description\": \"\"\n      }\n    }\n  ]\n}",
              "type": "dataframe"
            },
            "text/html": [
              "\n",
              "  <div id=\"df-383bbc5d-84e5-4d42-80a7-486205e53c1c\" class=\"colab-df-container\">\n",
              "    <div>\n",
              "<style scoped>\n",
              "    .dataframe tbody tr th:only-of-type {\n",
              "        vertical-align: middle;\n",
              "    }\n",
              "\n",
              "    .dataframe tbody tr th {\n",
              "        vertical-align: top;\n",
              "    }\n",
              "\n",
              "    .dataframe thead th {\n",
              "        text-align: right;\n",
              "    }\n",
              "</style>\n",
              "<table border=\"1\" class=\"dataframe\">\n",
              "  <thead>\n",
              "    <tr style=\"text-align: right;\">\n",
              "      <th></th>\n",
              "      <th>vectors</th>\n",
              "      <th>meta.sex</th>\n",
              "      <th>meta.education</th>\n",
              "      <th>meta.birth_year</th>\n",
              "      <th>meta.dialect_area</th>\n",
              "    </tr>\n",
              "    <tr>\n",
              "      <th>id</th>\n",
              "      <th></th>\n",
              "      <th></th>\n",
              "      <th></th>\n",
              "      <th></th>\n",
              "      <th></th>\n",
              "    </tr>\n",
              "  </thead>\n",
              "  <tbody>\n",
              "    <tr>\n",
              "      <th>1519</th>\n",
              "      <td>[]</td>\n",
              "      <td>FEMALE</td>\n",
              "      <td>1</td>\n",
              "      <td>1971</td>\n",
              "      <td>SOUTH MIDLAND</td>\n",
              "    </tr>\n",
              "    <tr>\n",
              "      <th>1632</th>\n",
              "      <td>[]</td>\n",
              "      <td>FEMALE</td>\n",
              "      <td>2</td>\n",
              "      <td>1962</td>\n",
              "      <td>WESTERN</td>\n",
              "    </tr>\n",
              "    <tr>\n",
              "      <th>1597</th>\n",
              "      <td>[]</td>\n",
              "      <td>MALE</td>\n",
              "      <td>3</td>\n",
              "      <td>1962</td>\n",
              "      <td>WESTERN</td>\n",
              "    </tr>\n",
              "    <tr>\n",
              "      <th>1635</th>\n",
              "      <td>[]</td>\n",
              "      <td>FEMALE</td>\n",
              "      <td>2</td>\n",
              "      <td>1965</td>\n",
              "      <td>NORTHERN</td>\n",
              "    </tr>\n",
              "    <tr>\n",
              "      <th>1564</th>\n",
              "      <td>[]</td>\n",
              "      <td>MALE</td>\n",
              "      <td>3</td>\n",
              "      <td>1952</td>\n",
              "      <td>NORTHERN</td>\n",
              "    </tr>\n",
              "  </tbody>\n",
              "</table>\n",
              "</div>\n",
              "    <div class=\"colab-df-buttons\">\n",
              "\n",
              "  <div class=\"colab-df-container\">\n",
              "    <button class=\"colab-df-convert\" onclick=\"convertToInteractive('df-383bbc5d-84e5-4d42-80a7-486205e53c1c')\"\n",
              "            title=\"Convert this dataframe to an interactive table.\"\n",
              "            style=\"display:none;\">\n",
              "\n",
              "  <svg xmlns=\"http://www.w3.org/2000/svg\" height=\"24px\" viewBox=\"0 -960 960 960\">\n",
              "    <path d=\"M120-120v-720h720v720H120Zm60-500h600v-160H180v160Zm220 220h160v-160H400v160Zm0 220h160v-160H400v160ZM180-400h160v-160H180v160Zm440 0h160v-160H620v160ZM180-180h160v-160H180v160Zm440 0h160v-160H620v160Z\"/>\n",
              "  </svg>\n",
              "    </button>\n",
              "\n",
              "  <style>\n",
              "    .colab-df-container {\n",
              "      display:flex;\n",
              "      gap: 12px;\n",
              "    }\n",
              "\n",
              "    .colab-df-convert {\n",
              "      background-color: #E8F0FE;\n",
              "      border: none;\n",
              "      border-radius: 50%;\n",
              "      cursor: pointer;\n",
              "      display: none;\n",
              "      fill: #1967D2;\n",
              "      height: 32px;\n",
              "      padding: 0 0 0 0;\n",
              "      width: 32px;\n",
              "    }\n",
              "\n",
              "    .colab-df-convert:hover {\n",
              "      background-color: #E2EBFA;\n",
              "      box-shadow: 0px 1px 2px rgba(60, 64, 67, 0.3), 0px 1px 3px 1px rgba(60, 64, 67, 0.15);\n",
              "      fill: #174EA6;\n",
              "    }\n",
              "\n",
              "    .colab-df-buttons div {\n",
              "      margin-bottom: 4px;\n",
              "    }\n",
              "\n",
              "    [theme=dark] .colab-df-convert {\n",
              "      background-color: #3B4455;\n",
              "      fill: #D2E3FC;\n",
              "    }\n",
              "\n",
              "    [theme=dark] .colab-df-convert:hover {\n",
              "      background-color: #434B5C;\n",
              "      box-shadow: 0px 1px 3px 1px rgba(0, 0, 0, 0.15);\n",
              "      filter: drop-shadow(0px 1px 2px rgba(0, 0, 0, 0.3));\n",
              "      fill: #FFFFFF;\n",
              "    }\n",
              "  </style>\n",
              "\n",
              "    <script>\n",
              "      const buttonEl =\n",
              "        document.querySelector('#df-383bbc5d-84e5-4d42-80a7-486205e53c1c button.colab-df-convert');\n",
              "      buttonEl.style.display =\n",
              "        google.colab.kernel.accessAllowed ? 'block' : 'none';\n",
              "\n",
              "      async function convertToInteractive(key) {\n",
              "        const element = document.querySelector('#df-383bbc5d-84e5-4d42-80a7-486205e53c1c');\n",
              "        const dataTable =\n",
              "          await google.colab.kernel.invokeFunction('convertToInteractive',\n",
              "                                                    [key], {});\n",
              "        if (!dataTable) return;\n",
              "\n",
              "        const docLinkHtml = 'Like what you see? Visit the ' +\n",
              "          '<a target=\"_blank\" href=https://colab.research.google.com/notebooks/data_table.ipynb>data table notebook</a>'\n",
              "          + ' to learn more about interactive tables.';\n",
              "        element.innerHTML = '';\n",
              "        dataTable['output_type'] = 'display_data';\n",
              "        await google.colab.output.renderOutput(dataTable, element);\n",
              "        const docLink = document.createElement('div');\n",
              "        docLink.innerHTML = docLinkHtml;\n",
              "        element.appendChild(docLink);\n",
              "      }\n",
              "    </script>\n",
              "  </div>\n",
              "\n",
              "\n",
              "    <div id=\"df-24cd783f-a7a6-4839-9d27-17e50b56f31e\">\n",
              "      <button class=\"colab-df-quickchart\" onclick=\"quickchart('df-24cd783f-a7a6-4839-9d27-17e50b56f31e')\"\n",
              "                title=\"Suggest charts\"\n",
              "                style=\"display:none;\">\n",
              "\n",
              "<svg xmlns=\"http://www.w3.org/2000/svg\" height=\"24px\"viewBox=\"0 0 24 24\"\n",
              "     width=\"24px\">\n",
              "    <g>\n",
              "        <path d=\"M19 3H5c-1.1 0-2 .9-2 2v14c0 1.1.9 2 2 2h14c1.1 0 2-.9 2-2V5c0-1.1-.9-2-2-2zM9 17H7v-7h2v7zm4 0h-2V7h2v10zm4 0h-2v-4h2v4z\"/>\n",
              "    </g>\n",
              "</svg>\n",
              "      </button>\n",
              "\n",
              "<style>\n",
              "  .colab-df-quickchart {\n",
              "      --bg-color: #E8F0FE;\n",
              "      --fill-color: #1967D2;\n",
              "      --hover-bg-color: #E2EBFA;\n",
              "      --hover-fill-color: #174EA6;\n",
              "      --disabled-fill-color: #AAA;\n",
              "      --disabled-bg-color: #DDD;\n",
              "  }\n",
              "\n",
              "  [theme=dark] .colab-df-quickchart {\n",
              "      --bg-color: #3B4455;\n",
              "      --fill-color: #D2E3FC;\n",
              "      --hover-bg-color: #434B5C;\n",
              "      --hover-fill-color: #FFFFFF;\n",
              "      --disabled-bg-color: #3B4455;\n",
              "      --disabled-fill-color: #666;\n",
              "  }\n",
              "\n",
              "  .colab-df-quickchart {\n",
              "    background-color: var(--bg-color);\n",
              "    border: none;\n",
              "    border-radius: 50%;\n",
              "    cursor: pointer;\n",
              "    display: none;\n",
              "    fill: var(--fill-color);\n",
              "    height: 32px;\n",
              "    padding: 0;\n",
              "    width: 32px;\n",
              "  }\n",
              "\n",
              "  .colab-df-quickchart:hover {\n",
              "    background-color: var(--hover-bg-color);\n",
              "    box-shadow: 0 1px 2px rgba(60, 64, 67, 0.3), 0 1px 3px 1px rgba(60, 64, 67, 0.15);\n",
              "    fill: var(--button-hover-fill-color);\n",
              "  }\n",
              "\n",
              "  .colab-df-quickchart-complete:disabled,\n",
              "  .colab-df-quickchart-complete:disabled:hover {\n",
              "    background-color: var(--disabled-bg-color);\n",
              "    fill: var(--disabled-fill-color);\n",
              "    box-shadow: none;\n",
              "  }\n",
              "\n",
              "  .colab-df-spinner {\n",
              "    border: 2px solid var(--fill-color);\n",
              "    border-color: transparent;\n",
              "    border-bottom-color: var(--fill-color);\n",
              "    animation:\n",
              "      spin 1s steps(1) infinite;\n",
              "  }\n",
              "\n",
              "  @keyframes spin {\n",
              "    0% {\n",
              "      border-color: transparent;\n",
              "      border-bottom-color: var(--fill-color);\n",
              "      border-left-color: var(--fill-color);\n",
              "    }\n",
              "    20% {\n",
              "      border-color: transparent;\n",
              "      border-left-color: var(--fill-color);\n",
              "      border-top-color: var(--fill-color);\n",
              "    }\n",
              "    30% {\n",
              "      border-color: transparent;\n",
              "      border-left-color: var(--fill-color);\n",
              "      border-top-color: var(--fill-color);\n",
              "      border-right-color: var(--fill-color);\n",
              "    }\n",
              "    40% {\n",
              "      border-color: transparent;\n",
              "      border-right-color: var(--fill-color);\n",
              "      border-top-color: var(--fill-color);\n",
              "    }\n",
              "    60% {\n",
              "      border-color: transparent;\n",
              "      border-right-color: var(--fill-color);\n",
              "    }\n",
              "    80% {\n",
              "      border-color: transparent;\n",
              "      border-right-color: var(--fill-color);\n",
              "      border-bottom-color: var(--fill-color);\n",
              "    }\n",
              "    90% {\n",
              "      border-color: transparent;\n",
              "      border-bottom-color: var(--fill-color);\n",
              "    }\n",
              "  }\n",
              "</style>\n",
              "\n",
              "      <script>\n",
              "        async function quickchart(key) {\n",
              "          const quickchartButtonEl =\n",
              "            document.querySelector('#' + key + ' button');\n",
              "          quickchartButtonEl.disabled = true;  // To prevent multiple clicks.\n",
              "          quickchartButtonEl.classList.add('colab-df-spinner');\n",
              "          try {\n",
              "            const charts = await google.colab.kernel.invokeFunction(\n",
              "                'suggestCharts', [key], {});\n",
              "          } catch (error) {\n",
              "            console.error('Error during call to suggestCharts:', error);\n",
              "          }\n",
              "          quickchartButtonEl.classList.remove('colab-df-spinner');\n",
              "          quickchartButtonEl.classList.add('colab-df-quickchart-complete');\n",
              "        }\n",
              "        (() => {\n",
              "          let quickchartButtonEl =\n",
              "            document.querySelector('#df-24cd783f-a7a6-4839-9d27-17e50b56f31e button');\n",
              "          quickchartButtonEl.style.display =\n",
              "            google.colab.kernel.accessAllowed ? 'block' : 'none';\n",
              "        })();\n",
              "      </script>\n",
              "    </div>\n",
              "\n",
              "    </div>\n",
              "  </div>\n"
            ],
            "text/plain": [
              "     vectors meta.sex meta.education meta.birth_year meta.dialect_area\n",
              "id                                                                    \n",
              "1519      []   FEMALE              1            1971     SOUTH MIDLAND\n",
              "1632      []   FEMALE              2            1962           WESTERN\n",
              "1597      []     MALE              3            1962           WESTERN\n",
              "1635      []   FEMALE              2            1965          NORTHERN\n",
              "1564      []     MALE              3            1952          NORTHERN"
            ]
          },
          "execution_count": 26,
          "metadata": {},
          "output_type": "execute_result"
        }
      ],
      "source": [
        "# We can even generate dataframes of each component\n",
        "switchboard_corpus.get_speakers_dataframe().head()\n",
        "# corpus.get_utterances_dataframe()\n",
        "# corpus.get_conversations_dataframe()"
      ]
    },
    {
      "cell_type": "markdown",
      "metadata": {
        "id": "6NqDnpab0TrA"
      },
      "source": [
        "### Component functionality"
      ]
    },
    {
      "cell_type": "markdown",
      "metadata": {
        "id": "hlY7YCg40TrA"
      },
      "source": [
        "Each component object comes with its own set of methods and functions to enable data exploration and higher-level analyses."
      ]
    },
    {
      "cell_type": "markdown",
      "metadata": {
        "id": "DrSkGCUU0TrB"
      },
      "source": [
        "#### Inter-operability between components"
      ]
    },
    {
      "cell_type": "markdown",
      "metadata": {
        "id": "vvgI2Ji20TrB"
      },
      "source": [
        "Each Conversation, Utterance, Speaker belongs to a single Corpus object. In addition, ConvoKit has been purposefully designed such that it is straightforward to navigate between these different components."
      ]
    },
    {
      "cell_type": "code",
      "execution_count": 27,
      "metadata": {
        "colab": {
          "base_uri": "https://localhost:8080/",
          "height": 17
        },
        "id": "1q9ajKsZ0TrB",
        "outputId": "2a4999a8-dc1e-4d0d-ca68-9113f11d2d83"
      },
      "outputs": [
        {
          "data": {
            "text/html": [
              "\n",
              "    <style>\n",
              "        pre {\n",
              "            white-space: pre-wrap;\n",
              "        }\n",
              "    </style>\n",
              "    "
            ],
            "text/plain": [
              "<IPython.core.display.HTML object>"
            ]
          },
          "metadata": {},
          "output_type": "display_data"
        }
      ],
      "source": [
        "# consider this sequence of operations that highlight how to navigate between components\n",
        "utt = corpus.random_utterance()\n",
        "convo = utt.get_conversation() # get the Conversation the Utterance belongs to\n",
        "spkr = utt.speaker # get the Speaker who made the Utterance\n",
        "\n",
        "spkr_convos = list(spkr.iter_conversations())\n",
        "spkr_utts = list(spkr.iter_utterances())\n",
        "\n",
        "convo_spkrs = list(convo.iter_utterances())\n",
        "convo_utts = list(convo.iter_speakers())"
      ]
    },
    {
      "cell_type": "markdown",
      "metadata": {
        "id": "oD-LTflT0TrB"
      },
      "source": [
        "To spell it out:\n",
        "1. You can navigate from each Utterance to the Conversation it belongs to or the Speaker that made it.\n",
        "2. You can navigate from each Speaker to the Utterances that they have made or the Conversations they have participated in.\n",
        "3. You can navigate from each Conversation to the Utterances that compose it or the Speakers that participated in it."
      ]
    },
    {
      "cell_type": "markdown",
      "metadata": {
        "id": "hnLMzbuO0TrC"
      },
      "source": [
        "This enables more sophisticated analyses such as tracking a Speaker's behavior across the Conversations they have participated in or characterizing a Conversation by the Utterances that form it."
      ]
    },
    {
      "cell_type": "markdown",
      "metadata": {
        "id": "7EP68mYh0TrC"
      },
      "source": [
        "#### DataFrame representations from each component object"
      ]
    },
    {
      "cell_type": "markdown",
      "metadata": {
        "id": "taQm835s0TrC"
      },
      "source": [
        "In addition, because Conversations can be conceived of as collections of Utterances and Speakers, and Speakers collections of Utterances and Conversations, Conversations/Speakers have their own set of iterators (as shown above) and even support DataFrame generation:"
      ]
    },
    {
      "cell_type": "code",
      "execution_count": 28,
      "metadata": {
        "colab": {
          "base_uri": "https://localhost:8080/",
          "height": 178
        },
        "id": "BbjhWs5I0TrC",
        "outputId": "e0de76cf-11fd-4d5d-c4d1-0f9c1965489d"
      },
      "outputs": [
        {
          "data": {
            "text/html": [
              "\n",
              "    <style>\n",
              "        pre {\n",
              "            white-space: pre-wrap;\n",
              "        }\n",
              "    </style>\n",
              "    "
            ],
            "text/plain": [
              "<IPython.core.display.HTML object>"
            ]
          },
          "metadata": {},
          "output_type": "display_data"
        },
        {
          "data": {
            "application/vnd.google.colaboratory.intrinsic+json": {
              "repr_error": "Out of range float values are not JSON compliant: nan",
              "type": "dataframe"
            },
            "text/html": [
              "\n",
              "  <div id=\"df-f854d5b0-2b10-4eea-a181-29ef93caa921\" class=\"colab-df-container\">\n",
              "    <div>\n",
              "<style scoped>\n",
              "    .dataframe tbody tr th:only-of-type {\n",
              "        vertical-align: middle;\n",
              "    }\n",
              "\n",
              "    .dataframe tbody tr th {\n",
              "        vertical-align: top;\n",
              "    }\n",
              "\n",
              "    .dataframe thead th {\n",
              "        text-align: right;\n",
              "    }\n",
              "</style>\n",
              "<table border=\"1\" class=\"dataframe\">\n",
              "  <thead>\n",
              "    <tr style=\"text-align: right;\">\n",
              "      <th></th>\n",
              "      <th>timestamp</th>\n",
              "      <th>text</th>\n",
              "      <th>speaker</th>\n",
              "      <th>reply_to</th>\n",
              "      <th>conversation_id</th>\n",
              "      <th>meta.score</th>\n",
              "      <th>meta.top_level_comment</th>\n",
              "      <th>meta.retrieved_on</th>\n",
              "      <th>meta.gilded</th>\n",
              "      <th>meta.gildings</th>\n",
              "      <th>meta.subreddit</th>\n",
              "      <th>meta.stickied</th>\n",
              "      <th>meta.permalink</th>\n",
              "      <th>meta.author_flair_text</th>\n",
              "      <th>vectors</th>\n",
              "    </tr>\n",
              "    <tr>\n",
              "      <th>id</th>\n",
              "      <th></th>\n",
              "      <th></th>\n",
              "      <th></th>\n",
              "      <th></th>\n",
              "      <th></th>\n",
              "      <th></th>\n",
              "      <th></th>\n",
              "      <th></th>\n",
              "      <th></th>\n",
              "      <th></th>\n",
              "      <th></th>\n",
              "      <th></th>\n",
              "      <th></th>\n",
              "      <th></th>\n",
              "      <th></th>\n",
              "    </tr>\n",
              "  </thead>\n",
              "  <tbody>\n",
              "    <tr>\n",
              "      <th>c9ysid2</th>\n",
              "      <td>1368565096</td>\n",
              "      <td>No advice, but just wanted to say that I was a...</td>\n",
              "      <td>nuyakeno</td>\n",
              "      <td>1dyhnk</td>\n",
              "      <td>1dyhnk</td>\n",
              "      <td>1</td>\n",
              "      <td>c9ysid2</td>\n",
              "      <td>1431157726</td>\n",
              "      <td>0</td>\n",
              "      <td>None</td>\n",
              "      <td>Cornell</td>\n",
              "      <td>False</td>\n",
              "      <td></td>\n",
              "      <td></td>\n",
              "      <td>[]</td>\n",
              "    </tr>\n",
              "    <tr>\n",
              "      <th>cal6xam</th>\n",
              "      <td>1371560202</td>\n",
              "      <td>Hey! I have a single in Dickson, care to switc...</td>\n",
              "      <td>nuyakeno</td>\n",
              "      <td>1gjnc5</td>\n",
              "      <td>1gjnc5</td>\n",
              "      <td>2</td>\n",
              "      <td>cal6xam</td>\n",
              "      <td>1430770390</td>\n",
              "      <td>0</td>\n",
              "      <td>None</td>\n",
              "      <td>Cornell</td>\n",
              "      <td>False</td>\n",
              "      <td></td>\n",
              "      <td></td>\n",
              "      <td>[]</td>\n",
              "    </tr>\n",
              "  </tbody>\n",
              "</table>\n",
              "</div>\n",
              "    <div class=\"colab-df-buttons\">\n",
              "\n",
              "  <div class=\"colab-df-container\">\n",
              "    <button class=\"colab-df-convert\" onclick=\"convertToInteractive('df-f854d5b0-2b10-4eea-a181-29ef93caa921')\"\n",
              "            title=\"Convert this dataframe to an interactive table.\"\n",
              "            style=\"display:none;\">\n",
              "\n",
              "  <svg xmlns=\"http://www.w3.org/2000/svg\" height=\"24px\" viewBox=\"0 -960 960 960\">\n",
              "    <path d=\"M120-120v-720h720v720H120Zm60-500h600v-160H180v160Zm220 220h160v-160H400v160Zm0 220h160v-160H400v160ZM180-400h160v-160H180v160Zm440 0h160v-160H620v160ZM180-180h160v-160H180v160Zm440 0h160v-160H620v160Z\"/>\n",
              "  </svg>\n",
              "    </button>\n",
              "\n",
              "  <style>\n",
              "    .colab-df-container {\n",
              "      display:flex;\n",
              "      gap: 12px;\n",
              "    }\n",
              "\n",
              "    .colab-df-convert {\n",
              "      background-color: #E8F0FE;\n",
              "      border: none;\n",
              "      border-radius: 50%;\n",
              "      cursor: pointer;\n",
              "      display: none;\n",
              "      fill: #1967D2;\n",
              "      height: 32px;\n",
              "      padding: 0 0 0 0;\n",
              "      width: 32px;\n",
              "    }\n",
              "\n",
              "    .colab-df-convert:hover {\n",
              "      background-color: #E2EBFA;\n",
              "      box-shadow: 0px 1px 2px rgba(60, 64, 67, 0.3), 0px 1px 3px 1px rgba(60, 64, 67, 0.15);\n",
              "      fill: #174EA6;\n",
              "    }\n",
              "\n",
              "    .colab-df-buttons div {\n",
              "      margin-bottom: 4px;\n",
              "    }\n",
              "\n",
              "    [theme=dark] .colab-df-convert {\n",
              "      background-color: #3B4455;\n",
              "      fill: #D2E3FC;\n",
              "    }\n",
              "\n",
              "    [theme=dark] .colab-df-convert:hover {\n",
              "      background-color: #434B5C;\n",
              "      box-shadow: 0px 1px 3px 1px rgba(0, 0, 0, 0.15);\n",
              "      filter: drop-shadow(0px 1px 2px rgba(0, 0, 0, 0.3));\n",
              "      fill: #FFFFFF;\n",
              "    }\n",
              "  </style>\n",
              "\n",
              "    <script>\n",
              "      const buttonEl =\n",
              "        document.querySelector('#df-f854d5b0-2b10-4eea-a181-29ef93caa921 button.colab-df-convert');\n",
              "      buttonEl.style.display =\n",
              "        google.colab.kernel.accessAllowed ? 'block' : 'none';\n",
              "\n",
              "      async function convertToInteractive(key) {\n",
              "        const element = document.querySelector('#df-f854d5b0-2b10-4eea-a181-29ef93caa921');\n",
              "        const dataTable =\n",
              "          await google.colab.kernel.invokeFunction('convertToInteractive',\n",
              "                                                    [key], {});\n",
              "        if (!dataTable) return;\n",
              "\n",
              "        const docLinkHtml = 'Like what you see? Visit the ' +\n",
              "          '<a target=\"_blank\" href=https://colab.research.google.com/notebooks/data_table.ipynb>data table notebook</a>'\n",
              "          + ' to learn more about interactive tables.';\n",
              "        element.innerHTML = '';\n",
              "        dataTable['output_type'] = 'display_data';\n",
              "        await google.colab.output.renderOutput(dataTable, element);\n",
              "        const docLink = document.createElement('div');\n",
              "        docLink.innerHTML = docLinkHtml;\n",
              "        element.appendChild(docLink);\n",
              "      }\n",
              "    </script>\n",
              "  </div>\n",
              "\n",
              "\n",
              "    <div id=\"df-861086e5-fe5a-4fa7-8a8d-c8b9ada78d5d\">\n",
              "      <button class=\"colab-df-quickchart\" onclick=\"quickchart('df-861086e5-fe5a-4fa7-8a8d-c8b9ada78d5d')\"\n",
              "                title=\"Suggest charts\"\n",
              "                style=\"display:none;\">\n",
              "\n",
              "<svg xmlns=\"http://www.w3.org/2000/svg\" height=\"24px\"viewBox=\"0 0 24 24\"\n",
              "     width=\"24px\">\n",
              "    <g>\n",
              "        <path d=\"M19 3H5c-1.1 0-2 .9-2 2v14c0 1.1.9 2 2 2h14c1.1 0 2-.9 2-2V5c0-1.1-.9-2-2-2zM9 17H7v-7h2v7zm4 0h-2V7h2v10zm4 0h-2v-4h2v4z\"/>\n",
              "    </g>\n",
              "</svg>\n",
              "      </button>\n",
              "\n",
              "<style>\n",
              "  .colab-df-quickchart {\n",
              "      --bg-color: #E8F0FE;\n",
              "      --fill-color: #1967D2;\n",
              "      --hover-bg-color: #E2EBFA;\n",
              "      --hover-fill-color: #174EA6;\n",
              "      --disabled-fill-color: #AAA;\n",
              "      --disabled-bg-color: #DDD;\n",
              "  }\n",
              "\n",
              "  [theme=dark] .colab-df-quickchart {\n",
              "      --bg-color: #3B4455;\n",
              "      --fill-color: #D2E3FC;\n",
              "      --hover-bg-color: #434B5C;\n",
              "      --hover-fill-color: #FFFFFF;\n",
              "      --disabled-bg-color: #3B4455;\n",
              "      --disabled-fill-color: #666;\n",
              "  }\n",
              "\n",
              "  .colab-df-quickchart {\n",
              "    background-color: var(--bg-color);\n",
              "    border: none;\n",
              "    border-radius: 50%;\n",
              "    cursor: pointer;\n",
              "    display: none;\n",
              "    fill: var(--fill-color);\n",
              "    height: 32px;\n",
              "    padding: 0;\n",
              "    width: 32px;\n",
              "  }\n",
              "\n",
              "  .colab-df-quickchart:hover {\n",
              "    background-color: var(--hover-bg-color);\n",
              "    box-shadow: 0 1px 2px rgba(60, 64, 67, 0.3), 0 1px 3px 1px rgba(60, 64, 67, 0.15);\n",
              "    fill: var(--button-hover-fill-color);\n",
              "  }\n",
              "\n",
              "  .colab-df-quickchart-complete:disabled,\n",
              "  .colab-df-quickchart-complete:disabled:hover {\n",
              "    background-color: var(--disabled-bg-color);\n",
              "    fill: var(--disabled-fill-color);\n",
              "    box-shadow: none;\n",
              "  }\n",
              "\n",
              "  .colab-df-spinner {\n",
              "    border: 2px solid var(--fill-color);\n",
              "    border-color: transparent;\n",
              "    border-bottom-color: var(--fill-color);\n",
              "    animation:\n",
              "      spin 1s steps(1) infinite;\n",
              "  }\n",
              "\n",
              "  @keyframes spin {\n",
              "    0% {\n",
              "      border-color: transparent;\n",
              "      border-bottom-color: var(--fill-color);\n",
              "      border-left-color: var(--fill-color);\n",
              "    }\n",
              "    20% {\n",
              "      border-color: transparent;\n",
              "      border-left-color: var(--fill-color);\n",
              "      border-top-color: var(--fill-color);\n",
              "    }\n",
              "    30% {\n",
              "      border-color: transparent;\n",
              "      border-left-color: var(--fill-color);\n",
              "      border-top-color: var(--fill-color);\n",
              "      border-right-color: var(--fill-color);\n",
              "    }\n",
              "    40% {\n",
              "      border-color: transparent;\n",
              "      border-right-color: var(--fill-color);\n",
              "      border-top-color: var(--fill-color);\n",
              "    }\n",
              "    60% {\n",
              "      border-color: transparent;\n",
              "      border-right-color: var(--fill-color);\n",
              "    }\n",
              "    80% {\n",
              "      border-color: transparent;\n",
              "      border-right-color: var(--fill-color);\n",
              "      border-bottom-color: var(--fill-color);\n",
              "    }\n",
              "    90% {\n",
              "      border-color: transparent;\n",
              "      border-bottom-color: var(--fill-color);\n",
              "    }\n",
              "  }\n",
              "</style>\n",
              "\n",
              "      <script>\n",
              "        async function quickchart(key) {\n",
              "          const quickchartButtonEl =\n",
              "            document.querySelector('#' + key + ' button');\n",
              "          quickchartButtonEl.disabled = true;  // To prevent multiple clicks.\n",
              "          quickchartButtonEl.classList.add('colab-df-spinner');\n",
              "          try {\n",
              "            const charts = await google.colab.kernel.invokeFunction(\n",
              "                'suggestCharts', [key], {});\n",
              "          } catch (error) {\n",
              "            console.error('Error during call to suggestCharts:', error);\n",
              "          }\n",
              "          quickchartButtonEl.classList.remove('colab-df-spinner');\n",
              "          quickchartButtonEl.classList.add('colab-df-quickchart-complete');\n",
              "        }\n",
              "        (() => {\n",
              "          let quickchartButtonEl =\n",
              "            document.querySelector('#df-861086e5-fe5a-4fa7-8a8d-c8b9ada78d5d button');\n",
              "          quickchartButtonEl.style.display =\n",
              "            google.colab.kernel.accessAllowed ? 'block' : 'none';\n",
              "        })();\n",
              "      </script>\n",
              "    </div>\n",
              "\n",
              "    </div>\n",
              "  </div>\n"
            ],
            "text/plain": [
              "          timestamp                                               text  \\\n",
              "id                                                                       \n",
              "c9ysid2  1368565096  No advice, but just wanted to say that I was a...   \n",
              "cal6xam  1371560202  Hey! I have a single in Dickson, care to switc...   \n",
              "\n",
              "          speaker reply_to conversation_id meta.score meta.top_level_comment  \\\n",
              "id                                                                             \n",
              "c9ysid2  nuyakeno   1dyhnk          1dyhnk          1                c9ysid2   \n",
              "cal6xam  nuyakeno   1gjnc5          1gjnc5          2                cal6xam   \n",
              "\n",
              "        meta.retrieved_on meta.gilded meta.gildings meta.subreddit  \\\n",
              "id                                                                   \n",
              "c9ysid2        1431157726           0          None        Cornell   \n",
              "cal6xam        1430770390           0          None        Cornell   \n",
              "\n",
              "        meta.stickied meta.permalink meta.author_flair_text vectors  \n",
              "id                                                                   \n",
              "c9ysid2         False                                            []  \n",
              "cal6xam         False                                            []  "
            ]
          },
          "execution_count": 28,
          "metadata": {},
          "output_type": "execute_result"
        }
      ],
      "source": [
        "spkr.get_utterances_dataframe().head()\n",
        "# spkr.get_conversations_dataframe()\n",
        "# convo.get_utterances_dataframe()\n",
        "# convo.get_speakers_dataframe()"
      ]
    },
    {
      "cell_type": "markdown",
      "metadata": {
        "id": "VosKB1JJ0TrD"
      },
      "source": [
        "### Conversation"
      ]
    },
    {
      "cell_type": "markdown",
      "metadata": {
        "id": "LSqjawI10TrD"
      },
      "source": [
        "In particular, we want to highlight some of the functionality related to Conversation structure. The structure of a Conversation (i.e. who replies to whom) may not be straightforward to recreate from conversational data in most setups. In ConvoKit however, using the Utterance reply_to attribute, Conversations are automatically encoded with conversation structure."
      ]
    },
    {
      "cell_type": "code",
      "execution_count": 29,
      "metadata": {
        "colab": {
          "base_uri": "https://localhost:8080/",
          "height": 54
        },
        "id": "Gc_-ohRf0TrD",
        "outputId": "09a071b0-3143-4892-d1bc-796243e43ed8"
      },
      "outputs": [
        {
          "data": {
            "text/html": [
              "\n",
              "    <style>\n",
              "        pre {\n",
              "            white-space: pre-wrap;\n",
              "        }\n",
              "    </style>\n",
              "    "
            ],
            "text/plain": [
              "<IPython.core.display.HTML object>"
            ]
          },
          "metadata": {},
          "output_type": "display_data"
        },
        {
          "name": "stdout",
          "output_type": "stream",
          "text": [
            "Conversation('id': '7yy032', 'utterances': ['7yy032', 'duk1rlx', 'duk1rrw', 'duk2cue', 'duk99zc', 'dukhv8f', 'dulmtzw', 'dum5ufw', 'dum629f', 'dum7epw', 'dupzllr', 'duqb609'], 'meta': ConvoKitMeta({'title': 'CS minor advice?', 'num_comments': 11, 'domain': 'self.Cornell', 'timestamp': 1519150001, 'subreddit': 'Cornell', 'gilded': 0, 'gildings': None, 'stickied': False, 'author_flair_text': ''}))\n"
          ]
        }
      ],
      "source": [
        "convo = corpus.get_conversation('7yy032')\n",
        "print(convo)"
      ]
    },
    {
      "cell_type": "markdown",
      "metadata": {
        "id": "KOKvSTyL0TrE"
      },
      "source": [
        "In this example, we can visualize the conversation's structure as follows:"
      ]
    },
    {
      "cell_type": "code",
      "execution_count": 30,
      "metadata": {
        "colab": {
          "base_uri": "https://localhost:8080/",
          "height": 238
        },
        "id": "d0kutcmU0TrE",
        "outputId": "9c0e3a5e-bcc5-4337-b8d7-aeb98655e816"
      },
      "outputs": [
        {
          "data": {
            "text/html": [
              "\n",
              "    <style>\n",
              "        pre {\n",
              "            white-space: pre-wrap;\n",
              "        }\n",
              "    </style>\n",
              "    "
            ],
            "text/plain": [
              "<IPython.core.display.HTML object>"
            ]
          },
          "metadata": {},
          "output_type": "display_data"
        },
        {
          "name": "stdout",
          "output_type": "stream",
          "text": [
            "smoothcarrot\n",
            "    alated\n",
            "        Darnit_Bot\n",
            "        smoothcarrot\n",
            "            RadCentrism\n",
            "            alated\n",
            "        l33tnerd\n",
            "            alated\n",
            "                l33tnerd\n",
            "                    smoothcarrot\n",
            "                        l33tnerd\n",
            "    gandalf-the-gray\n"
          ]
        }
      ],
      "source": [
        "convo.print_conversation_structure()"
      ]
    },
    {
      "cell_type": "markdown",
      "metadata": {
        "id": "42d-nUPm0TrE"
      },
      "source": [
        "This corresponds exactly to how this post thread would look like in Reddit (smoothcarrot makes the post, while alated and gandalf-the-gray make top-level comments.) For each Utterance, just the Speaker's name is printed, for easy visualization of the thread structure, but we can configure this to print whatever we'd like for each Utterance."
      ]
    },
    {
      "cell_type": "markdown",
      "metadata": {
        "id": "P0a0bggs0TrE"
      },
      "source": [
        "(As a quick contrast, we print the structure of a Conversation from the Switchboard corpus, which reflects the structure of most offline conversations.)"
      ]
    },
    {
      "cell_type": "code",
      "execution_count": 31,
      "metadata": {
        "colab": {
          "base_uri": "https://localhost:8080/",
          "height": 497
        },
        "id": "ysFOosmK0TrE",
        "outputId": "ad86df07-c6f1-458c-fcae-7aedd9265b11"
      },
      "outputs": [
        {
          "data": {
            "text/html": [
              "\n",
              "    <style>\n",
              "        pre {\n",
              "            white-space: pre-wrap;\n",
              "        }\n",
              "    </style>\n",
              "    "
            ],
            "text/plain": [
              "<IPython.core.display.HTML object>"
            ]
          },
          "metadata": {},
          "output_type": "display_data"
        },
        {
          "name": "stdout",
          "output_type": "stream",
          "text": [
            "4771-0\n",
            "    4771-1\n",
            "        4771-2\n",
            "            4771-3\n",
            "                4771-4\n",
            "                    4771-5\n",
            "                        4771-6\n",
            "                            4771-7\n",
            "                                4771-8\n",
            "                                    4771-9\n",
            "                                        4771-10\n",
            "                                            4771-11\n",
            "                                                4771-12\n",
            "                                                    4771-13\n",
            "                                                        4771-14\n",
            "                                                            4771-15\n",
            "                                                                4771-16\n",
            "                                                                    4771-17\n",
            "                                                                        4771-18\n",
            "                                                                            4771-19\n",
            "                                                                                4771-20\n",
            "                                                                                    4771-21\n",
            "                                                                                        4771-22\n",
            "                                                                                            4771-23\n",
            "                                                                                                4771-24\n",
            "                                                                                                    4771-25\n"
          ]
        }
      ],
      "source": [
        "# Instead of printing the Speaker ID, we print the Utterance ID\n",
        "switchboard_corpus.get_conversation('4771-0').print_conversation_structure(lambda utt: utt.id)"
      ]
    },
    {
      "cell_type": "markdown",
      "metadata": {
        "id": "poB3xfC_0TrF"
      },
      "source": [
        "We get a 'linear' conversation that does not branch out into subtrees."
      ]
    },
    {
      "cell_type": "markdown",
      "metadata": {
        "id": "5v1QuphM0TrF"
      },
      "source": [
        "Back to the r/Cornell conversation, we can also configure this method to print the text at each Utterance, albeit truncated here for readability:"
      ]
    },
    {
      "cell_type": "code",
      "execution_count": 32,
      "metadata": {
        "colab": {
          "base_uri": "https://localhost:8080/",
          "height": 497
        },
        "id": "YqrmSERT0TrF",
        "outputId": "ebe259b7-c31c-4f9c-dfc8-1f9bc3364204"
      },
      "outputs": [
        {
          "data": {
            "text/html": [
              "\n",
              "    <style>\n",
              "        pre {\n",
              "            white-space: pre-wrap;\n",
              "        }\n",
              "    </style>\n",
              "    "
            ],
            "text/plain": [
              "<IPython.core.display.HTML object>"
            ]
          },
          "metadata": {},
          "output_type": "display_data"
        },
        {
          "name": "stdout",
          "output_type": "stream",
          "text": [
            "I'm an junior info science major and I'm thinking about completing a CS minor. H\n",
            "\n",
            "    I don't think there's a straight answer to this. :/ Especially since \"useful\" wi\n",
            "\n",
            "        What a *darn* shame..\n",
            "***\n",
            "^^Darn ^^Counter: ^^451121\n",
            "\n",
            "        Do u think I should try to stick with 3110 this semester?\n",
            "\n",
            "            I mean, you *could*. You missed a week, but the slides are online so you can cat\n",
            "\n",
            "            It's up to you! Being behind one week isn't bad at all (there are always office \n",
            "\n",
            "        I disagree with saying that you'll *never* use it. Functional ideas have made th\n",
            "\n",
            "            I agree with you! Functional concepts can be found in many languages that are us\n",
            "\n",
            "                Hmm, I guess my experience differs, then; I find myself using these concepts qui\n",
            "\n",
            "                    Thanks for your insight.  I probably wont be continuing with 3110 this semester \n",
            "\n",
            "                        I personally liked 3110 better, but this is very dependent on your own interests\n",
            "\n",
            "    1. Go to office hours in general when you get stuck. Also you can pm me if you n\n",
            "\n"
          ]
        }
      ],
      "source": [
        "convo.print_conversation_structure(lambda utt: utt.text[:80] + \"\\n\")"
      ]
    },
    {
      "cell_type": "markdown",
      "metadata": {
        "id": "UFDSET360TrF"
      },
      "source": [
        "We can even verify this by finding the subreddit thread online:"
      ]
    },
    {
      "cell_type": "code",
      "execution_count": 33,
      "metadata": {
        "colab": {
          "base_uri": "https://localhost:8080/",
          "height": 238
        },
        "id": "R9cl4W5Q0TrF",
        "outputId": "345dfe74-f016-49f8-aec7-38a6965d5ae6"
      },
      "outputs": [
        {
          "data": {
            "text/html": [
              "\n",
              "    <style>\n",
              "        pre {\n",
              "            white-space: pre-wrap;\n",
              "        }\n",
              "    </style>\n",
              "    "
            ],
            "text/plain": [
              "<IPython.core.display.HTML object>"
            ]
          },
          "metadata": {},
          "output_type": "display_data"
        },
        {
          "name": "stdout",
          "output_type": "stream",
          "text": [
            "7yy032\n",
            "    duk1rlx\n",
            "        duk1rrw\n",
            "        duk2cue\n",
            "            duk99zc\n",
            "            dum629f\n",
            "        dukhv8f\n",
            "            dum5ufw\n",
            "                dum7epw\n",
            "                    dupzllr\n",
            "                        duqb609\n",
            "    dulmtzw\n"
          ]
        }
      ],
      "source": [
        "convo.print_conversation_structure(lambda utt: utt.id)"
      ]
    },
    {
      "cell_type": "code",
      "execution_count": 34,
      "metadata": {
        "colab": {
          "base_uri": "https://localhost:8080/",
          "height": 17
        },
        "id": "fyXRkg6-0TrF",
        "outputId": "1cc4f10a-bdce-4724-ba4b-d482547a8605"
      },
      "outputs": [
        {
          "data": {
            "text/html": [
              "\n",
              "    <style>\n",
              "        pre {\n",
              "            white-space: pre-wrap;\n",
              "        }\n",
              "    </style>\n",
              "    "
            ],
            "text/plain": [
              "<IPython.core.display.HTML object>"
            ]
          },
          "metadata": {},
          "output_type": "display_data"
        }
      ],
      "source": [
        "# Since the first utterance has ID '7yy032'\n",
        "first_utt = corpus.get_utterance('7yy032')"
      ]
    },
    {
      "cell_type": "code",
      "execution_count": 35,
      "metadata": {
        "colab": {
          "base_uri": "https://localhost:8080/",
          "height": 35
        },
        "id": "bE1J2xg40TrG",
        "outputId": "090fb968-c9c8-4e3a-a28c-1f56b27fa729"
      },
      "outputs": [
        {
          "data": {
            "text/html": [
              "\n",
              "    <style>\n",
              "        pre {\n",
              "            white-space: pre-wrap;\n",
              "        }\n",
              "    </style>\n",
              "    "
            ],
            "text/plain": [
              "<IPython.core.display.HTML object>"
            ]
          },
          "metadata": {},
          "output_type": "display_data"
        },
        {
          "data": {
            "text/plain": [
              "ConvoKitMeta({'score': 7, 'top_level_comment': None, 'retrieved_on': 1520570304, 'gilded': 0, 'gildings': None, 'subreddit': 'Cornell', 'stickied': False, 'permalink': '/r/Cornell/comments/7yy032/cs_minor_advice/', 'author_flair_text': ''})"
            ]
          },
          "execution_count": 35,
          "metadata": {},
          "output_type": "execute_result"
        }
      ],
      "source": [
        "first_utt.meta"
      ]
    },
    {
      "cell_type": "markdown",
      "metadata": {
        "id": "9DPT9rll0TrG"
      },
      "source": [
        "Let's use the permalink to find the thread:\n",
        "https://old.reddit.com/r/Cornell/comments/7yy032/cs_minor_advice/"
      ]
    },
    {
      "cell_type": "markdown",
      "metadata": {
        "id": "4ghScrpn0TrG"
      },
      "source": [
        "We see that this thread has been reconstructed accurately in this r/Cornell corpus."
      ]
    },
    {
      "cell_type": "markdown",
      "metadata": {
        "id": "uXeQE_3c0TrG"
      },
      "source": [
        "#### Conversation traversal"
      ]
    },
    {
      "cell_type": "markdown",
      "metadata": {
        "id": "RTh6dRxY0TrG"
      },
      "source": [
        "Because the conversation tree structure is preserved, we can even:"
      ]
    },
    {
      "cell_type": "code",
      "execution_count": 36,
      "metadata": {
        "colab": {
          "base_uri": "https://localhost:8080/",
          "height": 478
        },
        "id": "-rG3eBjj0TrG",
        "outputId": "4485121f-fecb-4c80-efaf-26c655424b6e"
      },
      "outputs": [
        {
          "data": {
            "text/html": [
              "\n",
              "    <style>\n",
              "        pre {\n",
              "            white-space: pre-wrap;\n",
              "        }\n",
              "    </style>\n",
              "    "
            ],
            "text/plain": [
              "<IPython.core.display.HTML object>"
            ]
          },
          "metadata": {},
          "output_type": "display_data"
        },
        {
          "name": "stdout",
          "output_type": "stream",
          "text": [
            "Breadth first:\n",
            "['smoothcarrot', 'alated', 'gandalf-the-gray', 'Darnit_Bot', 'smoothcarrot', 'l33tnerd', 'RadCentrism', 'alated', 'alated', 'l33tnerd', 'smoothcarrot', 'l33tnerd'] \n",
            "\n",
            "Depth first:\n",
            "['smoothcarrot', 'alated', 'Darnit_Bot', 'smoothcarrot', 'RadCentrism', 'alated', 'l33tnerd', 'alated', 'l33tnerd', 'smoothcarrot', 'l33tnerd', 'gandalf-the-gray'] \n",
            "\n",
            "Preorder:\n",
            "['smoothcarrot', 'alated', 'Darnit_Bot', 'smoothcarrot', 'RadCentrism', 'alated', 'l33tnerd', 'alated', 'l33tnerd', 'smoothcarrot', 'l33tnerd', 'gandalf-the-gray'] \n",
            "\n",
            "Postorder:\n",
            "['Darnit_Bot', 'RadCentrism', 'alated', 'smoothcarrot', 'l33tnerd', 'smoothcarrot', 'l33tnerd', 'alated', 'l33tnerd', 'alated', 'gandalf-the-gray', 'smoothcarrot'] \n",
            "\n",
            "For reference, here is the structure of the thread again:\n",
            "smoothcarrot\n",
            "    alated\n",
            "        Darnit_Bot\n",
            "        smoothcarrot\n",
            "            RadCentrism\n",
            "            alated\n",
            "        l33tnerd\n",
            "            alated\n",
            "                l33tnerd\n",
            "                    smoothcarrot\n",
            "                        l33tnerd\n",
            "    gandalf-the-gray\n"
          ]
        }
      ],
      "source": [
        "# Traverse the conversation tree in interesting ways\n",
        "print(\"Breadth first:\")\n",
        "print([utt.speaker.id for utt in convo.traverse('bfs')],\"\\n\")\n",
        "\n",
        "print(\"Depth first:\")\n",
        "print([utt.speaker.id  for utt in convo.traverse('dfs')],\"\\n\")\n",
        "\n",
        "print(\"Preorder:\")\n",
        "print([utt.speaker.id  for utt in convo.traverse('preorder')],\"\\n\")\n",
        "\n",
        "print(\"Postorder:\")\n",
        "print([utt.speaker.id  for utt in convo.traverse('postorder')],\"\\n\")\n",
        "\n",
        "print(\"For reference, here is the structure of the thread again:\")\n",
        "convo.print_conversation_structure()"
      ]
    },
    {
      "cell_type": "code",
      "execution_count": 37,
      "metadata": {
        "colab": {
          "base_uri": "https://localhost:8080/",
          "height": 17
        },
        "id": "cWdKlU_u0TrH",
        "outputId": "b516b67e-bcbe-4185-ad75-e1391e12fffe"
      },
      "outputs": [
        {
          "data": {
            "text/html": [
              "\n",
              "    <style>\n",
              "        pre {\n",
              "            white-space: pre-wrap;\n",
              "        }\n",
              "    </style>\n",
              "    "
            ],
            "text/plain": [
              "<IPython.core.display.HTML object>"
            ]
          },
          "metadata": {},
          "output_type": "display_data"
        }
      ],
      "source": [
        "# Get all conversational 'paths' (i.e. paths from root utterances to leaf utterances in this Conversation tree)\n",
        "paths = convo.get_root_to_leaf_paths()\n",
        "longest_paths = convo.get_longest_paths()"
      ]
    },
    {
      "cell_type": "code",
      "execution_count": 38,
      "metadata": {
        "colab": {
          "base_uri": "https://localhost:8080/",
          "height": 35
        },
        "id": "WKMKqmi60TrI",
        "outputId": "2c880a03-704b-465d-88dc-76e62c4bad22"
      },
      "outputs": [
        {
          "data": {
            "text/html": [
              "\n",
              "    <style>\n",
              "        pre {\n",
              "            white-space: pre-wrap;\n",
              "        }\n",
              "    </style>\n",
              "    "
            ],
            "text/plain": [
              "<IPython.core.display.HTML object>"
            ]
          },
          "metadata": {},
          "output_type": "display_data"
        },
        {
          "name": "stdout",
          "output_type": "stream",
          "text": [
            "['7yy032', 'duk1rlx', 'dukhv8f', 'dum5ufw', 'dum7epw', 'dupzllr', 'duqb609']\n"
          ]
        }
      ],
      "source": [
        "for path in longest_paths:\n",
        "    print([utt.id for utt in path])"
      ]
    },
    {
      "cell_type": "markdown",
      "metadata": {
        "id": "YbrZb11x0TrI"
      },
      "source": [
        "In addition, using the timestamps of Utterances, we can get chronological outputs from Conversations:"
      ]
    },
    {
      "cell_type": "code",
      "execution_count": 39,
      "metadata": {
        "colab": {
          "base_uri": "https://localhost:8080/",
          "height": 238
        },
        "id": "mAGpW2e-0TrI",
        "outputId": "9cace959-0b66-41b9-ea21-bd8184de8e03"
      },
      "outputs": [
        {
          "data": {
            "text/html": [
              "\n",
              "    <style>\n",
              "        pre {\n",
              "            white-space: pre-wrap;\n",
              "        }\n",
              "    </style>\n",
              "    "
            ],
            "text/plain": [
              "<IPython.core.display.HTML object>"
            ]
          },
          "metadata": {},
          "output_type": "display_data"
        },
        {
          "data": {
            "text/plain": [
              "['smoothcarrot',\n",
              " 'alated',\n",
              " 'Darnit_Bot',\n",
              " 'smoothcarrot',\n",
              " 'RadCentrism',\n",
              " 'l33tnerd',\n",
              " 'gandalf-the-gray',\n",
              " 'alated',\n",
              " 'alated',\n",
              " 'l33tnerd',\n",
              " 'smoothcarrot',\n",
              " 'l33tnerd']"
            ]
          },
          "execution_count": 39,
          "metadata": {},
          "output_type": "execute_result"
        }
      ],
      "source": [
        "[spkr.id for spkr in convo.get_chronological_speaker_list()]"
      ]
    },
    {
      "cell_type": "code",
      "execution_count": 40,
      "metadata": {
        "colab": {
          "base_uri": "https://localhost:8080/",
          "height": 238
        },
        "id": "9LIL_8jn0TrI",
        "outputId": "5a959b11-9bad-4c3b-8af3-d69632840953"
      },
      "outputs": [
        {
          "data": {
            "text/html": [
              "\n",
              "    <style>\n",
              "        pre {\n",
              "            white-space: pre-wrap;\n",
              "        }\n",
              "    </style>\n",
              "    "
            ],
            "text/plain": [
              "<IPython.core.display.HTML object>"
            ]
          },
          "metadata": {},
          "output_type": "display_data"
        },
        {
          "data": {
            "text/plain": [
              "['7yy032',\n",
              " 'duk1rlx',\n",
              " 'duk1rrw',\n",
              " 'duk2cue',\n",
              " 'duk99zc',\n",
              " 'dukhv8f',\n",
              " 'dulmtzw',\n",
              " 'dum5ufw',\n",
              " 'dum629f',\n",
              " 'dum7epw',\n",
              " 'dupzllr',\n",
              " 'duqb609']"
            ]
          },
          "execution_count": 40,
          "metadata": {},
          "output_type": "execute_result"
        }
      ],
      "source": [
        "[utt.id for utt in convo.get_chronological_utterance_list()]"
      ]
    },
    {
      "cell_type": "markdown",
      "metadata": {
        "id": "srsLFxkW0TrI"
      },
      "source": [
        "## Transformers"
      ]
    },
    {
      "cell_type": "markdown",
      "metadata": {
        "id": "LQquEXxu0TrI"
      },
      "source": [
        "Finally, we introduce the concept of a **Transformer** -- a type of ConvoKit object that applies a transformation to a Corpus. These transformations / modifications usually come in the form of changed/added metadata for one of the Corpus components. And broadly, they come under three categories:\n",
        "1. Preprocessing\n",
        "2. Feature extraction\n",
        "3. Analysis"
      ]
    },
    {
      "cell_type": "markdown",
      "metadata": {
        "id": "mjtIWAHi0TrI"
      },
      "source": [
        "Every **Transformer** has three main methods:\n",
        "1. `fit()` (optionally implemented) - trains/fits some internal model within the Transformer\n",
        "2. `transform()` - transforms/modifies the Corpus\n",
        "3. `summarize()` (optionally implemented) - generates a visually interpretable output that summarizes what the Transformer has learned in fit() or the modifications that have been made to the Corpus in transform()"
      ]
    },
    {
      "cell_type": "markdown",
      "metadata": {
        "id": "AwGn-bIs0TrJ"
      },
      "source": [
        "Read more about Transformers here: https://convokit.cornell.edu/documentation/architecture.html#transformer"
      ]
    },
    {
      "cell_type": "markdown",
      "metadata": {
        "id": "dXjrvPd_0TrJ"
      },
      "source": [
        "We demonstrate now an example of an Analysis Transformer, [FightingWords](https://convokit.cornell.edu/documentation/fightingwords.html). This transformer identifies salient linguistic differences between two distinct groups of Utterances. For this example, we use `reddit-corpus-small` -  a Corpus with Utterances from 100 medium to large subreddits."
      ]
    },
    {
      "cell_type": "code",
      "execution_count": 41,
      "metadata": {
        "colab": {
          "base_uri": "https://localhost:8080/",
          "height": 54
        },
        "id": "tk_NdGIx0TrJ",
        "outputId": "6e19f698-8b10-40f2-b59f-285ab82cb682"
      },
      "outputs": [
        {
          "data": {
            "text/html": [
              "\n",
              "    <style>\n",
              "        pre {\n",
              "            white-space: pre-wrap;\n",
              "        }\n",
              "    </style>\n",
              "    "
            ],
            "text/plain": [
              "<IPython.core.display.HTML object>"
            ]
          },
          "metadata": {},
          "output_type": "display_data"
        },
        {
          "name": "stdout",
          "output_type": "stream",
          "text": [
            "Downloading reddit-corpus-small to /root/.convokit/saved-corpora/reddit-corpus-small\n",
            "Downloading reddit-corpus-small from http://zissou.infosci.cornell.edu/convokit/datasets/subreddit-corpus/reddit-corpus-small.corpus.zip (37.9MB)... Done\n"
          ]
        }
      ],
      "source": [
        "corpus = Corpus(download('reddit-corpus-small'))"
      ]
    },
    {
      "cell_type": "code",
      "execution_count": 42,
      "metadata": {
        "colab": {
          "base_uri": "https://localhost:8080/",
          "height": 72
        },
        "id": "Ypxs5fTd0TrJ",
        "outputId": "10dc8414-a397-495a-cb7b-09397e08caab"
      },
      "outputs": [
        {
          "data": {
            "text/html": [
              "\n",
              "    <style>\n",
              "        pre {\n",
              "            white-space: pre-wrap;\n",
              "        }\n",
              "    </style>\n",
              "    "
            ],
            "text/plain": [
              "<IPython.core.display.HTML object>"
            ]
          },
          "metadata": {},
          "output_type": "display_data"
        },
        {
          "name": "stdout",
          "output_type": "stream",
          "text": [
            "Number of Speakers: 119889\n",
            "Number of Utterances: 297132\n",
            "Number of Conversations: 8286\n"
          ]
        }
      ],
      "source": [
        "corpus.print_summary_stats()"
      ]
    },
    {
      "cell_type": "markdown",
      "metadata": {
        "id": "qF6IotkB0TrK"
      },
      "source": [
        "*Exploratory question*: How do utterances from r/atheism differ linguistically from utterances from r/Christianity?"
      ]
    },
    {
      "cell_type": "code",
      "execution_count": 43,
      "metadata": {
        "colab": {
          "base_uri": "https://localhost:8080/",
          "height": 17
        },
        "id": "V330_j4j0TrK",
        "outputId": "99cdd0bf-3108-4fd1-f081-588cac97feb7"
      },
      "outputs": [
        {
          "data": {
            "text/html": [
              "\n",
              "    <style>\n",
              "        pre {\n",
              "            white-space: pre-wrap;\n",
              "        }\n",
              "    </style>\n",
              "    "
            ],
            "text/plain": [
              "<IPython.core.display.HTML object>"
            ]
          },
          "metadata": {},
          "output_type": "display_data"
        }
      ],
      "source": [
        "from convokit import FightingWords"
      ]
    },
    {
      "cell_type": "code",
      "execution_count": 44,
      "metadata": {
        "colab": {
          "base_uri": "https://localhost:8080/",
          "height": 35
        },
        "id": "3hzyQ3Rp0TrK",
        "outputId": "08ba85ed-c42e-4820-e5fc-00aa232454d6"
      },
      "outputs": [
        {
          "data": {
            "text/html": [
              "\n",
              "    <style>\n",
              "        pre {\n",
              "            white-space: pre-wrap;\n",
              "        }\n",
              "    </style>\n",
              "    "
            ],
            "text/plain": [
              "<IPython.core.display.HTML object>"
            ]
          },
          "metadata": {},
          "output_type": "display_data"
        },
        {
          "name": "stdout",
          "output_type": "stream",
          "text": [
            "Initializing default CountVectorizer with ngram_range (1, 3)... Done.\n"
          ]
        }
      ],
      "source": [
        "fw = FightingWords()"
      ]
    },
    {
      "cell_type": "markdown",
      "metadata": {
        "id": "OT3lpX8X0TrK"
      },
      "source": [
        "Using lambda functions, we define two groups of utterances between which we would like to find differences in speech:"
      ]
    },
    {
      "cell_type": "code",
      "execution_count": 45,
      "metadata": {
        "colab": {
          "base_uri": "https://localhost:8080/",
          "height": 109
        },
        "id": "OD7ZMx1a0TrK",
        "outputId": "443eac10-cd49-4ade-de84-dc4c79339228"
      },
      "outputs": [
        {
          "data": {
            "text/html": [
              "\n",
              "    <style>\n",
              "        pre {\n",
              "            white-space: pre-wrap;\n",
              "        }\n",
              "    </style>\n",
              "    "
            ],
            "text/plain": [
              "<IPython.core.display.HTML object>"
            ]
          },
          "metadata": {},
          "output_type": "display_data"
        },
        {
          "name": "stdout",
          "output_type": "stream",
          "text": [
            "class1_func returned 2659 valid corpus components. class2_func returned 2736 valid corpus components.\n",
            "Vocab size is 5034\n",
            "Comparing language...\n",
            "ngram zscores computed.\n"
          ]
        },
        {
          "data": {
            "text/plain": [
              "<convokit.fighting_words.fightingWords.FightingWords at 0x7af320332310>"
            ]
          },
          "execution_count": 45,
          "metadata": {},
          "output_type": "execute_result"
        }
      ],
      "source": [
        "fw.fit(corpus, class1_func = lambda utt: utt.meta['subreddit'] == 'Christianity',\n",
        "       class2_func = lambda utt: utt.meta['subreddit'] == 'atheism')"
      ]
    },
    {
      "cell_type": "markdown",
      "metadata": {
        "id": "raKlxced0TrK"
      },
      "source": [
        "\n",
        "We can see a summary of what it has learned using the ``summarize()`` method."
      ]
    },
    {
      "cell_type": "code",
      "execution_count": 46,
      "metadata": {
        "colab": {
          "base_uri": "https://localhost:8080/",
          "height": 1000
        },
        "id": "ngha-4OL0TrK",
        "outputId": "7e7dd698-478d-43fc-82d6-cc38c803702d",
        "scrolled": false
      },
      "outputs": [
        {
          "data": {
            "text/html": [
              "\n",
              "    <style>\n",
              "        pre {\n",
              "            white-space: pre-wrap;\n",
              "        }\n",
              "    </style>\n",
              "    "
            ],
            "text/plain": [
              "<IPython.core.display.HTML object>"
            ]
          },
          "metadata": {},
          "output_type": "display_data"
        },
        {
          "data": {
            "image/png": "[encoded data removed]",
            "text/plain": [
              "<Figure size 1800x1200 with 1 Axes>"
            ]
          },
          "metadata": {},
          "output_type": "display_data"
        },
        {
          "data": {
            "application/vnd.google.colaboratory.intrinsic+json": {
              "summary": "{\n  \"name\": \"fw\",\n  \"rows\": 5034,\n  \"fields\": [\n    {\n      \"column\": \"ngram\",\n      \"properties\": {\n        \"dtype\": \"string\",\n        \"num_unique_values\": 5034,\n        \"samples\": [\n          \"preach\",\n          \"changing\",\n          \"contradict\"\n        ],\n        \"semantic_type\": \"\",\n        \"description\": \"\"\n      }\n    },\n    {\n      \"column\": \"z-score\",\n      \"properties\": {\n        \"dtype\": \"number\",\n        \"std\": 1.6472541862110923,\n        \"min\": -7.957424675787069,\n        \"max\": 9.66431005037443,\n        \"num_unique_values\": 1493,\n        \"samples\": [\n          0.7312058066894274,\n          0.5183248439793157,\n          2.760226744864925\n        ],\n        \"semantic_type\": \"\",\n        \"description\": \"\"\n      }\n    },\n    {\n      \"column\": \"class\",\n      \"properties\": {\n        \"dtype\": \"category\",\n        \"num_unique_values\": 2,\n        \"samples\": [\n          \"r/Christianity\",\n          \"r/atheism\"\n        ],\n        \"semantic_type\": \"\",\n        \"description\": \"\"\n      }\n    }\n  ]\n}",
              "type": "dataframe"
            },
            "text/html": [
              "\n",
              "  <div id=\"df-bb21c840-8ebc-4e53-a873-0b75a1b112e6\" class=\"colab-df-container\">\n",
              "    <div>\n",
              "<style scoped>\n",
              "    .dataframe tbody tr th:only-of-type {\n",
              "        vertical-align: middle;\n",
              "    }\n",
              "\n",
              "    .dataframe tbody tr th {\n",
              "        vertical-align: top;\n",
              "    }\n",
              "\n",
              "    .dataframe thead th {\n",
              "        text-align: right;\n",
              "    }\n",
              "</style>\n",
              "<table border=\"1\" class=\"dataframe\">\n",
              "  <thead>\n",
              "    <tr style=\"text-align: right;\">\n",
              "      <th></th>\n",
              "      <th>z-score</th>\n",
              "      <th>class</th>\n",
              "    </tr>\n",
              "    <tr>\n",
              "      <th>ngram</th>\n",
              "      <th></th>\n",
              "      <th></th>\n",
              "    </tr>\n",
              "  </thead>\n",
              "  <tbody>\n",
              "    <tr>\n",
              "      <th>money</th>\n",
              "      <td>-7.957425</td>\n",
              "      <td>r/atheism</td>\n",
              "    </tr>\n",
              "    <tr>\n",
              "      <th>religion</th>\n",
              "      <td>-7.769434</td>\n",
              "      <td>r/atheism</td>\n",
              "    </tr>\n",
              "    <tr>\n",
              "      <th>religious</th>\n",
              "      <td>-7.605858</td>\n",
              "      <td>r/atheism</td>\n",
              "    </tr>\n",
              "    <tr>\n",
              "      <th>science</th>\n",
              "      <td>-7.084885</td>\n",
              "      <td>r/atheism</td>\n",
              "    </tr>\n",
              "    <tr>\n",
              "      <th>body</th>\n",
              "      <td>-6.993762</td>\n",
              "      <td>r/atheism</td>\n",
              "    </tr>\n",
              "    <tr>\n",
              "      <th>...</th>\n",
              "      <td>...</td>\n",
              "      <td>...</td>\n",
              "    </tr>\n",
              "    <tr>\n",
              "      <th>over and</th>\n",
              "      <td>7.718249</td>\n",
              "      <td>r/Christianity</td>\n",
              "    </tr>\n",
              "    <tr>\n",
              "      <th>the word</th>\n",
              "      <td>8.149449</td>\n",
              "      <td>r/Christianity</td>\n",
              "    </tr>\n",
              "    <tr>\n",
              "      <th>word</th>\n",
              "      <td>8.223430</td>\n",
              "      <td>r/Christianity</td>\n",
              "    </tr>\n",
              "    <tr>\n",
              "      <th>sin</th>\n",
              "      <td>9.203761</td>\n",
              "      <td>r/Christianity</td>\n",
              "    </tr>\n",
              "    <tr>\n",
              "      <th>god</th>\n",
              "      <td>9.664310</td>\n",
              "      <td>r/Christianity</td>\n",
              "    </tr>\n",
              "  </tbody>\n",
              "</table>\n",
              "<p>5034 rows × 2 columns</p>\n",
              "</div>\n",
              "    <div class=\"colab-df-buttons\">\n",
              "\n",
              "  <div class=\"colab-df-container\">\n",
              "    <button class=\"colab-df-convert\" onclick=\"convertToInteractive('df-bb21c840-8ebc-4e53-a873-0b75a1b112e6')\"\n",
              "            title=\"Convert this dataframe to an interactive table.\"\n",
              "            style=\"display:none;\">\n",
              "\n",
              "  <svg xmlns=\"http://www.w3.org/2000/svg\" height=\"24px\" viewBox=\"0 -960 960 960\">\n",
              "    <path d=\"M120-120v-720h720v720H120Zm60-500h600v-160H180v160Zm220 220h160v-160H400v160Zm0 220h160v-160H400v160ZM180-400h160v-160H180v160Zm440 0h160v-160H620v160ZM180-180h160v-160H180v160Zm440 0h160v-160H620v160Z\"/>\n",
              "  </svg>\n",
              "    </button>\n",
              "\n",
              "  <style>\n",
              "    .colab-df-container {\n",
              "      display:flex;\n",
              "      gap: 12px;\n",
              "    }\n",
              "\n",
              "    .colab-df-convert {\n",
              "      background-color: #E8F0FE;\n",
              "      border: none;\n",
              "      border-radius: 50%;\n",
              "      cursor: pointer;\n",
              "      display: none;\n",
              "      fill: #1967D2;\n",
              "      height: 32px;\n",
              "      padding: 0 0 0 0;\n",
              "      width: 32px;\n",
              "    }\n",
              "\n",
              "    .colab-df-convert:hover {\n",
              "      background-color: #E2EBFA;\n",
              "      box-shadow: 0px 1px 2px rgba(60, 64, 67, 0.3), 0px 1px 3px 1px rgba(60, 64, 67, 0.15);\n",
              "      fill: #174EA6;\n",
              "    }\n",
              "\n",
              "    .colab-df-buttons div {\n",
              "      margin-bottom: 4px;\n",
              "    }\n",
              "\n",
              "    [theme=dark] .colab-df-convert {\n",
              "      background-color: #3B4455;\n",
              "      fill: #D2E3FC;\n",
              "    }\n",
              "\n",
              "    [theme=dark] .colab-df-convert:hover {\n",
              "      background-color: #434B5C;\n",
              "      box-shadow: 0px 1px 3px 1px rgba(0, 0, 0, 0.15);\n",
              "      filter: drop-shadow(0px 1px 2px rgba(0, 0, 0, 0.3));\n",
              "      fill: #FFFFFF;\n",
              "    }\n",
              "  </style>\n",
              "\n",
              "    <script>\n",
              "      const buttonEl =\n",
              "        document.querySelector('#df-bb21c840-8ebc-4e53-a873-0b75a1b112e6 button.colab-df-convert');\n",
              "      buttonEl.style.display =\n",
              "        google.colab.kernel.accessAllowed ? 'block' : 'none';\n",
              "\n",
              "      async function convertToInteractive(key) {\n",
              "        const element = document.querySelector('#df-bb21c840-8ebc-4e53-a873-0b75a1b112e6');\n",
              "        const dataTable =\n",
              "          await google.colab.kernel.invokeFunction('convertToInteractive',\n",
              "                                                    [key], {});\n",
              "        if (!dataTable) return;\n",
              "\n",
              "        const docLinkHtml = 'Like what you see? Visit the ' +\n",
              "          '<a target=\"_blank\" href=https://colab.research.google.com/notebooks/data_table.ipynb>data table notebook</a>'\n",
              "          + ' to learn more about interactive tables.';\n",
              "        element.innerHTML = '';\n",
              "        dataTable['output_type'] = 'display_data';\n",
              "        await google.colab.output.renderOutput(dataTable, element);\n",
              "        const docLink = document.createElement('div');\n",
              "        docLink.innerHTML = docLinkHtml;\n",
              "        element.appendChild(docLink);\n",
              "      }\n",
              "    </script>\n",
              "  </div>\n",
              "\n",
              "\n",
              "    <div id=\"df-e83beb90-0cea-4c44-9f6a-5f20a57458b2\">\n",
              "      <button class=\"colab-df-quickchart\" onclick=\"quickchart('df-e83beb90-0cea-4c44-9f6a-5f20a57458b2')\"\n",
              "                title=\"Suggest charts\"\n",
              "                style=\"display:none;\">\n",
              "\n",
              "<svg xmlns=\"http://www.w3.org/2000/svg\" height=\"24px\"viewBox=\"0 0 24 24\"\n",
              "     width=\"24px\">\n",
              "    <g>\n",
              "        <path d=\"M19 3H5c-1.1 0-2 .9-2 2v14c0 1.1.9 2 2 2h14c1.1 0 2-.9 2-2V5c0-1.1-.9-2-2-2zM9 17H7v-7h2v7zm4 0h-2V7h2v10zm4 0h-2v-4h2v4z\"/>\n",
              "    </g>\n",
              "</svg>\n",
              "      </button>\n",
              "\n",
              "<style>\n",
              "  .colab-df-quickchart {\n",
              "      --bg-color: #E8F0FE;\n",
              "      --fill-color: #1967D2;\n",
              "      --hover-bg-color: #E2EBFA;\n",
              "      --hover-fill-color: #174EA6;\n",
              "      --disabled-fill-color: #AAA;\n",
              "      --disabled-bg-color: #DDD;\n",
              "  }\n",
              "\n",
              "  [theme=dark] .colab-df-quickchart {\n",
              "      --bg-color: #3B4455;\n",
              "      --fill-color: #D2E3FC;\n",
              "      --hover-bg-color: #434B5C;\n",
              "      --hover-fill-color: #FFFFFF;\n",
              "      --disabled-bg-color: #3B4455;\n",
              "      --disabled-fill-color: #666;\n",
              "  }\n",
              "\n",
              "  .colab-df-quickchart {\n",
              "    background-color: var(--bg-color);\n",
              "    border: none;\n",
              "    border-radius: 50%;\n",
              "    cursor: pointer;\n",
              "    display: none;\n",
              "    fill: var(--fill-color);\n",
              "    height: 32px;\n",
              "    padding: 0;\n",
              "    width: 32px;\n",
              "  }\n",
              "\n",
              "  .colab-df-quickchart:hover {\n",
              "    background-color: var(--hover-bg-color);\n",
              "    box-shadow: 0 1px 2px rgba(60, 64, 67, 0.3), 0 1px 3px 1px rgba(60, 64, 67, 0.15);\n",
              "    fill: var(--button-hover-fill-color);\n",
              "  }\n",
              "\n",
              "  .colab-df-quickchart-complete:disabled,\n",
              "  .colab-df-quickchart-complete:disabled:hover {\n",
              "    background-color: var(--disabled-bg-color);\n",
              "    fill: var(--disabled-fill-color);\n",
              "    box-shadow: none;\n",
              "  }\n",
              "\n",
              "  .colab-df-spinner {\n",
              "    border: 2px solid var(--fill-color);\n",
              "    border-color: transparent;\n",
              "    border-bottom-color: var(--fill-color);\n",
              "    animation:\n",
              "      spin 1s steps(1) infinite;\n",
              "  }\n",
              "\n",
              "  @keyframes spin {\n",
              "    0% {\n",
              "      border-color: transparent;\n",
              "      border-bottom-color: var(--fill-color);\n",
              "      border-left-color: var(--fill-color);\n",
              "    }\n",
              "    20% {\n",
              "      border-color: transparent;\n",
              "      border-left-color: var(--fill-color);\n",
              "      border-top-color: var(--fill-color);\n",
              "    }\n",
              "    30% {\n",
              "      border-color: transparent;\n",
              "      border-left-color: var(--fill-color);\n",
              "      border-top-color: var(--fill-color);\n",
              "      border-right-color: var(--fill-color);\n",
              "    }\n",
              "    40% {\n",
              "      border-color: transparent;\n",
              "      border-right-color: var(--fill-color);\n",
              "      border-top-color: var(--fill-color);\n",
              "    }\n",
              "    60% {\n",
              "      border-color: transparent;\n",
              "      border-right-color: var(--fill-color);\n",
              "    }\n",
              "    80% {\n",
              "      border-color: transparent;\n",
              "      border-right-color: var(--fill-color);\n",
              "      border-bottom-color: var(--fill-color);\n",
              "    }\n",
              "    90% {\n",
              "      border-color: transparent;\n",
              "      border-bottom-color: var(--fill-color);\n",
              "    }\n",
              "  }\n",
              "</style>\n",
              "\n",
              "      <script>\n",
              "        async function quickchart(key) {\n",
              "          const quickchartButtonEl =\n",
              "            document.querySelector('#' + key + ' button');\n",
              "          quickchartButtonEl.disabled = true;  // To prevent multiple clicks.\n",
              "          quickchartButtonEl.classList.add('colab-df-spinner');\n",
              "          try {\n",
              "            const charts = await google.colab.kernel.invokeFunction(\n",
              "                'suggestCharts', [key], {});\n",
              "          } catch (error) {\n",
              "            console.error('Error during call to suggestCharts:', error);\n",
              "          }\n",
              "          quickchartButtonEl.classList.remove('colab-df-spinner');\n",
              "          quickchartButtonEl.classList.add('colab-df-quickchart-complete');\n",
              "        }\n",
              "        (() => {\n",
              "          let quickchartButtonEl =\n",
              "            document.querySelector('#df-e83beb90-0cea-4c44-9f6a-5f20a57458b2 button');\n",
              "          quickchartButtonEl.style.display =\n",
              "            google.colab.kernel.accessAllowed ? 'block' : 'none';\n",
              "        })();\n",
              "      </script>\n",
              "    </div>\n",
              "\n",
              "    </div>\n",
              "  </div>\n"
            ],
            "text/plain": [
              "            z-score           class\n",
              "ngram                              \n",
              "money     -7.957425       r/atheism\n",
              "religion  -7.769434       r/atheism\n",
              "religious -7.605858       r/atheism\n",
              "science   -7.084885       r/atheism\n",
              "body      -6.993762       r/atheism\n",
              "...             ...             ...\n",
              "over and   7.718249  r/Christianity\n",
              "the word   8.149449  r/Christianity\n",
              "word       8.223430  r/Christianity\n",
              "sin        9.203761  r/Christianity\n",
              "god        9.664310  r/Christianity\n",
              "\n",
              "[5034 rows x 2 columns]"
            ]
          },
          "execution_count": 46,
          "metadata": {},
          "output_type": "execute_result"
        }
      ],
      "source": [
        "fw.summarize(corpus, plot=True, class1_name='r/Christianity', class2_name='r/atheism')"
      ]
    },
    {
      "cell_type": "markdown",
      "metadata": {
        "id": "m3rjrkcf0TrL"
      },
      "source": [
        "Not only do we get a visual plot summarizing the differences, we get a DataFrame mapping an n-gram to its z-score (a measure of how salient the n-gram is) and the class it belongs to.\n",
        "\n",
        "As we can see, r/Christianity is comparatively more likely to use terms like 'god', 'sin', and 'christ', while r/atheism uses terms 'money', 'religion', and 'science'."
      ]
    },
    {
      "cell_type": "markdown",
      "metadata": {
        "id": "XxhQqoME0TrL"
      },
      "source": [
        "We have gone through the application of the Fighting Words to a corpus. Other Transformers follow a similar pattern. To reiterate:\n",
        "\n",
        "- They are initialized with several configurable parameters.\n",
        "- They may be ``fit()`` on the Corpus if the Transformer needs to learn something from the Corpus.\n",
        "- They can ``transform()`` the corpus to annotate its components with the output of the Transformer.\n",
        "- They can ``summarize()`` their results in a more visual and easily interpreted format -- though in most cases (but not this one), this requires that the Corpus be transformed first.\n",
        "- These ``fit()``, ``transform()``, ``summarize()`` functions have ``selector`` as an argument so you can further specify subsets of the Corpus to analyze.\n",
        "\n",
        "Other transformers can be applied in the same way, and even chained in sequence."
      ]
    },
    {
      "cell_type": "markdown",
      "metadata": {
        "id": "I0jS548z0TrL"
      },
      "source": [
        "This concludes our introductory tutorial to ConvoKit. Read our [documentation](https://convokit.cornell.edu/documentation/) for an exhaustive coverage of ConvoKit's classes and functions, and get in touch with us at our [GitHub repo](https://github.com/CornellNLP/ConvoKit) if you would like to add your conversational datasets & methods to ConvoKit or make any feature requests!"
      ]
    }
  ],
  "metadata": {
    "colab": {
      "provenance": []
    },
    "kernelspec": {
      "display_name": "Python 3",
      "language": "python",
      "name": "python3"
    },
    "language_info": {
      "codemirror_mode": {
        "name": "ipython",
        "version": 3
      },
      "file_extension": ".py",
      "mimetype": "text/x-python",
      "name": "python",
      "nbconvert_exporter": "python",
      "pygments_lexer": "ipython3",
      "version": "3.7.6"
    },
    "pycharm": {
      "stem_cell": {
        "cell_type": "raw",
        "metadata": {
          "collapsed": false
        },
        "source": []
      }
    }
  },
  "nbformat": 4,
  "nbformat_minor": 0
}
