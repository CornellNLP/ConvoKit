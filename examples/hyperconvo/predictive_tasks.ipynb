{
 "cells": [
  {
   "cell_type": "markdown",
   "metadata": {},
   "source": [
    "In this demo, we demonstrate how we can use Hypergraph features for various predictive tasks:"
   ]
  },
  {
   "cell_type": "code",
   "execution_count": 1,
   "metadata": {},
   "outputs": [],
   "source": [
    "import convokit\n",
    "from convokit import Corpus, HyperConvo, download\n",
    "import pickle"
   ]
  },
  {
   "cell_type": "markdown",
   "metadata": {},
   "source": [
    "### Setting up the corpus"
   ]
  },
  {
   "cell_type": "code",
   "execution_count": 2,
   "metadata": {},
   "outputs": [
    {
     "name": "stdout",
     "output_type": "stream",
     "text": [
      "Dataset already exists at /Users/seanzhangkx/.convokit/downloads/reddit-corpus-small\n"
     ]
    }
   ],
   "source": [
    "corpus = Corpus(filename=download(\"reddit-corpus-small\", use_local=True))"
   ]
  },
  {
   "cell_type": "markdown",
   "metadata": {},
   "source": [
    "By default, each Conversation in this Corpus corresponds to a full Reddit thread (i.e. the starting post and subsequent comments). In this demo, we want to exclude the post itself from the analysis, and focus only on conversation threads that begin with the 'top-level comments' in the Reddit threads.\n",
    "\n",
    "To do that, we do a reindexing step such that our conversations begin from top-level comments instead of the post."
   ]
  },
  {
   "cell_type": "code",
   "execution_count": 3,
   "metadata": {},
   "outputs": [],
   "source": [
    "top_level_utterance_ids = [\n",
    "    utt.id for utt in corpus.iter_utterances() if utt.id == utt.meta[\"top_level_comment\"]\n",
    "]"
   ]
  },
  {
   "cell_type": "code",
   "execution_count": 4,
   "metadata": {},
   "outputs": [
    {
     "data": {
      "text/plain": [
       "10000"
      ]
     },
     "execution_count": 4,
     "metadata": {},
     "output_type": "execute_result"
    }
   ],
   "source": [
    "len(top_level_utterance_ids)"
   ]
  },
  {
   "cell_type": "code",
   "execution_count": 5,
   "metadata": {},
   "outputs": [],
   "source": [
    "threads_corpus = corpus.reindex_conversations(\n",
    "    source_corpus=corpus,\n",
    "    new_convo_roots=top_level_utterance_ids,\n",
    "    preserve_convo_meta=True,\n",
    "    preserve_corpus_meta=False,\n",
    ")"
   ]
  },
  {
   "cell_type": "markdown",
   "metadata": {},
   "source": [
    "### Annotating dataset with predictive features: hyperconvo, volume, BoW, reply-tree"
   ]
  },
  {
   "cell_type": "markdown",
   "metadata": {},
   "source": [
    "For our classification tasks (elaborated on below), we want to set up suitable predictive features for use in fitting a classifier. As our tasks will be structural in nature (i.e. focused on predicting certain structural outcomes in the threads), we annotate the corpus with the following sets of features:\n",
    "\n",
    "- hyperconvo: The HyperConvo graph features\n",
    "- volume: The number of comments in the conversation\n",
    "- BoW: A Bag-of-Words representation of the comments in the conversation \n",
    "- reply-tree: a subset of HyperConvo features that are focused on comment-to-comment (aka. c->c) features"
   ]
  },
  {
   "cell_type": "markdown",
   "metadata": {},
   "source": [
    "#### HyperConvo features"
   ]
  },
  {
   "cell_type": "code",
   "execution_count": 6,
   "metadata": {},
   "outputs": [],
   "source": [
    "hc = HyperConvo(prefix_len=10, min_convo_len=10, invalid_val=-1)\n",
    "hc.fit_transform(threads_corpus)\n",
    "feats = list(threads_corpus.get_vector_matrix(\"hyperconvo\").columns)"
   ]
  },
  {
   "cell_type": "markdown",
   "metadata": {},
   "source": [
    "(Note: By design of the corpus, every Conversation thread has at least 10 comments in it and will thus be of sufficient length to have a HyperConvo vector computed for it.)"
   ]
  },
  {
   "cell_type": "code",
   "execution_count": 7,
   "metadata": {},
   "outputs": [
    {
     "data": {
      "text/plain": [
       "['max[indegree over c->c responses]',\n",
       " 'argmax[indegree over c->c responses]',\n",
       " 'norm.max[indegree over c->c responses]']"
      ]
     },
     "execution_count": 7,
     "metadata": {},
     "output_type": "execute_result"
    }
   ],
   "source": [
    "feats[:3]"
   ]
  },
  {
   "cell_type": "markdown",
   "metadata": {},
   "source": [
    "#### Reply-tree features"
   ]
  },
  {
   "cell_type": "code",
   "execution_count": 8,
   "metadata": {},
   "outputs": [],
   "source": [
    "hyperconvo_matrix = threads_corpus.get_vector_matrix(\"hyperconvo\")"
   ]
  },
  {
   "cell_type": "code",
   "execution_count": 9,
   "metadata": {},
   "outputs": [],
   "source": [
    "reply_tree_matrix = hyperconvo_matrix.subset(\n",
    "    columns=[c for c in hyperconvo_matrix.columns if \"c->c\" in c]\n",
    ")"
   ]
  },
  {
   "cell_type": "code",
   "execution_count": 10,
   "metadata": {},
   "outputs": [],
   "source": [
    "reply_tree_matrix.name = \"reply-tree\""
   ]
  },
  {
   "cell_type": "code",
   "execution_count": 11,
   "metadata": {},
   "outputs": [],
   "source": [
    "threads_corpus.append_vector_matrix(reply_tree_matrix)"
   ]
  },
  {
   "cell_type": "code",
   "execution_count": 12,
   "metadata": {},
   "outputs": [],
   "source": [
    "for convo in threads_corpus.iter_conversations():\n",
    "    if convo.has_vector(\"hyperconvo\"):\n",
    "        convo.add_vector(\"reply-tree\")"
   ]
  },
  {
   "cell_type": "markdown",
   "metadata": {},
   "source": [
    "#### Volume"
   ]
  },
  {
   "cell_type": "code",
   "execution_count": 13,
   "metadata": {},
   "outputs": [],
   "source": [
    "## volume is the number of unique users in the first 10 comments\n",
    "for convo in threads_corpus.iter_conversations():\n",
    "    convo.meta[\"volume\"] = len(\n",
    "        set([utt.speaker for utt in convo.get_chronological_utterance_list()[:10]])\n",
    "    )"
   ]
  },
  {
   "cell_type": "markdown",
   "metadata": {},
   "source": [
    "We will add **BoW** vectors later in the notebook."
   ]
  },
  {
   "cell_type": "markdown",
   "metadata": {},
   "source": [
    "### Predictive tasks"
   ]
  },
  {
   "cell_type": "markdown",
   "metadata": {},
   "source": [
    "Based on the first 10 utterances in the Conversation, we want to predict:\n",
    "1. *Comment-growth*: Will the conversation grow to have at least 15 utterances?\n",
    "2. *Commenter-growth*: Will the total number of participants double in the next 10 utterances (i.e. 11th-20th utterances)?"
   ]
  },
  {
   "cell_type": "markdown",
   "metadata": {},
   "source": [
    "Firstly, we annotate Conversations with binary values indicating whether they exhibited comment-growth and whether they exhibited commenter-growth."
   ]
  },
  {
   "cell_type": "code",
   "execution_count": 14,
   "metadata": {},
   "outputs": [],
   "source": [
    "for convo in threads_corpus.iter_conversations():\n",
    "    convo.meta[\"comment-growth\"] = len(list(convo.iter_utterances())) >= 15\n",
    "\n",
    "    convo_utts = convo.get_chronological_utterance_list()\n",
    "    if len(convo_utts) >= 20:\n",
    "        first_10_spkrs = len(set([utt.speaker.id for utt in convo_utts[:10]]))\n",
    "        first_20_spkrs = len(set([utt.speaker.id for utt in convo_utts[:20]]))\n",
    "        convo.meta[\"commenter-growth\"] = (first_20_spkrs / first_10_spkrs) >= 2.0\n",
    "    else:\n",
    "        convo.meta[\"commenter-growth\"] = None"
   ]
  },
  {
   "cell_type": "code",
   "execution_count": 15,
   "metadata": {},
   "outputs": [
    {
     "data": {
      "text/plain": [
       "ConvoKitMeta({'original_convo_meta': {'title': 'Coming Soon: Sibling Rivalry Podcast Season 2 with Bob The Drag Queen &amp; Monét X Change', 'num_comments': 19, 'domain': 'youtube.com', 'timestamp': 1536033837, 'subreddit': 'rupaulsdragrace', 'gilded': 0, 'gildings': {'gid_1': 0, 'gid_2': 0, 'gid_3': 0}, 'stickied': False, 'author_flair_text': 'Miz Cracker'}, 'original_convo_id': '9cs8tg', 'volume': 6, 'comment-growth': False, 'commenter-growth': None})"
      ]
     },
     "execution_count": 15,
     "metadata": {},
     "output_type": "execute_result"
    }
   ],
   "source": [
    "threads_corpus.random_conversation().meta"
   ]
  },
  {
   "cell_type": "markdown",
   "metadata": {},
   "source": [
    "To control for topical factors (e.g. the subreddit the thread is from, the discussion topic of the post), we carry out a *paired prediction*, where we explicitly compare top-level comment threads that belong to the same post. To do this, we use ConvoKit's [Pairer](https://convokit.cornell.edu/documentation/pairedprediction.html) transformer to set up these pairs of threads for analysis."
   ]
  },
  {
   "cell_type": "code",
   "execution_count": 16,
   "metadata": {},
   "outputs": [],
   "source": [
    "from convokit import Classifier, Pairer"
   ]
  },
  {
   "cell_type": "code",
   "execution_count": 17,
   "metadata": {},
   "outputs": [],
   "source": [
    "pairer_1 = Pairer(\n",
    "    obj_type=\"conversation\",\n",
    "    pairing_func=lambda convo: convo.meta[\"original_convo_id\"],\n",
    "    pos_label_func=lambda convo: convo.meta[\"comment-growth\"],\n",
    "    neg_label_func=lambda convo: not convo.meta[\"comment-growth\"],\n",
    "    pair_id_attribute_name=\"pair_id_1\",\n",
    "    label_attribute_name=\"pair_obj_1\",\n",
    "    pair_orientation_attribute_name=\"pair_orientation_1\",\n",
    ")"
   ]
  },
  {
   "cell_type": "code",
   "execution_count": 18,
   "metadata": {},
   "outputs": [
    {
     "data": {
      "text/plain": [
       "<convokit.model.corpus.Corpus at 0x7f7ea107b850>"
      ]
     },
     "execution_count": 18,
     "metadata": {},
     "output_type": "execute_result"
    }
   ],
   "source": [
    "pairer_1.transform(threads_corpus)"
   ]
  },
  {
   "cell_type": "code",
   "execution_count": 19,
   "metadata": {},
   "outputs": [],
   "source": [
    "pairer_2 = Pairer(\n",
    "    obj_type=\"conversation\",\n",
    "    pairing_func=lambda convo: convo.meta[\"original_convo_id\"],\n",
    "    pos_label_func=lambda convo: convo.meta[\"commenter-growth\"],\n",
    "    neg_label_func=lambda convo: not convo.meta[\"commenter-growth\"],\n",
    "    pair_id_attribute_name=\"pair_id_2\",\n",
    "    label_attribute_name=\"pair_obj_2\",\n",
    "    pair_orientation_attribute_name=\"pair_orientation_2\",\n",
    ")"
   ]
  },
  {
   "cell_type": "code",
   "execution_count": 20,
   "metadata": {},
   "outputs": [
    {
     "data": {
      "text/plain": [
       "<convokit.model.corpus.Corpus at 0x7f7ea107b850>"
      ]
     },
     "execution_count": 20,
     "metadata": {},
     "output_type": "execute_result"
    }
   ],
   "source": [
    "pairer_2.transform(threads_corpus)"
   ]
  },
  {
   "cell_type": "markdown",
   "metadata": {},
   "source": [
    "We add BoW vectors -- only on paired convos."
   ]
  },
  {
   "cell_type": "code",
   "execution_count": 21,
   "metadata": {},
   "outputs": [],
   "source": [
    "from convokit import BoWTransformer"
   ]
  },
  {
   "cell_type": "code",
   "execution_count": 22,
   "metadata": {},
   "outputs": [
    {
     "name": "stdout",
     "output_type": "stream",
     "text": [
      "Initializing default unigram CountVectorizer...Done.\n"
     ]
    },
    {
     "data": {
      "text/plain": [
       "<convokit.model.corpus.Corpus at 0x7f7ea107b850>"
      ]
     },
     "execution_count": 22,
     "metadata": {},
     "output_type": "execute_result"
    }
   ],
   "source": [
    "bow = BoWTransformer(obj_type=\"conversation\", vector_name=\"bow_1\")\n",
    "bow.fit_transform(threads_corpus, selector=lambda convo: convo.meta[\"pair_id_1\"] is not None)"
   ]
  },
  {
   "cell_type": "code",
   "execution_count": 23,
   "metadata": {},
   "outputs": [
    {
     "name": "stdout",
     "output_type": "stream",
     "text": [
      "Initializing default unigram CountVectorizer...Done.\n"
     ]
    },
    {
     "data": {
      "text/plain": [
       "<convokit.model.corpus.Corpus at 0x7f7ea107b850>"
      ]
     },
     "execution_count": 23,
     "metadata": {},
     "output_type": "execute_result"
    }
   ],
   "source": [
    "bow2 = BoWTransformer(obj_type=\"conversation\", vector_name=\"bow_2\")\n",
    "bow2.fit_transform(threads_corpus, selector=lambda convo: convo.meta[\"pair_id_2\"] is not None)"
   ]
  },
  {
   "cell_type": "code",
   "execution_count": 24,
   "metadata": {},
   "outputs": [
    {
     "data": {
      "text/plain": [
       "{'bow_1', 'bow_2', 'hyperconvo', 'reply-tree'}"
      ]
     },
     "execution_count": 24,
     "metadata": {},
     "output_type": "execute_result"
    }
   ],
   "source": [
    "threads_corpus.vectors"
   ]
  },
  {
   "cell_type": "markdown",
   "metadata": {},
   "source": [
    "### Comment-growth task: : Will the conversation grow to have at least 15 utterances?"
   ]
  },
  {
   "cell_type": "code",
   "execution_count": 25,
   "metadata": {},
   "outputs": [],
   "source": [
    "from convokit import PairedPrediction, PairedVectorPrediction"
   ]
  },
  {
   "cell_type": "markdown",
   "metadata": {},
   "source": [
    "### Cross-validated scores for different feature sets"
   ]
  },
  {
   "cell_type": "markdown",
   "metadata": {},
   "source": [
    "We initialize ConvoKit's PairedPrediction transformers, which will make use of the pair information we added using Pairer earlier + the predictive features/vectors we annotated earlier, to generate the feature and label data needed to train a classifier.\n",
    "\n",
    "The *summarize()* function runs a cross-validation analysis using the PairedPrediction's internal classifier and outputs the mean accuracy score."
   ]
  },
  {
   "cell_type": "markdown",
   "metadata": {},
   "source": [
    "#### Hyperconvo"
   ]
  },
  {
   "cell_type": "markdown",
   "metadata": {},
   "source": [
    "Notice that we use 'pair_id_1', 'pair_obj_1', and 'pair_orientation_1' because this corresponds to the Pairer annotations for the __comment-growth task__."
   ]
  },
  {
   "cell_type": "code",
   "execution_count": 26,
   "metadata": {},
   "outputs": [
    {
     "name": "stdout",
     "output_type": "stream",
     "text": [
      "Found 549 valid pairs.\n"
     ]
    },
    {
     "data": {
      "text/plain": [
       "0.5774812343619683"
      ]
     },
     "execution_count": 26,
     "metadata": {},
     "output_type": "execute_result"
    }
   ],
   "source": [
    "pp = PairedVectorPrediction(\n",
    "    obj_type=\"conversation\",\n",
    "    vector_name=\"hyperconvo\",\n",
    "    pair_id_attribute_name=\"pair_id_1\",\n",
    "    label_attribute_name=\"pair_obj_1\",\n",
    "    pair_orientation_attribute_name=\"pair_orientation_1\",\n",
    ")\n",
    "pp.summarize(threads_corpus)"
   ]
  },
  {
   "cell_type": "markdown",
   "metadata": {},
   "source": [
    "#### Reply-tree"
   ]
  },
  {
   "cell_type": "code",
   "execution_count": 27,
   "metadata": {},
   "outputs": [
    {
     "name": "stdout",
     "output_type": "stream",
     "text": [
      "Found 549 valid pairs.\n"
     ]
    },
    {
     "data": {
      "text/plain": [
       "0.5973144286905754"
      ]
     },
     "execution_count": 27,
     "metadata": {},
     "output_type": "execute_result"
    }
   ],
   "source": [
    "pp = PairedVectorPrediction(\n",
    "    obj_type=\"conversation\",\n",
    "    vector_name=\"reply-tree\",\n",
    "    pair_id_attribute_name=\"pair_id_1\",\n",
    "    label_attribute_name=\"pair_obj_1\",\n",
    "    pair_orientation_attribute_name=\"pair_orientation_1\",\n",
    ")\n",
    "pp.summarize(threads_corpus)"
   ]
  },
  {
   "cell_type": "markdown",
   "metadata": {},
   "source": [
    "#### Volume"
   ]
  },
  {
   "cell_type": "code",
   "execution_count": 28,
   "metadata": {},
   "outputs": [
    {
     "name": "stdout",
     "output_type": "stream",
     "text": [
      "Found 549 valid pairs.\n"
     ]
    },
    {
     "data": {
      "text/plain": [
       "0.5993327773144287"
      ]
     },
     "execution_count": 28,
     "metadata": {},
     "output_type": "execute_result"
    }
   ],
   "source": [
    "pp = PairedPrediction(\n",
    "    obj_type=\"conversation\",\n",
    "    pred_feats=[\"volume\"],\n",
    "    pair_id_attribute_name=\"pair_id_1\",\n",
    "    label_attribute_name=\"pair_obj_1\",\n",
    "    pair_orientation_attribute_name=\"pair_orientation_1\",\n",
    ")\n",
    "pp.summarize(threads_corpus)"
   ]
  },
  {
   "cell_type": "markdown",
   "metadata": {},
   "source": [
    "#### Bag-of-words"
   ]
  },
  {
   "cell_type": "code",
   "execution_count": 29,
   "metadata": {},
   "outputs": [
    {
     "name": "stdout",
     "output_type": "stream",
     "text": [
      "Found 549 valid pairs.\n"
     ]
    },
    {
     "data": {
      "text/plain": [
       "0.8160633861551293"
      ]
     },
     "execution_count": 29,
     "metadata": {},
     "output_type": "execute_result"
    }
   ],
   "source": [
    "pp = PairedVectorPrediction(\n",
    "    obj_type=\"conversation\",\n",
    "    vector_name=\"bow_1\",\n",
    "    pair_id_attribute_name=\"pair_id_1\",\n",
    "    label_attribute_name=\"pair_obj_1\",\n",
    "    pair_orientation_attribute_name=\"pair_orientation_1\",\n",
    ")\n",
    "pp.summarize(threads_corpus)"
   ]
  },
  {
   "cell_type": "code",
   "execution_count": 30,
   "metadata": {},
   "outputs": [
    {
     "name": "stdout",
     "output_type": "stream",
     "text": [
      "Found 549 valid pairs.\n"
     ]
    },
    {
     "data": {
      "text/plain": [
       "<convokit.paired_prediction.pairedVectorPrediction.PairedVectorPrediction at 0x7f7e360f8820>"
      ]
     },
     "execution_count": 30,
     "metadata": {},
     "output_type": "execute_result"
    }
   ],
   "source": [
    "pp.fit(threads_corpus)"
   ]
  },
  {
   "cell_type": "markdown",
   "metadata": {},
   "source": [
    "### Commenter-growth task: Will the total number of participants double in the next 10 utterances (i.e. 11th-20th utterances)?"
   ]
  },
  {
   "cell_type": "markdown",
   "metadata": {},
   "source": [
    "#### Hyperconvo"
   ]
  },
  {
   "cell_type": "code",
   "execution_count": 31,
   "metadata": {},
   "outputs": [
    {
     "name": "stdout",
     "output_type": "stream",
     "text": [
      "Found 306 valid pairs.\n"
     ]
    },
    {
     "data": {
      "text/plain": [
       "0.5655737704918031"
      ]
     },
     "execution_count": 31,
     "metadata": {},
     "output_type": "execute_result"
    }
   ],
   "source": [
    "pp = PairedVectorPrediction(\n",
    "    obj_type=\"conversation\",\n",
    "    vector_name=\"hyperconvo\",\n",
    "    pair_id_attribute_name=\"pair_id_2\",\n",
    "    label_attribute_name=\"pair_obj_2\",\n",
    "    pair_orientation_attribute_name=\"pair_orientation_2\",\n",
    ")\n",
    "pp.summarize(threads_corpus)"
   ]
  },
  {
   "cell_type": "markdown",
   "metadata": {},
   "source": [
    "#### Reply-tree"
   ]
  },
  {
   "cell_type": "code",
   "execution_count": 32,
   "metadata": {},
   "outputs": [
    {
     "name": "stdout",
     "output_type": "stream",
     "text": [
      "Found 306 valid pairs.\n"
     ]
    },
    {
     "data": {
      "text/plain": [
       "0.5296668429402432"
      ]
     },
     "execution_count": 32,
     "metadata": {},
     "output_type": "execute_result"
    }
   ],
   "source": [
    "pp = PairedVectorPrediction(\n",
    "    obj_type=\"conversation\",\n",
    "    vector_name=\"reply-tree\",\n",
    "    pair_id_attribute_name=\"pair_id_2\",\n",
    "    label_attribute_name=\"pair_obj_2\",\n",
    "    pair_orientation_attribute_name=\"pair_orientation_2\",\n",
    ")\n",
    "pp.summarize(threads_corpus)"
   ]
  },
  {
   "cell_type": "markdown",
   "metadata": {},
   "source": [
    "#### Volume"
   ]
  },
  {
   "cell_type": "code",
   "execution_count": 33,
   "metadata": {},
   "outputs": [
    {
     "name": "stdout",
     "output_type": "stream",
     "text": [
      "Found 306 valid pairs.\n"
     ]
    },
    {
     "data": {
      "text/plain": [
       "0.5849814912744579"
      ]
     },
     "execution_count": 33,
     "metadata": {},
     "output_type": "execute_result"
    }
   ],
   "source": [
    "pp = PairedPrediction(\n",
    "    obj_type=\"conversation\",\n",
    "    pred_feats=[\"volume\"],\n",
    "    pair_id_attribute_name=\"pair_id_2\",\n",
    "    label_attribute_name=\"pair_obj_2\",\n",
    "    pair_orientation_attribute_name=\"pair_orientation_2\",\n",
    ")\n",
    "pp.summarize(threads_corpus)"
   ]
  },
  {
   "cell_type": "markdown",
   "metadata": {},
   "source": [
    "#### Bag-of-words"
   ]
  },
  {
   "cell_type": "code",
   "execution_count": 34,
   "metadata": {},
   "outputs": [
    {
     "name": "stdout",
     "output_type": "stream",
     "text": [
      "Found 306 valid pairs.\n"
     ]
    },
    {
     "data": {
      "text/plain": [
       "0.7386567953463776"
      ]
     },
     "execution_count": 34,
     "metadata": {},
     "output_type": "execute_result"
    }
   ],
   "source": [
    "pp = PairedVectorPrediction(\n",
    "    obj_type=\"conversation\",\n",
    "    vector_name=\"bow_2\",\n",
    "    pair_id_attribute_name=\"pair_id_2\",\n",
    "    label_attribute_name=\"pair_obj_2\",\n",
    "    pair_orientation_attribute_name=\"pair_orientation_2\",\n",
    ")\n",
    "pp.summarize(threads_corpus)"
   ]
  }
 ],
 "metadata": {
  "kernelspec": {
   "display_name": "Python 3",
   "language": "python",
   "name": "python3"
  },
  "language_info": {
   "codemirror_mode": {
    "name": "ipython",
    "version": 3
   },
   "file_extension": ".py",
   "mimetype": "text/x-python",
   "name": "python",
   "nbconvert_exporter": "python",
   "pygments_lexer": "ipython3",
   "version": "3.9.0"
  }
 },
 "nbformat": 4,
 "nbformat_minor": 2
}
