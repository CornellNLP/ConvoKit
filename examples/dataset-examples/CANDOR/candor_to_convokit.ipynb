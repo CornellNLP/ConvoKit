{
 "cells": [
  {
   "cell_type": "markdown",
   "metadata": {},
   "source": [
    "## Converting the CANDOR Corpus into ConvoKit format \n",
    "\n",
    "This notebook is to help people working with CANDOR Corpus to quickly transform it into ConvoKit format.\n",
    "You can request CANDOR Corpus seperately from: https://betterup-data-requests.herokuapp.com/ and run through this notebook to have ConvoKit CANDOR Corpus instantly!"
   ]
  },
  {
   "cell_type": "code",
   "execution_count": 1,
   "metadata": {},
   "outputs": [],
   "source": [
    "from tqdm import tqdm\n",
    "from convokit import Corpus, Speaker, Utterance\n",
    "from collections import defaultdict\n",
    "import pandas as pd"
   ]
  },
  {
   "cell_type": "markdown",
   "metadata": {},
   "source": [
    "Below you should replace the CANDOR_PATH to the CANDOR Corpus with your own local directory path. Note that inside the CANDOR Corpus directory, there should be 3 files, a survey.tsv plus two transcript_method.tsv, and another directory, raw, which contains all the transcriptions in three methods."
   ]
  },
  {
   "cell_type": "code",
   "execution_count": 2,
   "metadata": {},
   "outputs": [],
   "source": [
    "# replace the directory with where your CANDOR corpus is saved\n",
    "CANDOR_PATH = '<YOUR CANDOR CORPUS DIRECTORY>'\n",
    "# ls: raw  survey.tsv  transcript_backbiter.tsv  transcript_cliffhanger.tsv"
   ]
  },
  {
   "cell_type": "code",
   "execution_count": 3,
   "metadata": {},
   "outputs": [],
   "source": [
    "survey_path = CANDOR_PATH + \"survey.tsv\"\n",
    "survey = pd.read_csv(survey_path, delimiter='\\t')"
   ]
  },
  {
   "cell_type": "markdown",
   "metadata": {},
   "source": [
    "### Creating Speaker List\n",
    "\n",
    "We create speaker list by going through the survey, and extract all speakers from the survey (survey is filled before and after by every speaker who conducted video calls during the experiment, and it is required when when CANDOR corpus is collecting data from participants!)"
   ]
  },
  {
   "cell_type": "code",
   "execution_count": 4,
   "metadata": {},
   "outputs": [
    {
     "data": {
      "text/plain": [
       "1454"
      ]
     },
     "execution_count": 4,
     "metadata": {},
     "output_type": "execute_result"
    }
   ],
   "source": [
    "all_speakers = list(set(survey['user_id'].to_list() + survey['partner_id'].to_list()))\n",
    "len(all_speakers)"
   ]
  },
  {
   "cell_type": "code",
   "execution_count": 5,
   "metadata": {},
   "outputs": [],
   "source": [
    "corpus_speakers = {k: Speaker(id = k, meta = {}) for k in all_speakers}"
   ]
  },
  {
   "cell_type": "code",
   "execution_count": 6,
   "metadata": {},
   "outputs": [
    {
     "name": "stdout",
     "output_type": "stream",
     "text": [
      "number of speakers in the data = 1454\n"
     ]
    }
   ],
   "source": [
    "print(\"number of speakers in the data = {}\".format(len(corpus_speakers)))"
   ]
  },
  {
   "cell_type": "markdown",
   "metadata": {},
   "source": [
    "### Creating Utterance List\n",
    "\n",
    "Now, we get extract all utterances from the corpus, conversation by conversation. Here, each conversation is stored as an individual folder in the \"raw\" folder. Thus, we go into it, and extract one by one.\n",
    "\n",
    "Note that, there are three versions of transcripts for each conversation, corresponding to three different ways audio transcriptions are processed. For consistency, we recommend sticking with one type of transcription for corpus construction here. The three types are Audiophile, Cliffhanger, Backbiter. Modify the \"transcription_type\" varible for your intended processing method. Refer back to the paper for details on what each transcription processing method is about. \n",
    "\n",
    "CANDOR corpus paper: https://www.science.org/doi/epdf/10.1126/sciadv.adf3197"
   ]
  },
  {
   "cell_type": "code",
   "execution_count": 8,
   "metadata": {},
   "outputs": [
    {
     "data": {
      "text/plain": [
       "99"
      ]
     },
     "execution_count": 8,
     "metadata": {},
     "output_type": "execute_result"
    }
   ],
   "source": [
    "import os\n",
    "conversations_list_path = CANDOR_PATH + \"raw/\"\n",
    "conversations = [d for d in os.listdir(conversations_list_path) if os.path.isdir(os.path.join(conversations_list_path, d))]\n",
    "transcription_type = \"cliffhanger\" # or \"backbiter\" or \"audiophile\"\n",
    "len(conversations)"
   ]
  },
  {
   "cell_type": "markdown",
   "metadata": {},
   "source": [
    "Note that the fields of ConvoKit Utterance objects are:\n",
    "Utterance(id=..., speaker =..., conversation_id =..., reply_to=..., timestamp=..., text =..., meta =...)"
   ]
  },
  {
   "cell_type": "code",
   "execution_count": 9,
   "metadata": {},
   "outputs": [
    {
     "name": "stdout",
     "output_type": "stream",
     "text": [
      "30075\n"
     ]
    }
   ],
   "source": [
    "utt_id_count = 0\n",
    "corpus_utterances = {}\n",
    "for convo_id in conversations:\n",
    "    meta_path = f\"{conversations_list_path}{convo_id}/metadata.json\"\n",
    "    transcription_path = f\"{conversations_list_path}{convo_id}/transcription/transcript_{transcription_type}.csv\"\n",
    "    transcription = pd.read_csv(transcription_path)\n",
    "    for index, row in transcription.iterrows():\n",
    "        reply_to = None if row['turn_id'] == 0 else utt_id_count-1\n",
    "        meta = {}\n",
    "        for k, v in row.items():\n",
    "            if k != \"speaker\" and k != \"utterance\":\n",
    "                meta.update({k : v})\n",
    "        utt = Utterance(id=str(utt_id_count), speaker=corpus_speakers[row['speaker']], conversation_id=str(convo_id), reply_to=str(reply_to), timestamp=row['start'], text=row['utterance'], meta=meta)\n",
    "        corpus_utterances[utt_id_count] = utt\n",
    "        utt_id_count += 1\n",
    "\n",
    "print(utt_id_count)"
   ]
  },
  {
   "cell_type": "code",
   "execution_count": 10,
   "metadata": {},
   "outputs": [],
   "source": [
    "utterance_list = corpus_utterances.values()"
   ]
  },
  {
   "cell_type": "code",
   "execution_count": 11,
   "metadata": {},
   "outputs": [],
   "source": [
    "CANDOR_corpus = Corpus(utterances=utterance_list)"
   ]
  },
  {
   "cell_type": "markdown",
   "metadata": {},
   "source": [
    "### Updating Conversation Info\n",
    "\n",
    "Here, we update the conversation info, especially the metadata from surveys participants filled.\n",
    "\n",
    "For each conversation, we got 1 survey from each conversation participant, and as this conversation is 2 people video calling, we got 2 surveys per conversation. We decided to organize the metadata in the following way:\n",
    "\n",
    "convo.meta = {\"survey field name\" : {\"sp_A id\" : \"sp_A survey value\", \"sp_B\" : \"sp_B survey value\"} ... }\n",
    "\n",
    "We choose this way or organizing metadata, as we usually focus on several survey fields, and analysis the values from two participants. This format allow us to quickly extract such information. \n",
    "\n",
    "You can also feel free to modify the format to suit your research / work needs."
   ]
  },
  {
   "cell_type": "code",
   "execution_count": 12,
   "metadata": {},
   "outputs": [
    {
     "name": "stdout",
     "output_type": "stream",
     "text": [
      "number of conversations in the dataset = 99\n"
     ]
    }
   ],
   "source": [
    "print(\"number of conversations in the dataset = {}\".format(len(CANDOR_corpus.get_conversation_ids())))"
   ]
  },
  {
   "cell_type": "markdown",
   "metadata": {},
   "source": [
    "Below we see how the survey from two participants of a random conversation looks like"
   ]
  },
  {
   "cell_type": "code",
   "execution_count": 13,
   "metadata": {},
   "outputs": [
    {
     "data": {
      "text/html": [
       "<div>\n",
       "<style scoped>\n",
       "    .dataframe tbody tr th:only-of-type {\n",
       "        vertical-align: middle;\n",
       "    }\n",
       "\n",
       "    .dataframe tbody tr th {\n",
       "        vertical-align: top;\n",
       "    }\n",
       "\n",
       "    .dataframe thead th {\n",
       "        text-align: right;\n",
       "    }\n",
       "</style>\n",
       "<table border=\"1\" class=\"dataframe\">\n",
       "  <thead>\n",
       "    <tr style=\"text-align: right;\">\n",
       "      <th></th>\n",
       "      <th>Unnamed: 0</th>\n",
       "      <th>user_id</th>\n",
       "      <th>partner_id</th>\n",
       "      <th>convo_id</th>\n",
       "      <th>date</th>\n",
       "      <th>survey_duration_in_seconds</th>\n",
       "      <th>time_zone</th>\n",
       "      <th>pre_affect</th>\n",
       "      <th>pre_arousal</th>\n",
       "      <th>technical_quality</th>\n",
       "      <th>...</th>\n",
       "      <th>my_conscientious</th>\n",
       "      <th>my_neurotic</th>\n",
       "      <th>my_open</th>\n",
       "      <th>your_extraversion</th>\n",
       "      <th>your_agreeable</th>\n",
       "      <th>your_conscientious</th>\n",
       "      <th>your_neurotic</th>\n",
       "      <th>your_open</th>\n",
       "      <th>who_i_talked_to_most_past24</th>\n",
       "      <th>most_common_format_past24</th>\n",
       "    </tr>\n",
       "  </thead>\n",
       "  <tbody>\n",
       "    <tr>\n",
       "      <th>1794</th>\n",
       "      <td>0</td>\n",
       "      <td>5b5e7e643bac1d0001f9bf28</td>\n",
       "      <td>5f07070d75038e05e9fcf515</td>\n",
       "      <td>8bf369ea-ab22-4723-ba24-caeff2204a9e</td>\n",
       "      <td>2020-08-13</td>\n",
       "      <td>2793</td>\n",
       "      <td>8.0</td>\n",
       "      <td>5.0</td>\n",
       "      <td>5.0</td>\n",
       "      <td>1.0</td>\n",
       "      <td>...</td>\n",
       "      <td>2.0</td>\n",
       "      <td>4.333333</td>\n",
       "      <td>5.000000</td>\n",
       "      <td>2.333333</td>\n",
       "      <td>4.666667</td>\n",
       "      <td>3.000000</td>\n",
       "      <td>3.000000</td>\n",
       "      <td>3.666667</td>\n",
       "      <td>NaN</td>\n",
       "      <td>NaN</td>\n",
       "    </tr>\n",
       "    <tr>\n",
       "      <th>1795</th>\n",
       "      <td>1</td>\n",
       "      <td>5f07070d75038e05e9fcf515</td>\n",
       "      <td>5b5e7e643bac1d0001f9bf28</td>\n",
       "      <td>8bf369ea-ab22-4723-ba24-caeff2204a9e</td>\n",
       "      <td>2020-08-13</td>\n",
       "      <td>5638</td>\n",
       "      <td>10.0</td>\n",
       "      <td>5.0</td>\n",
       "      <td>5.0</td>\n",
       "      <td>1.0</td>\n",
       "      <td>...</td>\n",
       "      <td>4.0</td>\n",
       "      <td>2.000000</td>\n",
       "      <td>4.666667</td>\n",
       "      <td>3.666667</td>\n",
       "      <td>3.666667</td>\n",
       "      <td>2.666667</td>\n",
       "      <td>3.666667</td>\n",
       "      <td>4.000000</td>\n",
       "      <td>NaN</td>\n",
       "      <td>NaN</td>\n",
       "    </tr>\n",
       "  </tbody>\n",
       "</table>\n",
       "<p>2 rows × 223 columns</p>\n",
       "</div>"
      ],
      "text/plain": [
       "      Unnamed: 0                   user_id                partner_id  \\\n",
       "1794           0  5b5e7e643bac1d0001f9bf28  5f07070d75038e05e9fcf515   \n",
       "1795           1  5f07070d75038e05e9fcf515  5b5e7e643bac1d0001f9bf28   \n",
       "\n",
       "                                  convo_id        date  \\\n",
       "1794  8bf369ea-ab22-4723-ba24-caeff2204a9e  2020-08-13   \n",
       "1795  8bf369ea-ab22-4723-ba24-caeff2204a9e  2020-08-13   \n",
       "\n",
       "      survey_duration_in_seconds  time_zone  pre_affect  pre_arousal  \\\n",
       "1794                        2793        8.0         5.0          5.0   \n",
       "1795                        5638       10.0         5.0          5.0   \n",
       "\n",
       "      technical_quality  ...  my_conscientious  my_neurotic   my_open  \\\n",
       "1794                1.0  ...               2.0     4.333333  5.000000   \n",
       "1795                1.0  ...               4.0     2.000000  4.666667   \n",
       "\n",
       "      your_extraversion  your_agreeable  your_conscientious  your_neurotic  \\\n",
       "1794           2.333333        4.666667            3.000000       3.000000   \n",
       "1795           3.666667        3.666667            2.666667       3.666667   \n",
       "\n",
       "      your_open  who_i_talked_to_most_past24 most_common_format_past24  \n",
       "1794   3.666667                          NaN                       NaN  \n",
       "1795   4.000000                          NaN                       NaN  \n",
       "\n",
       "[2 rows x 223 columns]"
      ]
     },
     "execution_count": 13,
     "metadata": {},
     "output_type": "execute_result"
    }
   ],
   "source": [
    "convo = CANDOR_corpus.random_conversation()\n",
    "survey[survey[\"convo_id\"] == convo.id]"
   ]
  },
  {
   "cell_type": "code",
   "execution_count": 23,
   "metadata": {},
   "outputs": [],
   "source": [
    "for convo in CANDOR_corpus.iter_conversations():\n",
    "    convo_id = convo.id\n",
    "    row1 = survey[survey['convo_id'] == convo_id].iloc[0]\n",
    "    row2 = survey[survey['convo_id'] == convo_id].iloc[1]\n",
    "    sp_A = row1['user_id']\n",
    "    sp_B = row2['user_id']\n",
    "    metadata = {}\n",
    "    for field in list(row1.index[1:]):\n",
    "        if field != \"convo_id\" and field != 'user_id':\n",
    "            field_values = {sp_A : row1[field], sp_B : row2[field]}\n",
    "            metadata.update({field : field_values})\n",
    "    convo.meta = metadata\n",
    "\n",
    "# Use Below instead if you want to have metadata formatted in: convo.meta = {sp_A : {sp_A survey with keys to be field, value to be values}, sp_B : {sp_B survey}}\n",
    "# for convo in CANDOR_corpus.iter_conversations():\n",
    "#     convo_id = convo.id\n",
    "#     row1 = survey[survey['convo_id'] == convo_id].iloc[0]\n",
    "#     row2 = survey[survey['convo_id'] == convo_id].iloc[1]\n",
    "#     metadata = {row1['user_id'] : {}, row2['user_id'] : {}}\n",
    "#     for row in [row1, row2]:\n",
    "#         for k, v in row.items():\n",
    "#             if k != \"convo_id\":\n",
    "#                 metadata[row['user_id']].update({k : v})\n",
    "#     convo.meta = metadata\n",
    "#     convo.meta.update({\"speaker_A\" : row1['user_id']})"
   ]
  },
  {
   "cell_type": "code",
   "execution_count": 25,
   "metadata": {},
   "outputs": [
    {
     "data": {
      "text/plain": [
       "ConvoKitMeta({'partner_id': {'5e52af8dd120e7000bc35826': '5e8ab4b84d3d6775b807e9ba', '5e8ab4b84d3d6775b807e9ba': '5e52af8dd120e7000bc35826'}, 'date': {'5e52af8dd120e7000bc35826': '2020-10-20', '5e8ab4b84d3d6775b807e9ba': '2020-10-20'}, 'survey_duration_in_seconds': {'5e52af8dd120e7000bc35826': 3524, '5e8ab4b84d3d6775b807e9ba': 2726}, 'time_zone': {'5e52af8dd120e7000bc35826': 5.0, '5e8ab4b84d3d6775b807e9ba': 5.0}, 'pre_affect': {'5e52af8dd120e7000bc35826': 4.0, '5e8ab4b84d3d6775b807e9ba': 7.0}, 'pre_arousal': {'5e52af8dd120e7000bc35826': 4.0, '5e8ab4b84d3d6775b807e9ba': 4.0}, 'technical_quality': {'5e52af8dd120e7000bc35826': 1.0, '5e8ab4b84d3d6775b807e9ba': 2.0}, 'conv_length': {'5e52af8dd120e7000bc35826': 32.0, '5e8ab4b84d3d6775b807e9ba': 31.0}, 'affect': {'5e52af8dd120e7000bc35826': 7.0, '5e8ab4b84d3d6775b807e9ba': 8.0}, 'arousal': {'5e52af8dd120e7000bc35826': 7.0, '5e8ab4b84d3d6775b807e9ba': 7.0}, 'overall_affect': {'5e52af8dd120e7000bc35826': 7.0, '5e8ab4b84d3d6775b807e9ba': 7.0}, 'overall_arousal': {'5e52af8dd120e7000bc35826': 7.0, '5e8ab4b84d3d6775b807e9ba': 7.0}, 'overall_memory_rating': {'5e52af8dd120e7000bc35826': 7.0, '5e8ab4b84d3d6775b807e9ba': 8.0}, 'begin_affect': {'5e52af8dd120e7000bc35826': 6.0, '5e8ab4b84d3d6775b807e9ba': 4.0}, 'begin_arousal': {'5e52af8dd120e7000bc35826': 6.0, '5e8ab4b84d3d6775b807e9ba': 6.0}, 'begin_memory_rating': {'5e52af8dd120e7000bc35826': 7.0, '5e8ab4b84d3d6775b807e9ba': 3.0}, 'begin_memory_text': {'5e52af8dd120e7000bc35826': 'We got to know each other a bit and talked about where we were from and what college we went to and the COVID situations going on at our colleges.', '5e8ab4b84d3d6775b807e9ba': 'I was kinda worried cause he said he was in the military and I am anti military, so I was nervous '}, 'middle_affect': {'5e52af8dd120e7000bc35826': 7.0, '5e8ab4b84d3d6775b807e9ba': 7.0}, 'middle_arousal': {'5e52af8dd120e7000bc35826': 7.0, '5e8ab4b84d3d6775b807e9ba': 6.0}, 'middle_memory_rating': {'5e52af8dd120e7000bc35826': 7.0, '5e8ab4b84d3d6775b807e9ba': 7.0}, 'middle_memory_text': {'5e52af8dd120e7000bc35826': \"We talked about my experiences in Army ROTC and the month-long training that I had to do over the summer. We also talked a bit about our experiences being RA's.\", '5e8ab4b84d3d6775b807e9ba': 'We talked about RA life and how fucked up it is'}, 'end_affect': {'5e52af8dd120e7000bc35826': 7.0, '5e8ab4b84d3d6775b807e9ba': 8.0}, 'end_arousal': {'5e52af8dd120e7000bc35826': 7.0, '5e8ab4b84d3d6775b807e9ba': 8.0}, 'end_memory_rating': {'5e52af8dd120e7000bc35826': 7.0, '5e8ab4b84d3d6775b807e9ba': 8.0}, 'end_memory_text': {'5e52af8dd120e7000bc35826': \"We kept talking about ROTC and also about being gay in the military since we were both LGBT. That led to us talking about our parent's reactions and if we were fully out.\", '5e8ab4b84d3d6775b807e9ba': 'We talked about his intense military camping \"trip\" and how tragic that was'}, 'worst_affect': {'5e52af8dd120e7000bc35826': 6.0, '5e8ab4b84d3d6775b807e9ba': 3.0}, 'worst_arousal': {'5e52af8dd120e7000bc35826': 6.0, '5e8ab4b84d3d6775b807e9ba': 5.0}, 'best_affect': {'5e52af8dd120e7000bc35826': 7.0, '5e8ab4b84d3d6775b807e9ba': 8.0}, 'best_arousal': {'5e52af8dd120e7000bc35826': 7.0, '5e8ab4b84d3d6775b807e9ba': 7.0}, 'how_enjoyable': {'5e52af8dd120e7000bc35826': 8.0, '5e8ab4b84d3d6775b807e9ba': 8.0}, 'i_like_you': {'5e52af8dd120e7000bc35826': 7.0, '5e8ab4b84d3d6775b807e9ba': 5.0}, 'you_like_me': {'5e52af8dd120e7000bc35826': 6.0, '5e8ab4b84d3d6775b807e9ba': 4.0}, 'in_common': {'5e52af8dd120e7000bc35826': 7.0, '5e8ab4b84d3d6775b807e9ba': 6.0}, 'conversationalist': {'5e52af8dd120e7000bc35826': 89.0, '5e8ab4b84d3d6775b807e9ba': 71.0}, 'next_seven_days': {'5e52af8dd120e7000bc35826': 6.0, '5e8ab4b84d3d6775b807e9ba': 6.0}, 'my_friends_like_you': {'5e52af8dd120e7000bc35826': 86.0, '5e8ab4b84d3d6775b807e9ba': 16.0}, 'good_for_advice': {'5e52af8dd120e7000bc35826': 81.0, '5e8ab4b84d3d6775b807e9ba': 35.0}, 'i_felt_close_to_my_partner': {'5e52af8dd120e7000bc35826': 6.0, '5e8ab4b84d3d6775b807e9ba': 3.0}, 'i_would_like_to_become_friends': {'5e52af8dd120e7000bc35826': 6.0, '5e8ab4b84d3d6775b807e9ba': 5.0}, 'i_paid_attention_to_my_partner': {'5e52af8dd120e7000bc35826': 6.0, '5e8ab4b84d3d6775b807e9ba': 6.0}, 'my_partner_paid_attention_to_me': {'5e52af8dd120e7000bc35826': 6.0, '5e8ab4b84d3d6775b807e9ba': 6.0}, 'my_partner_was_clear_and_coherent': {'5e52af8dd120e7000bc35826': 6.0, '5e8ab4b84d3d6775b807e9ba': 6.0}, 'interested_in_exchanging_contact_info': {'5e52af8dd120e7000bc35826': 1.0, '5e8ab4b84d3d6775b807e9ba': 1.0}, 'you_are_intelligent': {'5e52af8dd120e7000bc35826': 8.0, '5e8ab4b84d3d6775b807e9ba': 7.0}, 'you_are_quickwitted': {'5e52af8dd120e7000bc35826': 8.0, '5e8ab4b84d3d6775b807e9ba': 5.0}, 'you_are_competent': {'5e52af8dd120e7000bc35826': 8.0, '5e8ab4b84d3d6775b807e9ba': 9.0}, 'you_are_kind': {'5e52af8dd120e7000bc35826': 9.0, '5e8ab4b84d3d6775b807e9ba': 6.0}, 'you_are_friendly': {'5e52af8dd120e7000bc35826': 9.0, '5e8ab4b84d3d6775b807e9ba': 7.0}, 'you_are_warm': {'5e52af8dd120e7000bc35826': 9.0, '5e8ab4b84d3d6775b807e9ba': 8.0}, 'you_think_i_am_intelligent': {'5e52af8dd120e7000bc35826': 7.0, '5e8ab4b84d3d6775b807e9ba': 6.0}, 'you_think_i_am_quickwitted': {'5e52af8dd120e7000bc35826': 7.0, '5e8ab4b84d3d6775b807e9ba': 6.0}, 'you_think_i_am_competent': {'5e52af8dd120e7000bc35826': 7.0, '5e8ab4b84d3d6775b807e9ba': 7.0}, 'you_think_i_am_kind': {'5e52af8dd120e7000bc35826': 7.0, '5e8ab4b84d3d6775b807e9ba': 7.0}, 'you_think_i_am_friendly': {'5e52af8dd120e7000bc35826': 7.0, '5e8ab4b84d3d6775b807e9ba': 7.0}, 'you_think_i_am_warm': {'5e52af8dd120e7000bc35826': 7.0, '5e8ab4b84d3d6775b807e9ba': 7.0}, 'you_are_humble': {'5e52af8dd120e7000bc35826': 8.0, '5e8ab4b84d3d6775b807e9ba': 8.0}, 'you_are_giving': {'5e52af8dd120e7000bc35826': 8.0, '5e8ab4b84d3d6775b807e9ba': 7.0}, 'you_are_fair': {'5e52af8dd120e7000bc35826': 8.0, '5e8ab4b84d3d6775b807e9ba': 8.0}, 'you_are_trustworthy': {'5e52af8dd120e7000bc35826': 9.0, '5e8ab4b84d3d6775b807e9ba': 5.0}, 'you_are_agreeable': {'5e52af8dd120e7000bc35826': 8.0, '5e8ab4b84d3d6775b807e9ba': 6.0}, 'you_are_playful': {'5e52af8dd120e7000bc35826': 9.0, '5e8ab4b84d3d6775b807e9ba': 6.0}, 'i_am_intelligent': {'5e52af8dd120e7000bc35826': 7.0, '5e8ab4b84d3d6775b807e9ba': 9.0}, 'i_am_quickwitted': {'5e52af8dd120e7000bc35826': 7.0, '5e8ab4b84d3d6775b807e9ba': 7.0}, 'i_am_competent': {'5e52af8dd120e7000bc35826': 7.0, '5e8ab4b84d3d6775b807e9ba': 9.0}, 'i_am_kind': {'5e52af8dd120e7000bc35826': 6.0, '5e8ab4b84d3d6775b807e9ba': 5.0}, 'i_am_friendly': {'5e52af8dd120e7000bc35826': 7.0, '5e8ab4b84d3d6775b807e9ba': 6.0}, 'i_am_warm': {'5e52af8dd120e7000bc35826': 7.0, '5e8ab4b84d3d6775b807e9ba': 6.0}, 'i_am_humble': {'5e52af8dd120e7000bc35826': 6.0, '5e8ab4b84d3d6775b807e9ba': 5.0}, 'i_am_giving': {'5e52af8dd120e7000bc35826': 6.0, '5e8ab4b84d3d6775b807e9ba': 4.0}, 'i_am_fair': {'5e52af8dd120e7000bc35826': 7.0, '5e8ab4b84d3d6775b807e9ba': 6.0}, 'i_am_trustworthy': {'5e52af8dd120e7000bc35826': 8.0, '5e8ab4b84d3d6775b807e9ba': 6.0}, 'i_am_agreeable': {'5e52af8dd120e7000bc35826': 7.0, '5e8ab4b84d3d6775b807e9ba': 5.0}, 'i_am_playful': {'5e52af8dd120e7000bc35826': 7.0, '5e8ab4b84d3d6775b807e9ba': 5.0}, 'rest_of_day_open': {'5e52af8dd120e7000bc35826': \"I do not see it going very well, since I have a lot of stuff to do for school and an upcoming three-day event for ROTC that I do not actually want to go to. I'm also a bit stressed out dealing with other people at my college and the whole COVID situation.\", '5e8ab4b84d3d6775b807e9ba': \"I think I am just going to finish up some homework assignment. I also have some essays and projects due, but I think it'll be a good week and I am going to visit some friends and drink with them, so I am super excited about visiting  them this weekend\"}, 'critical_positive': {'5e52af8dd120e7000bc35826': \"I think we had a good amount in common that let us have a good conversation without getting bored of each other's company. I also think we had a pretty good banter going and it made for a very enjoyable conversation. My partner was also very nice and easy to talk to.\", '5e8ab4b84d3d6775b807e9ba': 'I am really glad that he told me he was gay. I was very nervous because you never know who you are going to meet on these chats and he pulled up in a cameo hat, and that is usually not a good sign, but I think he knew that and tried to make me feel as comfortable as possible and I really liked that. '}, 'critical_negative': {'5e52af8dd120e7000bc35826': \"I think our conversation worked really well and I wouldn't say that we had and problems that made the conversation boring or feel too long. I was afraid I was talking a bit too much, but I don't think it was bad enough that the entire conversation was ruined because of it.\", '5e8ab4b84d3d6775b807e9ba': \"I think if I had been a little bit more opened minded, then the beginning of the convo would have been more comfortable. I also assumed he had a good relationship with his parents and it turned out he didn't so just remembering to not make as many judgements about people. \"}, 'smiles': {'5e52af8dd120e7000bc35826': 6.0, '5e8ab4b84d3d6775b807e9ba': 1.0}, 'laughter': {'5e52af8dd120e7000bc35826': 6.0, '5e8ab4b84d3d6775b807e9ba': 2.0}, 'questions': {'5e52af8dd120e7000bc35826': 5.0, '5e8ab4b84d3d6775b807e9ba': 2.0}, 'nods': {'5e52af8dd120e7000bc35826': 5.0, '5e8ab4b84d3d6775b807e9ba': 4.0}, 'verbal_feedback': {'5e52af8dd120e7000bc35826': 5.0, '5e8ab4b84d3d6775b807e9ba': 4.0}, 'speak_quickly': {'5e52af8dd120e7000bc35826': 4.0, '5e8ab4b84d3d6775b807e9ba': 3.0}, 'my_turn_length': {'5e52af8dd120e7000bc35826': 6.0, '5e8ab4b84d3d6775b807e9ba': 4.0}, 'your_turn_length': {'5e52af8dd120e7000bc35826': 5.0, '5e8ab4b84d3d6775b807e9ba': 6.0}, 'topic_diversity': {'5e52af8dd120e7000bc35826': 5.0, '5e8ab4b84d3d6775b807e9ba': 5.0}, 'turn_overlap_gap': {'5e52af8dd120e7000bc35826': 5.0, '5e8ab4b84d3d6775b807e9ba': 5.0}, 'i_disclosed': {'5e52af8dd120e7000bc35826': 7.0, '5e8ab4b84d3d6775b807e9ba': 3.0}, 'you_disclosed': {'5e52af8dd120e7000bc35826': 7.0, '5e8ab4b84d3d6775b807e9ba': 6.0}, 'i_am_good_listener': {'5e52af8dd120e7000bc35826': 7.0, '5e8ab4b84d3d6775b807e9ba': 7.0}, 'you_are_good_listener': {'5e52af8dd120e7000bc35826': 8.0, '5e8ab4b84d3d6775b807e9ba': 7.0}, 'conv_leader': {'5e52af8dd120e7000bc35826': 4.0, '5e8ab4b84d3d6775b807e9ba': 5.0}, 'talk_time_100_1': {'5e52af8dd120e7000bc35826': 60.0, '5e8ab4b84d3d6775b807e9ba': 45.0}, 'you_total_talk_time': {'5e52af8dd120e7000bc35826': 40.0, '5e8ab4b84d3d6775b807e9ba': 55.0}, 'conv_pace': {'5e52af8dd120e7000bc35826': 5.0, '5e8ab4b84d3d6775b807e9ba': 5.0}, 'my_mind_wander': {'5e52af8dd120e7000bc35826': 2.0, '5e8ab4b84d3d6775b807e9ba': 6.0}, 'your_mind_wander': {'5e52af8dd120e7000bc35826': 3.0, '5e8ab4b84d3d6775b807e9ba': 6.0}, 'i_am_funny': {'5e52af8dd120e7000bc35826': 7.0, '5e8ab4b84d3d6775b807e9ba': 4.0}, 'you_are_funny': {'5e52af8dd120e7000bc35826': 8.0, '5e8ab4b84d3d6775b807e9ba': 4.0}, 'i_am_polite': {'5e52af8dd120e7000bc35826': 8.0, '5e8ab4b84d3d6775b807e9ba': 8.0}, 'you_are_polite': {'5e52af8dd120e7000bc35826': 8.0, '5e8ab4b84d3d6775b807e9ba': 8.0}, 'i_tried_to_impress': {'5e52af8dd120e7000bc35826': 7.0, '5e8ab4b84d3d6775b807e9ba': 6.0}, 'you_tried_to_impress': {'5e52af8dd120e7000bc35826': 7.0, '5e8ab4b84d3d6775b807e9ba': 7.0}, 'responsive_1': {'5e52af8dd120e7000bc35826': 6.0, '5e8ab4b84d3d6775b807e9ba': 6.0}, 'responsive_2': {'5e52af8dd120e7000bc35826': 6.0, '5e8ab4b84d3d6775b807e9ba': 5.0}, 'responsive_3': {'5e52af8dd120e7000bc35826': 6.0, '5e8ab4b84d3d6775b807e9ba': 6.0}, 'end_you': {'5e52af8dd120e7000bc35826': 5.0, '5e8ab4b84d3d6775b807e9ba': 4.0}, 'end_you_time_1': {'5e52af8dd120e7000bc35826': nan, '5e8ab4b84d3d6775b807e9ba': 7.0}, 'longer_self': {'5e52af8dd120e7000bc35826': 1.0, '5e8ab4b84d3d6775b807e9ba': nan}, 'how_long_you': {'5e52af8dd120e7000bc35826': 3.0, '5e8ab4b84d3d6775b807e9ba': nan}, 'end_other': {'5e52af8dd120e7000bc35826': 5.0, '5e8ab4b84d3d6775b807e9ba': 4.0}, 'end_other_time_1': {'5e52af8dd120e7000bc35826': nan, '5e8ab4b84d3d6775b807e9ba': 16.0}, 'longer_other': {'5e52af8dd120e7000bc35826': 2.0, '5e8ab4b84d3d6775b807e9ba': nan}, 'how_long_other': {'5e52af8dd120e7000bc35826': nan, '5e8ab4b84d3d6775b807e9ba': nan}, 'our_thoughts_synced_up_sr1': {'5e52af8dd120e7000bc35826': 5.0, '5e8ab4b84d3d6775b807e9ba': 5.0}, 'developed_joint_perspective_sr2': {'5e52af8dd120e7000bc35826': 6.0, '5e8ab4b84d3d6775b807e9ba': 3.0}, 'shared_thoughts_feels_sr3': {'5e52af8dd120e7000bc35826': 6.0, '5e8ab4b84d3d6775b807e9ba': 4.0}, 'discussed_real_things_sr4': {'5e52af8dd120e7000bc35826': 6.0, '5e8ab4b84d3d6775b807e9ba': 6.0}, 'thoughts_became_more_alike_sr5': {'5e52af8dd120e7000bc35826': 6.0, '5e8ab4b84d3d6775b807e9ba': 3.0}, 'anticipated_each_other_sr6': {'5e52af8dd120e7000bc35826': 5.0, '5e8ab4b84d3d6775b807e9ba': 1.0}, 'became_certain_of_perception_sr7': {'5e52af8dd120e7000bc35826': 4.0, '5e8ab4b84d3d6775b807e9ba': 1.0}, 'saw_world_in_same_way_sr8': {'5e52af8dd120e7000bc35826': 6.0, '5e8ab4b84d3d6775b807e9ba': 2.0}, 'i_think_my_status': {'5e52af8dd120e7000bc35826': 4.0, '5e8ab4b84d3d6775b807e9ba': 6.0}, 'i_think_your_status': {'5e52af8dd120e7000bc35826': 4.0, '5e8ab4b84d3d6775b807e9ba': 4.0}, 'you_think_my_status': {'5e52af8dd120e7000bc35826': 4.0, '5e8ab4b84d3d6775b807e9ba': 7.0}, 'my_bfi_1': {'5e52af8dd120e7000bc35826': 2.0, '5e8ab4b84d3d6775b807e9ba': 1.0}, 'my_bfi_2': {'5e52af8dd120e7000bc35826': 2.0, '5e8ab4b84d3d6775b807e9ba': 4.0}, 'my_bfi_3': {'5e52af8dd120e7000bc35826': 4.0, '5e8ab4b84d3d6775b807e9ba': 4.0}, 'my_bfi_4': {'5e52af8dd120e7000bc35826': 3.0, '5e8ab4b84d3d6775b807e9ba': 4.0}, 'my_bfi_5': {'5e52af8dd120e7000bc35826': 4.0, '5e8ab4b84d3d6775b807e9ba': 3.0}, 'my_bfi_6': {'5e52af8dd120e7000bc35826': 4.0, '5e8ab4b84d3d6775b807e9ba': 3.0}, 'my_bfi_7': {'5e52af8dd120e7000bc35826': 4.0, '5e8ab4b84d3d6775b807e9ba': 4.0}, 'my_bfi_8': {'5e52af8dd120e7000bc35826': 3.0, '5e8ab4b84d3d6775b807e9ba': 4.0}, 'my_bfi_9': {'5e52af8dd120e7000bc35826': 2.0, '5e8ab4b84d3d6775b807e9ba': 2.0}, 'my_bfi_10': {'5e52af8dd120e7000bc35826': 3.0, '5e8ab4b84d3d6775b807e9ba': 4.0}, 'my_bfi_11': {'5e52af8dd120e7000bc35826': 3.0, '5e8ab4b84d3d6775b807e9ba': 2.0}, 'my_bfi_12': {'5e52af8dd120e7000bc35826': 2.0, '5e8ab4b84d3d6775b807e9ba': 2.0}, 'my_bfi_13': {'5e52af8dd120e7000bc35826': 4.0, '5e8ab4b84d3d6775b807e9ba': 4.0}, 'my_bfi_14': {'5e52af8dd120e7000bc35826': 4.0, '5e8ab4b84d3d6775b807e9ba': 3.0}, 'my_bfi_15': {'5e52af8dd120e7000bc35826': 4.0, '5e8ab4b84d3d6775b807e9ba': 3.0}, 'your_bfi_1': {'5e52af8dd120e7000bc35826': 2.0, '5e8ab4b84d3d6775b807e9ba': 4.0}, 'your_bfi_2': {'5e52af8dd120e7000bc35826': 4.0, '5e8ab4b84d3d6775b807e9ba': 4.0}, 'your_bfi_3': {'5e52af8dd120e7000bc35826': 3.0, '5e8ab4b84d3d6775b807e9ba': 4.0}, 'your_bfi_4': {'5e52af8dd120e7000bc35826': 3.0, '5e8ab4b84d3d6775b807e9ba': 4.0}, 'your_bfi_5': {'5e52af8dd120e7000bc35826': 4.0, '5e8ab4b84d3d6775b807e9ba': 2.0}, 'your_bfi_6': {'5e52af8dd120e7000bc35826': 3.0, '5e8ab4b84d3d6775b807e9ba': 3.0}, 'your_bfi_7': {'5e52af8dd120e7000bc35826': 2.0, '5e8ab4b84d3d6775b807e9ba': 3.0}, 'your_bfi_8': {'5e52af8dd120e7000bc35826': 2.0, '5e8ab4b84d3d6775b807e9ba': 2.0}, 'your_bfi_9': {'5e52af8dd120e7000bc35826': 2.0, '5e8ab4b84d3d6775b807e9ba': 2.0}, 'your_bfi_10': {'5e52af8dd120e7000bc35826': 3.0, '5e8ab4b84d3d6775b807e9ba': 4.0}, 'your_bfi_11': {'5e52af8dd120e7000bc35826': 4.0, '5e8ab4b84d3d6775b807e9ba': 2.0}, 'your_bfi_12': {'5e52af8dd120e7000bc35826': 4.0, '5e8ab4b84d3d6775b807e9ba': 2.0}, 'your_bfi_13': {'5e52af8dd120e7000bc35826': 4.0, '5e8ab4b84d3d6775b807e9ba': 4.0}, 'your_bfi_14': {'5e52af8dd120e7000bc35826': 4.0, '5e8ab4b84d3d6775b807e9ba': 2.0}, 'your_bfi_15': {'5e52af8dd120e7000bc35826': 4.0, '5e8ab4b84d3d6775b807e9ba': 3.0}, 'you_lack_companionship': {'5e52af8dd120e7000bc35826': 1.0, '5e8ab4b84d3d6775b807e9ba': 2.0}, 'you_feel_left_out': {'5e52af8dd120e7000bc35826': 1.0, '5e8ab4b84d3d6775b807e9ba': 3.0}, 'you_feel_isolated': {'5e52af8dd120e7000bc35826': 1.0, '5e8ab4b84d3d6775b807e9ba': 2.0}, 'sex': {'5e52af8dd120e7000bc35826': 'male', '5e8ab4b84d3d6775b807e9ba': 'female'}, 'politics': {'5e52af8dd120e7000bc35826': 2.0, '5e8ab4b84d3d6775b807e9ba': 6.0}, 'race': {'5e52af8dd120e7000bc35826': 'white', '5e8ab4b84d3d6775b807e9ba': 'black_or_african_american'}, 'edu': {'5e52af8dd120e7000bc35826': 'some_college', '5e8ab4b84d3d6775b807e9ba': 'some_college'}, 'employ': {'5e52af8dd120e7000bc35826': 7.0, '5e8ab4b84d3d6775b807e9ba': 1.0}, 'employ_7_TEXT': {'5e52af8dd120e7000bc35826': 'Student', '5e8ab4b84d3d6775b807e9ba': nan}, 'sleep_today': {'5e52af8dd120e7000bc35826': 6.0, '5e8ab4b84d3d6775b807e9ba': 8.0}, 'sleep_usual': {'5e52af8dd120e7000bc35826': 6.0, '5e8ab4b84d3d6775b807e9ba': 7.0}, 'know_partner_1': {'5e52af8dd120e7000bc35826': 2.0, '5e8ab4b84d3d6775b807e9ba': 2.0}, 'how_know_partner': {'5e52af8dd120e7000bc35826': nan, '5e8ab4b84d3d6775b807e9ba': nan}, 'realtime': {'5e52af8dd120e7000bc35826': False, '5e8ab4b84d3d6775b807e9ba': False}, 'did': {'5e52af8dd120e7000bc35826': nan, '5e8ab4b84d3d6775b807e9ba': nan}, 'guided': {'5e52af8dd120e7000bc35826': nan, '5e8ab4b84d3d6775b807e9ba': nan}, 'age': {'5e52af8dd120e7000bc35826': 20.0, '5e8ab4b84d3d6775b807e9ba': 21.0}, 'conversation_count_past24': {'5e52af8dd120e7000bc35826': nan, '5e8ab4b84d3d6775b807e9ba': nan}, 'conversation_hours_past24': {'5e52af8dd120e7000bc35826': 25.0, '5e8ab4b84d3d6775b807e9ba': 25.0}, 'convo_who_family': {'5e52af8dd120e7000bc35826': nan, '5e8ab4b84d3d6775b807e9ba': nan}, 'convo_who_romantic_partner': {'5e52af8dd120e7000bc35826': nan, '5e8ab4b84d3d6775b807e9ba': nan}, 'convo_who_friends': {'5e52af8dd120e7000bc35826': nan, '5e8ab4b84d3d6775b807e9ba': nan}, 'convo_who_work_colleagues': {'5e52af8dd120e7000bc35826': nan, '5e8ab4b84d3d6775b807e9ba': nan}, 'convo_who_other': {'5e52af8dd120e7000bc35826': nan, '5e8ab4b84d3d6775b807e9ba': nan}, 'convo_format_in_person': {'5e52af8dd120e7000bc35826': nan, '5e8ab4b84d3d6775b807e9ba': nan}, 'convo_format_video_chat': {'5e52af8dd120e7000bc35826': nan, '5e8ab4b84d3d6775b807e9ba': nan}, 'convo_format_phone_call': {'5e52af8dd120e7000bc35826': nan, '5e8ab4b84d3d6775b807e9ba': nan}, 'convo_format_text': {'5e52af8dd120e7000bc35826': nan, '5e8ab4b84d3d6775b807e9ba': nan}, 'convo_format_other': {'5e52af8dd120e7000bc35826': nan, '5e8ab4b84d3d6775b807e9ba': nan}, 'my_isolation_pre_covid': {'5e52af8dd120e7000bc35826': nan, '5e8ab4b84d3d6775b807e9ba': nan}, 'my_isolation_post_covid': {'5e52af8dd120e7000bc35826': nan, '5e8ab4b84d3d6775b807e9ba': nan}, 'my_stress_pre_covid': {'5e52af8dd120e7000bc35826': nan, '5e8ab4b84d3d6775b807e9ba': nan}, 'my_distracted_pre_covid': {'5e52af8dd120e7000bc35826': nan, '5e8ab4b84d3d6775b807e9ba': nan}, 'my_sad_pre_covid': {'5e52af8dd120e7000bc35826': nan, '5e8ab4b84d3d6775b807e9ba': nan}, 'my_stress_post_covid': {'5e52af8dd120e7000bc35826': nan, '5e8ab4b84d3d6775b807e9ba': nan}, 'my_distracted_post_covid': {'5e52af8dd120e7000bc35826': nan, '5e8ab4b84d3d6775b807e9ba': nan}, 'my_sad_post_covid': {'5e52af8dd120e7000bc35826': nan, '5e8ab4b84d3d6775b807e9ba': nan}, 'n_living_with_me_pre_covid': {'5e52af8dd120e7000bc35826': nan, '5e8ab4b84d3d6775b807e9ba': nan}, 'n_living_with_me_post_covid': {'5e52af8dd120e7000bc35826': nan, '5e8ab4b84d3d6775b807e9ba': nan}, 'am_i_sheltering_in_place_now': {'5e52af8dd120e7000bc35826': nan, '5e8ab4b84d3d6775b807e9ba': nan}, 'how_long_shelter_in_place': {'5e52af8dd120e7000bc35826': nan, '5e8ab4b84d3d6775b807e9ba': nan}, 'i_lack_companionship': {'5e52af8dd120e7000bc35826': nan, '5e8ab4b84d3d6775b807e9ba': nan}, 'i_feel_left_out': {'5e52af8dd120e7000bc35826': nan, '5e8ab4b84d3d6775b807e9ba': nan}, 'i_feel_isolated': {'5e52af8dd120e7000bc35826': nan, '5e8ab4b84d3d6775b807e9ba': nan}, 'shared_reality': {'5e52af8dd120e7000bc35826': 5.5, '5e8ab4b84d3d6775b807e9ba': 3.125}, 'responsive': {'5e52af8dd120e7000bc35826': 6.0, '5e8ab4b84d3d6775b807e9ba': 5.666666666666668}, 'my_loneliness': {'5e52af8dd120e7000bc35826': nan, '5e8ab4b84d3d6775b807e9ba': nan}, 'your_loneliness': {'5e52af8dd120e7000bc35826': 1.0, '5e8ab4b84d3d6775b807e9ba': 2.333333333333333}, 'RMET_score': {'5e52af8dd120e7000bc35826': 0.0, '5e8ab4b84d3d6775b807e9ba': 0.0}, 'IRI_PT_score': {'5e52af8dd120e7000bc35826': 0.0, '5e8ab4b84d3d6775b807e9ba': 0.0}, 'IRI_EC_score': {'5e52af8dd120e7000bc35826': 0.0, '5e8ab4b84d3d6775b807e9ba': 0.0}, 'AQ_social_skill_score': {'5e52af8dd120e7000bc35826': 0.0, '5e8ab4b84d3d6775b807e9ba': 0.0}, 'AQ_communication_score': {'5e52af8dd120e7000bc35826': 0.0, '5e8ab4b84d3d6775b807e9ba': 0.0}, 'BFNE_score': {'5e52af8dd120e7000bc35826': 0.0, '5e8ab4b84d3d6775b807e9ba': 0.0}, 'my_extraversion': {'5e52af8dd120e7000bc35826': 3.6666666666666665, '5e8ab4b84d3d6775b807e9ba': 3.333333333333333}, 'my_agreeable': {'5e52af8dd120e7000bc35826': 2.0, '5e8ab4b84d3d6775b807e9ba': 2.6666666666666665}, 'my_conscientious': {'5e52af8dd120e7000bc35826': 3.0, '5e8ab4b84d3d6775b807e9ba': 2.6666666666666665}, 'my_neurotic': {'5e52af8dd120e7000bc35826': 2.333333333333333, '5e8ab4b84d3d6775b807e9ba': 3.0}, 'my_open': {'5e52af8dd120e7000bc35826': 3.6666666666666665, '5e8ab4b84d3d6775b807e9ba': 2.6666666666666665}, 'your_extraversion': {'5e52af8dd120e7000bc35826': 3.6666666666666665, '5e8ab4b84d3d6775b807e9ba': 2.333333333333333}, 'your_agreeable': {'5e52af8dd120e7000bc35826': 4.0, '5e8ab4b84d3d6775b807e9ba': 3.0}, 'your_conscientious': {'5e52af8dd120e7000bc35826': 3.6666666666666665, '5e8ab4b84d3d6775b807e9ba': 3.333333333333333}, 'your_neurotic': {'5e52af8dd120e7000bc35826': 2.333333333333333, '5e8ab4b84d3d6775b807e9ba': 3.333333333333333}, 'your_open': {'5e52af8dd120e7000bc35826': 3.6666666666666665, '5e8ab4b84d3d6775b807e9ba': 2.333333333333333}, 'who_i_talked_to_most_past24': {'5e52af8dd120e7000bc35826': nan, '5e8ab4b84d3d6775b807e9ba': nan}, 'most_common_format_past24': {'5e52af8dd120e7000bc35826': nan, '5e8ab4b84d3d6775b807e9ba': nan}})"
      ]
     },
     "execution_count": 25,
     "metadata": {},
     "output_type": "execute_result"
    }
   ],
   "source": [
    "convo = CANDOR_corpus.random_conversation()\n",
    "convo.meta"
   ]
  },
  {
   "cell_type": "code",
   "execution_count": 26,
   "metadata": {},
   "outputs": [
    {
     "data": {
      "text/plain": [
       "['5e8ab4b84d3d6775b807e9ba', '5e52af8dd120e7000bc35826']"
      ]
     },
     "execution_count": 26,
     "metadata": {},
     "output_type": "execute_result"
    }
   ],
   "source": [
    "convo.get_speaker_ids()"
   ]
  },
  {
   "cell_type": "markdown",
   "metadata": {},
   "source": [
    "### Save the Corpus"
   ]
  },
  {
   "cell_type": "code",
   "execution_count": 27,
   "metadata": {},
   "outputs": [],
   "source": [
    "SAVE_PATH = '<YOUR DIRECTORY TO SAVE CORPUS>'\n",
    "CANDOR_corpus.dump(f\"CANDOR-corpus-{transcription_type}\", base_path=SAVE_PATH)"
   ]
  },
  {
   "cell_type": "code",
   "execution_count": 28,
   "metadata": {},
   "outputs": [
    {
     "data": {
      "text/plain": [
       "{'utterances-index': {'turn_id': [\"<class 'int'>\"],\n",
       "  'start': [\"<class 'float'>\"],\n",
       "  'stop': [\"<class 'float'>\"],\n",
       "  'interval': [\"<class 'float'>\"],\n",
       "  'delta': [\"<class 'float'>\"],\n",
       "  'questions': [\"<class 'int'>\"],\n",
       "  'end_question': [\"<class 'bool'>\"],\n",
       "  'overlap': [\"<class 'bool'>\"],\n",
       "  'n_words': [\"<class 'int'>\"]},\n",
       " 'speakers-index': {},\n",
       " 'conversations-index': {'partner_id': [\"<class 'dict'>\"],\n",
       "  'date': [\"<class 'dict'>\"],\n",
       "  'survey_duration_in_seconds': ['bin'],\n",
       "  'time_zone': [\"<class 'dict'>\"],\n",
       "  'pre_affect': [\"<class 'dict'>\"],\n",
       "  'pre_arousal': [\"<class 'dict'>\"],\n",
       "  'technical_quality': [\"<class 'dict'>\"],\n",
       "  'conv_length': [\"<class 'dict'>\"],\n",
       "  'affect': [\"<class 'dict'>\"],\n",
       "  'arousal': [\"<class 'dict'>\"],\n",
       "  'overall_affect': [\"<class 'dict'>\"],\n",
       "  'overall_arousal': [\"<class 'dict'>\"],\n",
       "  'overall_memory_rating': [\"<class 'dict'>\"],\n",
       "  'begin_affect': [\"<class 'dict'>\"],\n",
       "  'begin_arousal': [\"<class 'dict'>\"],\n",
       "  'begin_memory_rating': [\"<class 'dict'>\"],\n",
       "  'begin_memory_text': [\"<class 'dict'>\"],\n",
       "  'middle_affect': [\"<class 'dict'>\"],\n",
       "  'middle_arousal': [\"<class 'dict'>\"],\n",
       "  'middle_memory_rating': [\"<class 'dict'>\"],\n",
       "  'middle_memory_text': [\"<class 'dict'>\"],\n",
       "  'end_affect': [\"<class 'dict'>\"],\n",
       "  'end_arousal': [\"<class 'dict'>\"],\n",
       "  'end_memory_rating': [\"<class 'dict'>\"],\n",
       "  'end_memory_text': [\"<class 'dict'>\"],\n",
       "  'worst_affect': [\"<class 'dict'>\"],\n",
       "  'worst_arousal': [\"<class 'dict'>\"],\n",
       "  'best_affect': [\"<class 'dict'>\"],\n",
       "  'best_arousal': [\"<class 'dict'>\"],\n",
       "  'how_enjoyable': [\"<class 'dict'>\"],\n",
       "  'i_like_you': [\"<class 'dict'>\"],\n",
       "  'you_like_me': [\"<class 'dict'>\"],\n",
       "  'in_common': [\"<class 'dict'>\"],\n",
       "  'conversationalist': [\"<class 'dict'>\"],\n",
       "  'next_seven_days': [\"<class 'dict'>\"],\n",
       "  'my_friends_like_you': [\"<class 'dict'>\"],\n",
       "  'good_for_advice': [\"<class 'dict'>\"],\n",
       "  'i_felt_close_to_my_partner': [\"<class 'dict'>\"],\n",
       "  'i_would_like_to_become_friends': [\"<class 'dict'>\"],\n",
       "  'i_paid_attention_to_my_partner': [\"<class 'dict'>\"],\n",
       "  'my_partner_paid_attention_to_me': [\"<class 'dict'>\"],\n",
       "  'my_partner_was_clear_and_coherent': [\"<class 'dict'>\"],\n",
       "  'interested_in_exchanging_contact_info': [\"<class 'dict'>\"],\n",
       "  'you_are_intelligent': [\"<class 'dict'>\"],\n",
       "  'you_are_quickwitted': [\"<class 'dict'>\"],\n",
       "  'you_are_competent': [\"<class 'dict'>\"],\n",
       "  'you_are_kind': [\"<class 'dict'>\"],\n",
       "  'you_are_friendly': [\"<class 'dict'>\"],\n",
       "  'you_are_warm': [\"<class 'dict'>\"],\n",
       "  'you_think_i_am_intelligent': [\"<class 'dict'>\"],\n",
       "  'you_think_i_am_quickwitted': [\"<class 'dict'>\"],\n",
       "  'you_think_i_am_competent': [\"<class 'dict'>\"],\n",
       "  'you_think_i_am_kind': [\"<class 'dict'>\"],\n",
       "  'you_think_i_am_friendly': [\"<class 'dict'>\"],\n",
       "  'you_think_i_am_warm': [\"<class 'dict'>\"],\n",
       "  'you_are_humble': [\"<class 'dict'>\"],\n",
       "  'you_are_giving': [\"<class 'dict'>\"],\n",
       "  'you_are_fair': [\"<class 'dict'>\"],\n",
       "  'you_are_trustworthy': [\"<class 'dict'>\"],\n",
       "  'you_are_agreeable': [\"<class 'dict'>\"],\n",
       "  'you_are_playful': [\"<class 'dict'>\"],\n",
       "  'i_am_intelligent': [\"<class 'dict'>\"],\n",
       "  'i_am_quickwitted': [\"<class 'dict'>\"],\n",
       "  'i_am_competent': [\"<class 'dict'>\"],\n",
       "  'i_am_kind': [\"<class 'dict'>\"],\n",
       "  'i_am_friendly': [\"<class 'dict'>\"],\n",
       "  'i_am_warm': [\"<class 'dict'>\"],\n",
       "  'i_am_humble': [\"<class 'dict'>\"],\n",
       "  'i_am_giving': [\"<class 'dict'>\"],\n",
       "  'i_am_fair': [\"<class 'dict'>\"],\n",
       "  'i_am_trustworthy': [\"<class 'dict'>\"],\n",
       "  'i_am_agreeable': [\"<class 'dict'>\"],\n",
       "  'i_am_playful': [\"<class 'dict'>\"],\n",
       "  'rest_of_day_open': [\"<class 'dict'>\"],\n",
       "  'critical_positive': [\"<class 'dict'>\"],\n",
       "  'critical_negative': [\"<class 'dict'>\"],\n",
       "  'smiles': [\"<class 'dict'>\"],\n",
       "  'laughter': [\"<class 'dict'>\"],\n",
       "  'questions': [\"<class 'dict'>\"],\n",
       "  'nods': [\"<class 'dict'>\"],\n",
       "  'verbal_feedback': [\"<class 'dict'>\"],\n",
       "  'speak_quickly': [\"<class 'dict'>\"],\n",
       "  'my_turn_length': [\"<class 'dict'>\"],\n",
       "  'your_turn_length': [\"<class 'dict'>\"],\n",
       "  'topic_diversity': [\"<class 'dict'>\"],\n",
       "  'turn_overlap_gap': [\"<class 'dict'>\"],\n",
       "  'i_disclosed': [\"<class 'dict'>\"],\n",
       "  'you_disclosed': [\"<class 'dict'>\"],\n",
       "  'i_am_good_listener': [\"<class 'dict'>\"],\n",
       "  'you_are_good_listener': [\"<class 'dict'>\"],\n",
       "  'conv_leader': [\"<class 'dict'>\"],\n",
       "  'talk_time_100_1': [\"<class 'dict'>\"],\n",
       "  'you_total_talk_time': [\"<class 'dict'>\"],\n",
       "  'conv_pace': [\"<class 'dict'>\"],\n",
       "  'my_mind_wander': [\"<class 'dict'>\"],\n",
       "  'your_mind_wander': [\"<class 'dict'>\"],\n",
       "  'i_am_funny': [\"<class 'dict'>\"],\n",
       "  'you_are_funny': [\"<class 'dict'>\"],\n",
       "  'i_am_polite': [\"<class 'dict'>\"],\n",
       "  'you_are_polite': [\"<class 'dict'>\"],\n",
       "  'i_tried_to_impress': [\"<class 'dict'>\"],\n",
       "  'you_tried_to_impress': [\"<class 'dict'>\"],\n",
       "  'responsive_1': [\"<class 'dict'>\"],\n",
       "  'responsive_2': [\"<class 'dict'>\"],\n",
       "  'responsive_3': [\"<class 'dict'>\"],\n",
       "  'end_you': [\"<class 'dict'>\"],\n",
       "  'end_you_time_1': [\"<class 'dict'>\"],\n",
       "  'longer_self': [\"<class 'dict'>\"],\n",
       "  'how_long_you': [\"<class 'dict'>\"],\n",
       "  'end_other': [\"<class 'dict'>\"],\n",
       "  'end_other_time_1': [\"<class 'dict'>\"],\n",
       "  'longer_other': [\"<class 'dict'>\"],\n",
       "  'how_long_other': [\"<class 'dict'>\"],\n",
       "  'our_thoughts_synced_up_sr1': [\"<class 'dict'>\"],\n",
       "  'developed_joint_perspective_sr2': [\"<class 'dict'>\"],\n",
       "  'shared_thoughts_feels_sr3': [\"<class 'dict'>\"],\n",
       "  'discussed_real_things_sr4': [\"<class 'dict'>\"],\n",
       "  'thoughts_became_more_alike_sr5': [\"<class 'dict'>\"],\n",
       "  'anticipated_each_other_sr6': [\"<class 'dict'>\"],\n",
       "  'became_certain_of_perception_sr7': [\"<class 'dict'>\"],\n",
       "  'saw_world_in_same_way_sr8': [\"<class 'dict'>\"],\n",
       "  'i_think_my_status': [\"<class 'dict'>\"],\n",
       "  'i_think_your_status': [\"<class 'dict'>\"],\n",
       "  'you_think_my_status': [\"<class 'dict'>\"],\n",
       "  'my_bfi_1': [\"<class 'dict'>\"],\n",
       "  'my_bfi_2': [\"<class 'dict'>\"],\n",
       "  'my_bfi_3': [\"<class 'dict'>\"],\n",
       "  'my_bfi_4': [\"<class 'dict'>\"],\n",
       "  'my_bfi_5': [\"<class 'dict'>\"],\n",
       "  'my_bfi_6': [\"<class 'dict'>\"],\n",
       "  'my_bfi_7': [\"<class 'dict'>\"],\n",
       "  'my_bfi_8': [\"<class 'dict'>\"],\n",
       "  'my_bfi_9': [\"<class 'dict'>\"],\n",
       "  'my_bfi_10': [\"<class 'dict'>\"],\n",
       "  'my_bfi_11': [\"<class 'dict'>\"],\n",
       "  'my_bfi_12': [\"<class 'dict'>\"],\n",
       "  'my_bfi_13': [\"<class 'dict'>\"],\n",
       "  'my_bfi_14': [\"<class 'dict'>\"],\n",
       "  'my_bfi_15': [\"<class 'dict'>\"],\n",
       "  'your_bfi_1': [\"<class 'dict'>\"],\n",
       "  'your_bfi_2': [\"<class 'dict'>\"],\n",
       "  'your_bfi_3': [\"<class 'dict'>\"],\n",
       "  'your_bfi_4': [\"<class 'dict'>\"],\n",
       "  'your_bfi_5': [\"<class 'dict'>\"],\n",
       "  'your_bfi_6': [\"<class 'dict'>\"],\n",
       "  'your_bfi_7': [\"<class 'dict'>\"],\n",
       "  'your_bfi_8': [\"<class 'dict'>\"],\n",
       "  'your_bfi_9': [\"<class 'dict'>\"],\n",
       "  'your_bfi_10': [\"<class 'dict'>\"],\n",
       "  'your_bfi_11': [\"<class 'dict'>\"],\n",
       "  'your_bfi_12': [\"<class 'dict'>\"],\n",
       "  'your_bfi_13': [\"<class 'dict'>\"],\n",
       "  'your_bfi_14': [\"<class 'dict'>\"],\n",
       "  'your_bfi_15': [\"<class 'dict'>\"],\n",
       "  'you_lack_companionship': [\"<class 'dict'>\"],\n",
       "  'you_feel_left_out': [\"<class 'dict'>\"],\n",
       "  'you_feel_isolated': [\"<class 'dict'>\"],\n",
       "  'sex': [\"<class 'dict'>\"],\n",
       "  'politics': [\"<class 'dict'>\"],\n",
       "  'race': [\"<class 'dict'>\"],\n",
       "  'edu': [\"<class 'dict'>\"],\n",
       "  'employ': [\"<class 'dict'>\"],\n",
       "  'employ_7_TEXT': [\"<class 'dict'>\"],\n",
       "  'sleep_today': [\"<class 'dict'>\"],\n",
       "  'sleep_usual': [\"<class 'dict'>\"],\n",
       "  'know_partner_1': [\"<class 'dict'>\"],\n",
       "  'how_know_partner': [\"<class 'dict'>\"],\n",
       "  'realtime': ['bin'],\n",
       "  'did': [\"<class 'dict'>\"],\n",
       "  'guided': [\"<class 'dict'>\"],\n",
       "  'age': [\"<class 'dict'>\"],\n",
       "  'conversation_count_past24': [\"<class 'dict'>\"],\n",
       "  'conversation_hours_past24': [\"<class 'dict'>\"],\n",
       "  'convo_who_family': [\"<class 'dict'>\"],\n",
       "  'convo_who_romantic_partner': [\"<class 'dict'>\"],\n",
       "  'convo_who_friends': [\"<class 'dict'>\"],\n",
       "  'convo_who_work_colleagues': [\"<class 'dict'>\"],\n",
       "  'convo_who_other': [\"<class 'dict'>\"],\n",
       "  'convo_format_in_person': [\"<class 'dict'>\"],\n",
       "  'convo_format_video_chat': [\"<class 'dict'>\"],\n",
       "  'convo_format_phone_call': [\"<class 'dict'>\"],\n",
       "  'convo_format_text': [\"<class 'dict'>\"],\n",
       "  'convo_format_other': [\"<class 'dict'>\"],\n",
       "  'my_isolation_pre_covid': [\"<class 'dict'>\"],\n",
       "  'my_isolation_post_covid': [\"<class 'dict'>\"],\n",
       "  'my_stress_pre_covid': [\"<class 'dict'>\"],\n",
       "  'my_distracted_pre_covid': [\"<class 'dict'>\"],\n",
       "  'my_sad_pre_covid': [\"<class 'dict'>\"],\n",
       "  'my_stress_post_covid': [\"<class 'dict'>\"],\n",
       "  'my_distracted_post_covid': [\"<class 'dict'>\"],\n",
       "  'my_sad_post_covid': [\"<class 'dict'>\"],\n",
       "  'n_living_with_me_pre_covid': [\"<class 'dict'>\"],\n",
       "  'n_living_with_me_post_covid': [\"<class 'dict'>\"],\n",
       "  'am_i_sheltering_in_place_now': [\"<class 'dict'>\"],\n",
       "  'how_long_shelter_in_place': [\"<class 'dict'>\"],\n",
       "  'i_lack_companionship': [\"<class 'dict'>\"],\n",
       "  'i_feel_left_out': [\"<class 'dict'>\"],\n",
       "  'i_feel_isolated': [\"<class 'dict'>\"],\n",
       "  'shared_reality': [\"<class 'dict'>\"],\n",
       "  'responsive': [\"<class 'dict'>\"],\n",
       "  'my_loneliness': [\"<class 'dict'>\"],\n",
       "  'your_loneliness': [\"<class 'dict'>\"],\n",
       "  'RMET_score': [\"<class 'dict'>\"],\n",
       "  'IRI_PT_score': [\"<class 'dict'>\"],\n",
       "  'IRI_EC_score': [\"<class 'dict'>\"],\n",
       "  'AQ_social_skill_score': [\"<class 'dict'>\"],\n",
       "  'AQ_communication_score': [\"<class 'dict'>\"],\n",
       "  'BFNE_score': [\"<class 'dict'>\"],\n",
       "  'my_extraversion': [\"<class 'dict'>\"],\n",
       "  'my_agreeable': [\"<class 'dict'>\"],\n",
       "  'my_conscientious': [\"<class 'dict'>\"],\n",
       "  'my_neurotic': [\"<class 'dict'>\"],\n",
       "  'my_open': [\"<class 'dict'>\"],\n",
       "  'your_extraversion': [\"<class 'dict'>\"],\n",
       "  'your_agreeable': [\"<class 'dict'>\"],\n",
       "  'your_conscientious': [\"<class 'dict'>\"],\n",
       "  'your_neurotic': [\"<class 'dict'>\"],\n",
       "  'your_open': [\"<class 'dict'>\"],\n",
       "  'who_i_talked_to_most_past24': [\"<class 'dict'>\"],\n",
       "  'most_common_format_past24': [\"<class 'dict'>\"]},\n",
       " 'overall-index': {},\n",
       " 'version': 1,\n",
       " 'vectors': []}"
      ]
     },
     "execution_count": 28,
     "metadata": {},
     "output_type": "execute_result"
    }
   ],
   "source": [
    "from convokit import meta_index\n",
    "meta_index(filename = f\"{SAVE_PATH}/CANDOR-corpus-{transcription_type}\")"
   ]
  },
  {
   "cell_type": "markdown",
   "metadata": {},
   "source": [
    "### Retrieve Corpus"
   ]
  },
  {
   "cell_type": "code",
   "execution_count": 29,
   "metadata": {},
   "outputs": [],
   "source": [
    "my_CANDOR_corpus = Corpus(filename=f\"{SAVE_PATH}/CANDOR-corpus-{transcription_type}\")"
   ]
  },
  {
   "cell_type": "code",
   "execution_count": 30,
   "metadata": {},
   "outputs": [
    {
     "name": "stdout",
     "output_type": "stream",
     "text": [
      "Number of Speakers: 186\n",
      "Number of Utterances: 30075\n",
      "Number of Conversations: 99\n"
     ]
    }
   ],
   "source": [
    "my_CANDOR_corpus.print_summary_stats()"
   ]
  },
  {
   "cell_type": "code",
   "execution_count": null,
   "metadata": {},
   "outputs": [],
   "source": []
  }
 ],
 "metadata": {
  "kernelspec": {
   "display_name": "Python 3 (ipykernel)",
   "language": "python",
   "name": "python3"
  },
  "language_info": {
   "codemirror_mode": {
    "name": "ipython",
    "version": 3
   },
   "file_extension": ".py",
   "mimetype": "text/x-python",
   "name": "python",
   "nbconvert_exporter": "python",
   "pygments_lexer": "ipython3",
   "version": "3.8.3"
  }
 },
 "nbformat": 4,
 "nbformat_minor": 4
}
