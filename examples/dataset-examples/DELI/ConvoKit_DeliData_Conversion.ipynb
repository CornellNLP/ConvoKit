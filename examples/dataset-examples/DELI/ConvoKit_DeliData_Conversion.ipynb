{
 "cells": [
  {
   "cell_type": "markdown",
   "metadata": {
    "id": "gcJA8-R-LmqS"
   },
   "source": [
    "# Converting DeliData Dataset to ConvoKit format\n",
    "\n",
    "Notebook Contributors: Yash Chatha, Laerdon Kim"
   ]
  },
  {
   "cell_type": "markdown",
   "metadata": {
    "id": "Un14RFqHLp5H"
   },
   "source": [
    "This notebook is to help people working with the DeliData Corpus to quickly transform it into ConvoKit format.\n",
    "Details about the construction of the corpus are available here:"
   ]
  },
  {
   "cell_type": "code",
   "execution_count": null,
   "metadata": {
    "colab": {
     "base_uri": "https://localhost:8080/"
    },
    "id": "3WAq-VyLL00E",
    "outputId": "45457fa7-faf3-49e5-f10a-cde2a358c04e"
   },
   "outputs": [],
   "source": [
    "!pip install convokit"
   ]
  },
  {
   "cell_type": "code",
   "execution_count": 2,
   "metadata": {
    "id": "H4uC83u0LnLO"
   },
   "outputs": [],
   "source": [
    "import pandas as pd\n",
    "from tqdm import tqdm\n",
    "from convokit import Corpus, Speaker, Utterance\n",
    "from collections import defaultdict, Counter\n",
    "import pandas as pd\n",
    "import numpy as np\n",
    "import glob"
   ]
  },
  {
   "cell_type": "code",
   "execution_count": 3,
   "metadata": {
    "colab": {
     "base_uri": "https://localhost:8080/"
    },
    "id": "WwD3fdezL71q",
    "outputId": "ae93b9c8-4ec2-472d-f329-3f09f778b2dd"
   },
   "outputs": [
    {
     "name": "stdout",
     "output_type": "stream",
     "text": [
      "Mounted at /content/drive\n"
     ]
    }
   ],
   "source": [
    "from google.colab import drive\n",
    "drive.mount('/content/drive')"
   ]
  },
  {
   "cell_type": "code",
   "execution_count": 4,
   "metadata": {
    "colab": {
     "base_uri": "https://localhost:8080/"
    },
    "id": "SXAdnujqMGhb",
    "outputId": "cefe6a67-17cd-4f30-b2f7-ab978d307c2e"
   },
   "outputs": [
    {
     "name": "stdout",
     "output_type": "stream",
     "text": [
      "/content/drive/MyDrive/datasets/delidata1_rc3/combined\n"
     ]
    }
   ],
   "source": [
    "%cd /content/drive/MyDrive/datasets/delidata1_rc3/combined"
   ]
  },
  {
   "cell_type": "markdown",
   "metadata": {
    "id": "F6RfDZTyuya7"
   },
   "source": [
    "## Combining files into one Dataframe"
   ]
  },
  {
   "cell_type": "code",
   "execution_count": 5,
   "metadata": {
    "id": "49qV6rXeduYL"
   },
   "outputs": [],
   "source": [
    "files = glob.glob('*')\n",
    "dfs = []\n",
    "for file in files:\n",
    "    df = pd.read_csv(file, sep='\\t')\n",
    "    dfs.append(df)"
   ]
  },
  {
   "cell_type": "code",
   "execution_count": 6,
   "metadata": {
    "id": "wmqRcGYVf9wt"
   },
   "outputs": [],
   "source": [
    "corpus_raw = pd.concat(dfs)"
   ]
  },
  {
   "cell_type": "code",
   "execution_count": 7,
   "metadata": {
    "colab": {
     "base_uri": "https://localhost:8080/"
    },
    "id": "AshOEEu8gQmO",
    "outputId": "9166d81b-2807-44c2-d450-d1392574306c"
   },
   "outputs": [
    {
     "name": "stdout",
     "output_type": "stream",
     "text": [
      "(17610, 13)\n",
      "3\n"
     ]
    }
   ],
   "source": [
    "print(corpus_raw.shape)\n",
    "count = df['message_id'].str.contains('-1').sum()\n",
    "print(count)"
   ]
  },
  {
   "cell_type": "code",
   "execution_count": 8,
   "metadata": {
    "id": "EBv2LczMfRQW"
   },
   "outputs": [],
   "source": [
    "corpus_raw = corpus_raw.reset_index(drop=True)"
   ]
  },
  {
   "cell_type": "markdown",
   "metadata": {
    "id": "i1DLo9uwMYGW"
   },
   "source": [
    "## Processing speakers\n",
    "\n",
    "Note: there is no significant metadata to include at the speaker level—so, we leave these fields empty.\n",
    "\n"
   ]
  },
  {
   "cell_type": "code",
   "execution_count": 9,
   "metadata": {
    "id": "JF0BKpa8MaSt"
   },
   "outputs": [],
   "source": [
    "all_speakers = list(set(corpus_raw['origin'].to_list()))"
   ]
  },
  {
   "cell_type": "code",
   "execution_count": 10,
   "metadata": {
    "id": "KrNbvym8i8TN"
   },
   "outputs": [],
   "source": [
    "corpus_speakers = {}\n",
    "for speaker_id in all_speakers:\n",
    "    corpus_speakers.update({speaker_id : Speaker(id = speaker_id, meta = {})})"
   ]
  },
  {
   "cell_type": "markdown",
   "metadata": {
    "id": "j6ToqFaxhxeC"
   },
   "source": [
    "## Processing utterances"
   ]
  },
  {
   "cell_type": "code",
   "execution_count": 11,
   "metadata": {
    "id": "DNxUyeBZhynY"
   },
   "outputs": [],
   "source": [
    "import os"
   ]
  },
  {
   "cell_type": "code",
   "execution_count": 12,
   "metadata": {
    "colab": {
     "base_uri": "https://localhost:8080/"
    },
    "id": "2pvh7Vddh1kY",
    "outputId": "96f07b20-60f6-47a4-acd7-395c386a39a4"
   },
   "outputs": [
    {
     "name": "stderr",
     "output_type": "stream",
     "text": [
      "17610it [00:02, 7505.58it/s] \n"
     ]
    }
   ],
   "source": [
    "desired_metadata_fields = ['annotation_type',\n",
    "                           'annotation_target',\n",
    "                           'annotation_additional',\n",
    "                           'message_type',\n",
    "                           'original_text']\n",
    "\n",
    "corpus_utterances = []\n",
    "for index, row in tqdm(corpus_raw.iterrows()):\n",
    "    current_id = row['message_id']\n",
    "    current_meta = {}\n",
    "    for k, v in row.items():\n",
    "        if k in desired_metadata_fields:\n",
    "            current_meta.update({k : v})\n",
    "\n",
    "    current_speaker = row['origin']\n",
    "    current_conversation_id = row['group_id']\n",
    "    current_text = row['clean_text']\n",
    "\n",
    "    utterance = Utterance(id = current_id,\n",
    "                          speaker = corpus_speakers[current_speaker],\n",
    "                          conversation_id = str(current_conversation_id),\n",
    "                          text = str(current_text),\n",
    "                          meta = current_meta)\n",
    "\n",
    "    corpus_utterances.append(utterance)"
   ]
  },
  {
   "cell_type": "code",
   "execution_count": 13,
   "metadata": {
    "colab": {
     "base_uri": "https://localhost:8080/"
    },
    "id": "w8pcb_NYjcCD",
    "outputId": "36e8a2e2-d8db-437a-ee57-59bdbc5c2b4e"
   },
   "outputs": [
    {
     "name": "stdout",
     "output_type": "stream",
     "text": [
      "No configuration file found at /root/.convokit/config.yml; writing with contents: \n",
      "# Default Backend Parameters\n",
      "db_host: localhost:27017\n",
      "data_directory: ~/.convokit/saved-corpora\n",
      "default_backend: mem\n"
     ]
    }
   ],
   "source": [
    "corpus_object = Corpus(utterances=corpus_utterances)"
   ]
  },
  {
   "cell_type": "markdown",
   "metadata": {
    "id": "PsNasI4heMDf"
   },
   "source": [
    "# Creating Conversation metadata"
   ]
  },
  {
   "cell_type": "markdown",
   "metadata": {
    "id": "rMBFSvyleSAE"
   },
   "source": [
    "The following attributes provided in the DeliData dataset feature are conversation-wide.\n",
    "\n",
    "```\n",
    "team_performance\n",
    "performance_change\n",
    "sol_tracker_message\n",
    "sol_tracker_all\n",
    "```\n",
    "\n"
   ]
  },
  {
   "cell_type": "code",
   "execution_count": 14,
   "metadata": {
    "id": "4lud-VqTeRZq"
   },
   "outputs": [],
   "source": [
    "conversation_metadata_headers = ['team_performance',\n",
    "                                 'performance_change',\n",
    "                                 'sol_tracker_message',\n",
    "                                 'sol_tracker_all',]"
   ]
  },
  {
   "cell_type": "code",
   "execution_count": 15,
   "metadata": {
    "id": "D4OTVWFLfjB1"
   },
   "outputs": [],
   "source": [
    "for convo in corpus_object.iter_conversations():\n",
    "    convo_id = convo.id\n",
    "    convo_row = corpus_raw[corpus_raw['group_id'] == convo_id].iloc[0]\n",
    "    metadata = {}\n",
    "    for field_name in conversation_metadata_headers:\n",
    "        field_value = convo_row[field_name]\n",
    "        metadata.update({field_name : field_value})\n",
    "    convo.meta = metadata"
   ]
  },
  {
   "cell_type": "code",
   "execution_count": 16,
   "metadata": {
    "colab": {
     "base_uri": "https://localhost:8080/"
    },
    "id": "w61ZxACXm83B",
    "outputId": "99a1cfe6-bd68-4111-e085-55b587b0ad00"
   },
   "outputs": [
    {
     "data": {
      "text/plain": [
       "{'utterances-index': {'message_type': [\"<class 'str'>\"],\n",
       "  'original_text': [\"<class 'str'>\", \"<class 'float'>\"],\n",
       "  'annotation_type': [\"<class 'float'>\", \"<class 'str'>\"],\n",
       "  'annotation_target': [\"<class 'float'>\", \"<class 'str'>\"],\n",
       "  'annotation_additional': [\"<class 'float'>\", \"<class 'str'>\"]},\n",
       " 'speakers-index': {},\n",
       " 'conversations-index': {'team_performance': [\"<class 'numpy.float64'>\"],\n",
       "  'performance_change': [\"<class 'numpy.float64'>\"],\n",
       "  'sol_tracker_message': [\"<class 'float'>\"],\n",
       "  'sol_tracker_all': [\"<class 'str'>\"]},\n",
       " 'overall-index': {},\n",
       " 'version': 1,\n",
       " 'vectors': []}"
      ]
     },
     "execution_count": 16,
     "metadata": {},
     "output_type": "execute_result"
    }
   ],
   "source": [
    "SAVE_PATH = '/content/drive/MyDrive/datasets/delidata1_rc3/'\n",
    "corpus_object.dump(f\"delidata-corpus\", base_path=SAVE_PATH)\n",
    "\n",
    "from convokit import meta_index\n",
    "meta_index(filename = f\"{SAVE_PATH}/delidata-corpus\")"
   ]
  }
 ],
 "metadata": {
  "colab": {
   "provenance": []
  },
  "kernelspec": {
   "display_name": "Python 3",
   "name": "python3"
  },
  "language_info": {
   "name": "python"
  }
 },
 "nbformat": 4,
 "nbformat_minor": 0
}
