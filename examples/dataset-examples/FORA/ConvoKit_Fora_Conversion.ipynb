{
  "nbformat": 4,
  "nbformat_minor": 0,
  "metadata": {
    "colab": {
      "provenance": [],
      "machine_shape": "hm",
      "gpuType": "L4"
    },
    "kernelspec": {
      "name": "python3",
      "display_name": "Python 3"
    },
    "language_info": {
      "name": "python"
    },
    "accelerator": "GPU"
  },
  "cells": [
    {
      "cell_type": "markdown",
      "source": [
        "# Converting Fora Dataset to ConvoKit format"
      ],
      "metadata": {
        "id": "gdtT6lto3vUx"
      }
    },
    {
      "cell_type": "markdown",
      "source": [
        "This notebook is to help people working with the Fora Corpus to quickly transform it into ConvoKit format.\n",
        "Details about the construction of the corpus are available in the original paper (pleace cite this paper if you use the corpus): `Schroeder, H., Roy, D., & Kabbara, J. (2024). Fora: A corpus and framework for the study of facilitated dialogue. In L.-W. Ku, A. Martins, & V. Srikumar (Eds.), Proceedings of the 62nd Annual Meeting of the Association for Computational Linguistics (Volume 1: Long Papers) (pp. 13985–14001). Association for Computational Linguistics. https://doi.org/10.18653/v1/2024.acl-long.754`"
      ],
      "metadata": {
        "id": "Atkik7Zt5KZz"
      }
    },
    {
      "cell_type": "markdown",
      "source": [
        "# Installations + Setup"
      ],
      "metadata": {
        "id": "3vBPBmyxxHgp"
      }
    },
    {
      "cell_type": "code",
      "source": [
        "! pip install convokit"
      ],
      "metadata": {
        "colab": {
          "base_uri": "https://localhost:8080/"
        },
        "id": "zl5nPxfqOxl5",
        "outputId": "18dc57e2-dc2c-45c2-e2a2-079a9c1e98be"
      },
      "execution_count": 1,
      "outputs": [
        {
          "output_type": "stream",
          "name": "stdout",
          "text": [
            "Collecting convokit\n",
            "  Downloading convokit-3.0.0.tar.gz (183 kB)\n",
            "\u001b[?25l     \u001b[90m━━━━━━━━━━━━━━━━━━━━━━━━━━━━━━━━━━━━━━━━\u001b[0m \u001b[32m0.0/183.2 kB\u001b[0m \u001b[31m?\u001b[0m eta \u001b[36m-:--:--\u001b[0m\r\u001b[2K     \u001b[90m━━━━━━━━━━━━━━━━━━━━━━━━━━━━━━━━━━━━━━━━\u001b[0m \u001b[32m183.2/183.2 kB\u001b[0m \u001b[31m9.5 MB/s\u001b[0m eta \u001b[36m0:00:00\u001b[0m\n",
            "\u001b[?25h  Installing build dependencies ... \u001b[?25l\u001b[?25hdone\n",
            "  Getting requirements to build wheel ... \u001b[?25l\u001b[?25hdone\n",
            "  Preparing metadata (pyproject.toml) ... \u001b[?25l\u001b[?25hdone\n",
            "Requirement already satisfied: matplotlib>=3.0.0 in /usr/local/lib/python3.10/dist-packages (from convokit) (3.7.1)\n",
            "Requirement already satisfied: pandas>=0.23.4 in /usr/local/lib/python3.10/dist-packages (from convokit) (2.2.2)\n",
            "Collecting msgpack-numpy>=0.4.3.2 (from convokit)\n",
            "  Downloading msgpack_numpy-0.4.8-py2.py3-none-any.whl.metadata (5.0 kB)\n",
            "Requirement already satisfied: spacy>=2.3.5 in /usr/local/lib/python3.10/dist-packages (from convokit) (3.7.5)\n",
            "Requirement already satisfied: scipy>=1.1.0 in /usr/local/lib/python3.10/dist-packages (from convokit) (1.13.1)\n",
            "Requirement already satisfied: scikit-learn>=0.20.0 in /usr/local/lib/python3.10/dist-packages (from convokit) (1.5.2)\n",
            "Requirement already satisfied: nltk>=3.4 in /usr/local/lib/python3.10/dist-packages (from convokit) (3.8.1)\n",
            "Collecting dill>=0.2.9 (from convokit)\n",
            "  Downloading dill-0.3.9-py3-none-any.whl.metadata (10 kB)\n",
            "Requirement already satisfied: joblib>=0.13.2 in /usr/local/lib/python3.10/dist-packages (from convokit) (1.4.2)\n",
            "Collecting clean-text>=0.6.0 (from convokit)\n",
            "  Downloading clean_text-0.6.0-py3-none-any.whl.metadata (6.6 kB)\n",
            "Collecting unidecode>=1.1.1 (from convokit)\n",
            "  Downloading Unidecode-1.3.8-py3-none-any.whl.metadata (13 kB)\n",
            "Requirement already satisfied: tqdm>=4.64.0 in /usr/local/lib/python3.10/dist-packages (from convokit) (4.66.5)\n",
            "Collecting pymongo>=4.0 (from convokit)\n",
            "  Downloading pymongo-4.10.1-cp310-cp310-manylinux_2_17_x86_64.manylinux2014_x86_64.whl.metadata (22 kB)\n",
            "Requirement already satisfied: pyyaml>=5.4.1 in /usr/local/lib/python3.10/dist-packages (from convokit) (6.0.2)\n",
            "Collecting dnspython>=1.16.0 (from convokit)\n",
            "  Downloading dnspython-2.7.0-py3-none-any.whl.metadata (5.8 kB)\n",
            "Collecting emoji<2.0.0,>=1.0.0 (from clean-text>=0.6.0->convokit)\n",
            "  Downloading emoji-1.7.0.tar.gz (175 kB)\n",
            "\u001b[2K     \u001b[90m━━━━━━━━━━━━━━━━━━━━━━━━━━━━━━━━━━━━━━━━\u001b[0m \u001b[32m175.4/175.4 kB\u001b[0m \u001b[31m12.2 MB/s\u001b[0m eta \u001b[36m0:00:00\u001b[0m\n",
            "\u001b[?25h  Preparing metadata (setup.py) ... \u001b[?25l\u001b[?25hdone\n",
            "Collecting ftfy<7.0,>=6.0 (from clean-text>=0.6.0->convokit)\n",
            "  Downloading ftfy-6.3.0-py3-none-any.whl.metadata (7.1 kB)\n",
            "Requirement already satisfied: contourpy>=1.0.1 in /usr/local/lib/python3.10/dist-packages (from matplotlib>=3.0.0->convokit) (1.3.0)\n",
            "Requirement already satisfied: cycler>=0.10 in /usr/local/lib/python3.10/dist-packages (from matplotlib>=3.0.0->convokit) (0.12.1)\n",
            "Requirement already satisfied: fonttools>=4.22.0 in /usr/local/lib/python3.10/dist-packages (from matplotlib>=3.0.0->convokit) (4.54.1)\n",
            "Requirement already satisfied: kiwisolver>=1.0.1 in /usr/local/lib/python3.10/dist-packages (from matplotlib>=3.0.0->convokit) (1.4.7)\n",
            "Requirement already satisfied: numpy>=1.20 in /usr/local/lib/python3.10/dist-packages (from matplotlib>=3.0.0->convokit) (1.26.4)\n",
            "Requirement already satisfied: packaging>=20.0 in /usr/local/lib/python3.10/dist-packages (from matplotlib>=3.0.0->convokit) (24.1)\n",
            "Requirement already satisfied: pillow>=6.2.0 in /usr/local/lib/python3.10/dist-packages (from matplotlib>=3.0.0->convokit) (10.4.0)\n",
            "Requirement already satisfied: pyparsing>=2.3.1 in /usr/local/lib/python3.10/dist-packages (from matplotlib>=3.0.0->convokit) (3.1.4)\n",
            "Requirement already satisfied: python-dateutil>=2.7 in /usr/local/lib/python3.10/dist-packages (from matplotlib>=3.0.0->convokit) (2.8.2)\n",
            "Requirement already satisfied: msgpack>=0.5.2 in /usr/local/lib/python3.10/dist-packages (from msgpack-numpy>=0.4.3.2->convokit) (1.0.8)\n",
            "Requirement already satisfied: click in /usr/local/lib/python3.10/dist-packages (from nltk>=3.4->convokit) (8.1.7)\n",
            "Requirement already satisfied: regex>=2021.8.3 in /usr/local/lib/python3.10/dist-packages (from nltk>=3.4->convokit) (2024.9.11)\n",
            "Requirement already satisfied: pytz>=2020.1 in /usr/local/lib/python3.10/dist-packages (from pandas>=0.23.4->convokit) (2024.2)\n",
            "Requirement already satisfied: tzdata>=2022.7 in /usr/local/lib/python3.10/dist-packages (from pandas>=0.23.4->convokit) (2024.2)\n",
            "Requirement already satisfied: threadpoolctl>=3.1.0 in /usr/local/lib/python3.10/dist-packages (from scikit-learn>=0.20.0->convokit) (3.5.0)\n",
            "Requirement already satisfied: spacy-legacy<3.1.0,>=3.0.11 in /usr/local/lib/python3.10/dist-packages (from spacy>=2.3.5->convokit) (3.0.12)\n",
            "Requirement already satisfied: spacy-loggers<2.0.0,>=1.0.0 in /usr/local/lib/python3.10/dist-packages (from spacy>=2.3.5->convokit) (1.0.5)\n",
            "Requirement already satisfied: murmurhash<1.1.0,>=0.28.0 in /usr/local/lib/python3.10/dist-packages (from spacy>=2.3.5->convokit) (1.0.10)\n",
            "Requirement already satisfied: cymem<2.1.0,>=2.0.2 in /usr/local/lib/python3.10/dist-packages (from spacy>=2.3.5->convokit) (2.0.8)\n",
            "Requirement already satisfied: preshed<3.1.0,>=3.0.2 in /usr/local/lib/python3.10/dist-packages (from spacy>=2.3.5->convokit) (3.0.9)\n",
            "Requirement already satisfied: thinc<8.3.0,>=8.2.2 in /usr/local/lib/python3.10/dist-packages (from spacy>=2.3.5->convokit) (8.2.5)\n",
            "Requirement already satisfied: wasabi<1.2.0,>=0.9.1 in /usr/local/lib/python3.10/dist-packages (from spacy>=2.3.5->convokit) (1.1.3)\n",
            "Requirement already satisfied: srsly<3.0.0,>=2.4.3 in /usr/local/lib/python3.10/dist-packages (from spacy>=2.3.5->convokit) (2.4.8)\n",
            "Requirement already satisfied: catalogue<2.1.0,>=2.0.6 in /usr/local/lib/python3.10/dist-packages (from spacy>=2.3.5->convokit) (2.0.10)\n",
            "Requirement already satisfied: weasel<0.5.0,>=0.1.0 in /usr/local/lib/python3.10/dist-packages (from spacy>=2.3.5->convokit) (0.4.1)\n",
            "Requirement already satisfied: typer<1.0.0,>=0.3.0 in /usr/local/lib/python3.10/dist-packages (from spacy>=2.3.5->convokit) (0.12.5)\n",
            "Requirement already satisfied: requests<3.0.0,>=2.13.0 in /usr/local/lib/python3.10/dist-packages (from spacy>=2.3.5->convokit) (2.32.3)\n",
            "Requirement already satisfied: pydantic!=1.8,!=1.8.1,<3.0.0,>=1.7.4 in /usr/local/lib/python3.10/dist-packages (from spacy>=2.3.5->convokit) (2.9.2)\n",
            "Requirement already satisfied: jinja2 in /usr/local/lib/python3.10/dist-packages (from spacy>=2.3.5->convokit) (3.1.4)\n",
            "Requirement already satisfied: setuptools in /usr/local/lib/python3.10/dist-packages (from spacy>=2.3.5->convokit) (71.0.4)\n",
            "Requirement already satisfied: langcodes<4.0.0,>=3.2.0 in /usr/local/lib/python3.10/dist-packages (from spacy>=2.3.5->convokit) (3.4.1)\n",
            "Requirement already satisfied: wcwidth in /usr/local/lib/python3.10/dist-packages (from ftfy<7.0,>=6.0->clean-text>=0.6.0->convokit) (0.2.13)\n",
            "Requirement already satisfied: language-data>=1.2 in /usr/local/lib/python3.10/dist-packages (from langcodes<4.0.0,>=3.2.0->spacy>=2.3.5->convokit) (1.2.0)\n",
            "Requirement already satisfied: annotated-types>=0.6.0 in /usr/local/lib/python3.10/dist-packages (from pydantic!=1.8,!=1.8.1,<3.0.0,>=1.7.4->spacy>=2.3.5->convokit) (0.7.0)\n",
            "Requirement already satisfied: pydantic-core==2.23.4 in /usr/local/lib/python3.10/dist-packages (from pydantic!=1.8,!=1.8.1,<3.0.0,>=1.7.4->spacy>=2.3.5->convokit) (2.23.4)\n",
            "Requirement already satisfied: typing-extensions>=4.6.1 in /usr/local/lib/python3.10/dist-packages (from pydantic!=1.8,!=1.8.1,<3.0.0,>=1.7.4->spacy>=2.3.5->convokit) (4.12.2)\n",
            "Requirement already satisfied: six>=1.5 in /usr/local/lib/python3.10/dist-packages (from python-dateutil>=2.7->matplotlib>=3.0.0->convokit) (1.16.0)\n",
            "Requirement already satisfied: charset-normalizer<4,>=2 in /usr/local/lib/python3.10/dist-packages (from requests<3.0.0,>=2.13.0->spacy>=2.3.5->convokit) (3.4.0)\n",
            "Requirement already satisfied: idna<4,>=2.5 in /usr/local/lib/python3.10/dist-packages (from requests<3.0.0,>=2.13.0->spacy>=2.3.5->convokit) (3.10)\n",
            "Requirement already satisfied: urllib3<3,>=1.21.1 in /usr/local/lib/python3.10/dist-packages (from requests<3.0.0,>=2.13.0->spacy>=2.3.5->convokit) (2.2.3)\n",
            "Requirement already satisfied: certifi>=2017.4.17 in /usr/local/lib/python3.10/dist-packages (from requests<3.0.0,>=2.13.0->spacy>=2.3.5->convokit) (2024.8.30)\n",
            "Requirement already satisfied: blis<0.8.0,>=0.7.8 in /usr/local/lib/python3.10/dist-packages (from thinc<8.3.0,>=8.2.2->spacy>=2.3.5->convokit) (0.7.11)\n",
            "Requirement already satisfied: confection<1.0.0,>=0.0.1 in /usr/local/lib/python3.10/dist-packages (from thinc<8.3.0,>=8.2.2->spacy>=2.3.5->convokit) (0.1.5)\n",
            "Requirement already satisfied: shellingham>=1.3.0 in /usr/local/lib/python3.10/dist-packages (from typer<1.0.0,>=0.3.0->spacy>=2.3.5->convokit) (1.5.4)\n",
            "Requirement already satisfied: rich>=10.11.0 in /usr/local/lib/python3.10/dist-packages (from typer<1.0.0,>=0.3.0->spacy>=2.3.5->convokit) (13.9.2)\n",
            "Requirement already satisfied: cloudpathlib<1.0.0,>=0.7.0 in /usr/local/lib/python3.10/dist-packages (from weasel<0.5.0,>=0.1.0->spacy>=2.3.5->convokit) (0.19.0)\n",
            "Requirement already satisfied: smart-open<8.0.0,>=5.2.1 in /usr/local/lib/python3.10/dist-packages (from weasel<0.5.0,>=0.1.0->spacy>=2.3.5->convokit) (7.0.5)\n",
            "Requirement already satisfied: MarkupSafe>=2.0 in /usr/local/lib/python3.10/dist-packages (from jinja2->spacy>=2.3.5->convokit) (3.0.1)\n",
            "Requirement already satisfied: marisa-trie>=0.7.7 in /usr/local/lib/python3.10/dist-packages (from language-data>=1.2->langcodes<4.0.0,>=3.2.0->spacy>=2.3.5->convokit) (1.2.0)\n",
            "Requirement already satisfied: markdown-it-py>=2.2.0 in /usr/local/lib/python3.10/dist-packages (from rich>=10.11.0->typer<1.0.0,>=0.3.0->spacy>=2.3.5->convokit) (3.0.0)\n",
            "Requirement already satisfied: pygments<3.0.0,>=2.13.0 in /usr/local/lib/python3.10/dist-packages (from rich>=10.11.0->typer<1.0.0,>=0.3.0->spacy>=2.3.5->convokit) (2.18.0)\n",
            "Requirement already satisfied: wrapt in /usr/local/lib/python3.10/dist-packages (from smart-open<8.0.0,>=5.2.1->weasel<0.5.0,>=0.1.0->spacy>=2.3.5->convokit) (1.16.0)\n",
            "Requirement already satisfied: mdurl~=0.1 in /usr/local/lib/python3.10/dist-packages (from markdown-it-py>=2.2.0->rich>=10.11.0->typer<1.0.0,>=0.3.0->spacy>=2.3.5->convokit) (0.1.2)\n",
            "Downloading clean_text-0.6.0-py3-none-any.whl (11 kB)\n",
            "Downloading dill-0.3.9-py3-none-any.whl (119 kB)\n",
            "\u001b[2K   \u001b[90m━━━━━━━━━━━━━━━━━━━━━━━━━━━━━━━━━━━━━━━━\u001b[0m \u001b[32m119.4/119.4 kB\u001b[0m \u001b[31m8.4 MB/s\u001b[0m eta \u001b[36m0:00:00\u001b[0m\n",
            "\u001b[?25hDownloading dnspython-2.7.0-py3-none-any.whl (313 kB)\n",
            "\u001b[2K   \u001b[90m━━━━━━━━━━━━━━━━━━━━━━━━━━━━━━━━━━━━━━━━\u001b[0m \u001b[32m313.6/313.6 kB\u001b[0m \u001b[31m21.6 MB/s\u001b[0m eta \u001b[36m0:00:00\u001b[0m\n",
            "\u001b[?25hDownloading msgpack_numpy-0.4.8-py2.py3-none-any.whl (6.9 kB)\n",
            "Downloading pymongo-4.10.1-cp310-cp310-manylinux_2_17_x86_64.manylinux2014_x86_64.whl (1.4 MB)\n",
            "\u001b[2K   \u001b[90m━━━━━━━━━━━━━━━━━━━━━━━━━━━━━━━━━━━━━━━━\u001b[0m \u001b[32m1.4/1.4 MB\u001b[0m \u001b[31m62.7 MB/s\u001b[0m eta \u001b[36m0:00:00\u001b[0m\n",
            "\u001b[?25hDownloading Unidecode-1.3.8-py3-none-any.whl (235 kB)\n",
            "\u001b[2K   \u001b[90m━━━━━━━━━━━━━━━━━━━━━━━━━━━━━━━━━━━━━━━━\u001b[0m \u001b[32m235.5/235.5 kB\u001b[0m \u001b[31m17.2 MB/s\u001b[0m eta \u001b[36m0:00:00\u001b[0m\n",
            "\u001b[?25hDownloading ftfy-6.3.0-py3-none-any.whl (44 kB)\n",
            "\u001b[2K   \u001b[90m━━━━━━━━━━━━━━━━━━━━━━━━━━━━━━━━━━━━━━━━\u001b[0m \u001b[32m44.8/44.8 kB\u001b[0m \u001b[31m3.6 MB/s\u001b[0m eta \u001b[36m0:00:00\u001b[0m\n",
            "\u001b[?25hBuilding wheels for collected packages: convokit, emoji\n",
            "  Building wheel for convokit (pyproject.toml) ... \u001b[?25l\u001b[?25hdone\n",
            "  Created wheel for convokit: filename=convokit-3.0.0-py3-none-any.whl size=216707 sha256=6dce3b5b2b3c80915a031a79d61e9fd83c1df7bad3943e3297b9f5e55c0de629\n",
            "  Stored in directory: /root/.cache/pip/wheels/c4/89/8c/2677fdb888588b6f93cb6ac86bdfb020f1f1c33e0d5525b231\n",
            "  Building wheel for emoji (setup.py) ... \u001b[?25l\u001b[?25hdone\n",
            "  Created wheel for emoji: filename=emoji-1.7.0-py3-none-any.whl size=171031 sha256=59df538d76972ff33cbc956c79af0c672659a14267e4feca22896129a52c377d\n",
            "  Stored in directory: /root/.cache/pip/wheels/31/8a/8c/315c9e5d7773f74b33d5ed33f075b49c6eaeb7cedbb86e2cf8\n",
            "Successfully built convokit emoji\n",
            "Installing collected packages: emoji, unidecode, msgpack-numpy, ftfy, dnspython, dill, pymongo, clean-text, convokit\n",
            "Successfully installed clean-text-0.6.0 convokit-3.0.0 dill-0.3.9 dnspython-2.7.0 emoji-1.7.0 ftfy-6.3.0 msgpack-numpy-0.4.8 pymongo-4.10.1 unidecode-1.3.8\n"
          ]
        }
      ]
    },
    {
      "cell_type": "code",
      "execution_count": 2,
      "metadata": {
        "id": "M58LyJ8sTVFJ"
      },
      "outputs": [],
      "source": [
        "from tqdm import tqdm\n",
        "from convokit import Corpus, Speaker, Utterance\n",
        "from collections import defaultdict, Counter\n",
        "import pandas as pd\n",
        "import numpy as np"
      ]
    },
    {
      "cell_type": "code",
      "source": [
        "# prompt: mount google drive\n",
        "\n",
        "from google.colab import drive\n",
        "drive.mount('/content/drive')"
      ],
      "metadata": {
        "colab": {
          "base_uri": "https://localhost:8080/"
        },
        "id": "79ULffj_hKV6",
        "outputId": "4fae0320-4e12-4b4f-b480-b27cc1b769d5"
      },
      "execution_count": 3,
      "outputs": [
        {
          "output_type": "stream",
          "name": "stdout",
          "text": [
            "Mounted at /content/drive\n"
          ]
        }
      ]
    },
    {
      "cell_type": "code",
      "source": [
        "%cd /content/drive/MyDrive/corpus_resources"
      ],
      "metadata": {
        "colab": {
          "base_uri": "https://localhost:8080/"
        },
        "id": "_2OsoqAhhTEm",
        "outputId": "4c162d60-dfec-4fa7-b711-9f83c8272d84"
      },
      "execution_count": 8,
      "outputs": [
        {
          "output_type": "stream",
          "name": "stdout",
          "text": [
            "/content/drive/MyDrive/corpus_resources\n"
          ]
        }
      ]
    },
    {
      "cell_type": "markdown",
      "source": [
        "## Reading raw CSV data"
      ],
      "metadata": {
        "id": "pRCFJ1ewxOu6"
      }
    },
    {
      "cell_type": "markdown",
      "source": [
        "We begin by converting the raw CSV file into a pandas DataFrame object."
      ],
      "metadata": {
        "id": "Gpded9Qg9IFz"
      }
    },
    {
      "cell_type": "code",
      "source": [
        "corpus_raw = pd.read_csv('data.csv')"
      ],
      "metadata": {
        "id": "2Pe5PwWkKh7r"
      },
      "execution_count": 47,
      "outputs": []
    },
    {
      "cell_type": "code",
      "source": [
        "corpus_raw.head()"
      ],
      "metadata": {
        "colab": {
          "base_uri": "https://localhost:8080/",
          "height": 359
        },
        "id": "IRkBwjazKoxg",
        "outputId": "fa2e1cd9-10ce-4276-b7a8-c2d036bd6e0e"
      },
      "execution_count": 48,
      "outputs": [
        {
          "output_type": "execute_result",
          "data": {
            "text/plain": [
              "   Unnamed: 0                                                 id  \\\n",
              "0           0  [225700000, 225700001, 225700002, 225700003, 2...   \n",
              "1           1                                        [225700005]   \n",
              "2           2                                        [225700006]   \n",
              "3           3                                        [225700007]   \n",
              "4           4                                        [225700008]   \n",
              "\n",
              "  collection_title  collection_id  SpeakerTurn  audio_start_offset  \\\n",
              "0    Maine ED 2050            150            1               0.387   \n",
              "1    Maine ED 2050            150            2             167.862   \n",
              "2    Maine ED 2050            150            3             176.940   \n",
              "3    Maine ED 2050            150            4             204.537   \n",
              "4    Maine ED 2050            150            5             205.500   \n",
              "\n",
              "   audio_end_offset  duration  conversation_id  speaker_id  ... source_type  \\\n",
              "0           167.350   164.947             2257       42121  ...        zoom   \n",
              "1           176.817     8.955             2257       42122  ...        zoom   \n",
              "2           204.537    27.597             2257       42121  ...        zoom   \n",
              "3           205.362     0.825             2257       42122  ...        zoom   \n",
              "4           215.575    10.075             2257       42121  ...        zoom   \n",
              "\n",
              "  Personal story  Personal experience  Express affirmation  \\\n",
              "0              0                    0                    0   \n",
              "1              0                    0                    0   \n",
              "2              0                    0                    1   \n",
              "3              0                    0                    0   \n",
              "4              0                    0                    0   \n",
              "\n",
              "   Specific invitation Provide example Open invitation Make connections  \\\n",
              "0                    1               0               1                0   \n",
              "1                    0               0               0                0   \n",
              "2                    0               0               0                0   \n",
              "3                    0               0               0                0   \n",
              "4                    0               0               1                0   \n",
              "\n",
              "   Express appreciation  Follow up question  \n",
              "0                     0                   0  \n",
              "1                     0                   0  \n",
              "2                     0                   0  \n",
              "3                     0                   0  \n",
              "4                     0                   0  \n",
              "\n",
              "[5 rows x 27 columns]"
            ],
            "text/html": [
              "\n",
              "  <div id=\"df-d438b84e-847b-4a58-9581-600a4a3e5fa3\" class=\"colab-df-container\">\n",
              "    <div>\n",
              "<style scoped>\n",
              "    .dataframe tbody tr th:only-of-type {\n",
              "        vertical-align: middle;\n",
              "    }\n",
              "\n",
              "    .dataframe tbody tr th {\n",
              "        vertical-align: top;\n",
              "    }\n",
              "\n",
              "    .dataframe thead th {\n",
              "        text-align: right;\n",
              "    }\n",
              "</style>\n",
              "<table border=\"1\" class=\"dataframe\">\n",
              "  <thead>\n",
              "    <tr style=\"text-align: right;\">\n",
              "      <th></th>\n",
              "      <th>Unnamed: 0</th>\n",
              "      <th>id</th>\n",
              "      <th>collection_title</th>\n",
              "      <th>collection_id</th>\n",
              "      <th>SpeakerTurn</th>\n",
              "      <th>audio_start_offset</th>\n",
              "      <th>audio_end_offset</th>\n",
              "      <th>duration</th>\n",
              "      <th>conversation_id</th>\n",
              "      <th>speaker_id</th>\n",
              "      <th>...</th>\n",
              "      <th>source_type</th>\n",
              "      <th>Personal story</th>\n",
              "      <th>Personal experience</th>\n",
              "      <th>Express affirmation</th>\n",
              "      <th>Specific invitation</th>\n",
              "      <th>Provide example</th>\n",
              "      <th>Open invitation</th>\n",
              "      <th>Make connections</th>\n",
              "      <th>Express appreciation</th>\n",
              "      <th>Follow up question</th>\n",
              "    </tr>\n",
              "  </thead>\n",
              "  <tbody>\n",
              "    <tr>\n",
              "      <th>0</th>\n",
              "      <td>0</td>\n",
              "      <td>[225700000, 225700001, 225700002, 225700003, 2...</td>\n",
              "      <td>Maine ED 2050</td>\n",
              "      <td>150</td>\n",
              "      <td>1</td>\n",
              "      <td>0.387</td>\n",
              "      <td>167.350</td>\n",
              "      <td>164.947</td>\n",
              "      <td>2257</td>\n",
              "      <td>42121</td>\n",
              "      <td>...</td>\n",
              "      <td>zoom</td>\n",
              "      <td>0</td>\n",
              "      <td>0</td>\n",
              "      <td>0</td>\n",
              "      <td>1</td>\n",
              "      <td>0</td>\n",
              "      <td>1</td>\n",
              "      <td>0</td>\n",
              "      <td>0</td>\n",
              "      <td>0</td>\n",
              "    </tr>\n",
              "    <tr>\n",
              "      <th>1</th>\n",
              "      <td>1</td>\n",
              "      <td>[225700005]</td>\n",
              "      <td>Maine ED 2050</td>\n",
              "      <td>150</td>\n",
              "      <td>2</td>\n",
              "      <td>167.862</td>\n",
              "      <td>176.817</td>\n",
              "      <td>8.955</td>\n",
              "      <td>2257</td>\n",
              "      <td>42122</td>\n",
              "      <td>...</td>\n",
              "      <td>zoom</td>\n",
              "      <td>0</td>\n",
              "      <td>0</td>\n",
              "      <td>0</td>\n",
              "      <td>0</td>\n",
              "      <td>0</td>\n",
              "      <td>0</td>\n",
              "      <td>0</td>\n",
              "      <td>0</td>\n",
              "      <td>0</td>\n",
              "    </tr>\n",
              "    <tr>\n",
              "      <th>2</th>\n",
              "      <td>2</td>\n",
              "      <td>[225700006]</td>\n",
              "      <td>Maine ED 2050</td>\n",
              "      <td>150</td>\n",
              "      <td>3</td>\n",
              "      <td>176.940</td>\n",
              "      <td>204.537</td>\n",
              "      <td>27.597</td>\n",
              "      <td>2257</td>\n",
              "      <td>42121</td>\n",
              "      <td>...</td>\n",
              "      <td>zoom</td>\n",
              "      <td>0</td>\n",
              "      <td>0</td>\n",
              "      <td>1</td>\n",
              "      <td>0</td>\n",
              "      <td>0</td>\n",
              "      <td>0</td>\n",
              "      <td>0</td>\n",
              "      <td>0</td>\n",
              "      <td>0</td>\n",
              "    </tr>\n",
              "    <tr>\n",
              "      <th>3</th>\n",
              "      <td>3</td>\n",
              "      <td>[225700007]</td>\n",
              "      <td>Maine ED 2050</td>\n",
              "      <td>150</td>\n",
              "      <td>4</td>\n",
              "      <td>204.537</td>\n",
              "      <td>205.362</td>\n",
              "      <td>0.825</td>\n",
              "      <td>2257</td>\n",
              "      <td>42122</td>\n",
              "      <td>...</td>\n",
              "      <td>zoom</td>\n",
              "      <td>0</td>\n",
              "      <td>0</td>\n",
              "      <td>0</td>\n",
              "      <td>0</td>\n",
              "      <td>0</td>\n",
              "      <td>0</td>\n",
              "      <td>0</td>\n",
              "      <td>0</td>\n",
              "      <td>0</td>\n",
              "    </tr>\n",
              "    <tr>\n",
              "      <th>4</th>\n",
              "      <td>4</td>\n",
              "      <td>[225700008]</td>\n",
              "      <td>Maine ED 2050</td>\n",
              "      <td>150</td>\n",
              "      <td>5</td>\n",
              "      <td>205.500</td>\n",
              "      <td>215.575</td>\n",
              "      <td>10.075</td>\n",
              "      <td>2257</td>\n",
              "      <td>42121</td>\n",
              "      <td>...</td>\n",
              "      <td>zoom</td>\n",
              "      <td>0</td>\n",
              "      <td>0</td>\n",
              "      <td>0</td>\n",
              "      <td>0</td>\n",
              "      <td>0</td>\n",
              "      <td>1</td>\n",
              "      <td>0</td>\n",
              "      <td>0</td>\n",
              "      <td>0</td>\n",
              "    </tr>\n",
              "  </tbody>\n",
              "</table>\n",
              "<p>5 rows × 27 columns</p>\n",
              "</div>\n",
              "    <div class=\"colab-df-buttons\">\n",
              "\n",
              "  <div class=\"colab-df-container\">\n",
              "    <button class=\"colab-df-convert\" onclick=\"convertToInteractive('df-d438b84e-847b-4a58-9581-600a4a3e5fa3')\"\n",
              "            title=\"Convert this dataframe to an interactive table.\"\n",
              "            style=\"display:none;\">\n",
              "\n",
              "  <svg xmlns=\"http://www.w3.org/2000/svg\" height=\"24px\" viewBox=\"0 -960 960 960\">\n",
              "    <path d=\"M120-120v-720h720v720H120Zm60-500h600v-160H180v160Zm220 220h160v-160H400v160Zm0 220h160v-160H400v160ZM180-400h160v-160H180v160Zm440 0h160v-160H620v160ZM180-180h160v-160H180v160Zm440 0h160v-160H620v160Z\"/>\n",
              "  </svg>\n",
              "    </button>\n",
              "\n",
              "  <style>\n",
              "    .colab-df-container {\n",
              "      display:flex;\n",
              "      gap: 12px;\n",
              "    }\n",
              "\n",
              "    .colab-df-convert {\n",
              "      background-color: #E8F0FE;\n",
              "      border: none;\n",
              "      border-radius: 50%;\n",
              "      cursor: pointer;\n",
              "      display: none;\n",
              "      fill: #1967D2;\n",
              "      height: 32px;\n",
              "      padding: 0 0 0 0;\n",
              "      width: 32px;\n",
              "    }\n",
              "\n",
              "    .colab-df-convert:hover {\n",
              "      background-color: #E2EBFA;\n",
              "      box-shadow: 0px 1px 2px rgba(60, 64, 67, 0.3), 0px 1px 3px 1px rgba(60, 64, 67, 0.15);\n",
              "      fill: #174EA6;\n",
              "    }\n",
              "\n",
              "    .colab-df-buttons div {\n",
              "      margin-bottom: 4px;\n",
              "    }\n",
              "\n",
              "    [theme=dark] .colab-df-convert {\n",
              "      background-color: #3B4455;\n",
              "      fill: #D2E3FC;\n",
              "    }\n",
              "\n",
              "    [theme=dark] .colab-df-convert:hover {\n",
              "      background-color: #434B5C;\n",
              "      box-shadow: 0px 1px 3px 1px rgba(0, 0, 0, 0.15);\n",
              "      filter: drop-shadow(0px 1px 2px rgba(0, 0, 0, 0.3));\n",
              "      fill: #FFFFFF;\n",
              "    }\n",
              "  </style>\n",
              "\n",
              "    <script>\n",
              "      const buttonEl =\n",
              "        document.querySelector('#df-d438b84e-847b-4a58-9581-600a4a3e5fa3 button.colab-df-convert');\n",
              "      buttonEl.style.display =\n",
              "        google.colab.kernel.accessAllowed ? 'block' : 'none';\n",
              "\n",
              "      async function convertToInteractive(key) {\n",
              "        const element = document.querySelector('#df-d438b84e-847b-4a58-9581-600a4a3e5fa3');\n",
              "        const dataTable =\n",
              "          await google.colab.kernel.invokeFunction('convertToInteractive',\n",
              "                                                    [key], {});\n",
              "        if (!dataTable) return;\n",
              "\n",
              "        const docLinkHtml = 'Like what you see? Visit the ' +\n",
              "          '<a target=\"_blank\" href=https://colab.research.google.com/notebooks/data_table.ipynb>data table notebook</a>'\n",
              "          + ' to learn more about interactive tables.';\n",
              "        element.innerHTML = '';\n",
              "        dataTable['output_type'] = 'display_data';\n",
              "        await google.colab.output.renderOutput(dataTable, element);\n",
              "        const docLink = document.createElement('div');\n",
              "        docLink.innerHTML = docLinkHtml;\n",
              "        element.appendChild(docLink);\n",
              "      }\n",
              "    </script>\n",
              "  </div>\n",
              "\n",
              "\n",
              "<div id=\"df-bb36aaf6-965c-4912-9d6e-0ebea5c6e7a6\">\n",
              "  <button class=\"colab-df-quickchart\" onclick=\"quickchart('df-bb36aaf6-965c-4912-9d6e-0ebea5c6e7a6')\"\n",
              "            title=\"Suggest charts\"\n",
              "            style=\"display:none;\">\n",
              "\n",
              "<svg xmlns=\"http://www.w3.org/2000/svg\" height=\"24px\"viewBox=\"0 0 24 24\"\n",
              "     width=\"24px\">\n",
              "    <g>\n",
              "        <path d=\"M19 3H5c-1.1 0-2 .9-2 2v14c0 1.1.9 2 2 2h14c1.1 0 2-.9 2-2V5c0-1.1-.9-2-2-2zM9 17H7v-7h2v7zm4 0h-2V7h2v10zm4 0h-2v-4h2v4z\"/>\n",
              "    </g>\n",
              "</svg>\n",
              "  </button>\n",
              "\n",
              "<style>\n",
              "  .colab-df-quickchart {\n",
              "      --bg-color: #E8F0FE;\n",
              "      --fill-color: #1967D2;\n",
              "      --hover-bg-color: #E2EBFA;\n",
              "      --hover-fill-color: #174EA6;\n",
              "      --disabled-fill-color: #AAA;\n",
              "      --disabled-bg-color: #DDD;\n",
              "  }\n",
              "\n",
              "  [theme=dark] .colab-df-quickchart {\n",
              "      --bg-color: #3B4455;\n",
              "      --fill-color: #D2E3FC;\n",
              "      --hover-bg-color: #434B5C;\n",
              "      --hover-fill-color: #FFFFFF;\n",
              "      --disabled-bg-color: #3B4455;\n",
              "      --disabled-fill-color: #666;\n",
              "  }\n",
              "\n",
              "  .colab-df-quickchart {\n",
              "    background-color: var(--bg-color);\n",
              "    border: none;\n",
              "    border-radius: 50%;\n",
              "    cursor: pointer;\n",
              "    display: none;\n",
              "    fill: var(--fill-color);\n",
              "    height: 32px;\n",
              "    padding: 0;\n",
              "    width: 32px;\n",
              "  }\n",
              "\n",
              "  .colab-df-quickchart:hover {\n",
              "    background-color: var(--hover-bg-color);\n",
              "    box-shadow: 0 1px 2px rgba(60, 64, 67, 0.3), 0 1px 3px 1px rgba(60, 64, 67, 0.15);\n",
              "    fill: var(--button-hover-fill-color);\n",
              "  }\n",
              "\n",
              "  .colab-df-quickchart-complete:disabled,\n",
              "  .colab-df-quickchart-complete:disabled:hover {\n",
              "    background-color: var(--disabled-bg-color);\n",
              "    fill: var(--disabled-fill-color);\n",
              "    box-shadow: none;\n",
              "  }\n",
              "\n",
              "  .colab-df-spinner {\n",
              "    border: 2px solid var(--fill-color);\n",
              "    border-color: transparent;\n",
              "    border-bottom-color: var(--fill-color);\n",
              "    animation:\n",
              "      spin 1s steps(1) infinite;\n",
              "  }\n",
              "\n",
              "  @keyframes spin {\n",
              "    0% {\n",
              "      border-color: transparent;\n",
              "      border-bottom-color: var(--fill-color);\n",
              "      border-left-color: var(--fill-color);\n",
              "    }\n",
              "    20% {\n",
              "      border-color: transparent;\n",
              "      border-left-color: var(--fill-color);\n",
              "      border-top-color: var(--fill-color);\n",
              "    }\n",
              "    30% {\n",
              "      border-color: transparent;\n",
              "      border-left-color: var(--fill-color);\n",
              "      border-top-color: var(--fill-color);\n",
              "      border-right-color: var(--fill-color);\n",
              "    }\n",
              "    40% {\n",
              "      border-color: transparent;\n",
              "      border-right-color: var(--fill-color);\n",
              "      border-top-color: var(--fill-color);\n",
              "    }\n",
              "    60% {\n",
              "      border-color: transparent;\n",
              "      border-right-color: var(--fill-color);\n",
              "    }\n",
              "    80% {\n",
              "      border-color: transparent;\n",
              "      border-right-color: var(--fill-color);\n",
              "      border-bottom-color: var(--fill-color);\n",
              "    }\n",
              "    90% {\n",
              "      border-color: transparent;\n",
              "      border-bottom-color: var(--fill-color);\n",
              "    }\n",
              "  }\n",
              "</style>\n",
              "\n",
              "  <script>\n",
              "    async function quickchart(key) {\n",
              "      const quickchartButtonEl =\n",
              "        document.querySelector('#' + key + ' button');\n",
              "      quickchartButtonEl.disabled = true;  // To prevent multiple clicks.\n",
              "      quickchartButtonEl.classList.add('colab-df-spinner');\n",
              "      try {\n",
              "        const charts = await google.colab.kernel.invokeFunction(\n",
              "            'suggestCharts', [key], {});\n",
              "      } catch (error) {\n",
              "        console.error('Error during call to suggestCharts:', error);\n",
              "      }\n",
              "      quickchartButtonEl.classList.remove('colab-df-spinner');\n",
              "      quickchartButtonEl.classList.add('colab-df-quickchart-complete');\n",
              "    }\n",
              "    (() => {\n",
              "      let quickchartButtonEl =\n",
              "        document.querySelector('#df-bb36aaf6-965c-4912-9d6e-0ebea5c6e7a6 button');\n",
              "      quickchartButtonEl.style.display =\n",
              "        google.colab.kernel.accessAllowed ? 'block' : 'none';\n",
              "    })();\n",
              "  </script>\n",
              "</div>\n",
              "\n",
              "    </div>\n",
              "  </div>\n"
            ],
            "application/vnd.google.colaboratory.intrinsic+json": {
              "type": "dataframe",
              "variable_name": "corpus_raw"
            }
          },
          "metadata": {},
          "execution_count": 48
        }
      ]
    },
    {
      "cell_type": "markdown",
      "source": [
        "Reformat the unnamed column to 'original_index,' preserving the order of the unmodified data."
      ],
      "metadata": {
        "id": "Kfty7CrV9WcD"
      }
    },
    {
      "cell_type": "code",
      "source": [
        "corpus_raw.rename( columns={'Unnamed: 0':'original_index'}, inplace=True )\n",
        "corpus_raw.head()"
      ],
      "metadata": {
        "colab": {
          "base_uri": "https://localhost:8080/",
          "height": 359
        },
        "id": "skeEDdk_jJMi",
        "outputId": "ac5fd309-de33-4879-bdb8-15352a9387ad"
      },
      "execution_count": 49,
      "outputs": [
        {
          "output_type": "execute_result",
          "data": {
            "text/plain": [
              "   original_index                                                 id  \\\n",
              "0               0  [225700000, 225700001, 225700002, 225700003, 2...   \n",
              "1               1                                        [225700005]   \n",
              "2               2                                        [225700006]   \n",
              "3               3                                        [225700007]   \n",
              "4               4                                        [225700008]   \n",
              "\n",
              "  collection_title  collection_id  SpeakerTurn  audio_start_offset  \\\n",
              "0    Maine ED 2050            150            1               0.387   \n",
              "1    Maine ED 2050            150            2             167.862   \n",
              "2    Maine ED 2050            150            3             176.940   \n",
              "3    Maine ED 2050            150            4             204.537   \n",
              "4    Maine ED 2050            150            5             205.500   \n",
              "\n",
              "   audio_end_offset  duration  conversation_id  speaker_id  ... source_type  \\\n",
              "0           167.350   164.947             2257       42121  ...        zoom   \n",
              "1           176.817     8.955             2257       42122  ...        zoom   \n",
              "2           204.537    27.597             2257       42121  ...        zoom   \n",
              "3           205.362     0.825             2257       42122  ...        zoom   \n",
              "4           215.575    10.075             2257       42121  ...        zoom   \n",
              "\n",
              "  Personal story  Personal experience  Express affirmation  \\\n",
              "0              0                    0                    0   \n",
              "1              0                    0                    0   \n",
              "2              0                    0                    1   \n",
              "3              0                    0                    0   \n",
              "4              0                    0                    0   \n",
              "\n",
              "   Specific invitation Provide example Open invitation Make connections  \\\n",
              "0                    1               0               1                0   \n",
              "1                    0               0               0                0   \n",
              "2                    0               0               0                0   \n",
              "3                    0               0               0                0   \n",
              "4                    0               0               1                0   \n",
              "\n",
              "   Express appreciation  Follow up question  \n",
              "0                     0                   0  \n",
              "1                     0                   0  \n",
              "2                     0                   0  \n",
              "3                     0                   0  \n",
              "4                     0                   0  \n",
              "\n",
              "[5 rows x 27 columns]"
            ],
            "text/html": [
              "\n",
              "  <div id=\"df-fa777aea-7471-44ab-a1a7-437408ed0bf6\" class=\"colab-df-container\">\n",
              "    <div>\n",
              "<style scoped>\n",
              "    .dataframe tbody tr th:only-of-type {\n",
              "        vertical-align: middle;\n",
              "    }\n",
              "\n",
              "    .dataframe tbody tr th {\n",
              "        vertical-align: top;\n",
              "    }\n",
              "\n",
              "    .dataframe thead th {\n",
              "        text-align: right;\n",
              "    }\n",
              "</style>\n",
              "<table border=\"1\" class=\"dataframe\">\n",
              "  <thead>\n",
              "    <tr style=\"text-align: right;\">\n",
              "      <th></th>\n",
              "      <th>original_index</th>\n",
              "      <th>id</th>\n",
              "      <th>collection_title</th>\n",
              "      <th>collection_id</th>\n",
              "      <th>SpeakerTurn</th>\n",
              "      <th>audio_start_offset</th>\n",
              "      <th>audio_end_offset</th>\n",
              "      <th>duration</th>\n",
              "      <th>conversation_id</th>\n",
              "      <th>speaker_id</th>\n",
              "      <th>...</th>\n",
              "      <th>source_type</th>\n",
              "      <th>Personal story</th>\n",
              "      <th>Personal experience</th>\n",
              "      <th>Express affirmation</th>\n",
              "      <th>Specific invitation</th>\n",
              "      <th>Provide example</th>\n",
              "      <th>Open invitation</th>\n",
              "      <th>Make connections</th>\n",
              "      <th>Express appreciation</th>\n",
              "      <th>Follow up question</th>\n",
              "    </tr>\n",
              "  </thead>\n",
              "  <tbody>\n",
              "    <tr>\n",
              "      <th>0</th>\n",
              "      <td>0</td>\n",
              "      <td>[225700000, 225700001, 225700002, 225700003, 2...</td>\n",
              "      <td>Maine ED 2050</td>\n",
              "      <td>150</td>\n",
              "      <td>1</td>\n",
              "      <td>0.387</td>\n",
              "      <td>167.350</td>\n",
              "      <td>164.947</td>\n",
              "      <td>2257</td>\n",
              "      <td>42121</td>\n",
              "      <td>...</td>\n",
              "      <td>zoom</td>\n",
              "      <td>0</td>\n",
              "      <td>0</td>\n",
              "      <td>0</td>\n",
              "      <td>1</td>\n",
              "      <td>0</td>\n",
              "      <td>1</td>\n",
              "      <td>0</td>\n",
              "      <td>0</td>\n",
              "      <td>0</td>\n",
              "    </tr>\n",
              "    <tr>\n",
              "      <th>1</th>\n",
              "      <td>1</td>\n",
              "      <td>[225700005]</td>\n",
              "      <td>Maine ED 2050</td>\n",
              "      <td>150</td>\n",
              "      <td>2</td>\n",
              "      <td>167.862</td>\n",
              "      <td>176.817</td>\n",
              "      <td>8.955</td>\n",
              "      <td>2257</td>\n",
              "      <td>42122</td>\n",
              "      <td>...</td>\n",
              "      <td>zoom</td>\n",
              "      <td>0</td>\n",
              "      <td>0</td>\n",
              "      <td>0</td>\n",
              "      <td>0</td>\n",
              "      <td>0</td>\n",
              "      <td>0</td>\n",
              "      <td>0</td>\n",
              "      <td>0</td>\n",
              "      <td>0</td>\n",
              "    </tr>\n",
              "    <tr>\n",
              "      <th>2</th>\n",
              "      <td>2</td>\n",
              "      <td>[225700006]</td>\n",
              "      <td>Maine ED 2050</td>\n",
              "      <td>150</td>\n",
              "      <td>3</td>\n",
              "      <td>176.940</td>\n",
              "      <td>204.537</td>\n",
              "      <td>27.597</td>\n",
              "      <td>2257</td>\n",
              "      <td>42121</td>\n",
              "      <td>...</td>\n",
              "      <td>zoom</td>\n",
              "      <td>0</td>\n",
              "      <td>0</td>\n",
              "      <td>1</td>\n",
              "      <td>0</td>\n",
              "      <td>0</td>\n",
              "      <td>0</td>\n",
              "      <td>0</td>\n",
              "      <td>0</td>\n",
              "      <td>0</td>\n",
              "    </tr>\n",
              "    <tr>\n",
              "      <th>3</th>\n",
              "      <td>3</td>\n",
              "      <td>[225700007]</td>\n",
              "      <td>Maine ED 2050</td>\n",
              "      <td>150</td>\n",
              "      <td>4</td>\n",
              "      <td>204.537</td>\n",
              "      <td>205.362</td>\n",
              "      <td>0.825</td>\n",
              "      <td>2257</td>\n",
              "      <td>42122</td>\n",
              "      <td>...</td>\n",
              "      <td>zoom</td>\n",
              "      <td>0</td>\n",
              "      <td>0</td>\n",
              "      <td>0</td>\n",
              "      <td>0</td>\n",
              "      <td>0</td>\n",
              "      <td>0</td>\n",
              "      <td>0</td>\n",
              "      <td>0</td>\n",
              "      <td>0</td>\n",
              "    </tr>\n",
              "    <tr>\n",
              "      <th>4</th>\n",
              "      <td>4</td>\n",
              "      <td>[225700008]</td>\n",
              "      <td>Maine ED 2050</td>\n",
              "      <td>150</td>\n",
              "      <td>5</td>\n",
              "      <td>205.500</td>\n",
              "      <td>215.575</td>\n",
              "      <td>10.075</td>\n",
              "      <td>2257</td>\n",
              "      <td>42121</td>\n",
              "      <td>...</td>\n",
              "      <td>zoom</td>\n",
              "      <td>0</td>\n",
              "      <td>0</td>\n",
              "      <td>0</td>\n",
              "      <td>0</td>\n",
              "      <td>0</td>\n",
              "      <td>1</td>\n",
              "      <td>0</td>\n",
              "      <td>0</td>\n",
              "      <td>0</td>\n",
              "    </tr>\n",
              "  </tbody>\n",
              "</table>\n",
              "<p>5 rows × 27 columns</p>\n",
              "</div>\n",
              "    <div class=\"colab-df-buttons\">\n",
              "\n",
              "  <div class=\"colab-df-container\">\n",
              "    <button class=\"colab-df-convert\" onclick=\"convertToInteractive('df-fa777aea-7471-44ab-a1a7-437408ed0bf6')\"\n",
              "            title=\"Convert this dataframe to an interactive table.\"\n",
              "            style=\"display:none;\">\n",
              "\n",
              "  <svg xmlns=\"http://www.w3.org/2000/svg\" height=\"24px\" viewBox=\"0 -960 960 960\">\n",
              "    <path d=\"M120-120v-720h720v720H120Zm60-500h600v-160H180v160Zm220 220h160v-160H400v160Zm0 220h160v-160H400v160ZM180-400h160v-160H180v160Zm440 0h160v-160H620v160ZM180-180h160v-160H180v160Zm440 0h160v-160H620v160Z\"/>\n",
              "  </svg>\n",
              "    </button>\n",
              "\n",
              "  <style>\n",
              "    .colab-df-container {\n",
              "      display:flex;\n",
              "      gap: 12px;\n",
              "    }\n",
              "\n",
              "    .colab-df-convert {\n",
              "      background-color: #E8F0FE;\n",
              "      border: none;\n",
              "      border-radius: 50%;\n",
              "      cursor: pointer;\n",
              "      display: none;\n",
              "      fill: #1967D2;\n",
              "      height: 32px;\n",
              "      padding: 0 0 0 0;\n",
              "      width: 32px;\n",
              "    }\n",
              "\n",
              "    .colab-df-convert:hover {\n",
              "      background-color: #E2EBFA;\n",
              "      box-shadow: 0px 1px 2px rgba(60, 64, 67, 0.3), 0px 1px 3px 1px rgba(60, 64, 67, 0.15);\n",
              "      fill: #174EA6;\n",
              "    }\n",
              "\n",
              "    .colab-df-buttons div {\n",
              "      margin-bottom: 4px;\n",
              "    }\n",
              "\n",
              "    [theme=dark] .colab-df-convert {\n",
              "      background-color: #3B4455;\n",
              "      fill: #D2E3FC;\n",
              "    }\n",
              "\n",
              "    [theme=dark] .colab-df-convert:hover {\n",
              "      background-color: #434B5C;\n",
              "      box-shadow: 0px 1px 3px 1px rgba(0, 0, 0, 0.15);\n",
              "      filter: drop-shadow(0px 1px 2px rgba(0, 0, 0, 0.3));\n",
              "      fill: #FFFFFF;\n",
              "    }\n",
              "  </style>\n",
              "\n",
              "    <script>\n",
              "      const buttonEl =\n",
              "        document.querySelector('#df-fa777aea-7471-44ab-a1a7-437408ed0bf6 button.colab-df-convert');\n",
              "      buttonEl.style.display =\n",
              "        google.colab.kernel.accessAllowed ? 'block' : 'none';\n",
              "\n",
              "      async function convertToInteractive(key) {\n",
              "        const element = document.querySelector('#df-fa777aea-7471-44ab-a1a7-437408ed0bf6');\n",
              "        const dataTable =\n",
              "          await google.colab.kernel.invokeFunction('convertToInteractive',\n",
              "                                                    [key], {});\n",
              "        if (!dataTable) return;\n",
              "\n",
              "        const docLinkHtml = 'Like what you see? Visit the ' +\n",
              "          '<a target=\"_blank\" href=https://colab.research.google.com/notebooks/data_table.ipynb>data table notebook</a>'\n",
              "          + ' to learn more about interactive tables.';\n",
              "        element.innerHTML = '';\n",
              "        dataTable['output_type'] = 'display_data';\n",
              "        await google.colab.output.renderOutput(dataTable, element);\n",
              "        const docLink = document.createElement('div');\n",
              "        docLink.innerHTML = docLinkHtml;\n",
              "        element.appendChild(docLink);\n",
              "      }\n",
              "    </script>\n",
              "  </div>\n",
              "\n",
              "\n",
              "<div id=\"df-c4d4db5d-e5d5-40d2-a118-2b23b1098ab5\">\n",
              "  <button class=\"colab-df-quickchart\" onclick=\"quickchart('df-c4d4db5d-e5d5-40d2-a118-2b23b1098ab5')\"\n",
              "            title=\"Suggest charts\"\n",
              "            style=\"display:none;\">\n",
              "\n",
              "<svg xmlns=\"http://www.w3.org/2000/svg\" height=\"24px\"viewBox=\"0 0 24 24\"\n",
              "     width=\"24px\">\n",
              "    <g>\n",
              "        <path d=\"M19 3H5c-1.1 0-2 .9-2 2v14c0 1.1.9 2 2 2h14c1.1 0 2-.9 2-2V5c0-1.1-.9-2-2-2zM9 17H7v-7h2v7zm4 0h-2V7h2v10zm4 0h-2v-4h2v4z\"/>\n",
              "    </g>\n",
              "</svg>\n",
              "  </button>\n",
              "\n",
              "<style>\n",
              "  .colab-df-quickchart {\n",
              "      --bg-color: #E8F0FE;\n",
              "      --fill-color: #1967D2;\n",
              "      --hover-bg-color: #E2EBFA;\n",
              "      --hover-fill-color: #174EA6;\n",
              "      --disabled-fill-color: #AAA;\n",
              "      --disabled-bg-color: #DDD;\n",
              "  }\n",
              "\n",
              "  [theme=dark] .colab-df-quickchart {\n",
              "      --bg-color: #3B4455;\n",
              "      --fill-color: #D2E3FC;\n",
              "      --hover-bg-color: #434B5C;\n",
              "      --hover-fill-color: #FFFFFF;\n",
              "      --disabled-bg-color: #3B4455;\n",
              "      --disabled-fill-color: #666;\n",
              "  }\n",
              "\n",
              "  .colab-df-quickchart {\n",
              "    background-color: var(--bg-color);\n",
              "    border: none;\n",
              "    border-radius: 50%;\n",
              "    cursor: pointer;\n",
              "    display: none;\n",
              "    fill: var(--fill-color);\n",
              "    height: 32px;\n",
              "    padding: 0;\n",
              "    width: 32px;\n",
              "  }\n",
              "\n",
              "  .colab-df-quickchart:hover {\n",
              "    background-color: var(--hover-bg-color);\n",
              "    box-shadow: 0 1px 2px rgba(60, 64, 67, 0.3), 0 1px 3px 1px rgba(60, 64, 67, 0.15);\n",
              "    fill: var(--button-hover-fill-color);\n",
              "  }\n",
              "\n",
              "  .colab-df-quickchart-complete:disabled,\n",
              "  .colab-df-quickchart-complete:disabled:hover {\n",
              "    background-color: var(--disabled-bg-color);\n",
              "    fill: var(--disabled-fill-color);\n",
              "    box-shadow: none;\n",
              "  }\n",
              "\n",
              "  .colab-df-spinner {\n",
              "    border: 2px solid var(--fill-color);\n",
              "    border-color: transparent;\n",
              "    border-bottom-color: var(--fill-color);\n",
              "    animation:\n",
              "      spin 1s steps(1) infinite;\n",
              "  }\n",
              "\n",
              "  @keyframes spin {\n",
              "    0% {\n",
              "      border-color: transparent;\n",
              "      border-bottom-color: var(--fill-color);\n",
              "      border-left-color: var(--fill-color);\n",
              "    }\n",
              "    20% {\n",
              "      border-color: transparent;\n",
              "      border-left-color: var(--fill-color);\n",
              "      border-top-color: var(--fill-color);\n",
              "    }\n",
              "    30% {\n",
              "      border-color: transparent;\n",
              "      border-left-color: var(--fill-color);\n",
              "      border-top-color: var(--fill-color);\n",
              "      border-right-color: var(--fill-color);\n",
              "    }\n",
              "    40% {\n",
              "      border-color: transparent;\n",
              "      border-right-color: var(--fill-color);\n",
              "      border-top-color: var(--fill-color);\n",
              "    }\n",
              "    60% {\n",
              "      border-color: transparent;\n",
              "      border-right-color: var(--fill-color);\n",
              "    }\n",
              "    80% {\n",
              "      border-color: transparent;\n",
              "      border-right-color: var(--fill-color);\n",
              "      border-bottom-color: var(--fill-color);\n",
              "    }\n",
              "    90% {\n",
              "      border-color: transparent;\n",
              "      border-bottom-color: var(--fill-color);\n",
              "    }\n",
              "  }\n",
              "</style>\n",
              "\n",
              "  <script>\n",
              "    async function quickchart(key) {\n",
              "      const quickchartButtonEl =\n",
              "        document.querySelector('#' + key + ' button');\n",
              "      quickchartButtonEl.disabled = true;  // To prevent multiple clicks.\n",
              "      quickchartButtonEl.classList.add('colab-df-spinner');\n",
              "      try {\n",
              "        const charts = await google.colab.kernel.invokeFunction(\n",
              "            'suggestCharts', [key], {});\n",
              "      } catch (error) {\n",
              "        console.error('Error during call to suggestCharts:', error);\n",
              "      }\n",
              "      quickchartButtonEl.classList.remove('colab-df-spinner');\n",
              "      quickchartButtonEl.classList.add('colab-df-quickchart-complete');\n",
              "    }\n",
              "    (() => {\n",
              "      let quickchartButtonEl =\n",
              "        document.querySelector('#df-c4d4db5d-e5d5-40d2-a118-2b23b1098ab5 button');\n",
              "      quickchartButtonEl.style.display =\n",
              "        google.colab.kernel.accessAllowed ? 'block' : 'none';\n",
              "    })();\n",
              "  </script>\n",
              "</div>\n",
              "\n",
              "    </div>\n",
              "  </div>\n"
            ],
            "application/vnd.google.colaboratory.intrinsic+json": {
              "type": "dataframe",
              "variable_name": "corpus_raw"
            }
          },
          "metadata": {},
          "execution_count": 49
        }
      ]
    },
    {
      "cell_type": "markdown",
      "source": [
        "We convert the 'start_time' format to a datetime object."
      ],
      "metadata": {
        "id": "P0EgmK109lm8"
      }
    },
    {
      "cell_type": "code",
      "source": [
        "from datetime import datetime, timedelta\n",
        "\n",
        "for i, date in enumerate(corpus_raw['start_time']):\n",
        "    corpus_raw.loc[i, 'start_time'] = datetime.strptime(date, \"%m/%d/%y %H:%M\")"
      ],
      "metadata": {
        "collapsed": true,
        "id": "3Qb3EgVnKs-4"
      },
      "execution_count": 50,
      "outputs": []
    },
    {
      "cell_type": "markdown",
      "source": [
        "## Creating speaker metadata"
      ],
      "metadata": {
        "id": "w3DPodvWrgrI"
      }
    },
    {
      "cell_type": "markdown",
      "source": [
        "Following this, we create a list of all the unique speaker_ids within the CSV."
      ],
      "metadata": {
        "id": "qDcb6h_h9sjy"
      }
    },
    {
      "cell_type": "code",
      "source": [
        "all_speakers = list(set(corpus_raw['speaker_id'].to_list()))"
      ],
      "metadata": {
        "id": "gcphYTq0Smhk"
      },
      "execution_count": 51,
      "outputs": []
    },
    {
      "cell_type": "code",
      "source": [
        "len(all_speakers)"
      ],
      "metadata": {
        "colab": {
          "base_uri": "https://localhost:8080/"
        },
        "id": "ndn-2LEWVEKL",
        "outputId": "78276fc5-6226-40ca-fb9b-98b80943644d"
      },
      "execution_count": 52,
      "outputs": [
        {
          "output_type": "execute_result",
          "data": {
            "text/plain": [
              "1776"
            ]
          },
          "metadata": {},
          "execution_count": 52
        }
      ]
    },
    {
      "cell_type": "code",
      "source": [
        "corpus_speakers = {}\n",
        "for speaker_id in all_speakers:\n",
        "    # isolate all the rows which have a particular speaker_id\n",
        "    speaker_csv = corpus_raw[corpus_raw['speaker_id'] == speaker_id]\n",
        "    speaker_metadata = {'speaker_name' : speaker_csv['speaker_name'].iloc[0],\n",
        "                        'is_fac' : speaker_csv['is_fac'].iloc[0]}\n",
        "    corpus_speakers.update({speaker_id : Speaker(id = speaker_id, meta = speaker_metadata)})"
      ],
      "metadata": {
        "id": "_9G5Q0TRxgZY"
      },
      "execution_count": 53,
      "outputs": []
    },
    {
      "cell_type": "code",
      "source": [
        "print(\"number of speakers in the data = {}\".format(len(corpus_speakers)))"
      ],
      "metadata": {
        "colab": {
          "base_uri": "https://localhost:8080/"
        },
        "id": "ux8McxSPVTP4",
        "outputId": "e2868370-89c8-468a-c0da-8dda9c12cc90"
      },
      "execution_count": 54,
      "outputs": [
        {
          "output_type": "stream",
          "name": "stdout",
          "text": [
            "number of speakers in the data = 1776\n"
          ]
        }
      ]
    },
    {
      "cell_type": "code",
      "source": [
        "print(corpus_speakers[42122]) # observe Mark"
      ],
      "metadata": {
        "colab": {
          "base_uri": "https://localhost:8080/"
        },
        "id": "D3Dd5jUbFBzW",
        "outputId": "f2695055-c31a-4609-ad03-53c8bb7d443c"
      },
      "execution_count": 55,
      "outputs": [
        {
          "output_type": "stream",
          "name": "stdout",
          "text": [
            "Speaker(id: 42122, vectors: [], meta: {'speaker_name': 'Mark', 'is_fac': False})\n"
          ]
        }
      ]
    },
    {
      "cell_type": "code",
      "source": [
        "corpus_raw = corpus_raw.sort_values(by='original_index')"
      ],
      "metadata": {
        "id": "nBaImr9Qjzs5"
      },
      "execution_count": 56,
      "outputs": []
    },
    {
      "cell_type": "markdown",
      "source": [
        "## Creating a list of utterances"
      ],
      "metadata": {
        "id": "jeYUYitaxV7i"
      }
    },
    {
      "cell_type": "markdown",
      "source": [
        "Our next step is to create a list of utterances from the DataFrame. To do this, we must populate arguments to pass into the Corpus constructor. Please note that the raw .csv provides the 'id' as a string, and when we convert this to a ConvoKit Corpus object, we convert this to a list of ints."
      ],
      "metadata": {
        "id": "w3bZeOPR_j2v"
      }
    },
    {
      "cell_type": "code",
      "source": [
        "import os"
      ],
      "metadata": {
        "id": "xjYUDsPsVVWj"
      },
      "execution_count": 57,
      "outputs": []
    },
    {
      "cell_type": "code",
      "source": [
        "# next goal: get a list of Utterances\n",
        "\n",
        "# Note that the fields of ConvoKit Utterance objects are: Utterance(id=...,\n",
        "# speaker =..., conversation_id =..., reply_to=..., timestamp=..., text =..., meta =...)\n",
        "\n",
        "utt_id_count = 0\n",
        "corpus_utterances = []\n",
        "prev_utt_id = []\n",
        "for index, row in tqdm(corpus_raw.iterrows()):\n",
        "    # create arguments to put into the utterance\n",
        "\n",
        "    # note that `id` must be a str.\n",
        "    current_id = row['id']\n",
        "    # for easy access of ids for reply\n",
        "    prev_utt_id = current_id\n",
        "\n",
        "    # adding metadata\n",
        "    meta = {}\n",
        "    for k, v in row.items():\n",
        "        if k != 'id' and k != 'words':\n",
        "            meta.update({k : v})\n",
        "\n",
        "    current_speaker = row['speaker_id']\n",
        "\n",
        "    # note that `conversation_id` must be a str.\n",
        "    current_conversation_id = row['conversation_id']\n",
        "\n",
        "    # if the previous utterance is part of the same conversation_id, add its id to the utterance\n",
        "    current_reply_to = None if row['SpeakerTurn'] == 1 else prev_utt_id\n",
        "\n",
        "    current_timestamp = row['start_time'] + timedelta(row['audio_start_offset'])\n",
        "    str_timestamp = current_timestamp.isoformat()\n",
        "    current_text = row['words']\n",
        "    current_meta = {}\n",
        "\n",
        "    utterance = Utterance(id = current_id,\n",
        "                          speaker = corpus_speakers[current_speaker],\n",
        "                          conversation_id = str(current_conversation_id),\n",
        "                          reply_to = current_reply_to,\n",
        "                          timestamp = str_timestamp,\n",
        "                          text = str(current_text),\n",
        "                          meta=meta)\n",
        "\n",
        "    corpus_utterances.append(utterance)\n",
        "\n",
        "    # add index\n",
        "    utt_id_count += 1"
      ],
      "metadata": {
        "colab": {
          "base_uri": "https://localhost:8080/"
        },
        "id": "4HEkZPlBW4zu",
        "outputId": "e157e5d3-5550-4597-defe-8769700c3cd7"
      },
      "execution_count": 58,
      "outputs": [
        {
          "output_type": "stream",
          "name": "stderr",
          "text": [
            "39911it [00:04, 9126.11it/s]\n"
          ]
        }
      ]
    },
    {
      "cell_type": "code",
      "source": [
        "corpus_object = Corpus(utterances=corpus_utterances)"
      ],
      "metadata": {
        "id": "yOeELZ3aubVL"
      },
      "execution_count": 59,
      "outputs": []
    },
    {
      "cell_type": "markdown",
      "source": [
        "Once we've created this object, we can now access a variety of information which summarizes the content of the object."
      ],
      "metadata": {
        "id": "OmvmJ5hP_uY8"
      }
    },
    {
      "cell_type": "code",
      "source": [
        "corpus_object.print_summary_stats()"
      ],
      "metadata": {
        "id": "DmCiX5orLatR",
        "outputId": "a4040404-1588-4dbd-805b-1b7dff4b4db2",
        "colab": {
          "base_uri": "https://localhost:8080/"
        }
      },
      "execution_count": 60,
      "outputs": [
        {
          "output_type": "stream",
          "name": "stdout",
          "text": [
            "Number of Speakers: 1776\n",
            "Number of Utterances: 39911\n",
            "Number of Conversations: 262\n"
          ]
        }
      ]
    },
    {
      "cell_type": "code",
      "source": [
        "random_convo = corpus_object.random_conversation()\n",
        "print(random_convo)\n",
        "print(corpus_object.random_utterance().meta)"
      ],
      "metadata": {
        "colab": {
          "base_uri": "https://localhost:8080/"
        },
        "id": "c9SKp-YHzYYA",
        "outputId": "698cf6db-cc48-4d64-c022-e40685a578ad"
      },
      "execution_count": 61,
      "outputs": [
        {
          "output_type": "stream",
          "name": "stdout",
          "text": [
            "Conversation('id': '2733', 'utterances': ['[273300000]', '[273300001]', '[273300002, 273300003]', '[273300004, 273300005, 273300006, 273300007]', '[273300008]', '[273300009]', '[273300010]', '[273300011]', '[273300012]', '[273300013]', '[273300014]', '[273300015]', '[273300016]', '[273300017]', '[273300018]', '[273300019]', '[273300020]', '[273300021]', '[273300022]', '[273300023]', '[273300024]', '[273300025]', '[273300026]', '[273300027]', '[273300028]', '[273300029]', '[273300030]', '[273300031]', '[273300032]', '[273300033]', '[273300034]', '[273300035]', '[273300036]', '[273300037]', '[273300038]', '[273300039]', '[273300040]', '[273300041]', '[273300042]', '[273300043]', '[273300044]', '[273300045]', '[273300046]', '[273300047, 273300048]', '[273300049]', '[273300050]', '[273300051]', '[273300052]', '[273300053]', '[273300054, 273300055, 273300056]', '[273300057]', '[273300058]', '[273300059]', '[273300060]', '[273300061]', '[273300062]', '[273300063, 273300064, 273300065]', '[273300066]', '[273300067]', '[273300068]', '[273300069]', '[273300070]', '[273300071, 273300072, 273300073, 273300074]', '[273300075]', '[273300076]', '[273300077, 273300078]', '[273300079]', '[273300080]', '[273300081]', '[273300082]', '[273300083]', '[273300084]', '[273300085]', '[273300086]', '[273300087]', '[273300088]', '[273300089]', '[273300090]', '[273300091]', '[273300092]', '[273300093]', '[273300094, 273300095]', '[273300096]', '[273300097]', '[273300098]', '[273300099]', '[273300100]', '[273300101]', '[273300102]', '[273300103]', '[273300104]', '[273300105]', '[273300106]', '[273300107]', '[273300108]', '[273300109]', '[273300110]', '[273300111, 273300112, 273300113, 273300114]', '[273300115, 273300116, 273300117, 273300118]', '[273300119, 273300120, 273300121]', '[273300122]', '[273300123]', '[273300124]', '[273300125]', '[273300126]', '[273300127]', '[273300128]', '[273300129]', '[273300130]', '[273300131]', '[273300132, 273300133, 273300134, 273300135]', '[273300136]', '[273300137]', '[273300138]', '[273300139]', '[273300140, 273300141]', '[273300142]', '[273300143, 273300144, 273300145]', '[273300146]', '[273300147, 273300148, 273300149, 273300150]', '[273300151]', '[273300152]', '[273300153]', '[273300154]', '[273300155]', '[273300156]', '[273300157]', '[273300158]', '[273300159]', '[273300160]', '[273300161, 273300162]', '[273300163]', '[273300164]', '[273300165]', '[273300166]', '[273300167]', '[273300168]', '[273300169]', '[273300170]', '[273300171]', '[273300172]', '[273300173]', '[273300174]', '[273300175, 273300176]', '[273300177]', '[273300178]', '[273300179]', '[273300180]', '[273300181]', '[273300182]', '[273300183]', '[273300184]', '[273300185]', '[273300186]', '[273300187]', '[273300188]', '[273300189]', '[273300190]', '[273300191]', '[273300192]', '[273300193]', '[273300194]', '[273300195]', '[273300196]', '[273300197]', '[273300198]', '[273300199]', '[273300200]', '[273300201]', '[273300202]', '[273300203]', '[273300204]', '[273300205]', '[273300206]', '[273300207]', '[273300208]', '[273300209]', '[273300210]', '[273300211]', '[273300212]', '[273300213]', '[273300214, 273300215]', '[273300216]', '[273300217]', '[273300218]', '[273300219]', '[273300220]', '[273300221]', '[273300222]', '[273300223]', '[273300224]', '[273300225, 273300226]', '[273300227]', '[273300228]', '[273300229]', '[273300230]', '[273300231]', '[273300232]', '[273300233]', '[273300234]', '[273300235]', '[273300236]', '[273300237]', '[273300238]', '[273300239]', '[273300240, 273300241]', '[273300242]', '[273300243]', '[273300244]', '[273300245]', '[273300246]', '[273300247]', '[273300248]', '[273300249]', '[273300250]', '[273300251]', '[273300252]', '[273300253]', '[273300254]', '[273300255]', '[273300256]', '[273300257]', '[273300258]', '[273300259]', '[273300260]', '[273300261]', '[273300262]', '[273300263]', '[273300264]', '[273300265]', '[273300266]', '[273300267]', '[273300268]', '[273300269]', '[273300270]', '[273300271]', '[273300272]', '[273300273]', '[273300274]', '[273300275]', '[273300276]'], 'meta': ConvoKitMeta({}))\n",
            "ConvoKitMeta({'original_index': 12196, 'collection_title': 'Cambridge City Manager Selection Project', 'collection_id': 147, 'SpeakerTurn': 132, 'audio_start_offset': 5433.81, 'audio_end_offset': 5434.74, 'duration': 0.93, 'conversation_id': 1743, 'speaker_id': 35298, 'speaker_name': 'Male', 'is_fac': False, 'cofacilitated': False, 'annotated': True, 'start_time': datetime.datetime(2022, 2, 9, 18, 0), 'location': 'Cambridge', 'source_type': 'zoom', 'Personal story': 0, 'Personal experience': 0, 'Express affirmation': 0, 'Specific invitation': 0, 'Provide example': 0, 'Open invitation': 0, 'Make connections': 0, 'Express appreciation': 0, 'Follow up question': 0})\n"
          ]
        }
      ]
    },
    {
      "cell_type": "code",
      "source": [
        "print(\"number of conversations in the dataset = {}\".format(len(corpus_object.get_conversation_ids())))"
      ],
      "metadata": {
        "colab": {
          "base_uri": "https://localhost:8080/"
        },
        "id": "FAdoTHwVwzHX",
        "outputId": "6dcf2ed2-fbb7-47e3-b72c-67ae58263c21"
      },
      "execution_count": 62,
      "outputs": [
        {
          "output_type": "stream",
          "name": "stdout",
          "text": [
            "number of conversations in the dataset = 262\n"
          ]
        }
      ]
    },
    {
      "cell_type": "markdown",
      "source": [
        "# Creating Conversation metadata"
      ],
      "metadata": {
        "id": "PsNasI4heMDf"
      }
    },
    {
      "cell_type": "markdown",
      "source": [
        "The following attributes provided in the Fora dataset feature are conversation-wide. These descriptions are from the column_descriptions:\n",
        "\n",
        "    * collection_id: Numeric identifier of the conversation collection.\n",
        "\n",
        "    * conversation_id: Unique identifier for the conversation.\n",
        "\n",
        "    * cofacilitated: Boolean representing whether the current conversation has more than one facilitator.\n",
        "\n",
        "    * annotated: Boolean representing whether the conversation was annotated by human experts for facilitation strategies and personal sharing.\n",
        "\n",
        "    * start_time: Date of the conversation start time. Likely reliable as the date the conversation happened, but may be approximate due to potential delay in uploading.\n",
        "\n",
        "    * source_type: String providing information about the type of audio input (e.g., Zoom, Hearth, iPhone).\n",
        "\n",
        "    * location: Represents the location of the conversation, typically a town or neighborhood. About 1/3 of conversations do not have a value for this field and are marked \"Unknown.\"\n"
      ],
      "metadata": {
        "id": "rMBFSvyleSAE"
      }
    },
    {
      "cell_type": "code",
      "source": [
        "conversation_metadata_headers = ['collection_id', 'conversation_id', 'cofacilitated', 'annotated', 'start_time', 'source_type', 'location']"
      ],
      "metadata": {
        "id": "4lud-VqTeRZq"
      },
      "execution_count": 63,
      "outputs": []
    },
    {
      "cell_type": "code",
      "source": [
        "for convo in corpus_object.iter_conversations():\n",
        "    convo_id = convo.id\n",
        "    convo_row = corpus_raw[corpus_raw['conversation_id'] == int(convo_id)].iloc[0]\n",
        "    metadata = {}\n",
        "    for field_name in conversation_metadata_headers:\n",
        "        field_value = convo_row[field_name]\n",
        "        metadata.update({field_name : field_value})\n",
        "    convo.meta = metadata"
      ],
      "metadata": {
        "id": "D4OTVWFLfjB1"
      },
      "execution_count": 64,
      "outputs": []
    },
    {
      "cell_type": "code",
      "source": [
        "# sample a random conversation and query its metadata\n",
        "\n",
        "random_convo = corpus_object.random_conversation()\n",
        "print(random_convo.meta)"
      ],
      "metadata": {
        "colab": {
          "base_uri": "https://localhost:8080/"
        },
        "id": "75kSVw-NjGP_",
        "outputId": "8d3e1c93-43b4-475a-db16-2e536a8e94c3"
      },
      "execution_count": 69,
      "outputs": [
        {
          "output_type": "stream",
          "name": "stdout",
          "text": [
            "ConvoKitMeta({'collection_id': 106, 'conversation_id': 831, 'cofacilitated': True, 'annotated': False, 'start_time': datetime.datetime(2020, 11, 2, 23, 5), 'source_type': 'zoom', 'location': 'Downtown'})\n"
          ]
        }
      ]
    },
    {
      "cell_type": "code",
      "source": [
        "SAVE_PATH = '/content/drive/MyDrive/corpus_resources'\n",
        "corpus_object.dump(f\"fora-corpus\", base_path=SAVE_PATH)\n",
        "\n",
        "from convokit import meta_index\n",
        "meta_index(filename = f\"{SAVE_PATH}/fora-corpus\")"
      ],
      "metadata": {
        "colab": {
          "base_uri": "https://localhost:8080/"
        },
        "id": "6wJ2KZC0bXlh",
        "outputId": "085c0a33-2328-4fd1-922f-cc2be0a0e8ff"
      },
      "execution_count": 66,
      "outputs": [
        {
          "output_type": "execute_result",
          "data": {
            "text/plain": [
              "{'utterances-index': {'original_index': [\"<class 'int'>\"],\n",
              "  'collection_title': [\"<class 'str'>\"],\n",
              "  'collection_id': [\"<class 'int'>\"],\n",
              "  'SpeakerTurn': [\"<class 'int'>\"],\n",
              "  'audio_start_offset': [\"<class 'float'>\"],\n",
              "  'audio_end_offset': [\"<class 'float'>\"],\n",
              "  'duration': [\"<class 'float'>\"],\n",
              "  'conversation_id': [\"<class 'int'>\"],\n",
              "  'speaker_id': [\"<class 'int'>\"],\n",
              "  'speaker_name': [\"<class 'str'>\"],\n",
              "  'is_fac': [\"<class 'bool'>\"],\n",
              "  'cofacilitated': [\"<class 'bool'>\"],\n",
              "  'annotated': [\"<class 'bool'>\"],\n",
              "  'start_time': ['bin'],\n",
              "  'location': [\"<class 'str'>\"],\n",
              "  'source_type': [\"<class 'str'>\"],\n",
              "  'Personal story': [\"<class 'int'>\"],\n",
              "  'Personal experience': [\"<class 'int'>\"],\n",
              "  'Express affirmation': [\"<class 'int'>\"],\n",
              "  'Specific invitation': [\"<class 'int'>\"],\n",
              "  'Provide example': [\"<class 'int'>\"],\n",
              "  'Open invitation': [\"<class 'int'>\"],\n",
              "  'Make connections': [\"<class 'int'>\"],\n",
              "  'Express appreciation': [\"<class 'int'>\"],\n",
              "  'Follow up question': [\"<class 'int'>\"]},\n",
              " 'speakers-index': {'speaker_name': [\"<class 'str'>\"], 'is_fac': ['bin']},\n",
              " 'conversations-index': {'collection_id': ['bin'],\n",
              "  'conversation_id': ['bin'],\n",
              "  'cofacilitated': ['bin'],\n",
              "  'annotated': ['bin'],\n",
              "  'start_time': ['bin'],\n",
              "  'source_type': [\"<class 'str'>\"],\n",
              "  'location': [\"<class 'str'>\"]},\n",
              " 'overall-index': {},\n",
              " 'version': 1,\n",
              " 'vectors': []}"
            ]
          },
          "metadata": {},
          "execution_count": 66
        }
      ]
    }
  ]
}