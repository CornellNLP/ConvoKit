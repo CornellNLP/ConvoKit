{
  "cells": [
    {
      "cell_type": "markdown",
      "metadata": {
        "id": "cl0DWumoeTZG"
      },
      "source": [
        "# Apology Transformer\n",
        "\n"
      ]
    },
    {
      "cell_type": "code",
      "execution_count": null,
      "metadata": {
        "id": "vfYRR9obXIwG",
        "colab": {
          "base_uri": "https://localhost:8080/"
        },
        "outputId": "cb12aec4-75d7-48fc-e515-f9de81ef6c47"
      },
      "outputs": [
        {
          "output_type": "stream",
          "name": "stdout",
          "text": [
            "Collecting convokit\n",
            "  Downloading convokit-3.0.0.tar.gz (183 kB)\n",
            "\u001b[?25l     \u001b[90m━━━━━━━━━━━━━━━━━━━━━━━━━━━━━━━━━━━━━━━━\u001b[0m \u001b[32m0.0/183.2 kB\u001b[0m \u001b[31m?\u001b[0m eta \u001b[36m-:--:--\u001b[0m\r\u001b[2K     \u001b[91m━━━━━━━━━━━━━━━━━━━━━━━━━━━━━━━━━━━\u001b[0m\u001b[91m╸\u001b[0m\u001b[90m━━━━\u001b[0m \u001b[32m163.8/183.2 kB\u001b[0m \u001b[31m4.8 MB/s\u001b[0m eta \u001b[36m0:00:01\u001b[0m\r\u001b[2K     \u001b[90m━━━━━━━━━━━━━━━━━━━━━━━━━━━━━━━━━━━━━━━━\u001b[0m \u001b[32m183.2/183.2 kB\u001b[0m \u001b[31m4.1 MB/s\u001b[0m eta \u001b[36m0:00:00\u001b[0m\n",
            "\u001b[?25h  Installing build dependencies ... \u001b[?25l\u001b[?25hdone\n",
            "  Getting requirements to build wheel ... \u001b[?25l\u001b[?25hdone\n",
            "  Preparing metadata (pyproject.toml) ... \u001b[?25l\u001b[?25hdone\n",
            "Requirement already satisfied: matplotlib>=3.0.0 in /usr/local/lib/python3.10/dist-packages (from convokit) (3.7.1)\n",
            "Requirement already satisfied: pandas>=0.23.4 in /usr/local/lib/python3.10/dist-packages (from convokit) (1.5.3)\n",
            "Collecting msgpack-numpy>=0.4.3.2 (from convokit)\n",
            "  Downloading msgpack_numpy-0.4.8-py2.py3-none-any.whl (6.9 kB)\n",
            "Requirement already satisfied: spacy>=2.3.5 in /usr/local/lib/python3.10/dist-packages (from convokit) (3.6.1)\n",
            "Requirement already satisfied: scipy>=1.1.0 in /usr/local/lib/python3.10/dist-packages (from convokit) (1.11.4)\n",
            "Requirement already satisfied: scikit-learn>=0.20.0 in /usr/local/lib/python3.10/dist-packages (from convokit) (1.2.2)\n",
            "Requirement already satisfied: nltk>=3.4 in /usr/local/lib/python3.10/dist-packages (from convokit) (3.8.1)\n",
            "Collecting dill>=0.2.9 (from convokit)\n",
            "  Downloading dill-0.3.7-py3-none-any.whl (115 kB)\n",
            "\u001b[2K     \u001b[90m━━━━━━━━━━━━━━━━━━━━━━━━━━━━━━━━━━━━━━━━\u001b[0m \u001b[32m115.3/115.3 kB\u001b[0m \u001b[31m7.8 MB/s\u001b[0m eta \u001b[36m0:00:00\u001b[0m\n",
            "\u001b[?25hRequirement already satisfied: joblib>=0.13.2 in /usr/local/lib/python3.10/dist-packages (from convokit) (1.3.2)\n",
            "Collecting clean-text>=0.6.0 (from convokit)\n",
            "  Downloading clean_text-0.6.0-py3-none-any.whl (11 kB)\n",
            "Collecting unidecode>=1.1.1 (from convokit)\n",
            "  Downloading Unidecode-1.3.7-py3-none-any.whl (235 kB)\n",
            "\u001b[2K     \u001b[90m━━━━━━━━━━━━━━━━━━━━━━━━━━━━━━━━━━━━━━━━\u001b[0m \u001b[32m235.5/235.5 kB\u001b[0m \u001b[31m5.0 MB/s\u001b[0m eta \u001b[36m0:00:00\u001b[0m\n",
            "\u001b[?25hRequirement already satisfied: tqdm>=4.64.0 in /usr/local/lib/python3.10/dist-packages (from convokit) (4.66.1)\n",
            "Collecting pymongo>=4.0 (from convokit)\n",
            "  Downloading pymongo-4.6.1-cp310-cp310-manylinux_2_17_x86_64.manylinux2014_x86_64.whl (677 kB)\n",
            "\u001b[2K     \u001b[90m━━━━━━━━━━━━━━━━━━━━━━━━━━━━━━━━━━━━━━━━\u001b[0m \u001b[32m677.1/677.1 kB\u001b[0m \u001b[31m12.2 MB/s\u001b[0m eta \u001b[36m0:00:00\u001b[0m\n",
            "\u001b[?25hRequirement already satisfied: pyyaml>=5.4.1 in /usr/local/lib/python3.10/dist-packages (from convokit) (6.0.1)\n",
            "Collecting dnspython>=1.16.0 (from convokit)\n",
            "  Downloading dnspython-2.4.2-py3-none-any.whl (300 kB)\n",
            "\u001b[2K     \u001b[90m━━━━━━━━━━━━━━━━━━━━━━━━━━━━━━━━━━━━━━━━\u001b[0m \u001b[32m300.4/300.4 kB\u001b[0m \u001b[31m13.1 MB/s\u001b[0m eta \u001b[36m0:00:00\u001b[0m\n",
            "\u001b[?25hCollecting emoji<2.0.0,>=1.0.0 (from clean-text>=0.6.0->convokit)\n",
            "  Downloading emoji-1.7.0.tar.gz (175 kB)\n",
            "\u001b[2K     \u001b[90m━━━━━━━━━━━━━━━━━━━━━━━━━━━━━━━━━━━━━━━━\u001b[0m \u001b[32m175.4/175.4 kB\u001b[0m \u001b[31m11.7 MB/s\u001b[0m eta \u001b[36m0:00:00\u001b[0m\n",
            "\u001b[?25h  Preparing metadata (setup.py) ... \u001b[?25l\u001b[?25hdone\n",
            "Collecting ftfy<7.0,>=6.0 (from clean-text>=0.6.0->convokit)\n",
            "  Downloading ftfy-6.1.3-py3-none-any.whl (53 kB)\n",
            "\u001b[2K     \u001b[90m━━━━━━━━━━━━━━━━━━━━━━━━━━━━━━━━━━━━━━━━\u001b[0m \u001b[32m53.4/53.4 kB\u001b[0m \u001b[31m7.1 MB/s\u001b[0m eta \u001b[36m0:00:00\u001b[0m\n",
            "\u001b[?25hRequirement already satisfied: contourpy>=1.0.1 in /usr/local/lib/python3.10/dist-packages (from matplotlib>=3.0.0->convokit) (1.2.0)\n",
            "Requirement already satisfied: cycler>=0.10 in /usr/local/lib/python3.10/dist-packages (from matplotlib>=3.0.0->convokit) (0.12.1)\n",
            "Requirement already satisfied: fonttools>=4.22.0 in /usr/local/lib/python3.10/dist-packages (from matplotlib>=3.0.0->convokit) (4.46.0)\n",
            "Requirement already satisfied: kiwisolver>=1.0.1 in /usr/local/lib/python3.10/dist-packages (from matplotlib>=3.0.0->convokit) (1.4.5)\n",
            "Requirement already satisfied: numpy>=1.20 in /usr/local/lib/python3.10/dist-packages (from matplotlib>=3.0.0->convokit) (1.23.5)\n",
            "Requirement already satisfied: packaging>=20.0 in /usr/local/lib/python3.10/dist-packages (from matplotlib>=3.0.0->convokit) (23.2)\n",
            "Requirement already satisfied: pillow>=6.2.0 in /usr/local/lib/python3.10/dist-packages (from matplotlib>=3.0.0->convokit) (9.4.0)\n",
            "Requirement already satisfied: pyparsing>=2.3.1 in /usr/local/lib/python3.10/dist-packages (from matplotlib>=3.0.0->convokit) (3.1.1)\n",
            "Requirement already satisfied: python-dateutil>=2.7 in /usr/local/lib/python3.10/dist-packages (from matplotlib>=3.0.0->convokit) (2.8.2)\n",
            "Requirement already satisfied: msgpack>=0.5.2 in /usr/local/lib/python3.10/dist-packages (from msgpack-numpy>=0.4.3.2->convokit) (1.0.7)\n",
            "Requirement already satisfied: click in /usr/local/lib/python3.10/dist-packages (from nltk>=3.4->convokit) (8.1.7)\n",
            "Requirement already satisfied: regex>=2021.8.3 in /usr/local/lib/python3.10/dist-packages (from nltk>=3.4->convokit) (2023.6.3)\n",
            "Requirement already satisfied: pytz>=2020.1 in /usr/local/lib/python3.10/dist-packages (from pandas>=0.23.4->convokit) (2023.3.post1)\n",
            "Requirement already satisfied: threadpoolctl>=2.0.0 in /usr/local/lib/python3.10/dist-packages (from scikit-learn>=0.20.0->convokit) (3.2.0)\n",
            "Requirement already satisfied: spacy-legacy<3.1.0,>=3.0.11 in /usr/local/lib/python3.10/dist-packages (from spacy>=2.3.5->convokit) (3.0.12)\n",
            "Requirement already satisfied: spacy-loggers<2.0.0,>=1.0.0 in /usr/local/lib/python3.10/dist-packages (from spacy>=2.3.5->convokit) (1.0.5)\n",
            "Requirement already satisfied: murmurhash<1.1.0,>=0.28.0 in /usr/local/lib/python3.10/dist-packages (from spacy>=2.3.5->convokit) (1.0.10)\n",
            "Requirement already satisfied: cymem<2.1.0,>=2.0.2 in /usr/local/lib/python3.10/dist-packages (from spacy>=2.3.5->convokit) (2.0.8)\n",
            "Requirement already satisfied: preshed<3.1.0,>=3.0.2 in /usr/local/lib/python3.10/dist-packages (from spacy>=2.3.5->convokit) (3.0.9)\n",
            "Requirement already satisfied: thinc<8.2.0,>=8.1.8 in /usr/local/lib/python3.10/dist-packages (from spacy>=2.3.5->convokit) (8.1.12)\n",
            "Requirement already satisfied: wasabi<1.2.0,>=0.9.1 in /usr/local/lib/python3.10/dist-packages (from spacy>=2.3.5->convokit) (1.1.2)\n",
            "Requirement already satisfied: srsly<3.0.0,>=2.4.3 in /usr/local/lib/python3.10/dist-packages (from spacy>=2.3.5->convokit) (2.4.8)\n",
            "Requirement already satisfied: catalogue<2.1.0,>=2.0.6 in /usr/local/lib/python3.10/dist-packages (from spacy>=2.3.5->convokit) (2.0.10)\n",
            "Requirement already satisfied: typer<0.10.0,>=0.3.0 in /usr/local/lib/python3.10/dist-packages (from spacy>=2.3.5->convokit) (0.9.0)\n",
            "Requirement already satisfied: pathy>=0.10.0 in /usr/local/lib/python3.10/dist-packages (from spacy>=2.3.5->convokit) (0.10.3)\n",
            "Requirement already satisfied: smart-open<7.0.0,>=5.2.1 in /usr/local/lib/python3.10/dist-packages (from spacy>=2.3.5->convokit) (6.4.0)\n",
            "Requirement already satisfied: requests<3.0.0,>=2.13.0 in /usr/local/lib/python3.10/dist-packages (from spacy>=2.3.5->convokit) (2.31.0)\n",
            "Requirement already satisfied: pydantic!=1.8,!=1.8.1,<3.0.0,>=1.7.4 in /usr/local/lib/python3.10/dist-packages (from spacy>=2.3.5->convokit) (1.10.13)\n",
            "Requirement already satisfied: jinja2 in /usr/local/lib/python3.10/dist-packages (from spacy>=2.3.5->convokit) (3.1.2)\n",
            "Requirement already satisfied: setuptools in /usr/local/lib/python3.10/dist-packages (from spacy>=2.3.5->convokit) (67.7.2)\n",
            "Requirement already satisfied: langcodes<4.0.0,>=3.2.0 in /usr/local/lib/python3.10/dist-packages (from spacy>=2.3.5->convokit) (3.3.0)\n",
            "Requirement already satisfied: wcwidth<0.3.0,>=0.2.12 in /usr/local/lib/python3.10/dist-packages (from ftfy<7.0,>=6.0->clean-text>=0.6.0->convokit) (0.2.12)\n",
            "Requirement already satisfied: typing-extensions>=4.2.0 in /usr/local/lib/python3.10/dist-packages (from pydantic!=1.8,!=1.8.1,<3.0.0,>=1.7.4->spacy>=2.3.5->convokit) (4.5.0)\n",
            "Requirement already satisfied: six>=1.5 in /usr/local/lib/python3.10/dist-packages (from python-dateutil>=2.7->matplotlib>=3.0.0->convokit) (1.16.0)\n",
            "Requirement already satisfied: charset-normalizer<4,>=2 in /usr/local/lib/python3.10/dist-packages (from requests<3.0.0,>=2.13.0->spacy>=2.3.5->convokit) (3.3.2)\n",
            "Requirement already satisfied: idna<4,>=2.5 in /usr/local/lib/python3.10/dist-packages (from requests<3.0.0,>=2.13.0->spacy>=2.3.5->convokit) (3.6)\n",
            "Requirement already satisfied: urllib3<3,>=1.21.1 in /usr/local/lib/python3.10/dist-packages (from requests<3.0.0,>=2.13.0->spacy>=2.3.5->convokit) (2.0.7)\n",
            "Requirement already satisfied: certifi>=2017.4.17 in /usr/local/lib/python3.10/dist-packages (from requests<3.0.0,>=2.13.0->spacy>=2.3.5->convokit) (2023.11.17)\n",
            "Requirement already satisfied: blis<0.8.0,>=0.7.8 in /usr/local/lib/python3.10/dist-packages (from thinc<8.2.0,>=8.1.8->spacy>=2.3.5->convokit) (0.7.11)\n",
            "Requirement already satisfied: confection<1.0.0,>=0.0.1 in /usr/local/lib/python3.10/dist-packages (from thinc<8.2.0,>=8.1.8->spacy>=2.3.5->convokit) (0.1.4)\n",
            "Requirement already satisfied: MarkupSafe>=2.0 in /usr/local/lib/python3.10/dist-packages (from jinja2->spacy>=2.3.5->convokit) (2.1.3)\n",
            "Building wheels for collected packages: convokit, emoji\n",
            "  Building wheel for convokit (pyproject.toml) ... \u001b[?25l\u001b[?25hdone\n",
            "  Created wheel for convokit: filename=convokit-3.0.0-py3-none-any.whl size=216707 sha256=08e38a1ca1f858fbdcddc1d6aa3e718dd8875a9723118520dc79a07c684967fc\n",
            "  Stored in directory: /root/.cache/pip/wheels/c4/89/8c/2677fdb888588b6f93cb6ac86bdfb020f1f1c33e0d5525b231\n",
            "  Building wheel for emoji (setup.py) ... \u001b[?25l\u001b[?25hdone\n",
            "  Created wheel for emoji: filename=emoji-1.7.0-py3-none-any.whl size=171033 sha256=645554a44a4023935e9e6c056d13747517ffb5baefab9508aa95bf2fc2a63b99\n",
            "  Stored in directory: /root/.cache/pip/wheels/31/8a/8c/315c9e5d7773f74b33d5ed33f075b49c6eaeb7cedbb86e2cf8\n",
            "Successfully built convokit emoji\n",
            "Installing collected packages: emoji, unidecode, msgpack-numpy, ftfy, dnspython, dill, pymongo, clean-text, convokit\n",
            "Successfully installed clean-text-0.6.0 convokit-3.0.0 dill-0.3.7 dnspython-2.4.2 emoji-1.7.0 ftfy-6.1.3 msgpack-numpy-0.4.8 pymongo-4.6.1 unidecode-1.3.7\n"
          ]
        }
      ],
      "source": [
        "!pip install convokit"
      ]
    },
    {
      "cell_type": "code",
      "execution_count": null,
      "metadata": {
        "id": "YCcTEDDlW0UP"
      },
      "outputs": [],
      "source": [
        "import convokit\n",
        "from convokit import Corpus, download\n",
        "from convokit.transformer import Transformer\n",
        "from inspect import signature\n",
        "import string\n",
        "import re\n",
        "import seaborn as sns\n",
        "import pandas as pd\n",
        "import numpy as np\n",
        "import matplotlib.pyplot as plt\n",
        "import random\n",
        "from collections import Counter"
      ]
    },
    {
      "cell_type": "code",
      "execution_count": null,
      "metadata": {
        "colab": {
          "base_uri": "https://localhost:8080/"
        },
        "id": "x6c1cZ1UdMhB",
        "outputId": "9334f15f-44e8-49d7-c2b8-d9b71358f8a7"
      },
      "outputs": [
        {
          "output_type": "stream",
          "name": "stdout",
          "text": [
            "Downloading conversations-gone-awry-cmv-corpus to /root/.convokit/downloads/conversations-gone-awry-cmv-corpus\n",
            "Downloading conversations-gone-awry-cmv-corpus from http://zissou.infosci.cornell.edu/convokit/datasets/conversations-gone-awry-cmv-corpus/full.zip (88.6MB)... Done\n",
            "No configuration file found at /root/.convokit/config.yml; writing with contents: \n",
            "# Default Backend Parameters\n",
            "db_host: localhost:27017\n",
            "data_directory: ~/.convokit/saved-corpora\n",
            "default_backend: mem\n"
          ]
        }
      ],
      "source": [
        "corpus = Corpus(filename=download(\"conversations-gone-awry-cmv-corpus\"))"
      ]
    },
    {
      "cell_type": "code",
      "source": [
        "def remove_quotes(comment):\n",
        "    quoted_pattern = r'&gt;.*?$'\n",
        "    comment = re.sub(quoted_pattern, '', comment, flags=re.MULTILINE)\n",
        "    return comment"
      ],
      "metadata": {
        "id": "ZOYCg_mAWwxH"
      },
      "execution_count": null,
      "outputs": []
    },
    {
      "cell_type": "code",
      "execution_count": null,
      "metadata": {
        "id": "EtrxL_Q3J-oU"
      },
      "outputs": [],
      "source": [
        "apology_list = ['sorry', 'apologize', 'apologies', 'oops', 'whoops', 'woops', 'forgive me', 'forgive my', 'excuse me', 'excuse my', 'my mistake', 'my bad']\n",
        "first_person = ['i', 'me', 'my', 'myself', 'mine']\n",
        "second_person = ['you', 'your', 'u', 'ur', 'yours', 'yourself', 'urself']\n",
        "clarification = ['mean', 'meant', 'clarify','clear','clarification','explain','understand','confused','confusing','what','context','worded','wording','are you','do you','talking about','referring','rephrase','reword','intend','intent','term']\n",
        "contradictory = ['but','however','while','although']\n",
        "disagreement = ['wrong','incorrect','inaccurate','false','mistaken','error','bad','nonsensical','stupid','disagree','dumb','bullshit','bs','insufficient','hypocritical','break it']\n",
        "agreement = ['right','correct','sense','true','accurate','case','work','agree']\n",
        "negatives = ['no','not','don\\'t','dont','doesn\\'t','doesnt', 'isn\\'t', 'isnt']\n",
        "wrongdoing = ['regret','mistake','misunderstand','misunderstood','fault','offend','hurt','misread','misspoke','wrong','incorrect','accident','misconception','truly','genuine','sincere']\n",
        "potential = ['for','if','because','that','about']\n",
        "requests = ['could','would','can']"
      ]
    },
    {
      "cell_type": "code",
      "source": [
        "apology_pattern = r\"\\b(\" + \"|\".join(re.escape(word) for word in apology_list) + r\")\\b\"\n",
        "\n",
        "clarify_pattern = r\"\\b(\" + \"|\".join(re.escape(word) for word in clarification) + r\")\\b\"\n",
        "contradictory_pattern = fr\"{apology_pattern}(.{{0,20}}(?:but|however|while|although))\\b\"\n",
        "disagree_pattern = r\"\\b(\" + \"|\".join(re.escape(word) for word in disagreement) + r\")\\b\"\n",
        "negatives_pattern = r\"\\b(\" + \"|\".join(re.escape(word) for word in negatives) + r\")\\b\"\n",
        "agreement_pattern = r\"\\b(\" + \"|\".join(re.escape(word) for word in agreement) + r\")\\b\"\n",
        "not_agree_pattern = fr\"{negatives_pattern}.{{0,10}}{agreement_pattern}\"\n",
        "potential_pattern = fr\"{apology_pattern}.{{0,3}}\\b(\" + \"|\".join(re.escape(word) for word in potential) + r\")\\b\"\n",
        "first_person_pattern = r\"\\b(\" + \"|\".join(re.escape(word) for word in first_person) + r\")\\b\"\n",
        "second_person_pattern = r\"\\b(\" + \"|\".join(re.escape(word) for word in second_person) + r\")\\b\"\n",
        "wrong_pattern = r\"\\b(\" + \"|\".join(re.escape(word) for word in wrongdoing) + r\")\\b\"\n",
        "wrongdoing_pattern = fr\"{first_person_pattern}.{{0,10}}{wrong_pattern}\"\n",
        "ask_pattern = r\"\\b(\" + \"|\".join(re.escape(word) for word in requests) + r\")\\b\"\n",
        "requests_pattern = fr\"({ask_pattern}.{{0,10}}{second_person_pattern})|please\""
      ],
      "metadata": {
        "id": "poOQxzmv695C"
      },
      "execution_count": null,
      "outputs": []
    },
    {
      "cell_type": "code",
      "execution_count": null,
      "metadata": {
        "id": "imYAH7AWHNHI"
      },
      "outputs": [],
      "source": [
        "class ApologyLabeler(Transformer):\n",
        "    \"\"\"\n",
        "    A transformer to label the diffferent types of apologies in the CMV corpus.\n",
        "    \"\"\"\n",
        "\n",
        "    def __init__(\n",
        "        self,\n",
        "        obj_type='utterance',\n",
        "        output_field='apology_type',\n",
        "        input_field=None,\n",
        "        input_filter=None,\n",
        "        verbosity=10000,\n",
        "    ):\n",
        "        if input_filter:\n",
        "            if len(signature(input_filter).parameters) == 1:\n",
        "                self.input_filter = lambda utt: input_filter(utt)\n",
        "            else:\n",
        "                self.input_filter = input_filter\n",
        "        else:\n",
        "            self.input_filter = lambda utt: True\n",
        "        self.obj_type = obj_type\n",
        "        self.input_field = input_field\n",
        "        self.output_field = output_field\n",
        "        self.verbosity = verbosity\n",
        "\n",
        "    def _print_output(self, i):\n",
        "        return (self.verbosity > 0) and (i > 0) and (i % self.verbosity == 0)\n",
        "\n",
        "    def transform(self, corpus: Corpus) -> Corpus:\n",
        "\n",
        "        if self.obj_type == 'utterance':\n",
        "          total = len(list(corpus.iter_utterances()))\n",
        "\n",
        "          for idx, utterance in enumerate(corpus.iter_utterances()):\n",
        "              if self._print_output(idx):\n",
        "                  print(f\"%03d/%03d {self.obj_type} processed\" % (idx, total))\n",
        "\n",
        "              text = remove_quotes(utterance.text)\n",
        "              text = text.lower()\n",
        "              sentences = re.split(r'(?<=[.!?])\\s+', text)\n",
        "\n",
        "              apology = False\n",
        "              apology_loc = 0\n",
        "              for i, sentence in enumerate(sentences):\n",
        "                apology_match = re.search(apology_pattern, sentence) #start index of match\n",
        "                if apology_match:\n",
        "                  apology_loc = apology_match.span()[0]\n",
        "                  apology_sentence = sentence.strip()\n",
        "                  next_sentence = \" \"\n",
        "                  if (i != len(sentences)-1):\n",
        "                    next_sentence = sentences[i+1].strip()\n",
        "\n",
        "                  apology_segment = apology_sentence + next_sentence\n",
        "                  apology = True\n",
        "\n",
        "              if apology:\n",
        "\n",
        "                  pattern_meta_mapping = [\n",
        "                      (clarify_pattern, 'clarifying_apology'),\n",
        "                      (potential_pattern, 'wrongdoing_apology'),\n",
        "                      (wrongdoing_pattern, 'wrongdoing_apology'),\n",
        "                      (contradictory_pattern, 'disagree_apology'),\n",
        "                      (disagree_pattern, 'disagree_apology'),\n",
        "                      (not_agree_pattern, 'disagree_apology'),\n",
        "                      (requests_pattern, 'request_apology')\n",
        "                  ]\n",
        "\n",
        "                  closest_match = min(\n",
        "                      [(re.search(pattern, apology_segment), meta) for pattern, meta in pattern_meta_mapping if re.search(pattern, apology_segment)],\n",
        "                      key=lambda x: abs(x[0].start() - apology_loc),\n",
        "                      default=None\n",
        "                  )\n",
        "\n",
        "                  if closest_match:\n",
        "                      _, meta = closest_match\n",
        "                      utterance.add_meta(self.output_field, meta)\n",
        "                  else:\n",
        "                      utterance.add_meta(self.output_field, 'other_apology')\n",
        "\n",
        "              else:\n",
        "                utterance.add_meta(self.output_field, 'no_apology')\n"
      ]
    },
    {
      "cell_type": "code",
      "execution_count": null,
      "metadata": {
        "id": "C-Icg-V6LWdd",
        "colab": {
          "base_uri": "https://localhost:8080/"
        },
        "outputId": "809cd5f2-2992-49a7-8a48-32a1202c0dfd"
      },
      "outputs": [
        {
          "output_type": "stream",
          "name": "stdout",
          "text": [
            "10000/42964 utterance processed\n",
            "20000/42964 utterance processed\n",
            "30000/42964 utterance processed\n",
            "40000/42964 utterance processed\n"
          ]
        }
      ],
      "source": [
        "apologizer = ApologyLabeler()\n",
        "apologizer.transform(corpus)"
      ]
    },
    {
      "cell_type": "markdown",
      "source": [
        "Sorting Apologies by Types and storing IDs in lists"
      ],
      "metadata": {
        "id": "HrN-iDTQ-QCn"
      }
    },
    {
      "cell_type": "code",
      "execution_count": null,
      "metadata": {
        "id": "7nhZHy4uPt9U"
      },
      "outputs": [],
      "source": [
        "apology_ids = []\n",
        "\n",
        "clarifying_ids = []\n",
        "disagree_ids = []\n",
        "wrongdoing_ids = []\n",
        "request_ids = []\n",
        "other_ids = []\n",
        "\n",
        "for utt_id in corpus.get_utterance_ids():\n",
        "  if corpus.get_utterance(utt_id).meta['apology_type'] != 'no_apology':\n",
        "\n",
        "    apology_ids.append(utt_id)\n",
        "\n",
        "    if corpus.get_utterance(utt_id).meta['apology_type'] == 'clarifying_apology':\n",
        "      clarifying_ids.append(utt_id)\n",
        "\n",
        "    if corpus.get_utterance(utt_id).meta['apology_type'] == 'disagree_apology':\n",
        "      disagree_ids.append(utt_id)\n",
        "\n",
        "    if corpus.get_utterance(utt_id).meta['apology_type'] == 'wrongdoing_apology':\n",
        "      wrongdoing_ids.append(utt_id)\n",
        "\n",
        "    if corpus.get_utterance(utt_id).meta['apology_type'] == 'request_apology':\n",
        "      request_ids.append(utt_id)\n",
        "\n",
        "    if corpus.get_utterance(utt_id).meta['apology_type'] == 'other_apology':\n",
        "      other_ids.append(utt_id)"
      ]
    },
    {
      "cell_type": "markdown",
      "source": [
        "Total Number of identified apologies"
      ],
      "metadata": {
        "id": "98rXQruz-WzQ"
      }
    },
    {
      "cell_type": "code",
      "execution_count": null,
      "metadata": {
        "id": "FLS1P54fSEym",
        "colab": {
          "base_uri": "https://localhost:8080/"
        },
        "outputId": "0ac7961d-c69f-40b4-c5a5-35281bc2a227"
      },
      "outputs": [
        {
          "output_type": "execute_result",
          "data": {
            "text/plain": [
              "822"
            ]
          },
          "metadata": {},
          "execution_count": 12
        }
      ],
      "source": [
        "len(apology_ids)"
      ]
    },
    {
      "cell_type": "markdown",
      "source": [
        "Number of apologies by type"
      ],
      "metadata": {
        "id": "6Vyg-Cwy-cEs"
      }
    },
    {
      "cell_type": "code",
      "execution_count": null,
      "metadata": {
        "id": "S57GyG0oGjUC",
        "colab": {
          "base_uri": "https://localhost:8080/"
        },
        "outputId": "c1cb5416-fc0b-4129-97c5-0ffeef002e31"
      },
      "outputs": [
        {
          "output_type": "stream",
          "name": "stdout",
          "text": [
            "{'clarifying': 102, 'disagree': 213, 'wrongdoing': 259, 'request': 26, 'other': 222}\n"
          ]
        }
      ],
      "source": [
        "apology_dict = {'clarifying': len(clarifying_ids), 'disagree': len(disagree_ids), 'wrongdoing': len(wrongdoing_ids), 'request': len(request_ids), 'other': len(other_ids)}\n",
        "print(apology_dict)"
      ]
    },
    {
      "cell_type": "code",
      "execution_count": null,
      "metadata": {
        "id": "xMShVwSwG3y2",
        "colab": {
          "base_uri": "https://localhost:8080/",
          "height": 449
        },
        "outputId": "fd599c84-b39c-4195-e784-a0b46bc63023"
      },
      "outputs": [
        {
          "output_type": "display_data",
          "data": {
            "text/plain": [
              "<Figure size 640x480 with 1 Axes>"
            ],
            "image/png": "[encoded data removed]"
          },
          "metadata": {}
        }
      ],
      "source": [
        "df = pd.DataFrame(list(apology_dict.items()), columns=['Apology Type', 'Count'])\n",
        "\n",
        "sns.barplot(x='Apology Type', y='Count', data=df)\n",
        "plt.show()"
      ]
    },
    {
      "cell_type": "markdown",
      "source": [
        "Printing out some examples"
      ],
      "metadata": {
        "id": "M_ULJaiP_ZW9"
      }
    },
    {
      "cell_type": "code",
      "source": [
        "# clarifying apology\n",
        "corpus.get_utterance(clarifying_ids[0]).text\n",
        "\n",
        "# Sorry, I meant..."
      ],
      "metadata": {
        "id": "ksEVIMfokOiI",
        "colab": {
          "base_uri": "https://localhost:8080/",
          "height": 87
        },
        "outputId": "3cc3ae5f-d404-4da5-a82c-09deaeead90b"
      },
      "execution_count": null,
      "outputs": [
        {
          "output_type": "execute_result",
          "data": {
            "text/plain": [
              "'Sorry, I meant \"life-long\" monogamy in the case of a single partner, not switching them every couple of months.\\n\\n&gt;Personally I think humans are just plain diverse when it comes to relationships.\\n\\nAre we though? I don\\'t want to be pretentious, but aren\\'t we all biologically wired the same? Values/traditions have an impact of course, but in the developed western nations those are usually disregarded when you see a nice piece of aaaaaaaaaaaaaasssshhh and have a shot of alcohol near you.\\n\\n&gt;An answer to what? What, exactly, is the problem here?\\n\\nThe problem is that we live in societies that tell us that we have to get married, that people want to get married and that marriage is happiness, when everything points to the contrary.'"
            ],
            "application/vnd.google.colaboratory.intrinsic+json": {
              "type": "string"
            }
          },
          "metadata": {},
          "execution_count": 16
        }
      ]
    },
    {
      "cell_type": "code",
      "source": [
        "# disagree apology\n",
        "corpus.get_utterance(disagree_ids[56]).text\n",
        "\n",
        "# I'm sorry but ..."
      ],
      "metadata": {
        "colab": {
          "base_uri": "https://localhost:8080/",
          "height": 87
        },
        "id": "tI7DqGKV_pPj",
        "outputId": "ed892b87-304f-4f40-d15d-4e9fdfe65ca2"
      },
      "execution_count": null,
      "outputs": [
        {
          "output_type": "execute_result",
          "data": {
            "text/plain": [
              "\"&gt;Deleting comments that go against the grain of latestagecapitalism, and banning those that challenge the moderators. It's hard to see how this isn't 'classic' communism, as in best traditions of most communist/socialist regimes that have risen in the past with repression against political dissidents.\\n\\nIf this is your definition of communism, then I guess you will have to throw /the_Donald into the commie bucket as well. They have long deleted comments, banned users, and supported bots the reproduce without comment (propaganda?). I'm sorry but moderating a sub to a include what you want it to include, isn't communism so much as just an echo chamber. Lots of people like echo chambers and it does nothing to push a communist agenda.\""
            ],
            "application/vnd.google.colaboratory.intrinsic+json": {
              "type": "string"
            }
          },
          "metadata": {},
          "execution_count": 17
        }
      ]
    },
    {
      "cell_type": "code",
      "source": [
        "# wrongdoing apology\n",
        "corpus.get_utterance(wrongdoing_ids[23]).text\n",
        "\n",
        "# I truly apologize and don't mean to ..."
      ],
      "metadata": {
        "colab": {
          "base_uri": "https://localhost:8080/",
          "height": 105
        },
        "id": "p6zcnT69ACKP",
        "outputId": "ae1e342d-20c4-45e3-83b1-aaa1a1ce32f9"
      },
      "execution_count": null,
      "outputs": [
        {
          "output_type": "execute_result",
          "data": {
            "text/plain": [
              "\"I truly apologize and don't mean to hurt your feelings. What I said was in the matter of discussion and debate and within the context I understand that it can be hurtful. I'm sorry that it came off in that manner and I hope you're feelings aren't too hurt. I'm speaking of things on a macro level and happened to use autism as an example and I understand how speaking in such generalities loses the personal touch of humanity. I would just like to say that if an argument like this came up in real life I would refrain from saying such things as everything has a time and place and context. This sub was just meant for what I suppose controversial opinions and I thought this would be a good platform to voice it. I knew what I stated would offend/hurt some people and I truly am sorry and I know you probably don't believe me but that's the best way I can explain it.\""
            ],
            "application/vnd.google.colaboratory.intrinsic+json": {
              "type": "string"
            }
          },
          "metadata": {},
          "execution_count": 18
        }
      ]
    },
    {
      "cell_type": "code",
      "source": [
        "# request apology\n",
        "corpus.get_utterance(request_ids[17]).text\n",
        "\n",
        "# I'm sorry you...can you explain..."
      ],
      "metadata": {
        "colab": {
          "base_uri": "https://localhost:8080/",
          "height": 35
        },
        "id": "Rk6aEENvAQrh",
        "outputId": "752ce351-056b-4045-b634-ea5852dda88e"
      },
      "execution_count": null,
      "outputs": [
        {
          "output_type": "execute_result",
          "data": {
            "text/plain": [
              "\"I'm sorry you feel that way, can you explain how you perceive it as racist? \""
            ],
            "application/vnd.google.colaboratory.intrinsic+json": {
              "type": "string"
            }
          },
          "metadata": {},
          "execution_count": 25
        }
      ]
    },
    {
      "cell_type": "code",
      "source": [],
      "metadata": {
        "id": "4mF0WknUAlzL"
      },
      "execution_count": null,
      "outputs": []
    }
  ],
  "metadata": {
    "colab": {
      "provenance": []
    },
    "kernelspec": {
      "display_name": "Python 3",
      "name": "python3"
    },
    "language_info": {
      "name": "python"
    }
  },
  "nbformat": 4,
  "nbformat_minor": 0
}