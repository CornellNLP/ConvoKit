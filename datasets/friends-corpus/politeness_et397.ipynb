{
  "nbformat": 4,
  "nbformat_minor": 0,
  "metadata": {
    "colab": {
      "name": "politeness-et397.ipynb",
      "version": "0.3.2",
      "provenance": [],
      "collapsed_sections": []
    },
    "kernelspec": {
      "name": "python3",
      "display_name": "Python 3"
    }
  },
  "cells": [
    {
      "cell_type": "markdown",
      "metadata": {
        "id": "p_YNRDvb3etb",
        "colab_type": "text"
      },
      "source": [
        "# Converting the Friends dataset into ConvoKit format\n",
        "\n",
        "This notebook describes how we converted the Friends dataset (https://github.com/emorynlp/character-mining) into a Corpus with ConvoKit."
      ]
    },
    {
      "cell_type": "code",
      "metadata": {
        "id": "Wp3WIlBN4D7l",
        "colab_type": "code",
        "outputId": "7670bb20-6673-4132-ae48-40274dcb0670",
        "colab": {
          "base_uri": "https://localhost:8080/",
          "height": 1000
        }
      },
      "source": [
        "!pip3 install convokit\n",
        "# !python3 -m spacy download en"
      ],
      "execution_count": 1,
      "outputs": [
        {
          "output_type": "stream",
          "text": [
            "Collecting convokit\n",
            "\u001b[?25l  Downloading https://files.pythonhosted.org/packages/81/f3/d04f33525a2dbf316c31bfab383d1ee84280714b474718e272882e8b2d6a/convokit-2.0.11.tar.gz (77kB)\n",
            "\r\u001b[K     |████▎                           | 10kB 14.0MB/s eta 0:00:01\r\u001b[K     |████████▌                       | 20kB 1.7MB/s eta 0:00:01\r\u001b[K     |████████████▊                   | 30kB 2.5MB/s eta 0:00:01\r\u001b[K     |█████████████████               | 40kB 1.7MB/s eta 0:00:01\r\u001b[K     |█████████████████████▏          | 51kB 2.1MB/s eta 0:00:01\r\u001b[K     |█████████████████████████▍      | 61kB 2.5MB/s eta 0:00:01\r\u001b[K     |█████████████████████████████▋  | 71kB 2.9MB/s eta 0:00:01\r\u001b[K     |████████████████████████████████| 81kB 3.1MB/s \n",
            "\u001b[?25hRequirement already satisfied: matplotlib>=3.0.0 in /usr/local/lib/python3.6/dist-packages (from convokit) (3.0.3)\n",
            "Requirement already satisfied: pandas>=0.23.4 in /usr/local/lib/python3.6/dist-packages (from convokit) (0.24.2)\n",
            "Collecting msgpack-numpy==0.4.3.2 (from convokit)\n",
            "  Downloading https://files.pythonhosted.org/packages/ad/45/464be6da85b5ca893cfcbd5de3b31a6710f636ccb8521b17bd4110a08d94/msgpack_numpy-0.4.3.2-py2.py3-none-any.whl\n",
            "Collecting spacy==2.0.12 (from convokit)\n",
            "\u001b[?25l  Downloading https://files.pythonhosted.org/packages/24/de/ac14cd453c98656d6738a5669f96a4ac7f668493d5e6b78227ac933c5fd4/spacy-2.0.12.tar.gz (22.0MB)\n",
            "\u001b[K     |████████████████████████████████| 22.0MB 8.1MB/s \n",
            "\u001b[?25hRequirement already satisfied: scipy>=1.1.0 in /usr/local/lib/python3.6/dist-packages (from convokit) (1.3.1)\n",
            "Requirement already satisfied: scikit-learn>=0.20.0 in /usr/local/lib/python3.6/dist-packages (from convokit) (0.21.3)\n",
            "Collecting nltk>=3.4 (from convokit)\n",
            "\u001b[?25l  Downloading https://files.pythonhosted.org/packages/f6/1d/d925cfb4f324ede997f6d47bea4d9babba51b49e87a767c170b77005889d/nltk-3.4.5.zip (1.5MB)\n",
            "\u001b[K     |████████████████████████████████| 1.5MB 34.0MB/s \n",
            "\u001b[?25hCollecting dill==0.2.9 (from convokit)\n",
            "\u001b[?25l  Downloading https://files.pythonhosted.org/packages/fe/42/bfe2e0857bc284cbe6a011d93f2a9ad58a22cb894461b199ae72cfef0f29/dill-0.2.9.tar.gz (150kB)\n",
            "\u001b[K     |████████████████████████████████| 153kB 52.0MB/s \n",
            "\u001b[?25hRequirement already satisfied: pyparsing!=2.0.4,!=2.1.2,!=2.1.6,>=2.0.1 in /usr/local/lib/python3.6/dist-packages (from matplotlib>=3.0.0->convokit) (2.4.2)\n",
            "Requirement already satisfied: python-dateutil>=2.1 in /usr/local/lib/python3.6/dist-packages (from matplotlib>=3.0.0->convokit) (2.5.3)\n",
            "Requirement already satisfied: numpy>=1.10.0 in /usr/local/lib/python3.6/dist-packages (from matplotlib>=3.0.0->convokit) (1.16.5)\n",
            "Requirement already satisfied: cycler>=0.10 in /usr/local/lib/python3.6/dist-packages (from matplotlib>=3.0.0->convokit) (0.10.0)\n",
            "Requirement already satisfied: kiwisolver>=1.0.1 in /usr/local/lib/python3.6/dist-packages (from matplotlib>=3.0.0->convokit) (1.1.0)\n",
            "Requirement already satisfied: pytz>=2011k in /usr/local/lib/python3.6/dist-packages (from pandas>=0.23.4->convokit) (2018.9)\n",
            "Requirement already satisfied: msgpack>=0.3.0 in /usr/local/lib/python3.6/dist-packages (from msgpack-numpy==0.4.3.2->convokit) (0.5.6)\n",
            "Collecting murmurhash<0.29,>=0.28 (from spacy==2.0.12->convokit)\n",
            "  Downloading https://files.pythonhosted.org/packages/82/55/7f050e9f73c9a58df219c63e77304b0ff01676847061dc99abb484cff3a8/murmurhash-0.28.0-cp36-cp36m-manylinux1_x86_64.whl\n",
            "Collecting cymem<1.32,>=1.30 (from spacy==2.0.12->convokit)\n",
            "  Downloading https://files.pythonhosted.org/packages/a5/0f/d29aa68c55db37844c77e7e96143bd96651fd0f4453c9f6ee043ac846b77/cymem-1.31.2-cp36-cp36m-manylinux1_x86_64.whl\n",
            "Collecting preshed<2.0.0,>=1.0.0 (from spacy==2.0.12->convokit)\n",
            "\u001b[?25l  Downloading https://files.pythonhosted.org/packages/12/88/57a818051f3d71e800bfb7ba4df56d3ea5793482ef11f1d2109b726f3bac/preshed-1.0.1-cp36-cp36m-manylinux1_x86_64.whl (80kB)\n",
            "\u001b[K     |████████████████████████████████| 81kB 22.5MB/s \n",
            "\u001b[?25hCollecting thinc<6.11.0,>=6.10.3 (from spacy==2.0.12->convokit)\n",
            "\u001b[?25l  Downloading https://files.pythonhosted.org/packages/94/b1/47a88072d0a38b3594c0a638a62f9ef7c742b8b8a87f7b105f7ed720b14b/thinc-6.10.3.tar.gz (1.2MB)\n",
            "\u001b[K     |████████████████████████████████| 1.2MB 41.7MB/s \n",
            "\u001b[?25hRequirement already satisfied: plac<1.0.0,>=0.9.6 in /usr/local/lib/python3.6/dist-packages (from spacy==2.0.12->convokit) (0.9.6)\n",
            "Collecting ujson>=1.35 (from spacy==2.0.12->convokit)\n",
            "\u001b[?25l  Downloading https://files.pythonhosted.org/packages/16/c4/79f3409bc710559015464e5f49b9879430d8f87498ecdc335899732e5377/ujson-1.35.tar.gz (192kB)\n",
            "\u001b[K     |████████████████████████████████| 194kB 52.6MB/s \n",
            "\u001b[?25hCollecting regex==2017.4.5 (from spacy==2.0.12->convokit)\n",
            "\u001b[?25l  Downloading https://files.pythonhosted.org/packages/36/62/c0c0d762ffd4ffaf39f372eb8561b8d491a11ace5a7884610424a8b40f95/regex-2017.04.05.tar.gz (601kB)\n",
            "\u001b[K     |████████████████████████████████| 604kB 39.1MB/s \n",
            "\u001b[?25hRequirement already satisfied: requests<3.0.0,>=2.13.0 in /usr/local/lib/python3.6/dist-packages (from spacy==2.0.12->convokit) (2.21.0)\n",
            "Requirement already satisfied: joblib>=0.11 in /usr/local/lib/python3.6/dist-packages (from scikit-learn>=0.20.0->convokit) (0.13.2)\n",
            "Requirement already satisfied: six in /usr/local/lib/python3.6/dist-packages (from nltk>=3.4->convokit) (1.12.0)\n",
            "Requirement already satisfied: setuptools in /usr/local/lib/python3.6/dist-packages (from kiwisolver>=1.0.1->matplotlib>=3.0.0->convokit) (41.2.0)\n",
            "Collecting cytoolz<0.10,>=0.9.0 (from thinc<6.11.0,>=6.10.3->spacy==2.0.12->convokit)\n",
            "\u001b[?25l  Downloading https://files.pythonhosted.org/packages/36/f4/9728ba01ccb2f55df9a5af029b48ba0aaca1081bbd7823ea2ee223ba7a42/cytoolz-0.9.0.1.tar.gz (443kB)\n",
            "\u001b[K     |████████████████████████████████| 450kB 32.6MB/s \n",
            "\u001b[?25hCollecting wrapt<1.11.0,>=1.10.0 (from thinc<6.11.0,>=6.10.3->spacy==2.0.12->convokit)\n",
            "  Downloading https://files.pythonhosted.org/packages/a0/47/66897906448185fcb77fc3c2b1bc20ed0ecca81a0f2f88eda3fc5a34fc3d/wrapt-1.10.11.tar.gz\n",
            "Requirement already satisfied: tqdm<5.0.0,>=4.10.0 in /usr/local/lib/python3.6/dist-packages (from thinc<6.11.0,>=6.10.3->spacy==2.0.12->convokit) (4.28.1)\n",
            "Requirement already satisfied: idna<2.9,>=2.5 in /usr/local/lib/python3.6/dist-packages (from requests<3.0.0,>=2.13.0->spacy==2.0.12->convokit) (2.8)\n",
            "Requirement already satisfied: certifi>=2017.4.17 in /usr/local/lib/python3.6/dist-packages (from requests<3.0.0,>=2.13.0->spacy==2.0.12->convokit) (2019.6.16)\n",
            "Requirement already satisfied: chardet<3.1.0,>=3.0.2 in /usr/local/lib/python3.6/dist-packages (from requests<3.0.0,>=2.13.0->spacy==2.0.12->convokit) (3.0.4)\n",
            "Requirement already satisfied: urllib3<1.25,>=1.21.1 in /usr/local/lib/python3.6/dist-packages (from requests<3.0.0,>=2.13.0->spacy==2.0.12->convokit) (1.24.3)\n",
            "Requirement already satisfied: toolz>=0.8.0 in /usr/local/lib/python3.6/dist-packages (from cytoolz<0.10,>=0.9.0->thinc<6.11.0,>=6.10.3->spacy==2.0.12->convokit) (0.10.0)\n",
            "Building wheels for collected packages: convokit, spacy, nltk, dill, thinc, ujson, regex, cytoolz, wrapt\n",
            "  Building wheel for convokit (setup.py) ... \u001b[?25l\u001b[?25hdone\n",
            "  Created wheel for convokit: filename=convokit-2.0.11-cp36-none-any.whl size=82047 sha256=4814e4f59e1594e7735cc099a8131f786e178311166d13fc732aed2bbbed461c\n",
            "  Stored in directory: /root/.cache/pip/wheels/a2/74/ba/90b7717e5dcfcc83ce63c34cc6e20d60ef850381dba5b3a0c9\n",
            "  Building wheel for spacy (setup.py) ... \u001b[?25l\u001b[?25hdone\n",
            "  Created wheel for spacy: filename=spacy-2.0.12-cp36-cp36m-linux_x86_64.whl size=29062685 sha256=50110839032733a6191a826cc8750aa5f816030adbee69ba832ff41ce93efb0f\n",
            "  Stored in directory: /root/.cache/pip/wheels/60/0b/bb/7c2e28db574dbb2358176934eddd32a1c5f838ba0bc23eaaab\n",
            "  Building wheel for nltk (setup.py) ... \u001b[?25l\u001b[?25hdone\n",
            "  Created wheel for nltk: filename=nltk-3.4.5-cp36-none-any.whl size=1449907 sha256=d7ab5b5076f65628da7d52185c0e9cfd52197746f7e53f5303f633b525c1c4c6\n",
            "  Stored in directory: /root/.cache/pip/wheels/96/86/f6/68ab24c23f207c0077381a5e3904b2815136b879538a24b483\n",
            "  Building wheel for dill (setup.py) ... \u001b[?25l\u001b[?25hdone\n",
            "  Created wheel for dill: filename=dill-0.2.9-cp36-none-any.whl size=77403 sha256=8d7978359fa5275f6552d2995ec3aa42e5dccfd7e5d517fd53581fe57ea8be0f\n",
            "  Stored in directory: /root/.cache/pip/wheels/5b/d7/0f/e58eae695403de585269f4e4a94e0cd6ca60ec0c202936fa4a\n",
            "  Building wheel for thinc (setup.py) ... \u001b[?25l\u001b[?25hdone\n",
            "  Created wheel for thinc: filename=thinc-6.10.3-cp36-cp36m-linux_x86_64.whl size=4120068 sha256=936d0c5ba5b09fb871ac438ec095d18a5797c8e84ab35a91a730b81d6e6ee440\n",
            "  Stored in directory: /root/.cache/pip/wheels/db/bc/e1/9b321b6b203288cf636a56e668ed5700076af4ed66062278ca\n",
            "  Building wheel for ujson (setup.py) ... \u001b[?25l\u001b[?25hdone\n",
            "  Created wheel for ujson: filename=ujson-1.35-cp36-cp36m-linux_x86_64.whl size=68023 sha256=f25bd514ae833b0a1c1b3eba939e19247657c4deb11dc38e972070810eb74bcf\n",
            "  Stored in directory: /root/.cache/pip/wheels/28/77/e4/0311145b9c2e2f01470e744855131f9e34d6919687550f87d1\n",
            "  Building wheel for regex (setup.py) ... \u001b[?25l\u001b[?25hdone\n",
            "  Created wheel for regex: filename=regex-2017.4.5-cp36-cp36m-linux_x86_64.whl size=533168 sha256=529cd7aae5eb919aa12b8c1ea9b86267f3b9fb2669f15b9f58a5542393629a36\n",
            "  Stored in directory: /root/.cache/pip/wheels/75/07/38/3c16b529d50cb4e0cd3dbc7b75cece8a09c132692c74450b01\n",
            "  Building wheel for cytoolz (setup.py) ... \u001b[?25l\u001b[?25hdone\n",
            "  Created wheel for cytoolz: filename=cytoolz-0.9.0.1-cp36-cp36m-linux_x86_64.whl size=1247683 sha256=e4f854153fde1263eeb1d66b71e8f35397bce55dfdac51bb0f4fbbfed33814ad\n",
            "  Stored in directory: /root/.cache/pip/wheels/88/f3/11/9817b001e59ab04889e8cffcbd9087e2e2155b9ebecfc8dd38\n",
            "  Building wheel for wrapt (setup.py) ... \u001b[?25l\u001b[?25hdone\n",
            "  Created wheel for wrapt: filename=wrapt-1.10.11-cp36-cp36m-linux_x86_64.whl size=65124 sha256=aa755fa3544382f2b619d7bfe927fc18da154fdd0ff1e03968d058e0b8471acd\n",
            "  Stored in directory: /root/.cache/pip/wheels/48/5d/04/22361a593e70d23b1f7746d932802efe1f0e523376a74f321e\n",
            "Successfully built convokit spacy nltk dill thinc ujson regex cytoolz wrapt\n",
            "\u001b[31mERROR: tensorflow 1.14.0 has requirement wrapt>=1.11.1, but you'll have wrapt 1.10.11 which is incompatible.\u001b[0m\n",
            "\u001b[31mERROR: multiprocess 0.70.8 has requirement dill>=0.3.0, but you'll have dill 0.2.9 which is incompatible.\u001b[0m\n",
            "\u001b[31mERROR: fastai 1.0.57 has requirement spacy>=2.0.18, but you'll have spacy 2.0.12 which is incompatible.\u001b[0m\n",
            "\u001b[31mERROR: en-core-web-sm 2.1.0 has requirement spacy>=2.1.0, but you'll have spacy 2.0.12 which is incompatible.\u001b[0m\n",
            "Installing collected packages: msgpack-numpy, murmurhash, cymem, preshed, cytoolz, wrapt, dill, thinc, ujson, regex, spacy, nltk, convokit\n",
            "  Found existing installation: murmurhash 1.0.2\n",
            "    Uninstalling murmurhash-1.0.2:\n",
            "      Successfully uninstalled murmurhash-1.0.2\n",
            "  Found existing installation: cymem 2.0.2\n",
            "    Uninstalling cymem-2.0.2:\n",
            "      Successfully uninstalled cymem-2.0.2\n",
            "  Found existing installation: preshed 2.0.1\n",
            "    Uninstalling preshed-2.0.1:\n",
            "      Successfully uninstalled preshed-2.0.1\n",
            "  Found existing installation: wrapt 1.11.2\n",
            "    Uninstalling wrapt-1.11.2:\n",
            "      Successfully uninstalled wrapt-1.11.2\n",
            "  Found existing installation: dill 0.3.0\n",
            "    Uninstalling dill-0.3.0:\n",
            "      Successfully uninstalled dill-0.3.0\n",
            "  Found existing installation: thinc 7.0.8\n",
            "    Uninstalling thinc-7.0.8:\n",
            "      Successfully uninstalled thinc-7.0.8\n",
            "  Found existing installation: spacy 2.1.8\n",
            "    Uninstalling spacy-2.1.8:\n",
            "      Successfully uninstalled spacy-2.1.8\n",
            "  Found existing installation: nltk 3.2.5\n",
            "    Uninstalling nltk-3.2.5:\n",
            "      Successfully uninstalled nltk-3.2.5\n",
            "Successfully installed convokit-2.0.11 cymem-1.31.2 cytoolz-0.9.0.1 dill-0.2.9 msgpack-numpy-0.4.3.2 murmurhash-0.28.0 nltk-3.4.5 preshed-1.0.1 regex-2017.4.5 spacy-2.0.12 thinc-6.10.3 ujson-1.35 wrapt-1.10.11\n"
          ],
          "name": "stdout"
        }
      ]
    },
    {
      "cell_type": "code",
      "metadata": {
        "id": "mXk4Biep3xHH",
        "colab_type": "code",
        "colab": {}
      },
      "source": [
        "import requests\n",
        "import json\n",
        "from tqdm import tqdm\n",
        "from convokit import Corpus, User, Utterance"
      ],
      "execution_count": 0,
      "outputs": []
    },
    {
      "cell_type": "markdown",
      "metadata": {
        "id": "lmw72j5J44E4",
        "colab_type": "text"
      },
      "source": [
        "## The Friends Dataset\n",
        "\n",
        "The original dataset (https://github.com/emorynlp/character-mining) contains a set of 10 JSON files, each of which represents a complete transcript of 1 season of <i>Friends</i>. Since the data are available in JSON format from this GitHub repo, we download the raw data directly using the `requests` module. You will not need to download raw data files to use this script."
      ]
    },
    {
      "cell_type": "markdown",
      "metadata": {
        "id": "YxhlL6aNCvxr",
        "colab_type": "text"
      },
      "source": [
        "## Generating user information\n",
        "Since our dataset doesn't have any existing user information, we extract speaker information from the conversation. For each user, we collect the episode in which he/she first appears and guess his/her gender based on the name using the gender_guesser module.\n",
        "\n",
        "Users are indexed by their name, which is a `<str>`. For each user, we create an object with:\n",
        "\n",
        "- <b>first_appearance:</b> the episode in which he or she first appeared\n",
        "- <b>gender:</b> the character's gender, as defined by the `gender_guesser` module's guess of his/her name"
      ]
    },
    {
      "cell_type": "code",
      "metadata": {
        "id": "sw_7_7YJMIWp",
        "colab_type": "code",
        "outputId": "7e34b419-6431-481f-cd3f-97ad798a4ad5",
        "colab": {
          "base_uri": "https://localhost:8080/",
          "height": 122
        }
      },
      "source": [
        "! pip3 install gender_guesser\n",
        "import gender_guesser.detector as gender\n",
        "d = gender.Detector()"
      ],
      "execution_count": 3,
      "outputs": [
        {
          "output_type": "stream",
          "text": [
            "Collecting gender_guesser\n",
            "\u001b[?25l  Downloading https://files.pythonhosted.org/packages/13/fb/3f2aac40cd2421e164cab1668e0ca10685fcf896bd6b3671088f8aab356e/gender_guesser-0.4.0-py2.py3-none-any.whl (379kB)\n",
            "\u001b[K     |████████████████████████████████| 389kB 2.8MB/s \n",
            "\u001b[?25hInstalling collected packages: gender-guesser\n",
            "Successfully installed gender-guesser-0.4.0\n"
          ],
          "name": "stdout"
        }
      ]
    },
    {
      "cell_type": "code",
      "metadata": {
        "id": "mjNZT57Qv7Vd",
        "colab_type": "code",
        "outputId": "7edbaaf2-79b2-4ee3-8395-b7654ad80d9f",
        "colab": {
          "base_uri": "https://localhost:8080/",
          "height": 34
        }
      },
      "source": [
        "users = {}\n",
        "for i in tqdm(range(1,11)):\n",
        "  season_number = '0'+str(i) if i < 10 else '10'\n",
        "  json_file = 'https://raw.githubusercontent.com/emorynlp/character-mining/master/json/friends_season_'+str(season_number)+'.json'\n",
        "  r = requests.get(json_file)\n",
        "  \n",
        "  season = json.loads(r.text)\n",
        "  episodes = season['episodes']\n",
        "  for j in range(len(episodes)):\n",
        "    episode = episodes[j]\n",
        "    scenes = episode['scenes']\n",
        "    for k in range(len(scenes)):\n",
        "      scene = scenes[k]\n",
        "      utterances = scene['utterances']\n",
        "      for l in range(len(utterances)):\n",
        "        utterance = utterances[l]\n",
        "        speaker_list = utterance['speakers']\n",
        "        for speaker in speaker_list:\n",
        "          if speaker not in users:\n",
        "            users[speaker] = {'first_appearance': episode['episode_id'], 'gender': d.get_gender(speaker.split()[0])}"
      ],
      "execution_count": 4,
      "outputs": [
        {
          "output_type": "stream",
          "text": [
            "100%|██████████| 10/10 [00:03<00:00,  2.78it/s]\n"
          ],
          "name": "stderr"
        }
      ]
    },
    {
      "cell_type": "markdown",
      "metadata": {
        "id": "pJqo7WSSCua1",
        "colab_type": "text"
      },
      "source": [
        "Sanity-checking the user data, we should see the correct genders assigned to the 6 friends:"
      ]
    },
    {
      "cell_type": "code",
      "metadata": {
        "id": "YeKBCPZqCMeH",
        "colab_type": "code",
        "outputId": "503a8383-76d7-4821-a3f6-68bacd4178fe",
        "colab": {
          "base_uri": "https://localhost:8080/",
          "height": 136
        }
      },
      "source": [
        "print(\"number of users in the data = {}/700\".format(len(users)))\n",
        "print(\"Monica Geller object: \", users[\"Monica Geller\"])\n",
        "print(\"Joey Tribbiani object: \", users[\"Joey Tribbiani\"])\n",
        "print(\"Chandler Bing object: \", users[\"Chandler Bing\"])\n",
        "print(\"Phoebe Buffay object: \", users[\"Phoebe Buffay\"])\n",
        "print(\"Ross Geller object: \", users[\"Ross Geller\"])\n",
        "print(\"Rachel Green object: \", users[\"Rachel Green\"])"
      ],
      "execution_count": 5,
      "outputs": [
        {
          "output_type": "stream",
          "text": [
            "number of users in the data = 700/700\n",
            "Monica Geller object:  {'first_appearance': 's01_e01', 'gender': 'female'}\n",
            "Joey Tribbiani object:  {'first_appearance': 's01_e01', 'gender': 'male'}\n",
            "Chandler Bing object:  {'first_appearance': 's01_e01', 'gender': 'mostly_male'}\n",
            "Phoebe Buffay object:  {'first_appearance': 's01_e01', 'gender': 'female'}\n",
            "Ross Geller object:  {'first_appearance': 's01_e01', 'gender': 'male'}\n",
            "Rachel Green object:  {'first_appearance': 's01_e01', 'gender': 'female'}\n"
          ],
          "name": "stdout"
        }
      ]
    },
    {
      "cell_type": "markdown",
      "metadata": {
        "id": "_Csa06wuFh8U",
        "colab_type": "text"
      },
      "source": [
        "We then create a User object for each unique character in the dataset."
      ]
    },
    {
      "cell_type": "code",
      "metadata": {
        "id": "xs7QjJJJFg2S",
        "colab_type": "code",
        "colab": {}
      },
      "source": [
        "corpus_users = {k: User(name=k, meta=v) for k,v in users.items()}"
      ],
      "execution_count": 0,
      "outputs": []
    },
    {
      "cell_type": "code",
      "metadata": {
        "id": "cfMxU1u_GJD7",
        "colab_type": "code",
        "outputId": "61229e93-2054-489d-af19-79a32c62769e",
        "colab": {
          "base_uri": "https://localhost:8080/",
          "height": 51
        }
      },
      "source": [
        "print(corpus_users['Monica Geller'].name)\n",
        "print(corpus_users['Monica Geller'].meta)"
      ],
      "execution_count": 7,
      "outputs": [
        {
          "output_type": "stream",
          "text": [
            "Monica Geller\n",
            "{'first_appearance': 's01_e01', 'gender': 'female'}\n"
          ],
          "name": "stdout"
        }
      ]
    },
    {
      "cell_type": "markdown",
      "metadata": {
        "id": "6tJ_9BMXFygP",
        "colab_type": "text"
      },
      "source": [
        "## Generating Utterances\n",
        "\n",
        "We then loop through the data to generate a list of all utterances in the series. To align with the Utterance schema ConvoKit expects, we construct for each utterance:\n",
        "\n",
        "- **id:** index of the utterance\n",
        "\n",
        "- **user:** the user who authored the utterance; the speaker in our case\n",
        "\n",
        "- **root:** id of the conversation root of the utterance; the first utterance in the scene, in our case\n",
        "\n",
        "- **reply_to:** id of the utterance to which this utterance replies to; None if the utterance is not a reply.\n",
        "\n",
        "- **timestamp:** time of the utterance (None for us -- the dataset does not contain this information)\n",
        "\n",
        "- **text:** textual content of the utterance\n",
        "\n",
        "We also pull in the following metadata including:\n",
        "- **tokens** a tokenized representation of the text (handy for sentence separation)\n",
        "-**character_entities** available for some but not all utterances; `None` if unavailable. These are intended to identify who the user is speaking to and/or about.\n",
        "-**emotion** emotion labels for each token. Available for some but not all utterances; `None` if unavailable. \n",
        "-**caption**  available for some but not all utterances; `None` if unavailable. This contains the begin time, end time, and text sans punctuation. Only available for seasons 6-9.\n",
        "-**transcript_with_note**  a version of the text with an action note (e.g. \"(to Ross) Hand me the coffee\" vs. \"Hand me the coffee\"). Available for some but not all utterances; `None` if unavailable.\n",
        "-**token_with_note** a tokenized representation of the above."
      ]
    },
    {
      "cell_type": "code",
      "metadata": {
        "id": "MDgFZjF6GN3O",
        "colab_type": "code",
        "outputId": "633d5cb5-09fa-41af-a98c-fadcebed7849",
        "colab": {
          "base_uri": "https://localhost:8080/",
          "height": 34
        }
      },
      "source": [
        "all_utterances = {}\n",
        "\n",
        "\n",
        "\n",
        "for i in tqdm(range(1,11)):\n",
        "  season_number = '0'+str(i) if i < 10 else '10'\n",
        "  json_file = 'https://raw.githubusercontent.com/emorynlp/character-mining/master/json/friends_season_'+str(season_number)+'.json'\n",
        "  r = requests.get(json_file)\n",
        "  \n",
        "  season = json.loads(r.text)\n",
        "  episodes = season['episodes']\n",
        "  for j in range(len(episodes)):\n",
        "    episode = episodes[j]\n",
        "    scenes = episode['scenes']\n",
        "    for k in range(len(scenes)):\n",
        "      scene = scenes[k]\n",
        "      utterances = scene['utterances']\n",
        "      \n",
        "      root = utterances[0] #set the root as the first utterance in the scene for now\n",
        "      \n",
        "      prev_utt = None\n",
        "\n",
        "      for l in range(len(utterances)):\n",
        "        utterance = utterances[l]\n",
        "        \n",
        "        speaker = utterance['speakers']\n",
        "        \n",
        "        if len(speaker) == 0:\n",
        "          prev_utt = None\n",
        "          continue\n",
        "        \n",
        "        # Add meta       \n",
        "        meta = {\n",
        "            'tokens': utterance.get('tokens'),\n",
        "            'character_entities': utterance.get('character_entities'),\n",
        "            'emotion': utterance.get('emotion'),\n",
        "            'caption': utterance.get('caption'),\n",
        "            'transcript_with_note': utterance.get('transcript_with_note'),\n",
        "            'tokens_with_note': utterance.get('tokens_with_note')\n",
        "        }\n",
        "        \n",
        "        # Create the Utterance, including meta\n",
        "        all_utterances[utterance['utterance_id']] = Utterance(\n",
        "            id=utterance['utterance_id'],\n",
        "            user=corpus_users[speaker[0]],\n",
        "            root=root['utterance_id'],\n",
        "            reply_to=prev_utt,\n",
        "            timestamp=None,\n",
        "            text=utterance['transcript'],\n",
        "            meta=meta\n",
        "        )\n",
        "        \n",
        "        # Get the prev_utt for the next iteration\n",
        "        prev_utt = utterance['utterance_id']\n"
      ],
      "execution_count": 8,
      "outputs": [
        {
          "output_type": "stream",
          "text": [
            "100%|██████████| 10/10 [00:04<00:00,  2.50it/s]\n"
          ],
          "name": "stderr"
        }
      ]
    },
    {
      "cell_type": "code",
      "metadata": {
        "id": "pmVQJYBiI1aY",
        "colab_type": "code",
        "outputId": "927b7d5b-0a45-41c9-abec-597226c096fb",
        "colab": {
          "base_uri": "https://localhost:8080/",
          "height": 34
        }
      },
      "source": [
        "print(\"This corpus has {}/61309 utterances\".format(len(all_utterances)))"
      ],
      "execution_count": 9,
      "outputs": [
        {
          "output_type": "stream",
          "text": [
            "This corpus has 61338/61309 utterances\n"
          ],
          "name": "stdout"
        }
      ]
    },
    {
      "cell_type": "code",
      "metadata": {
        "id": "NkOm5qDdZYRQ",
        "colab_type": "code",
        "outputId": "c282f5d9-1b13-4e07-fa86-bbccf4b3c2a4",
        "colab": {
          "base_uri": "https://localhost:8080/",
          "height": 54
        }
      },
      "source": [
        "all_utterances['s01_e18_c05_u001']"
      ],
      "execution_count": 35,
      "outputs": [
        {
          "output_type": "execute_result",
          "data": {
            "text/plain": [
              "Utterance({'id': 's01_e18_c05_u001', 'user': User([('name', 'Phoebe Buffay')]), 'root': 's01_e18_c05_u001', 'reply_to': None, 'timestamp': None, 'text': 'Ross, could we please, please, please listen to anything else?', 'meta': {'tokens': [['Ross', ',', 'could', 'we', 'please', ',', 'please', ',', 'please', 'listen', 'to', 'anything', 'else', '?']], 'character_entities': [[[0, 1, 'Ross Geller'], [3, 4, 'Ross Geller', 'Phoebe Buffay', 'Rachel Green']]], 'emotion': ['Joyful', ['Joyful', 'Mad', 'Joyful', 'Neutral']], 'caption': None, 'transcript_with_note': None, 'tokens_with_note': None, 'parsed': Ross, could we please, please, please listen to anything else?}})"
            ]
          },
          "metadata": {
            "tags": []
          },
          "execution_count": 35
        }
      ]
    },
    {
      "cell_type": "markdown",
      "metadata": {
        "id": "bjb5fkwmN5Ma",
        "colab_type": "text"
      },
      "source": [
        "## Creating the corpus from a list of utterances\n",
        "\n",
        "We now create the corpus from our dict of utterances. Note, we are are allowing convokit to create conversations IDs automatically after loading the utterances list."
      ]
    },
    {
      "cell_type": "code",
      "metadata": {
        "id": "0C_xjYMfOKVL",
        "colab_type": "code",
        "colab": {}
      },
      "source": [
        "utterance_list = [utt for k, utt in all_utterances.items()]"
      ],
      "execution_count": 0,
      "outputs": []
    },
    {
      "cell_type": "code",
      "metadata": {
        "id": "kVyGuspKOU7E",
        "colab_type": "code",
        "colab": {}
      },
      "source": [
        "friends_corpus = Corpus(utterances=utterance_list, version=1)"
      ],
      "execution_count": 0,
      "outputs": []
    },
    {
      "cell_type": "markdown",
      "metadata": {
        "id": "UW5uEDZIcjWO",
        "colab_type": "text"
      },
      "source": [
        "Sanity checks for the number of conversations in the dataset and the first 5 conversations:"
      ]
    },
    {
      "cell_type": "code",
      "metadata": {
        "id": "oCQcxnu1OZXv",
        "colab_type": "code",
        "outputId": "0dd03b48-8acc-4c9f-c840-ed49692904bb",
        "colab": {
          "base_uri": "https://localhost:8080/",
          "height": 34
        }
      },
      "source": [
        "print(\"number of conversations in the dataset={}\".format(len(friends_corpus.get_conversation_ids())))"
      ],
      "execution_count": 13,
      "outputs": [
        {
          "output_type": "stream",
          "text": [
            "number of conversations in the dataset=3099\n"
          ],
          "name": "stdout"
        }
      ]
    },
    {
      "cell_type": "code",
      "metadata": {
        "id": "Uypy9F-Vx0kM",
        "colab_type": "code",
        "outputId": "53defcbf-30cd-4e1c-ca26-80ec23f0072c",
        "colab": {
          "base_uri": "https://localhost:8080/",
          "height": 207
        }
      },
      "source": [
        "convo_ids = friends_corpus.get_conversation_ids()\n",
        "for i, convo_idx in enumerate(convo_ids[0:5]):\n",
        "    print(\"sample conversation {}:\".format(i))\n",
        "    print(friends_corpus.get_conversation(convo_idx).get_utterance_ids())"
      ],
      "execution_count": 14,
      "outputs": [
        {
          "output_type": "stream",
          "text": [
            "sample conversation 0:\n",
            "['s01_e01_c01_u001', 's01_e01_c01_u002', 's01_e01_c01_u003', 's01_e01_c01_u004', 's01_e01_c01_u006', 's01_e01_c01_u007', 's01_e01_c01_u008', 's01_e01_c01_u010', 's01_e01_c01_u011', 's01_e01_c01_u012', 's01_e01_c01_u013', 's01_e01_c01_u014', 's01_e01_c01_u015', 's01_e01_c01_u016', 's01_e01_c01_u017', 's01_e01_c01_u018', 's01_e01_c01_u019', 's01_e01_c01_u021', 's01_e01_c01_u022', 's01_e01_c01_u023', 's01_e01_c01_u024', 's01_e01_c01_u025', 's01_e01_c01_u026', 's01_e01_c01_u027', 's01_e01_c01_u028', 's01_e01_c01_u029', 's01_e01_c01_u030', 's01_e01_c01_u031', 's01_e01_c01_u032', 's01_e01_c01_u033', 's01_e01_c01_u034', 's01_e01_c01_u035', 's01_e01_c01_u036', 's01_e01_c01_u037', 's01_e01_c01_u038', 's01_e01_c01_u039', 's01_e01_c01_u040', 's01_e01_c01_u041', 's01_e01_c01_u042', 's01_e01_c01_u044', 's01_e01_c01_u045', 's01_e01_c01_u047', 's01_e01_c01_u048', 's01_e01_c01_u049', 's01_e01_c01_u050', 's01_e01_c01_u051', 's01_e01_c01_u052', 's01_e01_c01_u053', 's01_e01_c01_u055', 's01_e01_c01_u056', 's01_e01_c01_u057', 's01_e01_c01_u058']\n",
            "sample conversation 1:\n",
            "['s01_e01_c02_u001', 's01_e01_c02_u002', 's01_e01_c02_u003', 's01_e01_c02_u004', 's01_e01_c02_u006', 's01_e01_c02_u007', 's01_e01_c02_u008', 's01_e01_c02_u009', 's01_e01_c02_u011', 's01_e01_c02_u012', 's01_e01_c02_u013', 's01_e01_c02_u014', 's01_e01_c02_u015', 's01_e01_c02_u017', 's01_e01_c02_u018', 's01_e01_c02_u019', 's01_e01_c02_u020', 's01_e01_c02_u021', 's01_e01_c02_u022', 's01_e01_c02_u023', 's01_e01_c02_u024', 's01_e01_c02_u026', 's01_e01_c02_u027', 's01_e01_c02_u028', 's01_e01_c02_u029', 's01_e01_c02_u030', 's01_e01_c02_u031', 's01_e01_c02_u032', 's01_e01_c02_u033', 's01_e01_c02_u034', 's01_e01_c02_u035', 's01_e01_c02_u036', 's01_e01_c02_u037', 's01_e01_c02_u038', 's01_e01_c02_u039', 's01_e01_c02_u040', 's01_e01_c02_u041', 's01_e01_c02_u043', 's01_e01_c02_u044', 's01_e01_c02_u045', 's01_e01_c02_u046', 's01_e01_c02_u047', 's01_e01_c02_u048', 's01_e01_c02_u049', 's01_e01_c02_u051', 's01_e01_c02_u052', 's01_e01_c02_u053', 's01_e01_c02_u054', 's01_e01_c02_u055', 's01_e01_c02_u056', 's01_e01_c02_u057', 's01_e01_c02_u058', 's01_e01_c02_u059', 's01_e01_c02_u060', 's01_e01_c02_u061', 's01_e01_c02_u062']\n",
            "sample conversation 2:\n",
            "['s01_e01_c03_u001']\n",
            "sample conversation 3:\n",
            "['s01_e01_c04_u001', 's01_e01_c04_u003', 's01_e01_c04_u004', 's01_e01_c04_u005', 's01_e01_c04_u006', 's01_e01_c04_u007', 's01_e01_c04_u008', 's01_e01_c04_u010', 's01_e01_c04_u011', 's01_e01_c04_u012', 's01_e01_c04_u013', 's01_e01_c04_u014', 's01_e01_c04_u015', 's01_e01_c04_u016', 's01_e01_c04_u017', 's01_e01_c04_u018', 's01_e01_c04_u019']\n",
            "sample conversation 4:\n",
            "['s01_e01_c05_u001', 's01_e01_c05_u002', 's01_e01_c05_u003', 's01_e01_c05_u004', 's01_e01_c05_u005', 's01_e01_c05_u006', 's01_e01_c05_u007', 's01_e01_c05_u008', 's01_e01_c05_u009']\n"
          ],
          "name": "stdout"
        }
      ]
    },
    {
      "cell_type": "markdown",
      "metadata": {
        "id": "NAHTbGQxcor3",
        "colab_type": "text"
      },
      "source": [
        "Summary stats for the corpus:"
      ]
    },
    {
      "cell_type": "code",
      "metadata": {
        "id": "G0pyZSmWW9_1",
        "colab_type": "code",
        "outputId": "2a98d8ed-b693-467a-9c62-2a1b50aa28ab",
        "colab": {
          "base_uri": "https://localhost:8080/",
          "height": 68
        }
      },
      "source": [
        "friends_corpus.print_summary_stats()"
      ],
      "execution_count": 15,
      "outputs": [
        {
          "output_type": "stream",
          "text": [
            "Number of Users: 699\n",
            "Number of Utterances: 61338\n",
            "Number of Conversations: 3099\n"
          ],
          "name": "stdout"
        }
      ]
    },
    {
      "cell_type": "markdown",
      "metadata": {
        "id": "aoTiJaTq02RO",
        "colab_type": "text"
      },
      "source": [
        "## Updating Gender for our Main Characters"
      ]
    },
    {
      "cell_type": "code",
      "metadata": {
        "id": "-LkzxnCY0hcH",
        "colab_type": "code",
        "outputId": "f66efa2d-f202-4a02-830c-11e315154e4d",
        "colab": {
          "base_uri": "https://localhost:8080/",
          "height": 34
        }
      },
      "source": [
        "users['Chandler Bing']['gender'] = 'male'\n",
        "users['Carol Willick']['gender'] = 'female'\n",
        "print(users['Chandler Bing'])"
      ],
      "execution_count": 16,
      "outputs": [
        {
          "output_type": "stream",
          "text": [
            "{'first_appearance': 's01_e01', 'gender': 'male'}\n"
          ],
          "name": "stdout"
        }
      ]
    },
    {
      "cell_type": "markdown",
      "metadata": {
        "id": "1Y7iXV9V1QVl",
        "colab_type": "text"
      },
      "source": [
        "# Exploring Dataset\n",
        "## Taking character entities and placing at conversation level\n",
        "For each scene, we extract unique people that are mentioned during converstion from character entities and unique speakers."
      ]
    },
    {
      "cell_type": "code",
      "metadata": {
        "id": "0nD0nJ5Q01mz",
        "colab_type": "code",
        "outputId": "717cbc19-9560-4724-ec22-29b410c17a72",
        "colab": {
          "base_uri": "https://localhost:8080/",
          "height": 255
        }
      },
      "source": [
        "import re\n",
        "import string\n",
        "string.ascii_uppercase\n",
        "\n",
        "all_ce = {}\n",
        "\n",
        "\n",
        "for i in tqdm(range(1,11)):\n",
        "  season_number = '0'+str(i) if i < 10 else '10'\n",
        "  json_file = 'https://raw.githubusercontent.com/emorynlp/character-mining/master/json/friends_season_'+str(season_number)+'.json'\n",
        "  r = requests.get(json_file)\n",
        "  \n",
        "  season = json.loads(r.text)\n",
        "  episodes = season['episodes']\n",
        "  for j in range(len(episodes)):\n",
        "    episode = episodes[j]\n",
        "    scenes = episode['scenes']\n",
        "    for k in range(len(scenes)):\n",
        "      scene = scenes[k]\n",
        "      utterances = scene['utterances']\n",
        "      ces = set()\n",
        "      spkrs = set()\n",
        "      for l in range(len(utterances)):\n",
        "        utterance = utterances[l]\n",
        "        if 'character_entities' in utterance.keys():\n",
        "          character_entities = utterance['character_entities']\n",
        "          speakers = utterance['speakers']\n",
        "          for char in character_entities:\n",
        "            if len(char) != 0:\n",
        "               for li in char:\n",
        "                  if name != speakers[0]:\n",
        "                    if re.findall(\"ai\", str)>0:\n",
        "                      name=None\n",
        "                    else:\n",
        "                      name=li[2]\n",
        "                      ces.add(name)\n",
        "                      ceg=[]\n",
        "                      for n in ces:\n",
        "                        ce_g = d.get_gender(n.split()[0])\n",
        "                        ceg.append(ce_g)\n",
        "          for sp in speakers:\n",
        "            for list in sp:\n",
        "              sname=sp\n",
        "              spkrs.add(sname) \n",
        "              spg=[]\n",
        "              for z in spkrs:\n",
        "                sp_g = d.get_gender(z.split()[0])\n",
        "                spg.append(sp_g)\n",
        "      all_ce[scene['scene_id']] = {'character_entities': ces, 'ce_gender': ceg, 'speakers': spkrs, 'spkr_gender': spg}"
      ],
      "execution_count": 0,
      "outputs": [
        {
          "output_type": "stream",
          "text": [
            "\r  0%|          | 0/10 [00:00<?, ?it/s]\n"
          ],
          "name": "stderr"
        },
        {
          "output_type": "error",
          "ename": "TypeError",
          "evalue": "ignored",
          "traceback": [
            "\u001b[0;31m---------------------------------------------------------------------------\u001b[0m",
            "\u001b[0;31mTypeError\u001b[0m                                 Traceback (most recent call last)",
            "\u001b[0;32m<ipython-input-89-9e9eded1da31>\u001b[0m in \u001b[0;36m<module>\u001b[0;34m()\u001b[0m\n\u001b[1;32m     29\u001b[0m                \u001b[0;32mfor\u001b[0m \u001b[0mli\u001b[0m \u001b[0;32min\u001b[0m \u001b[0mchar\u001b[0m\u001b[0;34m:\u001b[0m\u001b[0;34m\u001b[0m\u001b[0;34m\u001b[0m\u001b[0m\n\u001b[1;32m     30\u001b[0m                   \u001b[0;32mif\u001b[0m \u001b[0mname\u001b[0m \u001b[0;34m!=\u001b[0m \u001b[0mspeakers\u001b[0m\u001b[0;34m[\u001b[0m\u001b[0;36m0\u001b[0m\u001b[0;34m]\u001b[0m\u001b[0;34m:\u001b[0m\u001b[0;34m\u001b[0m\u001b[0;34m\u001b[0m\u001b[0m\n\u001b[0;32m---> 31\u001b[0;31m                     \u001b[0;32mif\u001b[0m \u001b[0;34m'#'\u001b[0m \u001b[0;32min\u001b[0m \u001b[0mname\u001b[0m\u001b[0;34m:\u001b[0m\u001b[0;34m\u001b[0m\u001b[0;34m\u001b[0m\u001b[0m\n\u001b[0m\u001b[1;32m     32\u001b[0m                       \u001b[0mname\u001b[0m\u001b[0;34m=\u001b[0m\u001b[0;32mNone\u001b[0m\u001b[0;34m\u001b[0m\u001b[0;34m\u001b[0m\u001b[0m\n\u001b[1;32m     33\u001b[0m                     \u001b[0;32melse\u001b[0m\u001b[0;34m:\u001b[0m\u001b[0;34m\u001b[0m\u001b[0;34m\u001b[0m\u001b[0m\n",
            "\u001b[0;31mTypeError\u001b[0m: argument of type 'NoneType' is not iterable"
          ]
        }
      ]
    },
    {
      "cell_type": "code",
      "metadata": {
        "id": "N3pwQJT9lSTK",
        "colab_type": "code",
        "outputId": "97806b44-efec-4406-e8bc-9b4de062bc2d",
        "colab": {
          "base_uri": "https://localhost:8080/",
          "height": 54
        }
      },
      "source": [
        "print(all_ce['s01_e01_c01'])"
      ],
      "execution_count": 0,
      "outputs": [
        {
          "output_type": "stream",
          "text": [
            "{'character_entities': {'#GENERAL#', 'Waitress', 'Monica Geller', 'Carol Willick', 'Paul the Wine Guy', 'Joey Tribbiani', 'Chandler Bing', 'Rachel Green', 'Phoebe Buffay', 'Ross Geller'}, 'ce_gender': ['unknown', 'unknown', 'female', 'mostly_female', 'male', 'male', 'mostly_male', 'female', 'female', 'male'], 'speakers': {'Waitress', 'Monica Geller', '#ALL#', 'Joey Tribbiani', 'Chandler Bing', 'Rachel Green', 'Phoebe Buffay', 'Ross Geller'}, 'spkr_gender': ['unknown', 'female', 'unknown', 'male', 'mostly_male', 'female', 'female', 'male']}\n"
          ],
          "name": "stdout"
        }
      ]
    },
    {
      "cell_type": "code",
      "metadata": {
        "id": "Ot7Xvwgg0QiJ",
        "colab_type": "code",
        "colab": {}
      },
      "source": [
        "if char(35) in li:\n",
        "                    name = None\n",
        "                  else:\n",
        "                    name = li[2]"
      ],
      "execution_count": 0,
      "outputs": []
    },
    {
      "cell_type": "markdown",
      "metadata": {
        "id": "FLmWb71FlmRI",
        "colab_type": "text"
      },
      "source": [
        "## Extracting Romantic Words from Conversation\n",
        "For each scene, we'll check what romantic words are used during the conversation."
      ]
    },
    {
      "cell_type": "code",
      "metadata": {
        "id": "ELjcL6cwlluw",
        "colab_type": "code",
        "outputId": "3cb430f5-d1cd-4985-b9af-816936f28cf0",
        "colab": {
          "resources": {
            "http://localhost:8080/nbextensions/google.colab/files.js": {
              "data": "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",
              "ok": true,
              "headers": [
                [
                  "content-type",
                  "application/javascript"
                ]
              ],
              "status": 200,
              "status_text": ""
            }
          },
          "base_uri": "https://localhost:8080/",
          "height": 75
        }
      },
      "source": [
        "from google.colab import files\n",
        "uploaded = files.upload()"
      ],
      "execution_count": 0,
      "outputs": [
        {
          "output_type": "display_data",
          "data": {
            "text/html": [
              "\n",
              "     <input type=\"file\" id=\"files-ea8bb527-5802-49ae-836e-dad627af2be1\" name=\"files[]\" multiple disabled />\n",
              "     <output id=\"result-ea8bb527-5802-49ae-836e-dad627af2be1\">\n",
              "      Upload widget is only available when the cell has been executed in the\n",
              "      current browser session. Please rerun this cell to enable.\n",
              "      </output>\n",
              "      <script src=\"/nbextensions/google.colab/files.js\"></script> "
            ],
            "text/plain": [
              "<IPython.core.display.HTML object>"
            ]
          },
          "metadata": {
            "tags": []
          }
        },
        {
          "output_type": "stream",
          "text": [
            "Saving RomanticWords.txt to RomanticWords.txt\n"
          ],
          "name": "stdout"
        }
      ]
    },
    {
      "cell_type": "code",
      "metadata": {
        "id": "vs68HHklo4Yy",
        "colab_type": "code",
        "colab": {}
      },
      "source": [
        "from nltk.stem import PorterStemmer\n",
        "from nltk.tokenize import sent_tokenize, word_tokenize\n",
        "\n",
        "ps = PorterStemmer()"
      ],
      "execution_count": 0,
      "outputs": []
    },
    {
      "cell_type": "markdown",
      "metadata": {
        "id": "Q3REMxBVqh4D",
        "colab_type": "text"
      },
      "source": [
        "Read from RomanticWords.txt and store in root word. We use only words instead of phrases to reduce the checking time of each utterance."
      ]
    },
    {
      "cell_type": "code",
      "metadata": {
        "id": "_GQl0aC9mtvM",
        "colab_type": "code",
        "colab": {}
      },
      "source": [
        "romantic_words = [ps.stem(line.rstrip('\\n')) for line in open('RomanticWords.txt', 'r')]"
      ],
      "execution_count": 0,
      "outputs": []
    },
    {
      "cell_type": "code",
      "metadata": {
        "id": "2bLf2Z78nEc6",
        "colab_type": "code",
        "outputId": "f4a630df-be08-4176-d881-845e60ea4d5a",
        "colab": {
          "base_uri": "https://localhost:8080/",
          "height": 54
        }
      },
      "source": [
        "print(romantic_words)"
      ],
      "execution_count": 0,
      "outputs": [
        {
          "output_type": "stream",
          "text": [
            "['ador', 'amaz', 'angel', 'babe', 'beau', 'beauti', 'belov', 'better half', 'crazy for y', 'darl', 'dearest', 'enchant', 'friend and lov', 'gorgeou', 'handsom', 'heavenli', 'honey', 'life-chang', 'main squeez', 'my everyth', 'paramour', 'sweetheart', 'sweeti', 'swoon', 'wonder', 'ador', 'admir', 'care', 'cherish', 'choos', 'daydream', 'delight', 'dream', 'need', 'prize', 'treasur', 'valu', 'want', 'worship', 'yearn', 'date ', 'love', 'kiss', 'sex', 'romanc', 'romant', 'hug']\n"
          ],
          "name": "stdout"
        }
      ]
    },
    {
      "cell_type": "code",
      "metadata": {
        "id": "-FxXruSInZtd",
        "colab_type": "code",
        "outputId": "5883dc9e-690b-4a07-fdaf-220be33a755b",
        "colab": {
          "base_uri": "https://localhost:8080/",
          "height": 34
        }
      },
      "source": [
        "extract_romantic = {}\n",
        "\n",
        "for i in tqdm(range(1,11)):\n",
        "  season_number = '0'+str(i) if i < 10 else '10'\n",
        "  json_file = 'https://raw.githubusercontent.com/emorynlp/character-mining/master/json/friends_season_'+str(season_number)+'.json'\n",
        "  r = requests.get(json_file)\n",
        "  \n",
        "  season = json.loads(r.text)\n",
        "  episodes = season['episodes']\n",
        "  for j in range(len(episodes)):\n",
        "    episode = episodes[j]\n",
        "    scenes = episode['scenes']\n",
        "    for k in range(len(scenes)):\n",
        "      scene = scenes[k]\n",
        "      utterances = scene['utterances']\n",
        "      romantic = []\n",
        "      non_romantic = []\n",
        "      for l in range(len(utterances)):\n",
        "        utterance = utterances[l]\n",
        "        if len(utterance['speakers']) == 0 :\n",
        "          continue\n",
        "        tokens = utterance['tokens']\n",
        "        for token in tokens:\n",
        "          for word in token:\n",
        "            if ps.stem(word) in romantic_words:\n",
        "              romantic.append(word)\n",
        "            else:\n",
        "              non_romantic.append(word)\n",
        "      extract_romantic[scene['scene_id']] = {'romantic words': romantic, 'nonromantic words': non_romantic}"
      ],
      "execution_count": 0,
      "outputs": [
        {
          "output_type": "stream",
          "text": [
            "100%|██████████| 10/10 [00:17<00:00,  1.74s/it]\n"
          ],
          "name": "stderr"
        }
      ]
    },
    {
      "cell_type": "code",
      "metadata": {
        "id": "gLyaaDTCarjw",
        "colab_type": "code",
        "outputId": "67671671-dce7-465c-dc7a-cbb0899c547d",
        "colab": {
          "base_uri": "https://localhost:8080/",
          "height": 54
        }
      },
      "source": [
        "extract_romantic.keys()"
      ],
      "execution_count": 0,
      "outputs": [
        {
          "output_type": "execute_result",
          "data": {
            "text/plain": [
              "dict_keys(['s01_e01_c01', 's01_e01_c02', 's01_e01_c03', 's01_e01_c04', 's01_e01_c05', 's01_e01_c06', 's01_e01_c07', 's01_e01_c08', 's01_e01_c09', 's01_e01_c10', 's01_e01_c11', 's01_e01_c12', 's01_e01_c13', 's01_e01_c14', 's01_e01_c15', 's01_e02_c01', 's01_e02_c02', 's01_e02_c03', 's01_e02_c04', 's01_e02_c05', 's01_e02_c06', 's01_e02_c07', 's01_e02_c08', 's01_e02_c09', 's01_e02_c10', 's01_e02_c11', 's01_e03_c01', 's01_e03_c02', 's01_e03_c03', 's01_e03_c04', 's01_e03_c05', 's01_e03_c06', 's01_e03_c07', 's01_e03_c08', 's01_e03_c09', 's01_e03_c10', 's01_e03_c11', 's01_e03_c12', 's01_e03_c13', 's01_e03_c14', 's01_e04_c01', 's01_e04_c02', 's01_e04_c03', 's01_e04_c04', 's01_e04_c05', 's01_e04_c06', 's01_e04_c07', 's01_e04_c08', 's01_e04_c09', 's01_e04_c10', 's01_e04_c11', 's01_e04_c12', 's01_e04_c13', 's01_e04_c14', 's01_e04_c15', 's01_e04_c16', 's01_e05_c01', 's01_e05_c02', 's01_e05_c03', 's01_e05_c04', 's01_e05_c05', 's01_e05_c06', 's01_e05_c07', 's01_e05_c08', 's01_e05_c09', 's01_e05_c10', 's01_e05_c11', 's01_e05_c12', 's01_e05_c13', 's01_e05_c14', 's01_e05_c15', 's01_e05_c16', 's01_e06_c01', 's01_e06_c02', 's01_e06_c03', 's01_e06_c04', 's01_e06_c05', 's01_e06_c06', 's01_e06_c07', 's01_e06_c08', 's01_e06_c09', 's01_e07_c01', 's01_e07_c02', 's01_e07_c03', 's01_e07_c04', 's01_e07_c05', 's01_e07_c06', 's01_e07_c07', 's01_e07_c08', 's01_e07_c09', 's01_e07_c10', 's01_e07_c11', 's01_e07_c12', 's01_e07_c13', 's01_e07_c14', 's01_e07_c15', 's01_e07_c16', 's01_e07_c17', 's01_e07_c18', 's01_e07_c19', 's01_e07_c20', 's01_e07_c21', 's01_e08_c01', 's01_e08_c02', 's01_e08_c03', 's01_e08_c04', 's01_e08_c05', 's01_e08_c06', 's01_e08_c07', 's01_e08_c08', 's01_e08_c09', 's01_e08_c10', 's01_e08_c11', 's01_e08_c12', 's01_e08_c13', 's01_e09_c01', 's01_e09_c02', 's01_e09_c03', 's01_e09_c04', 's01_e09_c05', 's01_e09_c06', 's01_e09_c07', 's01_e09_c08', 's01_e09_c09', 's01_e09_c10', 's01_e09_c11', 's01_e09_c12', 's01_e09_c13', 's01_e10_c01', 's01_e10_c02', 's01_e10_c03', 's01_e10_c04', 's01_e10_c05', 's01_e10_c06', 's01_e10_c07', 's01_e10_c08', 's01_e11_c01', 's01_e11_c02', 's01_e11_c03', 's01_e11_c04', 's01_e11_c05', 's01_e11_c06', 's01_e11_c07', 's01_e11_c08', 's01_e11_c09', 's01_e11_c10', 's01_e11_c11', 's01_e11_c12', 's01_e12_c01', 's01_e12_c02', 's01_e12_c03', 's01_e12_c04', 's01_e12_c05', 's01_e12_c06', 's01_e12_c07', 's01_e12_c08', 's01_e12_c09', 's01_e12_c10', 's01_e12_c11', 's01_e12_c12', 's01_e12_c13', 's01_e12_c14', 's01_e12_c15', 's01_e13_c01', 's01_e13_c02', 's01_e13_c03', 's01_e13_c04', 's01_e13_c05', 's01_e13_c06', 's01_e13_c07', 's01_e13_c08', 's01_e13_c09', 's01_e13_c10', 's01_e13_c11', 's01_e13_c12', 's01_e13_c13', 's01_e14_c01', 's01_e14_c02', 's01_e14_c03', 's01_e14_c04', 's01_e14_c05', 's01_e14_c06', 's01_e14_c07', 's01_e14_c08', 's01_e14_c09', 's01_e14_c10', 's01_e14_c11', 's01_e14_c12', 's01_e14_c13', 's01_e14_c14', 's01_e14_c15', 's01_e14_c16', 's01_e14_c17', 's01_e15_c01', 's01_e15_c02', 's01_e15_c03', 's01_e15_c04', 's01_e15_c05', 's01_e15_c06', 's01_e15_c07', 's01_e15_c08', 's01_e15_c09', 's01_e15_c10', 's01_e15_c11', 's01_e15_c12', 's01_e15_c13', 's01_e15_c14', 's01_e16_c01', 's01_e16_c02', 's01_e16_c03', 's01_e16_c04', 's01_e16_c05', 's01_e16_c06', 's01_e16_c07', 's01_e16_c08', 's01_e16_c09', 's01_e16_c10', 's01_e16_c11', 's01_e16_c12', 's01_e16_c13', 's01_e16_c14', 's01_e16_c15', 's01_e16_c16', 's01_e17_c01', 's01_e17_c02', 's01_e17_c03', 's01_e17_c04', 's01_e17_c05', 's01_e17_c06', 's01_e17_c07', 's01_e17_c08', 's01_e17_c09', 's01_e17_c10', 's01_e17_c11', 's01_e17_c12', 's01_e17_c13', 's01_e17_c14', 's01_e18_c01', 's01_e18_c02', 's01_e18_c03', 's01_e18_c04', 's01_e18_c05', 's01_e18_c06', 's01_e18_c07', 's01_e18_c08', 's01_e19_c01', 's01_e19_c02', 's01_e19_c03', 's01_e19_c04', 's01_e19_c05', 's01_e19_c06', 's01_e19_c07', 's01_e19_c08', 's01_e19_c09', 's01_e20_c01', 's01_e20_c02', 's01_e20_c03', 's01_e20_c04', 's01_e20_c05', 's01_e20_c06', 's01_e20_c07', 's01_e20_c08', 's01_e20_c09', 's01_e20_c10', 's01_e20_c11', 's01_e20_c12', 's01_e21_c01', 's01_e21_c02', 's01_e21_c03', 's01_e21_c04', 's01_e21_c05', 's01_e21_c06', 's01_e21_c07', 's01_e21_c08', 's01_e21_c09', 's01_e21_c10', 's01_e21_c11', 's01_e21_c12', 's01_e21_c13', 's01_e21_c14', 's01_e21_c15', 's01_e22_c01', 's01_e22_c02', 's01_e22_c03', 's01_e22_c04', 's01_e22_c05', 's01_e22_c06', 's01_e22_c07', 's01_e22_c08', 's01_e22_c09', 's01_e22_c10', 's01_e22_c11', 's01_e22_c12', 's01_e22_c13', 's01_e23_c01', 's01_e23_c02', 's01_e23_c03', 's01_e23_c04', 's01_e23_c05', 's01_e23_c06', 's01_e23_c07', 's01_e23_c08', 's01_e23_c09', 's01_e23_c10', 's01_e23_c11', 's01_e23_c12', 's01_e23_c13', 's01_e23_c14', 's01_e23_c15', 's01_e23_c16', 's01_e23_c17', 's01_e23_c18', 's01_e23_c19', 's01_e23_c20', 's01_e23_c21', 's01_e24_c01', 's01_e24_c02', 's01_e24_c03', 's01_e24_c04', 's01_e24_c05', 's01_e24_c06', 's01_e24_c07', 's01_e24_c08', 's01_e24_c09', 's01_e24_c10', 's01_e24_c11', 's02_e01_c01', 's02_e01_c02', 's02_e01_c03', 's02_e01_c04', 's02_e01_c05', 's02_e01_c06', 's02_e01_c07', 's02_e01_c08', 's02_e01_c09', 's02_e01_c10', 's02_e01_c11', 's02_e01_c12', 's02_e02_c01', 's02_e02_c02', 's02_e02_c03', 's02_e02_c04', 's02_e02_c05', 's02_e02_c06', 's02_e02_c07', 's02_e02_c08', 's02_e02_c09', 's02_e02_c10', 's02_e02_c11', 's02_e02_c12', 's02_e02_c13', 's02_e02_c14', 's02_e03_c01', 's02_e03_c02', 's02_e03_c03', 's02_e03_c04', 's02_e03_c05', 's02_e03_c06', 's02_e03_c07', 's02_e03_c08', 's02_e03_c09', 's02_e03_c10', 's02_e03_c11', 's02_e04_c01', 's02_e04_c02', 's02_e04_c03', 's02_e04_c04', 's02_e04_c05', 's02_e04_c06', 's02_e04_c07', 's02_e04_c08', 's02_e04_c09', 's02_e04_c10', 's02_e04_c11', 's02_e04_c12', 's02_e05_c01', 's02_e05_c02', 's02_e05_c03', 's02_e05_c04', 's02_e05_c05', 's02_e05_c06', 's02_e05_c07', 's02_e06_c01', 's02_e06_c02', 's02_e06_c03', 's02_e06_c04', 's02_e06_c05', 's02_e06_c06', 's02_e07_c01', 's02_e07_c02', 's02_e07_c03', 's02_e07_c04', 's02_e07_c05', 's02_e07_c06', 's02_e07_c07', 's02_e07_c08', 's02_e07_c09', 's02_e07_c10', 's02_e07_c11', 's02_e07_c12', 's02_e08_c01', 's02_e08_c02', 's02_e08_c03', 's02_e08_c04', 's02_e08_c05', 's02_e08_c06', 's02_e08_c07', 's02_e08_c08', 's02_e08_c09', 's02_e08_c10', 's02_e08_c11', 's02_e08_c12', 's02_e08_c13', 's02_e09_c01', 's02_e09_c02', 's02_e09_c03', 's02_e09_c04', 's02_e09_c05', 's02_e09_c06', 's02_e09_c07', 's02_e09_c08', 's02_e09_c09', 's02_e09_c10', 's02_e09_c11', 's02_e09_c12', 's02_e10_c01', 's02_e10_c02', 's02_e10_c03', 's02_e10_c04', 's02_e10_c05', 's02_e10_c06', 's02_e10_c07', 's02_e10_c08', 's02_e10_c09', 's02_e11_c01', 's02_e11_c02', 's02_e11_c03', 's02_e11_c04', 's02_e11_c05', 's02_e11_c06', 's02_e11_c07', 's02_e11_c08', 's02_e11_c09', 's02_e11_c10', 's02_e11_c11', 's02_e12_c01', 's02_e12_c02', 's02_e12_c03', 's02_e12_c04', 's02_e12_c05', 's02_e12_c06', 's02_e12_c07', 's02_e12_c08', 's02_e12_c09', 's02_e12_c10', 's02_e12_c11', 's02_e12_c12', 's02_e12_c13', 's02_e12_c14', 's02_e12_c15', 's02_e13_c01', 's02_e13_c02', 's02_e13_c03', 's02_e13_c04', 's02_e13_c05', 's02_e13_c06', 's02_e13_c07', 's02_e13_c08', 's02_e13_c09', 's02_e13_c10', 's02_e13_c11', 's02_e13_c12', 's02_e13_c13', 's02_e14_c01', 's02_e14_c02', 's02_e14_c03', 's02_e14_c04', 's02_e14_c05', 's02_e14_c06', 's02_e14_c07', 's02_e14_c08', 's02_e14_c09', 's02_e14_c10', 's02_e14_c11', 's02_e15_c01', 's02_e15_c02', 's02_e15_c03', 's02_e15_c04', 's02_e15_c05', 's02_e15_c06', 's02_e15_c07', 's02_e15_c08', 's02_e15_c09', 's02_e15_c10', 's02_e15_c11', 's02_e15_c12', 's02_e15_c13', 's02_e15_c14', 's02_e15_c15', 's02_e16_c01', 's02_e16_c02', 's02_e16_c03', 's02_e16_c04', 's02_e16_c05', 's02_e16_c06', 's02_e16_c07', 's02_e16_c08', 's02_e16_c09', 's02_e16_c10', 's02_e16_c11', 's02_e16_c12', 's02_e16_c13', 's02_e16_c14', 's02_e16_c15', 's02_e16_c16', 's02_e17_c01', 's02_e17_c02', 's02_e17_c03', 's02_e17_c04', 's02_e17_c05', 's02_e17_c06', 's02_e17_c07', 's02_e17_c08', 's02_e17_c09', 's02_e17_c10', 's02_e17_c11', 's02_e17_c12', 's02_e17_c13', 's02_e17_c14', 's02_e17_c15', 's02_e18_c01', 's02_e18_c02', 's02_e18_c03', 's02_e18_c04', 's02_e18_c05', 's02_e18_c06', 's02_e18_c07', 's02_e18_c08', 's02_e18_c09', 's02_e18_c10', 's02_e18_c11', 's02_e18_c12', 's02_e18_c13', 's02_e18_c14', 's02_e18_c15', 's02_e19_c01', 's02_e19_c02', 's02_e19_c03', 's02_e19_c04', 's02_e19_c05', 's02_e19_c06', 's02_e19_c07', 's02_e19_c08', 's02_e19_c09', 's02_e19_c10', 's02_e19_c11', 's02_e19_c12', 's02_e19_c13', 's02_e19_c14', 's02_e19_c15', 's02_e20_c01', 's02_e20_c02', 's02_e20_c03', 's02_e20_c04', 's02_e20_c05', 's02_e20_c06', 's02_e20_c07', 's02_e20_c08', 's02_e20_c09', 's02_e20_c10', 's02_e20_c11', 's02_e21_c01', 's02_e21_c02', 's02_e21_c03', 's02_e21_c04', 's02_e21_c05', 's02_e21_c06', 's02_e21_c07', 's02_e21_c08', 's02_e21_c09', 's02_e21_c10', 's02_e21_c11', 's02_e21_c12', 's02_e21_c13', 's02_e22_c01', 's02_e22_c02', 's02_e22_c03', 's02_e22_c04', 's02_e22_c05', 's02_e22_c06', 's02_e22_c07', 's02_e22_c08', 's02_e23_c01', 's02_e23_c02', 's02_e23_c03', 's02_e23_c04', 's02_e23_c05', 's02_e23_c06', 's02_e23_c07', 's02_e23_c08', 's02_e23_c09', 's02_e23_c10', 's02_e23_c11', 's02_e23_c12', 's02_e23_c13', 's02_e23_c14', 's02_e24_c01', 's02_e24_c02', 's02_e24_c03', 's02_e24_c04', 's02_e24_c05', 's02_e24_c06', 's02_e24_c07', 's02_e24_c08', 's02_e24_c09', 's02_e24_c10', 's02_e24_c11', 's02_e24_c12', 's02_e24_c13', 's03_e01_c01', 's03_e01_c02', 's03_e01_c03', 's03_e01_c04', 's03_e01_c05', 's03_e01_c06', 's03_e01_c07', 's03_e01_c08', 's03_e01_c09', 's03_e01_c10', 's03_e01_c11', 's03_e01_c12', 's03_e01_c13', 's03_e01_c14', 's03_e02_c01', 's03_e02_c02', 's03_e02_c03', 's03_e02_c04', 's03_e03_c01', 's03_e03_c02', 's03_e03_c03', 's03_e03_c04', 's03_e03_c05', 's03_e03_c06', 's03_e03_c07', 's03_e03_c08', 's03_e03_c09', 's03_e03_c10', 's03_e03_c11', 's03_e03_c12', 's03_e04_c01', 's03_e04_c02', 's03_e04_c03', 's03_e04_c04', 's03_e04_c05', 's03_e04_c06', 's03_e04_c07', 's03_e04_c08', 's03_e04_c09', 's03_e04_c10', 's03_e04_c11', 's03_e04_c12', 's03_e05_c01', 's03_e05_c02', 's03_e05_c03', 's03_e05_c04', 's03_e05_c05', 's03_e05_c06', 's03_e05_c07', 's03_e05_c08', 's03_e05_c09', 's03_e05_c10', 's03_e05_c11', 's03_e05_c12', 's03_e05_c13', 's03_e05_c14', 's03_e05_c15', 's03_e06_c01', 's03_e06_c02', 's03_e06_c03', 's03_e06_c04', 's03_e06_c05', 's03_e06_c06', 's03_e06_c07', 's03_e06_c08', 's03_e06_c09', 's03_e06_c10', 's03_e06_c11', 's03_e06_c12', 's03_e06_c13', 's03_e06_c14', 's03_e06_c15', 's03_e06_c16', 's03_e07_c01', 's03_e07_c02', 's03_e07_c03', 's03_e07_c04', 's03_e07_c05', 's03_e07_c06', 's03_e07_c07', 's03_e07_c08', 's03_e07_c09', 's03_e07_c10', 's03_e07_c11', 's03_e07_c12', 's03_e07_c13', 's03_e07_c14', 's03_e07_c15', 's03_e07_c16', 's03_e07_c17', 's03_e08_c01', 's03_e08_c02', 's03_e08_c03', 's03_e08_c04', 's03_e08_c05', 's03_e08_c06', 's03_e08_c07', 's03_e08_c08', 's03_e08_c09', 's03_e08_c10', 's03_e08_c11', 's03_e08_c12', 's03_e08_c13', 's03_e09_c01', 's03_e09_c02', 's03_e09_c03', 's03_e09_c04', 's03_e09_c05', 's03_e09_c06', 's03_e10_c01', 's03_e10_c02', 's03_e10_c03', 's03_e10_c04', 's03_e10_c05', 's03_e10_c06', 's03_e10_c07', 's03_e10_c08', 's03_e10_c09', 's03_e10_c10', 's03_e10_c11', 's03_e10_c12', 's03_e10_c13', 's03_e10_c14', 's03_e10_c15', 's03_e11_c01', 's03_e11_c02', 's03_e11_c03', 's03_e11_c04', 's03_e11_c05', 's03_e11_c06', 's03_e11_c07', 's03_e11_c08', 's03_e11_c09', 's03_e11_c10', 's03_e11_c11', 's03_e11_c12', 's03_e11_c13', 's03_e11_c14', 's03_e12_c01', 's03_e12_c02', 's03_e12_c03', 's03_e12_c04', 's03_e12_c05', 's03_e12_c06', 's03_e12_c07', 's03_e12_c08', 's03_e12_c09', 's03_e12_c10', 's03_e12_c11', 's03_e12_c12', 's03_e12_c13', 's03_e12_c14', 's03_e12_c15', 's03_e12_c16', 's03_e13_c01', 's03_e13_c02', 's03_e13_c03', 's03_e13_c04', 's03_e13_c05', 's03_e13_c06', 's03_e13_c07', 's03_e13_c08', 's03_e13_c09', 's03_e13_c10', 's03_e13_c11', 's03_e13_c12', 's03_e13_c13', 's03_e13_c14', 's03_e14_c01', 's03_e14_c02', 's03_e14_c03', 's03_e14_c04', 's03_e14_c05', 's03_e14_c06', 's03_e14_c07', 's03_e14_c08', 's03_e14_c09', 's03_e14_c10', 's03_e14_c11', 's03_e14_c12', 's03_e14_c13', 's03_e14_c14', 's03_e14_c15', 's03_e14_c16', 's03_e14_c17', 's03_e14_c18', 's03_e14_c19', 's03_e15_c01', 's03_e15_c02', 's03_e15_c03', 's03_e15_c04', 's03_e15_c05', 's03_e15_c06', 's03_e15_c07', 's03_e15_c08', 's03_e15_c09', 's03_e15_c10', 's03_e15_c11', 's03_e15_c12', 's03_e15_c13', 's03_e15_c14', 's03_e15_c15', 's03_e15_c16', 's03_e15_c17', 's03_e16_c01', 's03_e16_c02', 's03_e16_c03', 's03_e16_c04', 's03_e16_c05', 's03_e16_c06', 's03_e16_c07', 's03_e16_c08', 's03_e16_c09', 's03_e16_c10', 's03_e16_c11', 's03_e16_c12', 's03_e16_c13', 's03_e16_c14', 's03_e17_c01', 's03_e17_c02', 's03_e17_c03', 's03_e17_c04', 's03_e17_c05', 's03_e17_c06', 's03_e17_c07', 's03_e17_c08', 's03_e17_c09', 's03_e17_c10', 's03_e17_c11', 's03_e18_c01', 's03_e18_c02', 's03_e18_c03', 's03_e18_c04', 's03_e18_c05', 's03_e18_c06', 's03_e18_c07', 's03_e18_c08', 's03_e18_c09', 's03_e18_c10', 's03_e18_c11', 's03_e18_c12', 's03_e18_c13', 's03_e18_c14', 's03_e18_c15', 's03_e18_c16', 's03_e19_c01', 's03_e19_c02', 's03_e19_c03', 's03_e19_c04', 's03_e19_c05', 's03_e19_c06', 's03_e19_c07', 's03_e19_c08', 's03_e19_c09', 's03_e19_c10', 's03_e19_c11', 's03_e19_c12', 's03_e19_c13', 's03_e19_c14', 's03_e19_c15', 's03_e19_c16', 's03_e20_c01', 's03_e20_c02', 's03_e20_c03', 's03_e20_c04', 's03_e20_c05', 's03_e20_c06', 's03_e20_c07', 's03_e20_c08', 's03_e20_c09', 's03_e20_c10', 's03_e20_c11', 's03_e20_c12', 's03_e20_c13', 's03_e20_c14', 's03_e20_c15', 's03_e21_c01', 's03_e21_c02', 's03_e21_c03', 's03_e21_c04', 's03_e21_c05', 's03_e21_c06', 's03_e21_c07', 's03_e21_c08', 's03_e21_c09', 's03_e21_c10', 's03_e21_c11', 's03_e21_c12', 's03_e21_c13', 's03_e21_c14', 's03_e21_c15', 's03_e21_c16', 's03_e22_c01', 's03_e22_c02', 's03_e22_c03', 's03_e22_c04', 's03_e22_c05', 's03_e22_c06', 's03_e22_c07', 's03_e22_c08', 's03_e22_c09', 's03_e22_c10', 's03_e22_c11', 's03_e22_c12', 's03_e22_c13', 's03_e23_c01', 's03_e23_c02', 's03_e23_c03', 's03_e23_c04', 's03_e23_c05', 's03_e23_c06', 's03_e23_c07', 's03_e23_c08', 's03_e23_c09', 's03_e23_c10', 's03_e23_c11', 's03_e23_c12', 's03_e23_c13', 's03_e23_c14', 's03_e23_c15', 's03_e24_c01', 's03_e24_c02', 's03_e24_c03', 's03_e24_c04', 's03_e24_c05', 's03_e24_c06', 's03_e24_c07', 's03_e24_c08', 's03_e24_c09', 's03_e24_c10', 's03_e24_c11', 's03_e24_c12', 's03_e24_c13', 's03_e24_c14', 's03_e24_c15', 's03_e25_c01', 's03_e25_c02', 's03_e25_c03', 's03_e25_c04', 's03_e25_c05', 's03_e25_c06', 's03_e25_c07', 's03_e25_c08', 's03_e25_c09', 's03_e25_c10', 's03_e25_c11', 's03_e25_c12', 's03_e25_c13', 's04_e01_c01', 's04_e01_c02', 's04_e01_c03', 's04_e01_c04', 's04_e01_c05', 's04_e01_c06', 's04_e01_c07', 's04_e01_c08', 's04_e01_c09', 's04_e01_c10', 's04_e01_c11', 's04_e01_c12', 's04_e01_c13', 's04_e01_c14', 's04_e02_c01', 's04_e02_c02', 's04_e02_c03', 's04_e02_c04', 's04_e02_c05', 's04_e02_c06', 's04_e02_c07', 's04_e02_c08', 's04_e02_c09', 's04_e02_c10', 's04_e02_c11', 's04_e02_c12', 's04_e02_c13', 's04_e02_c14', 's04_e02_c15', 's04_e03_c01', 's04_e03_c02', 's04_e03_c03', 's04_e03_c04', 's04_e03_c05', 's04_e03_c06', 's04_e03_c07', 's04_e03_c08', 's04_e03_c09', 's04_e03_c10', 's04_e03_c11', 's04_e03_c12', 's04_e03_c13', 's04_e03_c14', 's04_e03_c15', 's04_e03_c16', 's04_e04_c01', 's04_e04_c02', 's04_e04_c03', 's04_e04_c04', 's04_e04_c05', 's04_e04_c06', 's04_e04_c07', 's04_e04_c08', 's04_e04_c09', 's04_e04_c10', 's04_e04_c11', 's04_e04_c12', 's04_e04_c13', 's04_e04_c14', 's04_e04_c15', 's04_e05_c01', 's04_e05_c02', 's04_e05_c03', 's04_e05_c04', 's04_e05_c05', 's04_e05_c06', 's04_e05_c07', 's04_e05_c08', 's04_e05_c09', 's04_e05_c10', 's04_e05_c11', 's04_e05_c12', 's04_e05_c13', 's04_e05_c14', 's04_e05_c15', 's04_e05_c16', 's04_e06_c01', 's04_e06_c02', 's04_e06_c03', 's04_e06_c04', 's04_e06_c05', 's04_e06_c06', 's04_e06_c07', 's04_e06_c08', 's04_e06_c09', 's04_e06_c10', 's04_e06_c11', 's04_e06_c12', 's04_e06_c13', 's04_e07_c01', 's04_e07_c02', 's04_e07_c03', 's04_e07_c04', 's04_e07_c05', 's04_e07_c06', 's04_e07_c07', 's04_e07_c08', 's04_e07_c09', 's04_e07_c10', 's04_e07_c11', 's04_e08_c01', 's04_e08_c02', 's04_e08_c03', 's04_e08_c04', 's04_e08_c05', 's04_e08_c06', 's04_e08_c07', 's04_e08_c08', 's04_e08_c09', 's04_e09_c01', 's04_e09_c02', 's04_e09_c03', 's04_e09_c04', 's04_e09_c05', 's04_e09_c06', 's04_e09_c07', 's04_e09_c08', 's04_e09_c09', 's04_e09_c10', 's04_e09_c11', 's04_e09_c12', 's04_e09_c13', 's04_e09_c14', 's04_e10_c01', 's04_e10_c02', 's04_e10_c03', 's04_e10_c04', 's04_e10_c05', 's04_e10_c06', 's04_e10_c07', 's04_e10_c08', 's04_e10_c09', 's04_e10_c10', 's04_e10_c11', 's04_e10_c12', 's04_e10_c13', 's04_e10_c14', 's04_e10_c15', 's04_e10_c16', 's04_e11_c01', 's04_e11_c02', 's04_e11_c03', 's04_e11_c04', 's04_e11_c05', 's04_e11_c06', 's04_e11_c07', 's04_e11_c08', 's04_e11_c09', 's04_e11_c10', 's04_e11_c11', 's04_e12_c01', 's04_e12_c02', 's04_e12_c03', 's04_e12_c04', 's04_e12_c05', 's04_e12_c06', 's04_e12_c07', 's04_e12_c08', 's04_e12_c09', 's04_e12_c10', 's04_e13_c01', 's04_e13_c02', 's04_e13_c03', 's04_e13_c04', 's04_e13_c05', 's04_e13_c06', 's04_e13_c07', 's04_e13_c08', 's04_e13_c09', 's04_e13_c10', 's04_e13_c11', 's04_e13_c12', 's04_e13_c13', 's04_e14_c01', 's04_e14_c02', 's04_e14_c03', 's04_e14_c04', 's04_e14_c05', 's04_e14_c06', 's04_e14_c07', 's04_e14_c08', 's04_e14_c09', 's04_e14_c10', 's04_e14_c11', 's04_e15_c01', 's04_e15_c02', 's04_e15_c03', 's04_e15_c04', 's04_e15_c05', 's04_e15_c06', 's04_e15_c07', 's04_e15_c08', 's04_e15_c09', 's04_e15_c10', 's04_e15_c11', 's04_e15_c12', 's04_e15_c13', 's04_e15_c14', 's04_e16_c01', 's04_e16_c02', 's04_e16_c03', 's04_e16_c04', 's04_e16_c05', 's04_e16_c06', 's04_e16_c07', 's04_e17_c01', 's04_e17_c02', 's04_e17_c03', 's04_e17_c04', 's04_e17_c05', 's04_e17_c06', 's04_e17_c07', 's04_e17_c08', 's04_e17_c09', 's04_e17_c10', 's04_e17_c11', 's04_e17_c12', 's04_e17_c13', 's04_e18_c01', 's04_e18_c02', 's04_e18_c03', 's04_e18_c04', 's04_e18_c05', 's04_e18_c06', 's04_e18_c07', 's04_e18_c08', 's04_e18_c09', 's04_e18_c10', 's04_e18_c11', 's04_e18_c12', 's04_e18_c13', 's04_e19_c01', 's04_e19_c02', 's04_e19_c03', 's04_e19_c04', 's04_e19_c05', 's04_e19_c06', 's04_e19_c07', 's04_e19_c08', 's04_e20_c01', 's04_e20_c02', 's04_e20_c03', 's04_e20_c04', 's04_e20_c05', 's04_e20_c06', 's04_e20_c07', 's04_e20_c08', 's04_e20_c09', 's04_e20_c10', 's04_e20_c11', 's04_e20_c12', 's04_e20_c13', 's04_e21_c01', 's04_e21_c02', 's04_e21_c03', 's04_e21_c04', 's04_e21_c05', 's04_e21_c06', 's04_e21_c07', 's04_e21_c08', 's04_e21_c09', 's04_e21_c10', 's04_e21_c11', 's04_e21_c12', 's04_e21_c13', 's04_e21_c14', 's04_e21_c15', 's04_e21_c16', 's04_e21_c17', 's04_e21_c18', 's04_e21_c19', 's04_e21_c20', 's04_e21_c21', 's04_e21_c22', 's04_e21_c23', 's04_e21_c24', 's04_e21_c25', 's04_e21_c26', 's04_e21_c27', 's04_e21_c28', 's04_e21_c29', 's04_e22_c01', 's04_e22_c02', 's04_e22_c03', 's04_e22_c04', 's04_e22_c05', 's04_e22_c06', 's04_e22_c07', 's04_e22_c08', 's04_e22_c09', 's04_e22_c10', 's04_e22_c11', 's04_e22_c12', 's04_e22_c13', 's04_e22_c14', 's04_e22_c15', 's04_e22_c16', 's04_e23_c01', 's04_e23_c02', 's04_e23_c03', 's04_e23_c04', 's04_e23_c05', 's04_e23_c06', 's04_e23_c07', 's04_e23_c08', 's04_e23_c09', 's04_e23_c10', 's04_e23_c11', 's04_e23_c12', 's04_e23_c13', 's04_e23_c14', 's04_e23_c15', 's04_e24_c01', 's04_e24_c02', 's04_e24_c03', 's04_e24_c04', 's04_e24_c05', 's04_e24_c06', 's04_e24_c07', 's04_e24_c08', 's04_e24_c09', 's04_e24_c10', 's04_e24_c11', 's04_e24_c12', 's04_e24_c13', 's04_e24_c14', 's04_e24_c15', 's04_e24_c16', 's04_e24_c17', 's04_e24_c18', 's04_e24_c19', 's04_e24_c20', 's04_e24_c21', 's04_e24_c22', 's04_e24_c23', 's04_e24_c24', 's04_e24_c25', 's04_e24_c26', 's05_e01_c01', 's05_e01_c02', 's05_e01_c03', 's05_e01_c04', 's05_e01_c05', 's05_e01_c06', 's05_e01_c07', 's05_e01_c08', 's05_e01_c09', 's05_e02_c01', 's05_e02_c02', 's05_e02_c03', 's05_e02_c04', 's05_e02_c05', 's05_e02_c06', 's05_e02_c07', 's05_e02_c08', 's05_e02_c09', 's05_e02_c10', 's05_e03_c01', 's05_e03_c02', 's05_e03_c03', 's05_e03_c04', 's05_e03_c05', 's05_e03_c06', 's05_e03_c07', 's05_e03_c08', 's05_e03_c09', 's05_e03_c10', 's05_e03_c11', 's05_e03_c12', 's05_e03_c13', 's05_e03_c14', 's05_e03_c15', 's05_e03_c16', 's05_e03_c17', 's05_e04_c01', 's05_e04_c02', 's05_e04_c03', 's05_e04_c04', 's05_e04_c05', 's05_e04_c06', 's05_e04_c07', 's05_e04_c08', 's05_e04_c09', 's05_e04_c10', 's05_e04_c11', 's05_e04_c12', 's05_e04_c13', 's05_e04_c14', 's05_e05_c01', 's05_e05_c02', 's05_e05_c03', 's05_e05_c04', 's05_e05_c05', 's05_e05_c06', 's05_e05_c07', 's05_e05_c08', 's05_e05_c09', 's05_e05_c10', 's05_e05_c11', 's05_e05_c12', 's05_e05_c13', 's05_e06_c01', 's05_e06_c02', 's05_e06_c03', 's05_e06_c04', 's05_e06_c05', 's05_e06_c06', 's05_e06_c07', 's05_e06_c08', 's05_e06_c09', 's05_e06_c10', 's05_e06_c11', 's05_e06_c12', 's05_e07_c01', 's05_e07_c02', 's05_e07_c03', 's05_e07_c04', 's05_e07_c05', 's05_e07_c06', 's05_e07_c07', 's05_e07_c08', 's05_e07_c09', 's05_e07_c10', 's05_e07_c11', 's05_e07_c12', 's05_e07_c13', 's05_e07_c14', 's05_e07_c15', 's05_e07_c16', 's05_e08_c01', 's05_e08_c02', 's05_e08_c03', 's05_e08_c04', 's05_e08_c05', 's05_e08_c06', 's05_e08_c07', 's05_e08_c08', 's05_e08_c09', 's05_e08_c10', 's05_e08_c11', 's05_e08_c12', 's05_e08_c13', 's05_e08_c14', 's05_e08_c15', 's05_e09_c01', 's05_e09_c02', 's05_e09_c03', 's05_e09_c04', 's05_e09_c05', 's05_e09_c06', 's05_e09_c07', 's05_e09_c08', 's05_e09_c09', 's05_e09_c10', 's05_e09_c11', 's05_e09_c12', 's05_e09_c13', 's05_e10_c01', 's05_e10_c02', 's05_e10_c03', 's05_e10_c04', 's05_e10_c05', 's05_e10_c06', 's05_e10_c07', 's05_e10_c08', 's05_e10_c09', 's05_e10_c10', 's05_e10_c11', 's05_e10_c12', 's05_e10_c13', 's05_e10_c14', 's05_e10_c15', 's05_e10_c16', 's05_e10_c17', 's05_e11_c01', 's05_e11_c02', 's05_e11_c03', 's05_e11_c04', 's05_e11_c05', 's05_e11_c06', 's05_e11_c07', 's05_e11_c08', 's05_e11_c09', 's05_e11_c10', 's05_e11_c11', 's05_e12_c01', 's05_e12_c02', 's05_e12_c03', 's05_e12_c04', 's05_e12_c05', 's05_e12_c06', 's05_e12_c07', 's05_e12_c08', 's05_e12_c09', 's05_e12_c10', 's05_e12_c11', 's05_e12_c12', 's05_e12_c13', 's05_e12_c14', 's05_e12_c15', 's05_e13_c01', 's05_e13_c02', 's05_e13_c03', 's05_e13_c04', 's05_e13_c05', 's05_e13_c06', 's05_e13_c07', 's05_e13_c08', 's05_e13_c09', 's05_e13_c10', 's05_e13_c11', 's05_e13_c12', 's05_e14_c01', 's05_e14_c02', 's05_e14_c03', 's05_e14_c04', 's05_e14_c05', 's05_e14_c06', 's05_e14_c07', 's05_e14_c08', 's05_e14_c09', 's05_e14_c10', 's05_e14_c11', 's05_e15_c01', 's05_e15_c02', 's05_e15_c03', 's05_e15_c04', 's05_e15_c05', 's05_e15_c06', 's05_e15_c07', 's05_e15_c08', 's05_e15_c09', 's05_e15_c10', 's05_e15_c11', 's05_e15_c12', 's05_e15_c13', 's05_e16_c01', 's05_e16_c02', 's05_e16_c03', 's05_e16_c04', 's05_e16_c05', 's05_e16_c06', 's05_e16_c07', 's05_e16_c08', 's05_e16_c09', 's05_e16_c10', 's05_e16_c11', 's05_e16_c12', 's05_e16_c13', 's05_e17_c01', 's05_e17_c02', 's05_e17_c03', 's05_e17_c04', 's05_e17_c05', 's05_e17_c06', 's05_e17_c07', 's05_e17_c08', 's05_e17_c09', 's05_e17_c10', 's05_e17_c11', 's05_e17_c12', 's05_e17_c13', 's05_e17_c14', 's05_e17_c15', 's05_e17_c16', 's05_e18_c01', 's05_e18_c02', 's05_e18_c03', 's05_e18_c04', 's05_e18_c05', 's05_e18_c06', 's05_e18_c07', 's05_e18_c08', 's05_e18_c09', 's05_e18_c10', 's05_e18_c11', 's05_e18_c12', 's05_e18_c13', 's05_e18_c14', 's05_e19_c01', 's05_e19_c02', 's05_e19_c03', 's05_e19_c04', 's05_e19_c05', 's05_e19_c06', 's05_e20_c01', 's05_e20_c02', 's05_e20_c03', 's05_e20_c04', 's05_e20_c05', 's05_e20_c06', 's05_e20_c07', 's05_e20_c08', 's05_e20_c09', 's05_e20_c10', 's05_e20_c11', 's05_e20_c12', 's05_e21_c01', 's05_e21_c02', 's05_e21_c03', 's05_e21_c04', 's05_e21_c05', 's05_e21_c06', 's05_e21_c07', 's05_e21_c08', 's05_e21_c09', 's05_e21_c10', 's05_e21_c11', 's05_e21_c12', 's05_e22_c01', 's05_e22_c02', 's05_e22_c03', 's05_e22_c04', 's05_e22_c05', 's05_e22_c06', 's05_e22_c07', 's05_e22_c08', 's05_e22_c09', 's05_e22_c10', 's05_e22_c11', 's05_e22_c12', 's05_e23_c01', 's05_e23_c02', 's05_e23_c03', 's05_e23_c04', 's05_e23_c05', 's05_e23_c06', 's05_e23_c07', 's05_e23_c08', 's05_e23_c09', 's05_e23_c10', 's05_e23_c11', 's05_e23_c12', 's05_e23_c13', 's05_e24_c01', 's05_e24_c02', 's05_e24_c03', 's05_e24_c04', 's05_e24_c05', 's05_e24_c06', 's05_e24_c07', 's05_e24_c08', 's05_e24_c09', 's05_e24_c10', 's05_e24_c11', 's05_e24_c12', 's05_e24_c13', 's05_e24_c14', 's05_e24_c15', 's06_e01_c01', 's06_e01_c02', 's06_e01_c03', 's06_e01_c04', 's06_e01_c05', 's06_e01_c06', 's06_e01_c07', 's06_e01_c08', 's06_e01_c09', 's06_e01_c10', 's06_e01_c11', 's06_e01_c12', 's06_e01_c13', 's06_e01_c14', 's06_e02_c01', 's06_e02_c02', 's06_e02_c03', 's06_e02_c04', 's06_e02_c05', 's06_e02_c06', 's06_e02_c07', 's06_e02_c08', 's06_e02_c09', 's06_e02_c10', 's06_e02_c11', 's06_e03_c01', 's06_e03_c02', 's06_e03_c03', 's06_e03_c04', 's06_e03_c05', 's06_e03_c06', 's06_e03_c07', 's06_e03_c08', 's06_e03_c09', 's06_e03_c10', 's06_e03_c11', 's06_e03_c12', 's06_e03_c13', 's06_e03_c14', 's06_e04_c01', 's06_e04_c02', 's06_e04_c03', 's06_e04_c04', 's06_e04_c05', 's06_e04_c06', 's06_e04_c07', 's06_e04_c08', 's06_e04_c09', 's06_e04_c10', 's06_e04_c11', 's06_e04_c12', 's06_e04_c13', 's06_e04_c14', 's06_e04_c15', 's06_e04_c16', 's06_e04_c17', 's06_e04_c18', 's06_e05_c01', 's06_e05_c02', 's06_e05_c03', 's06_e05_c04', 's06_e05_c05', 's06_e05_c06', 's06_e05_c07', 's06_e05_c08', 's06_e05_c09', 's06_e05_c10', 's06_e05_c11', 's06_e05_c12', 's06_e05_c13', 's06_e06_c01', 's06_e06_c02', 's06_e06_c03', 's06_e06_c04', 's06_e06_c05', 's06_e06_c06', 's06_e06_c07', 's06_e06_c08', 's06_e06_c09', 's06_e06_c10', 's06_e06_c11', 's06_e06_c12', 's06_e06_c13', 's06_e06_c14', 's06_e07_c01', 's06_e07_c02', 's06_e07_c03', 's06_e07_c04', 's06_e07_c05', 's06_e07_c06', 's06_e07_c07', 's06_e07_c08', 's06_e07_c09', 's06_e07_c10', 's06_e07_c11', 's06_e07_c12', 's06_e07_c13', 's06_e07_c14', 's06_e07_c15', 's06_e08_c01', 's06_e08_c02', 's06_e08_c03', 's06_e08_c04', 's06_e08_c05', 's06_e08_c06', 's06_e08_c07', 's06_e08_c08', 's06_e08_c09', 's06_e08_c10', 's06_e08_c11', 's06_e08_c12', 's06_e08_c13', 's06_e08_c14', 's06_e08_c15', 's06_e08_c16', 's06_e08_c17', 's06_e09_c01', 's06_e09_c02', 's06_e09_c03', 's06_e09_c04', 's06_e09_c05', 's06_e09_c06', 's06_e09_c07', 's06_e09_c08', 's06_e10_c01', 's06_e10_c02', 's06_e10_c03', 's06_e10_c04', 's06_e10_c05', 's06_e10_c06', 's06_e10_c07', 's06_e10_c08', 's06_e10_c09', 's06_e10_c10', 's06_e10_c11', 's06_e10_c12', 's06_e11_c01', 's06_e11_c02', 's06_e11_c03', 's06_e11_c04', 's06_e11_c05', 's06_e11_c06', 's06_e11_c07', 's06_e11_c08', 's06_e11_c09', 's06_e11_c10', 's06_e11_c11', 's06_e11_c12', 's06_e11_c13', 's06_e12_c01', 's06_e12_c02', 's06_e12_c03', 's06_e12_c04', 's06_e12_c05', 's06_e12_c06', 's06_e12_c07', 's06_e12_c08', 's06_e12_c09', 's06_e12_c10', 's06_e12_c11', 's06_e12_c12', 's06_e12_c13', 's06_e13_c01', 's06_e13_c02', 's06_e13_c03', 's06_e13_c04', 's06_e13_c05', 's06_e13_c06', 's06_e13_c07', 's06_e13_c08', 's06_e13_c09', 's06_e13_c10', 's06_e13_c11', 's06_e14_c01', 's06_e14_c02', 's06_e14_c03', 's06_e14_c04', 's06_e14_c05', 's06_e14_c06', 's06_e14_c07', 's06_e14_c08', 's06_e14_c09', 's06_e14_c10', 's06_e14_c11', 's06_e14_c12', 's06_e14_c13', 's06_e15_c01', 's06_e15_c02', 's06_e15_c03', 's06_e15_c04', 's06_e15_c05', 's06_e15_c06', 's06_e15_c07', 's06_e15_c08', 's06_e15_c09', 's06_e15_c10', 's06_e15_c11', 's06_e15_c12', 's06_e16_c01', 's06_e16_c02', 's06_e16_c03', 's06_e16_c04', 's06_e16_c05', 's06_e16_c06', 's06_e16_c07', 's06_e16_c08', 's06_e16_c09', 's06_e16_c10', 's06_e16_c11', 's06_e16_c12', 's06_e16_c13', 's06_e16_c14', 's06_e16_c15', 's06_e16_c16', 's06_e16_c17', 's06_e17_c01', 's06_e17_c02', 's06_e17_c03', 's06_e17_c04', 's06_e17_c05', 's06_e17_c06', 's06_e17_c07', 's06_e17_c08', 's06_e17_c09', 's06_e17_c10', 's06_e17_c11', 's06_e17_c12', 's06_e17_c13', 's06_e17_c14', 's06_e17_c15', 's06_e18_c01', 's06_e18_c02', 's06_e18_c03', 's06_e18_c04', 's06_e18_c05', 's06_e18_c06', 's06_e18_c07', 's06_e18_c08', 's06_e18_c09', 's06_e18_c10', 's06_e18_c11', 's06_e18_c12', 's06_e18_c13', 's06_e18_c14', 's06_e18_c15', 's06_e18_c16', 's06_e18_c17', 's06_e18_c18', 's06_e18_c19', 's06_e18_c20', 's06_e19_c01', 's06_e19_c02', 's06_e19_c03', 's06_e19_c04', 's06_e19_c05', 's06_e19_c06', 's06_e19_c07', 's06_e19_c08', 's06_e19_c09', 's06_e19_c10', 's06_e19_c11', 's06_e19_c12', 's06_e19_c13', 's06_e20_c01', 's06_e20_c02', 's06_e20_c03', 's06_e20_c04', 's06_e20_c05', 's06_e20_c06', 's06_e20_c07', 's06_e20_c08', 's06_e20_c09', 's06_e20_c10', 's06_e20_c11', 's06_e20_c12', 's06_e21_c01', 's06_e21_c02', 's06_e21_c03', 's06_e21_c04', 's06_e21_c05', 's06_e21_c06', 's06_e21_c07', 's06_e21_c08', 's06_e21_c09', 's06_e21_c10', 's06_e21_c11', 's06_e21_c12', 's06_e21_c13', 's06_e21_c14', 's06_e21_c15', 's06_e21_c16', 's06_e22_c01', 's06_e22_c02', 's06_e22_c03', 's06_e22_c04', 's06_e22_c05', 's06_e22_c06', 's06_e22_c07', 's06_e22_c08', 's06_e22_c09', 's06_e22_c10', 's06_e22_c11', 's06_e22_c12', 's06_e22_c13', 's06_e22_c14', 's06_e22_c15', 's06_e23_c01', 's06_e23_c02', 's06_e23_c03', 's06_e23_c04', 's06_e23_c05', 's06_e23_c06', 's06_e23_c07', 's06_e23_c08', 's06_e23_c09', 's06_e23_c10', 's06_e23_c11', 's06_e23_c12', 's06_e23_c13', 's06_e23_c14', 's06_e23_c15', 's06_e23_c16', 's06_e24_c01', 's06_e24_c02', 's06_e24_c03', 's06_e24_c04', 's06_e24_c05', 's06_e24_c06', 's06_e24_c07', 's06_e24_c08', 's06_e24_c09', 's06_e24_c10', 's06_e24_c11', 's06_e24_c12', 's06_e24_c13', 's06_e24_c14', 's06_e24_c15', 's06_e25_c01', 's06_e25_c02', 's06_e25_c03', 's06_e25_c04', 's06_e25_c05', 's06_e25_c06', 's06_e25_c07', 's06_e25_c08', 's06_e25_c09', 's06_e25_c10', 's06_e25_c11', 's06_e25_c12', 's06_e25_c13', 's07_e01_c01', 's07_e01_c02', 's07_e01_c03', 's07_e01_c04', 's07_e01_c05', 's07_e01_c06', 's07_e01_c07', 's07_e01_c08', 's07_e01_c09', 's07_e01_c10', 's07_e01_c11', 's07_e02_c01', 's07_e02_c02', 's07_e02_c03', 's07_e02_c04', 's07_e02_c05', 's07_e02_c06', 's07_e02_c07', 's07_e02_c08', 's07_e02_c09', 's07_e02_c10', 's07_e02_c11', 's07_e02_c12', 's07_e02_c13', 's07_e03_c01', 's07_e03_c02', 's07_e03_c03', 's07_e03_c04', 's07_e03_c05', 's07_e03_c06', 's07_e03_c07', 's07_e03_c08', 's07_e03_c09', 's07_e03_c10', 's07_e03_c11', 's07_e03_c12', 's07_e04_c01', 's07_e04_c02', 's07_e04_c03', 's07_e04_c04', 's07_e04_c05', 's07_e04_c06', 's07_e04_c07', 's07_e04_c08', 's07_e04_c09', 's07_e04_c10', 's07_e04_c11', 's07_e04_c12', 's07_e04_c13', 's07_e04_c14', 's07_e04_c15', 's07_e05_c01', 's07_e05_c02', 's07_e05_c03', 's07_e05_c04', 's07_e05_c05', 's07_e05_c06', 's07_e05_c07', 's07_e05_c08', 's07_e05_c09', 's07_e05_c10', 's07_e05_c11', 's07_e05_c12', 's07_e05_c13', 's07_e05_c14', 's07_e05_c15', 's07_e05_c16', 's07_e06_c01', 's07_e06_c02', 's07_e06_c03', 's07_e06_c04', 's07_e06_c05', 's07_e06_c06', 's07_e06_c07', 's07_e06_c08', 's07_e06_c09', 's07_e06_c10', 's07_e06_c11', 's07_e06_c12', 's07_e06_c13', 's07_e07_c01', 's07_e07_c02', 's07_e07_c03', 's07_e07_c04', 's07_e07_c05', 's07_e07_c06', 's07_e07_c07', 's07_e07_c08', 's07_e07_c09', 's07_e07_c10', 's07_e07_c11', 's07_e07_c12', 's07_e07_c13', 's07_e08_c01', 's07_e08_c02', 's07_e08_c03', 's07_e08_c04', 's07_e08_c05', 's07_e08_c06', 's07_e08_c07', 's07_e08_c08', 's07_e09_c01', 's07_e09_c02', 's07_e09_c03', 's07_e09_c04', 's07_e09_c05', 's07_e09_c06', 's07_e09_c07', 's07_e09_c08', 's07_e09_c09', 's07_e09_c10', 's07_e09_c11', 's07_e09_c12', 's07_e09_c13', 's07_e10_c01', 's07_e10_c02', 's07_e10_c03', 's07_e10_c04', 's07_e10_c05', 's07_e10_c06', 's07_e10_c07', 's07_e10_c08', 's07_e10_c09', 's07_e10_c10', 's07_e10_c11', 's07_e10_c12', 's07_e10_c13', 's07_e10_c14', 's07_e11_c01', 's07_e11_c02', 's07_e11_c03', 's07_e11_c04', 's07_e11_c05', 's07_e11_c06', 's07_e11_c07', 's07_e11_c08', 's07_e11_c09', 's07_e11_c10', 's07_e11_c11', 's07_e11_c12', 's07_e11_c13', 's07_e11_c14', 's07_e11_c15', 's07_e11_c16', 's07_e12_c01', 's07_e12_c02', 's07_e12_c03', 's07_e12_c04', 's07_e12_c05', 's07_e12_c06', 's07_e12_c07', 's07_e12_c08', 's07_e12_c09', 's07_e12_c10', 's07_e12_c11', 's07_e12_c12', 's07_e12_c13', 's07_e12_c14', 's07_e12_c15', 's07_e12_c16', 's07_e12_c17', 's07_e12_c18', 's07_e12_c19', 's07_e12_c20', 's07_e13_c01', 's07_e13_c02', 's07_e13_c03', 's07_e13_c04', 's07_e13_c05', 's07_e13_c06', 's07_e13_c07', 's07_e13_c08', 's07_e13_c09', 's07_e13_c10', 's07_e13_c11', 's07_e13_c12', 's07_e13_c13', 's07_e13_c14', 's07_e13_c15', 's07_e13_c16', 's07_e13_c17', 's07_e13_c18', 's07_e14_c01', 's07_e14_c02', 's07_e14_c03', 's07_e14_c04', 's07_e14_c05', 's07_e14_c06', 's07_e14_c07', 's07_e14_c08', 's07_e14_c09', 's07_e14_c10', 's07_e14_c11', 's07_e14_c12', 's07_e14_c13', 's07_e14_c14', 's07_e15_c01', 's07_e15_c02', 's07_e15_c03', 's07_e15_c04', 's07_e15_c05', 's07_e15_c06', 's07_e15_c07', 's07_e15_c08', 's07_e15_c09', 's07_e15_c10', 's07_e15_c11', 's07_e15_c12', 's07_e15_c13', 's07_e15_c14', 's07_e15_c15', 's07_e16_c01', 's07_e16_c02', 's07_e16_c03', 's07_e16_c04', 's07_e16_c05', 's07_e16_c06', 's07_e16_c07', 's07_e16_c08', 's07_e16_c09', 's07_e16_c10', 's07_e16_c11', 's07_e16_c12', 's07_e16_c13', 's07_e16_c14', 's07_e16_c15', 's07_e17_c01', 's07_e17_c02', 's07_e17_c03', 's07_e17_c04', 's07_e17_c05', 's07_e17_c06', 's07_e17_c07', 's07_e17_c08', 's07_e17_c09', 's07_e17_c10', 's07_e17_c11', 's07_e17_c12', 's07_e17_c13', 's07_e18_c01', 's07_e18_c02', 's07_e18_c03', 's07_e18_c04', 's07_e18_c05', 's07_e18_c06', 's07_e18_c07', 's07_e18_c08', 's07_e18_c09', 's07_e18_c10', 's07_e18_c11', 's07_e18_c12', 's07_e18_c13', 's07_e18_c14', 's07_e18_c15', 's07_e18_c16', 's07_e19_c01', 's07_e19_c02', 's07_e19_c03', 's07_e19_c04', 's07_e19_c05', 's07_e19_c06', 's07_e19_c07', 's07_e19_c08', 's07_e19_c09', 's07_e19_c10', 's07_e19_c11', 's07_e19_c12', 's07_e19_c13', 's07_e19_c14', 's07_e19_c15', 's07_e19_c16', 's07_e19_c17', 's07_e20_c01', 's07_e20_c02', 's07_e20_c03', 's07_e20_c04', 's07_e20_c05', 's07_e20_c06', 's07_e20_c07', 's07_e20_c08', 's07_e20_c09', 's07_e20_c10', 's07_e20_c11', 's07_e20_c12', 's07_e21_c01', 's07_e21_c02', 's07_e21_c03', 's07_e21_c04', 's07_e21_c05', 's07_e21_c06', 's07_e22_c01', 's07_e22_c02', 's07_e22_c03', 's07_e22_c04', 's07_e22_c05', 's07_e22_c06', 's07_e22_c07', 's07_e22_c08', 's07_e22_c09', 's07_e22_c10', 's07_e22_c11', 's07_e22_c12', 's07_e22_c13', 's07_e22_c14', 's07_e22_c15', 's07_e22_c16', 's07_e23_c01', 's07_e23_c02', 's07_e23_c03', 's07_e23_c04', 's07_e23_c05', 's07_e23_c06', 's07_e23_c07', 's07_e23_c08', 's07_e23_c09', 's07_e23_c10', 's07_e23_c11', 's07_e23_c12', 's07_e23_c13', 's07_e24_c01', 's07_e24_c02', 's07_e24_c03', 's07_e24_c04', 's07_e24_c05', 's07_e24_c06', 's07_e24_c07', 's07_e24_c08', 's07_e24_c09', 's07_e24_c10', 's07_e24_c11', 's07_e24_c12', 's07_e24_c13', 's08_e01_c01', 's08_e01_c02', 's08_e01_c03', 's08_e01_c04', 's08_e01_c05', 's08_e01_c06', 's08_e02_c01', 's08_e02_c02', 's08_e02_c03', 's08_e02_c04', 's08_e02_c05', 's08_e02_c06', 's08_e02_c07', 's08_e02_c08', 's08_e02_c09', 's08_e02_c10', 's08_e02_c11', 's08_e02_c12', 's08_e03_c01', 's08_e03_c02', 's08_e03_c03', 's08_e03_c04', 's08_e03_c05', 's08_e03_c06', 's08_e03_c07', 's08_e03_c08', 's08_e03_c09', 's08_e03_c10', 's08_e03_c11', 's08_e03_c12', 's08_e04_c01', 's08_e04_c02', 's08_e04_c03', 's08_e04_c04', 's08_e04_c05', 's08_e04_c06', 's08_e04_c07', 's08_e04_c08', 's08_e04_c09', 's08_e04_c10', 's08_e05_c01', 's08_e05_c02', 's08_e05_c03', 's08_e05_c04', 's08_e05_c05', 's08_e05_c06', 's08_e05_c07', 's08_e05_c08', 's08_e05_c09', 's08_e05_c10', 's08_e05_c11', 's08_e05_c12', 's08_e05_c13', 's08_e05_c14', 's08_e05_c15', 's08_e05_c16', 's08_e06_c01', 's08_e06_c02', 's08_e06_c03', 's08_e06_c04', 's08_e06_c05', 's08_e06_c06', 's08_e07_c01', 's08_e07_c02', 's08_e07_c03', 's08_e07_c04', 's08_e07_c05', 's08_e07_c06', 's08_e07_c07', 's08_e07_c08', 's08_e07_c09', 's08_e07_c10', 's08_e07_c11', 's08_e07_c12', 's08_e07_c13', 's08_e07_c14', 's08_e07_c15', 's08_e07_c16', 's08_e08_c01', 's08_e08_c02', 's08_e08_c03', 's08_e08_c04', 's08_e08_c05', 's08_e08_c06', 's08_e08_c07', 's08_e08_c08', 's08_e08_c09', 's08_e08_c10', 's08_e08_c11', 's08_e08_c12', 's08_e08_c13', 's08_e08_c14', 's08_e08_c15', 's08_e09_c01', 's08_e09_c02', 's08_e09_c03', 's08_e09_c04', 's08_e10_c01', 's08_e10_c02', 's08_e10_c03', 's08_e10_c04', 's08_e10_c05', 's08_e10_c06', 's08_e10_c07', 's08_e10_c08', 's08_e10_c09', 's08_e10_c10', 's08_e10_c11', 's08_e10_c12', 's08_e10_c13', 's08_e11_c01', 's08_e11_c02', 's08_e11_c03', 's08_e11_c04', 's08_e11_c05', 's08_e11_c06', 's08_e11_c07', 's08_e11_c08', 's08_e11_c09', 's08_e11_c10', 's08_e11_c11', 's08_e11_c12', 's08_e11_c13', 's08_e11_c14', 's08_e12_c01', 's08_e12_c02', 's08_e12_c03', 's08_e12_c04', 's08_e12_c05', 's08_e12_c06', 's08_e12_c07', 's08_e12_c08', 's08_e12_c09', 's08_e12_c10', 's08_e12_c11', 's08_e12_c12', 's08_e12_c13', 's08_e12_c14', 's08_e12_c15', 's08_e12_c16', 's08_e13_c01', 's08_e13_c02', 's08_e13_c03', 's08_e13_c04', 's08_e13_c05', 's08_e13_c06', 's08_e13_c07', 's08_e13_c08', 's08_e13_c09', 's08_e13_c10', 's08_e13_c11', 's08_e13_c12', 's08_e14_c01', 's08_e14_c02', 's08_e14_c03', 's08_e14_c04', 's08_e14_c05', 's08_e14_c06', 's08_e14_c07', 's08_e14_c08', 's08_e14_c09', 's08_e14_c10', 's08_e14_c11', 's08_e14_c12', 's08_e14_c13', 's08_e15_c01', 's08_e15_c02', 's08_e15_c03', 's08_e15_c04', 's08_e15_c05', 's08_e15_c06', 's08_e15_c07', 's08_e15_c08', 's08_e15_c09', 's08_e15_c10', 's08_e15_c11', 's08_e15_c12', 's08_e15_c13', 's08_e16_c01', 's08_e16_c02', 's08_e16_c03', 's08_e16_c04', 's08_e16_c05', 's08_e16_c06', 's08_e16_c07', 's08_e16_c08', 's08_e16_c09', 's08_e16_c10', 's08_e17_c01', 's08_e17_c02', 's08_e17_c03', 's08_e17_c04', 's08_e17_c05', 's08_e17_c06', 's08_e17_c07', 's08_e17_c08', 's08_e17_c09', 's08_e17_c10', 's08_e17_c11', 's08_e17_c12', 's08_e17_c13', 's08_e17_c14', 's08_e18_c01', 's08_e18_c02', 's08_e18_c03', 's08_e18_c04', 's08_e18_c05', 's08_e18_c06', 's08_e18_c07', 's08_e19_c01', 's08_e19_c02', 's08_e19_c03', 's08_e19_c04', 's08_e19_c05', 's08_e19_c06', 's08_e19_c07', 's08_e19_c08', 's08_e19_c09', 's08_e19_c10', 's08_e19_c11', 's08_e19_c12', 's08_e19_c13', 's08_e20_c01', 's08_e20_c02', 's08_e20_c03', 's08_e20_c04', 's08_e20_c05', 's08_e20_c06', 's08_e20_c07', 's08_e20_c08', 's08_e20_c09', 's08_e20_c10', 's08_e21_c01', 's08_e21_c02', 's08_e21_c03', 's08_e21_c04', 's08_e21_c05', 's08_e21_c06', 's08_e21_c07', 's08_e21_c08', 's08_e21_c09', 's08_e21_c10', 's08_e21_c11', 's08_e21_c12', 's08_e21_c13', 's08_e21_c14', 's08_e21_c15', 's08_e22_c01', 's08_e22_c02', 's08_e22_c03', 's08_e22_c04', 's08_e22_c05', 's08_e22_c06', 's08_e22_c07', 's08_e22_c08', 's08_e22_c09', 's08_e22_c10', 's08_e22_c11', 's08_e22_c12', 's08_e23_c01', 's08_e23_c02', 's08_e23_c03', 's08_e23_c04', 's08_e23_c05', 's08_e23_c06', 's08_e23_c07', 's08_e23_c08', 's08_e23_c09', 's08_e23_c10', 's08_e23_c11', 's08_e23_c12', 's08_e23_c13', 's08_e24_c01', 's08_e24_c02', 's08_e24_c03', 's08_e24_c04', 's08_e24_c05', 's08_e24_c06', 's08_e24_c07', 's08_e24_c08', 's08_e24_c09', 's08_e24_c10', 's08_e24_c11', 's08_e24_c12', 's08_e24_c13', 's08_e24_c14', 's08_e24_c15', 's08_e24_c16', 's09_e01_c01', 's09_e01_c02', 's09_e01_c03', 's09_e01_c04', 's09_e01_c05', 's09_e01_c06', 's09_e01_c07', 's09_e01_c08', 's09_e01_c09', 's09_e01_c10', 's09_e01_c11', 's09_e02_c01', 's09_e02_c02', 's09_e02_c03', 's09_e02_c04', 's09_e02_c05', 's09_e02_c06', 's09_e02_c07', 's09_e02_c08', 's09_e02_c09', 's09_e02_c10', 's09_e02_c11', 's09_e02_c12', 's09_e02_c13', 's09_e03_c01', 's09_e03_c02', 's09_e03_c03', 's09_e03_c04', 's09_e03_c05', 's09_e03_c06', 's09_e03_c07', 's09_e03_c08', 's09_e03_c09', 's09_e03_c10', 's09_e03_c11', 's09_e03_c12', 's09_e03_c13', 's09_e03_c14', 's09_e03_c15', 's09_e03_c16', 's09_e04_c01', 's09_e04_c02', 's09_e04_c03', 's09_e04_c04', 's09_e04_c05', 's09_e04_c06', 's09_e04_c07', 's09_e04_c08', 's09_e04_c09', 's09_e04_c10', 's09_e04_c11', 's09_e04_c12', 's09_e05_c01', 's09_e05_c02', 's09_e05_c03', 's09_e05_c04', 's09_e05_c05', 's09_e05_c06', 's09_e05_c07', 's09_e05_c08', 's09_e05_c09', 's09_e05_c10', 's09_e05_c11', 's09_e05_c12', 's09_e05_c13', 's09_e06_c01', 's09_e06_c02', 's09_e06_c03', 's09_e06_c04', 's09_e06_c05', 's09_e06_c06', 's09_e06_c07', 's09_e06_c08', 's09_e06_c09', 's09_e06_c10', 's09_e06_c11', 's09_e06_c12', 's09_e06_c13', 's09_e06_c14', 's09_e06_c15', 's09_e06_c16', 's09_e06_c17', 's09_e06_c18', 's09_e06_c19', 's09_e07_c01', 's09_e07_c02', 's09_e07_c03', 's09_e07_c04', 's09_e07_c05', 's09_e07_c06', 's09_e07_c07', 's09_e07_c08', 's09_e07_c09', 's09_e07_c10', 's09_e07_c11', 's09_e07_c12', 's09_e07_c13', 's09_e08_c01', 's09_e08_c02', 's09_e09_c01', 's09_e09_c02', 's09_e09_c03', 's09_e09_c04', 's09_e09_c05', 's09_e09_c06', 's09_e09_c07', 's09_e09_c08', 's09_e09_c09', 's09_e09_c10', 's09_e10_c01', 's09_e10_c02', 's09_e10_c03', 's09_e10_c04', 's09_e10_c05', 's09_e10_c06', 's09_e10_c07', 's09_e10_c08', 's09_e10_c09', 's09_e10_c10', 's09_e10_c11', 's09_e10_c12', 's09_e10_c13', 's09_e10_c14', 's09_e10_c15', 's09_e10_c16', 's09_e11_c01', 's09_e11_c02', 's09_e11_c03', 's09_e11_c04', 's09_e11_c05', 's09_e11_c06', 's09_e11_c07', 's09_e11_c08', 's09_e11_c09', 's09_e11_c10', 's09_e11_c11', 's09_e11_c12', 's09_e11_c13', 's09_e11_c14', 's09_e11_c15', 's09_e11_c16', 's09_e12_c01', 's09_e12_c02', 's09_e12_c03', 's09_e12_c04', 's09_e12_c05', 's09_e12_c06', 's09_e12_c07', 's09_e12_c08', 's09_e12_c09', 's09_e12_c10', 's09_e12_c11', 's09_e12_c12', 's09_e13_c01', 's09_e13_c02', 's09_e13_c03', 's09_e13_c04', 's09_e13_c05', 's09_e13_c06', 's09_e13_c07', 's09_e13_c08', 's09_e13_c09', 's09_e13_c10', 's09_e13_c11', 's09_e13_c12', 's09_e13_c13', 's09_e13_c14', 's09_e13_c15', 's09_e14_c01', 's09_e14_c02', 's09_e14_c03', 's09_e14_c04', 's09_e14_c05', 's09_e14_c06', 's09_e14_c07', 's09_e14_c08', 's09_e14_c09', 's09_e14_c10', 's09_e14_c11', 's09_e14_c12', 's09_e14_c13', 's09_e14_c14', 's09_e14_c15', 's09_e15_c01', 's09_e15_c02', 's09_e15_c03', 's09_e15_c04', 's09_e15_c05', 's09_e15_c06', 's09_e15_c07', 's09_e15_c08', 's09_e15_c09', 's09_e15_c10', 's09_e15_c11', 's09_e15_c12', 's09_e15_c13', 's09_e15_c14', 's09_e16_c01', 's09_e16_c02', 's09_e16_c03', 's09_e16_c04', 's09_e16_c05', 's09_e16_c06', 's09_e16_c07', 's09_e16_c08', 's09_e16_c09', 's09_e16_c10', 's09_e16_c11', 's09_e16_c12', 's09_e16_c13', 's09_e16_c14', 's09_e17_c01', 's09_e17_c02', 's09_e17_c03', 's09_e17_c04', 's09_e17_c05', 's09_e17_c06', 's09_e17_c07', 's09_e17_c08', 's09_e17_c09', 's09_e17_c10', 's09_e17_c11', 's09_e17_c12', 's09_e17_c13', 's09_e18_c01', 's09_e18_c02', 's09_e18_c03', 's09_e18_c04', 's09_e19_c01', 's09_e19_c02', 's09_e19_c03', 's09_e19_c04', 's09_e19_c05', 's09_e19_c06', 's09_e19_c07', 's09_e19_c08', 's09_e19_c09', 's09_e19_c10', 's09_e19_c11', 's09_e19_c12', 's09_e19_c13', 's09_e20_c01', 's09_e20_c02', 's09_e20_c03', 's09_e20_c04', 's09_e20_c05', 's09_e20_c06', 's09_e20_c07', 's09_e20_c08', 's09_e20_c09', 's09_e20_c10', 's09_e20_c11', 's09_e21_c01', 's09_e21_c02', 's09_e21_c03', 's09_e21_c04', 's09_e21_c05', 's09_e21_c06', 's09_e21_c07', 's09_e21_c08', 's09_e21_c09', 's09_e21_c10', 's09_e21_c11', 's09_e21_c12', 's09_e21_c13', 's09_e21_c14', 's09_e22_c01', 's09_e22_c02', 's09_e22_c03', 's09_e22_c04', 's09_e22_c05', 's09_e22_c06', 's09_e22_c07', 's09_e22_c08', 's09_e22_c09', 's09_e22_c10', 's09_e22_c11', 's09_e22_c12', 's09_e23_c01', 's09_e23_c02', 's09_e23_c03', 's09_e23_c04', 's09_e23_c05', 's09_e23_c06', 's09_e23_c07', 's09_e23_c08', 's09_e23_c09', 's09_e23_c10', 's09_e23_c11', 's09_e23_c12', 's09_e24_c01', 's09_e24_c02', 's09_e24_c03', 's09_e24_c04', 's09_e24_c05', 's09_e24_c06', 's09_e24_c07', 's09_e24_c08', 's09_e24_c09', 's09_e24_c10', 's09_e24_c11', 's09_e24_c12', 's10_e01_c01', 's10_e01_c02', 's10_e01_c03', 's10_e01_c04', 's10_e01_c05', 's10_e01_c06', 's10_e01_c07', 's10_e01_c08', 's10_e01_c09', 's10_e01_c10', 's10_e02_c01', 's10_e02_c02', 's10_e02_c03', 's10_e02_c04', 's10_e02_c05', 's10_e02_c06', 's10_e02_c07', 's10_e02_c08', 's10_e02_c09', 's10_e02_c10', 's10_e02_c11', 's10_e02_c12', 's10_e03_c01', 's10_e03_c02', 's10_e03_c03', 's10_e03_c04', 's10_e03_c05', 's10_e03_c06', 's10_e03_c07', 's10_e03_c08', 's10_e03_c09', 's10_e03_c10', 's10_e03_c11', 's10_e03_c12', 's10_e03_c13', 's10_e04_c01', 's10_e04_c02', 's10_e04_c03', 's10_e04_c04', 's10_e05_c01', 's10_e05_c02', 's10_e05_c03', 's10_e05_c04', 's10_e05_c05', 's10_e05_c06', 's10_e05_c07', 's10_e05_c08', 's10_e05_c09', 's10_e05_c10', 's10_e05_c11', 's10_e05_c12', 's10_e05_c13', 's10_e05_c14', 's10_e06_c01', 's10_e06_c02', 's10_e06_c03', 's10_e06_c04', 's10_e06_c05', 's10_e06_c06', 's10_e06_c07', 's10_e06_c08', 's10_e06_c09', 's10_e06_c10', 's10_e06_c11', 's10_e06_c12', 's10_e06_c13', 's10_e06_c14', 's10_e06_c15', 's10_e06_c16', 's10_e06_c17', 's10_e06_c18', 's10_e07_c01', 's10_e07_c02', 's10_e07_c03', 's10_e07_c04', 's10_e07_c05', 's10_e07_c06', 's10_e07_c07', 's10_e07_c08', 's10_e07_c09', 's10_e07_c10', 's10_e07_c11', 's10_e07_c12', 's10_e07_c13', 's10_e07_c14', 's10_e08_c01', 's10_e08_c02', 's10_e08_c03', 's10_e08_c04', 's10_e08_c05', 's10_e08_c06', 's10_e08_c07', 's10_e08_c08', 's10_e08_c09', 's10_e09_c01', 's10_e09_c02', 's10_e09_c03', 's10_e09_c04', 's10_e09_c05', 's10_e09_c06', 's10_e09_c07', 's10_e09_c08', 's10_e09_c09', 's10_e09_c10', 's10_e09_c11', 's10_e09_c12', 's10_e09_c13', 's10_e09_c14', 's10_e10_c01', 's10_e10_c02', 's10_e10_c03', 's10_e10_c04', 's10_e10_c05', 's10_e10_c06', 's10_e10_c07', 's10_e11_c01', 's10_e11_c02', 's10_e11_c03', 's10_e11_c04', 's10_e11_c05', 's10_e11_c06', 's10_e11_c07', 's10_e11_c08', 's10_e11_c09', 's10_e11_c10', 's10_e11_c11', 's10_e11_c12', 's10_e11_c13', 's10_e11_c14', 's10_e12_c01', 's10_e12_c02', 's10_e12_c03', 's10_e12_c04', 's10_e12_c05', 's10_e12_c06', 's10_e12_c07', 's10_e12_c08', 's10_e12_c09', 's10_e12_c10', 's10_e12_c11', 's10_e12_c12', 's10_e13_c01', 's10_e13_c02', 's10_e13_c03', 's10_e13_c04', 's10_e13_c05', 's10_e13_c06', 's10_e13_c07', 's10_e13_c08', 's10_e13_c09', 's10_e13_c10', 's10_e13_c11', 's10_e13_c12', 's10_e13_c13', 's10_e14_c01', 's10_e14_c02', 's10_e14_c03', 's10_e14_c04', 's10_e14_c05', 's10_e14_c06', 's10_e14_c07', 's10_e14_c08', 's10_e14_c09', 's10_e14_c10', 's10_e14_c11', 's10_e14_c12', 's10_e14_c13', 's10_e15_c01', 's10_e15_c02', 's10_e15_c03', 's10_e15_c04', 's10_e15_c05', 's10_e15_c06', 's10_e15_c07', 's10_e15_c08', 's10_e15_c09', 's10_e15_c10', 's10_e15_c11', 's10_e15_c12', 's10_e15_c13', 's10_e16_c01', 's10_e16_c02', 's10_e16_c03', 's10_e16_c04', 's10_e16_c05', 's10_e16_c06', 's10_e16_c07', 's10_e16_c08', 's10_e16_c09', 's10_e16_c10', 's10_e16_c11', 's10_e16_c12', 's10_e16_c13', 's10_e16_c14', 's10_e17_c01', 's10_e17_c02', 's10_e17_c03', 's10_e17_c04', 's10_e17_c05', 's10_e17_c06', 's10_e17_c07', 's10_e17_c08', 's10_e17_c09', 's10_e17_c10', 's10_e17_c11', 's10_e17_c12', 's10_e17_c13', 's10_e17_c14', 's10_e18_c01', 's10_e18_c02', 's10_e18_c03', 's10_e18_c04', 's10_e18_c05', 's10_e18_c06', 's10_e18_c07', 's10_e18_c08', 's10_e18_c09', 's10_e18_c10', 's10_e18_c11'])"
            ]
          },
          "metadata": {
            "tags": []
          },
          "execution_count": 69
        }
      ]
    },
    {
      "cell_type": "code",
      "metadata": {
        "id": "Q2cImn_0pxHz",
        "colab_type": "code",
        "outputId": "f675d973-4c37-4d8d-fb75-3f87f83f8424",
        "colab": {
          "base_uri": "https://localhost:8080/",
          "height": 54
        }
      },
      "source": [
        "print(extract_romantic['s01_e01_c01'])"
      ],
      "execution_count": 0,
      "outputs": [
        {
          "output_type": "stream",
          "text": [
            "{'romantic words': ['want', 'sex', 'dream', 'dream', 'sweetie', 'want', 'want', 'gorgeous', 'wondering'], 'nonromantic words': ['There', \"'s\", 'nothing', 'to', 'tell', '!', 'He', \"'s\", 'just', 'some', 'guy', 'I', 'work', 'with', '!', \"C'mon\", ',', 'you', \"'re\", 'going', 'out', 'with', 'the', 'guy', '!', 'There', \"'s\", 'got', 'ta', 'be', 'something', 'wrong', 'with', 'him', '!', 'All', 'right', 'Joey', ',', 'be', 'nice', '.', 'So', 'does', 'he', 'have', 'a', 'hump', '?', 'A', 'hump', 'and', 'a', 'hairpiece', '?', 'Wait', ',', 'does', 'he', 'eat', 'chalk', '?', 'Just', ',', \"'\", 'cause', ',', 'I', 'do', \"n't\", 'her', 'to', 'go', 'through', 'what', 'I', 'went', 'through', 'with', 'Carl', '-', 'oh', '!', 'Okay', ',', 'everybody', 'relax', '.', 'This', 'is', 'not', 'even', 'a', 'date', '.', 'It', \"'s\", 'just', 'two', 'people', 'going', 'out', 'to', 'dinner', 'and', '-', 'not', 'having', '.', 'Sounds', 'like', 'a', 'date', 'to', 'me', '.', 'Alright', ',', 'so', 'I', \"'m\", 'back', 'in', 'high', 'school', ',', 'I', \"'m\", 'standing', 'in', 'the', 'middle', 'of', 'the', 'cafeteria', ',', 'and', 'I', 'realize', 'I', 'am', 'totally', 'naked', '.', 'Oh', ',', 'yeah', '.', 'Had', 'that', '.', 'Then', 'I', 'look', 'down', ',', 'and', 'I', 'realize', 'there', \"'s\", 'a', 'phone', '...', 'there', '.', 'Instead', 'of', '...?', 'That', \"'s\", 'right', '.', 'Never', 'had', 'that', '.', 'No', '.', 'All', 'of', 'a', 'sudden', ',', 'the', 'phone', 'starts', 'to', 'ring', '.', 'Now', 'I', 'do', \"n't\", 'know', 'what', 'to', 'do', ',', 'everybody', 'starts', 'looking', 'at', 'me', '.', 'And', 'they', 'were', \"n't\", 'looking', 'at', 'you', 'before', '?!', 'Finally', ',', 'I', 'figure', 'I', \"'d\", 'better', 'answer', 'it', ',', 'and', 'it', 'turns', 'out', 'it', \"'s\", 'my', 'mother', ',', 'which', 'is', 'very', '-', 'very', 'weird', ',', 'because', '-', 'she', 'never', 'calls', 'me', '!', 'Hi', '.', 'This', 'guy', 'says', 'hello', ',', 'I', 'wan', 'na', 'kill', 'myself', '.', 'Are', 'you', 'okay', ',', '?', 'I', 'just', 'feel', 'like', 'someone', 'reached', 'down', 'my', 'throat', ',', 'grabbed', 'my', 'small', 'intestine', ',', 'pulled', 'it', 'out', 'of', 'my', 'mouth', 'and', 'tied', 'it', 'around', 'my', 'neck', '...', 'Cookie', '?', 'Carol', 'moved', 'her', 'stuff', 'out', 'today', '.', 'Ohh', '.', 'Let', 'me', 'get', 'you', 'some', 'coffee', '.', 'Thanks', '.', 'Ooh', '!', 'Oh', '!', 'No', ',', 'no', 'do', \"n't\", '!', 'Stop', 'cleansing', 'my', 'aura', '!', 'No', ',', 'just', 'leave', 'my', 'aura', 'alone', ',', 'okay', '?', 'Fine', '!', 'Be', 'murky', '!', 'I', \"'ll\", 'be', 'fine', ',', 'alright', '?', 'Really', ',', 'everyone', '.', 'I', 'hope', 'she', \"'ll\", 'be', 'very', 'happy', '.', 'No', 'you', 'do', \"n't\", '.', 'No', 'I', 'do', \"n't\", ',', 'to', 'hell', 'with', 'her', ',', 'she', 'left', 'me', '!', 'And', 'you', 'never', 'knew', 'she', 'was', 'a', 'lesbian', '...', 'No', '!!', 'Okay', '?!', 'Why', 'does', 'everyone', 'keep', 'fixating', 'on', 'that', '?', 'She', 'did', \"n't\", 'know', ',', 'how', 'should', 'I', 'know', '?', 'Sometimes', 'I', 'wish', 'I', 'was', 'a', 'lesbian', '...', 'Did', 'I', 'say', 'that', 'out', 'loud', '?', 'I', 'told', 'mom', 'and', 'dad', 'last', 'night', ',', 'they', 'seemed', 'to', 'take', 'it', 'pretty', 'well', '.', 'Oh', 'really', ',', 'so', 'that', 'hysterical', 'phone', 'call', 'I', 'got', 'from', 'a', 'woman', 'at', 'sobbing', '3:00', 'A.M.', ',', '\"', 'I', \"'ll\", 'never', 'have', 'grandchildren', ',', 'I', \"'ll\", 'never', 'have', 'grandchildren', '.', '\"', 'was', 'what', '?', 'A', 'wrong', 'number', '?', 'Sorry', '.', 'Alright', 'Ross', ',', 'look', '.', 'You', \"'re\", 'feeling', 'a', 'lot', 'of', 'pain', 'right', 'now', '.', 'You', \"'re\", 'angry', '.', 'You', \"'re\", 'hurting', '.', 'Can', 'I', 'tell', 'you', 'what', 'the', 'answer', 'is', '?', 'Strip', 'joint', '!', \"C'mon\", ',', 'you', \"'re\", 'single', '!', 'Have', 'some', 'hormones', '!', 'I', 'do', \"n't\", 'to', 'be', 'single', ',', 'okay', '?', 'I', 'just', '...', 'I', 'just', '-', 'I', 'just', 'wan', 'na', 'be', 'married', 'again', '!', 'And', 'I', 'just', 'a', 'million', 'dollars', '!', 'Rachel', '?!', 'Oh', 'God', 'Monica', 'hi', '!', 'Thank', 'God', '!', 'I', 'just', 'went', 'to', 'your', 'building', 'and', 'you', 'were', \"n't\", 'there', 'and', 'then', 'this', 'guy', 'with', 'a', 'big', 'hammer', 'said', 'you', 'might', 'be', 'here', 'and', 'you', 'are', ',', 'you', 'are', '!', 'Can', 'I', 'get', 'you', 'some', 'coffee', '?', 'De-caff', '.', 'Okay', ',', 'everybody', ',', 'this', 'is', 'Rachel', ',', 'another', 'Lincoln', 'High', 'survivor', '.', 'This', 'is', 'everybody', ',', 'this', 'is', 'Chandler', ',', 'and', 'Phoebe', ',', 'and', 'Joey', ',', 'and', '-', 'you', 'remember', 'my', 'brother', 'Ross', '?', 'Hi', ',', 'sure', '!', 'Hi', '.', 'So', 'you', 'wan', 'na', 'tell', 'us', 'now', ',', 'or', 'are', 'we', 'waiting', 'for', 'four', 'wet', 'bridesmaids', '?', 'Oh', 'God', '...', 'well', ',', 'it', 'started', 'about', 'a', 'half', 'hour', 'before', 'the', 'wedding', '.', 'I', 'was', 'in', 'the', 'room', 'where', 'we', 'were', 'keeping', 'all', 'the', 'presents', ',', 'and', 'I', 'was', 'looking', 'at', 'this', 'gravy', 'boat', '.', 'This', 'really', 'Lamauge', 'gravy', 'boat', '.', 'When', 'all', 'of', 'a', 'sudden', '-', 'Sweet', \"'\", 'n', \"'\", 'Lo', '?', '-', 'I', 'realized', 'that', 'I', 'was', 'more', 'turned', 'on', 'by', 'this', 'gravy', 'boat', 'than', 'by', 'Barry', '!', 'And', 'then', 'I', 'got', 'really', 'freaked', 'out', ',', 'and', 'that', \"'s\", 'when', 'it', 'hit', 'me', ':', 'how', 'much', 'Barry', 'looks', 'like', 'Mr.', 'Potato', 'Head', '.', \"Y'know\", ',', 'I', 'mean', ',', 'I', 'always', 'knew', 'looked', 'familiar', ',', 'but', '...', 'Anyway', ',', 'I', 'just', 'had', 'to', 'get', 'out', 'of', 'there', ',', 'and', 'I', 'started', \"'\", 'Why', 'am', 'I', 'doing', 'this', ',', 'and', 'who', 'am', 'I', 'doing', 'this', 'for', '?', \"'\", '.', 'So', 'anyway', 'I', 'just', 'did', \"n't\", 'know', 'where', 'to', 'go', ',', 'and', 'I', 'know', 'that', 'you', 'and', 'I', 'have', 'kinda', 'drifted', 'apart', ',', 'but', 'you', \"'re\", 'the', 'only', 'person', 'I', 'knew', 'who', 'lived', 'here', 'in', 'the', 'city', '.', 'Who', 'was', \"n't\", 'invited', 'to', 'the', 'wedding', '.', 'Ooh', ',', 'I', 'was', 'kinda', 'hoping', 'that', 'would', \"n't\", 'be', 'an', 'issue', '...']}\n"
          ],
          "name": "stdout"
        }
      ]
    },
    {
      "cell_type": "markdown",
      "metadata": {
        "id": "s8mmhuEsFvRT",
        "colab_type": "text"
      },
      "source": [
        "# Assessing the Romantic Words and Genders"
      ]
    },
    {
      "cell_type": "code",
      "metadata": {
        "id": "HBfgwsitF0OQ",
        "colab_type": "code",
        "outputId": "16afdbff-b8d4-4853-bbc9-1bab164365f0",
        "colab": {
          "base_uri": "https://localhost:8080/",
          "height": 1000
        }
      },
      "source": [
        "[(scene_id, len(extract_romantic[scene_id]['romantic words']), len(extract_romantic[scene_id]['nonromantic words'])) for scene_id in extract_romantic.keys()]"
      ],
      "execution_count": 0,
      "outputs": [
        {
          "output_type": "execute_result",
          "data": {
            "text/plain": [
              "[('s01_e01_c01', 9, 867),\n",
              " ('s01_e01_c02', 6, 894),\n",
              " ('s01_e01_c03', 5, 54),\n",
              " ('s01_e01_c04', 1, 187),\n",
              " ('s01_e01_c05', 0, 139),\n",
              " ('s01_e01_c06', 1, 119),\n",
              " ('s01_e01_c07', 1, 273),\n",
              " ('s01_e01_c08', 2, 179),\n",
              " ('s01_e01_c09', 1, 40),\n",
              " ('s01_e01_c10', 0, 116),\n",
              " ('s01_e01_c11', 3, 529),\n",
              " ('s01_e01_c12', 2, 102),\n",
              " ('s01_e01_c13', 3, 232),\n",
              " ('s01_e01_c14', 3, 568),\n",
              " ('s01_e01_c15', 1, 185),\n",
              " ('s01_e02_c01', 5, 203),\n",
              " ('s01_e02_c02', 0, 228),\n",
              " ('s01_e02_c03', 4, 733),\n",
              " ('s01_e02_c04', 3, 521),\n",
              " ('s01_e02_c05', 3, 402),\n",
              " ('s01_e02_c06', 0, 122),\n",
              " ('s01_e02_c07', 0, 76),\n",
              " ('s01_e02_c08', 0, 165),\n",
              " ('s01_e02_c09', 4, 255),\n",
              " ('s01_e02_c10', 1, 363),\n",
              " ('s01_e02_c11', 1, 223),\n",
              " ('s01_e03_c01', 0, 298),\n",
              " ('s01_e03_c02', 1, 241),\n",
              " ('s01_e03_c03', 1, 604),\n",
              " ('s01_e03_c04', 0, 136),\n",
              " ('s01_e03_c05', 2, 452),\n",
              " ('s01_e03_c06', 1, 184),\n",
              " ('s01_e03_c07', 3, 178),\n",
              " ('s01_e03_c08', 0, 23),\n",
              " ('s01_e03_c09', 0, 283),\n",
              " ('s01_e03_c10', 1, 149),\n",
              " ('s01_e03_c11', 1, 167),\n",
              " ('s01_e03_c12', 6, 491),\n",
              " ('s01_e03_c13', 0, 53),\n",
              " ('s01_e03_c14', 2, 125),\n",
              " ('s01_e04_c01', 1, 157),\n",
              " ('s01_e04_c02', 3, 746),\n",
              " ('s01_e04_c03', 0, 163),\n",
              " ('s01_e04_c04', 0, 154),\n",
              " ('s01_e04_c05', 1, 293),\n",
              " ('s01_e04_c06', 0, 71),\n",
              " ('s01_e04_c07', 4, 311),\n",
              " ('s01_e04_c08', 1, 67),\n",
              " ('s01_e04_c09', 0, 127),\n",
              " ('s01_e04_c10', 2, 353),\n",
              " ('s01_e04_c11', 1, 90),\n",
              " ('s01_e04_c12', 1, 64),\n",
              " ('s01_e04_c13', 0, 210),\n",
              " ('s01_e04_c14', 1, 210),\n",
              " ('s01_e04_c15', 2, 217),\n",
              " ('s01_e04_c16', 0, 131),\n",
              " ('s01_e05_c01', 3, 161),\n",
              " ('s01_e05_c02', 4, 796),\n",
              " ('s01_e05_c03', 0, 168),\n",
              " ('s01_e05_c04', 1, 192),\n",
              " ('s01_e05_c05', 0, 71),\n",
              " ('s01_e05_c06', 2, 304),\n",
              " ('s01_e05_c07', 2, 426),\n",
              " ('s01_e05_c08', 0, 47),\n",
              " ('s01_e05_c09', 0, 91),\n",
              " ('s01_e05_c10', 0, 72),\n",
              " ('s01_e05_c11', 0, 73),\n",
              " ('s01_e05_c12', 0, 277),\n",
              " ('s01_e05_c13', 2, 274),\n",
              " ('s01_e05_c14', 0, 197),\n",
              " ('s01_e05_c15', 1, 191),\n",
              " ('s01_e05_c16', 2, 103),\n",
              " ('s01_e06_c01', 1, 134),\n",
              " ('s01_e06_c02', 6, 497),\n",
              " ('s01_e06_c03', 3, 649),\n",
              " ('s01_e06_c04', 2, 773),\n",
              " ('s01_e06_c05', 2, 294),\n",
              " ('s01_e06_c06', 0, 195),\n",
              " ('s01_e06_c07', 5, 432),\n",
              " ('s01_e06_c08', 1, 387),\n",
              " ('s01_e06_c09', 1, 68),\n",
              " ('s01_e07_c01', 1, 58),\n",
              " ('s01_e07_c02', 0, 8),\n",
              " ('s01_e07_c03', 1, 116),\n",
              " ('s01_e07_c04', 0, 152),\n",
              " ('s01_e07_c05', 0, 57),\n",
              " ('s01_e07_c06', 0, 68),\n",
              " ('s01_e07_c07', 0, 108),\n",
              " ('s01_e07_c08', 1, 653),\n",
              " ('s01_e07_c09', 0, 56),\n",
              " ('s01_e07_c10', 2, 291),\n",
              " ('s01_e07_c11', 3, 103),\n",
              " ('s01_e07_c12', 0, 59),\n",
              " ('s01_e07_c13', 0, 65),\n",
              " ('s01_e07_c14', 0, 103),\n",
              " ('s01_e07_c15', 0, 34),\n",
              " ('s01_e07_c16', 1, 175),\n",
              " ('s01_e07_c17', 1, 126),\n",
              " ('s01_e07_c18', 4, 352),\n",
              " ('s01_e07_c19', 0, 32),\n",
              " ('s01_e07_c20', 0, 100),\n",
              " ('s01_e07_c21', 0, 75),\n",
              " ('s01_e08_c01', 1, 124),\n",
              " ('s01_e08_c02', 1, 373),\n",
              " ('s01_e08_c03', 1, 278),\n",
              " ('s01_e08_c04', 1, 263),\n",
              " ('s01_e08_c05', 1, 44),\n",
              " ('s01_e08_c06', 0, 133),\n",
              " ('s01_e08_c07', 1, 212),\n",
              " ('s01_e08_c08', 2, 190),\n",
              " ('s01_e08_c09', 0, 132),\n",
              " ('s01_e08_c10', 2, 174),\n",
              " ('s01_e08_c11', 12, 552),\n",
              " ('s01_e08_c12', 0, 144),\n",
              " ('s01_e08_c13', 1, 174),\n",
              " ('s01_e09_c01', 3, 164),\n",
              " ('s01_e09_c02', 2, 522),\n",
              " ('s01_e09_c03', 1, 255),\n",
              " ('s01_e09_c04', 1, 354),\n",
              " ('s01_e09_c05', 1, 151),\n",
              " ('s01_e09_c06', 0, 27),\n",
              " ('s01_e09_c07', 0, 21),\n",
              " ('s01_e09_c08', 1, 479),\n",
              " ('s01_e09_c09', 0, 117),\n",
              " ('s01_e09_c10', 1, 187),\n",
              " ('s01_e09_c11', 1, 222),\n",
              " ('s01_e09_c12', 6, 731),\n",
              " ('s01_e09_c13', 0, 24),\n",
              " ('s01_e10_c01', 0, 180),\n",
              " ('s01_e10_c02', 4, 679),\n",
              " ('s01_e10_c03', 2, 465),\n",
              " ('s01_e10_c04', 5, 303),\n",
              " ('s01_e10_c05', 2, 410),\n",
              " ('s01_e10_c06', 0, 203),\n",
              " ('s01_e10_c07', 12, 1197),\n",
              " ('s01_e10_c08', 3, 57),\n",
              " ('s01_e11_c01', 0, 131),\n",
              " ('s01_e11_c02', 2, 203),\n",
              " ('s01_e11_c03', 6, 507),\n",
              " ('s01_e11_c04', 1, 65),\n",
              " ('s01_e11_c05', 7, 485),\n",
              " ('s01_e11_c06', 5, 418),\n",
              " ('s01_e11_c07', 0, 118),\n",
              " ('s01_e11_c08', 3, 319),\n",
              " ('s01_e11_c09', 2, 541),\n",
              " ('s01_e11_c10', 2, 281),\n",
              " ('s01_e11_c11', 8, 413),\n",
              " ('s01_e11_c12', 1, 116),\n",
              " ('s01_e12_c01', 0, 12),\n",
              " ('s01_e12_c02', 3, 376),\n",
              " ('s01_e12_c03', 2, 41),\n",
              " ('s01_e12_c04', 12, 417),\n",
              " ('s01_e12_c05', 1, 240),\n",
              " ('s01_e12_c06', 0, 145),\n",
              " ('s01_e12_c07', 1, 225),\n",
              " ('s01_e12_c08', 0, 157),\n",
              " ('s01_e12_c09', 1, 130),\n",
              " ('s01_e12_c10', 0, 212),\n",
              " ('s01_e12_c11', 2, 66),\n",
              " ('s01_e12_c12', 2, 280),\n",
              " ('s01_e12_c13', 0, 196),\n",
              " ('s01_e12_c14', 8, 545),\n",
              " ('s01_e12_c15', 0, 96),\n",
              " ('s01_e13_c01', 0, 71),\n",
              " ('s01_e13_c02', 4, 589),\n",
              " ('s01_e13_c03', 4, 206),\n",
              " ('s01_e13_c04', 4, 584),\n",
              " ('s01_e13_c05', 0, 99),\n",
              " ('s01_e13_c06', 7, 445),\n",
              " ('s01_e13_c07', 0, 227),\n",
              " ('s01_e13_c08', 0, 171),\n",
              " ('s01_e13_c09', 1, 129),\n",
              " ('s01_e13_c10', 4, 389),\n",
              " ('s01_e13_c11', 5, 218),\n",
              " ('s01_e13_c12', 1, 250),\n",
              " ('s01_e13_c13', 0, 49),\n",
              " ('s01_e14_c01', 3, 173),\n",
              " ('s01_e14_c02', 1, 236),\n",
              " ('s01_e14_c03', 1, 108),\n",
              " ('s01_e14_c04', 0, 120),\n",
              " ('s01_e14_c05', 2, 269),\n",
              " ('s01_e14_c06', 4, 378),\n",
              " ('s01_e14_c07', 0, 5),\n",
              " ('s01_e14_c08', 2, 164),\n",
              " ('s01_e14_c09', 1, 138),\n",
              " ('s01_e14_c10', 2, 162),\n",
              " ('s01_e14_c11', 1, 83),\n",
              " ('s01_e14_c12', 0, 221),\n",
              " ('s01_e14_c13', 0, 104),\n",
              " ('s01_e14_c14', 3, 232),\n",
              " ('s01_e14_c15', 3, 418),\n",
              " ('s01_e14_c16', 0, 61),\n",
              " ('s01_e14_c17', 0, 29),\n",
              " ('s01_e15_c01', 0, 46),\n",
              " ('s01_e15_c02', 2, 74),\n",
              " ('s01_e15_c03', 5, 428),\n",
              " ('s01_e15_c04', 9, 545),\n",
              " ('s01_e15_c05', 0, 44),\n",
              " ('s01_e15_c06', 0, 402),\n",
              " ('s01_e15_c07', 0, 55),\n",
              " ('s01_e15_c08', 12, 610),\n",
              " ('s01_e15_c09', 1, 109),\n",
              " ('s01_e15_c10', 0, 109),\n",
              " ('s01_e15_c11', 2, 506),\n",
              " ('s01_e15_c12', 2, 208),\n",
              " ('s01_e15_c13', 2, 58),\n",
              " ('s01_e15_c14', 0, 40),\n",
              " ('s01_e16_c01', 0, 146),\n",
              " ('s01_e16_c02', 1, 464),\n",
              " ('s01_e16_c03', 0, 171),\n",
              " ('s01_e16_c04', 2, 118),\n",
              " ('s01_e16_c05', 0, 359),\n",
              " ('s01_e16_c06', 0, 217),\n",
              " ('s01_e16_c07', 0, 96),\n",
              " ('s01_e16_c08', 0, 50),\n",
              " ('s01_e16_c09', 4, 235),\n",
              " ('s01_e16_c10', 1, 358),\n",
              " ('s01_e16_c11', 0, 204),\n",
              " ('s01_e16_c12', 3, 196),\n",
              " ('s01_e16_c13', 1, 151),\n",
              " ('s01_e16_c14', 2, 142),\n",
              " ('s01_e16_c15', 1, 401),\n",
              " ('s01_e16_c16', 1, 83),\n",
              " ('s01_e17_c01', 4, 343),\n",
              " ('s01_e17_c02', 4, 400),\n",
              " ('s01_e17_c03', 0, 101),\n",
              " ('s01_e17_c04', 1, 278),\n",
              " ('s01_e17_c05', 3, 341),\n",
              " ('s01_e17_c06', 2, 666),\n",
              " ('s01_e17_c07', 2, 293),\n",
              " ('s01_e17_c08', 1, 242),\n",
              " ('s01_e17_c09', 2, 112),\n",
              " ('s01_e17_c10', 0, 115),\n",
              " ('s01_e17_c11', 0, 131),\n",
              " ('s01_e17_c12', 1, 267),\n",
              " ('s01_e17_c13', 0, 121),\n",
              " ('s01_e17_c14', 0, 62),\n",
              " ('s01_e18_c01', 2, 483),\n",
              " ('s01_e18_c02', 6, 605),\n",
              " ('s01_e18_c03', 2, 136),\n",
              " ('s01_e18_c04', 0, 303),\n",
              " ('s01_e18_c05', 5, 279),\n",
              " ('s01_e18_c06', 0, 227),\n",
              " ('s01_e18_c07', 6, 1131),\n",
              " ('s01_e18_c08', 0, 72),\n",
              " ('s01_e19_c01', 0, 58),\n",
              " ('s01_e19_c02', 0, 120),\n",
              " ('s01_e19_c03', 3, 534),\n",
              " ('s01_e19_c04', 2, 202),\n",
              " ('s01_e19_c05', 4, 760),\n",
              " ('s01_e19_c06', 3, 1225),\n",
              " ('s01_e19_c07', 2, 324),\n",
              " ('s01_e19_c08', 1, 242),\n",
              " ('s01_e19_c09', 3, 125),\n",
              " ('s01_e20_c01', 0, 143),\n",
              " ('s01_e20_c02', 1, 606),\n",
              " ('s01_e20_c03', 0, 41),\n",
              " ('s01_e20_c04', 1, 221),\n",
              " ('s01_e20_c05', 1, 220),\n",
              " ('s01_e20_c06', 10, 563),\n",
              " ('s01_e20_c07', 3, 379),\n",
              " ('s01_e20_c08', 2, 386),\n",
              " ('s01_e20_c09', 0, 293),\n",
              " ('s01_e20_c10', 5, 448),\n",
              " ('s01_e20_c11', 1, 41),\n",
              " ('s01_e20_c12', 0, 238),\n",
              " ('s01_e21_c01', 1, 213),\n",
              " ('s01_e21_c02', 1, 186),\n",
              " ('s01_e21_c03', 0, 142),\n",
              " ('s01_e21_c04', 3, 160),\n",
              " ('s01_e21_c05', 0, 337),\n",
              " ('s01_e21_c06', 0, 88),\n",
              " ('s01_e21_c07', 3, 360),\n",
              " ('s01_e21_c08', 1, 375),\n",
              " ('s01_e21_c09', 1, 133),\n",
              " ('s01_e21_c10', 1, 258),\n",
              " ('s01_e21_c11', 1, 227),\n",
              " ('s01_e21_c12', 3, 279),\n",
              " ('s01_e21_c13', 0, 33),\n",
              " ('s01_e21_c14', 2, 283),\n",
              " ('s01_e21_c15', 0, 47),\n",
              " ('s01_e22_c01', 7, 190),\n",
              " ('s01_e22_c02', 2, 412),\n",
              " ('s01_e22_c03', 0, 155),\n",
              " ('s01_e22_c04', 1, 136),\n",
              " ('s01_e22_c05', 3, 412),\n",
              " ('s01_e22_c06', 0, 465),\n",
              " ('s01_e22_c07', 3, 149),\n",
              " ('s01_e22_c08', 2, 500),\n",
              " ('s01_e22_c09', 1, 180),\n",
              " ('s01_e22_c10', 3, 318),\n",
              " ('s01_e22_c11', 3, 99),\n",
              " ('s01_e22_c12', 0, 96),\n",
              " ('s01_e22_c13', 0, 172),\n",
              " ('s01_e23_c01', 2, 274),\n",
              " ('s01_e23_c02', 3, 239),\n",
              " ('s01_e23_c03', 4, 236),\n",
              " ('s01_e23_c04', 1, 319),\n",
              " ('s01_e23_c05', 3, 239),\n",
              " ('s01_e23_c06', 2, 270),\n",
              " ('s01_e23_c07', 0, 53),\n",
              " ('s01_e23_c08', 1, 181),\n",
              " ('s01_e23_c09', 0, 18),\n",
              " ('s01_e23_c10', 1, 83),\n",
              " ('s01_e23_c11', 0, 67),\n",
              " ('s01_e23_c12', 0, 42),\n",
              " ('s01_e23_c13', 0, 92),\n",
              " ('s01_e23_c14', 0, 211),\n",
              " ('s01_e23_c15', 0, 85),\n",
              " ('s01_e23_c16', 3, 300),\n",
              " ('s01_e23_c17', 2, 115),\n",
              " ('s01_e23_c18', 0, 109),\n",
              " ('s01_e23_c19', 4, 283),\n",
              " ('s01_e23_c20', 1, 176),\n",
              " ('s01_e23_c21', 3, 171),\n",
              " ('s01_e24_c01', 2, 274),\n",
              " ('s01_e24_c02', 10, 1190),\n",
              " ('s01_e24_c03', 3, 398),\n",
              " ('s01_e24_c04', 2, 231),\n",
              " ('s01_e24_c05', 0, 167),\n",
              " ('s01_e24_c06', 0, 342),\n",
              " ('s01_e24_c07', 2, 191),\n",
              " ('s01_e24_c08', 1, 227),\n",
              " ('s01_e24_c09', 0, 81),\n",
              " ('s01_e24_c10', 3, 424),\n",
              " ('s01_e24_c11', 2, 101),\n",
              " ('s02_e01_c01', 3, 148),\n",
              " ('s02_e01_c02', 0, 168),\n",
              " ('s02_e01_c03', 3, 489),\n",
              " ('s02_e01_c04', 1, 311),\n",
              " ('s02_e01_c05', 7, 473),\n",
              " ('s02_e01_c06', 0, 94),\n",
              " ('s02_e01_c07', 2, 361),\n",
              " ('s02_e01_c08', 2, 193),\n",
              " ('s02_e01_c09', 1, 31),\n",
              " ('s02_e01_c10', 1, 448),\n",
              " ('s02_e01_c11', 3, 400),\n",
              " ('s02_e01_c12', 0, 105),\n",
              " ('s02_e02_c01', 3, 279),\n",
              " ('s02_e02_c02', 5, 271),\n",
              " ('s02_e02_c03', 0, 142),\n",
              " ('s02_e02_c04', 1, 137),\n",
              " ('s02_e02_c05', 1, 83),\n",
              " ('s02_e02_c06', 3, 171),\n",
              " ('s02_e02_c07', 0, 137),\n",
              " ('s02_e02_c08', 3, 334),\n",
              " ('s02_e02_c09', 1, 245),\n",
              " ('s02_e02_c10', 2, 244),\n",
              " ('s02_e02_c11', 5, 308),\n",
              " ('s02_e02_c12', 0, 129),\n",
              " ('s02_e02_c13', 3, 287),\n",
              " ('s02_e02_c14', 0, 5),\n",
              " ('s02_e03_c01', 0, 351),\n",
              " ('s02_e03_c02', 1, 367),\n",
              " ('s02_e03_c03', 1, 123),\n",
              " ('s02_e03_c04', 1, 81),\n",
              " ('s02_e03_c05', 0, 120),\n",
              " ('s02_e03_c06', 0, 220),\n",
              " ('s02_e03_c07', 2, 121),\n",
              " ('s02_e03_c08', 2, 677),\n",
              " ('s02_e03_c09', 0, 50),\n",
              " ('s02_e03_c10', 0, 282),\n",
              " ('s02_e03_c11', 9, 784),\n",
              " ('s02_e04_c01', 0, 226),\n",
              " ('s02_e04_c02', 6, 550),\n",
              " ('s02_e04_c03', 3, 356),\n",
              " ('s02_e04_c04', 11, 435),\n",
              " ('s02_e04_c05', 0, 138),\n",
              " ('s02_e04_c06', 2, 154),\n",
              " ('s02_e04_c07', 4, 299),\n",
              " ('s02_e04_c08', 1, 370),\n",
              " ('s02_e04_c09', 0, 240),\n",
              " ('s02_e04_c10', 1, 116),\n",
              " ('s02_e04_c11', 3, 539),\n",
              " ('s02_e04_c12', 0, 13),\n",
              " ('s02_e05_c01', 2, 396),\n",
              " ('s02_e05_c02', 3, 682),\n",
              " ('s02_e05_c03', 3, 993),\n",
              " ('s02_e05_c04', 6, 718),\n",
              " ('s02_e05_c05', 0, 80),\n",
              " ('s02_e05_c06', 1, 164),\n",
              " ('s02_e05_c07', 0, 573),\n",
              " ('s02_e06_c01', 4, 558),\n",
              " ('s02_e06_c02', 3, 230),\n",
              " ('s02_e06_c03', 5, 240),\n",
              " ('s02_e06_c04', 9, 1516),\n",
              " ('s02_e06_c05', 1, 299),\n",
              " ('s02_e06_c06', 3, 477),\n",
              " ('s02_e07_c01', 1, 231),\n",
              " ('s02_e07_c02', 0, 26),\n",
              " ('s02_e07_c03', 0, 41),\n",
              " ('s02_e07_c04', 5, 648),\n",
              " ('s02_e07_c05', 0, 232),\n",
              " ('s02_e07_c06', 2, 113),\n",
              " ('s02_e07_c07', 3, 483),\n",
              " ('s02_e07_c08', 0, 101),\n",
              " ('s02_e07_c09', 4, 533),\n",
              " ('s02_e07_c10', 4, 297),\n",
              " ('s02_e07_c11', 2, 357),\n",
              " ('s02_e07_c12', 2, 270),\n",
              " ('s02_e08_c01', 4, 209),\n",
              " ('s02_e08_c02', 1, 15),\n",
              " ('s02_e08_c03', 7, 544),\n",
              " ('s02_e08_c04', 4, 274),\n",
              " ('s02_e08_c05', 0, 129),\n",
              " ('s02_e08_c06', 2, 331),\n",
              " ('s02_e08_c07', 0, 71),\n",
              " ('s02_e08_c08', 5, 762),\n",
              " ('s02_e08_c09', 0, 172),\n",
              " ('s02_e08_c10', 3, 447),\n",
              " ('s02_e08_c11', 0, 159),\n",
              " ('s02_e08_c12', 1, 178),\n",
              " ('s02_e08_c13', 1, 81),\n",
              " ('s02_e09_c01', 1, 264),\n",
              " ('s02_e09_c02', 4, 515),\n",
              " ('s02_e09_c03', 4, 352),\n",
              " ('s02_e09_c04', 1, 410),\n",
              " ('s02_e09_c05', 2, 253),\n",
              " ('s02_e09_c06', 0, 184),\n",
              " ('s02_e09_c07', 0, 333),\n",
              " ('s02_e09_c08', 0, 83),\n",
              " ('s02_e09_c09', 2, 464),\n",
              " ('s02_e09_c10', 1, 362),\n",
              " ('s02_e09_c11', 1, 129),\n",
              " ('s02_e09_c12', 0, 116),\n",
              " ('s02_e10_c01', 7, 620),\n",
              " ('s02_e10_c02', 0, 570),\n",
              " ('s02_e10_c03', 4, 268),\n",
              " ('s02_e10_c04', 3, 840),\n",
              " ('s02_e10_c05', 5, 337),\n",
              " ('s02_e10_c06', 1, 84),\n",
              " ('s02_e10_c07', 1, 312),\n",
              " ('s02_e10_c08', 4, 438),\n",
              " ('s02_e10_c09', 0, 125),\n",
              " ('s02_e11_c01', 3, 219),\n",
              " ('s02_e11_c02', 6, 476),\n",
              " ('s02_e11_c03', 2, 246),\n",
              " ('s02_e11_c04', 4, 416),\n",
              " ('s02_e11_c05', 6, 616),\n",
              " ('s02_e11_c06', 12, 652),\n",
              " ('s02_e11_c07', 2, 332),\n",
              " ('s02_e11_c08', 1, 153),\n",
              " ('s02_e11_c09', 1, 206),\n",
              " ('s02_e11_c10', 0, 50),\n",
              " ('s02_e11_c11', 0, 81),\n",
              " ('s02_e12_c01', 1, 193),\n",
              " ('s02_e12_c02', 3, 352),\n",
              " ('s02_e12_c03', 0, 159),\n",
              " ('s02_e12_c04', 0, 198),\n",
              " ('s02_e12_c05', 3, 412),\n",
              " ('s02_e12_c06', 3, 198),\n",
              " ('s02_e12_c07', 0, 44),\n",
              " ('s02_e12_c08', 0, 131),\n",
              " ('s02_e12_c09', 3, 191),\n",
              " ('s02_e12_c10', 1, 280),\n",
              " ('s02_e12_c11', 0, 119),\n",
              " ('s02_e12_c12', 4, 485),\n",
              " ('s02_e12_c13', 2, 96),\n",
              " ('s02_e12_c14', 3, 141),\n",
              " ('s02_e12_c15', 0, 180),\n",
              " ('s02_e13_c01', 4, 1012),\n",
              " ('s02_e13_c02', 2, 336),\n",
              " ('s02_e13_c03', 1, 158),\n",
              " ('s02_e13_c04', 0, 109),\n",
              " ('s02_e13_c05', 5, 252),\n",
              " ('s02_e13_c06', 4, 427),\n",
              " ('s02_e13_c07', 0, 124),\n",
              " ('s02_e13_c08', 0, 216),\n",
              " ('s02_e13_c09', 0, 236),\n",
              " ('s02_e13_c10', 1, 132),\n",
              " ('s02_e13_c11', 0, 104),\n",
              " ('s02_e13_c12', 1, 85),\n",
              " ('s02_e13_c13', 0, 73),\n",
              " ('s02_e14_c01', 4, 307),\n",
              " ('s02_e14_c02', 2, 240),\n",
              " ('s02_e14_c03', 5, 477),\n",
              " ('s02_e14_c04', 3, 211),\n",
              " ('s02_e14_c05', 2, 234),\n",
              " ('s02_e14_c06', 1, 482),\n",
              " ('s02_e14_c07', 1, 243),\n",
              " ('s02_e14_c08', 2, 273),\n",
              " ('s02_e14_c09', 0, 200),\n",
              " ('s02_e14_c10', 5, 844),\n",
              " ('s02_e14_c11', 0, 52),\n",
              " ('s02_e15_c01', 2, 125),\n",
              " ('s02_e15_c02', 1, 344),\n",
              " ('s02_e15_c03', 0, 278),\n",
              " ('s02_e15_c04', 0, 83),\n",
              " ('s02_e15_c05', 3, 257),\n",
              " ('s02_e15_c06', 5, 375),\n",
              " ('s02_e15_c07', 5, 313),\n",
              " ('s02_e15_c08', 0, 135),\n",
              " ('s02_e15_c09', 4, 391),\n",
              " ('s02_e15_c10', 0, 92),\n",
              " ('s02_e15_c11', 1, 235),\n",
              " ('s02_e15_c12', 0, 90),\n",
              " ('s02_e15_c13', 2, 148),\n",
              " ('s02_e15_c14', 0, 31),\n",
              " ('s02_e15_c15', 0, 22),\n",
              " ('s02_e16_c01', 0, 175),\n",
              " ('s02_e16_c02', 2, 417),\n",
              " ('s02_e16_c03', 1, 123),\n",
              " ('s02_e16_c04', 0, 103),\n",
              " ('s02_e16_c05', 1, 155),\n",
              " ('s02_e16_c06', 1, 148),\n",
              " ('s02_e16_c07', 1, 257),\n",
              " ('s02_e16_c08', 3, 274),\n",
              " ('s02_e16_c09', 6, 255),\n",
              " ('s02_e16_c10', 0, 44),\n",
              " ('s02_e16_c11', 2, 360),\n",
              " ('s02_e16_c12', 1, 173),\n",
              " ('s02_e16_c13', 3, 359),\n",
              " ('s02_e16_c14', 1, 306),\n",
              " ('s02_e16_c15', 0, 29),\n",
              " ('s02_e16_c16', 3, 264),\n",
              " ('s02_e17_c01', 2, 236),\n",
              " ('s02_e17_c02', 5, 268),\n",
              " ('s02_e17_c03', 2, 177),\n",
              " ('s02_e17_c04', 3, 245),\n",
              " ('s02_e17_c05', 2, 105),\n",
              " ('s02_e17_c06', 1, 126),\n",
              " ('s02_e17_c07', 4, 190),\n",
              " ('s02_e17_c08', 1, 232),\n",
              " ('s02_e17_c09', 1, 243),\n",
              " ('s02_e17_c10', 1, 155),\n",
              " ('s02_e17_c11', 3, 348),\n",
              " ('s02_e17_c12', 3, 461),\n",
              " ('s02_e17_c13', 1, 251),\n",
              " ('s02_e17_c14', 0, 134),\n",
              " ('s02_e17_c15', 0, 92),\n",
              " ('s02_e18_c01', 1, 140),\n",
              " ('s02_e18_c02', 1, 289),\n",
              " ('s02_e18_c03', 1, 228),\n",
              " ('s02_e18_c04', 1, 223),\n",
              " ('s02_e18_c05', 1, 184),\n",
              " ('s02_e18_c06', 0, 247),\n",
              " ('s02_e18_c07', 0, 20),\n",
              " ('s02_e18_c08', 0, 102),\n",
              " ('s02_e18_c09', 4, 341),\n",
              " ('s02_e18_c10', 0, 168),\n",
              " ('s02_e18_c11', 14, 752),\n",
              " ('s02_e18_c12', 4, 247),\n",
              " ('s02_e18_c13', 4, 363),\n",
              " ('s02_e18_c14', 0, 112),\n",
              " ('s02_e18_c15', 0, 25),\n",
              " ('s02_e19_c01', 8, 279),\n",
              " ('s02_e19_c02', 3, 420),\n",
              " ('s02_e19_c03', 1, 180),\n",
              " ('s02_e19_c04', 2, 247),\n",
              " ('s02_e19_c05', 3, 488),\n",
              " ('s02_e19_c06', 0, 174),\n",
              " ('s02_e19_c07', 0, 83),\n",
              " ('s02_e19_c08', 0, 31),\n",
              " ('s02_e19_c09', 4, 205),\n",
              " ('s02_e19_c10', 1, 199),\n",
              " ('s02_e19_c11', 0, 241),\n",
              " ('s02_e19_c12', 5, 302),\n",
              " ('s02_e19_c13', 2, 355),\n",
              " ('s02_e19_c14', 1, 260),\n",
              " ('s02_e19_c15', 0, 114),\n",
              " ('s02_e20_c01', 1, 215),\n",
              " ('s02_e20_c02', 2, 457),\n",
              " ('s02_e20_c03', 5, 299),\n",
              " ('s02_e20_c04', 2, 285),\n",
              " ('s02_e20_c05', 2, 325),\n",
              " ('s02_e20_c06', 1, 490),\n",
              " ('s02_e20_c07', 9, 983),\n",
              " ('s02_e20_c08', 1, 120),\n",
              " ('s02_e20_c09', 2, 448),\n",
              " ('s02_e20_c10', 1, 399),\n",
              " ('s02_e20_c11', 0, 154),\n",
              " ('s02_e21_c01', 3, 282),\n",
              " ('s02_e21_c02', 0, 270),\n",
              " ('s02_e21_c03', 1, 334),\n",
              " ('s02_e21_c04', 3, 287),\n",
              " ('s02_e21_c05', 2, 329),\n",
              " ('s02_e21_c06', 2, 177),\n",
              " ('s02_e21_c07', 2, 450),\n",
              " ('s02_e21_c08', 0, 277),\n",
              " ('s02_e21_c09', 4, 156),\n",
              " ('s02_e21_c10', 2, 516),\n",
              " ('s02_e21_c11', 3, 411),\n",
              " ('s02_e21_c12', 1, 121),\n",
              " ('s02_e21_c13', 0, 32),\n",
              " ('s02_e22_c01', 3, 194),\n",
              " ('s02_e22_c02', 1, 328),\n",
              " ('s02_e22_c03', 0, 589),\n",
              " ('s02_e22_c04', 6, 352),\n",
              " ('s02_e22_c05', 12, 1296),\n",
              " ('s02_e22_c06', 1, 322),\n",
              " ('s02_e22_c07', 3, 263),\n",
              " ('s02_e22_c08', 0, 63),\n",
              " ('s02_e23_c01', 1, 313),\n",
              " ('s02_e23_c02', 4, 291),\n",
              " ('s02_e23_c03', 3, 217),\n",
              " ('s02_e23_c04', 2, 79),\n",
              " ('s02_e23_c05', 6, 338),\n",
              " ('s02_e23_c06', 2, 204),\n",
              " ('s02_e23_c07', 2, 242),\n",
              " ('s02_e23_c08', 1, 328),\n",
              " ('s02_e23_c09', 1, 369),\n",
              " ('s02_e23_c10', 1, 365),\n",
              " ('s02_e23_c11', 2, 140),\n",
              " ('s02_e23_c12', 1, 150),\n",
              " ('s02_e23_c13', 2, 195),\n",
              " ('s02_e23_c14', 0, 108),\n",
              " ('s02_e24_c01', 4, 209),\n",
              " ('s02_e24_c02', 7, 195),\n",
              " ('s02_e24_c03', 6, 438),\n",
              " ('s02_e24_c04', 6, 293),\n",
              " ('s02_e24_c05', 3, 371),\n",
              " ('s02_e24_c06', 0, 81),\n",
              " ('s02_e24_c07', 1, 152),\n",
              " ('s02_e24_c08', 5, 366),\n",
              " ('s02_e24_c09', 3, 262),\n",
              " ('s02_e24_c10', 5, 571),\n",
              " ('s02_e24_c11', 2, 210),\n",
              " ('s02_e24_c12', 0, 116),\n",
              " ('s02_e24_c13', 1, 77),\n",
              " ('s03_e01_c01', 0, 24),\n",
              " ('s03_e01_c02', 2, 183),\n",
              " ('s03_e01_c03', 6, 251),\n",
              " ('s03_e01_c04', 3, 325),\n",
              " ('s03_e01_c05', 4, 174),\n",
              " ('s03_e01_c06', 3, 225),\n",
              " ('s03_e01_c07', 2, 366),\n",
              " ('s03_e01_c08', 1, 285),\n",
              " ('s03_e01_c09', 1, 267),\n",
              " ('s03_e01_c10', 3, 173),\n",
              " ('s03_e01_c11', 2, 429),\n",
              " ('s03_e01_c12', 5, 262),\n",
              " ('s03_e01_c13', 3, 274),\n",
              " ('s03_e01_c14', 2, 103),\n",
              " ('s03_e02_c01', 1, 236),\n",
              " ('s03_e02_c02', 6, 1395),\n",
              " ('s03_e02_c03', 14, 2406),\n",
              " ('s03_e02_c04', 0, 111),\n",
              " ('s03_e03_c01', 0, 19),\n",
              " ('s03_e03_c02', 3, 232),\n",
              " ('s03_e03_c03', 3, 357),\n",
              " ('s03_e03_c04', 11, 637),\n",
              " ('s03_e03_c05', 4, 579),\n",
              " ('s03_e03_c06', 1, 106),\n",
              " ('s03_e03_c07', 2, 197),\n",
              " ('s03_e03_c08', 4, 579),\n",
              " ('s03_e03_c09', 2, 75),\n",
              " ('s03_e03_c10', 0, 290),\n",
              " ('s03_e03_c11', 0, 293),\n",
              " ('s03_e03_c12', 2, 103),\n",
              " ('s03_e04_c01', 1, 189),\n",
              " ('s03_e04_c02', 3, 537),\n",
              " ('s03_e04_c03', 5, 756),\n",
              " ('s03_e04_c04', 5, 293),\n",
              " ('s03_e04_c05', 6, 436),\n",
              " ('s03_e04_c06', 4, 320),\n",
              " ('s03_e04_c07', 0, 423),\n",
              " ('s03_e04_c08', 1, 211),\n",
              " ('s03_e04_c09', 1, 236),\n",
              " ('s03_e04_c10', 1, 281),\n",
              " ('s03_e04_c11', 0, 237),\n",
              " ('s03_e04_c12', 0, 21),\n",
              " ('s03_e05_c01', 1, 117),\n",
              " ('s03_e05_c02', 0, 139),\n",
              " ('s03_e05_c03', 5, 454),\n",
              " ('s03_e05_c04', 2, 84),\n",
              " ('s03_e05_c05', 2, 219),\n",
              " ('s03_e05_c06', 1, 150),\n",
              " ('s03_e05_c07', 0, 184),\n",
              " ('s03_e05_c08', 0, 102),\n",
              " ('s03_e05_c09', 1, 275),\n",
              " ('s03_e05_c10', 0, 263),\n",
              " ('s03_e05_c11', 2, 126),\n",
              " ('s03_e05_c12', 2, 485),\n",
              " ('s03_e05_c13', 0, 190),\n",
              " ('s03_e05_c14', 3, 498),\n",
              " ('s03_e05_c15', 0, 95),\n",
              " ('s03_e06_c01', 1, 173),\n",
              " ('s03_e06_c02', 1, 436),\n",
              " ('s03_e06_c03', 0, 131),\n",
              " ('s03_e06_c04', 0, 107),\n",
              " ('s03_e06_c05', 0, 13),\n",
              " ('s03_e06_c06', 5, 581),\n",
              " ('s03_e06_c07', 1, 226),\n",
              " ('s03_e06_c08', 1, 203),\n",
              " ('s03_e06_c09', 1, 138),\n",
              " ('s03_e06_c10', 6, 274),\n",
              " ('s03_e06_c11', 1, 80),\n",
              " ('s03_e06_c12', 1, 120),\n",
              " ('s03_e06_c13', 2, 203),\n",
              " ('s03_e06_c14', 0, 102),\n",
              " ('s03_e06_c15', 1, 219),\n",
              " ('s03_e06_c16', 3, 75),\n",
              " ('s03_e07_c01', 3, 111),\n",
              " ('s03_e07_c02', 2, 212),\n",
              " ('s03_e07_c03', 4, 305),\n",
              " ('s03_e07_c04', 0, 121),\n",
              " ('s03_e07_c05', 0, 119),\n",
              " ('s03_e07_c06', 2, 366),\n",
              " ('s03_e07_c07', 0, 197),\n",
              " ('s03_e07_c08', 4, 441),\n",
              " ('s03_e07_c09', 1, 203),\n",
              " ('s03_e07_c10', 2, 389),\n",
              " ('s03_e07_c11', 2, 208),\n",
              " ('s03_e07_c12', 0, 50),\n",
              " ('s03_e07_c13', 2, 74),\n",
              " ('s03_e07_c14', 5, 428),\n",
              " ('s03_e07_c15', 0, 149),\n",
              " ('s03_e07_c16', 0, 99),\n",
              " ('s03_e07_c17', 0, 32),\n",
              " ('s03_e08_c01', 3, 279),\n",
              " ('s03_e08_c02', 1, 218),\n",
              " ('s03_e08_c03', 3, 271),\n",
              " ('s03_e08_c04', 5, 375),\n",
              " ('s03_e08_c05', 5, 328),\n",
              " ('s03_e08_c06', 2, 267),\n",
              " ('s03_e08_c07', 8, 277),\n",
              " ('s03_e08_c08', 0, 290),\n",
              " ('s03_e08_c09', 4, 286),\n",
              " ('s03_e08_c10', 1, 293),\n",
              " ('s03_e08_c11', 8, 367),\n",
              " ('s03_e08_c12', 1, 174),\n",
              " ('s03_e08_c13', 4, 83),\n",
              " ('s03_e09_c01', 2, 65),\n",
              " ('s03_e09_c02', 4, 565),\n",
              " ('s03_e09_c03', 9, 1421),\n",
              " ('s03_e09_c04', 7, 1463),\n",
              " ('s03_e09_c05', 1, 76),\n",
              " ('s03_e09_c06', 1, 56),\n",
              " ('s03_e10_c01', 2, 100),\n",
              " ('s03_e10_c02', 0, 90),\n",
              " ('s03_e10_c03', 2, 393),\n",
              " ('s03_e10_c04', 4, 351),\n",
              " ('s03_e10_c05', 1, 142),\n",
              " ('s03_e10_c06', 0, 173),\n",
              " ('s03_e10_c07', 13, 682),\n",
              " ('s03_e10_c08', 8, 616),\n",
              " ('s03_e10_c09', 3, 262),\n",
              " ('s03_e10_c10', 0, 197),\n",
              " ('s03_e10_c11', 1, 167),\n",
              " ('s03_e10_c12', 2, 103),\n",
              " ('s03_e10_c13', 1, 111),\n",
              " ('s03_e10_c14', 0, 40),\n",
              " ('s03_e10_c15', 0, 104),\n",
              " ('s03_e11_c01', 1, 308),\n",
              " ('s03_e11_c02', 2, 225),\n",
              " ('s03_e11_c03', 3, 137),\n",
              " ('s03_e11_c04', 3, 269),\n",
              " ('s03_e11_c05', 3, 636),\n",
              " ('s03_e11_c06', 1, 173),\n",
              " ('s03_e11_c07', 0, 321),\n",
              " ('s03_e11_c08', 1, 91),\n",
              " ('s03_e11_c09', 0, 167),\n",
              " ('s03_e11_c10', 1, 121),\n",
              " ('s03_e11_c11', 7, 514),\n",
              " ('s03_e11_c12', 1, 578),\n",
              " ('s03_e11_c13', 1, 168),\n",
              " ('s03_e11_c14', 1, 180),\n",
              " ('s03_e12_c01', 4, 391),\n",
              " ('s03_e12_c02', 2, 184),\n",
              " ('s03_e12_c03', 7, 267),\n",
              " ('s03_e12_c04', 0, 206),\n",
              " ('s03_e12_c05', 3, 108),\n",
              " ('s03_e12_c06', 3, 467),\n",
              " ('s03_e12_c07', 4, 162),\n",
              " ('s03_e12_c08', 1, 156),\n",
              " ('s03_e12_c09', 0, 275),\n",
              " ('s03_e12_c10', 1, 170),\n",
              " ('s03_e12_c11', 1, 146),\n",
              " ('s03_e12_c12', 0, 64),\n",
              " ('s03_e12_c13', 2, 192),\n",
              " ('s03_e12_c14', 0, 70),\n",
              " ('s03_e12_c15', 7, 570),\n",
              " ('s03_e12_c16', 0, 73),\n",
              " ('s03_e13_c01', 0, 177),\n",
              " ('s03_e13_c02', 0, 126),\n",
              " ('s03_e13_c03', 8, 423),\n",
              " ('s03_e13_c04', 0, 348),\n",
              " ('s03_e13_c05', 2, 253),\n",
              " ('s03_e13_c06', 0, 169),\n",
              " ('s03_e13_c07', 2, 321),\n",
              " ('s03_e13_c08', 0, 83),\n",
              " ('s03_e13_c09', 1, 113),\n",
              " ('s03_e13_c10', 3, 445),\n",
              " ('s03_e13_c11', 1, 75),\n",
              " ('s03_e13_c12', 0, 224),\n",
              " ('s03_e13_c13', 7, 421),\n",
              " ('s03_e13_c14', 1, 45),\n",
              " ('s03_e14_c01', 1, 186),\n",
              " ('s03_e14_c02', 1, 295),\n",
              " ('s03_e14_c03', 0, 165),\n",
              " ('s03_e14_c04', 0, 47),\n",
              " ('s03_e14_c05', 2, 176),\n",
              " ('s03_e14_c06', 1, 476),\n",
              " ('s03_e14_c07', 1, 105),\n",
              " ('s03_e14_c08', 6, 297),\n",
              " ('s03_e14_c09', 2, 143),\n",
              " ('s03_e14_c10', 1, 93),\n",
              " ('s03_e14_c11', 1, 42),\n",
              " ('s03_e14_c12', 1, 158),\n",
              " ('s03_e14_c13', 0, 17),\n",
              " ('s03_e14_c14', 1, 217),\n",
              " ('s03_e14_c15', 7, 454),\n",
              " ('s03_e14_c16', 1, 197),\n",
              " ('s03_e14_c17', 3, 192),\n",
              " ('s03_e14_c18', 1, 112),\n",
              " ('s03_e14_c19', 0, 102),\n",
              " ('s03_e15_c01', 4, 327),\n",
              " ('s03_e15_c02', 2, 153),\n",
              " ('s03_e15_c03', 1, 126),\n",
              " ('s03_e15_c04', 3, 358),\n",
              " ('s03_e15_c05', 4, 299),\n",
              " ('s03_e15_c06', 4, 490),\n",
              " ('s03_e15_c07', 6, 437),\n",
              " ('s03_e15_c08', 3, 176),\n",
              " ('s03_e15_c09', 4, 266),\n",
              " ('s03_e15_c10', 0, 147),\n",
              " ('s03_e15_c11', 1, 118),\n",
              " ('s03_e15_c12', 4, 259),\n",
              " ('s03_e15_c13', 4, 235),\n",
              " ('s03_e15_c14', 0, 41),\n",
              " ('s03_e15_c15', 0, 39),\n",
              " ('s03_e15_c16', 0, 4),\n",
              " ('s03_e15_c17', 0, 40),\n",
              " ('s03_e16_c01', 1, 120),\n",
              " ('s03_e16_c02', 4, 84),\n",
              " ('s03_e16_c03', 0, 17),\n",
              " ('s03_e16_c04', 2, 132),\n",
              " ('s03_e16_c05', 0, 2),\n",
              " ('s03_e16_c06', 5, 347),\n",
              " ('s03_e16_c07', 2, 192),\n",
              " ('s03_e16_c08', 1, 396),\n",
              " ('s03_e16_c09', 0, 159),\n",
              " ('s03_e16_c10', 3, 287),\n",
              " ('s03_e16_c11', 2, 127),\n",
              " ('s03_e16_c12', 0, 36),\n",
              " ('s03_e16_c13', 22, 1861),\n",
              " ('s03_e16_c14', 0, 32),\n",
              " ('s03_e17_c01', 4, 492),\n",
              " ('s03_e17_c02', 4, 457),\n",
              " ('s03_e17_c03', 3, 376),\n",
              " ('s03_e17_c04', 0, 147),\n",
              " ('s03_e17_c05', 0, 108),\n",
              " ('s03_e17_c06', 2, 379),\n",
              " ('s03_e17_c07', 4, 253),\n",
              " ('s03_e17_c08', 0, 294),\n",
              " ('s03_e17_c09', 5, 406),\n",
              " ('s03_e17_c10', 4, 862),\n",
              " ('s03_e17_c11', 1, 131),\n",
              " ('s03_e18_c01', 0, 285),\n",
              " ('s03_e18_c02', 5, 592),\n",
              " ('s03_e18_c03', 2, 50),\n",
              " ('s03_e18_c04', 2, 260),\n",
              " ('s03_e18_c05', 2, 359),\n",
              " ('s03_e18_c06', 1, 335),\n",
              " ('s03_e18_c07', 4, 341),\n",
              " ('s03_e18_c08', 1, 33),\n",
              " ('s03_e18_c09', 0, 144),\n",
              " ('s03_e18_c10', 2, 365),\n",
              " ('s03_e18_c11', 3, 475),\n",
              " ('s03_e18_c12', 1, 142),\n",
              " ('s03_e18_c13', 0, 59),\n",
              " ('s03_e18_c14', 3, 41),\n",
              " ('s03_e18_c15', 4, 236),\n",
              " ('s03_e18_c16', 3, 49),\n",
              " ('s03_e19_c01', 2, 160),\n",
              " ('s03_e19_c02', 0, 293),\n",
              " ('s03_e19_c03', 1, 255),\n",
              " ('s03_e19_c04', 0, 162),\n",
              " ('s03_e19_c05', 2, 146),\n",
              " ('s03_e19_c06', 3, 401),\n",
              " ('s03_e19_c07', 0, 220),\n",
              " ('s03_e19_c08', 1, 202),\n",
              " ('s03_e19_c09', 0, 59),\n",
              " ('s03_e19_c10', 6, 398),\n",
              " ('s03_e19_c11', 3, 201),\n",
              " ('s03_e19_c12', 2, 340),\n",
              " ('s03_e19_c13', 1, 214),\n",
              " ('s03_e19_c14', 1, 181),\n",
              " ('s03_e19_c15', 0, 153),\n",
              " ('s03_e19_c16', 0, 62),\n",
              " ('s03_e20_c01', 5, 329),\n",
              " ('s03_e20_c02', 4, 276),\n",
              " ('s03_e20_c03', 5, 469),\n",
              " ('s03_e20_c04', 2, 213),\n",
              " ('s03_e20_c05', 1, 203),\n",
              " ('s03_e20_c06', 0, 111),\n",
              " ('s03_e20_c07', 11, 547),\n",
              " ('s03_e20_c08', 4, 274),\n",
              " ('s03_e20_c09', 0, 141),\n",
              " ('s03_e20_c10', 4, 274),\n",
              " ('s03_e20_c11', 0, 21),\n",
              " ('s03_e20_c12', 0, 188),\n",
              " ('s03_e20_c13', 1, 125),\n",
              " ('s03_e20_c14', 1, 304),\n",
              " ('s03_e20_c15', 1, 103),\n",
              " ('s03_e21_c01', 0, 74),\n",
              " ('s03_e21_c02', 1, 243),\n",
              " ('s03_e21_c03', 1, 136),\n",
              " ('s03_e21_c04', 3, 327),\n",
              " ('s03_e21_c05', 3, 147),\n",
              " ('s03_e21_c06', 0, 438),\n",
              " ('s03_e21_c07', 3, 384),\n",
              " ('s03_e21_c08', 0, 232),\n",
              " ('s03_e21_c09', 3, 235),\n",
              " ('s03_e21_c10', 0, 157),\n",
              " ('s03_e21_c11', 3, 484),\n",
              " ('s03_e21_c12', 0, 136),\n",
              " ('s03_e21_c13', 1, 185),\n",
              " ('s03_e21_c14', 3, 276),\n",
              " ('s03_e21_c15', 1, 265),\n",
              " ('s03_e21_c16', 0, 70),\n",
              " ('s03_e22_c01', 4, 423),\n",
              " ('s03_e22_c02', 2, 203),\n",
              " ('s03_e22_c03', 1, 341),\n",
              " ('s03_e22_c04', 3, 562),\n",
              " ('s03_e22_c05', 0, 72),\n",
              " ('s03_e22_c06', 0, 166),\n",
              " ('s03_e22_c07', 3, 248),\n",
              " ('s03_e22_c08', 2, 280),\n",
              " ('s03_e22_c09', 2, 400),\n",
              " ('s03_e22_c10', 0, 150),\n",
              " ('s03_e22_c11', 0, 244),\n",
              " ('s03_e22_c12', 3, 303),\n",
              " ('s03_e22_c13', 0, 156),\n",
              " ('s03_e23_c01', 1, 239),\n",
              " ('s03_e23_c02', 2, 529),\n",
              " ('s03_e23_c03', 2, 145),\n",
              " ('s03_e23_c04', 0, 147),\n",
              " ('s03_e23_c05', 1, 275),\n",
              " ('s03_e23_c06', 0, 46),\n",
              " ('s03_e23_c07', 7, 498),\n",
              " ('s03_e23_c08', 0, 312),\n",
              " ('s03_e23_c09', 0, 163),\n",
              " ('s03_e23_c10', 6, 399),\n",
              " ('s03_e23_c11', 0, 31),\n",
              " ('s03_e23_c12', 1, 246),\n",
              " ('s03_e23_c13', 7, 242),\n",
              " ('s03_e23_c14', 1, 410),\n",
              " ('s03_e23_c15', 0, 100),\n",
              " ('s03_e24_c01', 1, 423),\n",
              " ('s03_e24_c02', 2, 216),\n",
              " ('s03_e24_c03', 0, 135),\n",
              " ('s03_e24_c04', 1, 442),\n",
              " ('s03_e24_c05', 4, 240),\n",
              " ('s03_e24_c06', 1, 242),\n",
              " ('s03_e24_c07', 1, 134),\n",
              " ('s03_e24_c08', 1, 174),\n",
              " ('s03_e24_c09', 0, 267),\n",
              " ('s03_e24_c10', 0, 267),\n",
              " ('s03_e24_c11', 1, 272),\n",
              " ('s03_e24_c12', 3, 357),\n",
              " ('s03_e24_c13', 1, 310),\n",
              " ('s03_e24_c14', 2, 155),\n",
              " ('s03_e24_c15', 1, 131),\n",
              " ('s03_e25_c01', 2, 298),\n",
              " ('s03_e25_c02', 0, 389),\n",
              " ('s03_e25_c03', 1, 51),\n",
              " ('s03_e25_c04', 2, 375),\n",
              " ('s03_e25_c05', 4, 846),\n",
              " ('s03_e25_c06', 0, 171),\n",
              " ('s03_e25_c07', 1, 172),\n",
              " ('s03_e25_c08', 1, 211),\n",
              " ('s03_e25_c09', 5, 380),\n",
              " ('s03_e25_c10', 2, 270),\n",
              " ('s03_e25_c11', 5, 285),\n",
              " ('s03_e25_c12', 0, 2),\n",
              " ('s03_e25_c13', 0, 60),\n",
              " ('s04_e01_c01', 0, 201),\n",
              " ('s04_e01_c02', 1, 355),\n",
              " ('s04_e01_c03', 2, 126),\n",
              " ('s04_e01_c04', 2, 171),\n",
              " ('s04_e01_c05', 4, 191),\n",
              " ('s04_e01_c06', 2, 233),\n",
              " ('s04_e01_c07', 0, 113),\n",
              " ('s04_e01_c08', 2, 246),\n",
              " ('s04_e01_c09', 0, 185),\n",
              " ('s04_e01_c10', 2, 441),\n",
              " ('s04_e01_c11', 2, 358),\n",
              " ('s04_e01_c12', 1, 371),\n",
              " ('s04_e01_c13', 1, 68),\n",
              " ('s04_e01_c14', 1, 68),\n",
              " ('s04_e02_c01', 0, 124),\n",
              " ('s04_e02_c02', 3, 292),\n",
              " ('s04_e02_c03', 2, 405),\n",
              " ('s04_e02_c04', 5, 314),\n",
              " ('s04_e02_c05', 1, 316),\n",
              " ('s04_e02_c06', 2, 109),\n",
              " ('s04_e02_c07', 0, 188),\n",
              " ('s04_e02_c08', 0, 88),\n",
              " ('s04_e02_c09', 1, 120),\n",
              " ('s04_e02_c10', 0, 151),\n",
              " ('s04_e02_c11', 0, 198),\n",
              " ('s04_e02_c12', 0, 120),\n",
              " ('s04_e02_c13', 2, 138),\n",
              " ('s04_e02_c14', 7, 584),\n",
              " ('s04_e02_c15', 0, 0),\n",
              " ('s04_e03_c01', 0, 83),\n",
              " ('s04_e03_c02', 1, 112),\n",
              " ('s04_e03_c03', 1, 270),\n",
              " ('s04_e03_c04', 0, 189),\n",
              " ...]"
            ]
          },
          "metadata": {
            "tags": []
          },
          "execution_count": 70
        }
      ]
    },
    {
      "cell_type": "code",
      "metadata": {
        "id": "06QY4EE7XmVv",
        "colab_type": "code",
        "outputId": "23b2258a-f89a-4522-c7c7-811a87293a00",
        "colab": {
          "base_uri": "https://localhost:8080/",
          "height": 167
        }
      },
      "source": [
        "d4 = dict(all_ce)\n",
        "d4.update(extract_romantic)"
      ],
      "execution_count": 0,
      "outputs": [
        {
          "output_type": "error",
          "ename": "NameError",
          "evalue": "ignored",
          "traceback": [
            "\u001b[0;31m---------------------------------------------------------------------------\u001b[0m",
            "\u001b[0;31mNameError\u001b[0m                                 Traceback (most recent call last)",
            "\u001b[0;32m<ipython-input-71-61cf7a55aee9>\u001b[0m in \u001b[0;36m<module>\u001b[0;34m()\u001b[0m\n\u001b[0;32m----> 1\u001b[0;31m \u001b[0mpd\u001b[0m\u001b[0;34m.\u001b[0m\u001b[0mDataframe\u001b[0m\u001b[0;34m(\u001b[0m\u001b[0mappend\u001b[0m\u001b[0;34m)\u001b[0m\u001b[0;34m\u001b[0m\u001b[0;34m\u001b[0m\u001b[0m\n\u001b[0m",
            "\u001b[0;31mNameError\u001b[0m: name 'pd' is not defined"
          ]
        }
      ]
    },
    {
      "cell_type": "markdown",
      "metadata": {
        "id": "Y0WxYF6jbY5l",
        "colab_type": "text"
      },
      "source": [
        "## Adding corpus-level metadata\n",
        "\n",
        "We add the name of the corpus."
      ]
    },
    {
      "cell_type": "code",
      "metadata": {
        "id": "8oGMAvEza5hL",
        "colab_type": "code",
        "colab": {}
      },
      "source": [
        "friends_corpus.meta['name'] = 'Friends Dataset'"
      ],
      "execution_count": 0,
      "outputs": []
    },
    {
      "cell_type": "markdown",
      "metadata": {
        "id": "LiUf8K6hTNjV",
        "colab_type": "text"
      },
      "source": [
        "# Create the corpus dump"
      ]
    },
    {
      "cell_type": "markdown",
      "metadata": {
        "id": "AaM2QdLJ4kPl",
        "colab_type": "text"
      },
      "source": [
        "If working in a locally mounted notebook:"
      ]
    },
    {
      "cell_type": "code",
      "metadata": {
        "id": "PtD1v0Jo4nf7",
        "colab_type": "code",
        "colab": {}
      },
      "source": [
        "friends_corpus.dump(\"friends-corpus\", base_path = \"YOUR_BASE_PATH/datasets/friends-corpus\")"
      ],
      "execution_count": 0,
      "outputs": []
    },
    {
      "cell_type": "markdown",
      "metadata": {
        "id": "uygI-2aU2PKn",
        "colab_type": "text"
      },
      "source": [
        "If working in Google Colab, first mount your Google Drive, then dump:"
      ]
    },
    {
      "cell_type": "code",
      "metadata": {
        "id": "aMcBSeS2xumI",
        "colab_type": "code",
        "outputId": "bb123206-1a9d-47e9-e085-f3c4b8744d5c",
        "colab": {
          "base_uri": "https://localhost:8080/",
          "height": 122
        }
      },
      "source": [
        "from zipfile import ZipFile\n",
        "import os\n",
        "import google\n",
        "from google.colab import drive\n",
        "\n",
        "drive.mount('/content/gdrive')"
      ],
      "execution_count": 0,
      "outputs": [
        {
          "output_type": "stream",
          "text": [
            "Go to this URL in a browser: https://accounts.google.com/o/oauth2/auth?client_id=947318989803-6bn6qk8qdgf4n4g3pfee6491hc0brc4i.apps.googleusercontent.com&redirect_uri=urn%3Aietf%3Awg%3Aoauth%3A2.0%3Aoob&scope=email%20https%3A%2F%2Fwww.googleapis.com%2Fauth%2Fdocs.test%20https%3A%2F%2Fwww.googleapis.com%2Fauth%2Fdrive%20https%3A%2F%2Fwww.googleapis.com%2Fauth%2Fdrive.photos.readonly%20https%3A%2F%2Fwww.googleapis.com%2Fauth%2Fpeopleapi.readonly&response_type=code\n",
            "\n",
            "Enter your authorization code:\n",
            "··········\n",
            "Mounted at /content/gdrive\n"
          ],
          "name": "stdout"
        }
      ]
    },
    {
      "cell_type": "code",
      "metadata": {
        "id": "c1TGJ37nzKUh",
        "colab_type": "code",
        "colab": {}
      },
      "source": [
        "friends_corpus.dump(\"friends-corpus\", base_path = \"gdrive/My Drive/F19-CS6742/\")"
      ],
      "execution_count": 0,
      "outputs": []
    },
    {
      "cell_type": "code",
      "metadata": {
        "id": "aN2CraqRaUYb",
        "colab_type": "code",
        "colab": {}
      },
      "source": [
        "with ZipFile(\"gdrive/My Drive/CS6742/friends-corpus.zip\", 'w') as zip_f:\n",
        "  for fname in os.listdir(\"gdrive/My Drive/CS6742/friends-corpus\"):\n",
        "    zip_f.write(\"gdrive/My Drive/CS6742/friends-corpus/\"+fname)"
      ],
      "execution_count": 0,
      "outputs": []
    },
    {
      "cell_type": "markdown",
      "metadata": {
        "id": "tTkbNmO36I4Z",
        "colab_type": "text"
      },
      "source": [
        "# Assessing Politeness Strategies\n",
        "\n",
        "In this step (A1 part D2) we apply the ConvoKit politeness transformer to the utterances in our dataset."
      ]
    },
    {
      "cell_type": "markdown",
      "metadata": {
        "id": "LLQyM3JTCeDk",
        "colab_type": "text"
      },
      "source": [
        "## Setup: Install spacy and nltk\n",
        "\n",
        "ConvoKit transformers expect installations of:\n",
        "- spacy, with its `en` model\n",
        "- nltk, with its `punkt` library"
      ]
    },
    {
      "cell_type": "code",
      "metadata": {
        "id": "HApq39wM83XA",
        "colab_type": "code",
        "colab": {
          "base_uri": "https://localhost:8080/",
          "height": 377
        },
        "outputId": "b856ed02-8285-4406-c28b-1a39b325ebb0"
      },
      "source": [
        "!python -m spacy download en"
      ],
      "execution_count": 27,
      "outputs": [
        {
          "output_type": "stream",
          "text": [
            "Collecting en_core_web_sm==2.0.0 from https://github.com/explosion/spacy-models/releases/download/en_core_web_sm-2.0.0/en_core_web_sm-2.0.0.tar.gz#egg=en_core_web_sm==2.0.0\n",
            "\u001b[?25l  Downloading https://github.com/explosion/spacy-models/releases/download/en_core_web_sm-2.0.0/en_core_web_sm-2.0.0.tar.gz (37.4MB)\n",
            "\u001b[K     |████████████████████████████████| 37.4MB 49.9MB/s \n",
            "\u001b[?25hBuilding wheels for collected packages: en-core-web-sm\n",
            "  Building wheel for en-core-web-sm (setup.py) ... \u001b[?25l\u001b[?25hdone\n",
            "  Created wheel for en-core-web-sm: filename=en_core_web_sm-2.0.0-cp36-none-any.whl size=37405977 sha256=e52c9a72137ccf59580ba1bd6a573a738dbe9d0ae2b40006f91a5cd628cf54f1\n",
            "  Stored in directory: /tmp/pip-ephem-wheel-cache-2302kkhn/wheels/54/7c/d8/f86364af8fbba7258e14adae115f18dd2c91552406edc3fdaa\n",
            "Successfully built en-core-web-sm\n",
            "Installing collected packages: en-core-web-sm\n",
            "  Found existing installation: en-core-web-sm 2.1.0\n",
            "    Uninstalling en-core-web-sm-2.1.0:\n",
            "      Successfully uninstalled en-core-web-sm-2.1.0\n",
            "Successfully installed en-core-web-sm-2.0.0\n",
            "\n",
            "\u001b[93m    Linking successful\u001b[0m\n",
            "    /usr/local/lib/python3.6/dist-packages/en_core_web_sm -->\n",
            "    /usr/local/lib/python3.6/dist-packages/spacy/data/en\n",
            "\n",
            "    You can now load the model via spacy.load('en')\n",
            "\n"
          ],
          "name": "stdout"
        }
      ]
    },
    {
      "cell_type": "code",
      "metadata": {
        "id": "fUMoF6H89Atd",
        "colab_type": "code",
        "colab": {
          "base_uri": "https://localhost:8080/",
          "height": 34
        },
        "outputId": "8c6e6136-0e22-4e08-c9ea-02bd8803205c"
      },
      "source": [
        "import spacy\n",
        "spacy.load('en')"
      ],
      "execution_count": 30,
      "outputs": [
        {
          "output_type": "execute_result",
          "data": {
            "text/plain": [
              "<spacy.lang.en.English at 0x7f740a3aa780>"
            ]
          },
          "metadata": {
            "tags": []
          },
          "execution_count": 30
        }
      ]
    },
    {
      "cell_type": "code",
      "metadata": {
        "id": "zspupbw6AqQ_",
        "colab_type": "code",
        "colab": {
          "base_uri": "https://localhost:8080/",
          "height": 68
        },
        "outputId": "61109616-a497-48a9-e73f-a604f1d51612"
      },
      "source": [
        "import nltk\n",
        "nltk.download('punkt')"
      ],
      "execution_count": 38,
      "outputs": [
        {
          "output_type": "stream",
          "text": [
            "[nltk_data] Downloading package punkt to /root/nltk_data...\n",
            "[nltk_data]   Unzipping tokenizers/punkt.zip.\n"
          ],
          "name": "stderr"
        },
        {
          "output_type": "execute_result",
          "data": {
            "text/plain": [
              "True"
            ]
          },
          "metadata": {
            "tags": []
          },
          "execution_count": 38
        }
      ]
    },
    {
      "cell_type": "markdown",
      "metadata": {
        "id": "nJ_GLtu6Cqo7",
        "colab_type": "text"
      },
      "source": [
        "## 1) Construct parsed versions of each utterance for downstream use in the transformer."
      ]
    },
    {
      "cell_type": "code",
      "metadata": {
        "id": "k6dTEnwE6Qpf",
        "colab_type": "code",
        "colab": {}
      },
      "source": [
        "from convokit.parser.parser import Parser\n",
        "parser = Parser()\n",
        "parsed_corpus = parser.transform(corpus=friends_corpus)"
      ],
      "execution_count": 0,
      "outputs": []
    },
    {
      "cell_type": "code",
      "metadata": {
        "id": "oSMAYdYDBAOW",
        "colab_type": "code",
        "colab": {}
      },
      "source": [
        "uids = friends_corpus.get_utterance_ids()"
      ],
      "execution_count": 0,
      "outputs": []
    },
    {
      "cell_type": "code",
      "metadata": {
        "id": "1Mhggkzr9L14",
        "colab_type": "code",
        "colab": {
          "base_uri": "https://localhost:8080/",
          "height": 54
        },
        "outputId": "e223e027-a745-4309-fa7d-29347dd7d0a9"
      },
      "source": [
        "parsed_corpus.get_utterance(uids[0])"
      ],
      "execution_count": 42,
      "outputs": [
        {
          "output_type": "execute_result",
          "data": {
            "text/plain": [
              "Utterance({'id': 's01_e01_c01_u001', 'user': User([('name', 'Monica Geller')]), 'root': 's01_e01_c01_u001', 'reply_to': None, 'timestamp': None, 'text': \"There's nothing to tell! He's just some guy I work with!\", 'meta': {'tokens': [['There', \"'s\", 'nothing', 'to', 'tell', '!'], ['He', \"'s\", 'just', 'some', 'guy', 'I', 'work', 'with', '!']], 'character_entities': [[], [[0, 1, 'Paul the Wine Guy'], [4, 5, 'Paul the Wine Guy'], [5, 6, 'Monica Geller']]], 'emotion': None, 'caption': None, 'transcript_with_note': None, 'tokens_with_note': None, 'parsed': There's nothing to tell! He's just some guy I work with!, 'politeness_strategies': {'feature_politeness_==Please==': 0, 'feature_politeness_==Please_start==': 0, 'feature_politeness_==Indirect_(btw)==': 0, 'feature_politeness_==Hedges==': 0, 'feature_politeness_==Factuality==': 0, 'feature_politeness_==Deference==': 0, 'feature_politeness_==Gratitude==': 0, 'feature_politeness_==Apologizing==': 0, 'feature_politeness_==1st_person_pl.==': 0, 'feature_politeness_==1st_person==': 1, 'feature_politeness_==1st_person_start==': 0, 'feature_politeness_==2nd_person==': 0, 'feature_politeness_==2nd_person_start==': 0, 'feature_politeness_==Indirect_(greeting)==': 0, 'feature_politeness_==Direct_question==': 0, 'feature_politeness_==Direct_start==': 0, 'feature_politeness_==SUBJUNCTIVE==': 0, 'feature_politeness_==INDICATIVE==': 0, 'feature_politeness_==HASHEDGE==': 0, 'feature_politeness_==HASPOSITIVE==': 1, 'feature_politeness_==HASNEGATIVE==': 0}}})"
            ]
          },
          "metadata": {
            "tags": []
          },
          "execution_count": 42
        }
      ]
    },
    {
      "cell_type": "markdown",
      "metadata": {
        "id": "3ZravKzODSPw",
        "colab_type": "text"
      },
      "source": [
        "## 2) Apply the PolitenessStrategies transformer to the parsed corpus."
      ]
    },
    {
      "cell_type": "code",
      "metadata": {
        "id": "pw1dC9NGAd0V",
        "colab_type": "code",
        "colab": {}
      },
      "source": [
        "from convokit.politenessStrategies.politenessStrategies import PolitenessStrategies\n",
        "politeness_transformer = PolitenessStrategies()\n",
        "polite_corpus = politeness_transformer.transform(corpus=parsed_corpus)"
      ],
      "execution_count": 0,
      "outputs": []
    },
    {
      "cell_type": "markdown",
      "metadata": {
        "id": "wAZQ-_L7DWlD",
        "colab_type": "text"
      },
      "source": [
        "## 3) Analyze the politeness outputs\n",
        "\n",
        "We are interested in a cursory understanding of how the politeness strategies of each utterance intersect with the speaker's gender identity, as defined in our metadata.\n",
        "\n",
        "First we build a DataFrame of politeness strategies and speaker genders per utterance:"
      ]
    },
    {
      "cell_type": "code",
      "metadata": {
        "id": "7GAEIZdnAx8F",
        "colab_type": "code",
        "colab": {
          "base_uri": "https://localhost:8080/",
          "height": 379
        },
        "outputId": "453d1fd0-3e75-42c4-c743-149e8828c998"
      },
      "source": [
        "import pandas as pd\n",
        "\n",
        "utterance_ids = polite_corpus.get_utterance_ids()\n",
        "rows = []\n",
        "for uid in utterance_ids:\n",
        "  utt = polite_corpus.get_utterance(uid)\n",
        "  meta = utt.meta[\"politeness_strategies\"]\n",
        "  meta['speaker_gender'] = utt.user.meta['gender']\n",
        "  rows.append(meta)\n",
        "politeness_strategies = pd.DataFrame(rows, index=utterance_ids)"
      ],
      "execution_count": 55,
      "outputs": [
        {
          "output_type": "execute_result",
          "data": {
            "text/html": [
              "<div>\n",
              "<style scoped>\n",
              "    .dataframe tbody tr th:only-of-type {\n",
              "        vertical-align: middle;\n",
              "    }\n",
              "\n",
              "    .dataframe tbody tr th {\n",
              "        vertical-align: top;\n",
              "    }\n",
              "\n",
              "    .dataframe thead th {\n",
              "        text-align: right;\n",
              "    }\n",
              "</style>\n",
              "<table border=\"1\" class=\"dataframe\">\n",
              "  <thead>\n",
              "    <tr style=\"text-align: right;\">\n",
              "      <th></th>\n",
              "      <th>feature_politeness_==1st_person==</th>\n",
              "      <th>feature_politeness_==1st_person_pl.==</th>\n",
              "      <th>feature_politeness_==1st_person_start==</th>\n",
              "      <th>feature_politeness_==2nd_person==</th>\n",
              "      <th>feature_politeness_==2nd_person_start==</th>\n",
              "      <th>feature_politeness_==Apologizing==</th>\n",
              "      <th>feature_politeness_==Deference==</th>\n",
              "      <th>feature_politeness_==Direct_question==</th>\n",
              "      <th>feature_politeness_==Direct_start==</th>\n",
              "      <th>feature_politeness_==Factuality==</th>\n",
              "      <th>feature_politeness_==Gratitude==</th>\n",
              "      <th>feature_politeness_==HASHEDGE==</th>\n",
              "      <th>feature_politeness_==HASNEGATIVE==</th>\n",
              "      <th>feature_politeness_==HASPOSITIVE==</th>\n",
              "      <th>feature_politeness_==Hedges==</th>\n",
              "      <th>feature_politeness_==INDICATIVE==</th>\n",
              "      <th>feature_politeness_==Indirect_(btw)==</th>\n",
              "      <th>feature_politeness_==Indirect_(greeting)==</th>\n",
              "      <th>feature_politeness_==Please==</th>\n",
              "      <th>feature_politeness_==Please_start==</th>\n",
              "      <th>feature_politeness_==SUBJUNCTIVE==</th>\n",
              "      <th>speaker_gender</th>\n",
              "    </tr>\n",
              "  </thead>\n",
              "  <tbody>\n",
              "    <tr>\n",
              "      <th>s01_e01_c01_u001</th>\n",
              "      <td>1</td>\n",
              "      <td>0</td>\n",
              "      <td>0</td>\n",
              "      <td>0</td>\n",
              "      <td>0</td>\n",
              "      <td>0</td>\n",
              "      <td>0</td>\n",
              "      <td>0</td>\n",
              "      <td>0</td>\n",
              "      <td>0</td>\n",
              "      <td>0</td>\n",
              "      <td>0</td>\n",
              "      <td>0</td>\n",
              "      <td>1</td>\n",
              "      <td>0</td>\n",
              "      <td>0</td>\n",
              "      <td>0</td>\n",
              "      <td>0</td>\n",
              "      <td>0</td>\n",
              "      <td>0</td>\n",
              "      <td>0</td>\n",
              "      <td>female</td>\n",
              "    </tr>\n",
              "    <tr>\n",
              "      <th>s01_e01_c01_u002</th>\n",
              "      <td>0</td>\n",
              "      <td>0</td>\n",
              "      <td>0</td>\n",
              "      <td>1</td>\n",
              "      <td>0</td>\n",
              "      <td>0</td>\n",
              "      <td>0</td>\n",
              "      <td>0</td>\n",
              "      <td>0</td>\n",
              "      <td>0</td>\n",
              "      <td>0</td>\n",
              "      <td>0</td>\n",
              "      <td>1</td>\n",
              "      <td>0</td>\n",
              "      <td>0</td>\n",
              "      <td>0</td>\n",
              "      <td>0</td>\n",
              "      <td>0</td>\n",
              "      <td>0</td>\n",
              "      <td>0</td>\n",
              "      <td>0</td>\n",
              "      <td>male</td>\n",
              "    </tr>\n",
              "    <tr>\n",
              "      <th>s01_e01_c01_u003</th>\n",
              "      <td>0</td>\n",
              "      <td>0</td>\n",
              "      <td>0</td>\n",
              "      <td>0</td>\n",
              "      <td>0</td>\n",
              "      <td>0</td>\n",
              "      <td>0</td>\n",
              "      <td>0</td>\n",
              "      <td>1</td>\n",
              "      <td>0</td>\n",
              "      <td>0</td>\n",
              "      <td>0</td>\n",
              "      <td>0</td>\n",
              "      <td>1</td>\n",
              "      <td>0</td>\n",
              "      <td>0</td>\n",
              "      <td>0</td>\n",
              "      <td>0</td>\n",
              "      <td>0</td>\n",
              "      <td>0</td>\n",
              "      <td>0</td>\n",
              "      <td>male</td>\n",
              "    </tr>\n",
              "    <tr>\n",
              "      <th>s01_e01_c01_u004</th>\n",
              "      <td>0</td>\n",
              "      <td>0</td>\n",
              "      <td>0</td>\n",
              "      <td>0</td>\n",
              "      <td>0</td>\n",
              "      <td>0</td>\n",
              "      <td>0</td>\n",
              "      <td>0</td>\n",
              "      <td>0</td>\n",
              "      <td>0</td>\n",
              "      <td>0</td>\n",
              "      <td>0</td>\n",
              "      <td>0</td>\n",
              "      <td>0</td>\n",
              "      <td>0</td>\n",
              "      <td>0</td>\n",
              "      <td>0</td>\n",
              "      <td>0</td>\n",
              "      <td>0</td>\n",
              "      <td>0</td>\n",
              "      <td>0</td>\n",
              "      <td>female</td>\n",
              "    </tr>\n",
              "    <tr>\n",
              "      <th>s01_e01_c01_u006</th>\n",
              "      <td>1</td>\n",
              "      <td>0</td>\n",
              "      <td>0</td>\n",
              "      <td>0</td>\n",
              "      <td>0</td>\n",
              "      <td>0</td>\n",
              "      <td>0</td>\n",
              "      <td>0</td>\n",
              "      <td>0</td>\n",
              "      <td>0</td>\n",
              "      <td>0</td>\n",
              "      <td>0</td>\n",
              "      <td>0</td>\n",
              "      <td>0</td>\n",
              "      <td>0</td>\n",
              "      <td>0</td>\n",
              "      <td>0</td>\n",
              "      <td>0</td>\n",
              "      <td>0</td>\n",
              "      <td>0</td>\n",
              "      <td>0</td>\n",
              "      <td>female</td>\n",
              "    </tr>\n",
              "    <tr>\n",
              "      <th>s01_e01_c01_u007</th>\n",
              "      <td>0</td>\n",
              "      <td>0</td>\n",
              "      <td>0</td>\n",
              "      <td>0</td>\n",
              "      <td>0</td>\n",
              "      <td>0</td>\n",
              "      <td>0</td>\n",
              "      <td>0</td>\n",
              "      <td>0</td>\n",
              "      <td>0</td>\n",
              "      <td>0</td>\n",
              "      <td>0</td>\n",
              "      <td>0</td>\n",
              "      <td>0</td>\n",
              "      <td>0</td>\n",
              "      <td>0</td>\n",
              "      <td>0</td>\n",
              "      <td>0</td>\n",
              "      <td>0</td>\n",
              "      <td>0</td>\n",
              "      <td>0</td>\n",
              "      <td>female</td>\n",
              "    </tr>\n",
              "    <tr>\n",
              "      <th>s01_e01_c01_u008</th>\n",
              "      <td>0</td>\n",
              "      <td>0</td>\n",
              "      <td>0</td>\n",
              "      <td>0</td>\n",
              "      <td>0</td>\n",
              "      <td>0</td>\n",
              "      <td>0</td>\n",
              "      <td>0</td>\n",
              "      <td>0</td>\n",
              "      <td>0</td>\n",
              "      <td>0</td>\n",
              "      <td>0</td>\n",
              "      <td>0</td>\n",
              "      <td>1</td>\n",
              "      <td>0</td>\n",
              "      <td>0</td>\n",
              "      <td>0</td>\n",
              "      <td>0</td>\n",
              "      <td>0</td>\n",
              "      <td>0</td>\n",
              "      <td>0</td>\n",
              "      <td>male</td>\n",
              "    </tr>\n",
              "    <tr>\n",
              "      <th>s01_e01_c01_u010</th>\n",
              "      <td>1</td>\n",
              "      <td>0</td>\n",
              "      <td>0</td>\n",
              "      <td>0</td>\n",
              "      <td>0</td>\n",
              "      <td>0</td>\n",
              "      <td>0</td>\n",
              "      <td>0</td>\n",
              "      <td>0</td>\n",
              "      <td>0</td>\n",
              "      <td>0</td>\n",
              "      <td>0</td>\n",
              "      <td>0</td>\n",
              "      <td>0</td>\n",
              "      <td>0</td>\n",
              "      <td>0</td>\n",
              "      <td>0</td>\n",
              "      <td>0</td>\n",
              "      <td>0</td>\n",
              "      <td>0</td>\n",
              "      <td>0</td>\n",
              "      <td>male</td>\n",
              "    </tr>\n",
              "    <tr>\n",
              "      <th>s01_e01_c01_u011</th>\n",
              "      <td>0</td>\n",
              "      <td>0</td>\n",
              "      <td>0</td>\n",
              "      <td>0</td>\n",
              "      <td>0</td>\n",
              "      <td>0</td>\n",
              "      <td>0</td>\n",
              "      <td>0</td>\n",
              "      <td>0</td>\n",
              "      <td>0</td>\n",
              "      <td>0</td>\n",
              "      <td>0</td>\n",
              "      <td>0</td>\n",
              "      <td>0</td>\n",
              "      <td>0</td>\n",
              "      <td>0</td>\n",
              "      <td>0</td>\n",
              "      <td>0</td>\n",
              "      <td>0</td>\n",
              "      <td>0</td>\n",
              "      <td>0</td>\n",
              "      <td>unknown</td>\n",
              "    </tr>\n",
              "    <tr>\n",
              "      <th>s01_e01_c01_u012</th>\n",
              "      <td>1</td>\n",
              "      <td>0</td>\n",
              "      <td>0</td>\n",
              "      <td>0</td>\n",
              "      <td>0</td>\n",
              "      <td>0</td>\n",
              "      <td>0</td>\n",
              "      <td>0</td>\n",
              "      <td>1</td>\n",
              "      <td>0</td>\n",
              "      <td>0</td>\n",
              "      <td>0</td>\n",
              "      <td>0</td>\n",
              "      <td>0</td>\n",
              "      <td>0</td>\n",
              "      <td>0</td>\n",
              "      <td>0</td>\n",
              "      <td>0</td>\n",
              "      <td>0</td>\n",
              "      <td>0</td>\n",
              "      <td>0</td>\n",
              "      <td>male</td>\n",
              "    </tr>\n",
              "  </tbody>\n",
              "</table>\n",
              "</div>"
            ],
            "text/plain": [
              "                  feature_politeness_==1st_person==  ...  speaker_gender\n",
              "s01_e01_c01_u001                                  1  ...          female\n",
              "s01_e01_c01_u002                                  0  ...            male\n",
              "s01_e01_c01_u003                                  0  ...            male\n",
              "s01_e01_c01_u004                                  0  ...          female\n",
              "s01_e01_c01_u006                                  1  ...          female\n",
              "s01_e01_c01_u007                                  0  ...          female\n",
              "s01_e01_c01_u008                                  0  ...            male\n",
              "s01_e01_c01_u010                                  1  ...            male\n",
              "s01_e01_c01_u011                                  0  ...         unknown\n",
              "s01_e01_c01_u012                                  1  ...            male\n",
              "\n",
              "[10 rows x 22 columns]"
            ]
          },
          "metadata": {
            "tags": []
          },
          "execution_count": 55
        }
      ]
    },
    {
      "cell_type": "markdown",
      "metadata": {
        "id": "qhFOxuUFI8YT",
        "colab_type": "text"
      },
      "source": [
        "We assemble dataframes of politeness strategies by gender_guesser category (male=\"male\" or \"mostly_male\", female=\"female\" or \"mostly_female\", andy=\"andy\", unknown=\"unknown\"). We use these to assess for each gender the proportion of utterances that show a certain politeness feature."
      ]
    },
    {
      "cell_type": "code",
      "metadata": {
        "id": "ETAbmfwOCRum",
        "colab_type": "code",
        "colab": {
          "base_uri": "https://localhost:8080/",
          "height": 408
        },
        "outputId": "bce8b3f8-3582-4def-8a43-00b17e058d76"
      },
      "source": [
        "female_df = politeness_strategies.loc[politeness_strategies['speaker_gender'].isin(['female', 'mostly_female'])]\n",
        "sum_female = female_df.sum().drop('speaker_gender')\n",
        "print('female denom: ', len(female_df))\n",
        "ratio_female = (sum_female / len(female_df))*100\n",
        "print(ratio_female)"
      ],
      "execution_count": 105,
      "outputs": [
        {
          "output_type": "stream",
          "text": [
            "female denom:  29103\n",
            "feature_politeness_==1st_person==                27.011\n",
            "feature_politeness_==1st_person_pl.==           9.38048\n",
            "feature_politeness_==1st_person_start==         18.2524\n",
            "feature_politeness_==2nd_person==               30.9143\n",
            "feature_politeness_==2nd_person_start==         7.70711\n",
            "feature_politeness_==Apologizing==              2.71106\n",
            "feature_politeness_==Deference==               0.900251\n",
            "feature_politeness_==Direct_question==          10.5659\n",
            "feature_politeness_==Direct_start==             9.79968\n",
            "feature_politeness_==Factuality==               5.54582\n",
            "feature_politeness_==Gratitude==                2.28842\n",
            "feature_politeness_==HASHEDGE==                 11.1982\n",
            "feature_politeness_==HASNEGATIVE==              18.1734\n",
            "feature_politeness_==HASPOSITIVE==               32.653\n",
            "feature_politeness_==Hedges==                   6.52854\n",
            "feature_politeness_==INDICATIVE==              0.515411\n",
            "feature_politeness_==Indirect_(btw)==         0.0377968\n",
            "feature_politeness_==Indirect_(greeting)==      7.04051\n",
            "feature_politeness_==Please==                  0.707831\n",
            "feature_politeness_==Please_start==            0.408893\n",
            "feature_politeness_==SUBJUNCTIVE==             0.807477\n",
            "dtype: object\n"
          ],
          "name": "stdout"
        }
      ]
    },
    {
      "cell_type": "code",
      "metadata": {
        "id": "HoCvcIOuKuij",
        "colab_type": "code",
        "colab": {
          "base_uri": "https://localhost:8080/",
          "height": 408
        },
        "outputId": "e2b86bdb-fe92-4f4b-e3d4-cc08cd3dca72"
      },
      "source": [
        "male_df = politeness_strategies.loc[politeness_strategies['speaker_gender'].isin(['male', 'mostly_male'])]\n",
        "sum_male = male_df.sum().drop('speaker_gender')\n",
        "print('male denom: ', len(male_df))\n",
        "ratio_male = (sum_male / len(male_df))*100\n",
        "print(ratio_male)"
      ],
      "execution_count": 109,
      "outputs": [
        {
          "output_type": "stream",
          "text": [
            "male denom:  29726\n",
            "feature_politeness_==1st_person==               27.3363\n",
            "feature_politeness_==1st_person_pl.==           9.81296\n",
            "feature_politeness_==1st_person_start==          18.758\n",
            "feature_politeness_==2nd_person==               28.5979\n",
            "feature_politeness_==2nd_person_start==         7.73061\n",
            "feature_politeness_==Apologizing==              2.19337\n",
            "feature_politeness_==Deference==                 1.1976\n",
            "feature_politeness_==Direct_question==          10.3209\n",
            "feature_politeness_==Direct_start==             10.2907\n",
            "feature_politeness_==Factuality==               4.68613\n",
            "feature_politeness_==Gratitude==                2.09581\n",
            "feature_politeness_==HASHEDGE==                  11.532\n",
            "feature_politeness_==HASNEGATIVE==              18.2803\n",
            "feature_politeness_==HASPOSITIVE==              32.3622\n",
            "feature_politeness_==Hedges==                   6.38835\n",
            "feature_politeness_==INDICATIVE==              0.595438\n",
            "feature_politeness_==Indirect_(btw)==         0.0336406\n",
            "feature_politeness_==Indirect_(greeting)==      8.86093\n",
            "feature_politeness_==Please==                  0.457512\n",
            "feature_politeness_==Please_start==            0.292673\n",
            "feature_politeness_==SUBJUNCTIVE==             0.659355\n",
            "dtype: object\n"
          ],
          "name": "stdout"
        }
      ]
    },
    {
      "cell_type": "code",
      "metadata": {
        "id": "RWwCIEIKLC0y",
        "colab_type": "code",
        "colab": {
          "base_uri": "https://localhost:8080/",
          "height": 408
        },
        "outputId": "13bc9017-9b20-4b0a-f377-253dd76fd3a2"
      },
      "source": [
        "andy_df = politeness_strategies.loc[politeness_strategies['speaker_gender']=='andy']\n",
        "sum_andy = andy_df.sum().drop('speaker_gender')\n",
        "print('andy denom: ', len(andy_df))\n",
        "ratio_andy = (sum_andy / len(andy_df))*100\n",
        "print(ratio_andy)"
      ],
      "execution_count": 110,
      "outputs": [
        {
          "output_type": "stream",
          "text": [
            "andy denom:  80\n",
            "feature_politeness_==1st_person==                20\n",
            "feature_politeness_==1st_person_pl.==          3.75\n",
            "feature_politeness_==1st_person_start==        12.5\n",
            "feature_politeness_==2nd_person==                25\n",
            "feature_politeness_==2nd_person_start==         2.5\n",
            "feature_politeness_==Apologizing==             3.75\n",
            "feature_politeness_==Deference==               1.25\n",
            "feature_politeness_==Direct_question==         6.25\n",
            "feature_politeness_==Direct_start==             7.5\n",
            "feature_politeness_==Factuality==              3.75\n",
            "feature_politeness_==Gratitude==               1.25\n",
            "feature_politeness_==HASHEDGE==                 7.5\n",
            "feature_politeness_==HASNEGATIVE==              7.5\n",
            "feature_politeness_==HASPOSITIVE==            16.25\n",
            "feature_politeness_==Hedges==                  6.25\n",
            "feature_politeness_==INDICATIVE==              1.25\n",
            "feature_politeness_==Indirect_(btw)==             0\n",
            "feature_politeness_==Indirect_(greeting)==       15\n",
            "feature_politeness_==Please==                  1.25\n",
            "feature_politeness_==Please_start==               0\n",
            "feature_politeness_==SUBJUNCTIVE==              2.5\n",
            "dtype: object\n"
          ],
          "name": "stdout"
        }
      ]
    },
    {
      "cell_type": "code",
      "metadata": {
        "id": "zK2zQ0dMLN6p",
        "colab_type": "code",
        "colab": {
          "base_uri": "https://localhost:8080/",
          "height": 408
        },
        "outputId": "936d0ff2-bd50-42f5-9f38-75cc0e5b919a"
      },
      "source": [
        "unk_df = politeness_strategies.loc[politeness_strategies['speaker_gender']=='unknown']\n",
        "sum_unk = unk_df.sum().drop('speaker_gender')\n",
        "print('unk denom: ', len(unk_df))\n",
        "ratio_unk = (sum_unk / len(unk_df))*100\n",
        "print(ratio_unk)"
      ],
      "execution_count": 111,
      "outputs": [
        {
          "output_type": "stream",
          "text": [
            "unk denom:  2429\n",
            "feature_politeness_==1st_person==               16.9617\n",
            "feature_politeness_==1st_person_pl.==            9.2219\n",
            "feature_politeness_==1st_person_start==         13.5447\n",
            "feature_politeness_==2nd_person==               26.5541\n",
            "feature_politeness_==2nd_person_start==         7.45163\n",
            "feature_politeness_==Apologizing==              3.66406\n",
            "feature_politeness_==Deference==                1.68794\n",
            "feature_politeness_==Direct_question==          6.62824\n",
            "feature_politeness_==Direct_start==             6.75175\n",
            "feature_politeness_==Factuality==               2.88184\n",
            "feature_politeness_==Gratitude==                2.26431\n",
            "feature_politeness_==HASHEDGE==                 7.90449\n",
            "feature_politeness_==HASNEGATIVE==              15.5208\n",
            "feature_politeness_==HASPOSITIVE==              29.3948\n",
            "feature_politeness_==Hedges==                   3.82874\n",
            "feature_politeness_==INDICATIVE==              0.288184\n",
            "feature_politeness_==Indirect_(btw)==         0.0411692\n",
            "feature_politeness_==Indirect_(greeting)==       8.6867\n",
            "feature_politeness_==Please==                   1.15274\n",
            "feature_politeness_==Please_start==            0.452861\n",
            "feature_politeness_==SUBJUNCTIVE==             0.658707\n",
            "dtype: object\n"
          ],
          "name": "stdout"
        }
      ]
    },
    {
      "cell_type": "markdown",
      "metadata": {
        "id": "7XGV2l-HMZmG",
        "colab_type": "text"
      },
      "source": [
        "Sanity check that all utterances have been captured in a dataframe:"
      ]
    },
    {
      "cell_type": "code",
      "metadata": {
        "id": "DrKMDZqJLvTo",
        "colab_type": "code",
        "colab": {
          "base_uri": "https://localhost:8080/",
          "height": 68
        },
        "outputId": "ac56a1ec-2a6d-4250-864c-14ee480d9f5a"
      },
      "source": [
        "polite_corpus.print_summary_stats()"
      ],
      "execution_count": 85,
      "outputs": [
        {
          "output_type": "stream",
          "text": [
            "Number of Users: 699\n",
            "Number of Utterances: 61338\n",
            "Number of Conversations: 3099\n"
          ],
          "name": "stdout"
        }
      ]
    },
    {
      "cell_type": "code",
      "metadata": {
        "id": "3AVR8SLDMQEm",
        "colab_type": "code",
        "colab": {
          "base_uri": "https://localhost:8080/",
          "height": 34
        },
        "outputId": "d80b064f-6881-4557-be81-d9626ce4231f"
      },
      "source": [
        "len(female_df) + len(male_df) + len(andy_df) + len(unk_df)"
      ],
      "execution_count": 97,
      "outputs": [
        {
          "output_type": "execute_result",
          "data": {
            "text/plain": [
              "61338"
            ]
          },
          "metadata": {
            "tags": []
          },
          "execution_count": 97
        }
      ]
    },
    {
      "cell_type": "markdown",
      "metadata": {
        "id": "qvEYR6X6Vpfr",
        "colab_type": "text"
      },
      "source": [
        "Calculate the proportions of utterances in each gender category that exhibit a given politeness strategy. Also calculate the heuristics for male and female bias."
      ]
    },
    {
      "cell_type": "code",
      "metadata": {
        "id": "Og-e7dscPTHw",
        "colab_type": "code",
        "colab": {
          "base_uri": "https://localhost:8080/",
          "height": 306
        },
        "outputId": "62cbea3b-fb6a-4e25-f992-7b3958266f3a"
      },
      "source": [
        "rel_props = pd.DataFrame([ratio_male,\n",
        "                          ratio_female,\n",
        "                          ratio_andy,\n",
        "                          ratio_unk,\n",
        "                          (rel_props.loc['male'] - rel_props.loc['female']) / rel_props.loc['male'],\n",
        "                          (rel_props.loc['female'] - rel_props.loc['male']) / rel_props.loc['female']\n",
        "                         ], \n",
        "                         index=['p_m', 'p_f', 'p_a', 'p_u', 'm rel bias', 'f rel bias'])\n",
        "rel_props"
      ],
      "execution_count": 124,
      "outputs": [
        {
          "output_type": "execute_result",
          "data": {
            "text/html": [
              "<div>\n",
              "<style scoped>\n",
              "    .dataframe tbody tr th:only-of-type {\n",
              "        vertical-align: middle;\n",
              "    }\n",
              "\n",
              "    .dataframe tbody tr th {\n",
              "        vertical-align: top;\n",
              "    }\n",
              "\n",
              "    .dataframe thead th {\n",
              "        text-align: right;\n",
              "    }\n",
              "</style>\n",
              "<table border=\"1\" class=\"dataframe\">\n",
              "  <thead>\n",
              "    <tr style=\"text-align: right;\">\n",
              "      <th></th>\n",
              "      <th>feature_politeness_==1st_person==</th>\n",
              "      <th>feature_politeness_==1st_person_pl.==</th>\n",
              "      <th>feature_politeness_==1st_person_start==</th>\n",
              "      <th>feature_politeness_==2nd_person==</th>\n",
              "      <th>feature_politeness_==2nd_person_start==</th>\n",
              "      <th>feature_politeness_==Apologizing==</th>\n",
              "      <th>feature_politeness_==Deference==</th>\n",
              "      <th>feature_politeness_==Direct_question==</th>\n",
              "      <th>feature_politeness_==Direct_start==</th>\n",
              "      <th>feature_politeness_==Factuality==</th>\n",
              "      <th>feature_politeness_==Gratitude==</th>\n",
              "      <th>feature_politeness_==HASHEDGE==</th>\n",
              "      <th>feature_politeness_==HASNEGATIVE==</th>\n",
              "      <th>feature_politeness_==HASPOSITIVE==</th>\n",
              "      <th>feature_politeness_==Hedges==</th>\n",
              "      <th>feature_politeness_==INDICATIVE==</th>\n",
              "      <th>feature_politeness_==Indirect_(btw)==</th>\n",
              "      <th>feature_politeness_==Indirect_(greeting)==</th>\n",
              "      <th>feature_politeness_==Please==</th>\n",
              "      <th>feature_politeness_==Please_start==</th>\n",
              "      <th>feature_politeness_==SUBJUNCTIVE==</th>\n",
              "    </tr>\n",
              "  </thead>\n",
              "  <tbody>\n",
              "    <tr>\n",
              "      <th>p_m</th>\n",
              "      <td>27.336339</td>\n",
              "      <td>9.812958</td>\n",
              "      <td>18.757990</td>\n",
              "      <td>28.597860</td>\n",
              "      <td>7.730606</td>\n",
              "      <td>2.193366</td>\n",
              "      <td>1.197605</td>\n",
              "      <td>10.320931</td>\n",
              "      <td>10.290655</td>\n",
              "      <td>4.686133</td>\n",
              "      <td>2.095808</td>\n",
              "      <td>11.531992</td>\n",
              "      <td>18.280293</td>\n",
              "      <td>32.362242</td>\n",
              "      <td>6.388347</td>\n",
              "      <td>0.595438</td>\n",
              "      <td>0.033641</td>\n",
              "      <td>8.860930</td>\n",
              "      <td>0.457512</td>\n",
              "      <td>0.292673</td>\n",
              "      <td>0.659355</td>\n",
              "    </tr>\n",
              "    <tr>\n",
              "      <th>p_f</th>\n",
              "      <td>27.010961</td>\n",
              "      <td>9.380476</td>\n",
              "      <td>18.252414</td>\n",
              "      <td>30.914339</td>\n",
              "      <td>7.707109</td>\n",
              "      <td>2.711061</td>\n",
              "      <td>0.900251</td>\n",
              "      <td>10.565921</td>\n",
              "      <td>9.799677</td>\n",
              "      <td>5.545820</td>\n",
              "      <td>2.288424</td>\n",
              "      <td>11.198158</td>\n",
              "      <td>18.173384</td>\n",
              "      <td>32.652991</td>\n",
              "      <td>6.528537</td>\n",
              "      <td>0.515411</td>\n",
              "      <td>0.037797</td>\n",
              "      <td>7.040511</td>\n",
              "      <td>0.707831</td>\n",
              "      <td>0.408893</td>\n",
              "      <td>0.807477</td>\n",
              "    </tr>\n",
              "    <tr>\n",
              "      <th>p_a</th>\n",
              "      <td>20.000000</td>\n",
              "      <td>3.750000</td>\n",
              "      <td>12.500000</td>\n",
              "      <td>25.000000</td>\n",
              "      <td>2.500000</td>\n",
              "      <td>3.750000</td>\n",
              "      <td>1.250000</td>\n",
              "      <td>6.250000</td>\n",
              "      <td>7.500000</td>\n",
              "      <td>3.750000</td>\n",
              "      <td>1.250000</td>\n",
              "      <td>7.500000</td>\n",
              "      <td>7.500000</td>\n",
              "      <td>16.250000</td>\n",
              "      <td>6.250000</td>\n",
              "      <td>1.250000</td>\n",
              "      <td>0.000000</td>\n",
              "      <td>15.000000</td>\n",
              "      <td>1.250000</td>\n",
              "      <td>0.000000</td>\n",
              "      <td>2.500000</td>\n",
              "    </tr>\n",
              "    <tr>\n",
              "      <th>p_u</th>\n",
              "      <td>16.961713</td>\n",
              "      <td>9.221902</td>\n",
              "      <td>13.544669</td>\n",
              "      <td>26.554138</td>\n",
              "      <td>7.451626</td>\n",
              "      <td>3.664059</td>\n",
              "      <td>1.687937</td>\n",
              "      <td>6.628242</td>\n",
              "      <td>6.751750</td>\n",
              "      <td>2.881844</td>\n",
              "      <td>2.264306</td>\n",
              "      <td>7.904487</td>\n",
              "      <td>15.520790</td>\n",
              "      <td>29.394813</td>\n",
              "      <td>3.828736</td>\n",
              "      <td>0.288184</td>\n",
              "      <td>0.041169</td>\n",
              "      <td>8.686702</td>\n",
              "      <td>1.152738</td>\n",
              "      <td>0.452861</td>\n",
              "      <td>0.658707</td>\n",
              "    </tr>\n",
              "    <tr>\n",
              "      <th>m rel bias</th>\n",
              "      <td>0.011903</td>\n",
              "      <td>0.044073</td>\n",
              "      <td>0.026953</td>\n",
              "      <td>-0.081002</td>\n",
              "      <td>0.003039</td>\n",
              "      <td>-0.236027</td>\n",
              "      <td>0.248291</td>\n",
              "      <td>-0.023737</td>\n",
              "      <td>0.047711</td>\n",
              "      <td>-0.183453</td>\n",
              "      <td>-0.091905</td>\n",
              "      <td>0.028949</td>\n",
              "      <td>0.005848</td>\n",
              "      <td>-0.008984</td>\n",
              "      <td>-0.021945</td>\n",
              "      <td>0.134401</td>\n",
              "      <td>-0.123547</td>\n",
              "      <td>0.205443</td>\n",
              "      <td>-0.547131</td>\n",
              "      <td>-0.397097</td>\n",
              "      <td>-0.224646</td>\n",
              "    </tr>\n",
              "    <tr>\n",
              "      <th>f rel bias</th>\n",
              "      <td>-0.012046</td>\n",
              "      <td>-0.046104</td>\n",
              "      <td>-0.027699</td>\n",
              "      <td>0.074932</td>\n",
              "      <td>-0.003049</td>\n",
              "      <td>0.190956</td>\n",
              "      <td>-0.330301</td>\n",
              "      <td>0.023187</td>\n",
              "      <td>-0.050101</td>\n",
              "      <td>0.155015</td>\n",
              "      <td>0.084169</td>\n",
              "      <td>-0.029812</td>\n",
              "      <td>-0.005883</td>\n",
              "      <td>0.008904</td>\n",
              "      <td>0.021473</td>\n",
              "      <td>-0.155269</td>\n",
              "      <td>0.109962</td>\n",
              "      <td>-0.258563</td>\n",
              "      <td>0.353642</td>\n",
              "      <td>0.284230</td>\n",
              "      <td>0.183437</td>\n",
              "    </tr>\n",
              "  </tbody>\n",
              "</table>\n",
              "</div>"
            ],
            "text/plain": [
              "            feature_politeness_==1st_person==  ...  feature_politeness_==SUBJUNCTIVE==\n",
              "p_m                                 27.336339  ...                            0.659355\n",
              "p_f                                 27.010961  ...                            0.807477\n",
              "p_a                                 20.000000  ...                            2.500000\n",
              "p_u                                 16.961713  ...                            0.658707\n",
              "m rel bias                           0.011903  ...                           -0.224646\n",
              "f rel bias                          -0.012046  ...                            0.183437\n",
              "\n",
              "[6 rows x 21 columns]"
            ]
          },
          "metadata": {
            "tags": []
          },
          "execution_count": 124
        }
      ]
    }
  ]
}