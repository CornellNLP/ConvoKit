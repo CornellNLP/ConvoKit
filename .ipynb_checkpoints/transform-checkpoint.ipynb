{
 "cells": [
  {
   "cell_type": "markdown",
   "metadata": {
    "colab_type": "text",
    "id": "p_YNRDvb3etb"
   },
   "source": [
    "# Creating Our Dataset and Applying Our Transformer\n",
    "\n",
    "In this notebook, we:\n",
    "- download friends-corpus\n",
    "- apply our Transformer, Genderromantic, to it\n",
    "- analyze the resulting measures"
   ]
  },
  {
   "cell_type": "code",
   "execution_count": 32,
   "metadata": {
    "colab": {
     "base_uri": "https://localhost:8080/",
     "height": 1000
    },
    "colab_type": "code",
    "id": "Wp3WIlBN4D7l",
    "outputId": "d175f9db-6bab-416b-d2d1-b98b1af1fd51"
   },
   "outputs": [
    {
     "name": "stdout",
     "output_type": "stream",
     "text": [
      "Requirement already satisfied: astroid==2.2.5 in /Users/emilytseng/Library/Python/3.7/lib/python/site-packages (from -r requirements.txt (line 1)) (2.2.5)\n",
      "Requirement already satisfied: certifi==2019.6.16 in /usr/local/lib/python3.7/site-packages (from -r requirements.txt (line 2)) (2019.6.16)\n",
      "Requirement already satisfied: chardet==3.0.4 in /usr/local/lib/python3.7/site-packages (from -r requirements.txt (line 3)) (3.0.4)\n",
      "Requirement already satisfied: convokit==2.0.11 in /usr/local/lib/python3.7/site-packages (from -r requirements.txt (line 4)) (2.0.11)\n",
      "Requirement already satisfied: cycler==0.10.0 in /usr/local/lib/python3.7/site-packages (from -r requirements.txt (line 5)) (0.10.0)\n",
      "Requirement already satisfied: cymem==1.31.2 in /usr/local/lib/python3.7/site-packages (from -r requirements.txt (line 6)) (1.31.2)\n",
      "Requirement already satisfied: cytoolz==0.9.0.1 in /usr/local/lib/python3.7/site-packages (from -r requirements.txt (line 7)) (0.9.0.1)\n",
      "Requirement already satisfied: dill==0.2.9 in /usr/local/lib/python3.7/site-packages (from -r requirements.txt (line 8)) (0.2.9)\n",
      "Requirement already satisfied: en-core-web-sm==2.0.0 in /usr/local/lib/python3.7/site-packages (from -r requirements.txt (line 9)) (2.0.0)\n",
      "Requirement already satisfied: idna==2.8 in /usr/local/lib/python3.7/site-packages (from -r requirements.txt (line 10)) (2.8)\n",
      "Requirement already satisfied: isort==4.3.21 in /Users/emilytseng/Library/Python/3.7/lib/python/site-packages (from -r requirements.txt (line 11)) (4.3.21)\n",
      "Requirement already satisfied: joblib==0.13.2 in /usr/local/lib/python3.7/site-packages (from -r requirements.txt (line 12)) (0.13.2)\n",
      "Requirement already satisfied: kiwisolver==1.1.0 in /usr/local/lib/python3.7/site-packages (from -r requirements.txt (line 13)) (1.1.0)\n",
      "Requirement already satisfied: lazy-object-proxy==1.4.2 in /Users/emilytseng/Library/Python/3.7/lib/python/site-packages (from -r requirements.txt (line 14)) (1.4.2)\n",
      "Requirement already satisfied: matplotlib==3.1.1 in /usr/local/lib/python3.7/site-packages (from -r requirements.txt (line 15)) (3.1.1)\n",
      "Requirement already satisfied: mccabe==0.6.1 in /Users/emilytseng/Library/Python/3.7/lib/python/site-packages (from -r requirements.txt (line 16)) (0.6.1)\n",
      "Requirement already satisfied: msgpack==0.6.1 in /usr/local/lib/python3.7/site-packages (from -r requirements.txt (line 17)) (0.6.1)\n",
      "Requirement already satisfied: msgpack-numpy==0.4.3.2 in /usr/local/lib/python3.7/site-packages (from -r requirements.txt (line 18)) (0.4.3.2)\n",
      "Requirement already satisfied: murmurhash==0.28.0 in /usr/local/lib/python3.7/site-packages (from -r requirements.txt (line 19)) (0.28.0)\n",
      "Requirement already satisfied: nltk==3.4.5 in /usr/local/lib/python3.7/site-packages (from -r requirements.txt (line 20)) (3.4.5)\n",
      "Requirement already satisfied: numpy==1.17.2 in /usr/local/lib/python3.7/site-packages (from -r requirements.txt (line 21)) (1.17.2)\n",
      "Requirement already satisfied: pandas==0.25.1 in /usr/local/lib/python3.7/site-packages (from -r requirements.txt (line 22)) (0.25.1)\n",
      "Requirement already satisfied: plac==0.9.6 in /usr/local/lib/python3.7/site-packages (from -r requirements.txt (line 23)) (0.9.6)\n",
      "Requirement already satisfied: preshed==1.0.1 in /usr/local/lib/python3.7/site-packages (from -r requirements.txt (line 24)) (1.0.1)\n",
      "Requirement already satisfied: pylint==2.3.1 in /Users/emilytseng/Library/Python/3.7/lib/python/site-packages (from -r requirements.txt (line 25)) (2.3.1)\n",
      "Requirement already satisfied: pyparsing==2.4.2 in /usr/local/lib/python3.7/site-packages (from -r requirements.txt (line 26)) (2.4.2)\n",
      "Requirement already satisfied: python-dateutil==2.8.0 in /usr/local/lib/python3.7/site-packages (from -r requirements.txt (line 27)) (2.8.0)\n",
      "Requirement already satisfied: pytz==2019.2 in /usr/local/lib/python3.7/site-packages (from -r requirements.txt (line 28)) (2019.2)\n",
      "Requirement already satisfied: regex==2017.4.5 in /usr/local/lib/python3.7/site-packages (from -r requirements.txt (line 29)) (2017.4.5)\n",
      "Requirement already satisfied: requests==2.22.0 in /usr/local/lib/python3.7/site-packages (from -r requirements.txt (line 30)) (2.22.0)\n",
      "Requirement already satisfied: scikit-learn==0.21.3 in /usr/local/lib/python3.7/site-packages (from -r requirements.txt (line 31)) (0.21.3)\n",
      "Requirement already satisfied: scipy==1.3.1 in /usr/local/lib/python3.7/site-packages (from -r requirements.txt (line 32)) (1.3.1)\n",
      "Requirement already satisfied: six==1.12.0 in /Users/emilytseng/Library/Python/3.7/lib/python/site-packages (from -r requirements.txt (line 33)) (1.12.0)\n",
      "Requirement already satisfied: spacy==2.0.12 in /usr/local/lib/python3.7/site-packages (from -r requirements.txt (line 34)) (2.0.12)\n",
      "Requirement already satisfied: thinc==6.10.3 in /usr/local/lib/python3.7/site-packages (from -r requirements.txt (line 35)) (6.10.3)\n",
      "Requirement already satisfied: toolz==0.10.0 in /usr/local/lib/python3.7/site-packages (from -r requirements.txt (line 36)) (0.10.0)\n",
      "Requirement already satisfied: tqdm==4.35.0 in /usr/local/lib/python3.7/site-packages (from -r requirements.txt (line 37)) (4.35.0)\n",
      "Requirement already satisfied: typed-ast==1.4.0 in /Users/emilytseng/Library/Python/3.7/lib/python/site-packages (from -r requirements.txt (line 38)) (1.4.0)\n",
      "Requirement already satisfied: ujson==1.35 in /usr/local/lib/python3.7/site-packages (from -r requirements.txt (line 39)) (1.35)\n",
      "Requirement already satisfied: urllib3==1.25.3 in /usr/local/lib/python3.7/site-packages (from -r requirements.txt (line 40)) (1.25.3)\n",
      "Requirement already satisfied: wrapt==1.10.11 in /usr/local/lib/python3.7/site-packages (from -r requirements.txt (line 41)) (1.10.11)\n",
      "Requirement already satisfied: setuptools in /usr/local/lib/python3.7/site-packages (from kiwisolver==1.1.0->-r requirements.txt (line 13)) (41.0.1)\n"
     ]
    }
   ],
   "source": [
    "!python3 -m pip install -r requirements.txt"
   ]
  },
  {
   "cell_type": "code",
   "execution_count": 33,
   "metadata": {},
   "outputs": [
    {
     "data": {
      "text/plain": [
       "<module 'convokit' from '/Users/emilytseng/Cornell-Conversational-Analysis-Toolkit/convokit/__init__.py'>"
      ]
     },
     "execution_count": 33,
     "metadata": {},
     "output_type": "execute_result"
    }
   ],
   "source": [
    "import convokit\n",
    "convokit"
   ]
  },
  {
   "cell_type": "code",
   "execution_count": 34,
   "metadata": {},
   "outputs": [],
   "source": [
    "from convokit import Corpus"
   ]
  },
  {
   "cell_type": "markdown",
   "metadata": {},
   "source": [
    "# Download locally stored corpus"
   ]
  },
  {
   "cell_type": "code",
   "execution_count": 35,
   "metadata": {},
   "outputs": [],
   "source": [
    "corpus = Corpus(filename='./datasets/friends-corpus/corpus')"
   ]
  },
  {
   "cell_type": "code",
   "execution_count": 36,
   "metadata": {},
   "outputs": [
    {
     "data": {
      "text/plain": [
       "Utterance({'id': 's01_e01_c01_u001', 'user': User([('name', 'Monica Geller')]), 'root': 's01_e01_c01_u001', 'reply_to': None, 'timestamp': None, 'text': \"There's nothing to tell! He's just some guy I work with!\", 'meta': {'tokens': [['There', \"'s\", 'nothing', 'to', 'tell', '!'], ['He', \"'s\", 'just', 'some', 'guy', 'I', 'work', 'with', '!']], 'character_entities': [[], [[0, 1, 'Paul the Wine Guy'], [4, 5, 'Paul the Wine Guy'], [5, 6, 'Monica Geller']]], 'emotion': None, 'caption': None, 'transcript_with_note': None, 'tokens_with_note': None}})"
      ]
     },
     "execution_count": 36,
     "metadata": {},
     "output_type": "execute_result"
    }
   ],
   "source": [
    "utt_ids=corpus.get_utterance_ids()\n",
    "utt0=corpus.get_utterance(utt_ids[0])\n",
    "utt0"
   ]
  },
  {
   "cell_type": "code",
   "execution_count": null,
   "metadata": {},
   "outputs": [],
   "source": []
  },
  {
   "cell_type": "markdown",
   "metadata": {},
   "source": [
    "# Use locally defined Transformer"
   ]
  },
  {
   "cell_type": "code",
   "execution_count": 37,
   "metadata": {
    "scrolled": true
   },
   "outputs": [
    {
     "data": {
      "text/plain": [
       "convokit.genderromantic.genderromantic.Genderromantic"
      ]
     },
     "execution_count": 37,
     "metadata": {},
     "output_type": "execute_result"
    }
   ],
   "source": [
    "from convokit import Genderromantic\n",
    "Genderromantic"
   ]
  },
  {
   "cell_type": "code",
   "execution_count": 38,
   "metadata": {},
   "outputs": [],
   "source": [
    "grr = Genderromantic()"
   ]
  },
  {
   "cell_type": "code",
   "execution_count": 39,
   "metadata": {
    "scrolled": true
   },
   "outputs": [],
   "source": [
    "transformed_corpus = grr.fit_transform(corpus)"
   ]
  },
  {
   "cell_type": "code",
   "execution_count": 40,
   "metadata": {},
   "outputs": [
    {
     "data": {
      "text/plain": [
       "Conversation({'_owner': <convokit.model.corpus.Corpus object at 0x13f87aa90>, '_id': 's01_e01_c01_u001', '_utterance_ids': ['s01_e01_c01_u001', 's01_e01_c01_u002', 's01_e01_c01_u003', 's01_e01_c01_u004', 's01_e01_c01_u006', 's01_e01_c01_u007', 's01_e01_c01_u008', 's01_e01_c01_u010', 's01_e01_c01_u011', 's01_e01_c01_u012', 's01_e01_c01_u013', 's01_e01_c01_u014', 's01_e01_c01_u015', 's01_e01_c01_u016', 's01_e01_c01_u017', 's01_e01_c01_u018', 's01_e01_c01_u019', 's01_e01_c01_u021', 's01_e01_c01_u022', 's01_e01_c01_u023', 's01_e01_c01_u024', 's01_e01_c01_u025', 's01_e01_c01_u026', 's01_e01_c01_u027', 's01_e01_c01_u028', 's01_e01_c01_u029', 's01_e01_c01_u030', 's01_e01_c01_u031', 's01_e01_c01_u032', 's01_e01_c01_u033', 's01_e01_c01_u034', 's01_e01_c01_u035', 's01_e01_c01_u036', 's01_e01_c01_u037', 's01_e01_c01_u038', 's01_e01_c01_u039', 's01_e01_c01_u040', 's01_e01_c01_u041', 's01_e01_c01_u042', 's01_e01_c01_u044', 's01_e01_c01_u045', 's01_e01_c01_u047', 's01_e01_c01_u048', 's01_e01_c01_u049', 's01_e01_c01_u050', 's01_e01_c01_u051', 's01_e01_c01_u052', 's01_e01_c01_u053', 's01_e01_c01_u055', 's01_e01_c01_u056', 's01_e01_c01_u057', 's01_e01_c01_u058'], '_usernames': None, '_meta': {}})"
      ]
     },
     "execution_count": 40,
     "metadata": {},
     "output_type": "execute_result"
    }
   ],
   "source": [
    "transformed_corpus.get_conversation('s01_e01_c01_u001')"
   ]
  },
  {
   "cell_type": "markdown",
   "metadata": {},
   "source": [
    "# Running Statistics on Utterance-Level"
   ]
  },
  {
   "cell_type": "code",
   "execution_count": 34,
   "metadata": {},
   "outputs": [
    {
     "name": "stdout",
     "output_type": "stream",
     "text": [
      "male_speaking:  20745\n",
      "male_speaking_about_female:  2026\n",
      "male_speaking_about_female_romantic:  277\n",
      "pct male utterances about females 9.766208724993975\n",
      "pct male utterances about females that are romantic 13.672260612043436\n",
      "male_speaking_not_about_female:  59312\n",
      "\n",
      "\n",
      "female_speaking:  28264\n",
      "female_speaking_about_male:  3651\n",
      "female_speaking_about_male_romantic:  466\n",
      "pct female utterances about males 12.917492216246815\n",
      "pct female utterances about males that are romantic 12.763626403725006\n",
      "female_speaking_not_about_male:  57687\n",
      "\n",
      "\n",
      "romantic:  5279\n",
      "not_romantic:  56059\n"
     ]
    }
   ],
   "source": [
    "# Original Genderromantic\n",
    "\n",
    "male_speaking = 0\n",
    "male_speaking_about_female = 0\n",
    "male_speaking_about_female_romantic = 0\n",
    "\n",
    "male_speaking_not_about_female = 0\n",
    "\n",
    "female_speaking = 0\n",
    "female_speaking_about_male = 0\n",
    "female_speaking_about_male_romantic = 0\n",
    "\n",
    "female_speaking_not_about_male = 0\n",
    "\n",
    "romantic = 0\n",
    "not_romantic = 0\n",
    "\n",
    "\n",
    "utterance_ids = transformed_corpus.get_utterance_ids()\n",
    "assert len(utterance_ids) == 61338\n",
    "\n",
    "for uid in utterance_ids:\n",
    "    utt=transformed_corpus.get_utterance(uid)\n",
    "    \n",
    "    # First get whether it's a male or female speaker\n",
    "    speaker_gender = utt.user.meta['gender']\n",
    "    if speaker_gender == \"male\":\n",
    "        male_speaking += 1\n",
    "    if speaker_gender == \"female\":\n",
    "        female_speaking += 1\n",
    "        \n",
    "    # Then get whether the utterance is a male speaking about a female:\n",
    "    mf2=utt.meta[\"male_about_female\"]\n",
    "    if mf2:\n",
    "        male_speaking_about_female += 1\n",
    "        # And whether it was romantic\n",
    "        if utt.meta[\"contains_romantic\"]:\n",
    "            male_speaking_about_female_romantic += 1\n",
    "    else:\n",
    "        male_speaking_not_about_female += 1\n",
    "        \n",
    "    # Then get whether the utterance is a female speaking about a male:\n",
    "    fm2=utt.meta[\"female_about_male\"]\n",
    "    if fm2:\n",
    "        female_speaking_about_male += 1\n",
    "        # And whether it was romantic\n",
    "        if utt.meta[\"contains_romantic\"]:\n",
    "            female_speaking_about_male_romantic += 1\n",
    "    else:\n",
    "        female_speaking_not_about_male += 1\n",
    "        \n",
    "    # Then register whether the utt is romantic, period.\n",
    "    rom=utt.meta[\"contains_romantic\"]\n",
    "    if rom:\n",
    "        romantic += 1\n",
    "    else:\n",
    "        not_romantic += 1\n",
    "\n",
    "#Creating Percentages - help with graphs later\n",
    "perc_male_about_female=(float(male_speaking_about_female) / float(male_speaking))*100\n",
    "perc_male_about_female_rom=(float(male_speaking_about_female_romantic) / float(male_speaking_about_female))*100\n",
    "perc_female_about_male=(float(female_speaking_about_male) / float(female_speaking))*100\n",
    "perc_female_about_male_rom=(float(female_speaking_about_male_romantic) / float(female_speaking_about_male))*100\n",
    "    \n",
    "print('male_speaking: ', male_speaking)\n",
    "print('male_speaking_about_female: ', male_speaking_about_female)\n",
    "print('male_speaking_about_female_romantic: ', male_speaking_about_female_romantic)\n",
    "print('pct male utterances about females', perc_male_about_female)\n",
    "print('pct male utterances about females that are romantic', perc_male_about_female_rom)\n",
    "print('male_speaking_not_about_female: ', male_speaking_not_about_female)\n",
    "print('\\n')\n",
    "print('female_speaking: ', female_speaking)\n",
    "print('female_speaking_about_male: ', female_speaking_about_male)\n",
    "print('female_speaking_about_male_romantic: ', female_speaking_about_male_romantic)\n",
    "print('pct female utterances about males', perc_female_about_male)\n",
    "print('pct female utterances about males that are romantic', perc_female_about_male_rom)\n",
    "print('female_speaking_not_about_male: ', female_speaking_not_about_male)\n",
    "print('\\n')\n",
    "print('romantic: ', romantic)\n",
    "print('not_romantic: ', not_romantic)\n",
    "\n",
    "\n"
   ]
  },
  {
   "cell_type": "code",
   "execution_count": 41,
   "metadata": {},
   "outputs": [
    {
     "name": "stdout",
     "output_type": "stream",
     "text": [
      "male_speaking:  20745\n",
      "male_speaking_about_female:  2026\n",
      "male_speaking_about_female_romantic:  277\n",
      "pct male utterances about females 9.766208724993975\n",
      "pct male utterances about females that are romantic 13.672260612043436\n",
      "male_speaking_not_about_female:  59312\n",
      "\n",
      "\n",
      "female_speaking:  28264\n",
      "female_speaking_about_male:  3651\n",
      "female_speaking_about_male_romantic:  466\n",
      "pct female utterances about males 12.917492216246815\n",
      "pct female utterances about males that are romantic 12.763626403725006\n",
      "female_speaking_not_about_male:  57687\n",
      "\n",
      "\n",
      "romantic:  5279\n",
      "not_romantic:  56059\n"
     ]
    }
   ],
   "source": [
    "# Pronoun-only \n",
    "male_speaking = 0\n",
    "male_speaking_about_female = 0\n",
    "male_speaking_about_female_romantic = 0\n",
    "\n",
    "male_speaking_not_about_female = 0\n",
    "\n",
    "female_speaking = 0\n",
    "female_speaking_about_male = 0\n",
    "female_speaking_about_male_romantic = 0\n",
    "\n",
    "female_speaking_not_about_male = 0\n",
    "\n",
    "romantic = 0\n",
    "not_romantic = 0\n",
    "\n",
    "\n",
    "utterance_ids = transformed_corpus.get_utterance_ids()\n",
    "assert len(utterance_ids) == 61338\n",
    "\n",
    "for uid in utterance_ids:\n",
    "    utt=transformed_corpus.get_utterance(uid)\n",
    "    \n",
    "    # First get whether it's a male or female speaker\n",
    "    speaker_gender = utt.user.meta['gender']\n",
    "    if speaker_gender == \"male\":\n",
    "        male_speaking += 1\n",
    "    if speaker_gender == \"female\":\n",
    "        female_speaking += 1\n",
    "        \n",
    "    # Then get whether the utterance is a male speaking about a female:\n",
    "    mf2=utt.meta[\"male_about_female\"]\n",
    "    if mf2:\n",
    "        male_speaking_about_female += 1\n",
    "        # And whether it was romantic\n",
    "        if utt.meta[\"contains_romantic\"]:\n",
    "            male_speaking_about_female_romantic += 1\n",
    "    else:\n",
    "        male_speaking_not_about_female += 1\n",
    "        \n",
    "    # Then get whether the utterance is a female speaking about a male:\n",
    "    fm2=utt.meta[\"female_about_male\"]\n",
    "    if fm2:\n",
    "        female_speaking_about_male += 1\n",
    "        # And whether it was romantic\n",
    "        if utt.meta[\"contains_romantic\"]:\n",
    "            female_speaking_about_male_romantic += 1\n",
    "    else:\n",
    "        female_speaking_not_about_male += 1\n",
    "        \n",
    "    # Then register whether the utt is romantic, period.\n",
    "    rom=utt.meta[\"contains_romantic\"]\n",
    "    if rom:\n",
    "        romantic += 1\n",
    "    else:\n",
    "        not_romantic += 1\n",
    "\n",
    "#Creating Percentages - help with graphs later\n",
    "perc_male_about_female=(float(male_speaking_about_female) / float(male_speaking))*100\n",
    "perc_male_about_female_rom=(float(male_speaking_about_female_romantic) / float(male_speaking_about_female))*100\n",
    "perc_female_about_male=(float(female_speaking_about_male) / float(female_speaking))*100\n",
    "perc_female_about_male_rom=(float(female_speaking_about_male_romantic) / float(female_speaking_about_male))*100\n",
    "    \n",
    "print('male_speaking: ', male_speaking)\n",
    "print('male_speaking_about_female: ', male_speaking_about_female)\n",
    "print('male_speaking_about_female_romantic: ', male_speaking_about_female_romantic)\n",
    "print('pct male utterances about females', perc_male_about_female)\n",
    "print('pct male utterances about females that are romantic', perc_male_about_female_rom)\n",
    "print('male_speaking_not_about_female: ', male_speaking_not_about_female)\n",
    "print('\\n')\n",
    "print('female_speaking: ', female_speaking)\n",
    "print('female_speaking_about_male: ', female_speaking_about_male)\n",
    "print('female_speaking_about_male_romantic: ', female_speaking_about_male_romantic)\n",
    "print('pct female utterances about males', perc_female_about_male)\n",
    "print('pct female utterances about males that are romantic', perc_female_about_male_rom)\n",
    "print('female_speaking_not_about_male: ', female_speaking_not_about_male)\n",
    "print('\\n')\n",
    "print('romantic: ', romantic)\n",
    "print('not_romantic: ', not_romantic)\n",
    "\n",
    "\n"
   ]
  },
  {
   "cell_type": "markdown",
   "metadata": {},
   "source": [
    "# Creating Utterance Bar Graphs"
   ]
  },
  {
   "cell_type": "code",
   "execution_count": 88,
   "metadata": {},
   "outputs": [],
   "source": [
    "import matplotlib.pyplot as plt\n",
    "import numpy as np\n",
    "import pandas as pd"
   ]
  },
  {
   "cell_type": "code",
   "execution_count": 87,
   "metadata": {},
   "outputs": [
    {
     "data": {
      "image/png": "[encoded data removed]",
      "text/plain": [
       "<Figure size 432x288 with 1 Axes>"
      ]
     },
     "metadata": {
      "needs_background": "light"
     },
     "output_type": "display_data"
    }
   ],
   "source": [
    "#Simple Statistics\n",
    "label = [5279, 56059]\n",
    "height=[romantic, not_romantic]\n",
    "bars=('Romantic', 'Not Romantic')\n",
    "y_pos = np.arange(len(bars))\n",
    "plt.bar(y_pos, height)\n",
    "plt.xticks(y_pos, bars)\n",
    "plt.title('Descriptives about Conversations')\n",
    "for i, v in enumerate(label):\n",
    "    plt.text(x=i, y =v+.25, s=(v))\n",
    "plt.show()"
   ]
  },
  {
   "cell_type": "code",
   "execution_count": 86,
   "metadata": {
    "scrolled": true
   },
   "outputs": [
    {
     "data": {
      "image/png": "[encoded data removed]",
      "text/plain": [
       "<Figure size 432x288 with 1 Axes>"
      ]
     },
     "metadata": {
      "needs_background": "light"
     },
     "output_type": "display_data"
    }
   ],
   "source": [
    "#Comparing Male about Female and Female about Male Conversations (N)\n",
    "bars1=[male_speaking, male_speaking_about_female, male_speaking_about_female_romantic ]\n",
    "bars2=[female_speaking, female_speaking_about_male, female_speaking_about_male_romantic ]\n",
    "barWidth=.25 \n",
    "\n",
    "# Set position of bar on X axis\n",
    "r1 = np.arange(len(bars1))\n",
    "r2 = [x + barWidth for x in r1]\n",
    "\n",
    "# Make the plot\n",
    "plt.bar(r1, bars1, color='g', width=barWidth, edgecolor='white', label='Males')\n",
    "plt.bar(r2, bars2, color='c', width=barWidth, edgecolor='white', label='Females')\n",
    " \n",
    "# Add xticks on the middle of the group bars\n",
    "plt.xlabel('group', fontweight='bold')\n",
    "plt.xticks([r + barWidth for r in range(len(bars1))], ['Overall', 'Opposite Sex', 'Opposite Sex & Romantic'])\n",
    " \n",
    "# Create legend & Show graphic\n",
    "plt.title('Number of conversations overall, about opposite sex, \\n and about opposite sex that are romantic')\n",
    "plt.ylabel('Number of Conversations')\n",
    "plt.xlabel('')\n",
    "plt.legend()\n",
    "plt.show()"
   ]
  },
  {
   "cell_type": "code",
   "execution_count": 83,
   "metadata": {},
   "outputs": [
    {
     "data": {
      "image/png": "[encoded data removed]",
      "text/plain": [
       "<Figure size 432x288 with 1 Axes>"
      ]
     },
     "metadata": {
      "needs_background": "light"
     },
     "output_type": "display_data"
    }
   ],
   "source": [
    "#Comparing Male about Female and Female about Male Conversations (%)\n",
    "bars1=[perc_male_about_female, perc_male_about_female_rom]\n",
    "bars2=[perc_female_about_male, perc_female_about_male_rom]\n",
    "barWidth=.25 \n",
    "\n",
    "# Set position of bar on X axis\n",
    "r1 = np.arange(len(bars1))\n",
    "r2 = [x + barWidth for x in r1]\n",
    " \n",
    "# Make the plot\n",
    "plt.bar(r1, bars1, color='g', width=barWidth, edgecolor='white', label='Males')\n",
    "plt.bar(r2, bars2, color='c', width=barWidth, edgecolor='white', label='Females')\n",
    " \n",
    "# Add xticks on the middle of the group bars\n",
    "plt.xlabel('group', fontweight='bold')\n",
    "plt.xticks([r + barWidth for r in range(len(bars1))], ['About Opposite Sex', 'About Opposite Sex & Romantic'])\n",
    " \n",
    "# Create legend & Show graphic\n",
    "plt.title('Percent of Female (or Male) Conversations about the Opposite Sex \\n and of those what Percentage are Romantic')\n",
    "plt.ylabel('Percent')\n",
    "plt.xlabel('')\n",
    "plt.legend()\n",
    "plt.show()"
   ]
  },
  {
   "cell_type": "markdown",
   "metadata": {},
   "source": [
    "# Running Statistics on Conversation-Level (pick - up here)"
   ]
  },
  {
   "cell_type": "code",
   "execution_count": 10,
   "metadata": {},
   "outputs": [],
   "source": [
    "convo={}\n",
    "mf=[]\n",
    "fm=[]\n",
    "rom=[]\n",
    "id2=[]\n",
    "total_utt=0\n",
    "utt_count=0\n",
    "utterance_ids = transformed_corpus.get_utterance_ids()\n",
    "current_scene=utterance_ids[0][:11]\n",
    "current_scene2=1\n",
    "for uid in utterance_ids:\n",
    "    utt=transformed_corpus.get_utterance(uid)\n",
    "    if uid[:11]==current_scene:\n",
    "        total_utt=total_utt+1\n",
    "        mf2=utt.meta[\"male_about_female\"]\n",
    "        if mf2==True:\n",
    "            mf.append(mf2)\n",
    "        fm2=utt.meta[\"female_about_male\"]\n",
    "        if fm2==True:\n",
    "            fm.append(fm2)\n",
    "        rom2=utt.meta[\"contains_romantic\"]\n",
    "        if rom2==True:    \n",
    "            rom.append(rom2)\n",
    "    else:\n",
    "        current_scene=uid[:11]\n",
    "        current_scene2=current_scene2+1\n",
    "        mf=[]\n",
    "        fm=[]\n",
    "        rom=[]\n",
    "        total_utt=0\n",
    "    convo[current_scene2] = {'total utterances': total_utt, 'male-female': mf, 'female-male': fm, 'romantic': rom}"
   ]
  },
  {
   "cell_type": "code",
   "execution_count": 11,
   "metadata": {},
   "outputs": [
    {
     "name": "stdout",
     "output_type": "stream",
     "text": [
      "{'total utterances': 52, 'male-female': [True, True, True, True], 'female-male': [True, True, True, True, True, True, True, True, True], 'romantic': [True, True, True, True, True, True]}\n"
     ]
    }
   ],
   "source": [
    "#convo.keys()\n",
    "print(convo[1])"
   ]
  },
  {
   "cell_type": "code",
   "execution_count": 12,
   "metadata": {},
   "outputs": [],
   "source": [
    "r= [(current_scene2, convo[current_scene2]['total utterances'], len(convo[current_scene2]['romantic']), len(convo[current_scene2]['male-female']), len(convo[current_scene2]['female-male'])) for current_scene2 in convo.keys()]"
   ]
  },
  {
   "cell_type": "code",
   "execution_count": 13,
   "metadata": {
    "scrolled": true
   },
   "outputs": [
    {
     "name": "stdout",
     "output_type": "stream",
     "text": [
      "      scene  total_utterances  romantic  male-female  female-male\n",
      "0         1                52         6            4            9\n",
      "1         2                55         6            5            9\n",
      "2         3                 0         0            0            0\n",
      "3         4                16         0            0            0\n",
      "4         5                 8         0            0            2\n",
      "...     ...               ...       ...          ...          ...\n",
      "3094   3095                19         1            0            0\n",
      "3095   3096                34         3            0            0\n",
      "3096   3097                11         2            0            0\n",
      "3097   3098                20         3            0            0\n",
      "3098   3099                20         2            0            0\n",
      "\n",
      "[3099 rows x 5 columns]\n"
     ]
    }
   ],
   "source": [
    "import pandas as pd\n",
    "r=pd.DataFrame.from_dict(r)\n",
    "r.columns=['scene', 'total_utterances', 'romantic', 'male-female', 'female-male']\n",
    "print(r)"
   ]
  },
  {
   "cell_type": "code",
   "execution_count": 14,
   "metadata": {},
   "outputs": [
    {
     "name": "stderr",
     "output_type": "stream",
     "text": [
      "/home/kcs3au/.local/lib/python3.6/site-packages/ipykernel_launcher.py:2: RuntimeWarning: invalid value encountered in long_scalars\n",
      "  \n"
     ]
    },
    {
     "name": "stdout",
     "output_type": "stream",
     "text": [
      "[8.924339681201685, 0.0, 100.0]\n"
     ]
    }
   ],
   "source": [
    "def calculate_average(row):\n",
    "    return ((row['romantic'])/(row['total_utterances']))*100\n",
    "\n",
    "r.apply(calculate_average, axis=1)\n",
    "r['avg_rom'] = r.apply(calculate_average, axis=1)\n",
    "\n",
    "avg_rom=[]\n",
    "x= r['avg_rom'].mean()\n",
    "avg_rom.append(x)\n",
    "\n",
    "y= r['avg_rom'].min()\n",
    "avg_rom.append(y)\n",
    "\n",
    "z= r['avg_rom'].max()\n",
    "avg_rom.append(z)\n",
    "\n",
    "\n",
    "print(avg_rom)"
   ]
  },
  {
   "cell_type": "code",
   "execution_count": 16,
   "metadata": {},
   "outputs": [
    {
     "name": "stdout",
     "output_type": "stream",
     "text": [
      "413\n",
      "155\n",
      "258\n",
      "116\n",
      "51\n",
      "65\n"
     ]
    }
   ],
   "source": [
    "#Female \n",
    "\n",
    "#Total number of female-male only conversations\n",
    "f_all = len(r[(r['male-female']==0) & (r['female-male']>=1)]) # (255)\n",
    "print(f_all)\n",
    "#Total number of female-male only conversations with no romantic \n",
    "f_nr = len(r[(r['male-female']==0) & (r['female-male']>=1) & (r['romantic']==0)])\n",
    "print(f_nr)\n",
    "#Total number of female-male only conversations with some romantic\n",
    "f_r = len(r[(r['male-female']==0) & (r['female-male']>=1) & (r['romantic']>=1)])\n",
    "print(f_r)\n",
    "\n",
    "#Male\n",
    "\n",
    "#Total number of male-female only conversations\n",
    "f_all = len(r[(r['female-male']==0) & (r['male-female']>=1)]) # (255)\n",
    "print(f_all)\n",
    "#Total number of male-female only conversations with no romantic \n",
    "f_nr = len(r[(r['female-male']==0) & (r['male-female']>=1) & (r['romantic']==0)])\n",
    "print(f_nr)\n",
    "#Total number of male-female only conversations with some romantic\n",
    "f_r = len(r[(r['female-male']==0) & (r['male-female']>=1) & (r['romantic']>=1)])\n",
    "print(f_r)\n"
   ]
  },
  {
   "cell_type": "code",
   "execution_count": null,
   "metadata": {},
   "outputs": [],
   "source": []
  }
 ],
 "metadata": {
  "colab": {
   "collapsed_sections": [],
   "name": "convert-et397.ipynb",
   "provenance": [],
   "version": "0.3.2"
  },
  "kernelspec": {
   "display_name": "Python 3",
   "language": "python",
   "name": "python3"
  },
  "language_info": {
   "codemirror_mode": {
    "name": "ipython",
    "version": 3
   },
   "file_extension": ".py",
   "mimetype": "text/x-python",
   "name": "python",
   "nbconvert_exporter": "python",
   "pygments_lexer": "ipython3",
   "version": "3.7.4"
  }
 },
 "nbformat": 4,
 "nbformat_minor": 1
}
