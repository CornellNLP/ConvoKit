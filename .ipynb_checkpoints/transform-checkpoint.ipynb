{
 "cells": [
  {
   "cell_type": "markdown",
   "metadata": {
    "colab_type": "text",
    "id": "p_YNRDvb3etb"
   },
   "source": [
    "# Creating Our Dataset and Applying Our Transformer\n",
    "\n",
    "In this notebook, we:\n",
    "- download friends-corpus\n",
    "- apply our Transformer, Genderromantic, to it\n",
    "- analyze the resulting measures"
   ]
  },
  {
   "cell_type": "code",
   "execution_count": 1,
   "metadata": {
    "colab": {
     "base_uri": "https://localhost:8080/",
     "height": 1000
    },
    "colab_type": "code",
    "id": "Wp3WIlBN4D7l",
    "outputId": "d175f9db-6bab-416b-d2d1-b98b1af1fd51"
   },
   "outputs": [
    {
     "name": "stdout",
     "output_type": "stream",
     "text": [
      "Requirement already satisfied: astroid==2.2.5 in /Users/emilytseng/Library/Python/3.7/lib/python/site-packages (from -r requirements.txt (line 1)) (2.2.5)\n",
      "Requirement already satisfied: certifi==2019.6.16 in /usr/local/lib/python3.7/site-packages (from -r requirements.txt (line 2)) (2019.6.16)\n",
      "Requirement already satisfied: chardet==3.0.4 in /usr/local/lib/python3.7/site-packages (from -r requirements.txt (line 3)) (3.0.4)\n",
      "Requirement already satisfied: convokit==2.0.11 in /usr/local/lib/python3.7/site-packages (from -r requirements.txt (line 4)) (2.0.11)\n",
      "Requirement already satisfied: cycler==0.10.0 in /usr/local/lib/python3.7/site-packages (from -r requirements.txt (line 5)) (0.10.0)\n",
      "Requirement already satisfied: cymem==1.31.2 in /usr/local/lib/python3.7/site-packages (from -r requirements.txt (line 6)) (1.31.2)\n",
      "Requirement already satisfied: cytoolz==0.9.0.1 in /usr/local/lib/python3.7/site-packages (from -r requirements.txt (line 7)) (0.9.0.1)\n",
      "Requirement already satisfied: dill==0.2.9 in /usr/local/lib/python3.7/site-packages (from -r requirements.txt (line 8)) (0.2.9)\n",
      "Requirement already satisfied: en-core-web-sm==2.0.0 in /usr/local/lib/python3.7/site-packages (from -r requirements.txt (line 9)) (2.0.0)\n",
      "Requirement already satisfied: idna==2.8 in /usr/local/lib/python3.7/site-packages (from -r requirements.txt (line 10)) (2.8)\n",
      "Requirement already satisfied: isort==4.3.21 in /Users/emilytseng/Library/Python/3.7/lib/python/site-packages (from -r requirements.txt (line 11)) (4.3.21)\n",
      "Requirement already satisfied: joblib==0.13.2 in /usr/local/lib/python3.7/site-packages (from -r requirements.txt (line 12)) (0.13.2)\n",
      "Requirement already satisfied: kiwisolver==1.1.0 in /usr/local/lib/python3.7/site-packages (from -r requirements.txt (line 13)) (1.1.0)\n",
      "Requirement already satisfied: lazy-object-proxy==1.4.2 in /Users/emilytseng/Library/Python/3.7/lib/python/site-packages (from -r requirements.txt (line 14)) (1.4.2)\n",
      "Requirement already satisfied: matplotlib==3.1.1 in /usr/local/lib/python3.7/site-packages (from -r requirements.txt (line 15)) (3.1.1)\n",
      "Requirement already satisfied: mccabe==0.6.1 in /Users/emilytseng/Library/Python/3.7/lib/python/site-packages (from -r requirements.txt (line 16)) (0.6.1)\n",
      "Requirement already satisfied: msgpack==0.6.1 in /usr/local/lib/python3.7/site-packages (from -r requirements.txt (line 17)) (0.6.1)\n",
      "Requirement already satisfied: msgpack-numpy==0.4.3.2 in /usr/local/lib/python3.7/site-packages (from -r requirements.txt (line 18)) (0.4.3.2)\n",
      "Requirement already satisfied: murmurhash==0.28.0 in /usr/local/lib/python3.7/site-packages (from -r requirements.txt (line 19)) (0.28.0)\n",
      "Requirement already satisfied: nltk==3.4.5 in /usr/local/lib/python3.7/site-packages (from -r requirements.txt (line 20)) (3.4.5)\n",
      "Requirement already satisfied: numpy==1.17.2 in /usr/local/lib/python3.7/site-packages (from -r requirements.txt (line 21)) (1.17.2)\n",
      "Requirement already satisfied: pandas==0.25.1 in /usr/local/lib/python3.7/site-packages (from -r requirements.txt (line 22)) (0.25.1)\n",
      "Requirement already satisfied: plac==0.9.6 in /usr/local/lib/python3.7/site-packages (from -r requirements.txt (line 23)) (0.9.6)\n",
      "Requirement already satisfied: preshed==1.0.1 in /usr/local/lib/python3.7/site-packages (from -r requirements.txt (line 24)) (1.0.1)\n",
      "Requirement already satisfied: pylint==2.3.1 in /Users/emilytseng/Library/Python/3.7/lib/python/site-packages (from -r requirements.txt (line 25)) (2.3.1)\n",
      "Requirement already satisfied: pyparsing==2.4.2 in /usr/local/lib/python3.7/site-packages (from -r requirements.txt (line 26)) (2.4.2)\n",
      "Requirement already satisfied: python-dateutil==2.8.0 in /usr/local/lib/python3.7/site-packages (from -r requirements.txt (line 27)) (2.8.0)\n",
      "Requirement already satisfied: pytz==2019.2 in /usr/local/lib/python3.7/site-packages (from -r requirements.txt (line 28)) (2019.2)\n",
      "Requirement already satisfied: regex==2017.4.5 in /usr/local/lib/python3.7/site-packages (from -r requirements.txt (line 29)) (2017.4.5)\n",
      "Requirement already satisfied: requests==2.22.0 in /usr/local/lib/python3.7/site-packages (from -r requirements.txt (line 30)) (2.22.0)\n",
      "Requirement already satisfied: scikit-learn==0.21.3 in /usr/local/lib/python3.7/site-packages (from -r requirements.txt (line 31)) (0.21.3)\n",
      "Requirement already satisfied: scipy==1.3.1 in /usr/local/lib/python3.7/site-packages (from -r requirements.txt (line 32)) (1.3.1)\n",
      "Requirement already satisfied: six==1.12.0 in /Users/emilytseng/Library/Python/3.7/lib/python/site-packages (from -r requirements.txt (line 33)) (1.12.0)\n",
      "Requirement already satisfied: spacy==2.0.12 in /usr/local/lib/python3.7/site-packages (from -r requirements.txt (line 34)) (2.0.12)\n",
      "Requirement already satisfied: thinc==6.10.3 in /usr/local/lib/python3.7/site-packages (from -r requirements.txt (line 35)) (6.10.3)\n",
      "Requirement already satisfied: toolz==0.10.0 in /usr/local/lib/python3.7/site-packages (from -r requirements.txt (line 36)) (0.10.0)\n",
      "Requirement already satisfied: tqdm==4.35.0 in /usr/local/lib/python3.7/site-packages (from -r requirements.txt (line 37)) (4.35.0)\n",
      "Requirement already satisfied: typed-ast==1.4.0 in /Users/emilytseng/Library/Python/3.7/lib/python/site-packages (from -r requirements.txt (line 38)) (1.4.0)\n",
      "Requirement already satisfied: ujson==1.35 in /usr/local/lib/python3.7/site-packages (from -r requirements.txt (line 39)) (1.35)\n",
      "Requirement already satisfied: urllib3==1.25.3 in /usr/local/lib/python3.7/site-packages (from -r requirements.txt (line 40)) (1.25.3)\n",
      "Requirement already satisfied: wrapt==1.10.11 in /usr/local/lib/python3.7/site-packages (from -r requirements.txt (line 41)) (1.10.11)\n",
      "Requirement already satisfied: setuptools in /usr/local/lib/python3.7/site-packages (from kiwisolver==1.1.0->-r requirements.txt (line 13)) (41.0.1)\n"
     ]
    }
   ],
   "source": [
    "!python3 -m pip install -r requirements.txt"
   ]
  },
  {
   "cell_type": "code",
   "execution_count": 2,
   "metadata": {},
   "outputs": [
    {
     "data": {
      "text/plain": [
       "<module 'convokit' from '/Users/emilytseng/Cornell-Conversational-Analysis-Toolkit/convokit/__init__.py'>"
      ]
     },
     "execution_count": 2,
     "metadata": {},
     "output_type": "execute_result"
    }
   ],
   "source": [
    "import convokit\n",
    "convokit"
   ]
  },
  {
   "cell_type": "code",
   "execution_count": 3,
   "metadata": {},
   "outputs": [],
   "source": [
    "from convokit import Corpus"
   ]
  },
  {
   "cell_type": "markdown",
   "metadata": {},
   "source": [
    "# Download locally stored corpus"
   ]
  },
  {
   "cell_type": "code",
   "execution_count": 4,
   "metadata": {},
   "outputs": [],
   "source": [
    "corpus = Corpus(filename='./datasets/friends-corpus/corpus')"
   ]
  },
  {
   "cell_type": "markdown",
   "metadata": {},
   "source": [
    "# Use locally defined Transformer"
   ]
  },
  {
   "cell_type": "code",
   "execution_count": 5,
   "metadata": {},
   "outputs": [
    {
     "data": {
      "text/plain": [
       "convokit.genderromantic.genderromantic.Genderromantic"
      ]
     },
     "execution_count": 5,
     "metadata": {},
     "output_type": "execute_result"
    }
   ],
   "source": [
    "from convokit import Genderromantic\n",
    "Genderromantic"
   ]
  },
  {
   "cell_type": "code",
   "execution_count": 6,
   "metadata": {},
   "outputs": [],
   "source": [
    "grr = Genderromantic()"
   ]
  },
  {
   "cell_type": "code",
   "execution_count": 8,
   "metadata": {
    "scrolled": true
   },
   "outputs": [],
   "source": [
    "transformed_corpus = grr.fit_transform(corpus)"
   ]
  },
  {
   "cell_type": "code",
   "execution_count": 12,
   "metadata": {},
   "outputs": [
    {
     "data": {
      "text/plain": [
       "Utterance({'id': 's01_e01_c01_u001', 'user': User([('name', 'Monica Geller')]), 'root': 's01_e01_c01_u001', 'reply_to': None, 'timestamp': None, 'text': \"There's nothing to tell! He's just some guy I work with!\", 'meta': {'tokens': [['There', \"'s\", 'nothing', 'to', 'tell', '!'], ['He', \"'s\", 'just', 'some', 'guy', 'I', 'work', 'with', '!']], 'character_entities': [[], [[0, 1, 'Paul the Wine Guy'], [4, 5, 'Paul the Wine Guy'], [5, 6, 'Monica Geller']]], 'emotion': None, 'caption': None, 'transcript_with_note': None, 'tokens_with_note': None, 'female_about_male': True, 'male_about_female': False, 'contains_romantic': False}})"
      ]
     },
     "execution_count": 12,
     "metadata": {},
     "output_type": "execute_result"
    }
   ],
   "source": [
    "next(transformed_corpus.iter_utterances())"
   ]
  },
  {
   "cell_type": "code",
   "execution_count": null,
   "metadata": {},
   "outputs": [],
   "source": []
  }
 ],
 "metadata": {
  "colab": {
   "collapsed_sections": [],
   "name": "convert-et397.ipynb",
   "provenance": [],
   "version": "0.3.2"
  },
  "kernelspec": {
   "display_name": "Python 3",
   "language": "python",
   "name": "python3"
  },
  "language_info": {
   "codemirror_mode": {
    "name": "ipython",
    "version": 3
   },
   "file_extension": ".py",
   "mimetype": "text/x-python",
   "name": "python",
   "nbconvert_exporter": "python",
   "pygments_lexer": "ipython3",
   "version": "3.7.4"
  }
 },
 "nbformat": 4,
 "nbformat_minor": 1
}
