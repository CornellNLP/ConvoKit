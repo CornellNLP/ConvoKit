{
 "cells": [
  {
   "cell_type": "markdown",
   "metadata": {
    "colab_type": "text",
    "id": "p_YNRDvb3etb"
   },
   "source": [
    "# Creating Our Dataset and Applying Our Transformer\n",
    "\n",
    "In this notebook, we:\n",
    "- download switch-board\n",
    "- apply updated Transformer, Genderromantic2, to it\n",
    "- analyze the resulting measures"
   ]
  },
  {
   "cell_type": "code",
   "execution_count": 1,
   "metadata": {
    "colab": {
     "base_uri": "https://localhost:8080/",
     "height": 1000
    },
    "colab_type": "code",
    "id": "Wp3WIlBN4D7l",
    "outputId": "d175f9db-6bab-416b-d2d1-b98b1af1fd51"
   },
   "outputs": [
    {
     "name": "stdout",
     "output_type": "stream",
     "text": [
      "Requirement already satisfied: astroid==2.2.5 in /Users/emilytseng/Library/Python/3.7/lib/python/site-packages (from -r requirements.txt (line 1)) (2.2.5)\n",
      "Requirement already satisfied: certifi==2019.6.16 in /usr/local/lib/python3.7/site-packages (from -r requirements.txt (line 2)) (2019.6.16)\n",
      "Requirement already satisfied: chardet==3.0.4 in /usr/local/lib/python3.7/site-packages (from -r requirements.txt (line 3)) (3.0.4)\n",
      "Requirement already satisfied: convokit==2.0.11 in /usr/local/lib/python3.7/site-packages (from -r requirements.txt (line 4)) (2.0.11)\n",
      "Requirement already satisfied: cycler==0.10.0 in /usr/local/lib/python3.7/site-packages (from -r requirements.txt (line 5)) (0.10.0)\n",
      "Requirement already satisfied: cymem==1.31.2 in /usr/local/lib/python3.7/site-packages (from -r requirements.txt (line 6)) (1.31.2)\n",
      "Requirement already satisfied: cytoolz==0.9.0.1 in /usr/local/lib/python3.7/site-packages (from -r requirements.txt (line 7)) (0.9.0.1)\n",
      "Requirement already satisfied: dill==0.2.9 in /usr/local/lib/python3.7/site-packages (from -r requirements.txt (line 8)) (0.2.9)\n",
      "Requirement already satisfied: en-core-web-sm==2.0.0 in /usr/local/lib/python3.7/site-packages (from -r requirements.txt (line 9)) (2.0.0)\n",
      "Requirement already satisfied: idna==2.8 in /usr/local/lib/python3.7/site-packages (from -r requirements.txt (line 10)) (2.8)\n",
      "Requirement already satisfied: isort==4.3.21 in /Users/emilytseng/Library/Python/3.7/lib/python/site-packages (from -r requirements.txt (line 11)) (4.3.21)\n",
      "Requirement already satisfied: joblib==0.13.2 in /usr/local/lib/python3.7/site-packages (from -r requirements.txt (line 12)) (0.13.2)\n",
      "Requirement already satisfied: kiwisolver==1.1.0 in /usr/local/lib/python3.7/site-packages (from -r requirements.txt (line 13)) (1.1.0)\n",
      "Requirement already satisfied: lazy-object-proxy==1.4.2 in /Users/emilytseng/Library/Python/3.7/lib/python/site-packages (from -r requirements.txt (line 14)) (1.4.2)\n",
      "Requirement already satisfied: matplotlib==3.1.1 in /usr/local/lib/python3.7/site-packages (from -r requirements.txt (line 15)) (3.1.1)\n",
      "Requirement already satisfied: mccabe==0.6.1 in /Users/emilytseng/Library/Python/3.7/lib/python/site-packages (from -r requirements.txt (line 16)) (0.6.1)\n",
      "Requirement already satisfied: msgpack==0.6.1 in /usr/local/lib/python3.7/site-packages (from -r requirements.txt (line 17)) (0.6.1)\n",
      "Requirement already satisfied: msgpack-numpy==0.4.3.2 in /usr/local/lib/python3.7/site-packages (from -r requirements.txt (line 18)) (0.4.3.2)\n",
      "Requirement already satisfied: murmurhash==0.28.0 in /usr/local/lib/python3.7/site-packages (from -r requirements.txt (line 19)) (0.28.0)\n",
      "Requirement already satisfied: nltk==3.4.5 in /usr/local/lib/python3.7/site-packages (from -r requirements.txt (line 20)) (3.4.5)\n",
      "Requirement already satisfied: numpy==1.17.2 in /usr/local/lib/python3.7/site-packages (from -r requirements.txt (line 21)) (1.17.2)\n",
      "Requirement already satisfied: pandas==0.25.1 in /usr/local/lib/python3.7/site-packages (from -r requirements.txt (line 22)) (0.25.1)\n",
      "Requirement already satisfied: plac==0.9.6 in /usr/local/lib/python3.7/site-packages (from -r requirements.txt (line 23)) (0.9.6)\n",
      "Requirement already satisfied: preshed==1.0.1 in /usr/local/lib/python3.7/site-packages (from -r requirements.txt (line 24)) (1.0.1)\n",
      "Requirement already satisfied: pylint==2.3.1 in /Users/emilytseng/Library/Python/3.7/lib/python/site-packages (from -r requirements.txt (line 25)) (2.3.1)\n",
      "Requirement already satisfied: pyparsing==2.4.2 in /usr/local/lib/python3.7/site-packages (from -r requirements.txt (line 26)) (2.4.2)\n",
      "Requirement already satisfied: python-dateutil==2.8.0 in /usr/local/lib/python3.7/site-packages (from -r requirements.txt (line 27)) (2.8.0)\n",
      "Requirement already satisfied: pytz==2019.2 in /usr/local/lib/python3.7/site-packages (from -r requirements.txt (line 28)) (2019.2)\n",
      "Requirement already satisfied: regex==2017.4.5 in /usr/local/lib/python3.7/site-packages (from -r requirements.txt (line 29)) (2017.4.5)\n",
      "Requirement already satisfied: requests==2.22.0 in /usr/local/lib/python3.7/site-packages (from -r requirements.txt (line 30)) (2.22.0)\n",
      "Requirement already satisfied: scikit-learn==0.21.3 in /usr/local/lib/python3.7/site-packages (from -r requirements.txt (line 31)) (0.21.3)\n",
      "Requirement already satisfied: scipy==1.3.1 in /usr/local/lib/python3.7/site-packages (from -r requirements.txt (line 32)) (1.3.1)\n",
      "Requirement already satisfied: six==1.12.0 in /Users/emilytseng/Library/Python/3.7/lib/python/site-packages (from -r requirements.txt (line 33)) (1.12.0)\n",
      "Requirement already satisfied: spacy==2.0.12 in /usr/local/lib/python3.7/site-packages (from -r requirements.txt (line 34)) (2.0.12)\n",
      "Requirement already satisfied: thinc==6.10.3 in /usr/local/lib/python3.7/site-packages (from -r requirements.txt (line 35)) (6.10.3)\n",
      "Requirement already satisfied: toolz==0.10.0 in /usr/local/lib/python3.7/site-packages (from -r requirements.txt (line 36)) (0.10.0)\n",
      "Requirement already satisfied: tqdm==4.35.0 in /usr/local/lib/python3.7/site-packages (from -r requirements.txt (line 37)) (4.35.0)\n",
      "Requirement already satisfied: typed-ast==1.4.0 in /Users/emilytseng/Library/Python/3.7/lib/python/site-packages (from -r requirements.txt (line 38)) (1.4.0)\n",
      "Requirement already satisfied: ujson==1.35 in /usr/local/lib/python3.7/site-packages (from -r requirements.txt (line 39)) (1.35)\n",
      "Requirement already satisfied: urllib3==1.25.3 in /usr/local/lib/python3.7/site-packages (from -r requirements.txt (line 40)) (1.25.3)\n",
      "Requirement already satisfied: wrapt==1.10.11 in /usr/local/lib/python3.7/site-packages (from -r requirements.txt (line 41)) (1.10.11)\n",
      "Requirement already satisfied: setuptools in /usr/local/lib/python3.7/site-packages (from kiwisolver==1.1.0->-r requirements.txt (line 13)) (41.0.1)\n"
     ]
    }
   ],
   "source": [
    "!python3 -m pip install -r requirements.txt"
   ]
  },
  {
   "cell_type": "code",
   "execution_count": 2,
   "metadata": {},
   "outputs": [
    {
     "data": {
      "text/plain": [
       "<module 'convokit' from '/Users/emilytseng/Cornell-Conversational-Analysis-Toolkit/convokit/__init__.py'>"
      ]
     },
     "execution_count": 2,
     "metadata": {},
     "output_type": "execute_result"
    }
   ],
   "source": [
    "import convokit\n",
    "convokit"
   ]
  },
  {
   "cell_type": "code",
   "execution_count": 3,
   "metadata": {},
   "outputs": [],
   "source": [
    "from convokit import Corpus"
   ]
  },
  {
   "cell_type": "markdown",
   "metadata": {},
   "source": [
    "# Download locally stored corpus"
   ]
  },
  {
   "cell_type": "code",
   "execution_count": 4,
   "metadata": {},
   "outputs": [],
   "source": [
    "corpus = Corpus(filename='./datasets/switchboard-corpus/corpus')"
   ]
  },
  {
   "cell_type": "markdown",
   "metadata": {},
   "source": [
    "# Use locally defined Transformer"
   ]
  },
  {
   "cell_type": "code",
   "execution_count": 5,
   "metadata": {
    "scrolled": true
   },
   "outputs": [
    {
     "data": {
      "text/plain": [
       "convokit.genderromantic2.genderromantic2.Genderromantic2"
      ]
     },
     "execution_count": 5,
     "metadata": {},
     "output_type": "execute_result"
    }
   ],
   "source": [
    "from convokit import Genderromantic2\n",
    "Genderromantic2"
   ]
  },
  {
   "cell_type": "code",
   "execution_count": 6,
   "metadata": {},
   "outputs": [],
   "source": [
    "grr = Genderromantic2()"
   ]
  },
  {
   "cell_type": "code",
   "execution_count": 7,
   "metadata": {
    "scrolled": true
   },
   "outputs": [],
   "source": [
    "transformed_corpus = grr.fit_transform(corpus)"
   ]
  },
  {
   "cell_type": "code",
   "execution_count": 8,
   "metadata": {},
   "outputs": [
    {
     "data": {
      "text/plain": [
       "Utterance({'id': '4325-0', 'user': User([('name', '1632')]), 'root': '4325-0', 'reply_to': None, 'timestamp': None, 'text': 'Okay.  /', 'meta': {'tag': 'o', 'pos': 'Okay/UH ./.', 'trees': [[['Okay'], ['.'], ['E_S']]], 'female_about_male': False, 'male_about_female': False, 'contains_romantic': False}})"
      ]
     },
     "execution_count": 8,
     "metadata": {},
     "output_type": "execute_result"
    }
   ],
   "source": [
    "next(transformed_corpus.iter_utterances())"
   ]
  },
  {
   "cell_type": "code",
   "execution_count": 11,
   "metadata": {},
   "outputs": [
    {
     "data": {
      "text/plain": [
       "{'sex': 'FEMALE',\n",
       " 'education': 2,\n",
       " 'birth_year': 1962,\n",
       " 'dialect_area': 'WESTERN'}"
      ]
     },
     "execution_count": 11,
     "metadata": {},
     "output_type": "execute_result"
    }
   ],
   "source": [
    "transformed_corpus.get_utterance('4325-0').user.meta"
   ]
  },
  {
   "cell_type": "markdown",
   "metadata": {},
   "source": [
    "# Running Statistics on Utterance-Level"
   ]
  },
  {
   "cell_type": "code",
   "execution_count": 17,
   "metadata": {},
   "outputs": [
    {
     "name": "stdout",
     "output_type": "stream",
     "text": [
      "male_speaking:  92248\n",
      "pct male utterances that were romantic:  0.027588674009192612\n",
      "male_speaking_about_female:  0\n",
      "male_speaking_about_female_romantic:  0\n",
      "male_speaking_not_about_female:  221616\n",
      "\n",
      "\n",
      "female_speaking:  129368\n",
      "pct female utterances that were romantic:  0.03471492177354524\n",
      "female_speaking_about_male:  0\n",
      "female_speaking_about_male_romantic:  0\n",
      "female_speaking_not_about_male:  221616\n",
      "\n",
      "\n",
      "romantic:  7036\n",
      "pct romantic:  0.03174861020864919\n",
      "not_romantic:  214580\n"
     ]
    }
   ],
   "source": [
    "male_speaking = 0\n",
    "male_speaking_romantic = 0\n",
    "male_speaking_about_female = 0\n",
    "male_speaking_about_female_romantic = 0\n",
    "\n",
    "male_speaking_not_about_female = 0\n",
    "\n",
    "female_speaking = 0\n",
    "female_speaking_romantic = 0\n",
    "female_speaking_about_male = 0\n",
    "female_speaking_about_male_romantic = 0\n",
    "\n",
    "female_speaking_not_about_male = 0\n",
    "\n",
    "romantic = 0\n",
    "not_romantic = 0\n",
    "\n",
    "\n",
    "utterance_ids = transformed_corpus.get_utterance_ids()\n",
    "\n",
    "for uid in utterance_ids:\n",
    "    utt=transformed_corpus.get_utterance(uid)\n",
    "    \n",
    "    # First get whether it's a male or female speaker\n",
    "    speaker_gender = utt.user.meta['sex']\n",
    "    if speaker_gender == \"MALE\":\n",
    "        male_speaking += 1\n",
    "        # Then check whether he's saying something romantic\n",
    "        if utt.meta['contains_romantic']:\n",
    "            male_speaking_romantic += 1\n",
    "    if speaker_gender == \"FEMALE\":\n",
    "        female_speaking += 1\n",
    "        # Then check whether she's saying something romantic\n",
    "        if utt.meta['contains_romantic']:\n",
    "            female_speaking_romantic += 1\n",
    "            \n",
    "    # Then get whether the utterance is a male speaking about a female:\n",
    "    mf2=utt.meta[\"male_about_female\"]\n",
    "    if mf2:\n",
    "        male_speaking_about_female += 1\n",
    "        # And whether it was romantic\n",
    "        if utt.meta[\"contains_romantic\"]:\n",
    "            male_speaking_about_female_romantic += 1\n",
    "    else:\n",
    "        male_speaking_not_about_female += 1\n",
    "        \n",
    "    # Then get whether the utterance is a female speaking about a male:\n",
    "    fm2=utt.meta[\"female_about_male\"]\n",
    "    if fm2:\n",
    "        female_speaking_about_male += 1\n",
    "        # And whether it was romantic\n",
    "        if utt.meta[\"contains_romantic\"]:\n",
    "            female_speaking_about_male_romantic += 1\n",
    "    else:\n",
    "        female_speaking_not_about_male += 1\n",
    "        \n",
    "    # Then register whether the utt is romantic, period.\n",
    "    rom=utt.meta[\"contains_romantic\"]\n",
    "    if rom:\n",
    "        romantic += 1\n",
    "    else:\n",
    "        not_romantic += 1\n",
    "\n",
    "print('male_speaking: ', male_speaking)\n",
    "print('pct male utterances that were romantic: ', float(male_speaking_romantic) / float(male_speaking))\n",
    "print('male_speaking_about_female: ', male_speaking_about_female)\n",
    "print('male_speaking_about_female_romantic: ', male_speaking_about_female_romantic)\n",
    "\n",
    "# print('pct male utterances about females', float(male_speaking_about_female) / float(male_speaking))\n",
    "# print('pct male utterances about females that are romantic', float(male_speaking_about_female_romantic) / float(male_speaking_about_female))\n",
    "\n",
    "print('male_speaking_not_about_female: ', male_speaking_not_about_female)\n",
    "print('\\n')\n",
    "print('female_speaking: ', female_speaking)\n",
    "print('pct female utterances that were romantic: ', float(female_speaking_romantic) / float(female_speaking))\n",
    "print('female_speaking_about_male: ', female_speaking_about_male)\n",
    "print('female_speaking_about_male_romantic: ', female_speaking_about_male_romantic)\n",
    "\n",
    "# print('pct female utterances about males', float(female_speaking_about_male) / float(female_speaking))\n",
    "# print('pct female utterances about males that are romantic', float(female_speaking_about_male_romantic) / float(female_speaking_about_male))\n",
    "\n",
    "print('female_speaking_not_about_male: ', female_speaking_not_about_male)\n",
    "print('\\n')\n",
    "print('romantic: ', romantic)\n",
    "print('pct romantic: ', float(romantic) / float(len(utterance_ids)))\n",
    "print('not_romantic: ', not_romantic)"
   ]
  },
  {
   "cell_type": "code",
   "execution_count": 18,
   "metadata": {},
   "outputs": [
    {
     "data": {
      "text/plain": [
       "221616"
      ]
     },
     "execution_count": 18,
     "metadata": {},
     "output_type": "execute_result"
    }
   ],
   "source": [
    "len(utterance_ids)"
   ]
  },
  {
   "cell_type": "markdown",
   "metadata": {},
   "source": [
    "# Running Statistics on Conversation-Level"
   ]
  },
  {
   "cell_type": "code",
   "execution_count": 197,
   "metadata": {},
   "outputs": [],
   "source": [
    "convo={}\n",
    "mf=[]\n",
    "fm=[]\n",
    "rom=[]\n",
    "id2=[]\n",
    "total_utt=0\n",
    "utt_count=0\n",
    "utterance_ids = transformed_corpus.get_utterance_ids()\n",
    "current_scene=utterance_ids[0][:11]\n",
    "current_scene2=1\n",
    "for uid in utterance_ids:\n",
    "    utt=transformed_corpus.get_utterance(uid)\n",
    "    if uid[:11]==current_scene:\n",
    "        total_utt=total_utt+1\n",
    "        mf2=utt.meta[\"male_about_female\"]\n",
    "        if mf2==True:\n",
    "            mf.append(mf2)\n",
    "        fm2=utt.meta[\"female_about_male\"]\n",
    "        if fm2==True:\n",
    "            fm.append(fm2)\n",
    "        rom2=utt.meta[\"contains_romantic\"]\n",
    "        if rom2==True:    \n",
    "            rom.append(rom2)\n",
    "    else:\n",
    "        current_scene=uid[:11]\n",
    "        current_scene2=current_scene2+1\n",
    "        mf=[]\n",
    "        fm=[]\n",
    "        rom=[]\n",
    "        total_utt=0\n",
    "    convo[current_scene2] = {'total utterances': total_utt, 'male-female': mf, 'female-male': fm, 'romantic': rom}\n",
    "    "
   ]
  },
  {
   "cell_type": "code",
   "execution_count": 185,
   "metadata": {},
   "outputs": [],
   "source": [
    "#convo.keys()"
   ]
  },
  {
   "cell_type": "code",
   "execution_count": 212,
   "metadata": {},
   "outputs": [],
   "source": [
    "r= [(current_scene2, total_utt, len(convo[current_scene2]['romantic']), len(convo[current_scene2]['male-female']), len(convo[current_scene2]['female-male'])) for current_scene2 in convo.keys()]"
   ]
  },
  {
   "cell_type": "code",
   "execution_count": 213,
   "metadata": {
    "scrolled": true
   },
   "outputs": [
    {
     "name": "stdout",
     "output_type": "stream",
     "text": [
      "      scene  total_utterances  romantic  male-female  female-male\n",
      "0         1                20         6            4            9\n",
      "1         2                20         6            5            9\n",
      "2         3                20         0            0            0\n",
      "3         4                20         0            0            0\n",
      "4         5                20         0            0            2\n",
      "...     ...               ...       ...          ...          ...\n",
      "3094   3095                20         1            0            0\n",
      "3095   3096                20         3            0            0\n",
      "3096   3097                20         2            0            0\n",
      "3097   3098                20         3            0            0\n",
      "3098   3099                20         2            0            0\n",
      "\n",
      "[3099 rows x 5 columns]\n"
     ]
    }
   ],
   "source": [
    "import pandas as pd\n",
    "r=pd.DataFrame.from_dict(r)\n",
    "r.columns=['scene', 'total_utterances', 'romantic', 'male-female', 'female-male']\n",
    "print(r)"
   ]
  },
  {
   "cell_type": "markdown",
   "metadata": {},
   "source": [
    "# Average Number of Romantic Utterances"
   ]
  },
  {
   "cell_type": "code",
   "execution_count": 214,
   "metadata": {},
   "outputs": [
    {
     "name": "stdout",
     "output_type": "stream",
     "text": [
      "[8.092933204259438, 0.0, 170.0]\n"
     ]
    }
   ],
   "source": [
    "def calculate_average(row):\n",
    "    return ((row['romantic'])/(row['total_utterances']))*100\n",
    "\n",
    "r.apply(calculate_average, axis=1)\n",
    "r['avg_rom'] = r.apply(calculate_average, axis=1)\n",
    "\n",
    "avg_rom=[]\n",
    "x= r['avg_rom'].mean()\n",
    "avg_rom.append(x)\n",
    "\n",
    "y= r['avg_rom'].min()\n",
    "avg_rom.append(y)\n",
    "\n",
    "z= r['avg_rom'].max()\n",
    "avg_rom.append(z)\n",
    "\n",
    "\n",
    "print(avg_rom)"
   ]
  },
  {
   "cell_type": "code",
   "execution_count": 215,
   "metadata": {},
   "outputs": [
    {
     "name": "stdout",
     "output_type": "stream",
     "text": [
      "413\n"
     ]
    },
    {
     "ename": "TypeError",
     "evalue": "cannot compare a dtyped [float64] array with a scalar of type [bool]",
     "output_type": "error",
     "traceback": [
      "\u001b[0;31m---------------------------------------------------------------------------\u001b[0m",
      "\u001b[0;31mTypeError\u001b[0m                                 Traceback (most recent call last)",
      "\u001b[0;32m~/.local/lib/python3.6/site-packages/pandas/core/ops/__init__.py\u001b[0m in \u001b[0;36mna_op\u001b[0;34m(x, y)\u001b[0m\n\u001b[1;32m   1253\u001b[0m         \u001b[0;32mtry\u001b[0m\u001b[0;34m:\u001b[0m\u001b[0;34m\u001b[0m\u001b[0;34m\u001b[0m\u001b[0m\n\u001b[0;32m-> 1254\u001b[0;31m             \u001b[0mresult\u001b[0m \u001b[0;34m=\u001b[0m \u001b[0mop\u001b[0m\u001b[0;34m(\u001b[0m\u001b[0mx\u001b[0m\u001b[0;34m,\u001b[0m \u001b[0my\u001b[0m\u001b[0;34m)\u001b[0m\u001b[0;34m\u001b[0m\u001b[0;34m\u001b[0m\u001b[0m\n\u001b[0m\u001b[1;32m   1255\u001b[0m         \u001b[0;32mexcept\u001b[0m \u001b[0mTypeError\u001b[0m\u001b[0;34m:\u001b[0m\u001b[0;34m\u001b[0m\u001b[0;34m\u001b[0m\u001b[0m\n",
      "\u001b[0;31mTypeError\u001b[0m: ufunc 'bitwise_and' not supported for the input types, and the inputs could not be safely coerced to any supported types according to the casting rule ''safe''",
      "\nDuring handling of the above exception, another exception occurred:\n",
      "\u001b[0;31mValueError\u001b[0m                                Traceback (most recent call last)",
      "\u001b[0;32m~/.local/lib/python3.6/site-packages/pandas/core/ops/__init__.py\u001b[0m in \u001b[0;36mna_op\u001b[0;34m(x, y)\u001b[0m\n\u001b[1;32m   1268\u001b[0m                 \u001b[0;32mtry\u001b[0m\u001b[0;34m:\u001b[0m\u001b[0;34m\u001b[0m\u001b[0;34m\u001b[0m\u001b[0m\n\u001b[0;32m-> 1269\u001b[0;31m                     \u001b[0mresult\u001b[0m \u001b[0;34m=\u001b[0m \u001b[0mlibops\u001b[0m\u001b[0;34m.\u001b[0m\u001b[0mscalar_binop\u001b[0m\u001b[0;34m(\u001b[0m\u001b[0mx\u001b[0m\u001b[0;34m,\u001b[0m \u001b[0my\u001b[0m\u001b[0;34m,\u001b[0m \u001b[0mop\u001b[0m\u001b[0;34m)\u001b[0m\u001b[0;34m\u001b[0m\u001b[0;34m\u001b[0m\u001b[0m\n\u001b[0m\u001b[1;32m   1270\u001b[0m                 except (\n",
      "\u001b[0;32mpandas/_libs/ops.pyx\u001b[0m in \u001b[0;36mpandas._libs.ops.scalar_binop\u001b[0;34m()\u001b[0m\n",
      "\u001b[0;31mValueError\u001b[0m: Buffer dtype mismatch, expected 'Python object' but got 'double'",
      "\nDuring handling of the above exception, another exception occurred:\n",
      "\u001b[0;31mTypeError\u001b[0m                                 Traceback (most recent call last)",
      "\u001b[0;32m<ipython-input-215-240530d24574>\u001b[0m in \u001b[0;36m<module>\u001b[0;34m\u001b[0m\n\u001b[1;32m      5\u001b[0m \u001b[0mprint\u001b[0m\u001b[0;34m(\u001b[0m\u001b[0mf_all\u001b[0m\u001b[0;34m)\u001b[0m\u001b[0;34m\u001b[0m\u001b[0;34m\u001b[0m\u001b[0m\n\u001b[1;32m      6\u001b[0m \u001b[0;31m#Total number of female-male only conversations with no romantic\u001b[0m\u001b[0;34m\u001b[0m\u001b[0;34m\u001b[0m\u001b[0;34m\u001b[0m\u001b[0m\n\u001b[0;32m----> 7\u001b[0;31m \u001b[0mf_nr\u001b[0m \u001b[0;34m=\u001b[0m \u001b[0mlen\u001b[0m\u001b[0;34m(\u001b[0m\u001b[0mr\u001b[0m\u001b[0;34m[\u001b[0m\u001b[0;34m(\u001b[0m\u001b[0mr\u001b[0m\u001b[0;34m[\u001b[0m\u001b[0;34m'male-female'\u001b[0m\u001b[0;34m]\u001b[0m\u001b[0;34m==\u001b[0m\u001b[0;36m0\u001b[0m\u001b[0;34m)\u001b[0m \u001b[0;34m&\u001b[0m \u001b[0;34m(\u001b[0m\u001b[0mr\u001b[0m\u001b[0;34m[\u001b[0m\u001b[0;34m'female-male'\u001b[0m\u001b[0;34m]\u001b[0m\u001b[0;34m>=\u001b[0m\u001b[0;36m1\u001b[0m\u001b[0;34m)\u001b[0m\u001b[0;34m]\u001b[0m \u001b[0;34m&\u001b[0m \u001b[0;34m(\u001b[0m\u001b[0mr\u001b[0m\u001b[0;34m[\u001b[0m\u001b[0;34m'romantic'\u001b[0m\u001b[0;34m]\u001b[0m\u001b[0;34m==\u001b[0m\u001b[0;36m0\u001b[0m\u001b[0;34m)\u001b[0m\u001b[0;34m)\u001b[0m\u001b[0;34m\u001b[0m\u001b[0;34m\u001b[0m\u001b[0m\n\u001b[0m\u001b[1;32m      8\u001b[0m \u001b[0mprint\u001b[0m\u001b[0;34m(\u001b[0m\u001b[0mf_nr\u001b[0m\u001b[0;34m)\u001b[0m\u001b[0;34m\u001b[0m\u001b[0;34m\u001b[0m\u001b[0m\n\u001b[1;32m      9\u001b[0m \u001b[0;31m#Total number of female-male only conversations with some romantic\u001b[0m\u001b[0;34m\u001b[0m\u001b[0;34m\u001b[0m\u001b[0;34m\u001b[0m\u001b[0m\n",
      "\u001b[0;32m~/.local/lib/python3.6/site-packages/pandas/core/ops/__init__.py\u001b[0m in \u001b[0;36mf\u001b[0;34m(self, other, axis, level, fill_value)\u001b[0m\n\u001b[1;32m   1497\u001b[0m             \u001b[0mpass_op\u001b[0m \u001b[0;34m=\u001b[0m \u001b[0mop\u001b[0m \u001b[0;32mif\u001b[0m \u001b[0maxis\u001b[0m \u001b[0;32min\u001b[0m \u001b[0;34m[\u001b[0m\u001b[0;36m0\u001b[0m\u001b[0;34m,\u001b[0m \u001b[0;34m\"columns\"\u001b[0m\u001b[0;34m,\u001b[0m \u001b[0;32mNone\u001b[0m\u001b[0;34m]\u001b[0m \u001b[0;32melse\u001b[0m \u001b[0mna_op\u001b[0m\u001b[0;34m\u001b[0m\u001b[0;34m\u001b[0m\u001b[0m\n\u001b[1;32m   1498\u001b[0m             return _combine_series_frame(\n\u001b[0;32m-> 1499\u001b[0;31m                 \u001b[0mself\u001b[0m\u001b[0;34m,\u001b[0m \u001b[0mother\u001b[0m\u001b[0;34m,\u001b[0m \u001b[0mpass_op\u001b[0m\u001b[0;34m,\u001b[0m \u001b[0mfill_value\u001b[0m\u001b[0;34m=\u001b[0m\u001b[0mfill_value\u001b[0m\u001b[0;34m,\u001b[0m \u001b[0maxis\u001b[0m\u001b[0;34m=\u001b[0m\u001b[0maxis\u001b[0m\u001b[0;34m,\u001b[0m \u001b[0mlevel\u001b[0m\u001b[0;34m=\u001b[0m\u001b[0mlevel\u001b[0m\u001b[0;34m\u001b[0m\u001b[0;34m\u001b[0m\u001b[0m\n\u001b[0m\u001b[1;32m   1500\u001b[0m             )\n\u001b[1;32m   1501\u001b[0m         \u001b[0;32melse\u001b[0m\u001b[0;34m:\u001b[0m\u001b[0;34m\u001b[0m\u001b[0;34m\u001b[0m\u001b[0m\n",
      "\u001b[0;32m~/.local/lib/python3.6/site-packages/pandas/core/ops/__init__.py\u001b[0m in \u001b[0;36m_combine_series_frame\u001b[0;34m(self, other, func, fill_value, axis, level)\u001b[0m\n\u001b[1;32m   1386\u001b[0m             \u001b[0;32mreturn\u001b[0m \u001b[0mself\u001b[0m\u001b[0;34m.\u001b[0m\u001b[0m_combine_match_index\u001b[0m\u001b[0;34m(\u001b[0m\u001b[0mother\u001b[0m\u001b[0;34m,\u001b[0m \u001b[0mfunc\u001b[0m\u001b[0;34m,\u001b[0m \u001b[0mlevel\u001b[0m\u001b[0;34m=\u001b[0m\u001b[0mlevel\u001b[0m\u001b[0;34m)\u001b[0m\u001b[0;34m\u001b[0m\u001b[0;34m\u001b[0m\u001b[0m\n\u001b[1;32m   1387\u001b[0m         \u001b[0;32melse\u001b[0m\u001b[0;34m:\u001b[0m\u001b[0;34m\u001b[0m\u001b[0;34m\u001b[0m\u001b[0m\n\u001b[0;32m-> 1388\u001b[0;31m             \u001b[0;32mreturn\u001b[0m \u001b[0mself\u001b[0m\u001b[0;34m.\u001b[0m\u001b[0m_combine_match_columns\u001b[0m\u001b[0;34m(\u001b[0m\u001b[0mother\u001b[0m\u001b[0;34m,\u001b[0m \u001b[0mfunc\u001b[0m\u001b[0;34m,\u001b[0m \u001b[0mlevel\u001b[0m\u001b[0;34m=\u001b[0m\u001b[0mlevel\u001b[0m\u001b[0;34m)\u001b[0m\u001b[0;34m\u001b[0m\u001b[0;34m\u001b[0m\u001b[0m\n\u001b[0m\u001b[1;32m   1389\u001b[0m     \u001b[0;32melse\u001b[0m\u001b[0;34m:\u001b[0m\u001b[0;34m\u001b[0m\u001b[0;34m\u001b[0m\u001b[0m\n\u001b[1;32m   1390\u001b[0m         \u001b[0;32mif\u001b[0m \u001b[0;32mnot\u001b[0m \u001b[0mlen\u001b[0m\u001b[0;34m(\u001b[0m\u001b[0mother\u001b[0m\u001b[0;34m)\u001b[0m\u001b[0;34m:\u001b[0m\u001b[0;34m\u001b[0m\u001b[0;34m\u001b[0m\u001b[0m\n",
      "\u001b[0;32m~/.local/lib/python3.6/site-packages/pandas/core/frame.py\u001b[0m in \u001b[0;36m_combine_match_columns\u001b[0;34m(self, other, func, level)\u001b[0m\n\u001b[1;32m   5397\u001b[0m         \u001b[0mleft\u001b[0m\u001b[0;34m,\u001b[0m \u001b[0mright\u001b[0m \u001b[0;34m=\u001b[0m \u001b[0mself\u001b[0m\u001b[0;34m.\u001b[0m\u001b[0malign\u001b[0m\u001b[0;34m(\u001b[0m\u001b[0mother\u001b[0m\u001b[0;34m,\u001b[0m \u001b[0mjoin\u001b[0m\u001b[0;34m=\u001b[0m\u001b[0;34m\"outer\"\u001b[0m\u001b[0;34m,\u001b[0m \u001b[0maxis\u001b[0m\u001b[0;34m=\u001b[0m\u001b[0;36m1\u001b[0m\u001b[0;34m,\u001b[0m \u001b[0mlevel\u001b[0m\u001b[0;34m=\u001b[0m\u001b[0mlevel\u001b[0m\u001b[0;34m,\u001b[0m \u001b[0mcopy\u001b[0m\u001b[0;34m=\u001b[0m\u001b[0;32mFalse\u001b[0m\u001b[0;34m)\u001b[0m\u001b[0;34m\u001b[0m\u001b[0;34m\u001b[0m\u001b[0m\n\u001b[1;32m   5398\u001b[0m         \u001b[0;32massert\u001b[0m \u001b[0mleft\u001b[0m\u001b[0;34m.\u001b[0m\u001b[0mcolumns\u001b[0m\u001b[0;34m.\u001b[0m\u001b[0mequals\u001b[0m\u001b[0;34m(\u001b[0m\u001b[0mright\u001b[0m\u001b[0;34m.\u001b[0m\u001b[0mindex\u001b[0m\u001b[0;34m)\u001b[0m\u001b[0;34m\u001b[0m\u001b[0;34m\u001b[0m\u001b[0m\n\u001b[0;32m-> 5399\u001b[0;31m         \u001b[0;32mreturn\u001b[0m \u001b[0mops\u001b[0m\u001b[0;34m.\u001b[0m\u001b[0mdispatch_to_series\u001b[0m\u001b[0;34m(\u001b[0m\u001b[0mleft\u001b[0m\u001b[0;34m,\u001b[0m \u001b[0mright\u001b[0m\u001b[0;34m,\u001b[0m \u001b[0mfunc\u001b[0m\u001b[0;34m,\u001b[0m \u001b[0maxis\u001b[0m\u001b[0;34m=\u001b[0m\u001b[0;34m\"columns\"\u001b[0m\u001b[0;34m)\u001b[0m\u001b[0;34m\u001b[0m\u001b[0;34m\u001b[0m\u001b[0m\n\u001b[0m\u001b[1;32m   5400\u001b[0m \u001b[0;34m\u001b[0m\u001b[0m\n\u001b[1;32m   5401\u001b[0m     \u001b[0;32mdef\u001b[0m \u001b[0m_combine_const\u001b[0m\u001b[0;34m(\u001b[0m\u001b[0mself\u001b[0m\u001b[0;34m,\u001b[0m \u001b[0mother\u001b[0m\u001b[0;34m,\u001b[0m \u001b[0mfunc\u001b[0m\u001b[0;34m)\u001b[0m\u001b[0;34m:\u001b[0m\u001b[0;34m\u001b[0m\u001b[0;34m\u001b[0m\u001b[0m\n",
      "\u001b[0;32m~/.local/lib/python3.6/site-packages/pandas/core/ops/__init__.py\u001b[0m in \u001b[0;36mdispatch_to_series\u001b[0;34m(left, right, func, str_rep, axis)\u001b[0m\n\u001b[1;32m    594\u001b[0m         \u001b[0;32mraise\u001b[0m \u001b[0mNotImplementedError\u001b[0m\u001b[0;34m(\u001b[0m\u001b[0mright\u001b[0m\u001b[0;34m)\u001b[0m\u001b[0;34m\u001b[0m\u001b[0;34m\u001b[0m\u001b[0m\n\u001b[1;32m    595\u001b[0m \u001b[0;34m\u001b[0m\u001b[0m\n\u001b[0;32m--> 596\u001b[0;31m     \u001b[0mnew_data\u001b[0m \u001b[0;34m=\u001b[0m \u001b[0mexpressions\u001b[0m\u001b[0;34m.\u001b[0m\u001b[0mevaluate\u001b[0m\u001b[0;34m(\u001b[0m\u001b[0mcolumn_op\u001b[0m\u001b[0;34m,\u001b[0m \u001b[0mstr_rep\u001b[0m\u001b[0;34m,\u001b[0m \u001b[0mleft\u001b[0m\u001b[0;34m,\u001b[0m \u001b[0mright\u001b[0m\u001b[0;34m)\u001b[0m\u001b[0;34m\u001b[0m\u001b[0;34m\u001b[0m\u001b[0m\n\u001b[0m\u001b[1;32m    597\u001b[0m \u001b[0;34m\u001b[0m\u001b[0m\n\u001b[1;32m    598\u001b[0m     \u001b[0mresult\u001b[0m \u001b[0;34m=\u001b[0m \u001b[0mleft\u001b[0m\u001b[0;34m.\u001b[0m\u001b[0m_constructor\u001b[0m\u001b[0;34m(\u001b[0m\u001b[0mnew_data\u001b[0m\u001b[0;34m,\u001b[0m \u001b[0mindex\u001b[0m\u001b[0;34m=\u001b[0m\u001b[0mleft\u001b[0m\u001b[0;34m.\u001b[0m\u001b[0mindex\u001b[0m\u001b[0;34m,\u001b[0m \u001b[0mcopy\u001b[0m\u001b[0;34m=\u001b[0m\u001b[0;32mFalse\u001b[0m\u001b[0;34m)\u001b[0m\u001b[0;34m\u001b[0m\u001b[0;34m\u001b[0m\u001b[0m\n",
      "\u001b[0;32m~/.local/lib/python3.6/site-packages/pandas/core/computation/expressions.py\u001b[0m in \u001b[0;36mevaluate\u001b[0;34m(op, op_str, a, b, use_numexpr, **eval_kwargs)\u001b[0m\n\u001b[1;32m    219\u001b[0m     \u001b[0muse_numexpr\u001b[0m \u001b[0;34m=\u001b[0m \u001b[0muse_numexpr\u001b[0m \u001b[0;32mand\u001b[0m \u001b[0m_bool_arith_check\u001b[0m\u001b[0;34m(\u001b[0m\u001b[0mop_str\u001b[0m\u001b[0;34m,\u001b[0m \u001b[0ma\u001b[0m\u001b[0;34m,\u001b[0m \u001b[0mb\u001b[0m\u001b[0;34m)\u001b[0m\u001b[0;34m\u001b[0m\u001b[0;34m\u001b[0m\u001b[0m\n\u001b[1;32m    220\u001b[0m     \u001b[0;32mif\u001b[0m \u001b[0muse_numexpr\u001b[0m\u001b[0;34m:\u001b[0m\u001b[0;34m\u001b[0m\u001b[0;34m\u001b[0m\u001b[0m\n\u001b[0;32m--> 221\u001b[0;31m         \u001b[0;32mreturn\u001b[0m \u001b[0m_evaluate\u001b[0m\u001b[0;34m(\u001b[0m\u001b[0mop\u001b[0m\u001b[0;34m,\u001b[0m \u001b[0mop_str\u001b[0m\u001b[0;34m,\u001b[0m \u001b[0ma\u001b[0m\u001b[0;34m,\u001b[0m \u001b[0mb\u001b[0m\u001b[0;34m,\u001b[0m \u001b[0;34m**\u001b[0m\u001b[0meval_kwargs\u001b[0m\u001b[0;34m)\u001b[0m\u001b[0;34m\u001b[0m\u001b[0;34m\u001b[0m\u001b[0m\n\u001b[0m\u001b[1;32m    222\u001b[0m     \u001b[0;32mreturn\u001b[0m \u001b[0m_evaluate_standard\u001b[0m\u001b[0;34m(\u001b[0m\u001b[0mop\u001b[0m\u001b[0;34m,\u001b[0m \u001b[0mop_str\u001b[0m\u001b[0;34m,\u001b[0m \u001b[0ma\u001b[0m\u001b[0;34m,\u001b[0m \u001b[0mb\u001b[0m\u001b[0;34m)\u001b[0m\u001b[0;34m\u001b[0m\u001b[0;34m\u001b[0m\u001b[0m\n\u001b[1;32m    223\u001b[0m \u001b[0;34m\u001b[0m\u001b[0m\n",
      "\u001b[0;32m~/.local/lib/python3.6/site-packages/pandas/core/computation/expressions.py\u001b[0m in \u001b[0;36m_evaluate_standard\u001b[0;34m(op, op_str, a, b, **eval_kwargs)\u001b[0m\n\u001b[1;32m     68\u001b[0m         \u001b[0m_store_test_result\u001b[0m\u001b[0;34m(\u001b[0m\u001b[0;32mFalse\u001b[0m\u001b[0;34m)\u001b[0m\u001b[0;34m\u001b[0m\u001b[0;34m\u001b[0m\u001b[0m\n\u001b[1;32m     69\u001b[0m     \u001b[0;32mwith\u001b[0m \u001b[0mnp\u001b[0m\u001b[0;34m.\u001b[0m\u001b[0merrstate\u001b[0m\u001b[0;34m(\u001b[0m\u001b[0mall\u001b[0m\u001b[0;34m=\u001b[0m\u001b[0;34m\"ignore\"\u001b[0m\u001b[0;34m)\u001b[0m\u001b[0;34m:\u001b[0m\u001b[0;34m\u001b[0m\u001b[0;34m\u001b[0m\u001b[0m\n\u001b[0;32m---> 70\u001b[0;31m         \u001b[0;32mreturn\u001b[0m \u001b[0mop\u001b[0m\u001b[0;34m(\u001b[0m\u001b[0ma\u001b[0m\u001b[0;34m,\u001b[0m \u001b[0mb\u001b[0m\u001b[0;34m)\u001b[0m\u001b[0;34m\u001b[0m\u001b[0;34m\u001b[0m\u001b[0m\n\u001b[0m\u001b[1;32m     71\u001b[0m \u001b[0;34m\u001b[0m\u001b[0m\n\u001b[1;32m     72\u001b[0m \u001b[0;34m\u001b[0m\u001b[0m\n",
      "\u001b[0;32m~/.local/lib/python3.6/site-packages/pandas/core/ops/__init__.py\u001b[0m in \u001b[0;36mcolumn_op\u001b[0;34m(a, b)\u001b[0m\n\u001b[1;32m    582\u001b[0m \u001b[0;34m\u001b[0m\u001b[0m\n\u001b[1;32m    583\u001b[0m         \u001b[0;32mdef\u001b[0m \u001b[0mcolumn_op\u001b[0m\u001b[0;34m(\u001b[0m\u001b[0ma\u001b[0m\u001b[0;34m,\u001b[0m \u001b[0mb\u001b[0m\u001b[0;34m)\u001b[0m\u001b[0;34m:\u001b[0m\u001b[0;34m\u001b[0m\u001b[0;34m\u001b[0m\u001b[0m\n\u001b[0;32m--> 584\u001b[0;31m             \u001b[0;32mreturn\u001b[0m \u001b[0;34m{\u001b[0m\u001b[0mi\u001b[0m\u001b[0;34m:\u001b[0m \u001b[0mfunc\u001b[0m\u001b[0;34m(\u001b[0m\u001b[0ma\u001b[0m\u001b[0;34m.\u001b[0m\u001b[0miloc\u001b[0m\u001b[0;34m[\u001b[0m\u001b[0;34m:\u001b[0m\u001b[0;34m,\u001b[0m \u001b[0mi\u001b[0m\u001b[0;34m]\u001b[0m\u001b[0;34m,\u001b[0m \u001b[0mb\u001b[0m\u001b[0;34m.\u001b[0m\u001b[0miloc\u001b[0m\u001b[0;34m[\u001b[0m\u001b[0mi\u001b[0m\u001b[0;34m]\u001b[0m\u001b[0;34m)\u001b[0m \u001b[0;32mfor\u001b[0m \u001b[0mi\u001b[0m \u001b[0;32min\u001b[0m \u001b[0mrange\u001b[0m\u001b[0;34m(\u001b[0m\u001b[0mlen\u001b[0m\u001b[0;34m(\u001b[0m\u001b[0ma\u001b[0m\u001b[0;34m.\u001b[0m\u001b[0mcolumns\u001b[0m\u001b[0;34m)\u001b[0m\u001b[0;34m)\u001b[0m\u001b[0;34m}\u001b[0m\u001b[0;34m\u001b[0m\u001b[0;34m\u001b[0m\u001b[0m\n\u001b[0m\u001b[1;32m    585\u001b[0m \u001b[0;34m\u001b[0m\u001b[0m\n\u001b[1;32m    586\u001b[0m     \u001b[0;32melif\u001b[0m \u001b[0misinstance\u001b[0m\u001b[0;34m(\u001b[0m\u001b[0mright\u001b[0m\u001b[0;34m,\u001b[0m \u001b[0mABCSeries\u001b[0m\u001b[0;34m)\u001b[0m\u001b[0;34m:\u001b[0m\u001b[0;34m\u001b[0m\u001b[0;34m\u001b[0m\u001b[0m\n",
      "\u001b[0;32m~/.local/lib/python3.6/site-packages/pandas/core/ops/__init__.py\u001b[0m in \u001b[0;36m<dictcomp>\u001b[0;34m(.0)\u001b[0m\n\u001b[1;32m    582\u001b[0m \u001b[0;34m\u001b[0m\u001b[0m\n\u001b[1;32m    583\u001b[0m         \u001b[0;32mdef\u001b[0m \u001b[0mcolumn_op\u001b[0m\u001b[0;34m(\u001b[0m\u001b[0ma\u001b[0m\u001b[0;34m,\u001b[0m \u001b[0mb\u001b[0m\u001b[0;34m)\u001b[0m\u001b[0;34m:\u001b[0m\u001b[0;34m\u001b[0m\u001b[0;34m\u001b[0m\u001b[0m\n\u001b[0;32m--> 584\u001b[0;31m             \u001b[0;32mreturn\u001b[0m \u001b[0;34m{\u001b[0m\u001b[0mi\u001b[0m\u001b[0;34m:\u001b[0m \u001b[0mfunc\u001b[0m\u001b[0;34m(\u001b[0m\u001b[0ma\u001b[0m\u001b[0;34m.\u001b[0m\u001b[0miloc\u001b[0m\u001b[0;34m[\u001b[0m\u001b[0;34m:\u001b[0m\u001b[0;34m,\u001b[0m \u001b[0mi\u001b[0m\u001b[0;34m]\u001b[0m\u001b[0;34m,\u001b[0m \u001b[0mb\u001b[0m\u001b[0;34m.\u001b[0m\u001b[0miloc\u001b[0m\u001b[0;34m[\u001b[0m\u001b[0mi\u001b[0m\u001b[0;34m]\u001b[0m\u001b[0;34m)\u001b[0m \u001b[0;32mfor\u001b[0m \u001b[0mi\u001b[0m \u001b[0;32min\u001b[0m \u001b[0mrange\u001b[0m\u001b[0;34m(\u001b[0m\u001b[0mlen\u001b[0m\u001b[0;34m(\u001b[0m\u001b[0ma\u001b[0m\u001b[0;34m.\u001b[0m\u001b[0mcolumns\u001b[0m\u001b[0;34m)\u001b[0m\u001b[0;34m)\u001b[0m\u001b[0;34m}\u001b[0m\u001b[0;34m\u001b[0m\u001b[0;34m\u001b[0m\u001b[0m\n\u001b[0m\u001b[1;32m    585\u001b[0m \u001b[0;34m\u001b[0m\u001b[0m\n\u001b[1;32m    586\u001b[0m     \u001b[0;32melif\u001b[0m \u001b[0misinstance\u001b[0m\u001b[0;34m(\u001b[0m\u001b[0mright\u001b[0m\u001b[0;34m,\u001b[0m \u001b[0mABCSeries\u001b[0m\u001b[0;34m)\u001b[0m\u001b[0;34m:\u001b[0m\u001b[0;34m\u001b[0m\u001b[0;34m\u001b[0m\u001b[0m\n",
      "\u001b[0;32m~/.local/lib/python3.6/site-packages/pandas/core/ops/__init__.py\u001b[0m in \u001b[0;36mwrapper\u001b[0;34m(self, other)\u001b[0m\n\u001b[1;32m   1319\u001b[0m         \u001b[0;31m#   integer dtypes.  Otherwise these are boolean ops\u001b[0m\u001b[0;34m\u001b[0m\u001b[0;34m\u001b[0m\u001b[0;34m\u001b[0m\u001b[0m\n\u001b[1;32m   1320\u001b[0m         \u001b[0mfiller\u001b[0m \u001b[0;34m=\u001b[0m \u001b[0mfill_int\u001b[0m \u001b[0;32mif\u001b[0m \u001b[0mis_self_int_dtype\u001b[0m \u001b[0;32mand\u001b[0m \u001b[0mis_other_int_dtype\u001b[0m \u001b[0;32melse\u001b[0m \u001b[0mfill_bool\u001b[0m\u001b[0;34m\u001b[0m\u001b[0;34m\u001b[0m\u001b[0m\n\u001b[0;32m-> 1321\u001b[0;31m         \u001b[0mres_values\u001b[0m \u001b[0;34m=\u001b[0m \u001b[0mna_op\u001b[0m\u001b[0;34m(\u001b[0m\u001b[0mself\u001b[0m\u001b[0;34m.\u001b[0m\u001b[0mvalues\u001b[0m\u001b[0;34m,\u001b[0m \u001b[0movalues\u001b[0m\u001b[0;34m)\u001b[0m\u001b[0;34m\u001b[0m\u001b[0;34m\u001b[0m\u001b[0m\n\u001b[0m\u001b[1;32m   1322\u001b[0m         \u001b[0munfilled\u001b[0m \u001b[0;34m=\u001b[0m \u001b[0mself\u001b[0m\u001b[0;34m.\u001b[0m\u001b[0m_constructor\u001b[0m\u001b[0;34m(\u001b[0m\u001b[0mres_values\u001b[0m\u001b[0;34m,\u001b[0m \u001b[0mindex\u001b[0m\u001b[0;34m=\u001b[0m\u001b[0mself\u001b[0m\u001b[0;34m.\u001b[0m\u001b[0mindex\u001b[0m\u001b[0;34m,\u001b[0m \u001b[0mname\u001b[0m\u001b[0;34m=\u001b[0m\u001b[0mres_name\u001b[0m\u001b[0;34m)\u001b[0m\u001b[0;34m\u001b[0m\u001b[0;34m\u001b[0m\u001b[0m\n\u001b[1;32m   1323\u001b[0m         \u001b[0mfilled\u001b[0m \u001b[0;34m=\u001b[0m \u001b[0mfiller\u001b[0m\u001b[0;34m(\u001b[0m\u001b[0munfilled\u001b[0m\u001b[0;34m)\u001b[0m\u001b[0;34m\u001b[0m\u001b[0;34m\u001b[0m\u001b[0m\n",
      "\u001b[0;32m~/.local/lib/python3.6/site-packages/pandas/core/ops/__init__.py\u001b[0m in \u001b[0;36mna_op\u001b[0;34m(x, y)\u001b[0m\n\u001b[1;32m   1278\u001b[0m                         \u001b[0;34m\"cannot compare a dtyped [{dtype}] array \"\u001b[0m\u001b[0;34m\u001b[0m\u001b[0;34m\u001b[0m\u001b[0m\n\u001b[1;32m   1279\u001b[0m                         \"with a scalar of type [{typ}]\".format(\n\u001b[0;32m-> 1280\u001b[0;31m                             \u001b[0mdtype\u001b[0m\u001b[0;34m=\u001b[0m\u001b[0mx\u001b[0m\u001b[0;34m.\u001b[0m\u001b[0mdtype\u001b[0m\u001b[0;34m,\u001b[0m \u001b[0mtyp\u001b[0m\u001b[0;34m=\u001b[0m\u001b[0mtype\u001b[0m\u001b[0;34m(\u001b[0m\u001b[0my\u001b[0m\u001b[0;34m)\u001b[0m\u001b[0;34m.\u001b[0m\u001b[0m__name__\u001b[0m\u001b[0;34m\u001b[0m\u001b[0;34m\u001b[0m\u001b[0m\n\u001b[0m\u001b[1;32m   1281\u001b[0m                         )\n\u001b[1;32m   1282\u001b[0m                     )\n",
      "\u001b[0;31mTypeError\u001b[0m: cannot compare a dtyped [float64] array with a scalar of type [bool]"
     ]
    }
   ],
   "source": [
    "#Female \n",
    "\n",
    "#Total number of female-male only conversations\n",
    "f_all = len(r[(r['male-female']==0) & (r['female-male']>=1)]) # (255)\n",
    "print(f_all)\n",
    "#Total number of female-male only conversations with no romantic \n",
    "f_nr = len(r[(r['male-female']==0) & (r['female-male']>=1)] & (r['romantic']==0))\n",
    "print(f_nr)\n",
    "#Total number of female-male only conversations with some romantic\n",
    "f_r = len(r[(r['male-female']==0) & (r['female-male']>=1)] & (r['romantic']>=1))\n",
    "print(f_r)\n",
    "\n",
    "#Male\n",
    "\n",
    "#Total number of male-female only conversations\n",
    "f_all = len(r[(r['female-male']==0) & (r['male-female']>=1)]) # (255)\n",
    "print(f_all)\n",
    "#Total number of male-female only conversations with no romantic \n",
    "f_nr = len(r[(r['female-male']==0) & (r['male-female']>=1)] & (r['romantic']==0))\n",
    "print(f_nr)\n",
    "#Total number of male-female only conversations with some romantic\n",
    "f_r = len(r[(r['female-male']==0) & (r['male-female']>=1)] & (r['romantic']>=1))\n",
    "print(f_r)\n"
   ]
  },
  {
   "cell_type": "code",
   "execution_count": null,
   "metadata": {},
   "outputs": [],
   "source": []
  }
 ],
 "metadata": {
  "colab": {
   "collapsed_sections": [],
   "name": "convert-et397.ipynb",
   "provenance": [],
   "version": "0.3.2"
  },
  "kernelspec": {
   "display_name": "Python 3",
   "language": "python",
   "name": "python3"
  },
  "language_info": {
   "codemirror_mode": {
    "name": "ipython",
    "version": 3
   },
   "file_extension": ".py",
   "mimetype": "text/x-python",
   "name": "python",
   "nbconvert_exporter": "python",
   "pygments_lexer": "ipython3",
   "version": "3.7.4"
  }
 },
 "nbformat": 4,
 "nbformat_minor": 1
}
